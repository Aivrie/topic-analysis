{
 "cells": [
  {
   "cell_type": "code",
   "execution_count": 1,
   "metadata": {},
   "outputs": [
    {
     "name": "stderr",
     "output_type": "stream",
     "text": [
      "Since the GPL-licensed package `unidecode` is not installed, using Python's `unicodedata` package which yields worse results.\n"
     ]
    }
   ],
   "source": [
    "# Import Core library\n",
    "import sys\n",
    "import re, numpy as np, pandas as pd, matplotlib.pyplot as plt, nltk\n",
    "import emoji\n",
    "from pprint import pprint\n",
    "from cleantext import clean\n",
    "from bertopic import BERTopic"
   ]
  },
  {
   "cell_type": "code",
   "execution_count": 2,
   "metadata": {},
   "outputs": [],
   "source": [
    "# Import Dataset\n",
    "df = pd.read_excel('Community306_raw.xlsx')"
   ]
  },
  {
   "cell_type": "code",
   "execution_count": 19,
   "metadata": {},
   "outputs": [
    {
     "data": {
      "text/html": [
       "<div>\n",
       "<style scoped>\n",
       "    .dataframe tbody tr th:only-of-type {\n",
       "        vertical-align: middle;\n",
       "    }\n",
       "\n",
       "    .dataframe tbody tr th {\n",
       "        vertical-align: top;\n",
       "    }\n",
       "\n",
       "    .dataframe thead th {\n",
       "        text-align: right;\n",
       "    }\n",
       "</style>\n",
       "<table border=\"1\" class=\"dataframe\">\n",
       "  <thead>\n",
       "    <tr style=\"text-align: right;\">\n",
       "      <th></th>\n",
       "      <th>Unnamed: 0</th>\n",
       "      <th>id</th>\n",
       "      <th>source_id</th>\n",
       "      <th>created_at</th>\n",
       "      <th>geo_source</th>\n",
       "      <th>truncated</th>\n",
       "      <th>text</th>\n",
       "      <th>text_sentiment</th>\n",
       "      <th>text_toxicity</th>\n",
       "      <th>lang</th>\n",
       "      <th>...</th>\n",
       "      <th>in_reply_to_status_id_str</th>\n",
       "      <th>in_reply_to_user_id_str</th>\n",
       "      <th>in_reply_to_screen_name</th>\n",
       "      <th>entities</th>\n",
       "      <th>possibly_sensitive</th>\n",
       "      <th>coordinates</th>\n",
       "      <th>place</th>\n",
       "      <th>create_year</th>\n",
       "      <th>year</th>\n",
       "      <th>month</th>\n",
       "    </tr>\n",
       "  </thead>\n",
       "  <tbody>\n",
       "    <tr>\n",
       "      <th>0</th>\n",
       "      <td>1</td>\n",
       "      <td>1.346170e+18</td>\n",
       "      <td>18</td>\n",
       "      <td>2021-01-04 19:01:23</td>\n",
       "      <td>1</td>\n",
       "      <td>0</td>\n",
       "      <td>@HHere4trump @sbacon0410 #stopthesteal #stopth...</td>\n",
       "      <td>None</td>\n",
       "      <td>None</td>\n",
       "      <td>und</td>\n",
       "      <td>...</td>\n",
       "      <td>1346156649287987201</td>\n",
       "      <td>None</td>\n",
       "      <td>None</td>\n",
       "      <td>{\"entities\": {\"hashtags\": [{\"end\": 38, \"tag\": ...</td>\n",
       "      <td>0</td>\n",
       "      <td>None</td>\n",
       "      <td>None</td>\n",
       "      <td>2021-01-04 19:01:23</td>\n",
       "      <td>2021</td>\n",
       "      <td>01</td>\n",
       "    </tr>\n",
       "    <tr>\n",
       "      <th>1</th>\n",
       "      <td>3</td>\n",
       "      <td>1.345954e+18</td>\n",
       "      <td>18</td>\n",
       "      <td>2021-01-04 04:45:23</td>\n",
       "      <td>None</td>\n",
       "      <td>0</td>\n",
       "      <td>@RudyGiuliani @CaliConserv1 #StoptheSteal #Sto...</td>\n",
       "      <td>None</td>\n",
       "      <td>None</td>\n",
       "      <td>und</td>\n",
       "      <td>...</td>\n",
       "      <td>1345924505483546624</td>\n",
       "      <td>None</td>\n",
       "      <td>None</td>\n",
       "      <td>{\"entities\": {\"hashtags\": [{\"end\": 41, \"tag\": ...</td>\n",
       "      <td>0</td>\n",
       "      <td>None</td>\n",
       "      <td>None</td>\n",
       "      <td>2021-01-04 04:45:23</td>\n",
       "      <td>2021</td>\n",
       "      <td>01</td>\n",
       "    </tr>\n",
       "    <tr>\n",
       "      <th>2</th>\n",
       "      <td>4</td>\n",
       "      <td>1.345954e+18</td>\n",
       "      <td>18</td>\n",
       "      <td>2021-01-04 04:45:13</td>\n",
       "      <td>None</td>\n",
       "      <td>0</td>\n",
       "      <td>#StoptheSteal #StoptheSteal #StoptheSteal #Sto...</td>\n",
       "      <td>None</td>\n",
       "      <td>None</td>\n",
       "      <td>und</td>\n",
       "      <td>...</td>\n",
       "      <td>None</td>\n",
       "      <td>None</td>\n",
       "      <td>None</td>\n",
       "      <td>{\"entities\": {\"urls\": [{\"end\": 303, \"url\": \"ht...</td>\n",
       "      <td>0</td>\n",
       "      <td>None</td>\n",
       "      <td>None</td>\n",
       "      <td>2021-01-04 04:45:13</td>\n",
       "      <td>2021</td>\n",
       "      <td>01</td>\n",
       "    </tr>\n",
       "    <tr>\n",
       "      <th>3</th>\n",
       "      <td>5</td>\n",
       "      <td>1.345952e+18</td>\n",
       "      <td>18</td>\n",
       "      <td>2021-01-04 04:34:34</td>\n",
       "      <td>None</td>\n",
       "      <td>0</td>\n",
       "      <td>#StoptheSteal #StoptheSteal #StoptheSteal #Sto...</td>\n",
       "      <td>None</td>\n",
       "      <td>None</td>\n",
       "      <td>und</td>\n",
       "      <td>...</td>\n",
       "      <td>None</td>\n",
       "      <td>None</td>\n",
       "      <td>None</td>\n",
       "      <td>{\"entities\": {\"urls\": [{\"end\": 303, \"url\": \"ht...</td>\n",
       "      <td>0</td>\n",
       "      <td>None</td>\n",
       "      <td>None</td>\n",
       "      <td>2021-01-04 04:34:34</td>\n",
       "      <td>2021</td>\n",
       "      <td>01</td>\n",
       "    </tr>\n",
       "    <tr>\n",
       "      <th>4</th>\n",
       "      <td>6</td>\n",
       "      <td>1.345825e+18</td>\n",
       "      <td>18</td>\n",
       "      <td>2021-01-03 20:12:15</td>\n",
       "      <td>None</td>\n",
       "      <td>0</td>\n",
       "      <td>@realDonaldTrump @4Libertyinlaw #StoptheSteal ...</td>\n",
       "      <td>None</td>\n",
       "      <td>None</td>\n",
       "      <td>und</td>\n",
       "      <td>...</td>\n",
       "      <td>1345798202650460162</td>\n",
       "      <td>None</td>\n",
       "      <td>None</td>\n",
       "      <td>{\"entities\": {\"hashtags\": [{\"end\": 45, \"tag\": ...</td>\n",
       "      <td>0</td>\n",
       "      <td>None</td>\n",
       "      <td>None</td>\n",
       "      <td>2021-01-03 20:12:15</td>\n",
       "      <td>2021</td>\n",
       "      <td>01</td>\n",
       "    </tr>\n",
       "  </tbody>\n",
       "</table>\n",
       "<p>5 rows × 29 columns</p>\n",
       "</div>"
      ],
      "text/plain": [
       "   Unnamed: 0            id  source_id          created_at geo_source  \\\n",
       "0           1  1.346170e+18         18 2021-01-04 19:01:23          1   \n",
       "1           3  1.345954e+18         18 2021-01-04 04:45:23       None   \n",
       "2           4  1.345954e+18         18 2021-01-04 04:45:13       None   \n",
       "3           5  1.345952e+18         18 2021-01-04 04:34:34       None   \n",
       "4           6  1.345825e+18         18 2021-01-03 20:12:15       None   \n",
       "\n",
       "   truncated                                               text  \\\n",
       "0          0  @HHere4trump @sbacon0410 #stopthesteal #stopth...   \n",
       "1          0  @RudyGiuliani @CaliConserv1 #StoptheSteal #Sto...   \n",
       "2          0  #StoptheSteal #StoptheSteal #StoptheSteal #Sto...   \n",
       "3          0  #StoptheSteal #StoptheSteal #StoptheSteal #Sto...   \n",
       "4          0  @realDonaldTrump @4Libertyinlaw #StoptheSteal ...   \n",
       "\n",
       "  text_sentiment text_toxicity lang  ...  in_reply_to_status_id_str  \\\n",
       "0           None          None  und  ...        1346156649287987201   \n",
       "1           None          None  und  ...        1345924505483546624   \n",
       "2           None          None  und  ...                       None   \n",
       "3           None          None  und  ...                       None   \n",
       "4           None          None  und  ...        1345798202650460162   \n",
       "\n",
       "   in_reply_to_user_id_str  in_reply_to_screen_name  \\\n",
       "0                     None                     None   \n",
       "1                     None                     None   \n",
       "2                     None                     None   \n",
       "3                     None                     None   \n",
       "4                     None                     None   \n",
       "\n",
       "                                            entities  possibly_sensitive  \\\n",
       "0  {\"entities\": {\"hashtags\": [{\"end\": 38, \"tag\": ...                   0   \n",
       "1  {\"entities\": {\"hashtags\": [{\"end\": 41, \"tag\": ...                   0   \n",
       "2  {\"entities\": {\"urls\": [{\"end\": 303, \"url\": \"ht...                   0   \n",
       "3  {\"entities\": {\"urls\": [{\"end\": 303, \"url\": \"ht...                   0   \n",
       "4  {\"entities\": {\"hashtags\": [{\"end\": 45, \"tag\": ...                   0   \n",
       "\n",
       "   coordinates place         create_year  year month  \n",
       "0         None  None 2021-01-04 19:01:23  2021    01  \n",
       "1         None  None 2021-01-04 04:45:23  2021    01  \n",
       "2         None  None 2021-01-04 04:45:13  2021    01  \n",
       "3         None  None 2021-01-04 04:34:34  2021    01  \n",
       "4         None  None 2021-01-03 20:12:15  2021    01  \n",
       "\n",
       "[5 rows x 29 columns]"
      ]
     },
     "execution_count": 19,
     "metadata": {},
     "output_type": "execute_result"
    }
   ],
   "source": [
    "df.head()"
   ]
  },
  {
   "cell_type": "code",
   "execution_count": 20,
   "metadata": {},
   "outputs": [
    {
     "data": {
      "text/plain": [
       "0    @HHere4trump @sbacon0410 #stopthesteal #stopth...\n",
       "1    @RudyGiuliani @CaliConserv1 #StoptheSteal #Sto...\n",
       "2    #StoptheSteal #StoptheSteal #StoptheSteal #Sto...\n",
       "3    #StoptheSteal #StoptheSteal #StoptheSteal #Sto...\n",
       "4    @realDonaldTrump @4Libertyinlaw #StoptheSteal ...\n",
       "Name: text, dtype: object"
      ]
     },
     "execution_count": 20,
     "metadata": {},
     "output_type": "execute_result"
    }
   ],
   "source": [
    "df['text'].head()"
   ]
  },
  {
   "cell_type": "code",
   "execution_count": 21,
   "metadata": {},
   "outputs": [],
   "source": [
    "df['create_year'] = pd.to_datetime(df.created_at, format='%d/%m/%Y', errors='coerce')\n",
    "df['year'] = pd.to_datetime(df.created_at).dt.strftime('%Y')\n",
    "df['month'] = pd.to_datetime(df.created_at).dt.strftime('%m')"
   ]
  },
  {
   "cell_type": "code",
   "execution_count": 22,
   "metadata": {},
   "outputs": [],
   "source": [
    "start_date = \"15/12/2020\"\n",
    "end_date = \"31/01/2021\"\n",
    "after_start_date = df['create_year'] > start_date\n",
    "before_end_date = df['create_year'] < end_date\n",
    "between_two_dates = after_start_date & before_end_date\n",
    "\n",
    "stream_one = df.loc[between_two_dates]"
   ]
  },
  {
   "cell_type": "code",
   "execution_count": 23,
   "metadata": {},
   "outputs": [
    {
     "data": {
      "text/html": [
       "<div>\n",
       "<style scoped>\n",
       "    .dataframe tbody tr th:only-of-type {\n",
       "        vertical-align: middle;\n",
       "    }\n",
       "\n",
       "    .dataframe tbody tr th {\n",
       "        vertical-align: top;\n",
       "    }\n",
       "\n",
       "    .dataframe thead th {\n",
       "        text-align: right;\n",
       "    }\n",
       "</style>\n",
       "<table border=\"1\" class=\"dataframe\">\n",
       "  <thead>\n",
       "    <tr style=\"text-align: right;\">\n",
       "      <th></th>\n",
       "      <th>Unnamed: 0</th>\n",
       "      <th>id</th>\n",
       "      <th>source_id</th>\n",
       "      <th>created_at</th>\n",
       "      <th>geo_source</th>\n",
       "      <th>truncated</th>\n",
       "      <th>text</th>\n",
       "      <th>text_sentiment</th>\n",
       "      <th>text_toxicity</th>\n",
       "      <th>lang</th>\n",
       "      <th>...</th>\n",
       "      <th>in_reply_to_status_id_str</th>\n",
       "      <th>in_reply_to_user_id_str</th>\n",
       "      <th>in_reply_to_screen_name</th>\n",
       "      <th>entities</th>\n",
       "      <th>possibly_sensitive</th>\n",
       "      <th>coordinates</th>\n",
       "      <th>place</th>\n",
       "      <th>create_year</th>\n",
       "      <th>year</th>\n",
       "      <th>month</th>\n",
       "    </tr>\n",
       "  </thead>\n",
       "  <tbody>\n",
       "    <tr>\n",
       "      <th>0</th>\n",
       "      <td>1</td>\n",
       "      <td>1.346170e+18</td>\n",
       "      <td>18</td>\n",
       "      <td>2021-01-04 19:01:23</td>\n",
       "      <td>1</td>\n",
       "      <td>0</td>\n",
       "      <td>@HHere4trump @sbacon0410 #stopthesteal #stopth...</td>\n",
       "      <td>None</td>\n",
       "      <td>None</td>\n",
       "      <td>und</td>\n",
       "      <td>...</td>\n",
       "      <td>1346156649287987201</td>\n",
       "      <td>None</td>\n",
       "      <td>None</td>\n",
       "      <td>{\"entities\": {\"hashtags\": [{\"end\": 38, \"tag\": ...</td>\n",
       "      <td>0</td>\n",
       "      <td>None</td>\n",
       "      <td>None</td>\n",
       "      <td>2021-01-04 19:01:23</td>\n",
       "      <td>2021</td>\n",
       "      <td>01</td>\n",
       "    </tr>\n",
       "    <tr>\n",
       "      <th>1</th>\n",
       "      <td>3</td>\n",
       "      <td>1.345954e+18</td>\n",
       "      <td>18</td>\n",
       "      <td>2021-01-04 04:45:23</td>\n",
       "      <td>None</td>\n",
       "      <td>0</td>\n",
       "      <td>@RudyGiuliani @CaliConserv1 #StoptheSteal #Sto...</td>\n",
       "      <td>None</td>\n",
       "      <td>None</td>\n",
       "      <td>und</td>\n",
       "      <td>...</td>\n",
       "      <td>1345924505483546624</td>\n",
       "      <td>None</td>\n",
       "      <td>None</td>\n",
       "      <td>{\"entities\": {\"hashtags\": [{\"end\": 41, \"tag\": ...</td>\n",
       "      <td>0</td>\n",
       "      <td>None</td>\n",
       "      <td>None</td>\n",
       "      <td>2021-01-04 04:45:23</td>\n",
       "      <td>2021</td>\n",
       "      <td>01</td>\n",
       "    </tr>\n",
       "    <tr>\n",
       "      <th>2</th>\n",
       "      <td>4</td>\n",
       "      <td>1.345954e+18</td>\n",
       "      <td>18</td>\n",
       "      <td>2021-01-04 04:45:13</td>\n",
       "      <td>None</td>\n",
       "      <td>0</td>\n",
       "      <td>#StoptheSteal #StoptheSteal #StoptheSteal #Sto...</td>\n",
       "      <td>None</td>\n",
       "      <td>None</td>\n",
       "      <td>und</td>\n",
       "      <td>...</td>\n",
       "      <td>None</td>\n",
       "      <td>None</td>\n",
       "      <td>None</td>\n",
       "      <td>{\"entities\": {\"urls\": [{\"end\": 303, \"url\": \"ht...</td>\n",
       "      <td>0</td>\n",
       "      <td>None</td>\n",
       "      <td>None</td>\n",
       "      <td>2021-01-04 04:45:13</td>\n",
       "      <td>2021</td>\n",
       "      <td>01</td>\n",
       "    </tr>\n",
       "    <tr>\n",
       "      <th>3</th>\n",
       "      <td>5</td>\n",
       "      <td>1.345952e+18</td>\n",
       "      <td>18</td>\n",
       "      <td>2021-01-04 04:34:34</td>\n",
       "      <td>None</td>\n",
       "      <td>0</td>\n",
       "      <td>#StoptheSteal #StoptheSteal #StoptheSteal #Sto...</td>\n",
       "      <td>None</td>\n",
       "      <td>None</td>\n",
       "      <td>und</td>\n",
       "      <td>...</td>\n",
       "      <td>None</td>\n",
       "      <td>None</td>\n",
       "      <td>None</td>\n",
       "      <td>{\"entities\": {\"urls\": [{\"end\": 303, \"url\": \"ht...</td>\n",
       "      <td>0</td>\n",
       "      <td>None</td>\n",
       "      <td>None</td>\n",
       "      <td>2021-01-04 04:34:34</td>\n",
       "      <td>2021</td>\n",
       "      <td>01</td>\n",
       "    </tr>\n",
       "    <tr>\n",
       "      <th>4</th>\n",
       "      <td>6</td>\n",
       "      <td>1.345825e+18</td>\n",
       "      <td>18</td>\n",
       "      <td>2021-01-03 20:12:15</td>\n",
       "      <td>None</td>\n",
       "      <td>0</td>\n",
       "      <td>@realDonaldTrump @4Libertyinlaw #StoptheSteal ...</td>\n",
       "      <td>None</td>\n",
       "      <td>None</td>\n",
       "      <td>und</td>\n",
       "      <td>...</td>\n",
       "      <td>1345798202650460162</td>\n",
       "      <td>None</td>\n",
       "      <td>None</td>\n",
       "      <td>{\"entities\": {\"hashtags\": [{\"end\": 45, \"tag\": ...</td>\n",
       "      <td>0</td>\n",
       "      <td>None</td>\n",
       "      <td>None</td>\n",
       "      <td>2021-01-03 20:12:15</td>\n",
       "      <td>2021</td>\n",
       "      <td>01</td>\n",
       "    </tr>\n",
       "  </tbody>\n",
       "</table>\n",
       "<p>5 rows × 29 columns</p>\n",
       "</div>"
      ],
      "text/plain": [
       "   Unnamed: 0            id  source_id          created_at geo_source  \\\n",
       "0           1  1.346170e+18         18 2021-01-04 19:01:23          1   \n",
       "1           3  1.345954e+18         18 2021-01-04 04:45:23       None   \n",
       "2           4  1.345954e+18         18 2021-01-04 04:45:13       None   \n",
       "3           5  1.345952e+18         18 2021-01-04 04:34:34       None   \n",
       "4           6  1.345825e+18         18 2021-01-03 20:12:15       None   \n",
       "\n",
       "   truncated                                               text  \\\n",
       "0          0  @HHere4trump @sbacon0410 #stopthesteal #stopth...   \n",
       "1          0  @RudyGiuliani @CaliConserv1 #StoptheSteal #Sto...   \n",
       "2          0  #StoptheSteal #StoptheSteal #StoptheSteal #Sto...   \n",
       "3          0  #StoptheSteal #StoptheSteal #StoptheSteal #Sto...   \n",
       "4          0  @realDonaldTrump @4Libertyinlaw #StoptheSteal ...   \n",
       "\n",
       "  text_sentiment text_toxicity lang  ...  in_reply_to_status_id_str  \\\n",
       "0           None          None  und  ...        1346156649287987201   \n",
       "1           None          None  und  ...        1345924505483546624   \n",
       "2           None          None  und  ...                       None   \n",
       "3           None          None  und  ...                       None   \n",
       "4           None          None  und  ...        1345798202650460162   \n",
       "\n",
       "   in_reply_to_user_id_str  in_reply_to_screen_name  \\\n",
       "0                     None                     None   \n",
       "1                     None                     None   \n",
       "2                     None                     None   \n",
       "3                     None                     None   \n",
       "4                     None                     None   \n",
       "\n",
       "                                            entities  possibly_sensitive  \\\n",
       "0  {\"entities\": {\"hashtags\": [{\"end\": 38, \"tag\": ...                   0   \n",
       "1  {\"entities\": {\"hashtags\": [{\"end\": 41, \"tag\": ...                   0   \n",
       "2  {\"entities\": {\"urls\": [{\"end\": 303, \"url\": \"ht...                   0   \n",
       "3  {\"entities\": {\"urls\": [{\"end\": 303, \"url\": \"ht...                   0   \n",
       "4  {\"entities\": {\"hashtags\": [{\"end\": 45, \"tag\": ...                   0   \n",
       "\n",
       "   coordinates place         create_year  year month  \n",
       "0         None  None 2021-01-04 19:01:23  2021    01  \n",
       "1         None  None 2021-01-04 04:45:23  2021    01  \n",
       "2         None  None 2021-01-04 04:45:13  2021    01  \n",
       "3         None  None 2021-01-04 04:34:34  2021    01  \n",
       "4         None  None 2021-01-03 20:12:15  2021    01  \n",
       "\n",
       "[5 rows x 29 columns]"
      ]
     },
     "execution_count": 23,
     "metadata": {},
     "output_type": "execute_result"
    }
   ],
   "source": [
    "stream_one.head()"
   ]
  },
  {
   "cell_type": "code",
   "execution_count": 24,
   "metadata": {},
   "outputs": [],
   "source": [
    "# Convert to list\n",
    "data = stream_one['text'].values.tolist()\n",
    "\n",
    "# Make characters lowercase\n",
    "data = [word.lower() for word in data]"
   ]
  },
  {
   "cell_type": "code",
   "execution_count": 25,
   "metadata": {},
   "outputs": [
    {
     "data": {
      "text/plain": [
       "['@hhere4trump @sbacon0410 #stopthesteal #stopthesteal #stopthesteal #stopthesteal #stopthesteal #stopthesteal #stopthesteal #stopthesteal #stopthesteal #stopthesteal #stopthesteal #stopthesteal #stopthesteal #stopthesteal #stopthesteal #stopthesteal #stopthesteal #stopthesteal #stopthesteal #stopthesteal',\n",
       " '@rudygiuliani @caliconserv1 #stopthesteal #stopthesteal #stopthesteal #stopthesteal #stopthesteal #stopthesteal #stopthesteal #stopthesteal #stopthesteal #stopthesteal #stopthesteal #stopthesteal #stopthesteal #stopthesteal #stopthesteal #stopthesteal #stopthesteal #stopthesteal #stopthesteal #stopthesteal',\n",
       " '#stopthesteal #stopthesteal #stopthesteal #stopthesteal #stopthesteal #stopthesteal #stopthesteal #stopthesteal #stopthesteal #stopthesteal #stopthesteal #stopthesteal #stopthesteal #stopthesteal #stopthesteal #stopthesteal #stopthesteal #stopthesteal #stopthesteal #stopthesteal https://t.co/2fgak2rhcd',\n",
       " '#stopthesteal #stopthesteal #stopthesteal #stopthesteal #stopthesteal #stopthesteal #stopthesteal #stopthesteal #stopthesteal #stopthesteal #stopthesteal #stopthesteal #stopthesteal #stopthesteal #stopthesteal #stopthesteal #stopthesteal #stopthesteal #stopthesteal #stopthesteal https://t.co/pgp7qwbzyk',\n",
       " '@realdonaldtrump @4libertyinlaw #stopthesteal #stopthesteal #stopthesteal #stopthesteal #stopthesteal #stopthesteal #stopthesteal #stopthesteal #stopthesteal #stopthesteal #stopthesteal #stopthesteal #stopthesteal #stopthesteal #stopthesteal #stopthesteal #stopthesteal #stopthesteal #stopthesteal #stopthesteal',\n",
       " '#stopthesteal #stopthesteal #stopthesteal #stopthesteal #stopthesteal #stopthesteal #stopthesteal #stopthesteal #stopthesteal #stopthesteal #stopthesteal #stopthesteal #stopthesteal #stopthesteal #stopthesteal #stopthesteal #stopthesteal #stopthesteal #stopthesteal #stopthesteal https://t.co/pc2o17ai06',\n",
       " '@asheborn57 @gatewaypundit #stopthesteal #stopthesteal #stopthesteal #stopthesteal #stopthesteal #stopthesteal #stopthesteal #stopthesteal #stopthesteal #stopthesteal #stopthesteal #stopthesteal #stopthesteal #stopthesteal #stopthesteal #stopthesteal #stopthesteal #stopthesteal #stopthesteal #stopthesteal',\n",
       " '#stopthesteal #stopthesteal #stopthesteal #stopthesteal #stopthesteal #stopthesteal #stopthesteal #stopthesteal #stopthesteal #stopthesteal #stopthesteal #stopthesteal #stopthesteal #stopthesteal #stopthesteal #stopthesteal #stopthesteal #stopthesteal #stopthesteal #stopthesteal https://t.co/lxmsl6mo99',\n",
       " '@gatewaypundit @cantfoolall #stopthesteal #stopthesteal #stopthesteal #stopthesteal #stopthesteal #stopthesteal #stopthesteal #stopthesteal #stopthesteal #stopthesteal #stopthesteal #stopthesteal #stopthesteal #stopthesteal #stopthesteal #stopthesteal #stopthesteal #stopthesteal #stopthesteal #stopthesteal',\n",
       " '#stopthesteal #stopthesteal #stopthesteal #stopthesteal #stopthesteal #stopthesteal #stopthesteal #stopthesteal #stopthesteal #stopthesteal #stopthesteal #stopthesteal #stopthesteal #stopthesteal #stopthesteal #stopthesteal #stopthesteal #stopthesteal #stopthesteal #stopthesteal https://t.co/wnxhjrgqfk',\n",
       " '@realdonaldtrump #stopthesteal #stopthesteal #stopthesteal #stopthesteal #stopthesteal #stopthesteal #stopthesteal #stopthesteal #stopthesteal #stopthesteal #stopthesteal #stopthesteal #stopthesteal #stopthesteal #stopthesteal #stopthesteal #stopthesteal #stopthesteal #stopthesteal #stopthesteal',\n",
       " '#stopthesteal #stopthesteal #stopthesteal #stopthesteal #stopthesteal #stopthesteal #stopthesteal #stopthesteal #stopthesteal #stopthesteal #stopthesteal #stopthesteal #stopthesteal #stopthesteal #stopthesteal #stopthesteal #stopthesteal #stopthesteal #stopthesteal #stopthesteal https://t.co/xntejjqotj',\n",
       " '#stopthesteal\\n#stopthesteal\\n#stopthesteal\\n#stopthesteal\\n#stopthesteal\\n#stopthesteal\\n#stopthesteal\\n#stopthesteal\\n#stopthesteal\\n#stopthesteal\\n#stopthesteal\\n#stopthesteal\\n#stopthesteal\\n#stopthesteal\\n#stopthesteal\\n#stopthesteal\\n#stopthesteal\\n#stopthesteal',\n",
       " '@realdonaldtrump is my @potus \\n\\n#stopthesteal\\n#stopthesteal\\n#stopthesteal\\n#stopthesteal\\n#stopthesteal\\n#stopthesteal\\n#stopthesteal\\n#stopthesteal\\n#stopthesteal',\n",
       " 'rt @beaccorp: @realdonaldtrump is my @potus \\n\\n#stopthesteal\\n#stopthesteal\\n#stopthesteal\\n#stopthesteal\\n#stopthesteal\\n#stopthesteal\\n#stopthes…',\n",
       " 'rt @funnel8900: #stopthesteal #stopthesteal \\n#stopthesteal #stopthesteal \\n#stopthesteal #stopthesteal',\n",
       " '#stopthesteal #stopthesteal \\n#stopthesteal #stopthesteal \\n#stopthesteal #stopthesteal',\n",
       " \"dem can't stop me from screaming...\\n#stopthesteal #stopthesteal #stopthesteal #stopthesteal #stopthesteal #stopthesteal\\n#americafirst #americafirst #americafirst #americafirst #maga #maga #maga #maga #maga https://t.co/jh33cwxdvm\",\n",
       " '#stopthesteal #stopthesteal #stopthesteal #stopthesteal. did i fail to mention #stopthesteal? https://t.co/jbaktrt7zl',\n",
       " '#stopthesteal! @impeachtrumpagain #stopthesteal! @impeachtrumpagain @impeachtrumpagain #stopthesteal! #stopthesteal! #stopthesteal! @impeachtrumpagain  stay away from dc- wed jan 6 2021- let trump\\'s brownshirts do their violent \"protest\" thing alone']"
      ]
     },
     "execution_count": 25,
     "metadata": {},
     "output_type": "execute_result"
    }
   ],
   "source": [
    "data[:20]"
   ]
  },
  {
   "cell_type": "code",
   "execution_count": 39,
   "metadata": {},
   "outputs": [],
   "source": [
    "def get_url_patern():\n",
    "    return re.compile(\n",
    "        r'(https?:\\/\\/(?:www\\.|(?!www))[a-zA-Z0-9][a-zA-Z0-9-]+[a-zA-Z0-9]\\.[^\\s]{2,}|https?:\\/\\/(?:www\\.|(?!www))'\n",
    "        r'[a-zA-Z0-9]\\.[^\\s]{2,}|www\\.[a-zA-Z0-9]\\.[^\\s]{2,})')\n",
    "\n",
    "def get_hashtags_pattern():\n",
    "    return re.compile(r'#\\w*')\n",
    "\n",
    "def get_single_letter_words_pattern():\n",
    "    return re.compile(r'(?<![\\w\\-])\\w(?![\\w\\-])')\n",
    "\n",
    "def get_blank_spaces_pattern():\n",
    "    return re.compile(r'\\s{2,}|\\t')\n",
    "\n",
    "def get_twitter_reserved_words_pattern():\n",
    "    return re.compile(r'(RT|rt|FAV|fav|VIA|via)')\n",
    "\n",
    "def get_mentions_pattern():\n",
    "    return re.compile(r'@\\w*')\n",
    "\n",
    "def process_text(word):\n",
    "  word=re.sub(pattern=get_url_patern(), repl=\"\", string=word)\n",
    "  word=re.sub(pattern=get_mentions_pattern(), repl=\"\", string=word)\n",
    "  word=re.sub(pattern=get_hashtags_pattern(), repl=\"\", string=word)\n",
    "  word=re.sub(pattern=get_twitter_reserved_words_pattern(), repl='', string=word)\n",
    "#   word=re.sub(pattern=get_single_letter_words_pattern(), repl='', string=word)\n",
    "#   word=re.sub(pattern=get_blank_spaces_pattern(), repl=' ', string=word)\n",
    "#   word=re.sub('\\s+', \" \", word)\n",
    "#   word=re.sub(\"\\'\", \"\", word)\n",
    "#   word=re.sub(r'http\\S+', \"\", word)  # remove http links\n",
    "#   word=re.sub(r'bit.ly/\\S+', \"\", word)  # rempve bitly links\n",
    "#   word=word.strip('[link]')  # remove [links]\n",
    "  word=re.sub('(RT\\s@[A-Za-z]+[A-Za-z0-9-_]+)', \"\", word)  # remove retweet\n",
    "  word=re.sub('(@[A-Za-z]+[A-Za-z0-9-_]+)', \"\", word)  # remove tweeted at\n",
    "  word=clean(word, no_emoji=True)\n",
    "#   word =re.sub(r'\\d+', '', word)\n",
    "#   word = word.strip()\n",
    "  return word"
   ]
  },
  {
   "cell_type": "code",
   "execution_count": 42,
   "metadata": {},
   "outputs": [],
   "source": [
    "data = [process_text(word) for word in data]"
   ]
  },
  {
   "cell_type": "code",
   "execution_count": 43,
   "metadata": {},
   "outputs": [],
   "source": [
    "topic_model = BERTopic()\n",
    "topics, probs = topic_model.fit_transform(data)"
   ]
  },
  {
   "cell_type": "code",
   "execution_count": 44,
   "metadata": {},
   "outputs": [
    {
     "data": {
      "text/html": [
       "<div>\n",
       "<style scoped>\n",
       "    .dataframe tbody tr th:only-of-type {\n",
       "        vertical-align: middle;\n",
       "    }\n",
       "\n",
       "    .dataframe tbody tr th {\n",
       "        vertical-align: top;\n",
       "    }\n",
       "\n",
       "    .dataframe thead th {\n",
       "        text-align: right;\n",
       "    }\n",
       "</style>\n",
       "<table border=\"1\" class=\"dataframe\">\n",
       "  <thead>\n",
       "    <tr style=\"text-align: right;\">\n",
       "      <th></th>\n",
       "      <th>Topic</th>\n",
       "      <th>Count</th>\n",
       "      <th>Name</th>\n",
       "    </tr>\n",
       "  </thead>\n",
       "  <tbody>\n",
       "    <tr>\n",
       "      <th>0</th>\n",
       "      <td>-1</td>\n",
       "      <td>14683</td>\n",
       "      <td>-1_he_what_that_be</td>\n",
       "    </tr>\n",
       "    <tr>\n",
       "      <th>1</th>\n",
       "      <td>0</td>\n",
       "      <td>12602</td>\n",
       "      <td>0_awome_hooah_yuge_hello</td>\n",
       "    </tr>\n",
       "    <tr>\n",
       "      <th>2</th>\n",
       "      <td>1</td>\n",
       "      <td>1598</td>\n",
       "      <td>1_note_every__</td>\n",
       "    </tr>\n",
       "    <tr>\n",
       "      <th>3</th>\n",
       "      <td>2</td>\n",
       "      <td>1248</td>\n",
       "      <td>2_cap_location_inciter_minutes</td>\n",
       "    </tr>\n",
       "    <tr>\n",
       "      <th>4</th>\n",
       "      <td>3</td>\n",
       "      <td>1181</td>\n",
       "      <td>3_flight_kicked_wearing_joke</td>\n",
       "    </tr>\n",
       "    <tr>\n",
       "      <th>...</th>\n",
       "      <td>...</td>\n",
       "      <td>...</td>\n",
       "      <td>...</td>\n",
       "    </tr>\n",
       "    <tr>\n",
       "      <th>963</th>\n",
       "      <td>959</td>\n",
       "      <td>10</td>\n",
       "      <td>959_help_ging_ty_please</td>\n",
       "    </tr>\n",
       "    <tr>\n",
       "      <th>962</th>\n",
       "      <td>964</td>\n",
       "      <td>10</td>\n",
       "      <td>964_bye_byebye_goodbye_riddance</td>\n",
       "    </tr>\n",
       "    <tr>\n",
       "      <th>961</th>\n",
       "      <td>965</td>\n",
       "      <td>10</td>\n",
       "      <td>965_fraudulent_deceify_cancel_produced</td>\n",
       "    </tr>\n",
       "    <tr>\n",
       "      <th>959</th>\n",
       "      <td>963</td>\n",
       "      <td>10</td>\n",
       "      <td>963_visits_outmilitary_special_authorised</td>\n",
       "    </tr>\n",
       "    <tr>\n",
       "      <th>968</th>\n",
       "      <td>967</td>\n",
       "      <td>10</td>\n",
       "      <td>967_watching_world_redpilled_empathy</td>\n",
       "    </tr>\n",
       "  </tbody>\n",
       "</table>\n",
       "<p>969 rows × 3 columns</p>\n",
       "</div>"
      ],
      "text/plain": [
       "     Topic  Count                                       Name\n",
       "0       -1  14683                         -1_he_what_that_be\n",
       "1        0  12602                   0_awome_hooah_yuge_hello\n",
       "2        1   1598                             1_note_every__\n",
       "3        2   1248             2_cap_location_inciter_minutes\n",
       "4        3   1181               3_flight_kicked_wearing_joke\n",
       "..     ...    ...                                        ...\n",
       "963    959     10                    959_help_ging_ty_please\n",
       "962    964     10            964_bye_byebye_goodbye_riddance\n",
       "961    965     10     965_fraudulent_deceify_cancel_produced\n",
       "959    963     10  963_visits_outmilitary_special_authorised\n",
       "968    967     10       967_watching_world_redpilled_empathy\n",
       "\n",
       "[969 rows x 3 columns]"
      ]
     },
     "execution_count": 44,
     "metadata": {},
     "output_type": "execute_result"
    }
   ],
   "source": [
    "topic_model.get_topic_info()"
   ]
  },
  {
   "cell_type": "code",
   "execution_count": 45,
   "metadata": {},
   "outputs": [
    {
     "data": {
      "text/plain": [
       "[('awome', 0.6912742820493176),\n",
       " ('hooah', 0.5816118604050453),\n",
       " ('yuge', 0.4840242308167575),\n",
       " ('hello', 0.39357395320454625),\n",
       " ('ron', 0.33634570536793085),\n",
       " ('oh', 0.1738989433247991),\n",
       " ('hey', 0.15427970608475794),\n",
       " ('man', 0.11743627758280287),\n",
       " ('their', 0.042134393673152165),\n",
       " ('that', 0.014966125694695754)]"
      ]
     },
     "execution_count": 45,
     "metadata": {},
     "output_type": "execute_result"
    }
   ],
   "source": [
    "topic_model.get_topic(0)"
   ]
  },
  {
   "cell_type": "code",
   "execution_count": 46,
   "metadata": {},
   "outputs": [
    {
     "data": {
      "text/plain": [
       "[('note', 1.643147404435563),\n",
       " ('every', 0.42864320913535475),\n",
       " ('', 1e-05),\n",
       " ('', 1e-05),\n",
       " ('', 1e-05),\n",
       " ('', 1e-05),\n",
       " ('', 1e-05),\n",
       " ('', 1e-05),\n",
       " ('', 1e-05),\n",
       " ('', 1e-05)]"
      ]
     },
     "execution_count": 46,
     "metadata": {},
     "output_type": "execute_result"
    }
   ],
   "source": [
    "topic_model.get_topic(1)"
   ]
  },
  {
   "cell_type": "code",
   "execution_count": 47,
   "metadata": {},
   "outputs": [
    {
     "data": {
      "text/plain": [
       "[('cap', 0.04520916311789243),\n",
       " ('location', 0.04485752425703519),\n",
       " ('inciter', 0.04450256363692796),\n",
       " ('minutes', 0.044476187067344075),\n",
       " ('tweeted', 0.04392960599910656),\n",
       " ('three', 0.0431227394922374),\n",
       " ('nancy', 0.04308314632032886),\n",
       " ('stormed', 0.042108741038176294),\n",
       " ('terrorists', 0.04134566235916539),\n",
       " ('after', 0.03362789769054032)]"
      ]
     },
     "execution_count": 47,
     "metadata": {},
     "output_type": "execute_result"
    }
   ],
   "source": [
    "topic_model.get_topic(2)"
   ]
  },
  {
   "cell_type": "code",
   "execution_count": 48,
   "metadata": {},
   "outputs": [
    {
     "data": {
      "text/plain": [
       "[('flight', 0.02961639225602412),\n",
       " ('kicked', 0.0296107115177797),\n",
       " ('wearing', 0.029498344367083373),\n",
       " ('joke', 0.028150581756905175),\n",
       " ('mask', 0.027669616559395822),\n",
       " ('suppoer', 0.02646867824331035),\n",
       " ('made', 0.02564814124999657),\n",
       " ('she', 0.023977157884988814),\n",
       " ('off', 0.02321231408252666),\n",
       " ('got', 0.022619733941439436)]"
      ]
     },
     "execution_count": 48,
     "metadata": {},
     "output_type": "execute_result"
    }
   ],
   "source": [
    "topic_model.get_topic(3)"
   ]
  },
  {
   "cell_type": "code",
   "execution_count": 49,
   "metadata": {},
   "outputs": [
    {
     "data": {
      "text/plain": [
       "[('prerally', 0.06937586993053489),\n",
       " ('plaza', 0.06695246199741428),\n",
       " ('freedom', 0.05254254146269504),\n",
       " ('coalition', 0.04547502443109604),\n",
       " ('live', 0.03156073513633657),\n",
       " ('now', 0.022429141002735437),\n",
       " ('at', 0.01451769476215901),\n",
       " ('dc', 0.013184112747835972),\n",
       " ('in', 0.006617577691502449),\n",
       " ('ve', 0.0006751588457546932)]"
      ]
     },
     "execution_count": 49,
     "metadata": {},
     "output_type": "execute_result"
    }
   ],
   "source": [
    "topic_model.get_topic(4)"
   ]
  },
  {
   "cell_type": "code",
   "execution_count": 25,
   "metadata": {},
   "outputs": [
    {
     "data": {
      "text/plain": [
       "[('diot', 0.8623393167912485),\n",
       " ('hooah', 0.7252647969221329),\n",
       " ('cymi', 0.6616631030905615),\n",
       " ('sickening', 0.5176435785524879),\n",
       " ('hello', 0.4902466670351643),\n",
       " ('desperate', 0.26834738748387604),\n",
       " ('cou', 0.1859258891833013),\n",
       " ('you', 0.008560844086377969),\n",
       " ('', 1e-05),\n",
       " ('', 1e-05)]"
      ]
     },
     "execution_count": 25,
     "metadata": {},
     "output_type": "execute_result"
    }
   ],
   "source": [
    "topic_model.get_topic(0)"
   ]
  },
  {
   "cell_type": "code",
   "execution_count": 50,
   "metadata": {},
   "outputs": [
    {
     "data": {
      "application/vnd.plotly.v1+json": {
       "config": {
        "plotlyServerURL": "https://plot.ly"
       },
       "data": [
        {
         "marker": {
          "color": "#D55E00"
         },
         "orientation": "h",
         "type": "bar",
         "x": [
          0.33634570536793085,
          0.39357395320454625,
          0.4840242308167575,
          0.5816118604050453,
          0.6912742820493176
         ],
         "xaxis": "x",
         "y": [
          "ron  ",
          "hello  ",
          "yuge  ",
          "hooah  ",
          "awome  "
         ],
         "yaxis": "y"
        },
        {
         "marker": {
          "color": "#0072B2"
         },
         "orientation": "h",
         "type": "bar",
         "x": [
          0.00001,
          0.00001,
          0.00001,
          0.42864320913535475,
          1.643147404435563
         ],
         "xaxis": "x2",
         "y": [
          "  ",
          "  ",
          "  ",
          "every  ",
          "note  "
         ],
         "yaxis": "y2"
        },
        {
         "marker": {
          "color": "#CC79A7"
         },
         "orientation": "h",
         "type": "bar",
         "x": [
          0.04392960599910656,
          0.044476187067344075,
          0.04450256363692796,
          0.04485752425703519,
          0.04520916311789243
         ],
         "xaxis": "x3",
         "y": [
          "tweeted  ",
          "minutes  ",
          "inciter  ",
          "location  ",
          "cap  "
         ],
         "yaxis": "y3"
        },
        {
         "marker": {
          "color": "#E69F00"
         },
         "orientation": "h",
         "type": "bar",
         "x": [
          0.027669616559395822,
          0.028150581756905175,
          0.029498344367083373,
          0.0296107115177797,
          0.02961639225602412
         ],
         "xaxis": "x4",
         "y": [
          "mask  ",
          "joke  ",
          "wearing  ",
          "kicked  ",
          "flight  "
         ],
         "yaxis": "y4"
        },
        {
         "marker": {
          "color": "#56B4E9"
         },
         "orientation": "h",
         "type": "bar",
         "x": [
          0.03156073513633657,
          0.04547502443109604,
          0.05254254146269504,
          0.06695246199741428,
          0.06937586993053489
         ],
         "xaxis": "x5",
         "y": [
          "live  ",
          "coalition  ",
          "freedom  ",
          "plaza  ",
          "prerally  "
         ],
         "yaxis": "y5"
        },
        {
         "marker": {
          "color": "#009E73"
         },
         "orientation": "h",
         "type": "bar",
         "x": [
          0.035220922895092,
          0.035566764653453,
          0.0360989590209551,
          0.03622812081055193,
          0.03927388711574603
         ],
         "xaxis": "x6",
         "y": [
          "black  ",
          "lives  ",
          "refused  ",
          "idiot  ",
          "matte  "
         ],
         "yaxis": "y6"
        },
        {
         "marker": {
          "color": "#F0E442"
         },
         "orientation": "h",
         "type": "bar",
         "x": [
          0.02993225138939151,
          0.6096649447346323,
          0.7871479064090925,
          0.9446893853824929,
          1.3825485640986352
         ],
         "xaxis": "x7",
         "y": [
          "that  ",
          "ale  ",
          "hello  ",
          "copy  ",
          "preposterous  "
         ],
         "yaxis": "y7"
        },
        {
         "marker": {
          "color": "#D55E00"
         },
         "orientation": "h",
         "type": "bar",
         "x": [
          0.034191231264183844,
          0.0353968045355156,
          0.04028465169049362,
          0.04076868260322236,
          0.04105082295970283
         ],
         "xaxis": "x8",
         "y": [
          "event  ",
          "asked  ",
          "combat  ",
          "vet  ",
          "supp  "
         ],
         "yaxis": "y8"
        }
       ],
       "layout": {
        "annotations": [
         {
          "font": {
           "size": 16
          },
          "showarrow": false,
          "text": "Topic 0",
          "x": 0.0875,
          "xanchor": "center",
          "xref": "paper",
          "y": 1,
          "yanchor": "bottom",
          "yref": "paper"
         },
         {
          "font": {
           "size": 16
          },
          "showarrow": false,
          "text": "Topic 1",
          "x": 0.36250000000000004,
          "xanchor": "center",
          "xref": "paper",
          "y": 1,
          "yanchor": "bottom",
          "yref": "paper"
         },
         {
          "font": {
           "size": 16
          },
          "showarrow": false,
          "text": "Topic 2",
          "x": 0.6375000000000001,
          "xanchor": "center",
          "xref": "paper",
          "y": 1,
          "yanchor": "bottom",
          "yref": "paper"
         },
         {
          "font": {
           "size": 16
          },
          "showarrow": false,
          "text": "Topic 3",
          "x": 0.9125,
          "xanchor": "center",
          "xref": "paper",
          "y": 1,
          "yanchor": "bottom",
          "yref": "paper"
         },
         {
          "font": {
           "size": 16
          },
          "showarrow": false,
          "text": "Topic 4",
          "x": 0.0875,
          "xanchor": "center",
          "xref": "paper",
          "y": 0.4,
          "yanchor": "bottom",
          "yref": "paper"
         },
         {
          "font": {
           "size": 16
          },
          "showarrow": false,
          "text": "Topic 5",
          "x": 0.36250000000000004,
          "xanchor": "center",
          "xref": "paper",
          "y": 0.4,
          "yanchor": "bottom",
          "yref": "paper"
         },
         {
          "font": {
           "size": 16
          },
          "showarrow": false,
          "text": "Topic 6",
          "x": 0.6375000000000001,
          "xanchor": "center",
          "xref": "paper",
          "y": 0.4,
          "yanchor": "bottom",
          "yref": "paper"
         },
         {
          "font": {
           "size": 16
          },
          "showarrow": false,
          "text": "Topic 7",
          "x": 0.9125,
          "xanchor": "center",
          "xref": "paper",
          "y": 0.4,
          "yanchor": "bottom",
          "yref": "paper"
         }
        ],
        "height": 500,
        "hoverlabel": {
         "bgcolor": "white",
         "font": {
          "family": "Rockwell",
          "size": 16
         }
        },
        "showlegend": false,
        "template": {
         "data": {
          "bar": [
           {
            "error_x": {
             "color": "#2a3f5f"
            },
            "error_y": {
             "color": "#2a3f5f"
            },
            "marker": {
             "line": {
              "color": "white",
              "width": 0.5
             },
             "pattern": {
              "fillmode": "overlay",
              "size": 10,
              "solidity": 0.2
             }
            },
            "type": "bar"
           }
          ],
          "barpolar": [
           {
            "marker": {
             "line": {
              "color": "white",
              "width": 0.5
             },
             "pattern": {
              "fillmode": "overlay",
              "size": 10,
              "solidity": 0.2
             }
            },
            "type": "barpolar"
           }
          ],
          "carpet": [
           {
            "aaxis": {
             "endlinecolor": "#2a3f5f",
             "gridcolor": "#C8D4E3",
             "linecolor": "#C8D4E3",
             "minorgridcolor": "#C8D4E3",
             "startlinecolor": "#2a3f5f"
            },
            "baxis": {
             "endlinecolor": "#2a3f5f",
             "gridcolor": "#C8D4E3",
             "linecolor": "#C8D4E3",
             "minorgridcolor": "#C8D4E3",
             "startlinecolor": "#2a3f5f"
            },
            "type": "carpet"
           }
          ],
          "choropleth": [
           {
            "colorbar": {
             "outlinewidth": 0,
             "ticks": ""
            },
            "type": "choropleth"
           }
          ],
          "contour": [
           {
            "colorbar": {
             "outlinewidth": 0,
             "ticks": ""
            },
            "colorscale": [
             [
              0,
              "#0d0887"
             ],
             [
              0.1111111111111111,
              "#46039f"
             ],
             [
              0.2222222222222222,
              "#7201a8"
             ],
             [
              0.3333333333333333,
              "#9c179e"
             ],
             [
              0.4444444444444444,
              "#bd3786"
             ],
             [
              0.5555555555555556,
              "#d8576b"
             ],
             [
              0.6666666666666666,
              "#ed7953"
             ],
             [
              0.7777777777777778,
              "#fb9f3a"
             ],
             [
              0.8888888888888888,
              "#fdca26"
             ],
             [
              1,
              "#f0f921"
             ]
            ],
            "type": "contour"
           }
          ],
          "contourcarpet": [
           {
            "colorbar": {
             "outlinewidth": 0,
             "ticks": ""
            },
            "type": "contourcarpet"
           }
          ],
          "heatmap": [
           {
            "colorbar": {
             "outlinewidth": 0,
             "ticks": ""
            },
            "colorscale": [
             [
              0,
              "#0d0887"
             ],
             [
              0.1111111111111111,
              "#46039f"
             ],
             [
              0.2222222222222222,
              "#7201a8"
             ],
             [
              0.3333333333333333,
              "#9c179e"
             ],
             [
              0.4444444444444444,
              "#bd3786"
             ],
             [
              0.5555555555555556,
              "#d8576b"
             ],
             [
              0.6666666666666666,
              "#ed7953"
             ],
             [
              0.7777777777777778,
              "#fb9f3a"
             ],
             [
              0.8888888888888888,
              "#fdca26"
             ],
             [
              1,
              "#f0f921"
             ]
            ],
            "type": "heatmap"
           }
          ],
          "heatmapgl": [
           {
            "colorbar": {
             "outlinewidth": 0,
             "ticks": ""
            },
            "colorscale": [
             [
              0,
              "#0d0887"
             ],
             [
              0.1111111111111111,
              "#46039f"
             ],
             [
              0.2222222222222222,
              "#7201a8"
             ],
             [
              0.3333333333333333,
              "#9c179e"
             ],
             [
              0.4444444444444444,
              "#bd3786"
             ],
             [
              0.5555555555555556,
              "#d8576b"
             ],
             [
              0.6666666666666666,
              "#ed7953"
             ],
             [
              0.7777777777777778,
              "#fb9f3a"
             ],
             [
              0.8888888888888888,
              "#fdca26"
             ],
             [
              1,
              "#f0f921"
             ]
            ],
            "type": "heatmapgl"
           }
          ],
          "histogram": [
           {
            "marker": {
             "pattern": {
              "fillmode": "overlay",
              "size": 10,
              "solidity": 0.2
             }
            },
            "type": "histogram"
           }
          ],
          "histogram2d": [
           {
            "colorbar": {
             "outlinewidth": 0,
             "ticks": ""
            },
            "colorscale": [
             [
              0,
              "#0d0887"
             ],
             [
              0.1111111111111111,
              "#46039f"
             ],
             [
              0.2222222222222222,
              "#7201a8"
             ],
             [
              0.3333333333333333,
              "#9c179e"
             ],
             [
              0.4444444444444444,
              "#bd3786"
             ],
             [
              0.5555555555555556,
              "#d8576b"
             ],
             [
              0.6666666666666666,
              "#ed7953"
             ],
             [
              0.7777777777777778,
              "#fb9f3a"
             ],
             [
              0.8888888888888888,
              "#fdca26"
             ],
             [
              1,
              "#f0f921"
             ]
            ],
            "type": "histogram2d"
           }
          ],
          "histogram2dcontour": [
           {
            "colorbar": {
             "outlinewidth": 0,
             "ticks": ""
            },
            "colorscale": [
             [
              0,
              "#0d0887"
             ],
             [
              0.1111111111111111,
              "#46039f"
             ],
             [
              0.2222222222222222,
              "#7201a8"
             ],
             [
              0.3333333333333333,
              "#9c179e"
             ],
             [
              0.4444444444444444,
              "#bd3786"
             ],
             [
              0.5555555555555556,
              "#d8576b"
             ],
             [
              0.6666666666666666,
              "#ed7953"
             ],
             [
              0.7777777777777778,
              "#fb9f3a"
             ],
             [
              0.8888888888888888,
              "#fdca26"
             ],
             [
              1,
              "#f0f921"
             ]
            ],
            "type": "histogram2dcontour"
           }
          ],
          "mesh3d": [
           {
            "colorbar": {
             "outlinewidth": 0,
             "ticks": ""
            },
            "type": "mesh3d"
           }
          ],
          "parcoords": [
           {
            "line": {
             "colorbar": {
              "outlinewidth": 0,
              "ticks": ""
             }
            },
            "type": "parcoords"
           }
          ],
          "pie": [
           {
            "automargin": true,
            "type": "pie"
           }
          ],
          "scatter": [
           {
            "marker": {
             "colorbar": {
              "outlinewidth": 0,
              "ticks": ""
             }
            },
            "type": "scatter"
           }
          ],
          "scatter3d": [
           {
            "line": {
             "colorbar": {
              "outlinewidth": 0,
              "ticks": ""
             }
            },
            "marker": {
             "colorbar": {
              "outlinewidth": 0,
              "ticks": ""
             }
            },
            "type": "scatter3d"
           }
          ],
          "scattercarpet": [
           {
            "marker": {
             "colorbar": {
              "outlinewidth": 0,
              "ticks": ""
             }
            },
            "type": "scattercarpet"
           }
          ],
          "scattergeo": [
           {
            "marker": {
             "colorbar": {
              "outlinewidth": 0,
              "ticks": ""
             }
            },
            "type": "scattergeo"
           }
          ],
          "scattergl": [
           {
            "marker": {
             "colorbar": {
              "outlinewidth": 0,
              "ticks": ""
             }
            },
            "type": "scattergl"
           }
          ],
          "scattermapbox": [
           {
            "marker": {
             "colorbar": {
              "outlinewidth": 0,
              "ticks": ""
             }
            },
            "type": "scattermapbox"
           }
          ],
          "scatterpolar": [
           {
            "marker": {
             "colorbar": {
              "outlinewidth": 0,
              "ticks": ""
             }
            },
            "type": "scatterpolar"
           }
          ],
          "scatterpolargl": [
           {
            "marker": {
             "colorbar": {
              "outlinewidth": 0,
              "ticks": ""
             }
            },
            "type": "scatterpolargl"
           }
          ],
          "scatterternary": [
           {
            "marker": {
             "colorbar": {
              "outlinewidth": 0,
              "ticks": ""
             }
            },
            "type": "scatterternary"
           }
          ],
          "surface": [
           {
            "colorbar": {
             "outlinewidth": 0,
             "ticks": ""
            },
            "colorscale": [
             [
              0,
              "#0d0887"
             ],
             [
              0.1111111111111111,
              "#46039f"
             ],
             [
              0.2222222222222222,
              "#7201a8"
             ],
             [
              0.3333333333333333,
              "#9c179e"
             ],
             [
              0.4444444444444444,
              "#bd3786"
             ],
             [
              0.5555555555555556,
              "#d8576b"
             ],
             [
              0.6666666666666666,
              "#ed7953"
             ],
             [
              0.7777777777777778,
              "#fb9f3a"
             ],
             [
              0.8888888888888888,
              "#fdca26"
             ],
             [
              1,
              "#f0f921"
             ]
            ],
            "type": "surface"
           }
          ],
          "table": [
           {
            "cells": {
             "fill": {
              "color": "#EBF0F8"
             },
             "line": {
              "color": "white"
             }
            },
            "header": {
             "fill": {
              "color": "#C8D4E3"
             },
             "line": {
              "color": "white"
             }
            },
            "type": "table"
           }
          ]
         },
         "layout": {
          "annotationdefaults": {
           "arrowcolor": "#2a3f5f",
           "arrowhead": 0,
           "arrowwidth": 1
          },
          "autotypenumbers": "strict",
          "coloraxis": {
           "colorbar": {
            "outlinewidth": 0,
            "ticks": ""
           }
          },
          "colorscale": {
           "diverging": [
            [
             0,
             "#8e0152"
            ],
            [
             0.1,
             "#c51b7d"
            ],
            [
             0.2,
             "#de77ae"
            ],
            [
             0.3,
             "#f1b6da"
            ],
            [
             0.4,
             "#fde0ef"
            ],
            [
             0.5,
             "#f7f7f7"
            ],
            [
             0.6,
             "#e6f5d0"
            ],
            [
             0.7,
             "#b8e186"
            ],
            [
             0.8,
             "#7fbc41"
            ],
            [
             0.9,
             "#4d9221"
            ],
            [
             1,
             "#276419"
            ]
           ],
           "sequential": [
            [
             0,
             "#0d0887"
            ],
            [
             0.1111111111111111,
             "#46039f"
            ],
            [
             0.2222222222222222,
             "#7201a8"
            ],
            [
             0.3333333333333333,
             "#9c179e"
            ],
            [
             0.4444444444444444,
             "#bd3786"
            ],
            [
             0.5555555555555556,
             "#d8576b"
            ],
            [
             0.6666666666666666,
             "#ed7953"
            ],
            [
             0.7777777777777778,
             "#fb9f3a"
            ],
            [
             0.8888888888888888,
             "#fdca26"
            ],
            [
             1,
             "#f0f921"
            ]
           ],
           "sequentialminus": [
            [
             0,
             "#0d0887"
            ],
            [
             0.1111111111111111,
             "#46039f"
            ],
            [
             0.2222222222222222,
             "#7201a8"
            ],
            [
             0.3333333333333333,
             "#9c179e"
            ],
            [
             0.4444444444444444,
             "#bd3786"
            ],
            [
             0.5555555555555556,
             "#d8576b"
            ],
            [
             0.6666666666666666,
             "#ed7953"
            ],
            [
             0.7777777777777778,
             "#fb9f3a"
            ],
            [
             0.8888888888888888,
             "#fdca26"
            ],
            [
             1,
             "#f0f921"
            ]
           ]
          },
          "colorway": [
           "#636efa",
           "#EF553B",
           "#00cc96",
           "#ab63fa",
           "#FFA15A",
           "#19d3f3",
           "#FF6692",
           "#B6E880",
           "#FF97FF",
           "#FECB52"
          ],
          "font": {
           "color": "#2a3f5f"
          },
          "geo": {
           "bgcolor": "white",
           "lakecolor": "white",
           "landcolor": "white",
           "showlakes": true,
           "showland": true,
           "subunitcolor": "#C8D4E3"
          },
          "hoverlabel": {
           "align": "left"
          },
          "hovermode": "closest",
          "mapbox": {
           "style": "light"
          },
          "paper_bgcolor": "white",
          "plot_bgcolor": "white",
          "polar": {
           "angularaxis": {
            "gridcolor": "#EBF0F8",
            "linecolor": "#EBF0F8",
            "ticks": ""
           },
           "bgcolor": "white",
           "radialaxis": {
            "gridcolor": "#EBF0F8",
            "linecolor": "#EBF0F8",
            "ticks": ""
           }
          },
          "scene": {
           "xaxis": {
            "backgroundcolor": "white",
            "gridcolor": "#DFE8F3",
            "gridwidth": 2,
            "linecolor": "#EBF0F8",
            "showbackground": true,
            "ticks": "",
            "zerolinecolor": "#EBF0F8"
           },
           "yaxis": {
            "backgroundcolor": "white",
            "gridcolor": "#DFE8F3",
            "gridwidth": 2,
            "linecolor": "#EBF0F8",
            "showbackground": true,
            "ticks": "",
            "zerolinecolor": "#EBF0F8"
           },
           "zaxis": {
            "backgroundcolor": "white",
            "gridcolor": "#DFE8F3",
            "gridwidth": 2,
            "linecolor": "#EBF0F8",
            "showbackground": true,
            "ticks": "",
            "zerolinecolor": "#EBF0F8"
           }
          },
          "shapedefaults": {
           "line": {
            "color": "#2a3f5f"
           }
          },
          "ternary": {
           "aaxis": {
            "gridcolor": "#DFE8F3",
            "linecolor": "#A2B1C6",
            "ticks": ""
           },
           "baxis": {
            "gridcolor": "#DFE8F3",
            "linecolor": "#A2B1C6",
            "ticks": ""
           },
           "bgcolor": "white",
           "caxis": {
            "gridcolor": "#DFE8F3",
            "linecolor": "#A2B1C6",
            "ticks": ""
           }
          },
          "title": {
           "x": 0.05
          },
          "xaxis": {
           "automargin": true,
           "gridcolor": "#EBF0F8",
           "linecolor": "#EBF0F8",
           "ticks": "",
           "title": {
            "standoff": 15
           },
           "zerolinecolor": "#EBF0F8",
           "zerolinewidth": 2
          },
          "yaxis": {
           "automargin": true,
           "gridcolor": "#EBF0F8",
           "linecolor": "#EBF0F8",
           "ticks": "",
           "title": {
            "standoff": 15
           },
           "zerolinecolor": "#EBF0F8",
           "zerolinewidth": 2
          }
         }
        },
        "title": {
         "font": {
          "color": "Black",
          "size": 22
         },
         "text": "<b>Topic Word Scores",
         "x": 0.5,
         "xanchor": "center",
         "yanchor": "top"
        },
        "width": 1000,
        "xaxis": {
         "anchor": "y",
         "domain": [
          0,
          0.175
         ],
         "showgrid": true
        },
        "xaxis2": {
         "anchor": "y2",
         "domain": [
          0.275,
          0.45
         ],
         "showgrid": true
        },
        "xaxis3": {
         "anchor": "y3",
         "domain": [
          0.55,
          0.7250000000000001
         ],
         "showgrid": true
        },
        "xaxis4": {
         "anchor": "y4",
         "domain": [
          0.825,
          1
         ],
         "showgrid": true
        },
        "xaxis5": {
         "anchor": "y5",
         "domain": [
          0,
          0.175
         ],
         "showgrid": true
        },
        "xaxis6": {
         "anchor": "y6",
         "domain": [
          0.275,
          0.45
         ],
         "showgrid": true
        },
        "xaxis7": {
         "anchor": "y7",
         "domain": [
          0.55,
          0.7250000000000001
         ],
         "showgrid": true
        },
        "xaxis8": {
         "anchor": "y8",
         "domain": [
          0.825,
          1
         ],
         "showgrid": true
        },
        "yaxis": {
         "anchor": "x",
         "domain": [
          0.6000000000000001,
          1
         ],
         "showgrid": true
        },
        "yaxis2": {
         "anchor": "x2",
         "domain": [
          0.6000000000000001,
          1
         ],
         "showgrid": true
        },
        "yaxis3": {
         "anchor": "x3",
         "domain": [
          0.6000000000000001,
          1
         ],
         "showgrid": true
        },
        "yaxis4": {
         "anchor": "x4",
         "domain": [
          0.6000000000000001,
          1
         ],
         "showgrid": true
        },
        "yaxis5": {
         "anchor": "x5",
         "domain": [
          0,
          0.4
         ],
         "showgrid": true
        },
        "yaxis6": {
         "anchor": "x6",
         "domain": [
          0,
          0.4
         ],
         "showgrid": true
        },
        "yaxis7": {
         "anchor": "x7",
         "domain": [
          0,
          0.4
         ],
         "showgrid": true
        },
        "yaxis8": {
         "anchor": "x8",
         "domain": [
          0,
          0.4
         ],
         "showgrid": true
        }
       }
      }
     },
     "metadata": {},
     "output_type": "display_data"
    }
   ],
   "source": [
    "topic_model.visualize_barchart()"
   ]
  },
  {
   "cell_type": "code",
   "execution_count": 67,
   "metadata": {},
   "outputs": [
    {
     "data": {
      "text/plain": [
       "[Timestamp('2021-01-04 19:01:23'),\n",
       " Timestamp('2021-01-04 04:45:23'),\n",
       " Timestamp('2021-01-04 04:45:13'),\n",
       " Timestamp('2021-01-04 04:34:34'),\n",
       " Timestamp('2021-01-03 20:12:15')]"
      ]
     },
     "execution_count": 67,
     "metadata": {},
     "output_type": "execute_result"
    }
   ],
   "source": [
    "stream_one['create_year'].head()\n",
    "timestamps = stream_one.create_year.to_list()\n",
    "tweets = data\n",
    "timestamps[:5]"
   ]
  },
  {
   "cell_type": "code",
   "execution_count": 69,
   "metadata": {},
   "outputs": [],
   "source": [
    "topics_over_time = topic_model.topics_over_time(tweets, topics, timestamps, nr_bins=20)"
   ]
  },
  {
   "cell_type": "code",
   "execution_count": 70,
   "metadata": {},
   "outputs": [
    {
     "data": {
      "application/vnd.plotly.v1+json": {
       "config": {
        "plotlyServerURL": "https://plot.ly"
       },
       "data": [
        {
         "hoverinfo": "text",
         "hovertext": [
          "<b>Topic 0</b><br>Words: ron, hey, awome, hooah, yuge",
          "<b>Topic 0</b><br>Words: yuge, awome, hooah, hello, ron",
          "<b>Topic 0</b><br>Words: hooah, hello, awome, yuge, man",
          "<b>Topic 0</b><br>Words: awome, hooah, yuge, hello, ron",
          "<b>Topic 0</b><br>Words: awome, hooah, yuge, hello, ron",
          "<b>Topic 0</b><br>Words: awome, hooah, yuge, hello, ron",
          "<b>Topic 0</b><br>Words: awome, hooah, yuge, hello, ron",
          "<b>Topic 0</b><br>Words: awome, hooah, yuge, hello, ron",
          "<b>Topic 0</b><br>Words: awome, hooah, yuge, hello, ron",
          "<b>Topic 0</b><br>Words: awome, hooah, yuge, hello, ron",
          "<b>Topic 0</b><br>Words: awome, hooah, yuge, hello, ron",
          "<b>Topic 0</b><br>Words: awome, hooah, yuge, hello, ron",
          "<b>Topic 0</b><br>Words: oh, awome, hooah, yuge, hello",
          "<b>Topic 0</b><br>Words: awome, hooah, yuge, hello, ron",
          "<b>Topic 0</b><br>Words: awome, hooah, yuge, hello, ron",
          "<b>Topic 0</b><br>Words: awome, hooah, yuge, hello, ron",
          "<b>Topic 0</b><br>Words: awome, hooah, yuge, hello, ron",
          "<b>Topic 0</b><br>Words: awome, hooah, yuge, hello, ron",
          "<b>Topic 0</b><br>Words: awome, hooah, yuge, hello, ron",
          "<b>Topic 0</b><br>Words: awome, hooah, yuge, hello, ron"
         ],
         "marker": {
          "color": "#E69F00"
         },
         "mode": "lines",
         "name": "0_awome_hooah_yuge_hello",
         "type": "scatter",
         "x": [
          "2020-12-14T22:52:41.798000",
          "2020-12-17T08:23:52.100000",
          "2020-12-19T16:47:22.200000",
          "2020-12-22T01:10:52.300000",
          "2020-12-24T09:34:22.400000",
          "2020-12-26T17:57:52.500000",
          "2020-12-29T02:21:22.600000",
          "2020-12-31T10:44:52.700000",
          "2021-01-02T19:08:22.800000",
          "2021-01-05T03:31:52.900000",
          "2021-01-07T11:55:23",
          "2021-01-09T20:18:53.100000",
          "2021-01-12T04:42:23.200000",
          "2021-01-14T13:05:53.300000",
          "2021-01-16T21:29:23.400000",
          "2021-01-19T05:52:53.500000",
          "2021-01-21T14:16:23.600000",
          "2021-01-23T22:39:53.700000",
          "2021-01-26T07:03:23.800000",
          "2021-01-28T15:26:53.900000"
         ],
         "y": [
          1870,
          1004,
          1213,
          959,
          665,
          779,
          937,
          992,
          1255,
          1553,
          533,
          191,
          211,
          165,
          82,
          59,
          37,
          38,
          30,
          29
         ]
        },
        {
         "hoverinfo": "text",
         "hovertext": [
          "<b>Topic 1</b><br>Words: note, every, , , ",
          "<b>Topic 1</b><br>Words: every, note, , , ",
          "<b>Topic 1</b><br>Words: note, every, , , ",
          "<b>Topic 1</b><br>Words: note, every, , , ",
          "<b>Topic 1</b><br>Words: note, every, , , ",
          "<b>Topic 1</b><br>Words: note, every, , , ",
          "<b>Topic 1</b><br>Words: note, every, , , ",
          "<b>Topic 1</b><br>Words: note, every, , , ",
          "<b>Topic 1</b><br>Words: note, every, , , ",
          "<b>Topic 1</b><br>Words: note, every, , , ",
          "<b>Topic 1</b><br>Words: note, every, , , ",
          "<b>Topic 1</b><br>Words: note, every, , , ",
          "<b>Topic 1</b><br>Words: note, every, , , ",
          "<b>Topic 1</b><br>Words: note, every, , , ",
          "<b>Topic 1</b><br>Words: note, every, , , ",
          "<b>Topic 1</b><br>Words: note, every, , , ",
          "<b>Topic 1</b><br>Words: note, every, , , ",
          "<b>Topic 1</b><br>Words: note, every, , , ",
          "<b>Topic 1</b><br>Words: note, every, , , ",
          "<b>Topic 1</b><br>Words: note, every, , , "
         ],
         "marker": {
          "color": "#56B4E9"
         },
         "mode": "lines",
         "name": "1_note_every__",
         "type": "scatter",
         "x": [
          "2020-12-14T22:52:41.798000",
          "2020-12-17T08:23:52.100000",
          "2020-12-19T16:47:22.200000",
          "2020-12-22T01:10:52.300000",
          "2020-12-24T09:34:22.400000",
          "2020-12-26T17:57:52.500000",
          "2020-12-29T02:21:22.600000",
          "2020-12-31T10:44:52.700000",
          "2021-01-02T19:08:22.800000",
          "2021-01-05T03:31:52.900000",
          "2021-01-07T11:55:23",
          "2021-01-09T20:18:53.100000",
          "2021-01-12T04:42:23.200000",
          "2021-01-14T13:05:53.300000",
          "2021-01-16T21:29:23.400000",
          "2021-01-19T05:52:53.500000",
          "2021-01-21T14:16:23.600000",
          "2021-01-23T22:39:53.700000",
          "2021-01-26T07:03:23.800000",
          "2021-01-28T15:26:53.900000"
         ],
         "y": [
          150,
          127,
          115,
          89,
          29,
          69,
          147,
          100,
          153,
          406,
          58,
          24,
          26,
          61,
          15,
          7,
          10,
          1,
          5,
          6
         ]
        },
        {
         "hoverinfo": "text",
         "hovertext": [
          "<b>Topic 3</b><br>Words: inflatable, sing, pig, fat, fly",
          "<b>Topic 3</b><br>Words: orange, jumpsuit, emoji, wearing, face",
          "<b>Topic 3</b><br>Words: scoffs, masks, weeks, flight, kicked",
          "<b>Topic 3</b><br>Words: roy, sheher, blunt, desk, flight",
          "<b>Topic 3</b><br>Words: kicked, flight, wearing, joke, mask",
          "<b>Topic 3</b><br>Words: wearing, kicked, flight, joke, mask",
          "<b>Topic 3</b><br>Words: kicked, flight, wearing, joke, mask",
          "<b>Topic 3</b><br>Words: shtshow, bulletproof, boyfriend, cudd, vest",
          "<b>Topic 3</b><br>Words: entry, onto, denied, plane, flight",
          "<b>Topic 3</b><br>Words: watkins, uniform, jessica, kicked, flight"
         ],
         "marker": {
          "color": "#009E73"
         },
         "mode": "lines",
         "name": "3_flight_kicked_wearing_joke",
         "type": "scatter",
         "x": [
          "2020-12-14T22:52:41.798000",
          "2020-12-17T08:23:52.100000",
          "2020-12-31T10:44:52.700000",
          "2021-01-02T19:08:22.800000",
          "2021-01-05T03:31:52.900000",
          "2021-01-07T11:55:23",
          "2021-01-09T20:18:53.100000",
          "2021-01-12T04:42:23.200000",
          "2021-01-14T13:05:53.300000",
          "2021-01-16T21:29:23.400000"
         ],
         "y": [
          1,
          1,
          1,
          1,
          1138,
          25,
          9,
          1,
          2,
          2
         ]
        },
        {
         "hoverinfo": "text",
         "hovertext": [
          "<b>Topic 5</b><br>Words: dan, military, cou, white, matte",
          "<b>Topic 5</b><br>Words: matte, idiot, refused, lives, black",
          "<b>Topic 5</b><br>Words: matte, idiot, refused, lives, black"
         ],
         "marker": {
          "color": "#F0E442"
         },
         "mode": "lines",
         "name": "5_matte_idiot_refused_lives",
         "type": "scatter",
         "x": [
          "2020-12-17T08:23:52.100000",
          "2021-01-02T19:08:22.800000",
          "2021-01-05T03:31:52.900000"
         ],
         "y": [
          1,
          845,
          58
         ]
        },
        {
         "hoverinfo": "text",
         "hovertext": [
          "<b>Topic 4</b><br>Words: ose, prerally, plaza, freedom, pretend",
          "<b>Topic 4</b><br>Words: prerally, plaza, freedom, coalition, live",
          "<b>Topic 4</b><br>Words: prerally, plaza, freedom, coalition, live",
          "<b>Topic 4</b><br>Words: prerally, plaza, freedom, coalition, live",
          "<b>Topic 4</b><br>Words: prerally, plaza, freedom, coalition, live",
          "<b>Topic 4</b><br>Words: prerally, plaza, freedom, coalition, live"
         ],
         "marker": {
          "color": "#D55E00"
         },
         "mode": "lines",
         "name": "4_prerally_plaza_freedom_coalition",
         "type": "scatter",
         "x": [
          "2020-12-22T01:10:52.300000",
          "2021-01-05T03:31:52.900000",
          "2021-01-07T11:55:23",
          "2021-01-12T04:42:23.200000",
          "2021-01-14T13:05:53.300000",
          "2021-01-16T21:29:23.400000"
         ],
         "y": [
          1,
          1111,
          1,
          1,
          1,
          1
         ]
        },
        {
         "hoverinfo": "text",
         "hovertext": [
          "<b>Topic 2</b><br>Words: cap, location, inciter, minutes, tweeted",
          "<b>Topic 2</b><br>Words: cap, location, inciter, minutes, tweeted",
          "<b>Topic 2</b><br>Words: cap, location, inciter, minutes, tweeted",
          "<b>Topic 2</b><br>Words: cap, location, inciter, minutes, tweeted",
          "<b>Topic 2</b><br>Words: cap, location, inciter, minutes, tweeted",
          "<b>Topic 2</b><br>Words: cap, location, inciter, minutes, tweeted"
         ],
         "marker": {
          "color": "#0072B2"
         },
         "mode": "lines",
         "name": "2_cap_location_inciter_minutes",
         "type": "scatter",
         "x": [
          "2021-01-09T20:18:53.100000",
          "2021-01-12T04:42:23.200000",
          "2021-01-14T13:05:53.300000",
          "2021-01-16T21:29:23.400000",
          "2021-01-19T05:52:53.500000",
          "2021-01-23T22:39:53.700000"
         ],
         "y": [
          989,
          145,
          87,
          20,
          3,
          4
         ]
        }
       ],
       "layout": {
        "height": 450,
        "hoverlabel": {
         "bgcolor": "white",
         "font": {
          "family": "Rockwell",
          "size": 16
         }
        },
        "legend": {
         "title": {
          "text": "<b>Global Topic Representation"
         }
        },
        "template": {
         "data": {
          "bar": [
           {
            "error_x": {
             "color": "rgb(36,36,36)"
            },
            "error_y": {
             "color": "rgb(36,36,36)"
            },
            "marker": {
             "line": {
              "color": "white",
              "width": 0.5
             },
             "pattern": {
              "fillmode": "overlay",
              "size": 10,
              "solidity": 0.2
             }
            },
            "type": "bar"
           }
          ],
          "barpolar": [
           {
            "marker": {
             "line": {
              "color": "white",
              "width": 0.5
             },
             "pattern": {
              "fillmode": "overlay",
              "size": 10,
              "solidity": 0.2
             }
            },
            "type": "barpolar"
           }
          ],
          "carpet": [
           {
            "aaxis": {
             "endlinecolor": "rgb(36,36,36)",
             "gridcolor": "white",
             "linecolor": "white",
             "minorgridcolor": "white",
             "startlinecolor": "rgb(36,36,36)"
            },
            "baxis": {
             "endlinecolor": "rgb(36,36,36)",
             "gridcolor": "white",
             "linecolor": "white",
             "minorgridcolor": "white",
             "startlinecolor": "rgb(36,36,36)"
            },
            "type": "carpet"
           }
          ],
          "choropleth": [
           {
            "colorbar": {
             "outlinewidth": 1,
             "tickcolor": "rgb(36,36,36)",
             "ticks": "outside"
            },
            "type": "choropleth"
           }
          ],
          "contour": [
           {
            "colorbar": {
             "outlinewidth": 1,
             "tickcolor": "rgb(36,36,36)",
             "ticks": "outside"
            },
            "colorscale": [
             [
              0,
              "#440154"
             ],
             [
              0.1111111111111111,
              "#482878"
             ],
             [
              0.2222222222222222,
              "#3e4989"
             ],
             [
              0.3333333333333333,
              "#31688e"
             ],
             [
              0.4444444444444444,
              "#26828e"
             ],
             [
              0.5555555555555556,
              "#1f9e89"
             ],
             [
              0.6666666666666666,
              "#35b779"
             ],
             [
              0.7777777777777778,
              "#6ece58"
             ],
             [
              0.8888888888888888,
              "#b5de2b"
             ],
             [
              1,
              "#fde725"
             ]
            ],
            "type": "contour"
           }
          ],
          "contourcarpet": [
           {
            "colorbar": {
             "outlinewidth": 1,
             "tickcolor": "rgb(36,36,36)",
             "ticks": "outside"
            },
            "type": "contourcarpet"
           }
          ],
          "heatmap": [
           {
            "colorbar": {
             "outlinewidth": 1,
             "tickcolor": "rgb(36,36,36)",
             "ticks": "outside"
            },
            "colorscale": [
             [
              0,
              "#440154"
             ],
             [
              0.1111111111111111,
              "#482878"
             ],
             [
              0.2222222222222222,
              "#3e4989"
             ],
             [
              0.3333333333333333,
              "#31688e"
             ],
             [
              0.4444444444444444,
              "#26828e"
             ],
             [
              0.5555555555555556,
              "#1f9e89"
             ],
             [
              0.6666666666666666,
              "#35b779"
             ],
             [
              0.7777777777777778,
              "#6ece58"
             ],
             [
              0.8888888888888888,
              "#b5de2b"
             ],
             [
              1,
              "#fde725"
             ]
            ],
            "type": "heatmap"
           }
          ],
          "heatmapgl": [
           {
            "colorbar": {
             "outlinewidth": 1,
             "tickcolor": "rgb(36,36,36)",
             "ticks": "outside"
            },
            "colorscale": [
             [
              0,
              "#440154"
             ],
             [
              0.1111111111111111,
              "#482878"
             ],
             [
              0.2222222222222222,
              "#3e4989"
             ],
             [
              0.3333333333333333,
              "#31688e"
             ],
             [
              0.4444444444444444,
              "#26828e"
             ],
             [
              0.5555555555555556,
              "#1f9e89"
             ],
             [
              0.6666666666666666,
              "#35b779"
             ],
             [
              0.7777777777777778,
              "#6ece58"
             ],
             [
              0.8888888888888888,
              "#b5de2b"
             ],
             [
              1,
              "#fde725"
             ]
            ],
            "type": "heatmapgl"
           }
          ],
          "histogram": [
           {
            "marker": {
             "line": {
              "color": "white",
              "width": 0.6
             }
            },
            "type": "histogram"
           }
          ],
          "histogram2d": [
           {
            "colorbar": {
             "outlinewidth": 1,
             "tickcolor": "rgb(36,36,36)",
             "ticks": "outside"
            },
            "colorscale": [
             [
              0,
              "#440154"
             ],
             [
              0.1111111111111111,
              "#482878"
             ],
             [
              0.2222222222222222,
              "#3e4989"
             ],
             [
              0.3333333333333333,
              "#31688e"
             ],
             [
              0.4444444444444444,
              "#26828e"
             ],
             [
              0.5555555555555556,
              "#1f9e89"
             ],
             [
              0.6666666666666666,
              "#35b779"
             ],
             [
              0.7777777777777778,
              "#6ece58"
             ],
             [
              0.8888888888888888,
              "#b5de2b"
             ],
             [
              1,
              "#fde725"
             ]
            ],
            "type": "histogram2d"
           }
          ],
          "histogram2dcontour": [
           {
            "colorbar": {
             "outlinewidth": 1,
             "tickcolor": "rgb(36,36,36)",
             "ticks": "outside"
            },
            "colorscale": [
             [
              0,
              "#440154"
             ],
             [
              0.1111111111111111,
              "#482878"
             ],
             [
              0.2222222222222222,
              "#3e4989"
             ],
             [
              0.3333333333333333,
              "#31688e"
             ],
             [
              0.4444444444444444,
              "#26828e"
             ],
             [
              0.5555555555555556,
              "#1f9e89"
             ],
             [
              0.6666666666666666,
              "#35b779"
             ],
             [
              0.7777777777777778,
              "#6ece58"
             ],
             [
              0.8888888888888888,
              "#b5de2b"
             ],
             [
              1,
              "#fde725"
             ]
            ],
            "type": "histogram2dcontour"
           }
          ],
          "mesh3d": [
           {
            "colorbar": {
             "outlinewidth": 1,
             "tickcolor": "rgb(36,36,36)",
             "ticks": "outside"
            },
            "type": "mesh3d"
           }
          ],
          "parcoords": [
           {
            "line": {
             "colorbar": {
              "outlinewidth": 1,
              "tickcolor": "rgb(36,36,36)",
              "ticks": "outside"
             }
            },
            "type": "parcoords"
           }
          ],
          "pie": [
           {
            "automargin": true,
            "type": "pie"
           }
          ],
          "scatter": [
           {
            "marker": {
             "colorbar": {
              "outlinewidth": 1,
              "tickcolor": "rgb(36,36,36)",
              "ticks": "outside"
             }
            },
            "type": "scatter"
           }
          ],
          "scatter3d": [
           {
            "line": {
             "colorbar": {
              "outlinewidth": 1,
              "tickcolor": "rgb(36,36,36)",
              "ticks": "outside"
             }
            },
            "marker": {
             "colorbar": {
              "outlinewidth": 1,
              "tickcolor": "rgb(36,36,36)",
              "ticks": "outside"
             }
            },
            "type": "scatter3d"
           }
          ],
          "scattercarpet": [
           {
            "marker": {
             "colorbar": {
              "outlinewidth": 1,
              "tickcolor": "rgb(36,36,36)",
              "ticks": "outside"
             }
            },
            "type": "scattercarpet"
           }
          ],
          "scattergeo": [
           {
            "marker": {
             "colorbar": {
              "outlinewidth": 1,
              "tickcolor": "rgb(36,36,36)",
              "ticks": "outside"
             }
            },
            "type": "scattergeo"
           }
          ],
          "scattergl": [
           {
            "marker": {
             "colorbar": {
              "outlinewidth": 1,
              "tickcolor": "rgb(36,36,36)",
              "ticks": "outside"
             }
            },
            "type": "scattergl"
           }
          ],
          "scattermapbox": [
           {
            "marker": {
             "colorbar": {
              "outlinewidth": 1,
              "tickcolor": "rgb(36,36,36)",
              "ticks": "outside"
             }
            },
            "type": "scattermapbox"
           }
          ],
          "scatterpolar": [
           {
            "marker": {
             "colorbar": {
              "outlinewidth": 1,
              "tickcolor": "rgb(36,36,36)",
              "ticks": "outside"
             }
            },
            "type": "scatterpolar"
           }
          ],
          "scatterpolargl": [
           {
            "marker": {
             "colorbar": {
              "outlinewidth": 1,
              "tickcolor": "rgb(36,36,36)",
              "ticks": "outside"
             }
            },
            "type": "scatterpolargl"
           }
          ],
          "scatterternary": [
           {
            "marker": {
             "colorbar": {
              "outlinewidth": 1,
              "tickcolor": "rgb(36,36,36)",
              "ticks": "outside"
             }
            },
            "type": "scatterternary"
           }
          ],
          "surface": [
           {
            "colorbar": {
             "outlinewidth": 1,
             "tickcolor": "rgb(36,36,36)",
             "ticks": "outside"
            },
            "colorscale": [
             [
              0,
              "#440154"
             ],
             [
              0.1111111111111111,
              "#482878"
             ],
             [
              0.2222222222222222,
              "#3e4989"
             ],
             [
              0.3333333333333333,
              "#31688e"
             ],
             [
              0.4444444444444444,
              "#26828e"
             ],
             [
              0.5555555555555556,
              "#1f9e89"
             ],
             [
              0.6666666666666666,
              "#35b779"
             ],
             [
              0.7777777777777778,
              "#6ece58"
             ],
             [
              0.8888888888888888,
              "#b5de2b"
             ],
             [
              1,
              "#fde725"
             ]
            ],
            "type": "surface"
           }
          ],
          "table": [
           {
            "cells": {
             "fill": {
              "color": "rgb(237,237,237)"
             },
             "line": {
              "color": "white"
             }
            },
            "header": {
             "fill": {
              "color": "rgb(217,217,217)"
             },
             "line": {
              "color": "white"
             }
            },
            "type": "table"
           }
          ]
         },
         "layout": {
          "annotationdefaults": {
           "arrowhead": 0,
           "arrowwidth": 1
          },
          "autotypenumbers": "strict",
          "coloraxis": {
           "colorbar": {
            "outlinewidth": 1,
            "tickcolor": "rgb(36,36,36)",
            "ticks": "outside"
           }
          },
          "colorscale": {
           "diverging": [
            [
             0,
             "rgb(103,0,31)"
            ],
            [
             0.1,
             "rgb(178,24,43)"
            ],
            [
             0.2,
             "rgb(214,96,77)"
            ],
            [
             0.3,
             "rgb(244,165,130)"
            ],
            [
             0.4,
             "rgb(253,219,199)"
            ],
            [
             0.5,
             "rgb(247,247,247)"
            ],
            [
             0.6,
             "rgb(209,229,240)"
            ],
            [
             0.7,
             "rgb(146,197,222)"
            ],
            [
             0.8,
             "rgb(67,147,195)"
            ],
            [
             0.9,
             "rgb(33,102,172)"
            ],
            [
             1,
             "rgb(5,48,97)"
            ]
           ],
           "sequential": [
            [
             0,
             "#440154"
            ],
            [
             0.1111111111111111,
             "#482878"
            ],
            [
             0.2222222222222222,
             "#3e4989"
            ],
            [
             0.3333333333333333,
             "#31688e"
            ],
            [
             0.4444444444444444,
             "#26828e"
            ],
            [
             0.5555555555555556,
             "#1f9e89"
            ],
            [
             0.6666666666666666,
             "#35b779"
            ],
            [
             0.7777777777777778,
             "#6ece58"
            ],
            [
             0.8888888888888888,
             "#b5de2b"
            ],
            [
             1,
             "#fde725"
            ]
           ],
           "sequentialminus": [
            [
             0,
             "#440154"
            ],
            [
             0.1111111111111111,
             "#482878"
            ],
            [
             0.2222222222222222,
             "#3e4989"
            ],
            [
             0.3333333333333333,
             "#31688e"
            ],
            [
             0.4444444444444444,
             "#26828e"
            ],
            [
             0.5555555555555556,
             "#1f9e89"
            ],
            [
             0.6666666666666666,
             "#35b779"
            ],
            [
             0.7777777777777778,
             "#6ece58"
            ],
            [
             0.8888888888888888,
             "#b5de2b"
            ],
            [
             1,
             "#fde725"
            ]
           ]
          },
          "colorway": [
           "#1F77B4",
           "#FF7F0E",
           "#2CA02C",
           "#D62728",
           "#9467BD",
           "#8C564B",
           "#E377C2",
           "#7F7F7F",
           "#BCBD22",
           "#17BECF"
          ],
          "font": {
           "color": "rgb(36,36,36)"
          },
          "geo": {
           "bgcolor": "white",
           "lakecolor": "white",
           "landcolor": "white",
           "showlakes": true,
           "showland": true,
           "subunitcolor": "white"
          },
          "hoverlabel": {
           "align": "left"
          },
          "hovermode": "closest",
          "mapbox": {
           "style": "light"
          },
          "paper_bgcolor": "white",
          "plot_bgcolor": "white",
          "polar": {
           "angularaxis": {
            "gridcolor": "rgb(232,232,232)",
            "linecolor": "rgb(36,36,36)",
            "showgrid": false,
            "showline": true,
            "ticks": "outside"
           },
           "bgcolor": "white",
           "radialaxis": {
            "gridcolor": "rgb(232,232,232)",
            "linecolor": "rgb(36,36,36)",
            "showgrid": false,
            "showline": true,
            "ticks": "outside"
           }
          },
          "scene": {
           "xaxis": {
            "backgroundcolor": "white",
            "gridcolor": "rgb(232,232,232)",
            "gridwidth": 2,
            "linecolor": "rgb(36,36,36)",
            "showbackground": true,
            "showgrid": false,
            "showline": true,
            "ticks": "outside",
            "zeroline": false,
            "zerolinecolor": "rgb(36,36,36)"
           },
           "yaxis": {
            "backgroundcolor": "white",
            "gridcolor": "rgb(232,232,232)",
            "gridwidth": 2,
            "linecolor": "rgb(36,36,36)",
            "showbackground": true,
            "showgrid": false,
            "showline": true,
            "ticks": "outside",
            "zeroline": false,
            "zerolinecolor": "rgb(36,36,36)"
           },
           "zaxis": {
            "backgroundcolor": "white",
            "gridcolor": "rgb(232,232,232)",
            "gridwidth": 2,
            "linecolor": "rgb(36,36,36)",
            "showbackground": true,
            "showgrid": false,
            "showline": true,
            "ticks": "outside",
            "zeroline": false,
            "zerolinecolor": "rgb(36,36,36)"
           }
          },
          "shapedefaults": {
           "fillcolor": "black",
           "line": {
            "width": 0
           },
           "opacity": 0.3
          },
          "ternary": {
           "aaxis": {
            "gridcolor": "rgb(232,232,232)",
            "linecolor": "rgb(36,36,36)",
            "showgrid": false,
            "showline": true,
            "ticks": "outside"
           },
           "baxis": {
            "gridcolor": "rgb(232,232,232)",
            "linecolor": "rgb(36,36,36)",
            "showgrid": false,
            "showline": true,
            "ticks": "outside"
           },
           "bgcolor": "white",
           "caxis": {
            "gridcolor": "rgb(232,232,232)",
            "linecolor": "rgb(36,36,36)",
            "showgrid": false,
            "showline": true,
            "ticks": "outside"
           }
          },
          "title": {
           "x": 0.05
          },
          "xaxis": {
           "automargin": true,
           "gridcolor": "rgb(232,232,232)",
           "linecolor": "rgb(36,36,36)",
           "showgrid": false,
           "showline": true,
           "ticks": "outside",
           "title": {
            "standoff": 15
           },
           "zeroline": false,
           "zerolinecolor": "rgb(36,36,36)"
          },
          "yaxis": {
           "automargin": true,
           "gridcolor": "rgb(232,232,232)",
           "linecolor": "rgb(36,36,36)",
           "showgrid": false,
           "showline": true,
           "ticks": "outside",
           "title": {
            "standoff": 15
           },
           "zeroline": false,
           "zerolinecolor": "rgb(36,36,36)"
          }
         }
        },
        "title": {
         "font": {
          "color": "Black",
          "size": 22
         },
         "text": "<b>Topics over Time",
         "x": 0.4,
         "xanchor": "center",
         "y": 0.95,
         "yanchor": "top"
        },
        "width": 1250,
        "xaxis": {
         "showgrid": true
        },
        "yaxis": {
         "showgrid": true,
         "title": {
          "text": "Frequency"
         }
        }
       }
      }
     },
     "metadata": {},
     "output_type": "display_data"
    }
   ],
   "source": [
    "topic_model.visualize_topics_over_time(topics_over_time, top_n_topics=6)"
   ]
  },
  {
   "cell_type": "code",
   "execution_count": null,
   "metadata": {},
   "outputs": [],
   "source": []
  }
 ],
 "metadata": {
  "interpreter": {
   "hash": "ea65dad64e0f0630949a62e47861d337df55f7557637cdf15bb6aaf05db958e0"
  },
  "kernelspec": {
   "display_name": "Python 3.9.7 64-bit",
   "language": "python",
   "name": "python3"
  },
  "language_info": {
   "codemirror_mode": {
    "name": "ipython",
    "version": 3
   },
   "file_extension": ".py",
   "mimetype": "text/x-python",
   "name": "python",
   "nbconvert_exporter": "python",
   "pygments_lexer": "ipython3",
   "version": "3.9.7"
  },
  "orig_nbformat": 4
 },
 "nbformat": 4,
 "nbformat_minor": 2
}
