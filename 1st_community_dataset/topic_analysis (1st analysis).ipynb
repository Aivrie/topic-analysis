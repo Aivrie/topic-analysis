{
 "cells": [
  {
   "cell_type": "markdown",
   "id": "7ca0515e",
   "metadata": {},
   "source": [
    "### Topic Analysis using LDA Topic Model (Community Dataset #1: 01/09/2020 - 15/12/2020)"
   ]
  },
  {
   "cell_type": "markdown",
   "id": "d4ccec72",
   "metadata": {},
   "source": [
    "#### Import core libraries"
   ]
  },
  {
   "cell_type": "code",
   "execution_count": 1,
   "id": "6b227340",
   "metadata": {},
   "outputs": [
    {
     "name": "stderr",
     "output_type": "stream",
     "text": [
      "Since the GPL-licensed package `unidecode` is not installed, using Python's `unicodedata` package which yields worse results.\n",
      "[nltk_data] Downloading package stopwords to C:\\Users\\Ivory-\n",
      "[nltk_data]     UALR\\AppData\\Roaming\\nltk_data...\n",
      "[nltk_data]   Package stopwords is already up-to-date!\n"
     ]
    }
   ],
   "source": [
    "# Import Core library\n",
    "import sys\n",
    "import re, numpy as np, pandas as pd, matplotlib.pyplot as plt, nltk, datetime as dt, seaborn as sns\n",
    "import emoji\n",
    "import little_mallet_wrapper\n",
    "import plotly.express as px\n",
    "import wordcloud\n",
    "import openpyxl\n",
    "from pprint import pprint\n",
    "from cleantext import clean\n",
    "\n",
    "# Gensim\n",
    "import gensim\n",
    "import gensim.corpora as corpora\n",
    "from gensim.utils import simple_preprocess\n",
    "from gensim.models import CoherenceModel\n",
    "\n",
    "# spacy for lemmatization\n",
    "import spacy\n",
    "\n",
    "# Plotting tools\n",
    "import pyLDAvis\n",
    "import pyLDAvis.gensim_models  # don't skip this\n",
    "import matplotlib.pyplot as plt\n",
    "\n",
    "# NLTK Stop words\n",
    "from nltk.corpus import stopwords\n",
    "nltk.download('stopwords')\n",
    "stop_words = stopwords.words('english')"
   ]
  },
  {
   "cell_type": "markdown",
   "id": "37be7d8d",
   "metadata": {},
   "source": [
    "#### Import Dataset"
   ]
  },
  {
   "cell_type": "code",
   "execution_count": 2,
   "id": "2d753a7a",
   "metadata": {},
   "outputs": [],
   "source": [
    "# Import Dataset\n",
    "df = pd.read_excel('../Community306_raw.xlsx')"
   ]
  },
  {
   "cell_type": "code",
   "execution_count": null,
   "id": "11c18524",
   "metadata": {},
   "outputs": [],
   "source": [
    "# view column titles of dataset\n",
    "df.columns"
   ]
  },
  {
   "cell_type": "code",
   "execution_count": 8,
   "id": "6f46b5d6",
   "metadata": {},
   "outputs": [],
   "source": [
    "df['create_year'] = pd.to_datetime(df.created_at, format='%m/%d/%Y', errors='coerce')\n",
    "df['year'] = pd.to_datetime(df.created_at).dt.strftime('%Y')\n",
    "df['month'] = pd.to_datetime(df.created_at).dt.strftime('%m')\n",
    "\n",
    "start_date = \"09/01/2020\"\n",
    "end_date = \"12/15/2020\"\n",
    "after_start_date = df['create_year'] > start_date\n",
    "before_end_date = df['create_year'] < end_date\n",
    "between_two_dates = after_start_date & before_end_date\n",
    "\n",
    "stream_one = df.loc[between_two_dates]"
   ]
  },
  {
   "cell_type": "code",
   "execution_count": 9,
   "id": "adc318c1",
   "metadata": {},
   "outputs": [],
   "source": [
    "# stream_one.to_excel(r\"C:\\Users\\Ivory-UALR\\Documents\\COSMOS\\Billy's Project\\community_topic_model\\1st_community_dataset_3262022\\1st_analysis_LDAmodel\\stream_one.xlsx\")"
   ]
  },
  {
   "cell_type": "markdown",
   "id": "dbcdf26f",
   "metadata": {},
   "source": [
    "#### Process Dataset"
   ]
  },
  {
   "cell_type": "code",
   "execution_count": 12,
   "id": "4427085e",
   "metadata": {},
   "outputs": [
    {
     "name": "stderr",
     "output_type": "stream",
     "text": [
      "<>:30: DeprecationWarning: invalid escape sequence \\s\n",
      "<>:30: DeprecationWarning: invalid escape sequence \\s\n",
      "C:\\Users\\IVORY-~1\\AppData\\Local\\Temp/ipykernel_20392/758640023.py:30: DeprecationWarning: invalid escape sequence \\s\n",
      "  word=re.sub('(RT\\s@[A-Za-z]+[A-Za-z0-9-_]+)', \"\", word)  # remove retweet\n"
     ]
    }
   ],
   "source": [
    "# Function to remove twitter specific characters\n",
    "def get_url_patern():\n",
    "    return re.compile(\n",
    "        r'(https?:\\/\\/(?:www\\.|(?!www))[a-zA-Z0-9][a-zA-Z0-9-]+[a-zA-Z0-9]\\.[^\\s]{2,}|https?:\\/\\/(?:www\\.|(?!www))'\n",
    "        r'[a-zA-Z0-9]\\.[^\\s]{2,}|www\\.[a-zA-Z0-9]\\.[^\\s]{2,})')\n",
    "\n",
    "def get_hashtags_pattern():\n",
    "    return re.compile(r'#\\w*')\n",
    "\n",
    "def get_single_letter_words_pattern():\n",
    "    return re.compile(r'(?<![\\w\\-])\\w(?![\\w\\-])')\n",
    "\n",
    "def get_blank_spaces_pattern():\n",
    "    return re.compile(r'\\s{2,}|\\t')\n",
    "\n",
    "def get_twitter_reserved_words_pattern():\n",
    "    return re.compile(r'(RT|rt|FAV|fav|VIA|via)')\n",
    "\n",
    "def get_mentions_pattern():\n",
    "    return re.compile(r'@\\w*')\n",
    "\n",
    "def process_text(word):\n",
    "  word=re.sub(pattern=get_url_patern(), repl=\"\", string=word)\n",
    "  word=re.sub(pattern=get_mentions_pattern(), repl=\"\", string=word)\n",
    "  word=re.sub(pattern=get_hashtags_pattern(), repl=\"\", string=word)\n",
    "  word=re.sub(pattern=get_twitter_reserved_words_pattern(), repl='', string=word)\n",
    "  word=re.sub(r'http\\S+', \"\", word)  # remove http links\n",
    "  word=re.sub(r'bit.ly/\\S+', \"\", word)  # rempve bitly links\n",
    "  word=word.strip('[link]')  # remove [links]\n",
    "  word=re.sub('(RT\\s@[A-Za-z]+[A-Za-z0-9-_]+)', \"\", word)  # remove retweet\n",
    "  word=re.sub('(@[A-Za-z]+[A-Za-z0-9-_]+)', \"\", word)  # remove tweeted at\n",
    "  word=word.encode('ascii', 'ignore').decode('ascii')\n",
    "#   word=clean(word, no_emoji=True)\n",
    "  return word"
   ]
  },
  {
   "cell_type": "code",
   "execution_count": null,
   "id": "e40e8144",
   "metadata": {},
   "outputs": [],
   "source": [
    "# Remove twitter specific characters\n",
    "stream_one.text = stream_one.apply(lambda row: process_text(row.text), 1)"
   ]
  },
  {
   "cell_type": "code",
   "execution_count": 22,
   "id": "1169991a",
   "metadata": {},
   "outputs": [
    {
     "data": {
      "text/plain": [
       "['',\n",
       " 'thank service thank joining ranks fight keep freedom vote keeping honest petition government without undue burden public forum twitter applies open social media',\n",
       " 'aliens yes question',\n",
       " 'half people think america woh saving operation get updates stay tuned marching orders',\n",
       " 'god bless wood']"
      ]
     },
     "execution_count": 22,
     "metadata": {},
     "output_type": "execute_result"
    }
   ],
   "source": [
    "# Remove punctuations, stop words, digits and turn text to lowercase\n",
    "training_data = list(set(little_mallet_wrapper.process_string(text, numbers='remove') for text in stream_one.text))\n",
    "data = training_data\n",
    "data[:5]"
   ]
  },
  {
   "cell_type": "code",
   "execution_count": 23,
   "id": "583d8fab",
   "metadata": {},
   "outputs": [
    {
     "name": "stdout",
     "output_type": "stream",
     "text": [
      "[[], ['thank', 'service', 'thank', 'joining', 'ranks', 'fight', 'keep', 'freedom', 'vote', 'keeping', 'honest', 'petition', 'government', 'without', 'undue', 'burden', 'public', 'forum', 'twitter', 'applies', 'open', 'social', 'media'], ['aliens', 'yes', 'question'], ['half', 'people', 'think', 'america', 'woh', 'saving', 'operation', 'get', 'updates', 'stay', 'tuned', 'marching', 'orders'], ['god', 'bless', 'wood'], ['latest', 'sylvie', 'laflamme', 'journal', 'thanks'], ['thankful', 'family', 'maga', 'friends', 'president'], ['federal', 'cou', 'fast', 'tracking', 'request', 'forensic', 'exam', 'voting', 'machines'], ['dont', 'right', 'right', 'never', 'another', 'honest', 'election', 'country'], ['wow', 'wow', 'wow', 'best', 'video', 'sidney', 'powell', 'voter', 'fraud']]\n"
     ]
    }
   ],
   "source": [
    "def sent_to_words(sentences):\n",
    "    for sentence in sentences:\n",
    "        yield(gensim.utils.simple_preprocess(str(sentence), deacc=True))  # deacc=True removes punctuations\n",
    "\n",
    "data_words = list(sent_to_words(data))\n",
    "\n",
    "print(data_words[:10])"
   ]
  },
  {
   "cell_type": "markdown",
   "id": "983bccfe",
   "metadata": {},
   "source": [
    "#### N-grams & Lemmatization"
   ]
  },
  {
   "cell_type": "code",
   "execution_count": 24,
   "id": "d11c1965",
   "metadata": {},
   "outputs": [],
   "source": [
    "# Build the bigram and trigram models\n",
    "bigram = gensim.models.Phrases(data_words, min_count=5, threshold=100) # higher threshold fewer phrases.\n",
    "trigram = gensim.models.Phrases(bigram[data_words], threshold=100)  \n",
    "\n",
    "# Faster way to get a sentence clubbed as a trigram/bigram\n",
    "bigram_mod = gensim.models.phrases.Phraser(bigram)\n",
    "trigram_mod = gensim.models.phrases.Phraser(trigram)"
   ]
  },
  {
   "cell_type": "code",
   "execution_count": 25,
   "id": "8ca30257",
   "metadata": {},
   "outputs": [],
   "source": [
    "# Define functions for stopwords, bigrams, trigrams and lemmatization\n",
    "def remove_stopwords(texts):\n",
    "    return [[word for word in simple_preprocess(str(doc)) if word not in stop_words] for doc in texts]\n",
    "\n",
    "def make_bigrams(texts):\n",
    "    return [bigram_mod[doc] for doc in texts]\n",
    "\n",
    "def make_trigrams(texts):\n",
    "    return [trigram_mod[bigram_mod[doc]] for doc in texts]\n",
    "\n",
    "def lemmatization(texts, allowed_postags=['NOUN', 'ADJ', 'VERB', 'ADV']):\n",
    "    \"\"\"https://spacy.io/api/annotation\"\"\"\n",
    "    texts_out = []\n",
    "    for sent in texts:\n",
    "        doc = nlp(\" \".join(sent)) \n",
    "        texts_out.append([token.lemma_ for token in doc if token.pos_ in allowed_postags])\n",
    "    return texts_out"
   ]
  },
  {
   "cell_type": "code",
   "execution_count": 26,
   "id": "72d61a99",
   "metadata": {},
   "outputs": [],
   "source": [
    "# Remove Stop Words\n",
    "data_words_nostops = remove_stopwords(data_words)\n",
    "\n",
    "# Form Bigrams\n",
    "data_words_bigrams = make_bigrams(data_words_nostops)\n",
    "\n",
    "# Initialize spacy 'en' model, keeping only tagger component (for efficiency)\n",
    "# python3 -m spacy download en\n",
    "nlp = spacy.load('en_core_web_sm', disable=['parser', 'ner'])\n",
    "nlp.max_length = 40000000\n",
    "\n",
    "# Do lemmatization keeping only noun, adj, vb, adv\n",
    "data_lemmatized = lemmatization(data_words_bigrams, allowed_postags=['NOUN', 'ADJ', 'VERB', 'ADV'])"
   ]
  },
  {
   "cell_type": "code",
   "execution_count": 27,
   "id": "80c9967f",
   "metadata": {},
   "outputs": [
    {
     "name": "stdout",
     "output_type": "stream",
     "text": [
      "[[], ['thank', 'service', 'thank', 'join', 'rank', 'fight', 'keep', 'freedom', 'vote', 'keep', 'honest', 'petition', 'government', 'undue', 'burden', 'public', 'forum', 'twitter', 'apply', 'open', 'social_media'], ['alien', 'question'], ['half', 'people', 'think', 'save', 'operation', 'get', 'update', 'stay_tune', 'marching_order'], ['god_bless', 'wood'], ['late', 'sylvie', 'laflamme', 'journal', 'thank'], ['thankful', 'family', 'friend', 'president'], ['federal', 'cou', 'fast', 'tracking', 'request', 'forensic', 'exam', 'voting_machine'], ['right', 'right', 'never', 'honest', 'election', 'country'], ['good', 'video', 'voter', 'fraud']]\n"
     ]
    }
   ],
   "source": [
    "print(data_lemmatized[:10])"
   ]
  },
  {
   "cell_type": "code",
   "execution_count": 28,
   "id": "00ff38a0",
   "metadata": {},
   "outputs": [],
   "source": [
    "# Export lemmatized data for document similarity evaluation\n",
    "corpus_df = pd.DataFrame(data_lemmatized)\n",
    "corpus_df.to_csv('master_corpus_no_duplicate.csv', index=False, header=False)"
   ]
  },
  {
   "cell_type": "code",
   "execution_count": 18,
   "id": "f6cd67da",
   "metadata": {},
   "outputs": [
    {
     "name": "stdout",
     "output_type": "stream",
     "text": [
      "[[], [], [], [(0, 1), (1, 2), (2, 1), (3, 1), (4, 1), (5, 1), (6, 1), (7, 1), (8, 1), (9, 1), (10, 1), (11, 1), (12, 1), (13, 1), (14, 1)], [(15, 1), (16, 1)], [(17, 2), (18, 1), (19, 1), (20, 1)], [(21, 1), (22, 1), (23, 1), (24, 1), (25, 1), (26, 1), (27, 1), (28, 1), (29, 1), (30, 1), (31, 1), (32, 1), (33, 2)], [], [(15, 1), (34, 1), (35, 1), (36, 1), (37, 1), (38, 1), (39, 1), (40, 2), (41, 1), (42, 1), (43, 1)], [(15, 1), (37, 1), (40, 1), (43, 1), (44, 1)]]\n"
     ]
    }
   ],
   "source": [
    "# Create Dictionary\n",
    "id2word = corpora.Dictionary(data_lemmatized)\n",
    "\n",
    "# Create Corpus\n",
    "texts = data_lemmatized\n",
    "\n",
    "# Term Document Frequency\n",
    "corpus = [id2word.doc2bow(text) for text in texts]\n",
    "\n",
    "# View\n",
    "print(corpus[:10])"
   ]
  },
  {
   "cell_type": "markdown",
   "id": "01bd0570",
   "metadata": {},
   "source": [
    "#### Building the LDA Model"
   ]
  },
  {
   "cell_type": "code",
   "execution_count": 40,
   "id": "cc2d34ff",
   "metadata": {},
   "outputs": [],
   "source": [
    "# Build LDA model\n",
    "lda_model = gensim.models.ldamodel.LdaModel(corpus=corpus,\n",
    "                                           id2word=id2word,\n",
    "                                           num_topics=8, \n",
    "                                           random_state=100,\n",
    "                                           iterations=50,\n",
    "                                           update_every=1,\n",
    "                                           chunksize=100,\n",
    "                                           passes=10,\n",
    "                                           alpha='auto',\n",
    "                                           per_word_topics=True)"
   ]
  },
  {
   "cell_type": "code",
   "execution_count": 41,
   "id": "57e16ca4",
   "metadata": {},
   "outputs": [
    {
     "name": "stdout",
     "output_type": "stream",
     "text": [
      "\n",
      "Perplexity:  -8.261727239631975\n",
      "\n",
      "Coherence Score:  0.2877000733405275\n"
     ]
    }
   ],
   "source": [
    "# Compute Perplexity\n",
    "print('\\nPerplexity: ', lda_model.log_perplexity(corpus))  # a measure of how good the model is. lower the better.\n",
    "\n",
    "# Compute Coherence Score\n",
    "coherence_model_lda = CoherenceModel(model=lda_model, texts=data_lemmatized, dictionary=id2word, coherence='c_v')\n",
    "coherence_lda = coherence_model_lda.get_coherence()\n",
    "print('\\nCoherence Score: ', coherence_lda)"
   ]
  },
  {
   "cell_type": "code",
   "execution_count": 42,
   "id": "ce3dc677",
   "metadata": {},
   "outputs": [
    {
     "data": {
      "image/png": "[encoded data removed]",
      "text/plain": [
       "<Figure size 432x288 with 1 Axes>"
      ]
     },
     "metadata": {},
     "output_type": "display_data"
    }
   ],
   "source": [
    "def compute_coherence_values(dictionary, corpus, texts, limit, start=2, step=3):\n",
    "    \"\"\"\n",
    "    Compute c_v coherence for various number of topics\n",
    "\n",
    "    Parameters:\n",
    "    ----------\n",
    "    dictionary : Gensim dictionary\n",
    "    corpus : Gensim corpus\n",
    "    texts : List of input texts\n",
    "    limit : Max num of topics\n",
    "\n",
    "    Returns:\n",
    "    -------\n",
    "    model_list : List of LDA topic models\n",
    "    coherence_values : Coherence values corresponding to the LDA model with respective number of topics\n",
    "    \"\"\"\n",
    "    coherence_values = []\n",
    "    model_list = []\n",
    "    for num_topics in range(start, limit, step):\n",
    "        model = gensim.models.ldamodel.LdaModel(corpus=corpus, num_topics=num_topics, id2word=id2word)\n",
    "        model_list.append(model)\n",
    "        coherencemodel = CoherenceModel(model=model, texts=texts, dictionary=dictionary, coherence='c_v')\n",
    "        coherence_values.append(coherencemodel.get_coherence())\n",
    "\n",
    "    return model_list, coherence_values\n",
    "\n",
    "model_list, coherence_values = compute_coherence_values(dictionary=id2word, corpus=corpus, texts=texts, start=2, limit=40, step=2)\n",
    "\n",
    "# Show graph\n",
    "limit=40; start=2; step=2;\n",
    "x = range(start, limit, step)\n",
    "plt.plot(x, coherence_values)\n",
    "plt.xlabel(\"Num Topics\")\n",
    "plt.ylabel(\"Coherence score\")\n",
    "plt.legend((\"coherence_values\"), loc='best')\n",
    "plt.show()"
   ]
  },
  {
   "cell_type": "code",
   "execution_count": 45,
   "id": "5ca9ad38",
   "metadata": {},
   "outputs": [
    {
     "name": "stdout",
     "output_type": "stream",
     "text": [
      "Num Topics = 2  has Coherence Value of 0.3718\n",
      "Num Topics = 4  has Coherence Value of 0.343\n",
      "Num Topics = 6  has Coherence Value of 0.3863\n",
      "Num Topics = 8  has Coherence Value of 0.377\n",
      "Num Topics = 10  has Coherence Value of 0.3776\n",
      "Num Topics = 12  has Coherence Value of 0.3484\n",
      "Num Topics = 14  has Coherence Value of 0.3077\n",
      "Num Topics = 16  has Coherence Value of 0.3067\n",
      "Num Topics = 18  has Coherence Value of 0.2983\n",
      "Num Topics = 20  has Coherence Value of 0.2932\n",
      "Num Topics = 22  has Coherence Value of 0.2953\n",
      "Num Topics = 24  has Coherence Value of 0.3168\n",
      "Num Topics = 26  has Coherence Value of 0.3333\n",
      "Num Topics = 28  has Coherence Value of 0.3119\n",
      "Num Topics = 30  has Coherence Value of 0.3214\n",
      "Num Topics = 32  has Coherence Value of 0.3229\n",
      "Num Topics = 34  has Coherence Value of 0.3276\n",
      "Num Topics = 36  has Coherence Value of 0.3481\n",
      "Num Topics = 38  has Coherence Value of 0.3291\n"
     ]
    }
   ],
   "source": [
    "# Print the coherence scores\n",
    "for m, cv in zip(x, coherence_values):\n",
    "    print(\"Num Topics =\", m, \" has Coherence Value of\", round(cv, 4))\n",
    "    \n",
    "# NB: From pyLDAvis visualization, optimal number of topics is 10"
   ]
  },
  {
   "cell_type": "code",
   "execution_count": 46,
   "id": "afdb49c6",
   "metadata": {},
   "outputs": [
    {
     "name": "stdout",
     "output_type": "stream",
     "text": [
      "[(0,\n",
      "  '0.064*\"fight\" + 0.042*\"need\" + 0.032*\"see\" + 0.030*\"say\" + 0.029*\"go\" + '\n",
      "  '0.028*\"keep\" + 0.028*\"give\" + 0.025*\"hear\" + 0.025*\"country\" + '\n",
      "  '0.020*\"love\"'),\n",
      " (1,\n",
      "  '0.141*\"never\" + 0.091*\"watch\" + 0.056*\"demand\" + 0.053*\"video\" + '\n",
      "  '0.043*\"believe\" + 0.032*\"ever\" + 0.031*\"cast\" + 0.030*\"folk\" + '\n",
      "  '0.020*\"governor\" + 0.019*\"share\"'),\n",
      " (2,\n",
      "  '0.100*\"want\" + 0.069*\"call\" + 0.059*\"machine\" + 0.048*\"look\" + 0.036*\"news\" '\n",
      "  '+ 0.031*\"fix\" + 0.029*\"really\" + 0.019*\"rig\" + 0.017*\"forward\" + '\n",
      "  '0.016*\"impoant\"'),\n",
      " (3,\n",
      "  '0.116*\"people\" + 0.092*\"president\" + 0.062*\"right\" + 0.055*\"thank\" + '\n",
      "  '0.036*\"come\" + 0.032*\"integrity\" + 0.023*\"truth\" + 0.022*\"make\" + '\n",
      "  '0.022*\"work\" + 0.021*\"american\"'),\n",
      " (4,\n",
      "  '0.078*\"suppo\" + 0.069*\"join\" + 0.044*\"accept\" + 0.040*\"help\" + 0.033*\"barr\" '\n",
      "  '+ 0.023*\"republican\" + 0.023*\"continue\" + 0.021*\"hearing\" + 0.018*\"job\" + '\n",
      "  '0.017*\"texas_lawsuit\"'),\n",
      " (5,\n",
      "  '0.053*\"take\" + 0.052*\"know\" + 0.049*\"live\" + 0.039*\"sign_petition\" + '\n",
      "  '0.035*\"even\" + 0.023*\"march_washingto\" + 0.023*\"sign\" + 0.016*\"pay\" + '\n",
      "  '0.014*\"read\" + 0.014*\"do\"'),\n",
      " (6,\n",
      "  '0.096*\"steal\" + 0.070*\"stop\" + 0.054*\"let\" + 0.051*\"election\" + '\n",
      "  '0.040*\"patriot\" + 0.039*\"ceifie\" + 0.037*\"state\" + 0.033*\"try\" + '\n",
      "  '0.029*\"happen\" + 0.022*\"home\"'),\n",
      " (7,\n",
      "  '0.096*\"evidence\" + 0.040*\"always\" + 0.036*\"bring\" + 0.031*\"list\" + '\n",
      "  '0.022*\"new_drudge\" + 0.021*\"prove\" + 0.019*\"county\" + 0.018*\"seem\" + '\n",
      "  '0.018*\"stay\" + 0.017*\"donate\"'),\n",
      " (8,\n",
      "  '0.092*\"get\" + 0.061*\"still\" + 0.035*\"good\" + 0.035*\"rally\" + 0.029*\"time\" + '\n",
      "  '0.027*\"lose\" + 0.026*\"need\" + 0.025*\"end\" + 0.021*\"cheat\" + 0.020*\"thing\"'),\n",
      " (9,\n",
      "  '0.120*\"election\" + 0.101*\"vote\" + 0.082*\"fraud\" + 0.039*\"trump\" + '\n",
      "  '0.038*\"voter\" + 0.031*\"stand\" + 0.026*\"state\" + 0.022*\"ballot\" + '\n",
      "  '0.021*\"citizen\" + 0.020*\"count\"')]\n"
     ]
    }
   ],
   "source": [
    "# Select the model and print the topics\n",
    "optimal_model = model_list[4]\n",
    "model_topics = optimal_model.show_topics(formatted=False)\n",
    "pprint(optimal_model.print_topics(num_words=10))"
   ]
  },
  {
   "cell_type": "markdown",
   "id": "0358756c",
   "metadata": {},
   "source": [
    "#### Visualize Topic Distribution & Keywords"
   ]
  },
  {
   "cell_type": "code",
   "execution_count": 47,
   "id": "9ef7c44c",
   "metadata": {},
   "outputs": [],
   "source": [
    "topic_dist = pd.DataFrame()\n",
    "\n",
    "# Code to view the Ist 4 keywords per topic\n",
    "for index, topic in lda_model.show_topics(formatted=False, num_words= 10):\n",
    "    words = [w[0] for w in topic]\n",
    "    topic_distributions_df = [\"\".join(topic[:4]) for topic in words]\n",
    "    topic_dist = topic_dist.append(pd.Series([index, words]), ignore_index=True)\n",
    "    \n",
    "    # print('Topic: {} \\nWords: {}'.format(index, words))\n",
    "    # print(topic_distributions_df)\n",
    "    \n",
    "topic_dist.columns = ['Topic_Number', 'Topic_Words']\n",
    "# Export topic word distribution per topic to excel file\n",
    "topic_dist.to_excel(r\"C:\\Users\\Ivory-UALR\\Documents\\COSMOS\\Billy's Project\\community_topic_model\\1st_community_dataset\\1st_analysis_LDAmodel\\1st_analysis_LDA_topic_words(8_topics).xlsx\", index=False, header=True)"
   ]
  },
  {
   "cell_type": "code",
   "execution_count": 25,
   "id": "f3427857",
   "metadata": {},
   "outputs": [
    {
     "data": {
      "text/html": [
       "<div>\n",
       "<style scoped>\n",
       "    .dataframe tbody tr th:only-of-type {\n",
       "        vertical-align: middle;\n",
       "    }\n",
       "\n",
       "    .dataframe tbody tr th {\n",
       "        vertical-align: top;\n",
       "    }\n",
       "\n",
       "    .dataframe thead th {\n",
       "        text-align: right;\n",
       "    }\n",
       "</style>\n",
       "<table border=\"1\" class=\"dataframe\">\n",
       "  <thead>\n",
       "    <tr style=\"text-align: right;\">\n",
       "      <th></th>\n",
       "      <th>Topic_Number</th>\n",
       "      <th>Topic_Words</th>\n",
       "    </tr>\n",
       "  </thead>\n",
       "  <tbody>\n",
       "    <tr>\n",
       "      <th>0</th>\n",
       "      <td>0.0</td>\n",
       "      <td>[trump, give, see, biden, time, let, watch, th...</td>\n",
       "    </tr>\n",
       "    <tr>\n",
       "      <th>1</th>\n",
       "      <td>1.0</td>\n",
       "      <td>[thank, stand, patriot, freedom, sign_petition...</td>\n",
       "    </tr>\n",
       "    <tr>\n",
       "      <th>2</th>\n",
       "      <td>2.0</td>\n",
       "      <td>[get, dominion, happen, evidence, com, true, a...</td>\n",
       "    </tr>\n",
       "    <tr>\n",
       "      <th>3</th>\n",
       "      <td>3.0</td>\n",
       "      <td>[still, right, ballot, voting, show, result, a...</td>\n",
       "    </tr>\n",
       "    <tr>\n",
       "      <th>4</th>\n",
       "      <td>4.0</td>\n",
       "      <td>[people, take, love, demand, back, lose, barr,...</td>\n",
       "    </tr>\n",
       "    <tr>\n",
       "      <th>5</th>\n",
       "      <td>5.0</td>\n",
       "      <td>[vote, know, say, stop, machine, read, want, c...</td>\n",
       "    </tr>\n",
       "    <tr>\n",
       "      <th>6</th>\n",
       "      <td>6.0</td>\n",
       "      <td>[audit, pay, elector, great, news, help, hones...</td>\n",
       "    </tr>\n",
       "    <tr>\n",
       "      <th>7</th>\n",
       "      <td>7.0</td>\n",
       "      <td>[live, march_washingto, rally, home, good, che...</td>\n",
       "    </tr>\n",
       "    <tr>\n",
       "      <th>8</th>\n",
       "      <td>8.0</td>\n",
       "      <td>[election, fight, steal, president, never, nee...</td>\n",
       "    </tr>\n",
       "    <tr>\n",
       "      <th>9</th>\n",
       "      <td>9.0</td>\n",
       "      <td>[fraud, state, voter, country, today, make, in...</td>\n",
       "    </tr>\n",
       "  </tbody>\n",
       "</table>\n",
       "</div>"
      ],
      "text/plain": [
       "   Topic_Number                                        Topic_Words\n",
       "0           0.0  [trump, give, see, biden, time, let, watch, th...\n",
       "1           1.0  [thank, stand, patriot, freedom, sign_petition...\n",
       "2           2.0  [get, dominion, happen, evidence, com, true, a...\n",
       "3           3.0  [still, right, ballot, voting, show, result, a...\n",
       "4           4.0  [people, take, love, demand, back, lose, barr,...\n",
       "5           5.0  [vote, know, say, stop, machine, read, want, c...\n",
       "6           6.0  [audit, pay, elector, great, news, help, hones...\n",
       "7           7.0  [live, march_washingto, rally, home, good, che...\n",
       "8           8.0  [election, fight, steal, president, never, nee...\n",
       "9           9.0  [fraud, state, voter, country, today, make, in..."
      ]
     },
     "execution_count": 25,
     "metadata": {},
     "output_type": "execute_result"
    }
   ],
   "source": [
    "topic_dist"
   ]
  },
  {
   "cell_type": "code",
   "execution_count": 48,
   "id": "b2067926",
   "metadata": {},
   "outputs": [
    {
     "name": "stderr",
     "output_type": "stream",
     "text": [
      "C:\\Users\\Ivory-UALR\\AppData\\Local\\Programs\\Python\\Python39\\lib\\site-packages\\pyLDAvis\\_prepare.py:246: FutureWarning: In a future version of pandas all arguments of DataFrame.drop except for the argument 'labels' will be keyword-only\n",
      "  default_term_info = default_term_info.sort_values(\n"
     ]
    },
    {
     "data": {
      "text/html": [
       "\n",
       "<link rel=\"stylesheet\" type=\"text/css\" href=\"https://cdn.jsdelivr.net/gh/bmabey/pyLDAvis@3.3.1/pyLDAvis/js/ldavis.v1.0.0.css\">\n",
       "\n",
       "\n",
       "<div id=\"ldavis_el1489620747799297282189197016\"></div>\n",
       "<script type=\"text/javascript\">\n",
       "\n",
       "var ldavis_el1489620747799297282189197016_data = {\"mdsDat\": {\"x\": [-0.10349982442033843, -0.25142428482935464, -0.07062846094643976, 0.3006262033203992, 0.1736570959192047, 0.07591886762434372, -0.10325801416597205, -0.021391582501842754], \"y\": [0.3886774203324681, -0.20879651241166378, 0.02015856406637207, -0.008701875734123482, -0.017116441174643032, -0.13237291192461065, -0.047615414404907005, 0.005767171251107514], \"topics\": [1, 2, 3, 4, 5, 6, 7, 8], \"cluster\": [1, 1, 1, 1, 1, 1, 1, 1], \"Freq\": [19.239140399865413, 18.1511592626637, 14.354965926204574, 12.954380008829641, 11.235236726292325, 10.64997532370396, 7.453223520331417, 5.961918832108968]}, \"tinfo\": {\"Term\": [\"election\", \"vote\", \"fraud\", \"fight\", \"live\", \"get\", \"state\", \"take\", \"steal\", \"people\", \"trump\", \"president\", \"know\", \"patriot\", \"voter\", \"thank\", \"never\", \"stand\", \"country\", \"stop\", \"give\", \"keep\", \"say\", \"need\", \"dominion\", \"come\", \"see\", \"audit\", \"let\", \"still\", \"people\", \"voter\", \"never\", \"say\", \"need\", \"still\", \"ballot\", \"rally\", \"voting\", \"want\", \"pay\", \"think\", \"result\", \"barr\", \"use\", \"truth\", \"corrupt\", \"break\", \"believe\", \"case\", \"work\", \"fact\", \"new\", \"hundreds_thousand\", \"expose\", \"ever\", \"first\", \"million\", \"illegal\", \"mail\", \"election\", \"steal\", \"president\", \"stand\", \"go\", \"day\", \"suppo\", \"continue\", \"count\", \"fair\", \"many\", \"hear\", \"great\", \"look\", \"win\", \"help\", \"full\", \"accept\", \"year\", \"hope\", \"dem\", \"corruption\", \"long\", \"fraudulent\", \"allow\", \"hide\", \"next\", \"find\", \"mean\", \"nation\", \"fraud\", \"trump\", \"give\", \"keep\", \"see\", \"biden\", \"right\", \"time\", \"watch\", \"try\", \"ceifie\", \"call\", \"legal\", \"speak\", \"cheat\", \"honest\", \"video\", \"follower\", \"crime_family\", \"folk\", \"emergency\", \"away\", \"send\", \"petition\", \"agree\", \"oveurn\", \"block\", \"action\", \"foreign_interference\", \"pro\", \"enabling_american\", \"seal_fate\", \"platter\", \"state\", \"take\", \"today\", \"machine\", \"demand\", \"citizen\", \"back\", \"lose\", \"elector\", \"way\", \"republican\", \"military\", \"system\", \"well\", \"medium\", \"history\", \"scotus\", \"legitimate\", \"sign\", \"law\", \"sign_petition\", \"son\", \"place\", \"leave\", \"story\", \"ass\", \"government\", \"observer\", \"late\", \"member\", \"vote\", \"fight\", \"stop\", \"home\", \"join\", \"even\", \"end\", \"order\", \"show\", \"american\", \"recount\", \"last\", \"com\", \"verification\", \"massive\", \"real\", \"bring\", \"cast\", \"judge\", \"fighting\", \"leader\", \"put\", \"protect\", \"influence\", \"process\", \"declare\", \"yet\", \"constitution\", \"concede\", \"street\", \"maial_law\", \"home_save\", \"know\", \"thank\", \"country\", \"dominion\", \"let\", \"love\", \"happen\", \"evidence\", \"good\", \"statement\", \"news\", \"thing\", \"serve\", \"true\", \"begin\", \"do\", \"always\", \"act\", \"world\", \"release\", \"fake\", \"fix\", \"justice\", \"destroy\", \"covid\", \"man\", \"money\", \"rudy\", \"democracy\", \"county\", \"home_save\", \"live\", \"read\", \"make\", \"integrity\", \"tell\", \"suppoer\", \"much\", \"big\", \"night\", \"lie\", \"really\", \"job\", \"dead\", \"wait\", \"list\", \"bad\", \"power\", \"hold\", \"crowd\", \"group\", \"fly\", \"protest\", \"change\", \"enough\", \"sure\", \"guy\", \"interesting\", \"landslide\", \"seat\", \"lawsuit\", \"march_washingto\", \"get\", \"patriot\", \"come\", \"audit\", \"freedom\", \"also\", \"supreme_cou\", \"team\", \"save\", \"tomorrow\", \"one\", \"run\", \"office\", \"exactly\", \"step\", \"electoral\", \"level\", \"correct\", \"hiding\", \"national\", \"error\", \"stay\", \"rule\", \"ali\", \"potus\", \"open\", \"file\", \"feel\", \"buy\", \"entire\"], \"Freq\": [26807.0, 15971.0, 15011.0, 11294.0, 9241.0, 8377.0, 7690.0, 7633.0, 9010.0, 9172.0, 7619.0, 7612.0, 5643.0, 4411.0, 6936.0, 5093.0, 6746.0, 6277.0, 4769.0, 4777.0, 5230.0, 5064.0, 5884.0, 5686.0, 4159.0, 3194.0, 4588.0, 3133.0, 3861.0, 5204.0, 9171.500022618295, 6935.160832099691, 6745.76377762546, 5883.55807465183, 5685.458673328436, 5203.927946882584, 3578.193451170544, 3417.714979701089, 3377.755489309671, 3177.773919218735, 2896.8229841502884, 2605.3813816658694, 2361.0437688195852, 2386.913667813059, 1939.7201600866942, 1840.0180761786603, 1837.78149626832, 1741.0849945116336, 1731.6847228282568, 1689.902755679122, 1535.7082100940383, 1483.630265817105, 1386.8041331834975, 1384.2791774327795, 1316.0270568971007, 1193.3389137236338, 1185.4263068028145, 1124.5404567819603, 1107.964132037409, 1076.8706129144548, 26806.261467538945, 9009.347097408483, 7611.817663803534, 6276.99431949307, 3809.7408024916795, 3268.935462182298, 3046.7582002129207, 2957.0070408964184, 2904.421331401143, 2840.6837465794497, 2609.7143739693693, 2447.4689662994833, 2338.3316142680756, 2149.8774428277775, 2026.3379764396398, 1932.3554143914043, 1776.936414044234, 1737.5618881132689, 1653.5378153880176, 1574.4728085587385, 1533.612419612311, 1344.0971366619517, 1340.2198981189706, 1286.531645427775, 1266.4695024306106, 1255.2361447886692, 1215.2135966007281, 1199.1537544575642, 1195.3718087920593, 1157.619563538515, 15010.675826250439, 7618.300391456432, 5229.96236122271, 5063.473941690191, 4587.437477598052, 4414.155464929795, 4397.8047255520805, 4390.615506949702, 3260.1727740531737, 2969.5021321275394, 2727.65555622545, 2248.5424366639068, 2097.3588975301127, 1934.8135046959383, 1877.765647339, 1653.6017094331437, 1568.1731859325118, 1325.053691159383, 1319.4393289007423, 1276.0637294263606, 1058.395209266202, 1044.2035412617993, 1001.322412941965, 958.0833406608256, 804.4779304764176, 799.049305879339, 784.482339790401, 765.734971723135, 727.6358752131835, 703.551325428935, 1428.8284354941586, 1428.8170278886787, 854.1430646890877, 7689.655779394201, 7632.991740012578, 4095.4542281813356, 3264.9317904330996, 2872.1658885461916, 2800.8876962013624, 2628.9242740192485, 2440.500244092379, 2124.358273031738, 1812.855985056529, 1776.8225185597748, 1674.8322854498363, 1424.997644570336, 1404.618303433324, 1387.8962788698511, 1384.865508429482, 1382.640563272781, 1220.0215602947603, 1169.939705093489, 1167.0286366149369, 1141.381423505958, 1005.6905431935598, 999.3246548728494, 969.1417997248487, 954.9294642345676, 935.2274850681302, 900.4711497952818, 891.7193264881621, 869.4272180921246, 807.2917148382436, 15970.210326297643, 11293.388284964949, 4776.582494322084, 2937.9771409058185, 2745.084351125243, 2506.426386097728, 2399.194556246822, 2378.5476826910667, 2230.8490292851766, 2070.1583866869114, 1915.5711732059547, 1795.1321222790195, 1508.665703857541, 1485.9680484836188, 1455.6876009791904, 1404.667386369928, 1346.9890408778954, 1320.6781303909672, 1198.5492337261314, 1108.4046878141191, 874.6569732090944, 865.8062506218836, 809.1306425507389, 718.0630975966238, 686.1294678613956, 675.5635390274863, 651.299421065207, 642.4622810725957, 620.7260929282781, 618.4445969682773, 749.5457946894664, 645.9622212530334, 5642.164119187076, 5092.398165454492, 4768.854321178935, 4158.270206295895, 3860.9259296680575, 3436.5363668296327, 3146.4345340544864, 2932.9164130063973, 2317.824768175059, 2062.849508368299, 1805.5909519913719, 1548.9543598378953, 1269.4338419725427, 1254.6697546352939, 1221.7708363884806, 1206.479862161302, 1189.05505005112, 1172.4247099021034, 1102.952170482025, 1028.3985759104944, 1006.8996640447887, 966.788193682716, 850.9038699891283, 837.8309167006751, 810.9214202889268, 751.1164269738063, 738.311598968711, 717.2762341215979, 685.5558336372138, 653.0277259946685, 841.0445485807613, 9241.08072004454, 3190.2343399816655, 2756.6311277214545, 2028.781753869482, 1820.8380759940303, 1596.8234774110635, 1565.9435977764012, 1369.2733947310085, 1127.606327573178, 1097.26934102318, 1064.2217956621228, 1022.718073010643, 1021.2631119825578, 1013.7796811453674, 975.7813868805085, 817.6342873504585, 778.1127293528051, 770.0373207381749, 713.4071954083253, 708.904761766523, 704.5459906401612, 678.3030707308385, 663.3848526801067, 659.8109325591508, 633.2753317795559, 612.1728835082414, 555.9634121051812, 553.4332505668, 528.2684611269699, 525.515622689656, 2921.777490207711, 8376.156828776659, 4410.219586195293, 3193.2374099943495, 3132.4036234897703, 1832.919299931223, 1521.9565378073426, 1364.4931358893484, 1152.377993700079, 1123.0139041208963, 1062.4290042755383, 918.9789595594725, 867.198236275343, 858.8954619996404, 790.8441135846241, 756.3756801916312, 677.8316774746224, 666.4178199586614, 625.2253641787404, 598.4754917631459, 594.8214243228504, 562.1837040194105, 526.4201325957707, 494.59202476844706, 491.81021988879803, 485.13770867354333, 484.77592081613426, 460.6402151618073, 434.92041497272004, 368.5447421090304, 291.8908012141045], \"Total\": [26807.0, 15971.0, 15011.0, 11294.0, 9241.0, 8377.0, 7690.0, 7633.0, 9010.0, 9172.0, 7619.0, 7612.0, 5643.0, 4411.0, 6936.0, 5093.0, 6746.0, 6277.0, 4769.0, 4777.0, 5230.0, 5064.0, 5884.0, 5686.0, 4159.0, 3194.0, 4588.0, 3133.0, 3861.0, 5204.0, 9172.38516711653, 6936.046368538715, 6746.649413846688, 5884.443398129174, 5686.343813433752, 5204.814222160359, 3579.078759075471, 3418.6005920718717, 3378.641598661572, 3178.659062213236, 2897.7084259706135, 2606.266758772826, 2361.9296635939486, 2387.8377305369336, 1940.6057735525353, 1840.9032408662565, 1838.666875455049, 1741.9706181338738, 1732.569982747288, 1690.7878295387209, 1536.5935259847247, 1484.5159349855776, 1387.689522511942, 1385.17558250106, 1316.912979123116, 1194.2241995878394, 1186.31182559567, 1125.4262621639605, 1108.8495662670825, 1077.7561714176807, 26807.135499207914, 9010.221029908298, 7612.691624325027, 6277.86822847221, 3810.6147910621116, 3269.809649250853, 3047.631993066617, 2957.882946071297, 2905.2950826304195, 2841.558448333692, 2610.588520393983, 2448.3429514356653, 2339.205677421486, 2150.7516621283344, 2027.211889655336, 1933.229518078964, 1777.8105146558353, 1738.4353974884798, 1654.4120302320025, 1575.347055870969, 1534.4867873968208, 1344.971229641327, 1341.094197528224, 1287.4057746097822, 1267.34359283008, 1256.1104799883703, 1216.0876096431177, 1200.0278834214619, 1196.2462427407502, 1158.4937723696141, 15011.565274295528, 7619.18924643602, 5230.851436044062, 5064.3628000077815, 4588.326405862981, 4415.04454797782, 4398.69331747932, 4391.50475218466, 3261.0614692957256, 2970.390852956749, 2728.546955577934, 2249.4311005652235, 2098.247919796416, 1935.702589980196, 1878.6544115176732, 1654.493377007335, 1569.0618258094457, 1325.9423781498047, 1320.3575617405065, 1276.9527603883644, 1059.2845970772087, 1045.0919752599386, 1002.2118507541574, 958.9725858048342, 805.3668045694146, 799.938188641027, 785.3721702337974, 766.6236663771507, 728.5536363270026, 704.4409108170204, 2021.0317420710135, 2021.0339580734765, 1149.2934220805928, 7690.5566062250255, 7633.89287932652, 4096.356287438859, 3265.834025892149, 2873.067395029522, 2801.7917620366457, 2629.825488723308, 2441.4016050697483, 2125.260867719666, 1813.7570371427578, 1777.7233726608754, 1675.7348537673909, 1425.9000840229555, 1405.5193697318102, 1388.79759387256, 1385.7665202613932, 1383.541415693451, 1220.922362534971, 1170.8407826340044, 1167.9297890422902, 1142.2817144388537, 1006.5933675098148, 1000.225917534268, 970.0427844209662, 955.830902091342, 936.1316788002417, 901.3724397182576, 892.6293160160697, 870.3281121440424, 808.1944359708903, 15971.10754707478, 11294.285603243561, 4777.479626936858, 2938.874601311467, 2745.9809292499094, 2507.323376251185, 2400.0917210415246, 2379.445479049067, 2231.746246922907, 2071.055737974989, 1916.4696123907354, 1796.0295009464323, 1509.5793494022041, 1486.8769476270986, 1456.5856891473131, 1405.5647465486245, 1347.8866997050045, 1321.5762174572023, 1199.4477654949776, 1109.301668141562, 875.5548402157308, 866.7037524648125, 810.0282170286073, 718.9640538724657, 687.0271561382738, 676.4621307872742, 652.1967502742128, 643.3593511365447, 621.6239082594184, 619.3423004164291, 883.1365041178949, 2483.381298691898, 5643.066683414494, 5093.300411094699, 4769.757064577736, 4159.173792320397, 3861.8283271235955, 3437.439119527964, 3147.3372613947463, 2933.8194494054405, 2318.7273560645153, 2063.7560131876216, 1806.4937630068043, 1549.8567983142373, 1270.3387562835205, 1255.5721396397764, 1222.673999698941, 1207.382490471751, 1189.9574265552744, 1173.3293300538182, 1103.8545787343583, 1029.3027122931533, 1007.8023983524523, 967.6912532593235, 851.8060972092788, 838.7336279806157, 811.8253785499471, 752.0189375584911, 739.2144541460985, 718.1798734801621, 686.4586214774592, 653.9306635062604, 2483.381298691898, 9241.980279425481, 3191.1348917084615, 2757.5303941623565, 2029.6806046777385, 1821.737587636595, 1597.7223472759488, 1566.8430967157624, 1370.1729353224105, 1128.5062649783533, 1098.168500094121, 1065.1212410592416, 1023.6178463298858, 1022.1625958122529, 1014.6789884982527, 976.6805744009778, 818.533722427268, 779.0119832378186, 770.9366461649308, 714.3076786811349, 709.8044299027022, 705.4482079435041, 679.2021938778306, 664.2845959337352, 660.7105328440117, 634.1743119503147, 613.072171291384, 556.8664971272511, 554.332836173219, 529.1704393095805, 526.4144062350309, 6055.094005555862, 8377.038411027883, 4411.101403590064, 3194.118936670811, 3133.2872036333847, 1833.801583686685, 1522.8385544665675, 1365.374698637926, 1153.2593668089885, 1123.895466620344, 1063.3105720824105, 919.8610712043246, 868.0799573869358, 859.7773634539434, 791.7256775486767, 757.2572404510767, 678.7145531995011, 667.2999866550676, 626.1069740003361, 599.3580993522118, 595.7036186629837, 563.0688978235773, 527.3015698999524, 495.47344451139, 492.6922983707399, 486.01962446060617, 485.6582311701677, 461.5215762890113, 435.80191440422647, 369.42641845257145, 292.7725151408139], \"Category\": [\"Default\", \"Default\", \"Default\", \"Default\", \"Default\", \"Default\", \"Default\", \"Default\", \"Default\", \"Default\", \"Default\", \"Default\", \"Default\", \"Default\", \"Default\", \"Default\", \"Default\", \"Default\", \"Default\", \"Default\", \"Default\", \"Default\", \"Default\", \"Default\", \"Default\", \"Default\", \"Default\", \"Default\", \"Default\", \"Default\", \"Topic1\", \"Topic1\", \"Topic1\", \"Topic1\", \"Topic1\", \"Topic1\", \"Topic1\", \"Topic1\", \"Topic1\", \"Topic1\", \"Topic1\", \"Topic1\", \"Topic1\", \"Topic1\", \"Topic1\", \"Topic1\", \"Topic1\", \"Topic1\", \"Topic1\", \"Topic1\", \"Topic1\", \"Topic1\", \"Topic1\", \"Topic1\", \"Topic1\", \"Topic1\", \"Topic1\", \"Topic1\", \"Topic1\", \"Topic1\", \"Topic2\", \"Topic2\", \"Topic2\", \"Topic2\", \"Topic2\", \"Topic2\", \"Topic2\", \"Topic2\", \"Topic2\", \"Topic2\", \"Topic2\", \"Topic2\", \"Topic2\", \"Topic2\", \"Topic2\", \"Topic2\", \"Topic2\", \"Topic2\", \"Topic2\", \"Topic2\", \"Topic2\", \"Topic2\", \"Topic2\", \"Topic2\", \"Topic2\", \"Topic2\", \"Topic2\", \"Topic2\", \"Topic2\", \"Topic2\", \"Topic3\", \"Topic3\", \"Topic3\", \"Topic3\", \"Topic3\", \"Topic3\", \"Topic3\", \"Topic3\", \"Topic3\", \"Topic3\", \"Topic3\", \"Topic3\", \"Topic3\", \"Topic3\", \"Topic3\", \"Topic3\", \"Topic3\", \"Topic3\", \"Topic3\", \"Topic3\", \"Topic3\", \"Topic3\", \"Topic3\", \"Topic3\", \"Topic3\", \"Topic3\", \"Topic3\", \"Topic3\", \"Topic3\", \"Topic3\", \"Topic3\", \"Topic3\", \"Topic3\", \"Topic4\", \"Topic4\", \"Topic4\", \"Topic4\", \"Topic4\", \"Topic4\", \"Topic4\", \"Topic4\", \"Topic4\", \"Topic4\", \"Topic4\", \"Topic4\", \"Topic4\", \"Topic4\", \"Topic4\", \"Topic4\", \"Topic4\", \"Topic4\", \"Topic4\", \"Topic4\", \"Topic4\", \"Topic4\", \"Topic4\", \"Topic4\", \"Topic4\", \"Topic4\", \"Topic4\", \"Topic4\", \"Topic4\", \"Topic4\", \"Topic5\", \"Topic5\", \"Topic5\", \"Topic5\", \"Topic5\", \"Topic5\", \"Topic5\", \"Topic5\", \"Topic5\", \"Topic5\", \"Topic5\", \"Topic5\", \"Topic5\", \"Topic5\", \"Topic5\", \"Topic5\", \"Topic5\", \"Topic5\", \"Topic5\", \"Topic5\", \"Topic5\", \"Topic5\", \"Topic5\", \"Topic5\", \"Topic5\", \"Topic5\", \"Topic5\", \"Topic5\", \"Topic5\", \"Topic5\", \"Topic5\", \"Topic5\", \"Topic6\", \"Topic6\", \"Topic6\", \"Topic6\", \"Topic6\", \"Topic6\", \"Topic6\", \"Topic6\", \"Topic6\", \"Topic6\", \"Topic6\", \"Topic6\", \"Topic6\", \"Topic6\", \"Topic6\", \"Topic6\", \"Topic6\", \"Topic6\", \"Topic6\", \"Topic6\", \"Topic6\", \"Topic6\", \"Topic6\", \"Topic6\", \"Topic6\", \"Topic6\", \"Topic6\", \"Topic6\", \"Topic6\", \"Topic6\", \"Topic6\", \"Topic7\", \"Topic7\", \"Topic7\", \"Topic7\", \"Topic7\", \"Topic7\", \"Topic7\", \"Topic7\", \"Topic7\", \"Topic7\", \"Topic7\", \"Topic7\", \"Topic7\", \"Topic7\", \"Topic7\", \"Topic7\", \"Topic7\", \"Topic7\", \"Topic7\", \"Topic7\", \"Topic7\", \"Topic7\", \"Topic7\", \"Topic7\", \"Topic7\", \"Topic7\", \"Topic7\", \"Topic7\", \"Topic7\", \"Topic7\", \"Topic7\", \"Topic8\", \"Topic8\", \"Topic8\", \"Topic8\", \"Topic8\", \"Topic8\", \"Topic8\", \"Topic8\", \"Topic8\", \"Topic8\", \"Topic8\", \"Topic8\", \"Topic8\", \"Topic8\", \"Topic8\", \"Topic8\", \"Topic8\", \"Topic8\", \"Topic8\", \"Topic8\", \"Topic8\", \"Topic8\", \"Topic8\", \"Topic8\", \"Topic8\", \"Topic8\", \"Topic8\", \"Topic8\", \"Topic8\", \"Topic8\"], \"logprob\": [30.0, 29.0, 28.0, 27.0, 26.0, 25.0, 24.0, 23.0, 22.0, 21.0, 20.0, 19.0, 18.0, 17.0, 16.0, 15.0, 14.0, 13.0, 12.0, 11.0, 10.0, 9.0, 8.0, 7.0, 6.0, 5.0, 4.0, 3.0, 2.0, 1.0, -2.9466, -3.2261, -3.2538, -3.3906, -3.4248, -3.5133, -3.8879, -3.9338, -3.9455, -4.0066, -4.0991, -4.2052, -4.3036, -4.2927, -4.5002, -4.553, -4.5542, -4.6082, -4.6136, -4.6381, -4.7337, -4.7682, -4.8357, -4.8376, -4.8881, -4.986, -4.9926, -5.0454, -5.0602, -5.0887, -1.8159, -2.9063, -3.0748, -3.2676, -3.767, -3.9201, -3.9905, -4.0204, -4.0383, -4.0605, -4.1453, -4.2095, -4.2551, -4.3391, -4.3983, -4.4458, -4.5296, -4.552, -4.6016, -4.6506, -4.6769, -4.8088, -4.8117, -4.8526, -4.8683, -4.8772, -4.9096, -4.9229, -4.9261, -4.9582, -2.1611, -2.8393, -3.2155, -3.2478, -3.3466, -3.3851, -3.3888, -3.3904, -3.6881, -3.7815, -3.8664, -4.0596, -4.1292, -4.2099, -4.2398, -4.3669, -4.42, -4.5884, -4.5927, -4.6261, -4.8131, -4.8266, -4.8686, -4.9127, -5.0875, -5.0942, -5.1126, -5.1368, -5.1878, -5.2215, -4.513, -4.513, -5.0275, -2.7274, -2.7347, -3.3574, -3.584, -3.7122, -3.7373, -3.8007, -3.875, -4.0138, -4.1723, -4.1924, -4.2515, -4.4131, -4.4275, -4.4394, -4.4416, -4.4432, -4.5684, -4.6103, -4.6128, -4.635, -4.7616, -4.7679, -4.7986, -4.8133, -4.8342, -4.8721, -4.8818, -4.9071, -4.9813, -1.8541, -2.2006, -3.0611, -3.5471, -3.615, -3.706, -3.7497, -3.7584, -3.8225, -3.8972, -3.9748, -4.0398, -4.2136, -4.2288, -4.2494, -4.285, -4.327, -4.3467, -4.4437, -4.5219, -4.7588, -4.7689, -4.8366, -4.956, -5.0015, -5.0171, -5.0536, -5.0673, -5.1017, -5.1054, -4.9131, -5.0619, -2.8411, -2.9436, -3.0092, -3.1463, -3.2204, -3.3369, -3.4251, -3.4954, -3.7307, -3.8473, -3.9805, -4.1338, -4.3328, -4.3445, -4.3711, -4.3836, -4.3982, -4.4123, -4.4734, -4.5433, -4.5645, -4.6051, -4.7328, -4.7483, -4.7809, -4.8575, -4.8747, -4.9036, -4.9489, -4.9975, -4.7445, -1.9908, -3.0543, -3.2004, -3.507, -3.6151, -3.7464, -3.766, -3.9002, -4.0943, -4.1216, -4.1522, -4.192, -4.1934, -4.2008, -4.239, -4.4158, -4.4653, -4.4758, -4.5521, -4.5585, -4.5646, -4.6026, -4.6248, -4.6302, -4.6713, -4.7052, -4.8015, -4.8061, -4.8526, -4.8578, -3.1422, -1.8658, -2.5073, -2.8302, -2.8494, -3.3853, -3.5712, -3.6804, -3.8494, -3.8752, -3.9306, -4.0757, -4.1337, -4.1433, -4.2258, -4.2704, -4.38, -4.397, -4.4608, -4.5046, -4.5107, -4.5671, -4.6328, -4.6952, -4.7008, -4.7145, -4.7153, -4.7663, -4.8238, -4.9894, -5.2226], \"loglift\": [30.0, 29.0, 28.0, 27.0, 26.0, 25.0, 24.0, 23.0, 22.0, 21.0, 20.0, 19.0, 18.0, 17.0, 16.0, 15.0, 14.0, 13.0, 12.0, 11.0, 10.0, 9.0, 8.0, 7.0, 6.0, 5.0, 4.0, 3.0, 2.0, 1.0, 1.6481, 1.6481, 1.6481, 1.6481, 1.6481, 1.6481, 1.648, 1.648, 1.648, 1.6479, 1.6479, 1.6479, 1.6478, 1.6478, 1.6478, 1.6477, 1.6477, 1.6477, 1.6477, 1.6477, 1.6476, 1.6476, 1.6476, 1.6476, 1.6476, 1.6475, 1.6475, 1.6474, 1.6474, 1.6474, 1.7064, 1.7063, 1.7063, 1.7063, 1.7062, 1.7062, 1.7061, 1.7061, 1.7061, 1.7061, 1.7061, 1.7061, 1.7061, 1.706, 1.706, 1.706, 1.7059, 1.7059, 1.7059, 1.7059, 1.7059, 1.7058, 1.7058, 1.7058, 1.7057, 1.7057, 1.7057, 1.7057, 1.7057, 1.7057, 1.941, 1.941, 1.9409, 1.9409, 1.9409, 1.9409, 1.9409, 1.9409, 1.9408, 1.9408, 1.9407, 1.9407, 1.9407, 1.9406, 1.9406, 1.9405, 1.9405, 1.9404, 1.9404, 1.9404, 1.9402, 1.9402, 1.9402, 1.9401, 1.94, 1.94, 1.9399, 1.9399, 1.9398, 1.9398, 1.5943, 1.5943, 1.6443, 2.0436, 2.0436, 2.0435, 2.0435, 2.0434, 2.0434, 2.0434, 2.0434, 2.0433, 2.0432, 2.0432, 2.0432, 2.0431, 2.0431, 2.0431, 2.0431, 2.0431, 2.043, 2.043, 2.043, 2.0429, 2.0428, 2.0428, 2.0428, 2.0428, 2.0428, 2.0427, 2.0427, 2.0427, 2.0426, 2.1861, 2.186, 2.1859, 2.1858, 2.1858, 2.1858, 2.1857, 2.1857, 2.1857, 2.1857, 2.1856, 2.1856, 2.1855, 2.1855, 2.1855, 2.1855, 2.1854, 2.1854, 2.1854, 2.1853, 2.1851, 2.1851, 2.185, 2.1849, 2.1848, 2.1848, 2.1847, 2.1847, 2.1847, 2.1847, 2.0221, 0.8395, 2.2395, 2.2394, 2.2394, 2.2394, 2.2394, 2.2393, 2.2393, 2.2393, 2.2392, 2.2392, 2.2391, 2.239, 2.2389, 2.2389, 2.2389, 2.2389, 2.2389, 2.2388, 2.2388, 2.2387, 2.2387, 2.2387, 2.2386, 2.2385, 2.2385, 2.2384, 2.2384, 2.2384, 2.2383, 2.2382, 1.1569, 2.5964, 2.5962, 2.5962, 2.5961, 2.596, 2.596, 2.5959, 2.5959, 2.5957, 2.5957, 2.5957, 2.5956, 2.5956, 2.5956, 2.5956, 2.5954, 2.5954, 2.5954, 2.5953, 2.5953, 2.5952, 2.5952, 2.5952, 2.5952, 2.5951, 2.5951, 2.5949, 2.5949, 2.5948, 2.5948, 1.8678, 2.8197, 2.8196, 2.8195, 2.8195, 2.8193, 2.8192, 2.8191, 2.819, 2.819, 2.8189, 2.8188, 2.8188, 2.8188, 2.8187, 2.8186, 2.8185, 2.8185, 2.8184, 2.8183, 2.8183, 2.8182, 2.8181, 2.818, 2.818, 2.818, 2.818, 2.8179, 2.8178, 2.8174, 2.8168]}, \"token.table\": {\"Topic\": [2, 6, 3, 3, 8, 2, 8, 6, 5, 4, 8, 3, 4, 7, 1, 1, 6, 1, 3, 7, 3, 1, 5, 8, 3, 1, 5, 3, 7, 3, 4, 5, 8, 5, 5, 2, 8, 1, 2, 2, 6, 6, 6, 3, 7, 2, 7, 5, 2, 4, 6, 6, 6, 6, 2, 4, 8, 3, 1, 2, 3, 4, 5, 6, 7, 8, 5, 7, 8, 8, 5, 1, 6, 8, 1, 1, 2, 6, 8, 5, 5, 8, 2, 1, 6, 7, 3, 3, 3, 3, 2, 8, 2, 8, 3, 2, 6, 4, 2, 7, 7, 6, 2, 2, 2, 8, 4, 7, 5, 1, 2, 3, 4, 5, 6, 7, 8, 3, 2, 1, 1, 5, 7, 7, 7, 5, 5, 6, 3, 6, 7, 5, 4, 4, 7, 5, 4, 3, 4, 6, 8, 7, 7, 7, 2, 2, 4, 6, 4, 1, 2, 5, 7, 1, 7, 6, 2, 1, 2, 3, 4, 5, 6, 7, 8, 5, 2, 4, 4, 4, 1, 6, 7, 2, 8, 1, 1, 1, 6, 2, 7, 4, 8, 8, 8, 5, 3, 8, 1, 1, 3, 4, 1, 2, 3, 4, 5, 6, 7, 8, 8, 7, 2, 3, 5, 5, 7, 5, 1, 7, 5, 7, 5, 6, 4, 1, 3, 6, 8, 8, 8, 1, 4, 1, 2, 3, 4, 5, 6, 7, 8, 7, 3, 3, 6, 5, 4, 4, 4, 3, 2, 4, 6, 8, 2, 8, 1, 5, 4, 5, 2, 7, 8, 7, 4, 4, 8, 7, 6, 6, 1, 3, 4, 8, 6, 3, 1, 3, 1, 5, 3, 5, 1, 1, 7, 1, 3, 4, 4, 2, 1, 6, 2, 5], \"Freq\": [0.9997495463512139, 0.9988670443840714, 0.9991864764883949, 0.9983028794312606, 0.9985948666682447, 0.9989398353866454, 0.9994493477564591, 0.999195411084541, 0.9994902416407097, 0.9987911115221609, 0.9995891842816413, 0.9989551395611214, 0.9996861051325088, 0.9993479530376765, 0.9996985930883091, 0.9996491677276809, 0.9994487494629746, 0.9996710189181599, 0.9997634116787568, 0.9991439508895755, 0.9982528407730707, 0.9994428045319653, 0.9993421556090741, 0.9988457283202495, 0.9998083512915265, 0.9995340458897579, 0.9995639922619741, 0.9997995432782214, 0.9980661964140091, 0.9996516594464309, 0.9997174086784844, 0.9996162179865314, 0.9996496884765421, 0.9989963251877404, 0.9978871044088451, 0.9997014939105452, 0.9982319730552378, 0.9996373049060973, 0.9992778807308867, 0.9995542337030885, 0.9998412781683667, 0.9985768162311424, 0.9989833053120101, 0.9989718226487703, 0.9981693061405285, 0.9997523864268251, 0.9988626116656821, 0.9993168415994901, 0.999682768596759, 0.9996284824256583, 0.9993319022252614, 0.9991253146933169, 0.9988549689243789, 0.9997177823339423, 0.999957641904412, 0.9994067233162681, 0.9989471962902038, 0.9987872975017732, 0.0945061851449579, 0.05492244267586559, 0.7070645998541615, 0.0752091106912754, 0.020781464796273463, 0.01781268411109154, 0.012864716302455002, 0.016823090549364234, 0.9995451336163724, 0.998924592830459, 0.9973613809327616, 0.9981016571369704, 0.9994721956235404, 0.9989748996978441, 0.9997206885360288, 0.9990834229970619, 0.9993067278266755, 0.999652455744382, 0.9998034711078987, 0.9992038138093697, 0.9981599107812027, 0.9998861722388894, 0.998826587772339, 0.9988698766952454, 0.99914345038506, 0.9988941983318668, 0.9992856675546097, 0.9993646479805928, 0.9992538796908395, 0.9992892766945728, 0.9992400884445602, 0.9999623440803674, 0.9996848121875909, 0.9995628841779745, 0.9995440939013728, 0.9998760407942602, 0.9998372280202426, 0.9998386635501564, 0.9996863123805336, 0.9984773888597186, 0.9994845782766674, 0.9988666879652858, 0.9982511499598398, 0.9995751134105807, 0.9994514855711378, 0.9993640082217523, 0.999115937645564, 0.9977340769171559, 0.9994468618990386, 0.9987850542977945, 0.9997024026438295, 0.06281757863046315, 0.07650858935761538, 0.03825429467880769, 0.19489556446887285, 0.2601292038158923, 0.33865117710397125, 0.012482980368874089, 0.015704394657615788, 0.9997017957193474, 0.999144914851652, 0.999151311562295, 0.9992338309064388, 0.9986591069925219, 0.9996646740003476, 0.998443976910586, 0.9993964091852238, 0.9996427763793038, 0.9996266902921005, 0.9990536611419901, 0.9997309039534491, 0.9998109745153945, 0.9975956030632785, 0.9994267906257164, 0.9984740098297289, 0.9992038998824985, 0.9992127756571201, 0.9993662987282509, 0.9989250119296659, 0.999405256268984, 0.9992445362921719, 0.9997855090766781, 0.9980518707012359, 0.9989359555532499, 0.9993031760651171, 0.9998939318851758, 0.9991841009153267, 0.9996505118923908, 0.9998355022504637, 0.9998722538748485, 0.999744620857785, 0.09851251714127522, 0.01698491674849573, 0.8492458374247864, 0.0351021612802245, 0.9992983835882971, 0.9998076560956575, 0.9986450639636827, 0.9997745640918186, 0.11032033514047436, 0.13030350961951237, 0.0754736424538874, 0.05367381574948228, 0.05582076837946157, 0.051031412512584695, 0.4825688911384223, 0.04095725017191264, 0.9995979027175147, 0.9989582055130264, 0.9994256946612818, 0.9985220933011555, 0.9995614737225649, 0.9996212438093093, 0.998357101732404, 0.9994619137566936, 0.9995737807302976, 0.998818844403593, 0.9997636770695122, 0.9999037427607613, 0.9995031147091938, 0.9997266732845053, 0.9991056486107635, 0.9995513848756852, 0.9992949861663984, 0.999095854942237, 0.9990639116804919, 0.9986446617643404, 0.9998127803082737, 0.9988271735812229, 0.9997503109792107, 0.9997555219965321, 0.9999580079652661, 0.9989858043710207, 0.9987743593594435, 0.04089469155310643, 0.0635172868803568, 0.7430652465181466, 0.019142196046134926, 0.017401996405577203, 0.09919137951179006, 0.006090698741952021, 0.011311297663625182, 0.9979020919952816, 0.9987009400887359, 0.9999091485168246, 0.9993740982242088, 0.9985049264369005, 0.998730640480181, 0.9982299911739584, 0.9991880126712143, 0.9998243163962282, 0.9996443610981753, 0.999598206663897, 0.99894731133319, 0.9997549596467905, 0.9987343739819251, 0.9995930904256535, 0.9996063965797635, 0.9998423810369854, 0.9983571337436057, 0.9990444603709147, 0.9987559240623564, 0.9992032474131809, 0.9999246490960699, 0.9996086740249986, 0.09450608152179105, 0.054922382455072284, 0.7070638245792639, 0.07520902822676565, 0.02078144201002735, 0.017812664580023445, 0.012864702196683599, 0.016823072103355475, 0.9977881619557064, 0.999710917283198, 0.9987908237632139, 0.9989461422971639, 0.9996656219657876, 0.9992818984045696, 0.9988779349063788, 0.9994105191540426, 0.9996370361935595, 0.9998617001121062, 0.9999276247151506, 0.9996336712369144, 0.9975316403852177, 0.9998644839117437, 0.9983397445624584, 0.999843563645962, 0.9998996067017945, 0.9991307017909508, 0.9978327002442323, 0.9997926281558749, 0.9995478893581351, 0.9989931711497969, 0.9981482820603325, 0.9993687608037611, 0.9998830374828892, 0.9989079934269486, 0.9995951186155456, 0.999744682035274, 0.9994471758196182, 0.9995139565938282, 0.9998850616785946, 0.999668903937136, 0.9987674606866328, 0.9995443195801234, 0.9998439143066861, 0.999509349081361, 0.9998684169942282, 0.999687843063856, 0.9994102083373488, 0.9993232734415051, 0.9999306530826673, 0.9998491404925635, 0.9998101015917681, 0.9993308341791352, 0.9997926603009832, 0.9996745019050638, 0.9995826138081039, 0.9996304784245632, 0.9994021889564084, 0.9996137391088223, 0.9992258230832017, 0.9997509506552943, 0.9981650471675768], \"Term\": [\"accept\", \"act\", \"action\", \"agree\", \"ali\", \"allow\", \"also\", \"always\", \"american\", \"ass\", \"audit\", \"away\", \"back\", \"bad\", \"ballot\", \"barr\", \"begin\", \"believe\", \"biden\", \"big\", \"block\", \"break\", \"bring\", \"buy\", \"call\", \"case\", \"cast\", \"ceifie\", \"change\", \"cheat\", \"citizen\", \"com\", \"come\", \"concede\", \"constitution\", \"continue\", \"correct\", \"corrupt\", \"corruption\", \"count\", \"country\", \"county\", \"covid\", \"crime_family\", \"crowd\", \"day\", \"dead\", \"declare\", \"dem\", \"demand\", \"democracy\", \"destroy\", \"do\", \"dominion\", \"election\", \"elector\", \"electoral\", \"emergency\", \"enabling_american\", \"enabling_american\", \"enabling_american\", \"enabling_american\", \"enabling_american\", \"enabling_american\", \"enabling_american\", \"enabling_american\", \"end\", \"enough\", \"entire\", \"error\", \"even\", \"ever\", \"evidence\", \"exactly\", \"expose\", \"fact\", \"fair\", \"fake\", \"feel\", \"fight\", \"fighting\", \"file\", \"find\", \"first\", \"fix\", \"fly\", \"folk\", \"follower\", \"foreign_interference\", \"fraud\", \"fraudulent\", \"freedom\", \"full\", \"get\", \"give\", \"go\", \"good\", \"government\", \"great\", \"group\", \"guy\", \"happen\", \"hear\", \"help\", \"hide\", \"hiding\", \"history\", \"hold\", \"home\", \"home_save\", \"home_save\", \"home_save\", \"home_save\", \"home_save\", \"home_save\", \"home_save\", \"home_save\", \"honest\", \"hope\", \"hundreds_thousand\", \"illegal\", \"influence\", \"integrity\", \"interesting\", \"job\", \"join\", \"judge\", \"justice\", \"keep\", \"know\", \"landslide\", \"last\", \"late\", \"law\", \"lawsuit\", \"leader\", \"leave\", \"legal\", \"legitimate\", \"let\", \"level\", \"lie\", \"list\", \"live\", \"long\", \"look\", \"lose\", \"love\", \"machine\", \"maial_law\", \"maial_law\", \"maial_law\", \"maial_law\", \"mail\", \"make\", \"man\", \"many\", \"march_washingto\", \"march_washingto\", \"march_washingto\", \"march_washingto\", \"march_washingto\", \"march_washingto\", \"march_washingto\", \"march_washingto\", \"massive\", \"mean\", \"medium\", \"member\", \"military\", \"million\", \"money\", \"much\", \"nation\", \"national\", \"need\", \"never\", \"new\", \"news\", \"next\", \"night\", \"observer\", \"office\", \"one\", \"open\", \"order\", \"oveurn\", \"patriot\", \"pay\", \"people\", \"petition\", \"place\", \"platter\", \"platter\", \"platter\", \"platter\", \"platter\", \"platter\", \"platter\", \"platter\", \"potus\", \"power\", \"president\", \"pro\", \"process\", \"protect\", \"protest\", \"put\", \"rally\", \"read\", \"real\", \"really\", \"recount\", \"release\", \"republican\", \"result\", \"right\", \"rudy\", \"rule\", \"run\", \"save\", \"say\", \"scotus\", \"seal_fate\", \"seal_fate\", \"seal_fate\", \"seal_fate\", \"seal_fate\", \"seal_fate\", \"seal_fate\", \"seal_fate\", \"seat\", \"see\", \"send\", \"serve\", \"show\", \"sign\", \"sign_petition\", \"son\", \"speak\", \"stand\", \"state\", \"statement\", \"stay\", \"steal\", \"step\", \"still\", \"stop\", \"story\", \"street\", \"suppo\", \"suppoer\", \"supreme_cou\", \"sure\", \"system\", \"take\", \"team\", \"tell\", \"thank\", \"thing\", \"think\", \"time\", \"today\", \"tomorrow\", \"true\", \"trump\", \"truth\", \"try\", \"use\", \"verification\", \"video\", \"vote\", \"voter\", \"voting\", \"wait\", \"want\", \"watch\", \"way\", \"well\", \"win\", \"work\", \"world\", \"year\", \"yet\"]}, \"R\": 30, \"lambda.step\": 0.01, \"plot.opts\": {\"xlab\": \"PC1\", \"ylab\": \"PC2\"}, \"topic.order\": [6, 7, 1, 5, 4, 3, 8, 2]};\n",
       "\n",
       "function LDAvis_load_lib(url, callback){\n",
       "  var s = document.createElement('script');\n",
       "  s.src = url;\n",
       "  s.async = true;\n",
       "  s.onreadystatechange = s.onload = callback;\n",
       "  s.onerror = function(){console.warn(\"failed to load library \" + url);};\n",
       "  document.getElementsByTagName(\"head\")[0].appendChild(s);\n",
       "}\n",
       "\n",
       "if(typeof(LDAvis) !== \"undefined\"){\n",
       "   // already loaded: just create the visualization\n",
       "   !function(LDAvis){\n",
       "       new LDAvis(\"#\" + \"ldavis_el1489620747799297282189197016\", ldavis_el1489620747799297282189197016_data);\n",
       "   }(LDAvis);\n",
       "}else if(typeof define === \"function\" && define.amd){\n",
       "   // require.js is available: use it to load d3/LDAvis\n",
       "   require.config({paths: {d3: \"https://d3js.org/d3.v5\"}});\n",
       "   require([\"d3\"], function(d3){\n",
       "      window.d3 = d3;\n",
       "      LDAvis_load_lib(\"https://cdn.jsdelivr.net/gh/bmabey/pyLDAvis@3.3.1/pyLDAvis/js/ldavis.v3.0.0.js\", function(){\n",
       "        new LDAvis(\"#\" + \"ldavis_el1489620747799297282189197016\", ldavis_el1489620747799297282189197016_data);\n",
       "      });\n",
       "    });\n",
       "}else{\n",
       "    // require.js not available: dynamically load d3 & LDAvis\n",
       "    LDAvis_load_lib(\"https://d3js.org/d3.v5.js\", function(){\n",
       "         LDAvis_load_lib(\"https://cdn.jsdelivr.net/gh/bmabey/pyLDAvis@3.3.1/pyLDAvis/js/ldavis.v3.0.0.js\", function(){\n",
       "                 new LDAvis(\"#\" + \"ldavis_el1489620747799297282189197016\", ldavis_el1489620747799297282189197016_data);\n",
       "            })\n",
       "         });\n",
       "}\n",
       "</script>"
      ],
      "text/plain": [
       "PreparedData(topic_coordinates=              x         y  topics  cluster       Freq\n",
       "topic                                                \n",
       "5     -0.103500  0.388677       1        1  19.239140\n",
       "6     -0.251424 -0.208797       2        1  18.151159\n",
       "0     -0.070628  0.020159       3        1  14.354966\n",
       "4      0.300626 -0.008702       4        1  12.954380\n",
       "3      0.173657 -0.017116       5        1  11.235237\n",
       "2      0.075919 -0.132373       6        1  10.649975\n",
       "7     -0.103258 -0.047615       7        1   7.453224\n",
       "1     -0.021392  0.005767       8        1   5.961919, topic_info=          Term          Freq         Total Category  logprob  loglift\n",
       "17    election  26807.000000  26807.000000  Default  30.0000  30.0000\n",
       "33        vote  15971.000000  15971.000000  Default  29.0000  29.0000\n",
       "151      fraud  15011.000000  15011.000000  Default  28.0000  28.0000\n",
       "276      fight  11294.000000  11294.000000  Default  27.0000  27.0000\n",
       "266       live   9241.000000   9241.000000  Default  26.0000  26.0000\n",
       "...        ...           ...           ...      ...      ...      ...\n",
       "562       open    484.775921    485.658231   Topic8  -4.7153   2.8180\n",
       "158       file    460.640215    461.521576   Topic8  -4.7663   2.8179\n",
       "907       feel    434.920415    435.801914   Topic8  -4.8238   2.8178\n",
       "422        buy    368.544742    369.426418   Topic8  -4.9894   2.8174\n",
       "1848    entire    291.890801    292.772515   Topic8  -5.2226   2.8168\n",
       "\n",
       "[277 rows x 6 columns], token_table=      Topic      Freq    Term\n",
       "term                         \n",
       "820       2  0.999750  accept\n",
       "45        6  0.998867     act\n",
       "399       3  0.999186  action\n",
       "149       3  0.998303   agree\n",
       "274       8  0.998595     ali\n",
       "...     ...       ...     ...\n",
       "128       2  0.999402     win\n",
       "43        1  0.999614    work\n",
       "747       6  0.999226   world\n",
       "91        2  0.999751    year\n",
       "218       5  0.998165     yet\n",
       "\n",
       "[284 rows x 3 columns], R=30, lambda_step=0.01, plot_opts={'xlab': 'PC1', 'ylab': 'PC2'}, topic_order=[6, 7, 1, 5, 4, 3, 8, 2])"
      ]
     },
     "execution_count": 48,
     "metadata": {},
     "output_type": "execute_result"
    }
   ],
   "source": [
    "# Visualize the topics\n",
    "pyLDAvis.enable_notebook()\n",
    "vis = pyLDAvis.gensim_models.prepare(lda_model, corpus, id2word)\n",
    "vis"
   ]
  },
  {
   "cell_type": "code",
   "execution_count": 50,
   "id": "d7d11320",
   "metadata": {},
   "outputs": [],
   "source": [
    "# Export LDA Model\n",
    "pyLDAvis.save_html(vis, r\"C:\\Users\\Ivory-UALR\\Documents\\COSMOS\\Billy's Project\\community_topic_model\\1st_community_dataset\\1st_analysis_LDAmodel\\1st_analysis_lda_vis(08_topics).html\")"
   ]
  },
  {
   "cell_type": "markdown",
   "id": "a28ec28e",
   "metadata": {},
   "source": [
    "#### Visualize Topic Distribution (Dominant topic per text, Topic distribution over time (Topic Stream))"
   ]
  },
  {
   "cell_type": "code",
   "execution_count": 51,
   "id": "b872ee09",
   "metadata": {},
   "outputs": [
    {
     "data": {
      "text/html": [
       "<div>\n",
       "<style scoped>\n",
       "    .dataframe tbody tr th:only-of-type {\n",
       "        vertical-align: middle;\n",
       "    }\n",
       "\n",
       "    .dataframe tbody tr th {\n",
       "        vertical-align: top;\n",
       "    }\n",
       "\n",
       "    .dataframe thead th {\n",
       "        text-align: right;\n",
       "    }\n",
       "</style>\n",
       "<table border=\"1\" class=\"dataframe\">\n",
       "  <thead>\n",
       "    <tr style=\"text-align: right;\">\n",
       "      <th></th>\n",
       "      <th>Document_No</th>\n",
       "      <th>Dominant_Topic</th>\n",
       "      <th>Topic_Perc_Contrib</th>\n",
       "      <th>Keywords</th>\n",
       "      <th>Text</th>\n",
       "    </tr>\n",
       "  </thead>\n",
       "  <tbody>\n",
       "    <tr>\n",
       "      <th>0</th>\n",
       "      <td>0</td>\n",
       "      <td>5.0</td>\n",
       "      <td>0.1894</td>\n",
       "      <td>people, voter, never, say, need, still, ballot...</td>\n",
       "      <td></td>\n",
       "    </tr>\n",
       "    <tr>\n",
       "      <th>1</th>\n",
       "      <td>1</td>\n",
       "      <td>5.0</td>\n",
       "      <td>0.1894</td>\n",
       "      <td>people, voter, never, say, need, still, ballot...</td>\n",
       "      <td></td>\n",
       "    </tr>\n",
       "    <tr>\n",
       "      <th>2</th>\n",
       "      <td>2</td>\n",
       "      <td>5.0</td>\n",
       "      <td>0.1894</td>\n",
       "      <td>people, voter, never, say, need, still, ballot...</td>\n",
       "      <td></td>\n",
       "    </tr>\n",
       "    <tr>\n",
       "      <th>3</th>\n",
       "      <td>3</td>\n",
       "      <td>4.0</td>\n",
       "      <td>0.2772</td>\n",
       "      <td>state, take, today, machine, demand, citizen, ...</td>\n",
       "      <td>time end cashless bail stupid bail reform turn...</td>\n",
       "    </tr>\n",
       "    <tr>\n",
       "      <th>4</th>\n",
       "      <td>4</td>\n",
       "      <td>5.0</td>\n",
       "      <td>0.1809</td>\n",
       "      <td>people, voter, never, say, need, still, ballot...</td>\n",
       "      <td>thing test run</td>\n",
       "    </tr>\n",
       "    <tr>\n",
       "      <th>5</th>\n",
       "      <td>5</td>\n",
       "      <td>6.0</td>\n",
       "      <td>0.2589</td>\n",
       "      <td>election, steal, president, stand, go, day, su...</td>\n",
       "      <td>steal election election tactic used test run</td>\n",
       "    </tr>\n",
       "    <tr>\n",
       "      <th>6</th>\n",
       "      <td>6</td>\n",
       "      <td>2.0</td>\n",
       "      <td>0.2675</td>\n",
       "      <td>know, thank, country, dominion, let, love, hap...</td>\n",
       "      <td>true know vote primaries got congress votes de...</td>\n",
       "    </tr>\n",
       "    <tr>\n",
       "      <th>7</th>\n",
       "      <td>7</td>\n",
       "      <td>5.0</td>\n",
       "      <td>0.1894</td>\n",
       "      <td>people, voter, never, say, need, still, ballot...</td>\n",
       "      <td></td>\n",
       "    </tr>\n",
       "    <tr>\n",
       "      <th>8</th>\n",
       "      <td>8</td>\n",
       "      <td>5.0</td>\n",
       "      <td>0.2724</td>\n",
       "      <td>people, voter, never, say, need, still, ballot...</td>\n",
       "      <td>test run worked like charm prevented broward c...</td>\n",
       "    </tr>\n",
       "    <tr>\n",
       "      <th>9</th>\n",
       "      <td>9</td>\n",
       "      <td>5.0</td>\n",
       "      <td>0.2586</td>\n",
       "      <td>people, voter, never, say, need, still, ballot...</td>\n",
       "      <td>test run worked like charm prevented broward c...</td>\n",
       "    </tr>\n",
       "  </tbody>\n",
       "</table>\n",
       "</div>"
      ],
      "text/plain": [
       "   Document_No  Dominant_Topic  Topic_Perc_Contrib  \\\n",
       "0            0             5.0              0.1894   \n",
       "1            1             5.0              0.1894   \n",
       "2            2             5.0              0.1894   \n",
       "3            3             4.0              0.2772   \n",
       "4            4             5.0              0.1809   \n",
       "5            5             6.0              0.2589   \n",
       "6            6             2.0              0.2675   \n",
       "7            7             5.0              0.1894   \n",
       "8            8             5.0              0.2724   \n",
       "9            9             5.0              0.2586   \n",
       "\n",
       "                                            Keywords  \\\n",
       "0  people, voter, never, say, need, still, ballot...   \n",
       "1  people, voter, never, say, need, still, ballot...   \n",
       "2  people, voter, never, say, need, still, ballot...   \n",
       "3  state, take, today, machine, demand, citizen, ...   \n",
       "4  people, voter, never, say, need, still, ballot...   \n",
       "5  election, steal, president, stand, go, day, su...   \n",
       "6  know, thank, country, dominion, let, love, hap...   \n",
       "7  people, voter, never, say, need, still, ballot...   \n",
       "8  people, voter, never, say, need, still, ballot...   \n",
       "9  people, voter, never, say, need, still, ballot...   \n",
       "\n",
       "                                                Text  \n",
       "0                                                     \n",
       "1                                                     \n",
       "2                                                     \n",
       "3  time end cashless bail stupid bail reform turn...  \n",
       "4                                     thing test run  \n",
       "5       steal election election tactic used test run  \n",
       "6  true know vote primaries got congress votes de...  \n",
       "7                                                     \n",
       "8  test run worked like charm prevented broward c...  \n",
       "9  test run worked like charm prevented broward c...  "
      ]
     },
     "execution_count": 51,
     "metadata": {},
     "output_type": "execute_result"
    }
   ],
   "source": [
    "# View dominant topic per document (tweet) and topic percent contribution per tweet\n",
    "def format_topics_sentences(ldamodel=None, corpus=corpus, texts=data):\n",
    "    # Init output\n",
    "    sent_topics_df = pd.DataFrame()\n",
    "\n",
    "    # Get main topic in each document\n",
    "    for i, row_list in enumerate(ldamodel[corpus]):\n",
    "        row = row_list[0] if ldamodel.per_word_topics else row_list            \n",
    "        # print(row)\n",
    "        row = sorted(row, key=lambda x: (x[1]), reverse=True)\n",
    "        # Get the Dominant topic, Perc Contribution and Keywords for each document\n",
    "        for j, (topic_num, prop_topic) in enumerate(row):\n",
    "            if j == 0:  # => dominant topic\n",
    "                wp = ldamodel.show_topic(topic_num)\n",
    "                topic_keywords = \", \".join([word for word, prop in wp])\n",
    "                sent_topics_df = sent_topics_df.append(pd.Series([int(topic_num), round(prop_topic,4), topic_keywords]), ignore_index=True)\n",
    "            else:\n",
    "                break\n",
    "    sent_topics_df.columns = ['Dominant_Topic', 'Perc_Contribution', 'Topic_Keywords']\n",
    "\n",
    "    # Add original text to the end of the output\n",
    "    contents = pd.Series(texts)\n",
    "    sent_topics_df = pd.concat([sent_topics_df, contents], axis=1)\n",
    "    return(sent_topics_df)\n",
    "\n",
    "\n",
    "df_topic_sents_keywords = format_topics_sentences(ldamodel=lda_model, corpus=corpus, texts=data)\n",
    "\n",
    "# Format\n",
    "df_dominant_topic = df_topic_sents_keywords.reset_index()\n",
    "df_dominant_topic.columns = ['Document_No', 'Dominant_Topic', 'Topic_Perc_Contrib', 'Keywords', 'Text']\n",
    "df_dominant_topic.head(10)"
   ]
  },
  {
   "cell_type": "markdown",
   "id": "a16eb675",
   "metadata": {},
   "source": [
    "#### Visualize topic stream by Month"
   ]
  },
  {
   "cell_type": "code",
   "execution_count": null,
   "id": "d045c6cb",
   "metadata": {},
   "outputs": [],
   "source": [
    "# Add year column to topic distribution dataset\n",
    "dates = pd.Series(stream_one['create_year'])\n",
    "topic_dist = pd.concat([df_dominant_topic, dates], axis=1)\n",
    "# Drop NaN rows\n",
    "topic_dist.dropna()\n",
    "\n",
    "# Group Dataframe by year and aggregate by count() (over months)\n",
    "topic_dist['create_year'] = pd.to_datetime(topic_dist['create_year'])\n",
    "topic_dist_count = topic_dist.groupby(['Dominant_Topic', pd.Grouper(key='create_year', freq='M')])['Dominant_Topic'].agg(['count']).reset_index()\n",
    "print(topic_dist_count)\n",
    "\n",
    "# return a sorted DataFrame by date then count\n",
    "topic_dist_count = topic_dist_count.sort_values(by=['create_year', 'count'])\n",
    "# reset the index\n",
    "topic_dist_count = topic_dist_count.reset_index(drop=True)"
   ]
  },
  {
   "cell_type": "code",
   "execution_count": 30,
   "id": "ae3ca64f",
   "metadata": {},
   "outputs": [
    {
     "data": {
      "text/plain": [
       "Index(['Dominant_Topic', 'create_year', 'count'], dtype='object')"
      ]
     },
     "execution_count": 30,
     "metadata": {},
     "output_type": "execute_result"
    }
   ],
   "source": [
    "# df_dominant_topic[df_dominant_topic.Dominant_Topic == 7.0]\n",
    "topic_dist_count.columns"
   ]
  },
  {
   "cell_type": "code",
   "execution_count": 31,
   "id": "e51bc336",
   "metadata": {},
   "outputs": [
    {
     "data": {
      "application/vnd.plotly.v1+json": {
       "config": {
        "plotlyServerURL": "https://plot.ly"
       },
       "data": [
        {
         "hovertemplate": "Dominant_Topic=1.0<br>create_year=%{x}<br>count=%{y}<extra></extra>",
         "legendgroup": "1.0",
         "line": {
          "color": "#636efa"
         },
         "marker": {
          "symbol": "circle"
         },
         "mode": "lines",
         "name": "1.0",
         "orientation": "v",
         "showlegend": true,
         "stackgroup": "1",
         "type": "scatter",
         "x": [
          "2020-09-30T00:00:00",
          "2020-11-30T00:00:00"
         ],
         "xaxis": "x",
         "y": [
          1,
          20
         ],
         "yaxis": "y"
        },
        {
         "hovertemplate": "Dominant_Topic=3.0<br>create_year=%{x}<br>count=%{y}<extra></extra>",
         "legendgroup": "3.0",
         "line": {
          "color": "#EF553B"
         },
         "marker": {
          "symbol": "circle"
         },
         "mode": "lines",
         "name": "3.0",
         "orientation": "v",
         "showlegend": true,
         "stackgroup": "1",
         "type": "scatter",
         "x": [
          "2020-09-30T00:00:00",
          "2020-10-31T00:00:00",
          "2020-11-30T00:00:00",
          "2020-12-31T00:00:00"
         ],
         "xaxis": "x",
         "y": [
          4,
          2,
          970,
          15
         ],
         "yaxis": "y"
        },
        {
         "hovertemplate": "Dominant_Topic=5.0<br>create_year=%{x}<br>count=%{y}<extra></extra>",
         "legendgroup": "5.0",
         "line": {
          "color": "#00cc96"
         },
         "marker": {
          "symbol": "circle"
         },
         "mode": "lines",
         "name": "5.0",
         "orientation": "v",
         "showlegend": true,
         "stackgroup": "1",
         "type": "scatter",
         "x": [
          "2020-09-30T00:00:00",
          "2020-11-30T00:00:00",
          "2020-12-31T00:00:00"
         ],
         "xaxis": "x",
         "y": [
          8,
          2073,
          27
         ],
         "yaxis": "y"
        },
        {
         "hovertemplate": "Dominant_Topic=0.0<br>create_year=%{x}<br>count=%{y}<extra></extra>",
         "legendgroup": "0.0",
         "line": {
          "color": "#ab63fa"
         },
         "marker": {
          "symbol": "circle"
         },
         "mode": "lines",
         "name": "0.0",
         "orientation": "v",
         "showlegend": true,
         "stackgroup": "1",
         "type": "scatter",
         "x": [
          "2020-09-30T00:00:00",
          "2020-10-31T00:00:00",
          "2020-11-30T00:00:00",
          "2020-12-31T00:00:00"
         ],
         "xaxis": "x",
         "y": [
          9,
          6,
          2591,
          71
         ],
         "yaxis": "y"
        },
        {
         "hovertemplate": "Dominant_Topic=9.0<br>create_year=%{x}<br>count=%{y}<extra></extra>",
         "legendgroup": "9.0",
         "line": {
          "color": "#FFA15A"
         },
         "marker": {
          "symbol": "circle"
         },
         "mode": "lines",
         "name": "9.0",
         "orientation": "v",
         "showlegend": true,
         "stackgroup": "1",
         "type": "scatter",
         "x": [
          "2020-09-30T00:00:00",
          "2020-10-31T00:00:00",
          "2020-11-30T00:00:00",
          "2020-12-31T00:00:00"
         ],
         "xaxis": "x",
         "y": [
          9,
          6,
          2023,
          70
         ],
         "yaxis": "y"
        },
        {
         "hovertemplate": "Dominant_Topic=4.0<br>create_year=%{x}<br>count=%{y}<extra></extra>",
         "legendgroup": "4.0",
         "line": {
          "color": "#19d3f3"
         },
         "marker": {
          "symbol": "circle"
         },
         "mode": "lines",
         "name": "4.0",
         "orientation": "v",
         "showlegend": true,
         "stackgroup": "1",
         "type": "scatter",
         "x": [
          "2020-09-30T00:00:00",
          "2020-10-31T00:00:00",
          "2020-11-30T00:00:00",
          "2020-12-31T00:00:00"
         ],
         "xaxis": "x",
         "y": [
          96,
          31,
          1558,
          18
         ],
         "yaxis": "y"
        },
        {
         "hovertemplate": "Dominant_Topic=8.0<br>create_year=%{x}<br>count=%{y}<extra></extra>",
         "legendgroup": "8.0",
         "line": {
          "color": "#FF6692"
         },
         "marker": {
          "symbol": "circle"
         },
         "mode": "lines",
         "name": "8.0",
         "orientation": "v",
         "showlegend": true,
         "stackgroup": "1",
         "type": "scatter",
         "x": [
          "2020-09-30T00:00:00",
          "2020-10-31T00:00:00",
          "2020-11-30T00:00:00",
          "2020-12-31T00:00:00"
         ],
         "xaxis": "x",
         "y": [
          1530,
          594,
          193366,
          2380
         ],
         "yaxis": "y"
        },
        {
         "hovertemplate": "Dominant_Topic=7.0<br>create_year=%{x}<br>count=%{y}<extra></extra>",
         "legendgroup": "7.0",
         "line": {
          "color": "#B6E880"
         },
         "marker": {
          "symbol": "circle"
         },
         "mode": "lines",
         "name": "7.0",
         "orientation": "v",
         "showlegend": true,
         "stackgroup": "1",
         "type": "scatter",
         "x": [
          "2020-11-30T00:00:00"
         ],
         "xaxis": "x",
         "y": [
          92
         ],
         "yaxis": "y"
        },
        {
         "hovertemplate": "Dominant_Topic=2.0<br>create_year=%{x}<br>count=%{y}<extra></extra>",
         "legendgroup": "2.0",
         "line": {
          "color": "#FF97FF"
         },
         "marker": {
          "symbol": "circle"
         },
         "mode": "lines",
         "name": "2.0",
         "orientation": "v",
         "showlegend": true,
         "stackgroup": "1",
         "type": "scatter",
         "x": [
          "2020-11-30T00:00:00",
          "2020-12-31T00:00:00"
         ],
         "xaxis": "x",
         "y": [
          206,
          3
         ],
         "yaxis": "y"
        },
        {
         "hovertemplate": "Dominant_Topic=6.0<br>create_year=%{x}<br>count=%{y}<extra></extra>",
         "legendgroup": "6.0",
         "line": {
          "color": "#FECB52"
         },
         "marker": {
          "symbol": "circle"
         },
         "mode": "lines",
         "name": "6.0",
         "orientation": "v",
         "showlegend": true,
         "stackgroup": "1",
         "type": "scatter",
         "x": [
          "2020-11-30T00:00:00",
          "2020-12-31T00:00:00"
         ],
         "xaxis": "x",
         "y": [
          623,
          6
         ],
         "yaxis": "y"
        }
       ],
       "layout": {
        "legend": {
         "title": {
          "text": "Dominant_Topic"
         },
         "tracegroupgap": 0
        },
        "margin": {
         "t": 60
        },
        "template": {
         "data": {
          "bar": [
           {
            "error_x": {
             "color": "#2a3f5f"
            },
            "error_y": {
             "color": "#2a3f5f"
            },
            "marker": {
             "line": {
              "color": "#E5ECF6",
              "width": 0.5
             },
             "pattern": {
              "fillmode": "overlay",
              "size": 10,
              "solidity": 0.2
             }
            },
            "type": "bar"
           }
          ],
          "barpolar": [
           {
            "marker": {
             "line": {
              "color": "#E5ECF6",
              "width": 0.5
             },
             "pattern": {
              "fillmode": "overlay",
              "size": 10,
              "solidity": 0.2
             }
            },
            "type": "barpolar"
           }
          ],
          "carpet": [
           {
            "aaxis": {
             "endlinecolor": "#2a3f5f",
             "gridcolor": "white",
             "linecolor": "white",
             "minorgridcolor": "white",
             "startlinecolor": "#2a3f5f"
            },
            "baxis": {
             "endlinecolor": "#2a3f5f",
             "gridcolor": "white",
             "linecolor": "white",
             "minorgridcolor": "white",
             "startlinecolor": "#2a3f5f"
            },
            "type": "carpet"
           }
          ],
          "choropleth": [
           {
            "colorbar": {
             "outlinewidth": 0,
             "ticks": ""
            },
            "type": "choropleth"
           }
          ],
          "contour": [
           {
            "colorbar": {
             "outlinewidth": 0,
             "ticks": ""
            },
            "colorscale": [
             [
              0,
              "#0d0887"
             ],
             [
              0.1111111111111111,
              "#46039f"
             ],
             [
              0.2222222222222222,
              "#7201a8"
             ],
             [
              0.3333333333333333,
              "#9c179e"
             ],
             [
              0.4444444444444444,
              "#bd3786"
             ],
             [
              0.5555555555555556,
              "#d8576b"
             ],
             [
              0.6666666666666666,
              "#ed7953"
             ],
             [
              0.7777777777777778,
              "#fb9f3a"
             ],
             [
              0.8888888888888888,
              "#fdca26"
             ],
             [
              1,
              "#f0f921"
             ]
            ],
            "type": "contour"
           }
          ],
          "contourcarpet": [
           {
            "colorbar": {
             "outlinewidth": 0,
             "ticks": ""
            },
            "type": "contourcarpet"
           }
          ],
          "heatmap": [
           {
            "colorbar": {
             "outlinewidth": 0,
             "ticks": ""
            },
            "colorscale": [
             [
              0,
              "#0d0887"
             ],
             [
              0.1111111111111111,
              "#46039f"
             ],
             [
              0.2222222222222222,
              "#7201a8"
             ],
             [
              0.3333333333333333,
              "#9c179e"
             ],
             [
              0.4444444444444444,
              "#bd3786"
             ],
             [
              0.5555555555555556,
              "#d8576b"
             ],
             [
              0.6666666666666666,
              "#ed7953"
             ],
             [
              0.7777777777777778,
              "#fb9f3a"
             ],
             [
              0.8888888888888888,
              "#fdca26"
             ],
             [
              1,
              "#f0f921"
             ]
            ],
            "type": "heatmap"
           }
          ],
          "heatmapgl": [
           {
            "colorbar": {
             "outlinewidth": 0,
             "ticks": ""
            },
            "colorscale": [
             [
              0,
              "#0d0887"
             ],
             [
              0.1111111111111111,
              "#46039f"
             ],
             [
              0.2222222222222222,
              "#7201a8"
             ],
             [
              0.3333333333333333,
              "#9c179e"
             ],
             [
              0.4444444444444444,
              "#bd3786"
             ],
             [
              0.5555555555555556,
              "#d8576b"
             ],
             [
              0.6666666666666666,
              "#ed7953"
             ],
             [
              0.7777777777777778,
              "#fb9f3a"
             ],
             [
              0.8888888888888888,
              "#fdca26"
             ],
             [
              1,
              "#f0f921"
             ]
            ],
            "type": "heatmapgl"
           }
          ],
          "histogram": [
           {
            "marker": {
             "pattern": {
              "fillmode": "overlay",
              "size": 10,
              "solidity": 0.2
             }
            },
            "type": "histogram"
           }
          ],
          "histogram2d": [
           {
            "colorbar": {
             "outlinewidth": 0,
             "ticks": ""
            },
            "colorscale": [
             [
              0,
              "#0d0887"
             ],
             [
              0.1111111111111111,
              "#46039f"
             ],
             [
              0.2222222222222222,
              "#7201a8"
             ],
             [
              0.3333333333333333,
              "#9c179e"
             ],
             [
              0.4444444444444444,
              "#bd3786"
             ],
             [
              0.5555555555555556,
              "#d8576b"
             ],
             [
              0.6666666666666666,
              "#ed7953"
             ],
             [
              0.7777777777777778,
              "#fb9f3a"
             ],
             [
              0.8888888888888888,
              "#fdca26"
             ],
             [
              1,
              "#f0f921"
             ]
            ],
            "type": "histogram2d"
           }
          ],
          "histogram2dcontour": [
           {
            "colorbar": {
             "outlinewidth": 0,
             "ticks": ""
            },
            "colorscale": [
             [
              0,
              "#0d0887"
             ],
             [
              0.1111111111111111,
              "#46039f"
             ],
             [
              0.2222222222222222,
              "#7201a8"
             ],
             [
              0.3333333333333333,
              "#9c179e"
             ],
             [
              0.4444444444444444,
              "#bd3786"
             ],
             [
              0.5555555555555556,
              "#d8576b"
             ],
             [
              0.6666666666666666,
              "#ed7953"
             ],
             [
              0.7777777777777778,
              "#fb9f3a"
             ],
             [
              0.8888888888888888,
              "#fdca26"
             ],
             [
              1,
              "#f0f921"
             ]
            ],
            "type": "histogram2dcontour"
           }
          ],
          "mesh3d": [
           {
            "colorbar": {
             "outlinewidth": 0,
             "ticks": ""
            },
            "type": "mesh3d"
           }
          ],
          "parcoords": [
           {
            "line": {
             "colorbar": {
              "outlinewidth": 0,
              "ticks": ""
             }
            },
            "type": "parcoords"
           }
          ],
          "pie": [
           {
            "automargin": true,
            "type": "pie"
           }
          ],
          "scatter": [
           {
            "marker": {
             "colorbar": {
              "outlinewidth": 0,
              "ticks": ""
             }
            },
            "type": "scatter"
           }
          ],
          "scatter3d": [
           {
            "line": {
             "colorbar": {
              "outlinewidth": 0,
              "ticks": ""
             }
            },
            "marker": {
             "colorbar": {
              "outlinewidth": 0,
              "ticks": ""
             }
            },
            "type": "scatter3d"
           }
          ],
          "scattercarpet": [
           {
            "marker": {
             "colorbar": {
              "outlinewidth": 0,
              "ticks": ""
             }
            },
            "type": "scattercarpet"
           }
          ],
          "scattergeo": [
           {
            "marker": {
             "colorbar": {
              "outlinewidth": 0,
              "ticks": ""
             }
            },
            "type": "scattergeo"
           }
          ],
          "scattergl": [
           {
            "marker": {
             "colorbar": {
              "outlinewidth": 0,
              "ticks": ""
             }
            },
            "type": "scattergl"
           }
          ],
          "scattermapbox": [
           {
            "marker": {
             "colorbar": {
              "outlinewidth": 0,
              "ticks": ""
             }
            },
            "type": "scattermapbox"
           }
          ],
          "scatterpolar": [
           {
            "marker": {
             "colorbar": {
              "outlinewidth": 0,
              "ticks": ""
             }
            },
            "type": "scatterpolar"
           }
          ],
          "scatterpolargl": [
           {
            "marker": {
             "colorbar": {
              "outlinewidth": 0,
              "ticks": ""
             }
            },
            "type": "scatterpolargl"
           }
          ],
          "scatterternary": [
           {
            "marker": {
             "colorbar": {
              "outlinewidth": 0,
              "ticks": ""
             }
            },
            "type": "scatterternary"
           }
          ],
          "surface": [
           {
            "colorbar": {
             "outlinewidth": 0,
             "ticks": ""
            },
            "colorscale": [
             [
              0,
              "#0d0887"
             ],
             [
              0.1111111111111111,
              "#46039f"
             ],
             [
              0.2222222222222222,
              "#7201a8"
             ],
             [
              0.3333333333333333,
              "#9c179e"
             ],
             [
              0.4444444444444444,
              "#bd3786"
             ],
             [
              0.5555555555555556,
              "#d8576b"
             ],
             [
              0.6666666666666666,
              "#ed7953"
             ],
             [
              0.7777777777777778,
              "#fb9f3a"
             ],
             [
              0.8888888888888888,
              "#fdca26"
             ],
             [
              1,
              "#f0f921"
             ]
            ],
            "type": "surface"
           }
          ],
          "table": [
           {
            "cells": {
             "fill": {
              "color": "#EBF0F8"
             },
             "line": {
              "color": "white"
             }
            },
            "header": {
             "fill": {
              "color": "#C8D4E3"
             },
             "line": {
              "color": "white"
             }
            },
            "type": "table"
           }
          ]
         },
         "layout": {
          "annotationdefaults": {
           "arrowcolor": "#2a3f5f",
           "arrowhead": 0,
           "arrowwidth": 1
          },
          "autotypenumbers": "strict",
          "coloraxis": {
           "colorbar": {
            "outlinewidth": 0,
            "ticks": ""
           }
          },
          "colorscale": {
           "diverging": [
            [
             0,
             "#8e0152"
            ],
            [
             0.1,
             "#c51b7d"
            ],
            [
             0.2,
             "#de77ae"
            ],
            [
             0.3,
             "#f1b6da"
            ],
            [
             0.4,
             "#fde0ef"
            ],
            [
             0.5,
             "#f7f7f7"
            ],
            [
             0.6,
             "#e6f5d0"
            ],
            [
             0.7,
             "#b8e186"
            ],
            [
             0.8,
             "#7fbc41"
            ],
            [
             0.9,
             "#4d9221"
            ],
            [
             1,
             "#276419"
            ]
           ],
           "sequential": [
            [
             0,
             "#0d0887"
            ],
            [
             0.1111111111111111,
             "#46039f"
            ],
            [
             0.2222222222222222,
             "#7201a8"
            ],
            [
             0.3333333333333333,
             "#9c179e"
            ],
            [
             0.4444444444444444,
             "#bd3786"
            ],
            [
             0.5555555555555556,
             "#d8576b"
            ],
            [
             0.6666666666666666,
             "#ed7953"
            ],
            [
             0.7777777777777778,
             "#fb9f3a"
            ],
            [
             0.8888888888888888,
             "#fdca26"
            ],
            [
             1,
             "#f0f921"
            ]
           ],
           "sequentialminus": [
            [
             0,
             "#0d0887"
            ],
            [
             0.1111111111111111,
             "#46039f"
            ],
            [
             0.2222222222222222,
             "#7201a8"
            ],
            [
             0.3333333333333333,
             "#9c179e"
            ],
            [
             0.4444444444444444,
             "#bd3786"
            ],
            [
             0.5555555555555556,
             "#d8576b"
            ],
            [
             0.6666666666666666,
             "#ed7953"
            ],
            [
             0.7777777777777778,
             "#fb9f3a"
            ],
            [
             0.8888888888888888,
             "#fdca26"
            ],
            [
             1,
             "#f0f921"
            ]
           ]
          },
          "colorway": [
           "#636efa",
           "#EF553B",
           "#00cc96",
           "#ab63fa",
           "#FFA15A",
           "#19d3f3",
           "#FF6692",
           "#B6E880",
           "#FF97FF",
           "#FECB52"
          ],
          "font": {
           "color": "#2a3f5f"
          },
          "geo": {
           "bgcolor": "white",
           "lakecolor": "white",
           "landcolor": "#E5ECF6",
           "showlakes": true,
           "showland": true,
           "subunitcolor": "white"
          },
          "hoverlabel": {
           "align": "left"
          },
          "hovermode": "closest",
          "mapbox": {
           "style": "light"
          },
          "paper_bgcolor": "white",
          "plot_bgcolor": "#E5ECF6",
          "polar": {
           "angularaxis": {
            "gridcolor": "white",
            "linecolor": "white",
            "ticks": ""
           },
           "bgcolor": "#E5ECF6",
           "radialaxis": {
            "gridcolor": "white",
            "linecolor": "white",
            "ticks": ""
           }
          },
          "scene": {
           "xaxis": {
            "backgroundcolor": "#E5ECF6",
            "gridcolor": "white",
            "gridwidth": 2,
            "linecolor": "white",
            "showbackground": true,
            "ticks": "",
            "zerolinecolor": "white"
           },
           "yaxis": {
            "backgroundcolor": "#E5ECF6",
            "gridcolor": "white",
            "gridwidth": 2,
            "linecolor": "white",
            "showbackground": true,
            "ticks": "",
            "zerolinecolor": "white"
           },
           "zaxis": {
            "backgroundcolor": "#E5ECF6",
            "gridcolor": "white",
            "gridwidth": 2,
            "linecolor": "white",
            "showbackground": true,
            "ticks": "",
            "zerolinecolor": "white"
           }
          },
          "shapedefaults": {
           "line": {
            "color": "#2a3f5f"
           }
          },
          "ternary": {
           "aaxis": {
            "gridcolor": "white",
            "linecolor": "white",
            "ticks": ""
           },
           "baxis": {
            "gridcolor": "white",
            "linecolor": "white",
            "ticks": ""
           },
           "bgcolor": "#E5ECF6",
           "caxis": {
            "gridcolor": "white",
            "linecolor": "white",
            "ticks": ""
           }
          },
          "title": {
           "x": 0.05
          },
          "xaxis": {
           "automargin": true,
           "gridcolor": "white",
           "linecolor": "white",
           "ticks": "",
           "title": {
            "standoff": 15
           },
           "zerolinecolor": "white",
           "zerolinewidth": 2
          },
          "yaxis": {
           "automargin": true,
           "gridcolor": "white",
           "linecolor": "white",
           "ticks": "",
           "title": {
            "standoff": 15
           },
           "zerolinecolor": "white",
           "zerolinewidth": 2
          }
         }
        },
        "xaxis": {
         "anchor": "y",
         "domain": [
          0,
          1
         ],
         "title": {
          "text": "create_year"
         }
        },
        "yaxis": {
         "anchor": "x",
         "domain": [
          0,
          1
         ],
         "title": {
          "text": "count"
         }
        }
       }
      }
     },
     "metadata": {},
     "output_type": "display_data"
    }
   ],
   "source": [
    "# Plot topic distribution over time\n",
    "topic_stream = px.area(topic_dist_count, x='create_year', y='count', color='Dominant_Topic')\n",
    "topic_stream"
   ]
  },
  {
   "cell_type": "code",
   "execution_count": 32,
   "id": "029b0f4f",
   "metadata": {},
   "outputs": [],
   "source": [
    "# Export topic stream plot\n",
    "topic_stream.write_html(r\"C:\\Users\\Ivory-UALR\\Documents\\COSMOS\\Billy's Project\\community_topic_model\\1st_community_dataset_3262022\\1st_analysis_LDAmodel\\1st_analysis_topicstream_vis.html\")"
   ]
  },
  {
   "cell_type": "code",
   "execution_count": 33,
   "id": "055fdcfd",
   "metadata": {},
   "outputs": [
    {
     "data": {
      "text/plain": [
       "Document_No                  float64\n",
       "Dominant_Topic               float64\n",
       "Topic_Perc_Contrib           float32\n",
       "Keywords                      object\n",
       "Text                          object\n",
       "create_year           datetime64[ns]\n",
       "dtype: object"
      ]
     },
     "execution_count": 33,
     "metadata": {},
     "output_type": "execute_result"
    }
   ],
   "source": [
    "topic_dist.dtypes"
   ]
  },
  {
   "cell_type": "markdown",
   "id": "26b9c8b2",
   "metadata": {},
   "source": [
    "#### Visualize topic streams by weeks"
   ]
  },
  {
   "cell_type": "code",
   "execution_count": 36,
   "id": "afdf4289",
   "metadata": {},
   "outputs": [
    {
     "ename": "NameError",
     "evalue": "name 'df_dominant_topic' is not defined",
     "output_type": "error",
     "traceback": [
      "\u001b[1;31m---------------------------------------------------------------------------\u001b[0m",
      "\u001b[1;31mNameError\u001b[0m                                 Traceback (most recent call last)",
      "\u001b[1;32mC:\\Users\\IVORY-~1\\AppData\\Local\\Temp/ipykernel_14896/813514737.py\u001b[0m in \u001b[0;36m<module>\u001b[1;34m\u001b[0m\n\u001b[0;32m      1\u001b[0m \u001b[1;31m# Add year column to topic_dist_week distribution dataset\u001b[0m\u001b[1;33m\u001b[0m\u001b[1;33m\u001b[0m\u001b[0m\n\u001b[0;32m      2\u001b[0m \u001b[0mdates\u001b[0m \u001b[1;33m=\u001b[0m \u001b[0mpd\u001b[0m\u001b[1;33m.\u001b[0m\u001b[0mSeries\u001b[0m\u001b[1;33m(\u001b[0m\u001b[0mstream_one\u001b[0m\u001b[1;33m[\u001b[0m\u001b[1;34m'create_year'\u001b[0m\u001b[1;33m]\u001b[0m\u001b[1;33m)\u001b[0m\u001b[1;33m\u001b[0m\u001b[1;33m\u001b[0m\u001b[0m\n\u001b[1;32m----> 3\u001b[1;33m \u001b[0mtopic_dist_week\u001b[0m \u001b[1;33m=\u001b[0m \u001b[0mpd\u001b[0m\u001b[1;33m.\u001b[0m\u001b[0mconcat\u001b[0m\u001b[1;33m(\u001b[0m\u001b[1;33m[\u001b[0m\u001b[0mdf_dominant_topic\u001b[0m\u001b[1;33m,\u001b[0m \u001b[0mdates\u001b[0m\u001b[1;33m]\u001b[0m\u001b[1;33m,\u001b[0m \u001b[0maxis\u001b[0m\u001b[1;33m=\u001b[0m\u001b[1;36m1\u001b[0m\u001b[1;33m)\u001b[0m\u001b[1;33m\u001b[0m\u001b[1;33m\u001b[0m\u001b[0m\n\u001b[0m\u001b[0;32m      4\u001b[0m \u001b[1;33m\u001b[0m\u001b[0m\n\u001b[0;32m      5\u001b[0m \u001b[1;31m# Drop NaN rows\u001b[0m\u001b[1;33m\u001b[0m\u001b[1;33m\u001b[0m\u001b[0m\n",
      "\u001b[1;31mNameError\u001b[0m: name 'df_dominant_topic' is not defined"
     ]
    }
   ],
   "source": [
    "# Add year column to topic_dist_week distribution dataset\n",
    "dates = pd.Series(stream_one['create_year'])\n",
    "topic_dist_week = pd.concat([df_dominant_topic, dates], axis=1)\n",
    "\n",
    "# Drop NaN rows\n",
    "topic_dist_week = topic_dist_week.dropna()\n",
    "\n",
    "# Add a year column to the topic_dist_week dataframe\n",
    "topic_dist_week['year'] = pd.to_datetime(topic_dist_week.create_year).dt.strftime('%Y')\n",
    "\n",
    "# Add a week_number column to the topic_dist_week dataframe\n",
    "topic_dist_week['week_number'] = topic_dist_week.create_year.apply(lambda x: x.isocalendar()[1])\n",
    "\n",
    "# Convert weeks to date_range and add date_range column to topic_dist_week dataframe\n",
    "def date_range(year, week): # Function to return date range per week\n",
    "    monday = dt.datetime.strptime(f'{year}-{week}-1', \"%Y-%W-%w\").date()\n",
    "    return (monday.strftime(\"%m-%d-%Y\"), (monday + dt.timedelta(days=6.9)).strftime(\"%m-%d-%Y\"))\n",
    "\n",
    "for column in topic_dist_week:\n",
    "    date_range_list = []\n",
    "    years = topic_dist_week['year'].values\n",
    "    weeks = topic_dist_week['week_number'].values\n",
    "    for (year, week) in zip(years, weeks):\n",
    "        date_interval = date_range(year, week)\n",
    "        date_range_list.append(date_interval)\n",
    "\n",
    "topic_dist_week['date_range'] = pd.Series(date_range_list)"
   ]
  },
  {
   "cell_type": "code",
   "execution_count": 307,
   "id": "985a4ff2",
   "metadata": {},
   "outputs": [
    {
     "data": {
      "text/html": [
       "<div>\n",
       "<style scoped>\n",
       "    .dataframe tbody tr th:only-of-type {\n",
       "        vertical-align: middle;\n",
       "    }\n",
       "\n",
       "    .dataframe tbody tr th {\n",
       "        vertical-align: top;\n",
       "    }\n",
       "\n",
       "    .dataframe thead th {\n",
       "        text-align: right;\n",
       "    }\n",
       "</style>\n",
       "<table border=\"1\" class=\"dataframe\">\n",
       "  <thead>\n",
       "    <tr style=\"text-align: right;\">\n",
       "      <th></th>\n",
       "      <th>week_number</th>\n",
       "      <th>date_interval</th>\n",
       "    </tr>\n",
       "  </thead>\n",
       "  <tbody>\n",
       "    <tr>\n",
       "      <th>0</th>\n",
       "      <td>36</td>\n",
       "      <td>(09-14-2020, 09-20-2020)</td>\n",
       "    </tr>\n",
       "    <tr>\n",
       "      <th>1</th>\n",
       "      <td>37</td>\n",
       "      <td>(10-19-2020, 10-25-2020)</td>\n",
       "    </tr>\n",
       "    <tr>\n",
       "      <th>2</th>\n",
       "      <td>38</td>\n",
       "      <td>(11-30-2020, 12-06-2020)</td>\n",
       "    </tr>\n",
       "    <tr>\n",
       "      <th>3</th>\n",
       "      <td>39</td>\n",
       "      <td>(09-07-2020, 09-13-2020)</td>\n",
       "    </tr>\n",
       "    <tr>\n",
       "      <th>4</th>\n",
       "      <td>40</td>\n",
       "      <td>(12-07-2020, 12-13-2020)</td>\n",
       "    </tr>\n",
       "    <tr>\n",
       "      <th>5</th>\n",
       "      <td>41</td>\n",
       "      <td>(11-16-2020, 11-22-2020)</td>\n",
       "    </tr>\n",
       "    <tr>\n",
       "      <th>6</th>\n",
       "      <td>42</td>\n",
       "      <td>(09-28-2020, 10-04-2020)</td>\n",
       "    </tr>\n",
       "    <tr>\n",
       "      <th>7</th>\n",
       "      <td>43</td>\n",
       "      <td>(09-21-2020, 09-27-2020)</td>\n",
       "    </tr>\n",
       "    <tr>\n",
       "      <th>8</th>\n",
       "      <td>44</td>\n",
       "      <td>(10-05-2020, 10-11-2020)</td>\n",
       "    </tr>\n",
       "    <tr>\n",
       "      <th>9</th>\n",
       "      <td>45</td>\n",
       "      <td>(11-02-2020, 11-08-2020)</td>\n",
       "    </tr>\n",
       "    <tr>\n",
       "      <th>10</th>\n",
       "      <td>46</td>\n",
       "      <td>(10-26-2020, 11-01-2020)</td>\n",
       "    </tr>\n",
       "    <tr>\n",
       "      <th>11</th>\n",
       "      <td>47</td>\n",
       "      <td>(11-23-2020, 11-29-2020)</td>\n",
       "    </tr>\n",
       "    <tr>\n",
       "      <th>12</th>\n",
       "      <td>48</td>\n",
       "      <td>(10-12-2020, 10-18-2020)</td>\n",
       "    </tr>\n",
       "    <tr>\n",
       "      <th>13</th>\n",
       "      <td>49</td>\n",
       "      <td>(11-09-2020, 11-15-2020)</td>\n",
       "    </tr>\n",
       "  </tbody>\n",
       "</table>\n",
       "</div>"
      ],
      "text/plain": [
       "    week_number             date_interval\n",
       "0            36  (09-14-2020, 09-20-2020)\n",
       "1            37  (10-19-2020, 10-25-2020)\n",
       "2            38  (11-30-2020, 12-06-2020)\n",
       "3            39  (09-07-2020, 09-13-2020)\n",
       "4            40  (12-07-2020, 12-13-2020)\n",
       "5            41  (11-16-2020, 11-22-2020)\n",
       "6            42  (09-28-2020, 10-04-2020)\n",
       "7            43  (09-21-2020, 09-27-2020)\n",
       "8            44  (10-05-2020, 10-11-2020)\n",
       "9            45  (11-02-2020, 11-08-2020)\n",
       "10           46  (10-26-2020, 11-01-2020)\n",
       "11           47  (11-23-2020, 11-29-2020)\n",
       "12           48  (10-12-2020, 10-18-2020)\n",
       "13           49  (11-09-2020, 11-15-2020)"
      ]
     },
     "execution_count": 307,
     "metadata": {},
     "output_type": "execute_result"
    }
   ],
   "source": [
    "# Generate week-date_interval information\n",
    "years = topic_dist_week['year'].values\n",
    "weeks = topic_dist_week['week_number'].values\n",
    "for (year, week) in zip(years, weeks):\n",
    "        date_interval = date_range(year, week)\n",
    "        date_range_list.append(date_interval)\n",
    "\n",
    "unique_weeks = pd.Series(list(set(weeks)))\n",
    "unique_interval = pd.Series(list(set(date_range_list)))\n",
    "\n",
    "topic_week_agg = pd.DataFrame()\n",
    "topic_week_agg['week_number'] = unique_weeks\n",
    "topic_week_agg['date_interval'] = unique_interval\n",
    "topic_week_agg"
   ]
  },
  {
   "cell_type": "code",
   "execution_count": 309,
   "id": "4a249686",
   "metadata": {},
   "outputs": [],
   "source": [
    "# Export week information\n",
    "topic_week_agg.to_excel(r\"C:\\Users\\Ivory-UALR\\Documents\\COSMOS\\Billy's Project\\community_topic_model\\1st_community_dataset_3262022\\1st_analysis_LDAmodel_28032022\\1st_analysis_week_information.xlsx\")"
   ]
  },
  {
   "cell_type": "markdown",
   "id": "da9edcae",
   "metadata": {},
   "source": [
    "#### Plot topics by weeks"
   ]
  },
  {
   "cell_type": "code",
   "execution_count": 308,
   "id": "8216bf75",
   "metadata": {},
   "outputs": [
    {
     "data": {
      "text/html": [
       "<div>\n",
       "<style scoped>\n",
       "    .dataframe tbody tr th:only-of-type {\n",
       "        vertical-align: middle;\n",
       "    }\n",
       "\n",
       "    .dataframe tbody tr th {\n",
       "        vertical-align: top;\n",
       "    }\n",
       "\n",
       "    .dataframe thead th {\n",
       "        text-align: right;\n",
       "    }\n",
       "</style>\n",
       "<table border=\"1\" class=\"dataframe\">\n",
       "  <thead>\n",
       "    <tr style=\"text-align: right;\">\n",
       "      <th></th>\n",
       "      <th>Dominant_Topic</th>\n",
       "      <th>week_number</th>\n",
       "      <th>count</th>\n",
       "    </tr>\n",
       "  </thead>\n",
       "  <tbody>\n",
       "    <tr>\n",
       "      <th>0</th>\n",
       "      <td>0.0</td>\n",
       "      <td>36</td>\n",
       "      <td>1</td>\n",
       "    </tr>\n",
       "    <tr>\n",
       "      <th>1</th>\n",
       "      <td>4.0</td>\n",
       "      <td>36</td>\n",
       "      <td>5</td>\n",
       "    </tr>\n",
       "    <tr>\n",
       "      <th>2</th>\n",
       "      <td>8.0</td>\n",
       "      <td>36</td>\n",
       "      <td>73</td>\n",
       "    </tr>\n",
       "    <tr>\n",
       "      <th>3</th>\n",
       "      <td>1.0</td>\n",
       "      <td>37</td>\n",
       "      <td>1</td>\n",
       "    </tr>\n",
       "    <tr>\n",
       "      <th>4</th>\n",
       "      <td>5.0</td>\n",
       "      <td>37</td>\n",
       "      <td>1</td>\n",
       "    </tr>\n",
       "    <tr>\n",
       "      <th>...</th>\n",
       "      <td>...</td>\n",
       "      <td>...</td>\n",
       "      <td>...</td>\n",
       "    </tr>\n",
       "    <tr>\n",
       "      <th>82</th>\n",
       "      <td>5.0</td>\n",
       "      <td>49</td>\n",
       "      <td>56</td>\n",
       "    </tr>\n",
       "    <tr>\n",
       "      <th>83</th>\n",
       "      <td>0.0</td>\n",
       "      <td>49</td>\n",
       "      <td>98</td>\n",
       "    </tr>\n",
       "    <tr>\n",
       "      <th>84</th>\n",
       "      <td>9.0</td>\n",
       "      <td>49</td>\n",
       "      <td>109</td>\n",
       "    </tr>\n",
       "    <tr>\n",
       "      <th>85</th>\n",
       "      <td>4.0</td>\n",
       "      <td>49</td>\n",
       "      <td>156</td>\n",
       "    </tr>\n",
       "    <tr>\n",
       "      <th>86</th>\n",
       "      <td>8.0</td>\n",
       "      <td>49</td>\n",
       "      <td>5784</td>\n",
       "    </tr>\n",
       "  </tbody>\n",
       "</table>\n",
       "<p>87 rows × 3 columns</p>\n",
       "</div>"
      ],
      "text/plain": [
       "    Dominant_Topic  week_number  count\n",
       "0              0.0           36      1\n",
       "1              4.0           36      5\n",
       "2              8.0           36     73\n",
       "3              1.0           37      1\n",
       "4              5.0           37      1\n",
       "..             ...          ...    ...\n",
       "82             5.0           49     56\n",
       "83             0.0           49     98\n",
       "84             9.0           49    109\n",
       "85             4.0           49    156\n",
       "86             8.0           49   5784\n",
       "\n",
       "[87 rows x 3 columns]"
      ]
     },
     "execution_count": 308,
     "metadata": {},
     "output_type": "execute_result"
    }
   ],
   "source": [
    "# Group Dataframe by week_number and aggregrate by count() NB: Convert datee_range list to date_range tuple\n",
    "topic_dist_week_count = topic_dist_week.groupby(['Dominant_Topic', pd.Grouper(key='week_number')])['Dominant_Topic'].agg(['count']).reset_index()\n",
    "# return a sorted DataFrame by date then count\n",
    "topic_dist_week_count = topic_dist_week_count.sort_values(by=['week_number', 'count'])\n",
    "# reset the index\n",
    "topic_dist_week_count = topic_dist_week_count.reset_index(drop=True)\n",
    "topic_dist_week_count"
   ]
  },
  {
   "cell_type": "code",
   "execution_count": 233,
   "id": "9bf2a6c7",
   "metadata": {},
   "outputs": [
    {
     "data": {
      "application/vnd.plotly.v1+json": {
       "config": {
        "plotlyServerURL": "https://plot.ly"
       },
       "data": [
        {
         "hovertemplate": "Dominant_Topic=0.0<br>week_number=%{x}<br>count=%{y}<extra></extra>",
         "legendgroup": "0.0",
         "line": {
          "color": "#636efa"
         },
         "marker": {
          "symbol": "circle"
         },
         "mode": "lines",
         "name": "0.0",
         "orientation": "v",
         "showlegend": true,
         "stackgroup": "1",
         "type": "scatter",
         "x": [
          36,
          37,
          39,
          40,
          41,
          42,
          44,
          45,
          46,
          47,
          48,
          49
         ],
         "xaxis": "x",
         "y": [
          1,
          2,
          1,
          6,
          1,
          1,
          3,
          660,
          819,
          685,
          400,
          98
         ],
         "yaxis": "y"
        },
        {
         "hovertemplate": "Dominant_Topic=4.0<br>week_number=%{x}<br>count=%{y}<extra></extra>",
         "legendgroup": "4.0",
         "line": {
          "color": "#EF553B"
         },
         "marker": {
          "symbol": "circle"
         },
         "mode": "lines",
         "name": "4.0",
         "orientation": "v",
         "showlegend": true,
         "stackgroup": "1",
         "type": "scatter",
         "x": [
          36,
          37,
          38,
          39,
          40,
          41,
          42,
          43,
          44,
          45,
          46,
          47,
          48,
          49
         ],
         "xaxis": "x",
         "y": [
          5,
          41,
          4,
          18,
          33,
          7,
          7,
          5,
          7,
          783,
          296,
          160,
          181,
          156
         ],
         "yaxis": "y"
        },
        {
         "hovertemplate": "Dominant_Topic=8.0<br>week_number=%{x}<br>count=%{y}<extra></extra>",
         "legendgroup": "8.0",
         "line": {
          "color": "#00cc96"
         },
         "marker": {
          "symbol": "circle"
         },
         "mode": "lines",
         "name": "8.0",
         "orientation": "v",
         "showlegend": true,
         "stackgroup": "1",
         "type": "scatter",
         "x": [
          36,
          37,
          38,
          39,
          40,
          41,
          42,
          43,
          44,
          45,
          46,
          47,
          48,
          49
         ],
         "xaxis": "x",
         "y": [
          73,
          608,
          143,
          208,
          578,
          220,
          94,
          83,
          133,
          91580,
          53264,
          27271,
          17831,
          5784
         ],
         "yaxis": "y"
        },
        {
         "hovertemplate": "Dominant_Topic=1.0<br>week_number=%{x}<br>count=%{y}<extra></extra>",
         "legendgroup": "1.0",
         "line": {
          "color": "#ab63fa"
         },
         "marker": {
          "symbol": "circle"
         },
         "mode": "lines",
         "name": "1.0",
         "orientation": "v",
         "showlegend": true,
         "stackgroup": "1",
         "type": "scatter",
         "x": [
          37,
          45,
          46,
          47,
          48,
          49
         ],
         "xaxis": "x",
         "y": [
          1,
          9,
          3,
          4,
          3,
          1
         ],
         "yaxis": "y"
        },
        {
         "hovertemplate": "Dominant_Topic=5.0<br>week_number=%{x}<br>count=%{y}<extra></extra>",
         "legendgroup": "5.0",
         "line": {
          "color": "#FFA15A"
         },
         "marker": {
          "symbol": "circle"
         },
         "mode": "lines",
         "name": "5.0",
         "orientation": "v",
         "showlegend": true,
         "stackgroup": "1",
         "type": "scatter",
         "x": [
          37,
          40,
          45,
          46,
          47,
          48,
          49
         ],
         "xaxis": "x",
         "y": [
          1,
          7,
          609,
          589,
          513,
          333,
          56
         ],
         "yaxis": "y"
        },
        {
         "hovertemplate": "Dominant_Topic=3.0<br>week_number=%{x}<br>count=%{y}<extra></extra>",
         "legendgroup": "3.0",
         "line": {
          "color": "#19d3f3"
         },
         "marker": {
          "symbol": "circle"
         },
         "mode": "lines",
         "name": "3.0",
         "orientation": "v",
         "showlegend": true,
         "stackgroup": "1",
         "type": "scatter",
         "x": [
          37,
          40,
          41,
          42,
          45,
          46,
          47,
          48,
          49
         ],
         "xaxis": "x",
         "y": [
          2,
          2,
          1,
          1,
          310,
          206,
          252,
          196,
          21
         ],
         "yaxis": "y"
        },
        {
         "hovertemplate": "Dominant_Topic=9.0<br>week_number=%{x}<br>count=%{y}<extra></extra>",
         "legendgroup": "9.0",
         "line": {
          "color": "#FF6692"
         },
         "marker": {
          "symbol": "circle"
         },
         "mode": "lines",
         "name": "9.0",
         "orientation": "v",
         "showlegend": true,
         "stackgroup": "1",
         "type": "scatter",
         "x": [
          37,
          38,
          40,
          41,
          42,
          43,
          45,
          46,
          47,
          48,
          49
         ],
         "xaxis": "x",
         "y": [
          3,
          1,
          5,
          4,
          1,
          1,
          909,
          447,
          366,
          262,
          109
         ],
         "yaxis": "y"
        },
        {
         "hovertemplate": "Dominant_Topic=2.0<br>week_number=%{x}<br>count=%{y}<extra></extra>",
         "legendgroup": "2.0",
         "line": {
          "color": "#B6E880"
         },
         "marker": {
          "symbol": "circle"
         },
         "mode": "lines",
         "name": "2.0",
         "orientation": "v",
         "showlegend": true,
         "stackgroup": "1",
         "type": "scatter",
         "x": [
          45,
          46,
          47,
          48,
          49
         ],
         "xaxis": "x",
         "y": [
          9,
          56,
          117,
          16,
          11
         ],
         "yaxis": "y"
        },
        {
         "hovertemplate": "Dominant_Topic=7.0<br>week_number=%{x}<br>count=%{y}<extra></extra>",
         "legendgroup": "7.0",
         "line": {
          "color": "#FF97FF"
         },
         "marker": {
          "symbol": "circle"
         },
         "mode": "lines",
         "name": "7.0",
         "orientation": "v",
         "showlegend": true,
         "stackgroup": "1",
         "type": "scatter",
         "x": [
          45,
          46,
          47,
          48
         ],
         "xaxis": "x",
         "y": [
          16,
          14,
          50,
          12
         ],
         "yaxis": "y"
        },
        {
         "hovertemplate": "Dominant_Topic=6.0<br>week_number=%{x}<br>count=%{y}<extra></extra>",
         "legendgroup": "6.0",
         "line": {
          "color": "#FECB52"
         },
         "marker": {
          "symbol": "circle"
         },
         "mode": "lines",
         "name": "6.0",
         "orientation": "v",
         "showlegend": true,
         "stackgroup": "1",
         "type": "scatter",
         "x": [
          45,
          46,
          47,
          48,
          49
         ],
         "xaxis": "x",
         "y": [
          43,
          86,
          418,
          64,
          18
         ],
         "yaxis": "y"
        }
       ],
       "layout": {
        "legend": {
         "title": {
          "text": "Dominant_Topic"
         },
         "tracegroupgap": 0
        },
        "margin": {
         "t": 60
        },
        "template": {
         "data": {
          "bar": [
           {
            "error_x": {
             "color": "#2a3f5f"
            },
            "error_y": {
             "color": "#2a3f5f"
            },
            "marker": {
             "line": {
              "color": "#E5ECF6",
              "width": 0.5
             },
             "pattern": {
              "fillmode": "overlay",
              "size": 10,
              "solidity": 0.2
             }
            },
            "type": "bar"
           }
          ],
          "barpolar": [
           {
            "marker": {
             "line": {
              "color": "#E5ECF6",
              "width": 0.5
             },
             "pattern": {
              "fillmode": "overlay",
              "size": 10,
              "solidity": 0.2
             }
            },
            "type": "barpolar"
           }
          ],
          "carpet": [
           {
            "aaxis": {
             "endlinecolor": "#2a3f5f",
             "gridcolor": "white",
             "linecolor": "white",
             "minorgridcolor": "white",
             "startlinecolor": "#2a3f5f"
            },
            "baxis": {
             "endlinecolor": "#2a3f5f",
             "gridcolor": "white",
             "linecolor": "white",
             "minorgridcolor": "white",
             "startlinecolor": "#2a3f5f"
            },
            "type": "carpet"
           }
          ],
          "choropleth": [
           {
            "colorbar": {
             "outlinewidth": 0,
             "ticks": ""
            },
            "type": "choropleth"
           }
          ],
          "contour": [
           {
            "colorbar": {
             "outlinewidth": 0,
             "ticks": ""
            },
            "colorscale": [
             [
              0,
              "#0d0887"
             ],
             [
              0.1111111111111111,
              "#46039f"
             ],
             [
              0.2222222222222222,
              "#7201a8"
             ],
             [
              0.3333333333333333,
              "#9c179e"
             ],
             [
              0.4444444444444444,
              "#bd3786"
             ],
             [
              0.5555555555555556,
              "#d8576b"
             ],
             [
              0.6666666666666666,
              "#ed7953"
             ],
             [
              0.7777777777777778,
              "#fb9f3a"
             ],
             [
              0.8888888888888888,
              "#fdca26"
             ],
             [
              1,
              "#f0f921"
             ]
            ],
            "type": "contour"
           }
          ],
          "contourcarpet": [
           {
            "colorbar": {
             "outlinewidth": 0,
             "ticks": ""
            },
            "type": "contourcarpet"
           }
          ],
          "heatmap": [
           {
            "colorbar": {
             "outlinewidth": 0,
             "ticks": ""
            },
            "colorscale": [
             [
              0,
              "#0d0887"
             ],
             [
              0.1111111111111111,
              "#46039f"
             ],
             [
              0.2222222222222222,
              "#7201a8"
             ],
             [
              0.3333333333333333,
              "#9c179e"
             ],
             [
              0.4444444444444444,
              "#bd3786"
             ],
             [
              0.5555555555555556,
              "#d8576b"
             ],
             [
              0.6666666666666666,
              "#ed7953"
             ],
             [
              0.7777777777777778,
              "#fb9f3a"
             ],
             [
              0.8888888888888888,
              "#fdca26"
             ],
             [
              1,
              "#f0f921"
             ]
            ],
            "type": "heatmap"
           }
          ],
          "heatmapgl": [
           {
            "colorbar": {
             "outlinewidth": 0,
             "ticks": ""
            },
            "colorscale": [
             [
              0,
              "#0d0887"
             ],
             [
              0.1111111111111111,
              "#46039f"
             ],
             [
              0.2222222222222222,
              "#7201a8"
             ],
             [
              0.3333333333333333,
              "#9c179e"
             ],
             [
              0.4444444444444444,
              "#bd3786"
             ],
             [
              0.5555555555555556,
              "#d8576b"
             ],
             [
              0.6666666666666666,
              "#ed7953"
             ],
             [
              0.7777777777777778,
              "#fb9f3a"
             ],
             [
              0.8888888888888888,
              "#fdca26"
             ],
             [
              1,
              "#f0f921"
             ]
            ],
            "type": "heatmapgl"
           }
          ],
          "histogram": [
           {
            "marker": {
             "pattern": {
              "fillmode": "overlay",
              "size": 10,
              "solidity": 0.2
             }
            },
            "type": "histogram"
           }
          ],
          "histogram2d": [
           {
            "colorbar": {
             "outlinewidth": 0,
             "ticks": ""
            },
            "colorscale": [
             [
              0,
              "#0d0887"
             ],
             [
              0.1111111111111111,
              "#46039f"
             ],
             [
              0.2222222222222222,
              "#7201a8"
             ],
             [
              0.3333333333333333,
              "#9c179e"
             ],
             [
              0.4444444444444444,
              "#bd3786"
             ],
             [
              0.5555555555555556,
              "#d8576b"
             ],
             [
              0.6666666666666666,
              "#ed7953"
             ],
             [
              0.7777777777777778,
              "#fb9f3a"
             ],
             [
              0.8888888888888888,
              "#fdca26"
             ],
             [
              1,
              "#f0f921"
             ]
            ],
            "type": "histogram2d"
           }
          ],
          "histogram2dcontour": [
           {
            "colorbar": {
             "outlinewidth": 0,
             "ticks": ""
            },
            "colorscale": [
             [
              0,
              "#0d0887"
             ],
             [
              0.1111111111111111,
              "#46039f"
             ],
             [
              0.2222222222222222,
              "#7201a8"
             ],
             [
              0.3333333333333333,
              "#9c179e"
             ],
             [
              0.4444444444444444,
              "#bd3786"
             ],
             [
              0.5555555555555556,
              "#d8576b"
             ],
             [
              0.6666666666666666,
              "#ed7953"
             ],
             [
              0.7777777777777778,
              "#fb9f3a"
             ],
             [
              0.8888888888888888,
              "#fdca26"
             ],
             [
              1,
              "#f0f921"
             ]
            ],
            "type": "histogram2dcontour"
           }
          ],
          "mesh3d": [
           {
            "colorbar": {
             "outlinewidth": 0,
             "ticks": ""
            },
            "type": "mesh3d"
           }
          ],
          "parcoords": [
           {
            "line": {
             "colorbar": {
              "outlinewidth": 0,
              "ticks": ""
             }
            },
            "type": "parcoords"
           }
          ],
          "pie": [
           {
            "automargin": true,
            "type": "pie"
           }
          ],
          "scatter": [
           {
            "marker": {
             "colorbar": {
              "outlinewidth": 0,
              "ticks": ""
             }
            },
            "type": "scatter"
           }
          ],
          "scatter3d": [
           {
            "line": {
             "colorbar": {
              "outlinewidth": 0,
              "ticks": ""
             }
            },
            "marker": {
             "colorbar": {
              "outlinewidth": 0,
              "ticks": ""
             }
            },
            "type": "scatter3d"
           }
          ],
          "scattercarpet": [
           {
            "marker": {
             "colorbar": {
              "outlinewidth": 0,
              "ticks": ""
             }
            },
            "type": "scattercarpet"
           }
          ],
          "scattergeo": [
           {
            "marker": {
             "colorbar": {
              "outlinewidth": 0,
              "ticks": ""
             }
            },
            "type": "scattergeo"
           }
          ],
          "scattergl": [
           {
            "marker": {
             "colorbar": {
              "outlinewidth": 0,
              "ticks": ""
             }
            },
            "type": "scattergl"
           }
          ],
          "scattermapbox": [
           {
            "marker": {
             "colorbar": {
              "outlinewidth": 0,
              "ticks": ""
             }
            },
            "type": "scattermapbox"
           }
          ],
          "scatterpolar": [
           {
            "marker": {
             "colorbar": {
              "outlinewidth": 0,
              "ticks": ""
             }
            },
            "type": "scatterpolar"
           }
          ],
          "scatterpolargl": [
           {
            "marker": {
             "colorbar": {
              "outlinewidth": 0,
              "ticks": ""
             }
            },
            "type": "scatterpolargl"
           }
          ],
          "scatterternary": [
           {
            "marker": {
             "colorbar": {
              "outlinewidth": 0,
              "ticks": ""
             }
            },
            "type": "scatterternary"
           }
          ],
          "surface": [
           {
            "colorbar": {
             "outlinewidth": 0,
             "ticks": ""
            },
            "colorscale": [
             [
              0,
              "#0d0887"
             ],
             [
              0.1111111111111111,
              "#46039f"
             ],
             [
              0.2222222222222222,
              "#7201a8"
             ],
             [
              0.3333333333333333,
              "#9c179e"
             ],
             [
              0.4444444444444444,
              "#bd3786"
             ],
             [
              0.5555555555555556,
              "#d8576b"
             ],
             [
              0.6666666666666666,
              "#ed7953"
             ],
             [
              0.7777777777777778,
              "#fb9f3a"
             ],
             [
              0.8888888888888888,
              "#fdca26"
             ],
             [
              1,
              "#f0f921"
             ]
            ],
            "type": "surface"
           }
          ],
          "table": [
           {
            "cells": {
             "fill": {
              "color": "#EBF0F8"
             },
             "line": {
              "color": "white"
             }
            },
            "header": {
             "fill": {
              "color": "#C8D4E3"
             },
             "line": {
              "color": "white"
             }
            },
            "type": "table"
           }
          ]
         },
         "layout": {
          "annotationdefaults": {
           "arrowcolor": "#2a3f5f",
           "arrowhead": 0,
           "arrowwidth": 1
          },
          "autotypenumbers": "strict",
          "coloraxis": {
           "colorbar": {
            "outlinewidth": 0,
            "ticks": ""
           }
          },
          "colorscale": {
           "diverging": [
            [
             0,
             "#8e0152"
            ],
            [
             0.1,
             "#c51b7d"
            ],
            [
             0.2,
             "#de77ae"
            ],
            [
             0.3,
             "#f1b6da"
            ],
            [
             0.4,
             "#fde0ef"
            ],
            [
             0.5,
             "#f7f7f7"
            ],
            [
             0.6,
             "#e6f5d0"
            ],
            [
             0.7,
             "#b8e186"
            ],
            [
             0.8,
             "#7fbc41"
            ],
            [
             0.9,
             "#4d9221"
            ],
            [
             1,
             "#276419"
            ]
           ],
           "sequential": [
            [
             0,
             "#0d0887"
            ],
            [
             0.1111111111111111,
             "#46039f"
            ],
            [
             0.2222222222222222,
             "#7201a8"
            ],
            [
             0.3333333333333333,
             "#9c179e"
            ],
            [
             0.4444444444444444,
             "#bd3786"
            ],
            [
             0.5555555555555556,
             "#d8576b"
            ],
            [
             0.6666666666666666,
             "#ed7953"
            ],
            [
             0.7777777777777778,
             "#fb9f3a"
            ],
            [
             0.8888888888888888,
             "#fdca26"
            ],
            [
             1,
             "#f0f921"
            ]
           ],
           "sequentialminus": [
            [
             0,
             "#0d0887"
            ],
            [
             0.1111111111111111,
             "#46039f"
            ],
            [
             0.2222222222222222,
             "#7201a8"
            ],
            [
             0.3333333333333333,
             "#9c179e"
            ],
            [
             0.4444444444444444,
             "#bd3786"
            ],
            [
             0.5555555555555556,
             "#d8576b"
            ],
            [
             0.6666666666666666,
             "#ed7953"
            ],
            [
             0.7777777777777778,
             "#fb9f3a"
            ],
            [
             0.8888888888888888,
             "#fdca26"
            ],
            [
             1,
             "#f0f921"
            ]
           ]
          },
          "colorway": [
           "#636efa",
           "#EF553B",
           "#00cc96",
           "#ab63fa",
           "#FFA15A",
           "#19d3f3",
           "#FF6692",
           "#B6E880",
           "#FF97FF",
           "#FECB52"
          ],
          "font": {
           "color": "#2a3f5f"
          },
          "geo": {
           "bgcolor": "white",
           "lakecolor": "white",
           "landcolor": "#E5ECF6",
           "showlakes": true,
           "showland": true,
           "subunitcolor": "white"
          },
          "hoverlabel": {
           "align": "left"
          },
          "hovermode": "closest",
          "mapbox": {
           "style": "light"
          },
          "paper_bgcolor": "white",
          "plot_bgcolor": "#E5ECF6",
          "polar": {
           "angularaxis": {
            "gridcolor": "white",
            "linecolor": "white",
            "ticks": ""
           },
           "bgcolor": "#E5ECF6",
           "radialaxis": {
            "gridcolor": "white",
            "linecolor": "white",
            "ticks": ""
           }
          },
          "scene": {
           "xaxis": {
            "backgroundcolor": "#E5ECF6",
            "gridcolor": "white",
            "gridwidth": 2,
            "linecolor": "white",
            "showbackground": true,
            "ticks": "",
            "zerolinecolor": "white"
           },
           "yaxis": {
            "backgroundcolor": "#E5ECF6",
            "gridcolor": "white",
            "gridwidth": 2,
            "linecolor": "white",
            "showbackground": true,
            "ticks": "",
            "zerolinecolor": "white"
           },
           "zaxis": {
            "backgroundcolor": "#E5ECF6",
            "gridcolor": "white",
            "gridwidth": 2,
            "linecolor": "white",
            "showbackground": true,
            "ticks": "",
            "zerolinecolor": "white"
           }
          },
          "shapedefaults": {
           "line": {
            "color": "#2a3f5f"
           }
          },
          "ternary": {
           "aaxis": {
            "gridcolor": "white",
            "linecolor": "white",
            "ticks": ""
           },
           "baxis": {
            "gridcolor": "white",
            "linecolor": "white",
            "ticks": ""
           },
           "bgcolor": "#E5ECF6",
           "caxis": {
            "gridcolor": "white",
            "linecolor": "white",
            "ticks": ""
           }
          },
          "title": {
           "x": 0.05
          },
          "xaxis": {
           "automargin": true,
           "gridcolor": "white",
           "linecolor": "white",
           "ticks": "",
           "title": {
            "standoff": 15
           },
           "zerolinecolor": "white",
           "zerolinewidth": 2
          },
          "yaxis": {
           "automargin": true,
           "gridcolor": "white",
           "linecolor": "white",
           "ticks": "",
           "title": {
            "standoff": 15
           },
           "zerolinecolor": "white",
           "zerolinewidth": 2
          }
         }
        },
        "xaxis": {
         "anchor": "y",
         "domain": [
          0,
          1
         ],
         "title": {
          "text": "week_number"
         }
        },
        "yaxis": {
         "anchor": "x",
         "domain": [
          0,
          1
         ],
         "title": {
          "text": "count"
         }
        }
       }
      }
     },
     "metadata": {},
     "output_type": "display_data"
    }
   ],
   "source": [
    "# Plot topic distribution over time\n",
    "topic_stream_week = px.area(topic_dist_week_count, x='week_number', y='count', color='Dominant_Topic')\n",
    "topic_stream_week"
   ]
  },
  {
   "cell_type": "code",
   "execution_count": 310,
   "id": "d8287d89",
   "metadata": {},
   "outputs": [],
   "source": [
    "# Export topic stream plot\n",
    "topic_stream_week.write_html(r\"C:\\Users\\Ivory-UALR\\Documents\\COSMOS\\Billy's Project\\community_topic_model\\1st_community_dataset_3262022\\1st_analysis_LDAmodel_28032022\\1st_analysis_topicstream_vis(weeks).html\")"
   ]
  },
  {
   "cell_type": "code",
   "execution_count": null,
   "metadata": {},
   "outputs": [],
   "source": []
  }
 ],
 "metadata": {
  "interpreter": {
   "hash": "e8e5deac7477f8906d41e5c6e61616e3ac62f0bc4d33889d141d235aa45f3e1f"
  },
  "kernelspec": {
   "display_name": "Python 3.9.0 64-bit",
   "language": "python",
   "name": "python3"
  },
  "language_info": {
   "codemirror_mode": {
    "name": "ipython",
    "version": 3
   },
   "file_extension": ".py",
   "mimetype": "text/x-python",
   "name": "python",
   "nbconvert_exporter": "python",
   "pygments_lexer": "ipython3",
   "version": "3.9.0"
  }
 },
 "nbformat": 4,
 "nbformat_minor": 5
}
