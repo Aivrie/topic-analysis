{
 "cells": [
  {
   "cell_type": "markdown",
   "id": "7ca0515e",
   "metadata": {},
   "source": [
    "### Topic Analysis using LDA Topic Model (Community Dataset #2: week 52 (2020) - week 4 (2021) - weekly dataset)"
   ]
  },
  {
   "cell_type": "markdown",
   "id": "d4ccec72",
   "metadata": {},
   "source": [
    "#### Import core libraries"
   ]
  },
  {
   "cell_type": "code",
   "execution_count": 1,
   "id": "6b227340",
   "metadata": {},
   "outputs": [
    {
     "name": "stderr",
     "output_type": "stream",
     "text": [
      "Since the GPL-licensed package `unidecode` is not installed, using Python's `unicodedata` package which yields worse results.\n",
      "[nltk_data] Downloading package stopwords to C:\\Users\\Ivory-\n",
      "[nltk_data]     UALR\\AppData\\Roaming\\nltk_data...\n",
      "[nltk_data]   Package stopwords is already up-to-date!\n"
     ]
    }
   ],
   "source": [
    "# Import Core library\n",
    "import sys\n",
    "import re, numpy as np, pandas as pd, matplotlib.pyplot as plt, nltk, datetime as dt, seaborn as sns\n",
    "import emoji\n",
    "import little_mallet_wrapper\n",
    "import plotly.express as px\n",
    "import wordcloud\n",
    "import openpyxl\n",
    "from pprint import pprint\n",
    "from cleantext import clean\n",
    "\n",
    "# Gensim\n",
    "import gensim\n",
    "import gensim.corpora as corpora\n",
    "from gensim.utils import simple_preprocess\n",
    "from gensim.models import CoherenceModel\n",
    "\n",
    "# spacy for lemmatization\n",
    "import spacy\n",
    "\n",
    "# Plotting tools\n",
    "import pyLDAvis\n",
    "import pyLDAvis.gensim_models  # don't skip this\n",
    "import matplotlib.pyplot as plt\n",
    "\n",
    "# NLTK Stop words\n",
    "from nltk.corpus import stopwords\n",
    "nltk.download('stopwords')\n",
    "stop_words = stopwords.words('english')"
   ]
  },
  {
   "cell_type": "code",
   "execution_count": 44,
   "id": "4662ebc2",
   "metadata": {},
   "outputs": [],
   "source": [
    "#provide string with emojis\n",
    "# text = \"This sample text contains laughing emojis 😀 😃 😄 😁 😆 😅 😂 🤣\"\n",
    "# result = text.encode('ascii', 'ignore').decode('ascii')\n",
    "# print(result)"
   ]
  },
  {
   "cell_type": "markdown",
   "id": "37be7d8d",
   "metadata": {},
   "source": [
    "#### Import Dataset"
   ]
  },
  {
   "cell_type": "code",
   "execution_count": 4,
   "id": "2d753a7a",
   "metadata": {},
   "outputs": [],
   "source": [
    "week1 = (r\"2nd_analysis_LDAmodel\\weekly_datasets\\split_by_week1.xlsx\")\n",
    "week2 = (r\"2nd_analysis_LDAmodel\\weekly_datasets\\split_by_week2.xlsx\")\n",
    "week3 = (r\"2nd_analysis_LDAmodel\\weekly_datasets\\split_by_week3.xlsx\")\n",
    "week4 = (r\"2nd_analysis_LDAmodel\\weekly_datasets\\split_by_week4.xlsx\")\n",
    "week51 = (r\"2nd_analysis_LDAmodel\\weekly_datasets\\split_by_week51.xlsx\")\n",
    "week52 = (r\"2nd_analysis_LDAmodel\\weekly_datasets\\split_by_week52.xlsx\")\n",
    "week53 = (r\"2nd_analysis_LDAmodel\\weekly_datasets\\split_by_week53.xlsx\")\n",
    "\n",
    "# Import Dataset\n",
    "df = pd.read_excel(week51)"
   ]
  },
  {
   "cell_type": "code",
   "execution_count": 2,
   "id": "78b31c6e",
   "metadata": {},
   "outputs": [],
   "source": [
    "# Import files to build models\n",
    "excel_file = r\"2nd_analysis_LDAmodel\\topic_dist (51 -04) (no_duplicate)\\topic_dist_week4.xlsx\"\n",
    "lda_file = r\"2nd_analysis_LDAmodel\\LDAviz 51-04 (no_duplicate)\\week4_LDAviz_no_duplicate.html\""
   ]
  },
  {
   "cell_type": "code",
   "execution_count": null,
   "id": "967811a3",
   "metadata": {},
   "outputs": [],
   "source": [
    "df.tail(2)"
   ]
  },
  {
   "cell_type": "markdown",
   "id": "4719217b",
   "metadata": {},
   "source": [
    "#### Importing Dataset (Cummulative Analysis)"
   ]
  },
  {
   "cell_type": "code",
   "execution_count": 5,
   "id": "32b7202f",
   "metadata": {},
   "outputs": [
    {
     "name": "stderr",
     "output_type": "stream",
     "text": [
      "<>:5: DeprecationWarning: invalid escape sequence \\*\n",
      "<>:5: DeprecationWarning: invalid escape sequence \\*\n",
      "C:\\Users\\IVORY-~1\\AppData\\Local\\Temp/ipykernel_10144/672462022.py:5: DeprecationWarning: invalid escape sequence \\*\n",
      "  excel_files = glob.glob(path + \"\\*.xlsx\")\n"
     ]
    }
   ],
   "source": [
    "# Import multiple files and convert to dataframes (cumulative models)\n",
    "import glob\n",
    "\n",
    "path = r\".\\prob_dist (cummulative)\\week\"\n",
    "excel_files = glob.glob(path + \"\\*.xlsx\")\n",
    "\n",
    "df_list = (pd.read_excel(file) for file in excel_files)\n",
    "\n",
    "dataframes_list = []\n",
    "for file in range(len(excel_files)):\n",
    "    temp_df = pd.read_excel(excel_files[file])\n",
    "    dataframes_list.append(temp_df)"
   ]
  },
  {
   "cell_type": "code",
   "execution_count": 6,
   "id": "d10782fd",
   "metadata": {},
   "outputs": [
    {
     "name": "stdout",
     "output_type": "stream",
     "text": [
      "7\n"
     ]
    }
   ],
   "source": [
    "print(len(dataframes_list))"
   ]
  },
  {
   "cell_type": "code",
   "execution_count": null,
   "id": "25410086",
   "metadata": {},
   "outputs": [],
   "source": [
    "dataframes_list[0]"
   ]
  },
  {
   "cell_type": "code",
   "execution_count": 49,
   "id": "74184f39",
   "metadata": {},
   "outputs": [],
   "source": [
    "# Assign each cummulated excel file to a dataframe\n",
    "df51, df51_01, df51_02, df51_03, df51_04, df51_52, df51_53 = dataframes_list[:]\n",
    "\n",
    "# df51_53.week_number.unique()"
   ]
  },
  {
   "cell_type": "markdown",
   "id": "dbcdf26f",
   "metadata": {},
   "source": [
    "#### Process Dataset"
   ]
  },
  {
   "cell_type": "code",
   "execution_count": 57,
   "id": "4427085e",
   "metadata": {},
   "outputs": [
    {
     "name": "stderr",
     "output_type": "stream",
     "text": [
      "<>:30: DeprecationWarning: invalid escape sequence \\s\n",
      "<>:30: DeprecationWarning: invalid escape sequence \\s\n",
      "C:\\Users\\IVORY-~1\\AppData\\Local\\Temp/ipykernel_9556/361431163.py:30: DeprecationWarning: invalid escape sequence \\s\n",
      "  word=re.sub('(RT\\s@[A-Za-z]+[A-Za-z0-9-_]+)', \"\", word)  # remove retweet\n"
     ]
    }
   ],
   "source": [
    "# Function to remove twitter specific characters\n",
    "def get_url_patern():\n",
    "    return re.compile(\n",
    "        r'(https?:\\/\\/(?:www\\.|(?!www))[a-zA-Z0-9][a-zA-Z0-9-]+[a-zA-Z0-9]\\.[^\\s]{2,}|https?:\\/\\/(?:www\\.|(?!www))'\n",
    "        r'[a-zA-Z0-9]\\.[^\\s]{2,}|www\\.[a-zA-Z0-9]\\.[^\\s]{2,})')\n",
    "\n",
    "def get_hashtags_pattern():\n",
    "    return re.compile(r'#\\w*')\n",
    "\n",
    "def get_single_letter_words_pattern():\n",
    "    return re.compile(r'(?<![\\w\\-])\\w(?![\\w\\-])')\n",
    "\n",
    "def get_blank_spaces_pattern():\n",
    "    return re.compile(r'\\s{2,}|\\t')\n",
    "\n",
    "def get_twitter_reserved_words_pattern():\n",
    "    return re.compile(r'(RT|rt|FAV|fav|VIA|via)')\n",
    "\n",
    "def get_mentions_pattern():\n",
    "    return re.compile(r'@\\w*')\n",
    "\n",
    "def process_text(word):\n",
    "  word=re.sub(pattern=get_url_patern(), repl=\"\", string=word)\n",
    "  word=re.sub(pattern=get_mentions_pattern(), repl=\"\", string=word)\n",
    "  word=re.sub(pattern=get_hashtags_pattern(), repl=\"\", string=word)\n",
    "  word=re.sub(pattern=get_twitter_reserved_words_pattern(), repl='', string=word)\n",
    "  word=re.sub(r'http\\S+', \"\", word)  # remove http links\n",
    "  word=re.sub(r'bit.ly/\\S+', \"\", word)  # rempve bitly links\n",
    "  word=word.strip('[link]')  # remove [links]\n",
    "  word=re.sub('(RT\\s@[A-Za-z]+[A-Za-z0-9-_]+)', \"\", word)  # remove retweet\n",
    "  word=re.sub('(@[A-Za-z]+[A-Za-z0-9-_]+)', \"\", word)  # remove tweeted at\n",
    "  word=word.encode('ascii', 'ignore').decode('ascii')\n",
    "#   word=clean(word, no_emoji=True)\n",
    "  return word\n",
    "\n",
    "\n",
    "def sent_to_words(sentences):\n",
    "    for sentence in sentences:\n",
    "        yield(gensim.utils.simple_preprocess(str(sentence), deacc=True))  # deacc=True removes punctuations"
   ]
  },
  {
   "cell_type": "code",
   "execution_count": 143,
   "id": "e40e8144",
   "metadata": {},
   "outputs": [],
   "source": [
    "# Clean text and remove twitter specific characters\n",
    "df.text = df.apply(lambda row: process_text(row.text), 1)\n",
    "\n",
    "# Remove duplicates, punctuations, stop words, digits and turn text to lowercase (with duplicates)\n",
    "data = [little_mallet_wrapper.process_string(text, numbers='remove') for text in df.text]\n",
    "\n",
    "# Remove punctuations\n",
    "data_words = list(sent_to_words(data))\n",
    "print(data_words[:10])"
   ]
  },
  {
   "cell_type": "code",
   "execution_count": 58,
   "id": "19b2939b",
   "metadata": {},
   "outputs": [],
   "source": [
    "'''Process text and remove duplicates, punctuations, stop words, digits and turn text to lowercase for cummulated files'''\n",
    "data_words_list = []\n",
    "\n",
    "for df in dataframes_list:\n",
    "    df.text = df.apply(lambda row: process_text(row.text), 1)\n",
    "    data = [little_mallet_wrapper.process_string(text, numbers='remove') for text in df.text]\n",
    "    data_words = list(sent_to_words(data))\n",
    "    data_words_list.append(data_words)"
   ]
  },
  {
   "cell_type": "markdown",
   "id": "983bccfe",
   "metadata": {},
   "source": [
    "#### N-grams & Lemmatization"
   ]
  },
  {
   "cell_type": "code",
   "execution_count": 63,
   "id": "d11c1965",
   "metadata": {},
   "outputs": [],
   "source": [
    "# Build the bigram and trigram models\n",
    "bigram = gensim.models.Phrases(data_words, min_count=5, threshold=100) # higher threshold fewer phrases.\n",
    "trigram = gensim.models.Phrases(bigram[data_words], threshold=100)  \n",
    "\n",
    "# Faster way to get a sentence clubbed as a trigram/bigram\n",
    "bigram_mod = gensim.models.phrases.Phraser(bigram)\n",
    "trigram_mod = gensim.models.phrases.Phraser(trigram)"
   ]
  },
  {
   "cell_type": "code",
   "execution_count": 62,
   "id": "8ca30257",
   "metadata": {},
   "outputs": [],
   "source": [
    "# Define functions for stopwords, bigrams, trigrams and lemmatization\n",
    "def remove_stopwords(texts):\n",
    "    return [[word for word in simple_preprocess(str(doc)) if word not in stop_words] for doc in texts]\n",
    "\n",
    "def make_bigrams(texts):\n",
    "    return [bigram_mod[doc] for doc in texts]\n",
    "\n",
    "def make_trigrams(texts):\n",
    "    return [trigram_mod[bigram_mod[doc]] for doc in texts]\n",
    "\n",
    "def lemmatization(texts, allowed_postags=['NOUN', 'ADJ', 'VERB', 'ADV']):\n",
    "    \"\"\"https://spacy.io/api/annotation\"\"\"\n",
    "    texts_out = []\n",
    "    for sent in texts:\n",
    "        doc = nlp(\" \".join(sent)) \n",
    "        texts_out.append([token.lemma_ for token in doc if token.pos_ in allowed_postags])\n",
    "    return texts_out"
   ]
  },
  {
   "cell_type": "code",
   "execution_count": null,
   "id": "72d61a99",
   "metadata": {},
   "outputs": [],
   "source": [
    "# Remove Stop Words\n",
    "data_words_nostops = remove_stopwords(data_words)\n",
    "\n",
    "# Form Bigrams\n",
    "data_words_bigrams = make_bigrams(data_words_nostops)\n",
    "\n",
    "# Initialize spacy 'en' model, keeping only tagger component (for efficiency)\n",
    "# python3 -m spacy download en\n",
    "nlp = spacy.load('en_core_web_sm', disable=['parser', 'ner'])\n",
    "nlp.max_length = 40000000\n",
    "\n",
    "# Do lemmatization keeping only noun, adj, vb, adv\n",
    "data_lemmatized = lemmatization(data_words_bigrams, allowed_postags=['NOUN', 'ADJ', 'VERB', 'ADV'])"
   ]
  },
  {
   "cell_type": "code",
   "execution_count": null,
   "id": "087747ec",
   "metadata": {},
   "outputs": [],
   "source": [
    "print(data_lemmatized[:10])"
   ]
  },
  {
   "cell_type": "code",
   "execution_count": 64,
   "id": "37fffee4",
   "metadata": {},
   "outputs": [],
   "source": [
    "'''Lemmatize words for cummulated files'''\n",
    "lemmatized_list = []\n",
    "\n",
    "for data_words in data_words_list:\n",
    "    \n",
    "    # Build the bigram and trigram models\n",
    "    bigram = gensim.models.Phrases(data_words, min_count=5, threshold=100) # higher threshold fewer phrases.\n",
    "    trigram = gensim.models.Phrases(bigram[data_words], threshold=100)  \n",
    "\n",
    "    # Faster way to get a sentence clubbed as a trigram/bigram\n",
    "    bigram_mod = gensim.models.phrases.Phraser(bigram)\n",
    "    trigram_mod = gensim.models.phrases.Phraser(trigram)\n",
    "\n",
    "    # Remove Stop Words\n",
    "    data_words_nostops = remove_stopwords(data_words)\n",
    "    # Form Bigrams\n",
    "    data_words_bigrams = make_bigrams(data_words_nostops)\n",
    "    # Initialize spacy 'en' model, keeping only tagger component (for efficiency)\n",
    "    nlp = spacy.load('en_core_web_sm', disable=['parser', 'ner'])\n",
    "    nlp.max_length = 40000000\n",
    "    # Do lemmatization keeping only noun, adj, vb, adv\n",
    "    data_lemmatized = lemmatization(data_words_bigrams, allowed_postags=['NOUN', 'ADJ', 'VERB', 'ADV'])\n",
    "    lemmatized_list.append(data_lemmatized)"
   ]
  },
  {
   "cell_type": "code",
   "execution_count": 73,
   "id": "9abb5dc7",
   "metadata": {},
   "outputs": [],
   "source": [
    "# Export lemmatized data for document similarity evaluation\n",
    "# corpus_df = pd.DataFrame(data_lemmatized)\n",
    "# corpus_df.to_csv('prob_dist (no_duplicates)/corpus_week4.csv', index=False, header=False)"
   ]
  },
  {
   "cell_type": "code",
   "execution_count": 66,
   "id": "14fee7cd",
   "metadata": {},
   "outputs": [],
   "source": [
    "# Assign each cummulated excel file to a dataframe\n",
    "corpus51, corpus51_01, corpus51_02, corpus51_03, corpus51_04, corpus51_52, corpus51_53 = lemmatized_list[:]\n",
    "corpus_list = [corpus51, corpus51_01, corpus51_02, corpus51_03, corpus51_04, corpus51_52, corpus51_53]"
   ]
  },
  {
   "cell_type": "code",
   "execution_count": 71,
   "id": "ef841280",
   "metadata": {},
   "outputs": [
    {
     "name": "stderr",
     "output_type": "stream",
     "text": [
      "<>:5: DeprecationWarning: invalid escape sequence \\p\n",
      "<>:5: DeprecationWarning: invalid escape sequence \\p\n",
      "C:\\Users\\IVORY-~1\\AppData\\Local\\Temp/ipykernel_9556/1258600162.py:5: DeprecationWarning: invalid escape sequence \\p\n",
      "  corpus_df.to_csv('.\\prob_dist (cummulative)\\corpus_docs\\corpus_{}.csv'.format(week), index=False, header=False)\n"
     ]
    }
   ],
   "source": [
    "# Export lemmatized data for document similarity evaluation (cummulated files)\n",
    "weeks = [\"51\", \"51_01\", \"51_02\", \"51_03\", \"51_04\", \"51_52\", \"51_53\"]\n",
    "for corpus, week in zip(corpus_list, weeks):\n",
    "    corpus_df = pd.DataFrame(corpus)\n",
    "    corpus_df.to_csv('.\\prob_dist (cummulative)\\corpus_docs\\corpus_{}.csv'.format(week), index=False, header=False)"
   ]
  },
  {
   "cell_type": "code",
   "execution_count": 150,
   "id": "f6cd67da",
   "metadata": {},
   "outputs": [
    {
     "name": "stdout",
     "output_type": "stream",
     "text": [
      "[[], [(0, 1), (1, 1), (2, 1)], [(3, 1), (4, 1), (5, 1), (6, 1), (7, 1)], [(8, 1), (9, 1), (10, 1)], [(11, 1), (12, 1), (13, 1), (14, 1), (15, 1), (16, 1), (17, 1), (18, 1), (19, 1)], [(3, 1), (10, 1), (20, 1), (21, 1), (22, 2), (23, 1), (24, 1), (25, 1), (26, 1), (27, 1), (28, 1)], [(29, 1), (30, 1), (31, 1), (32, 1), (33, 1), (34, 1)], [(18, 1), (35, 1), (36, 1), (37, 1)], [(38, 1), (39, 1), (40, 1), (41, 1), (42, 1), (43, 1), (44, 1), (45, 1), (46, 1)], [(47, 1), (48, 1), (49, 1), (50, 1)]]\n"
     ]
    }
   ],
   "source": [
    "# Create Dictionary\n",
    "id2word = corpora.Dictionary(data_lemmatized)\n",
    "\n",
    "# Create Corpus\n",
    "texts = data_lemmatized\n",
    "\n",
    "# Term Document Frequency\n",
    "corpus = [id2word.doc2bow(text) for text in texts]\n",
    "\n",
    "# View\n",
    "print(corpus[:10])"
   ]
  },
  {
   "cell_type": "markdown",
   "id": "01bd0570",
   "metadata": {},
   "source": [
    "#### Building the LDA Model"
   ]
  },
  {
   "cell_type": "code",
   "execution_count": 154,
   "id": "cc2d34ff",
   "metadata": {},
   "outputs": [
    {
     "name": "stdout",
     "output_type": "stream",
     "text": [
      "\n",
      "Perplexity:  -7.48895704136867\n",
      "\n",
      "Coherence Score:  0.53899512434042\n"
     ]
    }
   ],
   "source": [
    "# Build LDA model\n",
    "lda_model = gensim.models.ldamodel.LdaModel(corpus=corpus,\n",
    "                                           id2word=id2word,\n",
    "                                           num_topics=4, \n",
    "                                           random_state=100,\n",
    "                                           iterations=50,\n",
    "                                           update_every=1,\n",
    "                                           chunksize=100,\n",
    "                                           passes=10,\n",
    "                                           alpha='auto',\n",
    "                                           per_word_topics=True)\n",
    "# Compute Perplexity\n",
    "print('\\nPerplexity: ', lda_model.log_perplexity(corpus))  # a measure of how good the model is. lower the better.\n",
    "\n",
    "# Compute Coherence Score\n",
    "coherence_model_lda = CoherenceModel(model=lda_model, texts=data_lemmatized, dictionary=id2word, coherence='c_v')\n",
    "coherence_lda = coherence_model_lda.get_coherence()\n",
    "print('\\nCoherence Score: ', coherence_lda)"
   ]
  },
  {
   "cell_type": "code",
   "execution_count": 152,
   "id": "ce3dc677",
   "metadata": {},
   "outputs": [
    {
     "data": {
      "image/png": "[encoded data removed]",
      "text/plain": [
       "<Figure size 432x288 with 1 Axes>"
      ]
     },
     "metadata": {},
     "output_type": "display_data"
    }
   ],
   "source": [
    "def compute_coherence_values(dictionary, corpus, texts, limit, start=2, step=3):\n",
    "    \"\"\"\n",
    "    Compute c_v coherence for various number of topics\n",
    "\n",
    "    Parameters:\n",
    "    ----------\n",
    "    dictionary : Gensim dictionary\n",
    "    corpus : Gensim corpus\n",
    "    texts : List of input texts\n",
    "    limit : Max num of topics\n",
    "\n",
    "    Returns:\n",
    "    -------\n",
    "    model_list : List of LDA topic models\n",
    "    coherence_values : Coherence values corresponding to the LDA model with respective number of topics\n",
    "    \"\"\"\n",
    "    coherence_values = []\n",
    "    model_list = []\n",
    "    for num_topics in range(start, limit, step):\n",
    "        model = gensim.models.ldamodel.LdaModel(corpus=corpus, num_topics=num_topics, id2word=id2word)\n",
    "        model_list.append(model)\n",
    "        coherencemodel = CoherenceModel(model=model, texts=texts, dictionary=dictionary, coherence='c_v')\n",
    "        coherence_values.append(coherencemodel.get_coherence())\n",
    "\n",
    "    return model_list, coherence_values\n",
    "\n",
    "model_list, coherence_values = compute_coherence_values(dictionary=id2word, corpus=corpus, texts=texts, start=2, limit=40, step=2)\n",
    "\n",
    "# Show graph\n",
    "limit=40; start=2; step=2;\n",
    "x = range(start, limit, step)\n",
    "plt.plot(x, coherence_values)\n",
    "plt.xlabel(\"Num Topics\")\n",
    "plt.ylabel(\"Coherence score\")\n",
    "plt.legend((\"coherence_values\"), loc='best')\n",
    "plt.show()"
   ]
  },
  {
   "cell_type": "code",
   "execution_count": 153,
   "id": "5ca9ad38",
   "metadata": {},
   "outputs": [
    {
     "name": "stdout",
     "output_type": "stream",
     "text": [
      "Num Topics = 2  has Coherence Value of 0.4258\n",
      "Num Topics = 4  has Coherence Value of 0.4846\n",
      "Num Topics = 6  has Coherence Value of 0.4634\n",
      "Num Topics = 8  has Coherence Value of 0.4832\n",
      "Num Topics = 10  has Coherence Value of 0.4956\n",
      "Num Topics = 12  has Coherence Value of 0.5219\n",
      "Num Topics = 14  has Coherence Value of 0.5068\n",
      "Num Topics = 16  has Coherence Value of 0.5318\n",
      "Num Topics = 18  has Coherence Value of 0.5103\n",
      "Num Topics = 20  has Coherence Value of 0.4948\n",
      "Num Topics = 22  has Coherence Value of 0.5149\n",
      "Num Topics = 24  has Coherence Value of 0.4994\n",
      "Num Topics = 26  has Coherence Value of 0.522\n",
      "Num Topics = 28  has Coherence Value of 0.5177\n",
      "Num Topics = 30  has Coherence Value of 0.5243\n",
      "Num Topics = 32  has Coherence Value of 0.4839\n",
      "Num Topics = 34  has Coherence Value of 0.4862\n",
      "Num Topics = 36  has Coherence Value of 0.5134\n",
      "Num Topics = 38  has Coherence Value of 0.4963\n"
     ]
    }
   ],
   "source": [
    "# Print the coherence scores\n",
    "for m, cv in zip(x, coherence_values):\n",
    "    print(\"Num Topics =\", m, \" has Coherence Value of\", round(cv, 4))\n",
    "    \n",
    "# NB: From pyLDAvis visualization, \n",
    "# week 51 optimal number of topics is 12\n",
    "# week 1 optimal number of topics is 6\n",
    "# week 2 optimal number of topics is 6\n",
    "# week 3 optimal number of topics is 8\n",
    "# week 4 optimal number of topics is 4"
   ]
  },
  {
   "cell_type": "code",
   "execution_count": 157,
   "id": "afdb49c6",
   "metadata": {},
   "outputs": [
    {
     "name": "stdout",
     "output_type": "stream",
     "text": [
      "[(0,\n",
      "  '0.019*\"election\" + 0.009*\"know\" + 0.009*\"vote\" + 0.008*\"people\" + '\n",
      "  '0.008*\"get\" + 0.007*\"state\" + 0.006*\"lose\" + 0.006*\"go\" + 0.006*\"time\" + '\n",
      "  '0.005*\"great\"'),\n",
      " (1,\n",
      "  '0.029*\"election\" + 0.021*\"steal\" + 0.015*\"vote\" + 0.009*\"republican\" + '\n",
      "  '0.009*\"lie\" + 0.007*\"people\" + 0.007*\"stop\" + 0.007*\"know\" + 0.007*\"trump\" '\n",
      "  '+ 0.006*\"pay\"'),\n",
      " (2,\n",
      "  '0.010*\"state\" + 0.009*\"election\" + 0.007*\"think\" + 0.007*\"fail\" + '\n",
      "  '0.007*\"still\" + 0.006*\"make\" + 0.006*\"do\" + 0.006*\"trump\" + 0.005*\"never\" + '\n",
      "  '0.005*\"help\"'),\n",
      " (3,\n",
      "  '0.011*\"election\" + 0.008*\"say\" + 0.007*\"right\" + 0.007*\"need\" + '\n",
      "  '0.006*\"time\" + 0.006*\"get\" + 0.006*\"much\" + 0.005*\"work\" + '\n",
      "  '0.005*\"alex_jone\" + 0.005*\"try\"')]\n"
     ]
    }
   ],
   "source": [
    "# Select the model and print the topics\n",
    "optimal_model = model_list[1]\n",
    "model_topics = optimal_model.show_topics(formatted=False)\n",
    "pprint(optimal_model.print_topics(num_words=10))"
   ]
  },
  {
   "cell_type": "markdown",
   "id": "0358756c",
   "metadata": {},
   "source": [
    "#### Visualize Topic Distribution & Keywords"
   ]
  },
  {
   "cell_type": "code",
   "execution_count": 158,
   "id": "9ef7c44c",
   "metadata": {},
   "outputs": [
    {
     "name": "stderr",
     "output_type": "stream",
     "text": [
      "C:\\Users\\Ivory-UALR\\AppData\\Local\\Temp\\ipykernel_12184\\3450330339.py:7: FutureWarning: The frame.append method is deprecated and will be removed from pandas in a future version. Use pandas.concat instead.\n",
      "  topic_dist = topic_dist.append(pd.Series([index, words]), ignore_index=True)\n",
      "C:\\Users\\Ivory-UALR\\AppData\\Local\\Temp\\ipykernel_12184\\3450330339.py:7: FutureWarning: The frame.append method is deprecated and will be removed from pandas in a future version. Use pandas.concat instead.\n",
      "  topic_dist = topic_dist.append(pd.Series([index, words]), ignore_index=True)\n"
     ]
    }
   ],
   "source": [
    "topic_dist = pd.DataFrame()\n",
    "\n",
    "# Code to view the Ist 4 keywords per topic\n",
    "for index, topic in lda_model.show_topics(formatted=False, num_words= 10):\n",
    "    words = [w[0] for w in topic]\n",
    "    topic_distributions_df = [\"\".join(topic[:4]) for topic in words]\n",
    "    topic_dist = topic_dist.append(pd.Series([index, words]), ignore_index=True)\n",
    "    \n",
    "    # print('Topic: {} \\nWords: {}'.format(index, words))\n",
    "    # print(topic_distributions_df)\n",
    "    \n",
    "topic_dist.columns = ['Topic_Number', 'Topic_Words']\n",
    "# Export topic word distribution per topic to excel file\n",
    "topic_dist.to_excel(excel_file, index=False, header=True)"
   ]
  },
  {
   "cell_type": "code",
   "execution_count": 159,
   "id": "f3427857",
   "metadata": {},
   "outputs": [
    {
     "data": {
      "text/html": [
       "<div>\n",
       "<style scoped>\n",
       "    .dataframe tbody tr th:only-of-type {\n",
       "        vertical-align: middle;\n",
       "    }\n",
       "\n",
       "    .dataframe tbody tr th {\n",
       "        vertical-align: top;\n",
       "    }\n",
       "\n",
       "    .dataframe thead th {\n",
       "        text-align: right;\n",
       "    }\n",
       "</style>\n",
       "<table border=\"1\" class=\"dataframe\">\n",
       "  <thead>\n",
       "    <tr style=\"text-align: right;\">\n",
       "      <th></th>\n",
       "      <th>Topic_Number</th>\n",
       "      <th>Topic_Words</th>\n",
       "    </tr>\n",
       "  </thead>\n",
       "  <tbody>\n",
       "    <tr>\n",
       "      <th>0</th>\n",
       "      <td>0</td>\n",
       "      <td>[stop, lose, try, much, man, think, make, than...</td>\n",
       "    </tr>\n",
       "    <tr>\n",
       "      <th>1</th>\n",
       "      <td>1</td>\n",
       "      <td>[know, trump, well, real, voter, time, right, ...</td>\n",
       "    </tr>\n",
       "    <tr>\n",
       "      <th>2</th>\n",
       "      <td>2</td>\n",
       "      <td>[election, steal, vote, fraud, go, pay, never,...</td>\n",
       "    </tr>\n",
       "    <tr>\n",
       "      <th>3</th>\n",
       "      <td>3</td>\n",
       "      <td>[work, state, riot, republican, way, take, run...</td>\n",
       "    </tr>\n",
       "  </tbody>\n",
       "</table>\n",
       "</div>"
      ],
      "text/plain": [
       "   Topic_Number                                        Topic_Words\n",
       "0             0  [stop, lose, try, much, man, think, make, than...\n",
       "1             1  [know, trump, well, real, voter, time, right, ...\n",
       "2             2  [election, steal, vote, fraud, go, pay, never,...\n",
       "3             3  [work, state, riot, republican, way, take, run..."
      ]
     },
     "execution_count": 159,
     "metadata": {},
     "output_type": "execute_result"
    }
   ],
   "source": [
    "topic_dist"
   ]
  },
  {
   "cell_type": "code",
   "execution_count": 155,
   "id": "b80bc545",
   "metadata": {},
   "outputs": [
    {
     "name": "stderr",
     "output_type": "stream",
     "text": [
      "C:\\Users\\Ivory-UALR\\AppData\\Local\\Programs\\Python\\Python310\\lib\\site-packages\\pyLDAvis\\_prepare.py:247: FutureWarning: In a future version of pandas all arguments of DataFrame.drop except for the argument 'labels' will be keyword-only.\n",
      "  by='saliency', ascending=False).head(R).drop('saliency', 1)\n"
     ]
    },
    {
     "data": {
      "text/html": [
       "\n",
       "<link rel=\"stylesheet\" type=\"text/css\" href=\"https://cdn.jsdelivr.net/gh/bmabey/pyLDAvis@3.3.1/pyLDAvis/js/ldavis.v1.0.0.css\">\n",
       "\n",
       "\n",
       "<div id=\"ldavis_el1218426174523712329015633392\"></div>\n",
       "<script type=\"text/javascript\">\n",
       "\n",
       "var ldavis_el1218426174523712329015633392_data = {\"mdsDat\": {\"x\": [0.21013269055045425, -0.05840831360715468, -0.09217888820411343, -0.05954548873918613], \"y\": [0.01137596030376007, -0.18577526699736674, 0.08753575463945841, 0.0868635520541484], \"topics\": [1, 2, 3, 4], \"cluster\": [1, 1, 1, 1], \"Freq\": [30.802353229170432, 24.3851762176969, 23.163928321314316, 21.648542231818354]}, \"tinfo\": {\"Term\": [\"election\", \"steal\", \"know\", \"work\", \"fraud\", \"go\", \"lose\", \"stop\", \"riot\", \"trump\", \"state\", \"try\", \"take\", \"way\", \"pay\", \"real\", \"man\", \"republican\", \"much\", \"vote\", \"campaign\", \"still\", \"voter\", \"well\", \"look\", \"follow\", \"claim\", \"push\", \"time\", \"right\", \"fraud\", \"go\", \"steal\", \"still\", \"campaign\", \"claim\", \"look\", \"see\", \"rich\", \"audit\", \"happen\", \"ballot\", \"election\", \"evidence\", \"matter\", \"sure\", \"case\", \"illegal\", \"forget\", \"let\", \"word\", \"ceifie\", \"number\", \"elect\", \"folk\", \"conspiracy\", \"provide\", \"organize\", \"rig\", \"oveurn\", \"never\", \"check\", \"pay\", \"vote\", \"day\", \"say\", \"want\", \"get\", \"allow\", \"work\", \"riot\", \"take\", \"push\", \"follow\", \"patriot\", \"count\", \"become\", \"big\", \"hear\", \"charge\", \"place\", \"establishment\", \"former\", \"cheat\", \"label\", \"lead\", \"force\", \"federal\", \"integrity\", \"least\", \"class\", \"drop\", \"packer\", \"move\", \"legislator\", \"city\", \"group\", \"pass\", \"way\", \"run\", \"republican\", \"fail\", \"state\", \"long\", \"people\", \"lie\", \"president\", \"right\", \"make\", \"time\", \"think\", \"election\", \"know\", \"real\", \"voter\", \"game\", \"post\", \"use\", \"rule\", \"also\", \"last\", \"week\", \"true\", \"speak\", \"act\", \"landslide\", \"account\", \"fake\", \"find\", \"collusion\", \"finally\", \"college\", \"believe\", \"today\", \"trump\", \"video\", \"fund\", \"include\", \"reject\", \"josh\", \"dollar\", \"attend\", \"keep\", \"well\", \"need\", \"wrong\", \"help\", \"time\", \"right\", \"win\", \"lie\", \"call\", \"get\", \"want\", \"biden\", \"result\", \"people\", \"lose\", \"man\", \"try\", \"much\", \"thank\", \"truth\", \"million\", \"dominion\", \"miss\", \"trial\", \"bad\", \"machine\", \"thing\", \"stop\", \"yet\", \"war\", \"room\", \"donor\", \"ban\", \"crowd\", \"wait\", \"pocket\", \"daily\", \"leave\", \"american\", \"deep\", \"friend\", \"demand\", \"less\", \"far\", \"legal\", \"administration\", \"alex_jone\", \"many\", \"year\", \"make\", \"biden\", \"show\", \"think\", \"even\", \"call\", \"vote\", \"state\", \"money\", \"people\", \"help\"], \"Freq\": [66.0, 29.0, 21.0, 13.0, 15.0, 15.0, 11.0, 13.0, 10.0, 13.0, 15.0, 9.0, 9.0, 11.0, 16.0, 8.0, 7.0, 12.0, 7.0, 28.0, 10.0, 10.0, 8.0, 11.0, 10.0, 7.0, 9.0, 7.0, 12.0, 13.0, 15.389556562227705, 15.281212646139503, 28.66139819284836, 9.893616107513283, 10.059213946426933, 9.23614029062387, 9.670230178557944, 8.524672572055382, 7.57729950544004, 6.989531009800414, 7.058526108095212, 7.347268996458703, 62.20732544357401, 6.811411751168972, 7.550626155587839, 6.7878138640627155, 6.119848763597448, 6.05704310285039, 5.7216796203293265, 5.746913519574465, 5.277210983421261, 4.687481874029139, 5.154215980942275, 4.852399500008249, 4.7186746386434715, 5.581604771157995, 4.4221318085784045, 4.212450669784328, 5.558965684195496, 4.620467395749618, 10.975424757978683, 4.896841412149017, 13.388383112883199, 19.232426538100782, 8.254434976607355, 9.316327392474692, 9.214896640490316, 9.050849286942162, 5.965466935755157, 12.505914064626369, 10.284645420789795, 9.013580030325372, 7.190796925628557, 7.4170205982739175, 6.492279753043299, 5.805319772148318, 5.4845637515207875, 5.715414577177406, 5.055332550548826, 4.993925565716476, 4.98493179937233, 4.423387225356148, 4.355768071809643, 4.473553784064626, 4.7947734702899805, 4.397015304082079, 3.7459175408306535, 3.684381474029993, 3.5998240737339104, 3.6773694722606662, 3.828406857935071, 3.473972718244347, 3.3233237663457458, 3.3088299598764173, 3.3923279773313557, 3.1624015131932017, 3.104658714050238, 3.0939712418182213, 9.510518683245472, 7.919623019521336, 9.649592229433729, 4.975140575714759, 10.840234010243652, 5.287926378734587, 7.196573145731946, 6.25184597708902, 5.304735939472813, 5.961724354388493, 5.323349480111714, 5.250078040989674, 5.180430003990347, 4.417937273786154, 20.808686293598026, 7.8572138796773, 7.6404271734870015, 5.223843624186642, 5.0157958483489775, 4.69813305953042, 5.932657610628012, 4.864302876107429, 4.739973029983053, 4.27495278322213, 4.355130607379812, 4.5885458799336245, 4.162692094244835, 3.896069713830006, 3.506294388085904, 3.840774558927656, 3.4552885833488896, 3.377686475600556, 3.2833109926660446, 3.0786959381791283, 3.2015447849808085, 3.0137367690297534, 11.15242402017135, 3.1344744160350437, 2.865713942756759, 2.8494829424336485, 2.5927564584455114, 2.5157394159534197, 2.5144180824624667, 2.514305432482239, 6.7186614698316385, 8.33801227007955, 6.746422637580071, 3.6601407857908432, 6.137578644276582, 7.343478064338317, 6.934115182599808, 4.637030130522233, 5.781562580553678, 4.977989085702631, 5.9538117347948685, 4.533359425679975, 4.08983369785087, 3.7136546041110265, 3.746253514916857, 11.119984687622958, 7.194269803997841, 8.388840734750039, 7.253306979887749, 5.575328483031505, 4.50999197896417, 4.447700074160761, 5.213801181867063, 4.495303340625305, 4.222220019755979, 4.446758350566499, 3.866160972504316, 3.716040248394949, 11.360213138862695, 4.102143055316026, 3.7783430503358804, 3.4090316777748977, 3.3248319567844145, 3.25896192414749, 2.9478890727522034, 2.9356478963487795, 2.741581477256128, 3.4613453198135757, 4.157292062233881, 2.637693440927458, 2.518171527460009, 2.4740098230893883, 2.5031573810777377, 2.47242288349764, 2.5619736262923962, 2.85192255236108, 2.825067259978621, 4.2351320731581525, 4.690423618372527, 2.6969452201224415, 5.8663699350169365, 5.0648847672141875, 4.918806881125576, 6.329266979180713, 4.259636571760609, 3.9887780245486497, 5.277393009720706, 4.359470169889871, 3.5423862770048666, 3.591616380645313, 3.4663924520892047], \"Total\": [66.0, 29.0, 21.0, 13.0, 15.0, 15.0, 11.0, 13.0, 10.0, 13.0, 15.0, 9.0, 9.0, 11.0, 16.0, 8.0, 7.0, 12.0, 7.0, 28.0, 10.0, 10.0, 8.0, 11.0, 10.0, 7.0, 9.0, 7.0, 12.0, 13.0, 15.901346910493535, 15.812700724227076, 29.663958982120317, 10.413338693316716, 10.58773426183044, 9.748788887208235, 10.23042081347104, 9.038109586813093, 8.134860931643063, 7.508230938281389, 7.5950390740567375, 7.909901453435718, 66.97453755481136, 7.334619394304439, 8.131110134282778, 7.332474849198891, 6.633965988014977, 6.596357958499073, 6.259307318023484, 6.289392798533547, 5.800725859031087, 5.194048312000587, 5.736435153876376, 5.4120218709553445, 5.268852850357537, 6.232412398526932, 4.946381293590148, 4.724522981645125, 6.246155954930177, 5.196770307996368, 12.724731922055431, 5.520215486571993, 16.206023256377517, 28.455807748376593, 11.650272162781764, 14.482293155371991, 14.631260657165704, 15.362707332071963, 10.416877711741982, 13.07705204882136, 10.823576971985073, 9.563618724853129, 7.719693562045591, 7.978585016827861, 7.036565822082089, 6.3418197982733355, 6.006549457095688, 6.273973245596599, 5.582164829725433, 5.5149278349410435, 5.516732743117008, 4.941991358932597, 4.874790615594492, 5.0081840681212455, 5.368016181032072, 4.932086538431039, 4.2733899098224715, 4.206196951807087, 4.141659910934139, 4.248238143764546, 4.425292456514679, 4.024674355655668, 3.850190106756975, 3.8405302950049, 3.9388755224120473, 3.68922286930042, 3.6232684972283975, 3.6239002349465204, 11.164117695071146, 9.654301206657337, 12.61224043906232, 6.115446768302242, 15.565280882255017, 7.008005040704081, 14.733105121295972, 12.42591734023964, 9.072109356318277, 13.278464519532955, 11.565824743775984, 12.956187168362346, 15.473610879048973, 66.97453755481136, 21.348080734393, 8.41126311802779, 8.384902925340718, 5.749602715423598, 5.556297202313336, 5.223941108989646, 6.604203559492262, 5.424580619542077, 5.317631668804409, 4.825091339740226, 4.9190756740157555, 5.183157438100008, 4.7148190601885105, 4.431384152637828, 4.0275119025217965, 4.430484635563394, 4.007603511554676, 3.918089147125858, 3.8120861109579667, 3.6075559488656563, 3.7520018316785158, 3.540269129910276, 13.17910385739766, 3.714921677959981, 3.4025291879423794, 3.403280861681135, 3.1200239305030446, 3.0357204568439213, 3.0357767128497537, 3.035751334344933, 8.5247737662356, 11.491153798039488, 10.276702117457905, 4.865757435058903, 10.008121599115087, 12.956187168362346, 13.278464519532955, 7.776797753644884, 12.42591734023964, 9.433518180755216, 15.362707332071963, 14.631260657165704, 9.535787227718416, 7.426887707659987, 14.733105121295972, 11.763789756675422, 7.719017925120338, 9.020212245160856, 7.860699646873863, 6.135307733334465, 5.038695378550657, 4.971327837833493, 5.82819912877674, 5.05033834469566, 4.754895472889816, 5.022250392647728, 4.4000511585888225, 4.241994747511902, 13.011461827850468, 4.710027250298363, 4.353567091820381, 3.930882951120195, 3.8465025980131036, 3.7796992512829553, 3.4685324095228323, 3.458679119795805, 3.2631615467318236, 4.157123738060964, 5.002601194761841, 3.1784865659495924, 3.045989621194227, 3.000643204963143, 3.0362637589644534, 3.000434078674405, 3.111467591709538, 3.4750906879893226, 3.4779627121349064, 5.96666183178307, 7.082230565141858, 3.349218176681985, 11.565824743775984, 9.535787227718416, 9.374176451550083, 15.473610879048973, 7.500681854710922, 9.433518180755216, 28.455807748376593, 15.565280882255017, 7.951215351386836, 14.733105121295972, 10.008121599115087], \"Category\": [\"Default\", \"Default\", \"Default\", \"Default\", \"Default\", \"Default\", \"Default\", \"Default\", \"Default\", \"Default\", \"Default\", \"Default\", \"Default\", \"Default\", \"Default\", \"Default\", \"Default\", \"Default\", \"Default\", \"Default\", \"Default\", \"Default\", \"Default\", \"Default\", \"Default\", \"Default\", \"Default\", \"Default\", \"Default\", \"Default\", \"Topic1\", \"Topic1\", \"Topic1\", \"Topic1\", \"Topic1\", \"Topic1\", \"Topic1\", \"Topic1\", \"Topic1\", \"Topic1\", \"Topic1\", \"Topic1\", \"Topic1\", \"Topic1\", \"Topic1\", \"Topic1\", \"Topic1\", \"Topic1\", \"Topic1\", \"Topic1\", \"Topic1\", \"Topic1\", \"Topic1\", \"Topic1\", \"Topic1\", \"Topic1\", \"Topic1\", \"Topic1\", \"Topic1\", \"Topic1\", \"Topic1\", \"Topic1\", \"Topic1\", \"Topic1\", \"Topic1\", \"Topic1\", \"Topic1\", \"Topic1\", \"Topic1\", \"Topic2\", \"Topic2\", \"Topic2\", \"Topic2\", \"Topic2\", \"Topic2\", \"Topic2\", \"Topic2\", \"Topic2\", \"Topic2\", \"Topic2\", \"Topic2\", \"Topic2\", \"Topic2\", \"Topic2\", \"Topic2\", \"Topic2\", \"Topic2\", \"Topic2\", \"Topic2\", \"Topic2\", \"Topic2\", \"Topic2\", \"Topic2\", \"Topic2\", \"Topic2\", \"Topic2\", \"Topic2\", \"Topic2\", \"Topic2\", \"Topic2\", \"Topic2\", \"Topic2\", \"Topic2\", \"Topic2\", \"Topic2\", \"Topic2\", \"Topic2\", \"Topic2\", \"Topic2\", \"Topic2\", \"Topic2\", \"Topic2\", \"Topic3\", \"Topic3\", \"Topic3\", \"Topic3\", \"Topic3\", \"Topic3\", \"Topic3\", \"Topic3\", \"Topic3\", \"Topic3\", \"Topic3\", \"Topic3\", \"Topic3\", \"Topic3\", \"Topic3\", \"Topic3\", \"Topic3\", \"Topic3\", \"Topic3\", \"Topic3\", \"Topic3\", \"Topic3\", \"Topic3\", \"Topic3\", \"Topic3\", \"Topic3\", \"Topic3\", \"Topic3\", \"Topic3\", \"Topic3\", \"Topic3\", \"Topic3\", \"Topic3\", \"Topic3\", \"Topic3\", \"Topic3\", \"Topic3\", \"Topic3\", \"Topic3\", \"Topic3\", \"Topic3\", \"Topic3\", \"Topic3\", \"Topic3\", \"Topic3\", \"Topic4\", \"Topic4\", \"Topic4\", \"Topic4\", \"Topic4\", \"Topic4\", \"Topic4\", \"Topic4\", \"Topic4\", \"Topic4\", \"Topic4\", \"Topic4\", \"Topic4\", \"Topic4\", \"Topic4\", \"Topic4\", \"Topic4\", \"Topic4\", \"Topic4\", \"Topic4\", \"Topic4\", \"Topic4\", \"Topic4\", \"Topic4\", \"Topic4\", \"Topic4\", \"Topic4\", \"Topic4\", \"Topic4\", \"Topic4\", \"Topic4\", \"Topic4\", \"Topic4\", \"Topic4\", \"Topic4\", \"Topic4\", \"Topic4\", \"Topic4\", \"Topic4\", \"Topic4\", \"Topic4\", \"Topic4\", \"Topic4\", \"Topic4\", \"Topic4\", \"Topic4\"], \"logprob\": [30.0, 29.0, 28.0, 27.0, 26.0, 25.0, 24.0, 23.0, 22.0, 21.0, 20.0, 19.0, 18.0, 17.0, 16.0, 15.0, 14.0, 13.0, 12.0, 11.0, 10.0, 9.0, 8.0, 7.0, 6.0, 5.0, 4.0, 3.0, 2.0, 1.0, -4.2455, -4.2526, -3.6237, -4.6873, -4.6707, -4.7561, -4.7102, -4.8363, -4.9541, -5.0348, -5.025, -4.9849, -2.8487, -5.0606, -4.9576, -5.0641, -5.1677, -5.178, -5.235, -5.2306, -5.3158, -5.4343, -5.3394, -5.3997, -5.4277, -5.2597, -5.4926, -5.5412, -5.2638, -5.4487, -4.5836, -5.3906, -4.3848, -4.0226, -4.8685, -4.7474, -4.7584, -4.7764, -5.1932, -4.2194, -4.415, -4.5469, -4.7728, -4.7418, -4.875, -4.9868, -5.0437, -5.0024, -5.1252, -5.1374, -5.1392, -5.2587, -5.2741, -5.2474, -5.1781, -5.2647, -5.4249, -5.4415, -5.4647, -5.4434, -5.4032, -5.5003, -5.5446, -5.549, -5.5241, -5.5943, -5.6127, -5.6161, -4.4932, -4.6763, -4.4787, -5.1411, -4.3623, -5.0802, -4.772, -4.9127, -5.077, -4.9602, -5.0735, -5.0874, -5.1007, -5.2599, -3.6589, -4.6328, -4.6608, -5.041, -5.0816, -5.1471, -4.9138, -5.1123, -5.1382, -5.2415, -5.2229, -5.1707, -5.2681, -5.3343, -5.4397, -5.3485, -5.4543, -5.477, -5.5054, -5.5697, -5.5306, -5.591, -4.2826, -5.5518, -5.6414, -5.6471, -5.7415, -5.7717, -5.7722, -5.7722, -4.7893, -4.5734, -4.7852, -5.3967, -4.8798, -4.7004, -4.7578, -5.1601, -4.9395, -5.0892, -4.9102, -5.1828, -5.2857, -5.3822, -5.3735, -4.2178, -4.6533, -4.4997, -4.6451, -4.9082, -5.1203, -5.1342, -4.9753, -5.1235, -5.1862, -5.1344, -5.2743, -5.3139, -4.1964, -5.2151, -5.2973, -5.4001, -5.4251, -5.4452, -5.5455, -5.5496, -5.618, -5.3849, -5.2017, -5.6567, -5.703, -5.7207, -5.709, -5.7214, -5.6858, -5.5786, -5.588, -5.1832, -5.081, -5.6344, -4.8573, -5.0042, -5.0335, -4.7814, -5.1774, -5.2431, -4.9631, -5.1542, -5.3618, -5.348, -5.3835], \"loglift\": [30.0, 29.0, 28.0, 27.0, 26.0, 25.0, 24.0, 23.0, 22.0, 21.0, 20.0, 19.0, 18.0, 17.0, 16.0, 15.0, 14.0, 13.0, 12.0, 11.0, 10.0, 9.0, 8.0, 7.0, 6.0, 5.0, 4.0, 3.0, 2.0, 1.0, 1.1449, 1.1434, 1.1432, 1.1264, 1.1264, 1.1236, 1.1213, 1.1191, 1.1066, 1.106, 1.1043, 1.1038, 1.1037, 1.1036, 1.1035, 1.1004, 1.0969, 1.0923, 1.0878, 1.0874, 1.083, 1.075, 1.0706, 1.0684, 1.0673, 1.0673, 1.0655, 1.0629, 1.061, 1.06, 1.0297, 1.0578, 0.9866, 0.7858, 0.833, 0.7364, 0.7152, 0.6485, 0.6201, 1.3665, 1.3601, 1.352, 1.3402, 1.3382, 1.3307, 1.3228, 1.3203, 1.318, 1.3121, 1.312, 1.3098, 1.3003, 1.2986, 1.2983, 1.2983, 1.2964, 1.2795, 1.2787, 1.271, 1.2669, 1.2663, 1.264, 1.264, 1.2622, 1.2618, 1.2571, 1.2567, 1.2531, 1.2509, 1.2131, 1.1434, 1.2048, 1.0494, 1.1296, 0.6947, 0.7243, 0.8746, 0.6104, 0.6352, 0.5079, 0.3169, -1.3074, 1.437, 1.3944, 1.3696, 1.3667, 1.3602, 1.3565, 1.3553, 1.3536, 1.3476, 1.3415, 1.3408, 1.3407, 1.338, 1.3338, 1.324, 1.3197, 1.3143, 1.3142, 1.3132, 1.304, 1.3039, 1.3016, 1.2956, 1.2927, 1.2909, 1.285, 1.2775, 1.2747, 1.2741, 1.2741, 1.2245, 1.1418, 1.0417, 1.1779, 0.9736, 0.8948, 0.8129, 0.9455, 0.6975, 0.8233, 0.5147, 0.2909, 0.616, 0.7695, 0.0932, 1.4739, 1.4598, 1.4577, 1.4498, 1.4345, 1.4194, 1.4189, 1.4188, 1.4138, 1.4114, 1.4085, 1.4009, 1.3979, 1.3945, 1.392, 1.3885, 1.3878, 1.3845, 1.382, 1.3676, 1.3663, 1.3561, 1.3471, 1.3451, 1.3437, 1.3399, 1.3372, 1.3372, 1.3367, 1.3359, 1.3326, 1.3223, 1.1875, 1.1182, 1.3136, 0.8514, 0.8975, 0.8853, 0.6363, 0.9644, 0.6694, -0.1547, 0.2575, 0.7217, 0.1187, 0.4699]}, \"token.table\": {\"Topic\": [3, 3, 4, 3, 4, 1, 2, 3, 3, 4, 3, 1, 4, 1, 4, 2, 3, 3, 4, 2, 3, 4, 1, 1, 1, 2, 2, 1, 2, 1, 2, 3, 3, 1, 2, 4, 4, 1, 3, 4, 4, 3, 4, 4, 2, 1, 1, 2, 2, 1, 4, 1, 2, 4, 3, 4, 2, 3, 3, 1, 2, 2, 1, 2, 1, 4, 3, 3, 1, 3, 1, 2, 1, 2, 3, 4, 1, 3, 2, 3, 3, 4, 3, 2, 3, 3, 2, 2, 4, 4, 2, 4, 1, 2, 3, 2, 4, 1, 4, 4, 2, 4, 4, 1, 4, 1, 4, 4, 1, 3, 4, 2, 4, 2, 3, 1, 3, 1, 1, 1, 2, 2, 2, 1, 2, 2, 3, 4, 2, 4, 3, 2, 4, 1, 2, 3, 3, 1, 2, 1, 3, 1, 1, 2, 3, 2, 4, 3, 2, 4, 1, 3, 4, 1, 1, 4, 3, 2, 4, 1, 3, 1, 3, 4, 1, 2, 4, 4, 2, 3, 4, 2, 3, 3, 4, 3, 2, 3, 4, 4, 3, 3, 1, 2, 4, 3, 4, 1, 3, 4, 4, 1, 2, 3, 3, 4, 1, 3, 1, 2, 3, 4, 4, 4], \"Freq\": [0.9931690077676567, 0.8483888668762762, 0.862573940063459, 0.16759790117033685, 0.6703916046813474, 0.5759883302879475, 0.28799416514397375, 0.09599805504799126, 0.9217302406728876, 0.9438454238373449, 0.9882232335895036, 0.9323101616800133, 0.7964557095472099, 0.8849667775518877, 0.7937139440344891, 0.8324246783805924, 0.7995731704261733, 0.41947244673967643, 0.5243405584245956, 0.9563317797395953, 0.5300249497796289, 0.42401995982370316, 0.9444891374022046, 0.9044363523780029, 0.9626402566275235, 0.9066301771568788, 0.7986926889251791, 0.9057617428454696, 0.8131793893408462, 0.9231915988876577, 0.9038950621470031, 0.8315879344694035, 0.7656793624005904, 0.9627090789784924, 0.9461006762812149, 0.8649191201914448, 0.7216528034836199, 0.6866792370359373, 0.25750471388847646, 0.9849015830933148, 0.9880564529819301, 0.9882149722348422, 0.8578979354553097, 0.7799292795355549, 0.7454019219677375, 0.9238691415556654, 0.9257249435915814, 0.059724189909134286, 0.8093903265876906, 0.3999636377212563, 0.5332848502950084, 0.9543780833993538, 0.8176017533038048, 0.16352035066076095, 0.9028357683247779, 0.9641752361469096, 0.9509778181645775, 0.7869706802730404, 0.7485770464444486, 0.9489731715814965, 0.8773485505557816, 0.9360250490613835, 0.9585725217106985, 0.8205480635832788, 0.943316316814727, 0.6665237628692232, 0.8816970654156822, 0.8696253023860673, 0.5858342416776466, 0.39055616111843106, 0.9486045591831183, 0.827981697269975, 0.9216542445332135, 0.8957098460035857, 0.5995130994941665, 0.29975654974708327, 0.9095928446801926, 0.8815023272919285, 0.9657963439827225, 0.9882332851948239, 0.8211361605542156, 0.11730516579345937, 0.9836949869768751, 0.9314427958819387, 0.9026525036469605, 0.9402682079942134, 0.8110157777710956, 0.9415668012564448, 0.7995840252443766, 0.8632868230946201, 0.7616386917865562, 0.6665702186943571, 0.9539871641343465, 0.48286173452722225, 0.48286173452722225, 0.7134698064511751, 0.142693961290235, 0.9774768978058429, 0.9350728147583558, 0.9090803392574358, 0.432308124216623, 0.5187697490599475, 0.9068511134323958, 0.2823969061165322, 0.7059922652913305, 0.9838754939832896, 0.804614004644522, 0.7920261430011271, 0.25153387395691196, 0.25153387395691196, 0.5030677479138239, 0.7811421261021904, 0.8905059745901681, 0.2919224441568318, 0.6811523696992741, 0.8644582901533666, 0.07858711728666969, 0.8716214627862162, 0.8466463208116646, 0.9621360390522564, 0.7791823044620796, 0.8278373590613685, 0.8526886767932808, 0.8021708838955381, 0.12341090521469818, 0.47512048155292447, 0.2714974180302426, 0.2714974180302426, 0.906333555171453, 0.9193538098058953, 0.8998798692622626, 0.5511397408936375, 0.3306838445361825, 0.8086719891940938, 0.9067717447252033, 0.9511056648380987, 0.961531086563271, 0.23786416176371597, 0.7928805392123865, 0.40393770824161546, 0.5385836109888206, 0.9834218516116877, 0.9605908086979669, 0.45185947450278224, 0.5271693869199127, 0.9239089836828659, 0.7631873137166502, 0.9085122749398242, 0.8286461991141755, 0.10358077488927193, 0.6214485443323307, 0.13809967651829572, 0.20714951477744356, 0.9957834559929771, 0.42670415056445554, 0.5333801882055694, 0.9646629606977271, 0.7067010279615575, 0.2569821919860209, 0.9776173172798509, 0.033710941975167275, 0.9603068040433568, 0.07685531520059825, 0.8454084672065808, 0.9546572124641907, 0.9410663744479437, 0.9779460559738008, 0.9429526055745727, 0.32313078305270826, 0.2585046264421666, 0.3877569396632499, 0.3859160056138643, 0.5402824078594101, 0.8473932037127446, 0.8412382612417296, 0.8131608995424429, 0.15175538653012172, 0.8346546259156694, 0.9923203576236459, 0.8868970909516927, 0.9571317699955929, 0.8075540374911553, 0.6677020089540052, 0.1405688439903169, 0.17571105498789613, 0.9540957207533708, 0.8673831529584379, 0.6151212948005422, 0.3417340526669679, 0.06834681053339357, 0.9187868053108281, 0.0895726852146579, 0.8957268521465791, 0.8289998506464238, 0.6961877058302783, 0.2610703896863544, 0.38576289303575356, 0.6429381550595893, 0.8619610927166217, 0.9941078426136337, 0.8220713945128211, 0.20551784862820527, 0.8957314339467877, 0.8492519867579567], \"Term\": [\"account\", \"act\", \"administration\", \"alex_jone\", \"alex_jone\", \"allow\", \"allow\", \"allow\", \"also\", \"american\", \"attend\", \"audit\", \"bad\", \"ballot\", \"ban\", \"become\", \"believe\", \"biden\", \"biden\", \"big\", \"call\", \"call\", \"campaign\", \"case\", \"ceifie\", \"charge\", \"cheat\", \"check\", \"city\", \"claim\", \"class\", \"college\", \"collusion\", \"conspiracy\", \"count\", \"crowd\", \"daily\", \"day\", \"day\", \"deep\", \"demand\", \"dollar\", \"dominion\", \"donor\", \"drop\", \"elect\", \"election\", \"election\", \"establishment\", \"even\", \"even\", \"evidence\", \"fail\", \"fail\", \"fake\", \"far\", \"federal\", \"finally\", \"find\", \"folk\", \"follow\", \"force\", \"forget\", \"former\", \"fraud\", \"friend\", \"fund\", \"game\", \"get\", \"get\", \"go\", \"group\", \"happen\", \"hear\", \"help\", \"help\", \"illegal\", \"include\", \"integrity\", \"josh\", \"keep\", \"keep\", \"know\", \"label\", \"landslide\", \"last\", \"lead\", \"least\", \"leave\", \"legal\", \"legislator\", \"less\", \"let\", \"lie\", \"lie\", \"long\", \"long\", \"look\", \"lose\", \"machine\", \"make\", \"make\", \"man\", \"many\", \"many\", \"matter\", \"million\", \"miss\", \"money\", \"money\", \"money\", \"move\", \"much\", \"need\", \"need\", \"never\", \"never\", \"number\", \"organize\", \"oveurn\", \"packer\", \"pass\", \"patriot\", \"pay\", \"pay\", \"people\", \"people\", \"people\", \"place\", \"pocket\", \"post\", \"president\", \"president\", \"provide\", \"push\", \"real\", \"reject\", \"republican\", \"republican\", \"result\", \"result\", \"rich\", \"rig\", \"right\", \"right\", \"riot\", \"room\", \"rule\", \"run\", \"run\", \"say\", \"say\", \"say\", \"see\", \"show\", \"show\", \"speak\", \"state\", \"state\", \"steal\", \"steal\", \"still\", \"stop\", \"stop\", \"sure\", \"take\", \"thank\", \"thing\", \"think\", \"think\", \"think\", \"time\", \"time\", \"today\", \"trial\", \"true\", \"trump\", \"trump\", \"truth\", \"try\", \"use\", \"video\", \"vote\", \"vote\", \"vote\", \"voter\", \"wait\", \"want\", \"want\", \"want\", \"war\", \"way\", \"way\", \"week\", \"well\", \"well\", \"win\", \"win\", \"word\", \"work\", \"wrong\", \"wrong\", \"year\", \"yet\"]}, \"R\": 30, \"lambda.step\": 0.01, \"plot.opts\": {\"xlab\": \"PC1\", \"ylab\": \"PC2\"}, \"topic.order\": [3, 4, 2, 1]};\n",
       "\n",
       "function LDAvis_load_lib(url, callback){\n",
       "  var s = document.createElement('script');\n",
       "  s.src = url;\n",
       "  s.async = true;\n",
       "  s.onreadystatechange = s.onload = callback;\n",
       "  s.onerror = function(){console.warn(\"failed to load library \" + url);};\n",
       "  document.getElementsByTagName(\"head\")[0].appendChild(s);\n",
       "}\n",
       "\n",
       "if(typeof(LDAvis) !== \"undefined\"){\n",
       "   // already loaded: just create the visualization\n",
       "   !function(LDAvis){\n",
       "       new LDAvis(\"#\" + \"ldavis_el1218426174523712329015633392\", ldavis_el1218426174523712329015633392_data);\n",
       "   }(LDAvis);\n",
       "}else if(typeof define === \"function\" && define.amd){\n",
       "   // require.js is available: use it to load d3/LDAvis\n",
       "   require.config({paths: {d3: \"https://d3js.org/d3.v5\"}});\n",
       "   require([\"d3\"], function(d3){\n",
       "      window.d3 = d3;\n",
       "      LDAvis_load_lib(\"https://cdn.jsdelivr.net/gh/bmabey/pyLDAvis@3.3.1/pyLDAvis/js/ldavis.v3.0.0.js\", function(){\n",
       "        new LDAvis(\"#\" + \"ldavis_el1218426174523712329015633392\", ldavis_el1218426174523712329015633392_data);\n",
       "      });\n",
       "    });\n",
       "}else{\n",
       "    // require.js not available: dynamically load d3 & LDAvis\n",
       "    LDAvis_load_lib(\"https://d3js.org/d3.v5.js\", function(){\n",
       "         LDAvis_load_lib(\"https://cdn.jsdelivr.net/gh/bmabey/pyLDAvis@3.3.1/pyLDAvis/js/ldavis.v3.0.0.js\", function(){\n",
       "                 new LDAvis(\"#\" + \"ldavis_el1218426174523712329015633392\", ldavis_el1218426174523712329015633392_data);\n",
       "            })\n",
       "         });\n",
       "}\n",
       "</script>"
      ],
      "text/plain": [
       "PreparedData(topic_coordinates=              x         y  topics  cluster       Freq\n",
       "topic                                                \n",
       "2      0.210133  0.011376       1        1  30.802353\n",
       "3     -0.058408 -0.185775       2        1  24.385176\n",
       "1     -0.092179  0.087536       3        1  23.163928\n",
       "0     -0.059545  0.086864       4        1  21.648542, topic_info=         Term       Freq      Total Category  logprob  loglift\n",
       "21   election  66.000000  66.000000  Default  30.0000  30.0000\n",
       "150     steal  29.000000  29.000000  Default  29.0000  29.0000\n",
       "177      know  21.000000  21.000000  Default  28.0000  28.0000\n",
       "28       work  13.000000  13.000000  Default  27.0000  27.0000\n",
       "54      fraud  15.000000  15.000000  Default  26.0000  26.0000\n",
       "..        ...        ...        ...      ...      ...      ...\n",
       "117      vote   5.277393  28.455808   Topic4  -4.9631  -0.1547\n",
       "159     state   4.359470  15.565281   Topic4  -5.1542   0.2575\n",
       "557     money   3.542386   7.951215   Topic4  -5.3618   0.7217\n",
       "124    people   3.591616  14.733105   Topic4  -5.3480   0.1187\n",
       "121      help   3.466392  10.008122   Topic4  -5.3835   0.4699\n",
       "\n",
       "[203 rows x 6 columns], token_table=      Topic      Freq            Term\n",
       "term                                 \n",
       "501       3  0.993169         account\n",
       "276       3  0.848389             act\n",
       "707       4  0.862574  administration\n",
       "142       3  0.167598       alex_jone\n",
       "142       4  0.670392       alex_jone\n",
       "...     ...       ...             ...\n",
       "28        2  0.994108            work\n",
       "390       3  0.822071           wrong\n",
       "390       4  0.205518           wrong\n",
       "473       4  0.895731            year\n",
       "325       4  0.849252             yet\n",
       "\n",
       "[204 rows x 3 columns], R=30, lambda_step=0.01, plot_opts={'xlab': 'PC1', 'ylab': 'PC2'}, topic_order=[3, 4, 2, 1])"
      ]
     },
     "execution_count": 155,
     "metadata": {},
     "output_type": "execute_result"
    }
   ],
   "source": [
    "# Visualize the topics\n",
    "pyLDAvis.enable_notebook()\n",
    "vis = pyLDAvis.gensim_models.prepare(lda_model, corpus, id2word)\n",
    "vis"
   ]
  },
  {
   "cell_type": "code",
   "execution_count": 160,
   "id": "d7d11320",
   "metadata": {},
   "outputs": [],
   "source": [
    "# Export LDA Model\n",
    "pyLDAvis.save_html(vis, lda_file)"
   ]
  }
 ],
 "metadata": {
  "interpreter": {
   "hash": "e8e5deac7477f8906d41e5c6e61616e3ac62f0bc4d33889d141d235aa45f3e1f"
  },
  "kernelspec": {
   "display_name": "Python 3.9.0 64-bit",
   "language": "python",
   "name": "python3"
  },
  "language_info": {
   "codemirror_mode": {
    "name": "ipython",
    "version": 3
   },
   "file_extension": ".py",
   "mimetype": "text/x-python",
   "name": "python",
   "nbconvert_exporter": "python",
   "pygments_lexer": "ipython3",
   "version": "3.9.0"
  }
 },
 "nbformat": 4,
 "nbformat_minor": 5
}
