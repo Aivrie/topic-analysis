{
 "cells": [
  {
   "cell_type": "code",
   "execution_count": 31,
   "id": "6b227340",
   "metadata": {},
   "outputs": [],
   "source": [
    "# Import Core library\n",
    "import sys\n",
    "import re, numpy as np, pandas as pd, matplotlib.pyplot as plt, nltk\n",
    "import emoji\n",
    "from pprint import pprint\n",
    "from cleantext import clean"
   ]
  },
  {
   "cell_type": "code",
   "execution_count": 32,
   "id": "67d218ce",
   "metadata": {},
   "outputs": [],
   "source": [
    "# Gensim\n",
    "import gensim\n",
    "import gensim.corpora as corpora\n",
    "from gensim.utils import simple_preprocess\n",
    "from gensim.models import CoherenceModel\n",
    "\n",
    "# spacy for lemmatization\n",
    "import spacy\n",
    "\n",
    "# Plotting tools\n",
    "import pyLDAvis\n",
    "import pyLDAvis.gensim_models  # don't skip this\n",
    "import matplotlib.pyplot as plt"
   ]
  },
  {
   "cell_type": "code",
   "execution_count": 33,
   "id": "84599672",
   "metadata": {},
   "outputs": [
    {
     "name": "stderr",
     "output_type": "stream",
     "text": [
      "[nltk_data] Downloading package stopwords to C:\\Users\\Ivory-\n",
      "[nltk_data]     UALR\\AppData\\Roaming\\nltk_data...\n",
      "[nltk_data]   Package stopwords is already up-to-date!\n"
     ]
    }
   ],
   "source": [
    "# NLTK Stop words\n",
    "from nltk.corpus import stopwords\n",
    "nltk.download('stopwords')\n",
    "stop_words = stopwords.words('english')\n",
    "# stop_words.extend(['from', 'subject', 're', 'edu', 'use'])"
   ]
  },
  {
   "cell_type": "code",
   "execution_count": 34,
   "id": "2d753a7a",
   "metadata": {},
   "outputs": [],
   "source": [
    "# Import Dataset\n",
    "df = pd.read_excel('Community306_raw.xlsx')"
   ]
  },
  {
   "cell_type": "code",
   "execution_count": 35,
   "id": "11c18524",
   "metadata": {},
   "outputs": [
    {
     "data": {
      "text/plain": [
       "Index(['Unnamed: 0', 'id', 'source_id', 'created_at', 'geo_source',\n",
       "       'truncated', 'text', 'text_sentiment', 'text_toxicity', 'lang', 'user',\n",
       "       'Community', 'retweet_count', 'favorite_count', 'quote_count',\n",
       "       'reply_count', 'retweet_id_str', 'is_quote_status',\n",
       "       'quoted_status_id_str', 'in_reply_to_status_id_str',\n",
       "       'in_reply_to_user_id_str', 'in_reply_to_screen_name', 'entities',\n",
       "       'possibly_sensitive', 'coordinates', 'place'],\n",
       "      dtype='object')"
      ]
     },
     "execution_count": 35,
     "metadata": {},
     "output_type": "execute_result"
    }
   ],
   "source": [
    "df.columns"
   ]
  },
  {
   "cell_type": "code",
   "execution_count": 36,
   "id": "6f46b5d6",
   "metadata": {},
   "outputs": [],
   "source": [
    "df['create_year'] = pd.to_datetime(df.created_at, format='%d/%m/%Y', errors='coerce')\n",
    "df['year'] = pd.to_datetime(df.created_at).dt.strftime('%Y')\n",
    "df['month'] = pd.to_datetime(df.created_at).dt.strftime('%m')"
   ]
  },
  {
   "cell_type": "code",
   "execution_count": 37,
   "id": "93371d11",
   "metadata": {},
   "outputs": [],
   "source": [
    "start_date = \"15/12/2020\"\n",
    "end_date = \"31/01/2021\"\n",
    "after_start_date = df['create_year'] > start_date\n",
    "before_end_date = df['create_year'] < end_date\n",
    "between_two_dates = after_start_date & before_end_date\n",
    "\n",
    "stream_one = df.loc[between_two_dates]"
   ]
  },
  {
   "cell_type": "code",
   "execution_count": 38,
   "id": "2c742531",
   "metadata": {},
   "outputs": [],
   "source": [
    "# Convert to list\n",
    "data = stream_one['text'].values.tolist()\n",
    "\n",
    "# Make characters lowercase\n",
    "data = [word.lower() for word in data]"
   ]
  },
  {
   "cell_type": "code",
   "execution_count": 39,
   "id": "4427085e",
   "metadata": {},
   "outputs": [
    {
     "name": "stderr",
     "output_type": "stream",
     "text": [
      "<>:28: DeprecationWarning: invalid escape sequence \\s\n",
      "<>:33: DeprecationWarning: invalid escape sequence \\s\n",
      "<>:28: DeprecationWarning: invalid escape sequence \\s\n",
      "<>:33: DeprecationWarning: invalid escape sequence \\s\n",
      "C:\\Users\\IVORY-~1\\AppData\\Local\\Temp/ipykernel_5472/2930402903.py:28: DeprecationWarning: invalid escape sequence \\s\n",
      "  word=re.sub('\\s+', ' ', word)\n",
      "C:\\Users\\IVORY-~1\\AppData\\Local\\Temp/ipykernel_5472/2930402903.py:33: DeprecationWarning: invalid escape sequence \\s\n",
      "  word=re.sub('(RT\\s@[A-Za-z]+[A-Za-z0-9-_]+)', '', word)  # remove retweet\n"
     ]
    }
   ],
   "source": [
    "def get_url_patern():\n",
    "    return re.compile(\n",
    "        r'(https?:\\/\\/(?:www\\.|(?!www))[a-zA-Z0-9][a-zA-Z0-9-]+[a-zA-Z0-9]\\.[^\\s]{2,}|https?:\\/\\/(?:www\\.|(?!www))'\n",
    "        r'[a-zA-Z0-9]\\.[^\\s]{2,}|www\\.[a-zA-Z0-9]\\.[^\\s]{2,})')\n",
    "\n",
    "def get_hashtags_pattern():\n",
    "    return re.compile(r'#\\w*')\n",
    "\n",
    "def get_single_letter_words_pattern():\n",
    "    return re.compile(r'(?<![\\w\\-])\\w(?![\\w\\-])')\n",
    "\n",
    "def get_blank_spaces_pattern():\n",
    "    return re.compile(r'\\s{2,}|\\t')\n",
    "\n",
    "def get_twitter_reserved_words_pattern():\n",
    "    return re.compile(r'(RT|rt|FAV|fav|VIA|via)')\n",
    "\n",
    "def get_mentions_pattern():\n",
    "    return re.compile(r'@\\w*')\n",
    "\n",
    "def process_text(word):\n",
    "  word=re.sub(pattern=get_url_patern(), repl='', string=word)\n",
    "  word=re.sub(pattern=get_mentions_pattern(), repl='', string=word)\n",
    "  word=re.sub(pattern=get_hashtags_pattern(), repl='', string=word)\n",
    "  word=re.sub(pattern=get_twitter_reserved_words_pattern(), repl='', string=word)\n",
    "  word=re.sub(pattern=get_single_letter_words_pattern(), repl='', string=word)\n",
    "  word=re.sub(pattern=get_blank_spaces_pattern(), repl=' ', string=word)\n",
    "  word=re.sub('\\s+', ' ', word)\n",
    "  word=re.sub(\"\\'\", \"\", word)\n",
    "  word=re.sub(r'http\\S+', '', word)  # remove http links\n",
    "  word=re.sub(r'bit.ly/\\S+', '', word)  # rempve bitly links\n",
    "  word=word.strip('[link]')  # remove [links]\n",
    "  word=re.sub('(RT\\s@[A-Za-z]+[A-Za-z0-9-_]+)', '', word)  # remove retweet\n",
    "  word=re.sub('(@[A-Za-z]+[A-Za-z0-9-_]+)', '', word)  # remove tweeted at\n",
    "  word=clean(word, no_emoji=True)\n",
    "  word =re.sub(r'\\d+', '', word)\n",
    "  word = word.strip()\n",
    "  return word"
   ]
  },
  {
   "cell_type": "code",
   "execution_count": 40,
   "id": "e40e8144",
   "metadata": {},
   "outputs": [
    {
     "name": "stderr",
     "output_type": "stream",
     "text": [
      "C:\\Users\\Ivory-UALR\\AppData\\Local\\Programs\\Python\\Python39\\lib\\site-packages\\cleantext\\clean.py:58: DeprecationWarning: invalid escape sequence '\\/'\n",
      "  text = text.encode(\"latin\", \"backslashreplace\").decode(\"unicode-escape\")\n",
      "C:\\Users\\Ivory-UALR\\AppData\\Local\\Programs\\Python\\Python39\\lib\\site-packages\\cleantext\\clean.py:58: DeprecationWarning: invalid escape sequence '\\/'\n",
      "  text = text.encode(\"latin\", \"backslashreplace\").decode(\"unicode-escape\")\n",
      "C:\\Users\\Ivory-UALR\\AppData\\Local\\Programs\\Python\\Python39\\lib\\site-packages\\cleantext\\clean.py:58: DeprecationWarning: invalid escape sequence '\\/'\n",
      "  text = text.encode(\"latin\", \"backslashreplace\").decode(\"unicode-escape\")\n",
      "C:\\Users\\Ivory-UALR\\AppData\\Local\\Programs\\Python\\Python39\\lib\\site-packages\\cleantext\\clean.py:58: DeprecationWarning: invalid escape sequence '\\/'\n",
      "  text = text.encode(\"latin\", \"backslashreplace\").decode(\"unicode-escape\")\n",
      "C:\\Users\\Ivory-UALR\\AppData\\Local\\Programs\\Python\\Python39\\lib\\site-packages\\cleantext\\clean.py:58: DeprecationWarning: invalid escape sequence '\\/'\n",
      "  text = text.encode(\"latin\", \"backslashreplace\").decode(\"unicode-escape\")\n",
      "C:\\Users\\Ivory-UALR\\AppData\\Local\\Programs\\Python\\Python39\\lib\\site-packages\\cleantext\\clean.py:58: DeprecationWarning: invalid escape sequence '\\/'\n",
      "  text = text.encode(\"latin\", \"backslashreplace\").decode(\"unicode-escape\")\n",
      "C:\\Users\\Ivory-UALR\\AppData\\Local\\Programs\\Python\\Python39\\lib\\site-packages\\cleantext\\clean.py:58: DeprecationWarning: invalid escape sequence '\\/'\n",
      "  text = text.encode(\"latin\", \"backslashreplace\").decode(\"unicode-escape\")\n",
      "C:\\Users\\Ivory-UALR\\AppData\\Local\\Programs\\Python\\Python39\\lib\\site-packages\\cleantext\\clean.py:58: DeprecationWarning: invalid escape sequence '\\/'\n",
      "  text = text.encode(\"latin\", \"backslashreplace\").decode(\"unicode-escape\")\n",
      "C:\\Users\\Ivory-UALR\\AppData\\Local\\Programs\\Python\\Python39\\lib\\site-packages\\cleantext\\clean.py:58: DeprecationWarning: invalid escape sequence '\\&'\n",
      "  text = text.encode(\"latin\", \"backslashreplace\").decode(\"unicode-escape\")\n",
      "C:\\Users\\Ivory-UALR\\AppData\\Local\\Programs\\Python\\Python39\\lib\\site-packages\\cleantext\\clean.py:58: DeprecationWarning: invalid escape sequence '\\&'\n",
      "  text = text.encode(\"latin\", \"backslashreplace\").decode(\"unicode-escape\")\n",
      "C:\\Users\\Ivory-UALR\\AppData\\Local\\Programs\\Python\\Python39\\lib\\site-packages\\cleantext\\clean.py:58: DeprecationWarning: invalid escape sequence '\\('\n",
      "  text = text.encode(\"latin\", \"backslashreplace\").decode(\"unicode-escape\")\n"
     ]
    }
   ],
   "source": [
    "data = [process_text(word) for word in data]"
   ]
  },
  {
   "cell_type": "code",
   "execution_count": 41,
   "id": "c26ec59c",
   "metadata": {},
   "outputs": [],
   "source": [
    "def getUniqueItems(iterable):\n",
    "    result = []\n",
    "    for item in iterable:\n",
    "        if item not in result:\n",
    "            result.append(item)\n",
    "    return result"
   ]
  },
  {
   "cell_type": "code",
   "execution_count": 42,
   "id": "71fc6d0a",
   "metadata": {},
   "outputs": [],
   "source": [
    "unique_items = getUniqueItems(data)"
   ]
  },
  {
   "cell_type": "code",
   "execution_count": 43,
   "id": "583d8fab",
   "metadata": {},
   "outputs": [
    {
     "name": "stdout",
     "output_type": "stream",
     "text": [
      "[[], ['is', 'my'], ['is', 'my'], [], ['dem', 'can', 'stop', 'me', 'from', 'screaming'], ['did', 'fail', 'to', 'mention'], ['stay', 'away', 'from', 'dc', 'wed', 'jan', 'let', 'trump', 'brownshis', 'do', 'their', 'violent', 'protest', 'thing', 'alone'], [], ['all', 'you', 'losers', 'that', 'suppoed', 'the', 'fraud', 'election', 'are', 'weak', 'communist', 'di', 'bags'], ['deceify', 'the', 'fraudulent', 'vote', 'deceify', 'the', 'fraudulent', 'vote']]\n"
     ]
    }
   ],
   "source": [
    "def sent_to_words(sentences):\n",
    "    for sentence in sentences:\n",
    "        yield(gensim.utils.simple_preprocess(str(sentence), deacc=True))  # deacc=True removes punctuations\n",
    "\n",
    "data_words = list(sent_to_words(unique_items))\n",
    "\n",
    "print(data_words[:10])"
   ]
  },
  {
   "cell_type": "code",
   "execution_count": 44,
   "id": "d11c1965",
   "metadata": {},
   "outputs": [
    {
     "name": "stdout",
     "output_type": "stream",
     "text": [
      "[]\n"
     ]
    }
   ],
   "source": [
    "# Build the bigram and trigram models\n",
    "bigram = gensim.models.Phrases(data_words, min_count=5, threshold=100) # higher threshold fewer phrases.\n",
    "trigram = gensim.models.Phrases(bigram[data_words], threshold=100)  \n",
    "\n",
    "# Faster way to get a sentence clubbed as a trigram/bigram\n",
    "bigram_mod = gensim.models.phrases.Phraser(bigram)\n",
    "trigram_mod = gensim.models.phrases.Phraser(trigram)\n",
    "\n",
    "# See trigram example\n",
    "print(trigram_mod[bigram_mod[data_words[0]]])"
   ]
  },
  {
   "cell_type": "code",
   "execution_count": 45,
   "id": "8ca30257",
   "metadata": {},
   "outputs": [],
   "source": [
    "# Define functions for stopwords, bigrams, trigrams and lemmatization\n",
    "def remove_stopwords(texts):\n",
    "    return [[word for word in simple_preprocess(str(doc)) if word not in stop_words] for doc in texts]\n",
    "\n",
    "def make_bigrams(texts):\n",
    "    return [bigram_mod[doc] for doc in texts]\n",
    "\n",
    "def make_trigrams(texts):\n",
    "    return [trigram_mod[bigram_mod[doc]] for doc in texts]\n",
    "\n",
    "def lemmatization(texts, allowed_postags=['NOUN', 'ADJ', 'VERB', 'ADV']):\n",
    "    \"\"\"https://spacy.io/api/annotation\"\"\"\n",
    "    texts_out = []\n",
    "    for sent in texts:\n",
    "        doc = nlp(\" \".join(sent)) \n",
    "        texts_out.append([token.lemma_ for token in doc if token.pos_ in allowed_postags])\n",
    "    return texts_out"
   ]
  },
  {
   "cell_type": "code",
   "execution_count": 46,
   "id": "72d61a99",
   "metadata": {},
   "outputs": [
    {
     "name": "stdout",
     "output_type": "stream",
     "text": [
      "[[]]\n"
     ]
    }
   ],
   "source": [
    "# Remove Stop Words\n",
    "data_words_nostops = remove_stopwords(data_words)\n",
    "\n",
    "# Form Bigrams\n",
    "data_words_bigrams = make_bigrams(data_words_nostops)\n",
    "\n",
    "# Initialize spacy 'en' model, keeping only tagger component (for efficiency)\n",
    "# python3 -m spacy download en\n",
    "nlp = spacy.load('en_core_web_sm', disable=['parser', 'ner'])\n",
    "nlp.max_length = 40000000\n",
    "\n",
    "# Do lemmatization keeping only noun, adj, vb, adv\n",
    "data_lemmatized = lemmatization(data_words_bigrams, allowed_postags=['NOUN', 'ADJ', 'VERB', 'ADV'])\n",
    "\n",
    "print(data_lemmatized[:1])"
   ]
  },
  {
   "cell_type": "code",
   "execution_count": 47,
   "id": "f6cd67da",
   "metadata": {},
   "outputs": [
    {
     "name": "stdout",
     "output_type": "stream",
     "text": [
      "[[], [], [], [], [(0, 1), (1, 1)], [(2, 1), (3, 1)], [(4, 1), (5, 1), (6, 1), (7, 1), (8, 1), (9, 1), (10, 1), (11, 1)], [], [(12, 1), (13, 1), (14, 1), (15, 1), (16, 1), (17, 1), (18, 1), (19, 1)], [(20, 2), (21, 2), (22, 2)]]\n"
     ]
    }
   ],
   "source": [
    "# Create Dictionary\n",
    "id2word = corpora.Dictionary(data_lemmatized)\n",
    "\n",
    "# Create Corpus\n",
    "texts = data_lemmatized\n",
    "\n",
    "# Term Document Frequency\n",
    "corpus = [id2word.doc2bow(text) for text in texts]\n",
    "\n",
    "# View\n",
    "print(corpus[:10])"
   ]
  },
  {
   "cell_type": "code",
   "execution_count": 48,
   "id": "cc2d34ff",
   "metadata": {},
   "outputs": [],
   "source": [
    "# Build LDA model\n",
    "lda_model = gensim.models.ldamodel.LdaModel(corpus=corpus,\n",
    "                                           id2word=id2word,\n",
    "                                           num_topics=10, \n",
    "                                           random_state=100,\n",
    "                                           update_every=1,\n",
    "                                           chunksize=100,\n",
    "                                           passes=10,\n",
    "                                           alpha='auto',\n",
    "                                           per_word_topics=True)"
   ]
  },
  {
   "cell_type": "code",
   "execution_count": 49,
   "id": "b2067926",
   "metadata": {},
   "outputs": [
    {
     "name": "stderr",
     "output_type": "stream",
     "text": [
      "C:\\Users\\Ivory-UALR\\AppData\\Local\\Programs\\Python\\Python39\\lib\\site-packages\\pyLDAvis\\_prepare.py:246: FutureWarning: In a future version of pandas all arguments of DataFrame.drop except for the argument 'labels' will be keyword-only\n",
      "  default_term_info = default_term_info.sort_values(\n"
     ]
    },
    {
     "data": {
      "text/html": [
       "\n",
       "<link rel=\"stylesheet\" type=\"text/css\" href=\"https://cdn.jsdelivr.net/gh/bmabey/pyLDAvis@3.3.1/pyLDAvis/js/ldavis.v1.0.0.css\">\n",
       "\n",
       "\n",
       "<div id=\"ldavis_el54722590763815536971143672\"></div>\n",
       "<script type=\"text/javascript\">\n",
       "\n",
       "var ldavis_el54722590763815536971143672_data = {\"mdsDat\": {\"x\": [0.443668810261373, -0.013755363662808516, -0.044618927537417294, -0.04862379844997843, -0.05732442464558696, -0.055617769383522246, -0.05781732938431617, -0.05313621849456512, -0.05320635039492364, -0.05956862830825503], \"y\": [-0.03448338776161903, 0.43679481759198235, -0.07107859368536994, -0.056236706333966296, -0.052952450887326946, -0.045924222995601546, -0.042173738837145695, -0.049037647410940036, -0.045580321995521665, -0.03932774768449152], \"topics\": [1, 2, 3, 4, 5, 6, 7, 8, 9, 10], \"cluster\": [1, 1, 1, 1, 1, 1, 1, 1, 1, 1], \"Freq\": [19.33535311789537, 15.07981891102334, 11.13073501317898, 10.323473881073825, 8.262560731211947, 7.943781790639437, 7.78686435378696, 7.719604743567279, 6.955892984535521, 5.461914473087344]}, \"tinfo\": {\"Term\": [\"election\", \"vote\", \"stand\", \"get\", \"people\", \"go\", \"thank\", \"fraud\", \"trump\", \"need\", \"right\", \"president\", \"time\", \"fight\", \"steal\", \"know\", \"state\", \"make\", \"want\", \"patriot\", \"see\", \"suppo\", \"watch\", \"country\", \"senator\", \"count\", \"take\", \"evidence\", \"thing\", \"way\", \"election\", \"fraud\", \"right\", \"steal\", \"know\", \"voter\", \"say\", \"come\", \"never\", \"object\", \"biden\", \"ga\", \"truth\", \"change\", \"tell\", \"believe\", \"machine\", \"still\", \"leave\", \"video\", \"break\", \"re\", \"corruption\", \"prove\", \"fact\", \"dominion\", \"matter\", \"turn\", \"fake\", \"guy\", \"want\", \"see\", \"take\", \"evidence\", \"stop\", \"call\", \"let\", \"happen\", \"good\", \"back\", \"win\", \"try\", \"keep\", \"real\", \"republican\", \"power\", \"end\", \"love\", \"money\", \"mean\", \"four_year\", \"courage\", \"destroy\", \"read\", \"rally\", \"ready\", \"last\", \"speak\", \"listen\", \"agree\", \"need\", \"state\", \"american\", \"help\", \"well\", \"pay\", \"cheat\", \"true\", \"big\", \"fair\", \"demand\", \"allow\", \"first\", \"man\", \"job\", \"new\", \"democracy\", \"hearing\", \"refuse\", \"member\", \"process\", \"list\", \"step\", \"contest\", \"lawmaker\", \"number\", \"always\", \"add\", \"audit\", \"full\", \"thank\", \"fight\", \"suppo\", \"give\", \"show\", \"law\", \"ballot\", \"use\", \"lie\", \"late\", \"many\", \"simply\", \"dem\", \"today\", \"rest\", \"disaster\", \"enough\", \"remember\", \"covid\", \"rule\", \"wake\", \"plan\", \"post\", \"leader\", \"presidential\", \"twitter\", \"claim\", \"face\", \"sir\", \"county\", \"get\", \"go\", \"watch\", \"hope\", \"day\", \"corrupt\", \"freedom\", \"aka\", \"sincerely\", \"rig\", \"also\", \"integrity\", \"run\", \"sure\", \"elect\", \"fail\", \"lead\", \"huge\", \"share\", \"order\", \"game\", \"investigate\", \"involve\", \"week\", \"wonder\", \"new_year\", \"block\", \"issue\", \"simple\", \"front\", \"people\", \"president\", \"history\", \"year\", \"work\", \"hear\", \"live\", \"really\", \"constitution\", \"find\", \"follow\", \"bad\", \"care\", \"wrong\", \"office\", \"system\", \"rino\", \"citizen\", \"whole\", \"team\", \"free\", \"point\", \"republic\", \"sister\", \"deserve\", \"compromise\", \"question\", \"exactly\", \"life\", \"problem\", \"trump\", \"patriot\", \"country\", \"thing\", \"great\", \"even\", \"side\", \"join\", \"next\", \"nation\", \"protest\", \"suppoer\", \"trust\", \"friend\", \"stay\", \"away\", \"early\", \"shit\", \"cause\", \"head\", \"play\", \"liberal\", \"hard\", \"liar\", \"home\", \"prepare\", \"confirm\", \"cover\", \"fix\", \"seem\", \"senator\", \"count\", \"think\", \"traitor\", \"result\", \"do\", \"world\", \"medium\", \"elector\", \"legitimate\", \"legal\", \"ever\", \"long\", \"justice\", \"protect\", \"hack\", \"future\", \"send\", \"bring\", \"voting\", \"serve\", \"expose\", \"challenge\", \"politician\", \"feel\", \"pass\", \"clear\", \"going\", \"defend\", \"expect\", \"vote\", \"time\", \"fraudulent\", \"lose\", \"electoral\", \"judge\", \"save\", \"electoral_college\", \"million\", \"runoff\", \"put\", \"arrest\", \"illegal\", \"ceify\", \"pray\", \"official\", \"concede\", \"move\", \"campaign\", \"throw\", \"truly\", \"commit\", \"cast\", \"information\", \"crazy\", \"legislature\", \"conservative\", \"thief\", \"prison\", \"uphold\", \"stand\", \"make\", \"way\", \"look\", \"much\", \"ignorant\", \"action\", \"hell\", \"hold\", \"ask\", \"evil\", \"military\", \"understand\", \"place\", \"open\", \"god_bless\", \"continue\", \"possible\", \"city\", \"donate\", \"begin\", \"jail\", \"yesterday\", \"follower\", \"afraid\", \"promise\", \"troop\", \"attempt\", \"sell\", \"interview\"], \"Freq\": [6398.0, 3751.0, 2287.0, 2550.0, 2313.0, 1980.0, 2157.0, 2908.0, 1583.0, 1811.0, 2378.0, 1473.0, 1276.0, 1442.0, 1815.0, 1776.0, 1325.0, 964.0, 1405.0, 1014.0, 1294.0, 1076.0, 975.0, 940.0, 928.0, 914.0, 1239.0, 1195.0, 881.0, 757.0, 6397.067343207368, 2907.2523806918393, 2377.1839194130803, 1814.704003131597, 1775.1245766803079, 1333.9278470530637, 1109.7913282894976, 965.0693421705399, 953.8320825849676, 719.0835052936826, 678.1004544010702, 662.3149709611879, 658.6053378702748, 558.1711392040518, 492.55167549041767, 465.4392927664874, 451.0353400699033, 424.91316822024396, 421.8645752011561, 420.8152931991504, 361.6995142692251, 356.0281378805815, 333.83742153654845, 333.7076843059702, 318.76576692789484, 305.4406739607297, 305.34215883585284, 267.6801617956065, 257.284001704409, 241.00044029740891, 1404.3759480267606, 1293.7246775244635, 1238.3296575915926, 1194.97034788992, 1050.536958322699, 1050.2613926199344, 954.8393691972462, 753.0940352249639, 726.686685733739, 670.1444180397644, 666.6403271941094, 650.9332794389434, 643.7465390643385, 572.1640400019114, 486.5515965741386, 441.544318472222, 397.05015817769663, 374.0015863053347, 363.5713915719616, 361.9808381737495, 361.4194799265068, 302.13513618761266, 298.1018473879493, 292.91693729037235, 290.7702870425837, 256.68165867987125, 245.16922733030682, 244.94149102070114, 237.84837064081827, 230.89452932227897, 1810.1668894839365, 1324.2731954461458, 877.7412173850048, 773.0498491547315, 725.2905884569866, 666.5260766363488, 534.141845073458, 520.0335408097983, 441.5971517090587, 431.2680750988179, 422.62324536318846, 395.4386172994496, 334.64121294766613, 331.5682087711703, 296.0485368611328, 295.9668366884863, 295.0642269676883, 273.9141736584205, 265.7639382240442, 263.25006808708645, 247.03556929543245, 244.49465994506764, 229.00344797596074, 222.06407900409684, 222.00708791515623, 207.7648497380493, 207.35795083898626, 201.1525727229841, 201.09893119548892, 199.0158195148466, 2156.7644686616172, 1441.466874151699, 1075.4376864125766, 768.7755373085444, 723.6008594499847, 682.7049158775618, 576.3028664262142, 550.7048398097132, 506.78461140219, 499.8725327943169, 489.6953377486733, 400.24064734781075, 388.5371949645502, 386.65804211343016, 371.1073622826924, 348.80466298550834, 323.8887899700645, 264.3399457616742, 248.54548527798127, 241.44012006134713, 237.0396417756553, 228.4985618187064, 211.6526636051286, 210.41494044693044, 192.67577265081863, 185.6769109219609, 178.9836473428738, 178.63191118883393, 172.41554956214586, 164.43886380135902, 2549.285097541713, 1979.5687356503802, 974.7756122503438, 689.0252661893784, 532.0656823361511, 483.90134247421884, 340.92018925130964, 334.98486605029694, 323.3417473378264, 309.8396690243004, 306.56098564860434, 303.98214631136955, 295.48407359152344, 283.7485420250992, 258.256233743221, 229.6147534122638, 206.91256017934987, 202.73890092500588, 177.6151629961157, 172.4904207024274, 159.69712321339514, 159.40512814395223, 150.56540353549835, 143.80821132948108, 139.76291026807252, 136.00164044661815, 122.2325576326556, 116.06068887634356, 114.0769385896802, 113.9223556143448, 2312.136404675758, 1472.2245752999033, 737.3993546005175, 581.6134638068321, 567.1751710069829, 428.59779840661207, 417.6470586236863, 388.3828978429386, 356.31241143285763, 354.4087649259198, 347.7605011427226, 324.063052165017, 301.946426279838, 300.553206620348, 274.4934960951093, 273.85751526034386, 241.50780634452707, 241.06116119979774, 228.89517384150196, 219.84361134245552, 215.12019689186897, 207.17838751692813, 197.55211411318558, 195.3475399203093, 184.26958318334644, 176.0021268150855, 175.9190824145335, 154.38614052530767, 152.2828687217572, 146.0866720476975, 1582.3569184490989, 1013.4990890440071, 939.8980695380925, 880.5772173476166, 730.5172430691619, 633.4946300134142, 542.9696985488947, 461.78075461285556, 366.2317336520072, 298.3372454655416, 238.72151184435404, 230.9189213398855, 217.68326867648918, 210.24646970607517, 195.1540115348865, 188.29065727232484, 182.9590868968454, 178.00431134731855, 171.69081603266116, 169.42716041086146, 157.0491362411283, 155.09043142055808, 151.57506644341393, 147.71795416265908, 145.53315546612856, 138.28258890912758, 137.09819830490926, 132.40573580050702, 132.38651400046294, 122.59553695592143, 927.7612877522153, 913.1249747632233, 711.9128063495418, 668.6253683021598, 639.9186919698082, 481.37481740462863, 480.05350510287496, 450.0803607265171, 421.62999460547996, 412.2974142473845, 386.43583849527016, 367.1523752661682, 292.2740387423527, 290.2658433549246, 277.183686674182, 255.13496519587275, 250.487124773268, 235.8890579947126, 209.42049198911218, 208.9232407522791, 208.65763832786553, 199.82311722513347, 189.4878027045939, 186.54893830739726, 179.2082582963678, 176.9392749282695, 175.6560910009167, 165.369695268902, 161.47826119302047, 161.3088634748766, 3750.1341942945774, 1275.6876713425931, 687.6752744146672, 498.9366835440173, 405.6449617930052, 327.27311768115675, 301.47954609165464, 271.6209214046298, 269.1492108852657, 268.2522769020618, 264.09166329425386, 224.0981487480749, 221.36015810838427, 169.83353658589402, 169.3423555630281, 165.64176721806615, 164.72399194261908, 163.4242021510557, 155.71180156430137, 152.15273378457132, 143.52510620264422, 136.08021437134857, 125.05790107501416, 125.00564616105662, 118.09642407908193, 116.25699801860402, 111.17078985867413, 111.09544115473099, 108.24427198369226, 105.36702844484712, 2286.192997400513, 963.8563697290997, 756.6379572984706, 502.6683158680772, 370.29413781176225, 317.95131121776325, 285.25132528340947, 233.98163454369774, 221.31470099882443, 208.3716582933064, 193.07612551982277, 185.71285328419646, 169.10354495831206, 168.73828572142608, 161.79027299256697, 155.76923048865206, 146.9879182026402, 144.0382357735873, 108.68825935652438, 103.04462479727987, 99.0013680996671, 96.08963847194258, 95.29278448051848, 90.33188943300964, 89.9769268214958, 84.69881353008948, 83.37408627493606, 83.09357023009505, 81.55260788687741, 78.88161919649785], \"Total\": [6398.0, 3751.0, 2287.0, 2550.0, 2313.0, 1980.0, 2157.0, 2908.0, 1583.0, 1811.0, 2378.0, 1473.0, 1276.0, 1442.0, 1815.0, 1776.0, 1325.0, 964.0, 1405.0, 1014.0, 1294.0, 1076.0, 975.0, 940.0, 928.0, 914.0, 1239.0, 1195.0, 881.0, 757.0, 6398.016399269302, 2908.2014234724934, 2378.13303015773, 1815.653053937179, 1776.0736337200062, 1334.8768729942974, 1110.740339666368, 966.0183949494306, 954.7810938803353, 720.0326121906675, 679.049461670087, 663.2641271291758, 659.5544108384237, 559.1204163013559, 493.50068177189223, 466.38826756242497, 451.98438735905495, 425.8621910624161, 422.8136341424499, 421.76432736588055, 362.6485893699668, 356.97714146742123, 334.78650386553187, 334.65679107604115, 319.7148005953508, 306.3897003507042, 306.2912384212463, 268.6292166502949, 258.2330478438051, 241.94949245520138, 1405.3213981669332, 1294.6700954465612, 1239.2750776505573, 1195.9158896837537, 1051.482330372084, 1051.2067982722222, 955.7847586341653, 754.0394481238947, 727.6320722328527, 671.0898067323606, 667.585726064943, 651.8786727885098, 644.6919289235957, 573.1094767285701, 487.49700798538083, 442.48980510854966, 397.9955987280855, 374.94697288949396, 364.5167713195423, 362.9262366123973, 362.3667725078169, 303.08069289588326, 299.0473093885589, 293.86236815452946, 291.715629999627, 257.6271154452146, 246.11465434637964, 245.8869381709845, 238.79381997262584, 231.83996827673027, 1811.1144413383688, 1325.220756658041, 878.6887585999577, 773.9973924121881, 726.2381610098095, 667.4736042680596, 535.0894157405241, 520.9811002455722, 442.544691098962, 432.21561815771446, 423.57079201130597, 396.3861437222845, 335.5888198754005, 332.51575418800945, 296.9960639306806, 296.91433829085594, 296.0118240333303, 274.8618936260067, 266.71155544574736, 264.19773054921257, 247.98319632735252, 245.44228874614828, 229.95099522937826, 223.0117832025433, 222.95494984494334, 208.71235789284773, 208.30554778743917, 202.1001389400214, 202.04650725225602, 199.96337025082173, 2157.71601026556, 1442.418318686559, 1076.3891673576888, 769.7269887365512, 724.552388800977, 683.6565570248137, 577.2543206424378, 551.6563406291353, 507.7360668182447, 500.8242575394888, 490.64681927955155, 401.192929855843, 389.48869418269106, 387.60951475904767, 372.0597226387686, 349.75855099900406, 324.84021532143794, 265.2914287666666, 249.4969671265208, 242.3915299020022, 237.9911634923335, 229.4501093194823, 212.60420666262797, 211.36638762081017, 193.62714995680216, 186.62837676899662, 179.93512843514466, 179.58340864341454, 173.36699096508045, 165.3903049131402, 2550.2356418712375, 1980.5192740560628, 975.7261575478059, 689.9759168630818, 533.0161977608496, 484.85187735213907, 341.8707295619806, 335.93852073815555, 324.29959832926636, 310.790230882535, 307.5115066506518, 304.9326719304601, 296.434594946739, 284.69905532206207, 259.20674212361087, 230.56537320300936, 207.8631146869916, 203.6894870910062, 178.5657064694048, 173.44094495465964, 160.64779232684424, 160.35566677763288, 151.5159216991151, 144.75872516303824, 140.71355339285168, 136.95277561174527, 123.18303168275106, 117.0111920029733, 115.027591502298, 114.87294181089786, 2313.0887829474345, 1473.1770018188952, 738.3519870568379, 582.5658713418522, 568.1275408481469, 429.55021538701124, 418.5994513607311, 389.33530515233014, 357.2648689242437, 355.3611900210384, 348.71291546571877, 325.01546156402304, 302.89879379615746, 301.5056874558657, 275.4458679769973, 274.80995318889137, 242.46018019068697, 242.0136145572813, 229.8476496690512, 220.7960896308528, 216.07256533533726, 208.13080477684943, 198.50448668403618, 196.30023154795123, 185.2219958686262, 176.9545684475587, 176.8715232830121, 155.33845535540527, 153.23519282906082, 147.03912023710092, 1583.299218480391, 1014.441409267664, 940.8403600180328, 881.5195266250462, 731.4595516681069, 634.4369341089027, 543.9125131281199, 462.72318728584276, 367.1740981864997, 299.279580571431, 239.66387294652364, 231.86124251528037, 218.62563918883373, 211.18886638661917, 196.09633877625242, 189.23300033223114, 183.90157331661342, 178.94669244780494, 172.63321031819103, 170.3695376867403, 157.9914329956788, 156.03283050748192, 152.5173593344193, 148.6603093153562, 146.4754741557031, 139.2249585761263, 138.04087323479976, 133.34807298042747, 133.32881352893003, 123.5378517688998, 928.7168820389423, 914.0805878061392, 712.868335311746, 669.5810839545833, 640.8742653547317, 482.3303569780181, 481.0089828898182, 451.0358908334996, 422.5854838327559, 413.25324218700405, 387.3913344076807, 368.1078473964102, 293.2295165259999, 291.2213778213233, 278.13936311980234, 256.09071648034677, 251.44268317962565, 236.84456966820005, 210.3760753599089, 209.87879799791247, 209.613377178727, 200.77861431177976, 190.44334195121246, 187.50442468150223, 180.1638022008863, 177.89487666394524, 176.61178188715814, 166.3252384395398, 162.43372618160637, 162.26434184358936, 3751.0912799154726, 1276.6447607452155, 688.6323438314353, 499.8937413887264, 406.6020736697665, 328.2302391212947, 302.4366104014315, 272.57803914867924, 270.10621765234987, 269.2094857584835, 265.048750868259, 225.05536194283732, 222.31720806027647, 170.79067453944018, 170.29938954355748, 166.59885082073666, 165.6810526365816, 164.38123572987956, 156.6688884787382, 153.10981003671807, 144.48231930786284, 137.0373549363964, 126.01499764618376, 125.96281217937785, 119.05363549991581, 117.21415534906478, 112.12784468232574, 112.05267720546615, 109.20167725308171, 106.32434475010017, 2287.1485635059926, 964.8118493692925, 757.5934566317966, 503.62381932732586, 371.2496506931123, 318.91168037185844, 286.2068560803693, 234.9371333011732, 222.27016085622554, 209.3271108744303, 194.0316593230098, 186.66862171189956, 170.05910797565323, 169.6938868672762, 162.7457591975031, 156.72475548686515, 147.94341710874136, 144.9937077205826, 109.64381293818631, 104.00007961234573, 99.95684094105309, 97.04517865612654, 96.24839109723034, 91.28733907441026, 90.93267959176677, 85.65431666555043, 84.32985748313891, 84.04904337687867, 82.50805971982336, 79.83723501017928], \"Category\": [\"Default\", \"Default\", \"Default\", \"Default\", \"Default\", \"Default\", \"Default\", \"Default\", \"Default\", \"Default\", \"Default\", \"Default\", \"Default\", \"Default\", \"Default\", \"Default\", \"Default\", \"Default\", \"Default\", \"Default\", \"Default\", \"Default\", \"Default\", \"Default\", \"Default\", \"Default\", \"Default\", \"Default\", \"Default\", \"Default\", \"Topic1\", \"Topic1\", \"Topic1\", \"Topic1\", \"Topic1\", \"Topic1\", \"Topic1\", \"Topic1\", \"Topic1\", \"Topic1\", \"Topic1\", \"Topic1\", \"Topic1\", \"Topic1\", \"Topic1\", \"Topic1\", \"Topic1\", \"Topic1\", \"Topic1\", \"Topic1\", \"Topic1\", \"Topic1\", \"Topic1\", \"Topic1\", \"Topic1\", \"Topic1\", \"Topic1\", \"Topic1\", \"Topic1\", \"Topic1\", \"Topic2\", \"Topic2\", \"Topic2\", \"Topic2\", \"Topic2\", \"Topic2\", \"Topic2\", \"Topic2\", \"Topic2\", \"Topic2\", \"Topic2\", \"Topic2\", \"Topic2\", \"Topic2\", \"Topic2\", \"Topic2\", \"Topic2\", \"Topic2\", \"Topic2\", \"Topic2\", \"Topic2\", \"Topic2\", \"Topic2\", \"Topic2\", \"Topic2\", \"Topic2\", \"Topic2\", \"Topic2\", \"Topic2\", \"Topic2\", \"Topic3\", \"Topic3\", \"Topic3\", \"Topic3\", \"Topic3\", \"Topic3\", \"Topic3\", \"Topic3\", \"Topic3\", \"Topic3\", \"Topic3\", \"Topic3\", \"Topic3\", \"Topic3\", \"Topic3\", \"Topic3\", \"Topic3\", \"Topic3\", \"Topic3\", \"Topic3\", \"Topic3\", \"Topic3\", \"Topic3\", \"Topic3\", \"Topic3\", \"Topic3\", \"Topic3\", \"Topic3\", \"Topic3\", \"Topic3\", \"Topic4\", \"Topic4\", \"Topic4\", \"Topic4\", \"Topic4\", \"Topic4\", \"Topic4\", \"Topic4\", \"Topic4\", \"Topic4\", \"Topic4\", \"Topic4\", \"Topic4\", \"Topic4\", \"Topic4\", \"Topic4\", \"Topic4\", \"Topic4\", \"Topic4\", \"Topic4\", \"Topic4\", \"Topic4\", \"Topic4\", \"Topic4\", \"Topic4\", \"Topic4\", \"Topic4\", \"Topic4\", \"Topic4\", \"Topic4\", \"Topic5\", \"Topic5\", \"Topic5\", \"Topic5\", \"Topic5\", \"Topic5\", \"Topic5\", \"Topic5\", \"Topic5\", \"Topic5\", \"Topic5\", \"Topic5\", \"Topic5\", \"Topic5\", \"Topic5\", \"Topic5\", \"Topic5\", \"Topic5\", \"Topic5\", \"Topic5\", \"Topic5\", \"Topic5\", \"Topic5\", \"Topic5\", \"Topic5\", \"Topic5\", \"Topic5\", \"Topic5\", \"Topic5\", \"Topic5\", \"Topic6\", \"Topic6\", \"Topic6\", \"Topic6\", \"Topic6\", \"Topic6\", \"Topic6\", \"Topic6\", \"Topic6\", \"Topic6\", \"Topic6\", \"Topic6\", \"Topic6\", \"Topic6\", \"Topic6\", \"Topic6\", \"Topic6\", \"Topic6\", \"Topic6\", \"Topic6\", \"Topic6\", \"Topic6\", \"Topic6\", \"Topic6\", \"Topic6\", \"Topic6\", \"Topic6\", \"Topic6\", \"Topic6\", \"Topic6\", \"Topic7\", \"Topic7\", \"Topic7\", \"Topic7\", \"Topic7\", \"Topic7\", \"Topic7\", \"Topic7\", \"Topic7\", \"Topic7\", \"Topic7\", \"Topic7\", \"Topic7\", \"Topic7\", \"Topic7\", \"Topic7\", \"Topic7\", \"Topic7\", \"Topic7\", \"Topic7\", \"Topic7\", \"Topic7\", \"Topic7\", \"Topic7\", \"Topic7\", \"Topic7\", \"Topic7\", \"Topic7\", \"Topic7\", \"Topic7\", \"Topic8\", \"Topic8\", \"Topic8\", \"Topic8\", \"Topic8\", \"Topic8\", \"Topic8\", \"Topic8\", \"Topic8\", \"Topic8\", \"Topic8\", \"Topic8\", \"Topic8\", \"Topic8\", \"Topic8\", \"Topic8\", \"Topic8\", \"Topic8\", \"Topic8\", \"Topic8\", \"Topic8\", \"Topic8\", \"Topic8\", \"Topic8\", \"Topic8\", \"Topic8\", \"Topic8\", \"Topic8\", \"Topic8\", \"Topic8\", \"Topic9\", \"Topic9\", \"Topic9\", \"Topic9\", \"Topic9\", \"Topic9\", \"Topic9\", \"Topic9\", \"Topic9\", \"Topic9\", \"Topic9\", \"Topic9\", \"Topic9\", \"Topic9\", \"Topic9\", \"Topic9\", \"Topic9\", \"Topic9\", \"Topic9\", \"Topic9\", \"Topic9\", \"Topic9\", \"Topic9\", \"Topic9\", \"Topic9\", \"Topic9\", \"Topic9\", \"Topic9\", \"Topic9\", \"Topic9\", \"Topic10\", \"Topic10\", \"Topic10\", \"Topic10\", \"Topic10\", \"Topic10\", \"Topic10\", \"Topic10\", \"Topic10\", \"Topic10\", \"Topic10\", \"Topic10\", \"Topic10\", \"Topic10\", \"Topic10\", \"Topic10\", \"Topic10\", \"Topic10\", \"Topic10\", \"Topic10\", \"Topic10\", \"Topic10\", \"Topic10\", \"Topic10\", \"Topic10\", \"Topic10\", \"Topic10\", \"Topic10\", \"Topic10\", \"Topic10\"], \"logprob\": [30.0, 29.0, 28.0, 27.0, 26.0, 25.0, 24.0, 23.0, 22.0, 21.0, 20.0, 19.0, 18.0, 17.0, 16.0, 15.0, 14.0, 13.0, 12.0, 11.0, 10.0, 9.0, 8.0, 7.0, 6.0, 5.0, 4.0, 3.0, 2.0, 1.0, -1.9569, -2.7455, -2.9468, -3.2168, -3.2388, -3.5246, -3.7085, -3.8483, -3.86, -4.1425, -4.2012, -4.2247, -4.2303, -4.3958, -4.5209, -4.5775, -4.6089, -4.6686, -4.6758, -4.6783, -4.8296, -4.8455, -4.9098, -4.9102, -4.956, -4.9987, -4.999, -5.1307, -5.1703, -5.2357, -3.2245, -3.3066, -3.3504, -3.386, -3.5148, -3.5151, -3.6103, -3.8477, -3.8834, -3.9644, -3.9696, -3.9935, -4.0046, -4.1225, -4.2845, -4.3816, -4.4878, -4.5476, -4.5759, -4.5803, -4.5818, -4.761, -4.7744, -4.792, -4.7993, -4.924, -4.9699, -4.9709, -5.0002, -5.0299, -2.6671, -2.9796, -3.3909, -3.5179, -3.5817, -3.6662, -3.8876, -3.9143, -4.0778, -4.1015, -4.1218, -4.1882, -4.3552, -4.3644, -4.4777, -4.478, -4.481, -4.5554, -4.5856, -4.5951, -4.6587, -4.669, -4.7345, -4.7653, -4.7655, -4.8318, -4.8338, -4.8642, -4.8644, -4.8749, -2.4166, -2.8195, -3.1125, -3.4481, -3.5087, -3.5669, -3.7363, -3.7817, -3.8649, -3.8786, -3.8992, -4.1009, -4.1306, -4.1354, -4.1765, -4.2384, -4.3125, -4.5157, -4.5773, -4.6063, -4.6247, -4.6614, -4.738, -4.7439, -4.8319, -4.8689, -4.9057, -4.9076, -4.943, -4.9904, -2.0267, -2.2796, -2.9881, -3.335, -3.5935, -3.6884, -4.0386, -4.0562, -4.0916, -4.1342, -4.1448, -4.1533, -4.1816, -4.2222, -4.3163, -4.4339, -4.538, -4.5583, -4.6906, -4.7199, -4.797, -4.7988, -4.8559, -4.9018, -4.9303, -4.9576, -5.0643, -5.1161, -5.1334, -5.1347, -2.085, -2.5364, -3.2278, -3.4651, -3.4902, -3.7704, -3.7963, -3.8689, -3.9551, -3.9605, -3.9794, -4.05, -4.1207, -4.1253, -4.216, -4.2183, -4.344, -4.3459, -4.3977, -4.438, -4.4597, -4.4973, -4.5449, -4.5561, -4.6145, -4.6604, -4.6609, -4.7915, -4.8052, -4.8467, -2.4443, -2.8898, -2.9652, -3.0304, -3.2172, -3.3597, -3.5139, -3.6759, -3.9077, -4.1127, -4.3357, -4.3689, -4.4279, -4.4627, -4.5372, -4.573, -4.6017, -4.6292, -4.6653, -4.6785, -4.7544, -4.767, -4.7899, -4.8157, -4.8306, -4.8817, -4.8903, -4.9251, -4.9252, -5.0021, -2.9695, -2.9854, -3.2343, -3.2971, -3.3409, -3.6256, -3.6284, -3.6929, -3.7582, -3.7805, -3.8453, -3.8965, -4.1246, -4.1315, -4.1776, -4.2605, -4.2789, -4.3389, -4.4579, -4.4603, -4.4616, -4.5049, -4.558, -4.5736, -4.6137, -4.6265, -4.6338, -4.6941, -4.7179, -4.719, -1.4686, -2.5469, -3.1648, -3.4856, -3.6926, -3.9073, -3.9894, -4.0937, -4.1028, -4.1062, -4.1218, -4.286, -4.2983, -4.5633, -4.5662, -4.5883, -4.5938, -4.6018, -4.6501, -4.6732, -4.7316, -4.7849, -4.8693, -4.8698, -4.9266, -4.9423, -4.987, -4.9877, -5.0137, -5.0407, -1.7217, -2.5854, -2.8274, -3.2364, -3.542, -3.6944, -3.803, -4.0011, -4.0567, -4.117, -4.1932, -4.2321, -4.3258, -4.328, -4.37, -4.4079, -4.466, -4.4862, -4.7678, -4.8212, -4.8612, -4.891, -4.8994, -4.9528, -4.9568, -5.0172, -5.033, -5.0364, -5.0551, -5.0884], \"loglift\": [30.0, 29.0, 28.0, 27.0, 26.0, 25.0, 24.0, 23.0, 22.0, 21.0, 20.0, 19.0, 18.0, 17.0, 16.0, 15.0, 14.0, 13.0, 12.0, 11.0, 10.0, 9.0, 8.0, 7.0, 6.0, 5.0, 4.0, 3.0, 2.0, 1.0, 1.6431, 1.6429, 1.6428, 1.6427, 1.6427, 1.6425, 1.6424, 1.6423, 1.6422, 1.6419, 1.6418, 1.6418, 1.6418, 1.6415, 1.6413, 1.6412, 1.6411, 1.641, 1.641, 1.641, 1.6406, 1.6406, 1.6404, 1.6404, 1.6403, 1.6401, 1.6401, 1.6397, 1.6396, 1.6393, 1.8911, 1.8911, 1.891, 1.891, 1.8909, 1.8909, 1.8908, 1.8906, 1.8905, 1.8904, 1.8904, 1.8904, 1.8903, 1.8902, 1.8899, 1.8897, 1.8894, 1.8893, 1.8892, 1.8892, 1.8892, 1.8887, 1.8886, 1.8886, 1.8886, 1.8881, 1.888, 1.888, 1.8878, 1.8877, 2.1949, 2.1947, 2.1944, 2.1942, 2.1942, 2.194, 2.1937, 2.1936, 2.1933, 2.1933, 2.1932, 2.1931, 2.1926, 2.1926, 2.1923, 2.1923, 2.1923, 2.192, 2.1919, 2.1919, 2.1916, 2.1916, 2.1913, 2.1912, 2.1912, 2.1909, 2.1909, 2.1908, 2.1908, 2.1907, 2.2703, 2.2701, 2.2699, 2.2695, 2.2694, 2.2694, 2.2691, 2.269, 2.2689, 2.2688, 2.2688, 2.2684, 2.2683, 2.2683, 2.2682, 2.268, 2.2678, 2.2672, 2.2669, 2.2668, 2.2667, 2.2666, 2.2663, 2.2662, 2.2658, 2.2656, 2.2654, 2.2654, 2.2652, 2.265, 2.4931, 2.493, 2.4925, 2.4921, 2.4917, 2.4915, 2.4907, 2.4906, 2.4905, 2.4904, 2.4903, 2.4903, 2.4902, 2.4901, 2.4898, 2.4893, 2.4889, 2.4888, 2.4881, 2.4879, 2.4875, 2.4875, 2.4871, 2.4868, 2.4867, 2.4865, 2.4857, 2.4853, 2.4851, 2.4851, 2.5324, 2.5321, 2.5315, 2.5311, 2.5311, 2.5306, 2.5305, 2.5303, 2.5301, 2.5301, 2.53, 2.5298, 2.5296, 2.5296, 2.5293, 2.5293, 2.5288, 2.5288, 2.5286, 2.5285, 2.5284, 2.5282, 2.528, 2.5279, 2.5276, 2.5274, 2.5274, 2.5266, 2.5265, 2.5263, 2.5521, 2.5518, 2.5517, 2.5517, 2.5514, 2.5512, 2.551, 2.5507, 2.5502, 2.5496, 2.5488, 2.5487, 2.5484, 2.5483, 2.5479, 2.5477, 2.5476, 2.5475, 2.5473, 2.5472, 2.5467, 2.5467, 2.5465, 2.5464, 2.5463, 2.5459, 2.5459, 2.5456, 2.5456, 2.5451, 2.5604, 2.5604, 2.5601, 2.56, 2.5599, 2.5594, 2.5594, 2.5593, 2.5591, 2.5591, 2.5589, 2.5588, 2.5581, 2.5581, 2.558, 2.5577, 2.5576, 2.5574, 2.5569, 2.5568, 2.5568, 2.5566, 2.5564, 2.5563, 2.5561, 2.556, 2.556, 2.5556, 2.5555, 2.5555, 2.6653, 2.6648, 2.6642, 2.6637, 2.6632, 2.6627, 2.6624, 2.6621, 2.662, 2.662, 2.662, 2.6613, 2.6613, 2.66, 2.6599, 2.6598, 2.6598, 2.6597, 2.6595, 2.6593, 2.6589, 2.6586, 2.658, 2.658, 2.6575, 2.6574, 2.657, 2.657, 2.6568, 2.6565, 2.907, 2.9064, 2.9061, 2.9055, 2.9048, 2.9044, 2.904, 2.9033, 2.9031, 2.9028, 2.9024, 2.9022, 2.9017, 2.9017, 2.9015, 2.9013, 2.9009, 2.9008, 2.8986, 2.8981, 2.8978, 2.8975, 2.8974, 2.8968, 2.8968, 2.8962, 2.896, 2.8959, 2.8957, 2.8953]}, \"token.table\": {\"Topic\": [10, 3, 10, 2, 5, 3, 5, 3, 3, 9, 10, 10, 3, 7, 2, 6, 4, 10, 1, 1, 3, 5, 1, 8, 2, 9, 6, 9, 7, 9, 8, 1, 3, 6, 10, 4, 8, 1, 9, 6, 9, 7, 9, 6, 3, 10, 5, 1, 8, 7, 4, 2, 7, 4, 9, 5, 8, 4, 3, 3, 6, 2, 4, 8, 1, 10, 7, 5, 1, 8, 9, 9, 2, 4, 7, 8, 2, 10, 6, 8, 8, 4, 1, 5, 3, 1, 8, 4, 6, 3, 7, 6, 10, 2, 1, 9, 6, 5, 7, 5, 3, 8, 1, 5, 5, 4, 5, 10, 8, 2, 7, 1, 8, 2, 7, 7, 6, 3, 10, 3, 6, 10, 7, 5, 5, 10, 9, 9, 5, 10, 5, 5, 5, 10, 3, 7, 9, 8, 2, 1, 2, 4, 4, 3, 5, 4, 1, 8, 9, 8, 2, 7, 7, 4, 6, 3, 2, 6, 8, 10, 9, 2, 1, 10, 3, 4, 1, 2, 8, 3, 10, 9, 2, 9, 10, 7, 3, 1, 3, 5, 7, 3, 1, 6, 9, 10, 5, 8, 7, 3, 6, 10, 4, 7, 6, 8, 10, 4, 2, 9, 7, 6, 4, 9, 6, 3, 10, 8, 7, 1, 9, 6, 2, 1, 2, 2, 2, 6, 3, 4, 6, 2, 4, 8, 5, 1, 6, 4, 5, 9, 9, 1, 2, 7, 10, 8, 8, 8, 5, 7, 4, 7, 5, 4, 5, 4, 6, 2, 10, 3, 7, 1, 3, 1, 2, 4, 7, 5, 6, 2, 6, 1, 4, 9, 7, 8, 9, 9, 4, 8, 10, 3, 9, 7, 7, 1, 2, 1, 4, 10, 9, 4, 1, 9, 1, 8, 4, 2, 5, 10, 5, 3, 6, 2, 5, 6, 8, 6, 6, 10], \"Freq\": [0.995783273339789, 0.9945564661865577, 0.9897431858826338, 0.9963769479310501, 0.9972062723378868, 0.9965030469802304, 0.998336625981177, 0.9937325347245606, 0.9992161518020839, 0.9953106563037348, 0.9936601099165487, 0.9875186755883142, 0.9948204635334307, 0.9934842214092341, 0.9983760642444162, 0.9968756515178187, 0.997827091807573, 0.99042745917093, 0.9970233651680803, 0.9984545136557418, 0.9987691839718845, 0.9903961473703791, 0.9982115210455013, 0.9934589740893554, 0.998851987759016, 0.9957305596201445, 0.9970326927192641, 0.9919454218534083, 0.9963320480629195, 0.9953705052013389, 0.9924211477470175, 0.9979961091230265, 0.9979640491692094, 0.9958117457187873, 0.9941281416531066, 0.994802969029576, 0.9965360075040236, 0.9989457809967647, 0.9924301301869269, 0.9946055733065655, 0.9958893752439184, 0.9924596736429703, 0.9899414397420989, 0.9964595765375636, 0.9954630953216297, 0.9936231220883054, 0.9982430152549036, 0.9976507300728952, 0.9988178418614789, 0.9991067985029717, 0.9915937943649699, 0.9964343063705001, 0.9898905702174988, 0.9980081235766334, 0.9911499090683664, 0.9980934955351852, 0.9911734698494609, 0.9987452930213634, 0.9986524283022548, 0.996581812106207, 0.9934025337385256, 0.9964978471443188, 0.9978312152859811, 0.997241813709688, 0.9954642719741771, 0.9903838572424803, 0.9950975225477748, 0.9953444801870339, 0.9998411383769791, 0.998614519771371, 0.9985192557816231, 0.9978793627304512, 0.9974984679949547, 0.9974134504232903, 0.9977351033150033, 0.9969904271146461, 0.9992341520907496, 0.9946830361261182, 0.9913836187417793, 0.9922081350146041, 0.9961220256726611, 0.996751322141496, 0.9977642555364351, 0.9975478832959381, 0.9971874728569599, 0.9952250579308078, 0.9935403106136236, 0.9990167077967712, 0.9961695591435918, 0.9982454127178042, 0.9900335606853525, 0.9979555805532278, 0.9858979450221359, 0.9962282068569424, 0.999586884366813, 0.9990817395710503, 0.9950360873733661, 0.9974530444209241, 0.994370601031388, 0.9924008056454681, 0.9951822663840215, 0.994262377566998, 0.9980940818635144, 0.9959676238467923, 0.9995154793341643, 0.9990555239101795, 0.9997378091378029, 0.9953756157754804, 0.9920322468678046, 0.9991313298891388, 0.9993717333144958, 0.9960756584129756, 0.9957408980093565, 0.9986214937076822, 0.9966078659066939, 0.9919613699412716, 0.9987190894863933, 0.9968642665789844, 0.9960111316248511, 0.998711374971071, 0.9981689125504666, 0.9942855088990233, 0.9967538991872614, 0.9985855783669686, 0.9966150089489, 0.9971412763220356, 0.9940750962475233, 0.9923563775473133, 0.9969413840617485, 0.9895132263777354, 0.9915458754599998, 0.9965949340945196, 0.9913581599703077, 0.9892299785460743, 0.9966462049446114, 0.9984371060156187, 0.996251901943623, 0.9958060159234853, 0.9989267293531175, 0.999395501571769, 0.995470995624621, 0.9983541980503533, 0.9990396391023134, 0.9957168484233812, 0.9958476775050191, 0.9935354545432197, 0.9980756672047718, 0.996408452424967, 0.9896415638072977, 0.9969673748223445, 0.9991789379072263, 0.9955582675806529, 0.9933806846666645, 0.9985502963717797, 0.9919392353267129, 0.9941237153812561, 0.9966757097285146, 0.9985679595164721, 0.9958069823919282, 0.9987613387147593, 0.9982121372709257, 0.9974743818247253, 0.9978220766323219, 0.9991585412535893, 0.9984489330760616, 0.9986817008607101, 0.9957842789499892, 0.9974478653815637, 0.9977033073097902, 0.9954665373289818, 0.9964181354864692, 0.9959045087448758, 0.9985823112674033, 0.9915973637517284, 0.9966339343598594, 0.995724464164953, 0.9993846654231605, 0.9991819131261168, 0.9969205317058139, 0.993043035400419, 0.9968023392927261, 0.9965868916434097, 0.9985658813598376, 0.9947508089788515, 0.9964054324637507, 0.9954176428241176, 0.9916920139299499, 0.9949696321741984, 0.9985791103808503, 0.9992904524388212, 0.9995292947873591, 0.9959109495333859, 0.9936800669924145, 0.9937247673694692, 0.9945668553097565, 0.9973097985161734, 0.9931465459004775, 0.9971580681675468, 0.9988930702969993, 0.9923699694576701, 0.991201587785307, 0.9992010452121898, 0.9967610432889082, 0.9889957985691304, 0.9929330355389414, 0.9960352300401248, 0.9923609609997206, 0.9959036250496066, 0.9972299832329266, 0.998037418951131, 0.996043177472735, 0.9950725630286026, 0.9975468232551409, 0.9972627337890474, 0.99706540119463, 0.9975658018600609, 0.9980641103076793, 0.9965702952322608, 0.9973321161711266, 0.9951320373497536, 0.9974585628140528, 0.9989804901830377, 0.9971517405021626, 0.998635823901826, 0.9974573496718637, 0.9995235631718824, 0.99810203807353, 0.9942591644907527, 0.995160500929398, 0.9955072691622443, 0.9952498793068583, 0.9993334718836353, 0.9994824199238725, 0.9956462593351069, 0.9938423019333068, 0.9992280941018662, 0.9964340762830948, 0.9970737689217039, 0.9968319422548152, 0.9947096398661793, 0.9992376137191527, 0.9983223163540181, 0.991066565083409, 0.9970265431739497, 0.9959925996332969, 0.9921150447529208, 0.9933763116951106, 0.9963929024551611, 0.9994978185832266, 0.9990788276957573, 0.9944091828379144, 0.999640320084411, 0.9958643569755824, 0.9979754223772127, 0.9995412853281962, 0.9987094190467385, 0.9962855261796347, 0.9975445815186451, 0.9970526788440787, 0.9989711100678514, 0.9963944577452265, 0.9989854486723412, 0.9996681628804934, 0.9906055149085291, 0.9994106464923866, 0.9987819134772394, 0.9927515419393969, 0.9994949568078444, 0.9984275031034092, 0.9991321679054143, 0.9842302889767743, 0.9981168218096401, 0.9966617416568797, 0.9991794232794242, 0.9971383082462101, 0.9991594160704362, 0.9986520915237936, 0.9976576760408231, 0.9966330052274183, 0.9937721184812702, 0.9875442942703965, 0.9988102364084371, 0.9981877856511617, 0.9997090766835466, 0.999343105711068, 0.9958128309943856, 0.9958352928831938, 0.9990597181764564, 0.9992557773078147, 0.9992166555471123, 0.9947586913176826, 0.9982951033472438, 0.9963121238338887, 0.9991226204484697, 0.9949290357918861, 0.9980153385163064, 0.9979023616487235, 0.9983227929790223, 0.9990286568958308, 0.9870294860724559], \"Term\": [\"action\", \"add\", \"afraid\", \"agree\", \"aka\", \"allow\", \"also\", \"always\", \"american\", \"arrest\", \"ask\", \"attempt\", \"audit\", \"away\", \"back\", \"bad\", \"ballot\", \"begin\", \"believe\", \"biden\", \"big\", \"block\", \"break\", \"bring\", \"call\", \"campaign\", \"care\", \"cast\", \"cause\", \"ceify\", \"challenge\", \"change\", \"cheat\", \"citizen\", \"city\", \"claim\", \"clear\", \"come\", \"commit\", \"compromise\", \"concede\", \"confirm\", \"conservative\", \"constitution\", \"contest\", \"continue\", \"corrupt\", \"corruption\", \"count\", \"country\", \"county\", \"courage\", \"cover\", \"covid\", \"crazy\", \"day\", \"defend\", \"dem\", \"demand\", \"democracy\", \"deserve\", \"destroy\", \"disaster\", \"do\", \"dominion\", \"donate\", \"early\", \"elect\", \"election\", \"elector\", \"electoral\", \"electoral_college\", \"end\", \"enough\", \"even\", \"ever\", \"evidence\", \"evil\", \"exactly\", \"expect\", \"expose\", \"face\", \"fact\", \"fail\", \"fair\", \"fake\", \"feel\", \"fight\", \"find\", \"first\", \"fix\", \"follow\", \"follower\", \"four_year\", \"fraud\", \"fraudulent\", \"free\", \"freedom\", \"friend\", \"front\", \"full\", \"future\", \"ga\", \"game\", \"get\", \"give\", \"go\", \"god_bless\", \"going\", \"good\", \"great\", \"guy\", \"hack\", \"happen\", \"hard\", \"head\", \"hear\", \"hearing\", \"hell\", \"help\", \"history\", \"hold\", \"home\", \"hope\", \"huge\", \"ignorant\", \"illegal\", \"information\", \"integrity\", \"interview\", \"investigate\", \"involve\", \"issue\", \"jail\", \"job\", \"join\", \"judge\", \"justice\", \"keep\", \"know\", \"last\", \"late\", \"law\", \"lawmaker\", \"lead\", \"leader\", \"leave\", \"legal\", \"legislature\", \"legitimate\", \"let\", \"liar\", \"liberal\", \"lie\", \"life\", \"list\", \"listen\", \"live\", \"long\", \"look\", \"lose\", \"love\", \"machine\", \"make\", \"man\", \"many\", \"matter\", \"mean\", \"medium\", \"member\", \"military\", \"million\", \"money\", \"move\", \"much\", \"nation\", \"need\", \"never\", \"new\", \"new_year\", \"next\", \"number\", \"object\", \"office\", \"official\", \"open\", \"order\", \"pass\", \"patriot\", \"pay\", \"people\", \"place\", \"plan\", \"play\", \"point\", \"politician\", \"possible\", \"post\", \"power\", \"pray\", \"prepare\", \"president\", \"presidential\", \"prison\", \"problem\", \"process\", \"promise\", \"protect\", \"protest\", \"prove\", \"put\", \"question\", \"rally\", \"re\", \"read\", \"ready\", \"real\", \"really\", \"refuse\", \"remember\", \"republic\", \"republican\", \"rest\", \"result\", \"rig\", \"right\", \"rino\", \"rule\", \"run\", \"runoff\", \"save\", \"say\", \"see\", \"seem\", \"sell\", \"senator\", \"send\", \"serve\", \"share\", \"shit\", \"show\", \"side\", \"simple\", \"simply\", \"sincerely\", \"sir\", \"sister\", \"speak\", \"stand\", \"state\", \"stay\", \"steal\", \"step\", \"still\", \"stop\", \"suppo\", \"suppoer\", \"sure\", \"system\", \"take\", \"team\", \"tell\", \"thank\", \"thief\", \"thing\", \"think\", \"throw\", \"time\", \"today\", \"traitor\", \"troop\", \"true\", \"truly\", \"trump\", \"trust\", \"truth\", \"try\", \"turn\", \"twitter\", \"understand\", \"uphold\", \"use\", \"video\", \"vote\", \"voter\", \"voting\", \"wake\", \"want\", \"watch\", \"way\", \"week\", \"well\", \"whole\", \"win\", \"wonder\", \"work\", \"world\", \"wrong\", \"year\", \"yesterday\"]}, \"R\": 30, \"lambda.step\": 0.01, \"plot.opts\": {\"xlab\": \"PC1\", \"ylab\": \"PC2\"}, \"topic.order\": [10, 6, 3, 9, 1, 2, 8, 5, 4, 7]};\n",
       "\n",
       "function LDAvis_load_lib(url, callback){\n",
       "  var s = document.createElement('script');\n",
       "  s.src = url;\n",
       "  s.async = true;\n",
       "  s.onreadystatechange = s.onload = callback;\n",
       "  s.onerror = function(){console.warn(\"failed to load library \" + url);};\n",
       "  document.getElementsByTagName(\"head\")[0].appendChild(s);\n",
       "}\n",
       "\n",
       "if(typeof(LDAvis) !== \"undefined\"){\n",
       "   // already loaded: just create the visualization\n",
       "   !function(LDAvis){\n",
       "       new LDAvis(\"#\" + \"ldavis_el54722590763815536971143672\", ldavis_el54722590763815536971143672_data);\n",
       "   }(LDAvis);\n",
       "}else if(typeof define === \"function\" && define.amd){\n",
       "   // require.js is available: use it to load d3/LDAvis\n",
       "   require.config({paths: {d3: \"https://d3js.org/d3.v5\"}});\n",
       "   require([\"d3\"], function(d3){\n",
       "      window.d3 = d3;\n",
       "      LDAvis_load_lib(\"https://cdn.jsdelivr.net/gh/bmabey/pyLDAvis@3.3.1/pyLDAvis/js/ldavis.v3.0.0.js\", function(){\n",
       "        new LDAvis(\"#\" + \"ldavis_el54722590763815536971143672\", ldavis_el54722590763815536971143672_data);\n",
       "      });\n",
       "    });\n",
       "}else{\n",
       "    // require.js not available: dynamically load d3 & LDAvis\n",
       "    LDAvis_load_lib(\"https://d3js.org/d3.v5.js\", function(){\n",
       "         LDAvis_load_lib(\"https://cdn.jsdelivr.net/gh/bmabey/pyLDAvis@3.3.1/pyLDAvis/js/ldavis.v3.0.0.js\", function(){\n",
       "                 new LDAvis(\"#\" + \"ldavis_el54722590763815536971143672\", ldavis_el54722590763815536971143672_data);\n",
       "            })\n",
       "         });\n",
       "}\n",
       "</script>"
      ],
      "text/plain": [
       "PreparedData(topic_coordinates=              x         y  topics  cluster       Freq\n",
       "topic                                                \n",
       "9      0.443669 -0.034483       1        1  19.335353\n",
       "5     -0.013755  0.436795       2        1  15.079819\n",
       "2     -0.044619 -0.071079       3        1  11.130735\n",
       "8     -0.048624 -0.056237       4        1  10.323474\n",
       "0     -0.057324 -0.052952       5        1   8.262561\n",
       "1     -0.055618 -0.045924       6        1   7.943782\n",
       "7     -0.057817 -0.042174       7        1   7.786864\n",
       "4     -0.053136 -0.049038       8        1   7.719605\n",
       "3     -0.053206 -0.045580       9        1   6.955893\n",
       "6     -0.059569 -0.039328      10        1   5.461914, topic_info=           Term         Freq        Total Category  logprob  loglift\n",
       "15     election  6398.000000  6398.000000  Default  30.0000  30.0000\n",
       "22         vote  3751.000000  3751.000000  Default  29.0000  29.0000\n",
       "202       stand  2287.000000  2287.000000  Default  28.0000  28.0000\n",
       "83          get  2550.000000  2550.000000  Default  27.0000  27.0000\n",
       "54       people  2313.000000  2313.000000  Default  26.0000  26.0000\n",
       "...         ...          ...          ...      ...      ...      ...\n",
       "2103    promise    84.698814    85.654317  Topic10  -5.0172   2.8962\n",
       "2037      troop    83.374086    84.329857  Topic10  -5.0330   2.8960\n",
       "2426    attempt    83.093570    84.049043  Topic10  -5.0364   2.8959\n",
       "959        sell    81.552608    82.508060  Topic10  -5.0551   2.8957\n",
       "1102  interview    78.881619    79.837235  Topic10  -5.0884   2.8953\n",
       "\n",
       "[330 rows x 6 columns], token_table=      Topic      Freq       Term\n",
       "term                            \n",
       "386      10  0.995783     action\n",
       "793       3  0.994556        add\n",
       "1649     10  0.989743     afraid\n",
       "163       2  0.996377      agree\n",
       "2977      5  0.997206        aka\n",
       "...     ...       ...        ...\n",
       "99        6  0.998015       work\n",
       "259       8  0.997902      world\n",
       "951       6  0.998323      wrong\n",
       "447       6  0.999029       year\n",
       "1651     10  0.987029  yesterday\n",
       "\n",
       "[300 rows x 3 columns], R=30, lambda_step=0.01, plot_opts={'xlab': 'PC1', 'ylab': 'PC2'}, topic_order=[10, 6, 3, 9, 1, 2, 8, 5, 4, 7])"
      ]
     },
     "execution_count": 49,
     "metadata": {},
     "output_type": "execute_result"
    }
   ],
   "source": [
    "# Visualize the topics\n",
    "pyLDAvis.enable_notebook()\n",
    "vis = pyLDAvis.gensim_models.prepare(lda_model, corpus, id2word)\n",
    "vis"
   ]
  },
  {
   "cell_type": "code",
   "execution_count": 50,
   "id": "b872ee09",
   "metadata": {},
   "outputs": [
    {
     "data": {
      "text/html": [
       "<div>\n",
       "<style scoped>\n",
       "    .dataframe tbody tr th:only-of-type {\n",
       "        vertical-align: middle;\n",
       "    }\n",
       "\n",
       "    .dataframe tbody tr th {\n",
       "        vertical-align: top;\n",
       "    }\n",
       "\n",
       "    .dataframe thead th {\n",
       "        text-align: right;\n",
       "    }\n",
       "</style>\n",
       "<table border=\"1\" class=\"dataframe\">\n",
       "  <thead>\n",
       "    <tr style=\"text-align: right;\">\n",
       "      <th></th>\n",
       "      <th>Document_No</th>\n",
       "      <th>Dominant_Topic</th>\n",
       "      <th>Topic_Perc_Contrib</th>\n",
       "      <th>Keywords</th>\n",
       "      <th>Text</th>\n",
       "    </tr>\n",
       "  </thead>\n",
       "  <tbody>\n",
       "    <tr>\n",
       "      <th>0</th>\n",
       "      <td>0</td>\n",
       "      <td>9.0</td>\n",
       "      <td>0.1930</td>\n",
       "      <td>election, fraud, right, steal, know, voter, sa...</td>\n",
       "      <td></td>\n",
       "    </tr>\n",
       "    <tr>\n",
       "      <th>1</th>\n",
       "      <td>1</td>\n",
       "      <td>9.0</td>\n",
       "      <td>0.1930</td>\n",
       "      <td>election, fraud, right, steal, know, voter, sa...</td>\n",
       "      <td></td>\n",
       "    </tr>\n",
       "    <tr>\n",
       "      <th>2</th>\n",
       "      <td>2</td>\n",
       "      <td>9.0</td>\n",
       "      <td>0.1930</td>\n",
       "      <td>election, fraud, right, steal, know, voter, sa...</td>\n",
       "      <td></td>\n",
       "    </tr>\n",
       "    <tr>\n",
       "      <th>3</th>\n",
       "      <td>3</td>\n",
       "      <td>9.0</td>\n",
       "      <td>0.1930</td>\n",
       "      <td>election, fraud, right, steal, know, voter, sa...</td>\n",
       "      <td></td>\n",
       "    </tr>\n",
       "    <tr>\n",
       "      <th>4</th>\n",
       "      <td>4</td>\n",
       "      <td>5.0</td>\n",
       "      <td>0.1943</td>\n",
       "      <td>want, see, take, evidence, stop, call, let, ha...</td>\n",
       "      <td></td>\n",
       "    </tr>\n",
       "    <tr>\n",
       "      <th>5</th>\n",
       "      <td>5</td>\n",
       "      <td>9.0</td>\n",
       "      <td>0.1831</td>\n",
       "      <td>election, fraud, right, steal, know, voter, sa...</td>\n",
       "      <td></td>\n",
       "    </tr>\n",
       "    <tr>\n",
       "      <th>6</th>\n",
       "      <td>6</td>\n",
       "      <td>7.0</td>\n",
       "      <td>0.2192</td>\n",
       "      <td>trump, patriot, country, thing, great, even, s...</td>\n",
       "      <td></td>\n",
       "    </tr>\n",
       "    <tr>\n",
       "      <th>7</th>\n",
       "      <td>7</td>\n",
       "      <td>9.0</td>\n",
       "      <td>0.1930</td>\n",
       "      <td>election, fraud, right, steal, know, voter, sa...</td>\n",
       "      <td></td>\n",
       "    </tr>\n",
       "    <tr>\n",
       "      <th>8</th>\n",
       "      <td>8</td>\n",
       "      <td>9.0</td>\n",
       "      <td>0.2078</td>\n",
       "      <td>election, fraud, right, steal, know, voter, sa...</td>\n",
       "      <td></td>\n",
       "    </tr>\n",
       "    <tr>\n",
       "      <th>9</th>\n",
       "      <td>9</td>\n",
       "      <td>3.0</td>\n",
       "      <td>0.1993</td>\n",
       "      <td>vote, time, fraudulent, lose, electoral, judge...</td>\n",
       "      <td></td>\n",
       "    </tr>\n",
       "  </tbody>\n",
       "</table>\n",
       "</div>"
      ],
      "text/plain": [
       "   Document_No  Dominant_Topic  Topic_Perc_Contrib  \\\n",
       "0            0             9.0              0.1930   \n",
       "1            1             9.0              0.1930   \n",
       "2            2             9.0              0.1930   \n",
       "3            3             9.0              0.1930   \n",
       "4            4             5.0              0.1943   \n",
       "5            5             9.0              0.1831   \n",
       "6            6             7.0              0.2192   \n",
       "7            7             9.0              0.1930   \n",
       "8            8             9.0              0.2078   \n",
       "9            9             3.0              0.1993   \n",
       "\n",
       "                                            Keywords Text  \n",
       "0  election, fraud, right, steal, know, voter, sa...       \n",
       "1  election, fraud, right, steal, know, voter, sa...       \n",
       "2  election, fraud, right, steal, know, voter, sa...       \n",
       "3  election, fraud, right, steal, know, voter, sa...       \n",
       "4  want, see, take, evidence, stop, call, let, ha...       \n",
       "5  election, fraud, right, steal, know, voter, sa...       \n",
       "6  trump, patriot, country, thing, great, even, s...       \n",
       "7  election, fraud, right, steal, know, voter, sa...       \n",
       "8  election, fraud, right, steal, know, voter, sa...       \n",
       "9  vote, time, fraudulent, lose, electoral, judge...       "
      ]
     },
     "execution_count": 50,
     "metadata": {},
     "output_type": "execute_result"
    }
   ],
   "source": [
    "def format_topics_sentences(ldamodel=None, corpus=corpus, texts=data):\n",
    "    # Init output\n",
    "    sent_topics_df = pd.DataFrame()\n",
    "\n",
    "    # Get main topic in each document\n",
    "    for i, row_list in enumerate(ldamodel[corpus]):\n",
    "        row = row_list[0] if ldamodel.per_word_topics else row_list            \n",
    "        # print(row)\n",
    "        row = sorted(row, key=lambda x: (x[1]), reverse=True)\n",
    "        # Get the Dominant topic, Perc Contribution and Keywords for each document\n",
    "        for j, (topic_num, prop_topic) in enumerate(row):\n",
    "            if j == 0:  # => dominant topic\n",
    "                wp = ldamodel.show_topic(topic_num)\n",
    "                topic_keywords = \", \".join([word for word, prop in wp])\n",
    "                sent_topics_df = sent_topics_df.append(pd.Series([int(topic_num), round(prop_topic,4), topic_keywords]), ignore_index=True)\n",
    "            else:\n",
    "                break\n",
    "    sent_topics_df.columns = ['Dominant_Topic', 'Perc_Contribution', 'Topic_Keywords']\n",
    "\n",
    "    # Add original text to the end of the output\n",
    "    contents = pd.Series(texts)\n",
    "    sent_topics_df = pd.concat([sent_topics_df, contents], axis=1)\n",
    "    return(sent_topics_df)\n",
    "\n",
    "\n",
    "df_topic_sents_keywords = format_topics_sentences(ldamodel=lda_model, corpus=corpus, texts=data)\n",
    "\n",
    "# Format\n",
    "df_dominant_topic = df_topic_sents_keywords.reset_index()\n",
    "df_dominant_topic.columns = ['Document_No', 'Dominant_Topic', 'Topic_Perc_Contrib', 'Keywords', 'Text']\n",
    "df_dominant_topic.head(10)"
   ]
  }
 ],
 "metadata": {
  "kernelspec": {
   "display_name": "Python 3 (ipykernel)",
   "language": "python",
   "name": "python3"
  },
  "language_info": {
   "codemirror_mode": {
    "name": "ipython",
    "version": 3
   },
   "file_extension": ".py",
   "mimetype": "text/x-python",
   "name": "python",
   "nbconvert_exporter": "python",
   "pygments_lexer": "ipython3",
   "version": "3.9.7"
  }
 },
 "nbformat": 4,
 "nbformat_minor": 5
}
