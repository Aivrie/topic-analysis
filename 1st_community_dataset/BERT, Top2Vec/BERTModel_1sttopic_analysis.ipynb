{
 "cells": [
  {
   "cell_type": "markdown",
   "metadata": {},
   "source": [
    "### Topic Analysis using BERTtopic (Community Dataset #1: 01/09/2020 - 15/12/2020)"
   ]
  },
  {
   "cell_type": "markdown",
   "metadata": {},
   "source": [
    "#### Import Core Libraries"
   ]
  },
  {
   "cell_type": "code",
   "execution_count": 2,
   "metadata": {},
   "outputs": [
    {
     "name": "stderr",
     "output_type": "stream",
     "text": [
      "Since the GPL-licensed package `unidecode` is not installed, using Python's `unicodedata` package which yields worse results.\n"
     ]
    }
   ],
   "source": [
    "# Import Core library\n",
    "import sys\n",
    "import re, numpy as np, pandas as pd, matplotlib.pyplot as plt, nltk\n",
    "import emoji\n",
    "import plotly\n",
    "from pprint import pprint\n",
    "from cleantext import clean\n",
    "import little_mallet_wrapper\n",
    "from bertopic import BERTopic\n",
    "from textblob import TextBlob"
   ]
  },
  {
   "cell_type": "markdown",
   "metadata": {},
   "source": [
    "#### Importing and Visualizing Dataset"
   ]
  },
  {
   "cell_type": "code",
   "execution_count": 3,
   "metadata": {},
   "outputs": [],
   "source": [
    "# Import Dataset\n",
    "df = pd.read_excel('../Community306_raw.xlsx')"
   ]
  },
  {
   "cell_type": "code",
   "execution_count": 4,
   "metadata": {},
   "outputs": [
    {
     "data": {
      "text/html": [
       "<div>\n",
       "<style scoped>\n",
       "    .dataframe tbody tr th:only-of-type {\n",
       "        vertical-align: middle;\n",
       "    }\n",
       "\n",
       "    .dataframe tbody tr th {\n",
       "        vertical-align: top;\n",
       "    }\n",
       "\n",
       "    .dataframe thead th {\n",
       "        text-align: right;\n",
       "    }\n",
       "</style>\n",
       "<table border=\"1\" class=\"dataframe\">\n",
       "  <thead>\n",
       "    <tr style=\"text-align: right;\">\n",
       "      <th></th>\n",
       "      <th>Unnamed: 0</th>\n",
       "      <th>id</th>\n",
       "      <th>source_id</th>\n",
       "      <th>created_at</th>\n",
       "      <th>geo_source</th>\n",
       "      <th>truncated</th>\n",
       "      <th>text</th>\n",
       "      <th>text_sentiment</th>\n",
       "      <th>text_toxicity</th>\n",
       "      <th>lang</th>\n",
       "      <th>...</th>\n",
       "      <th>retweet_id_str</th>\n",
       "      <th>is_quote_status</th>\n",
       "      <th>quoted_status_id_str</th>\n",
       "      <th>in_reply_to_status_id_str</th>\n",
       "      <th>in_reply_to_user_id_str</th>\n",
       "      <th>in_reply_to_screen_name</th>\n",
       "      <th>entities</th>\n",
       "      <th>possibly_sensitive</th>\n",
       "      <th>coordinates</th>\n",
       "      <th>place</th>\n",
       "    </tr>\n",
       "  </thead>\n",
       "  <tbody>\n",
       "    <tr>\n",
       "      <th>0</th>\n",
       "      <td>1</td>\n",
       "      <td>1.346170e+18</td>\n",
       "      <td>18</td>\n",
       "      <td>2021-01-04 19:01:23</td>\n",
       "      <td>1</td>\n",
       "      <td>0</td>\n",
       "      <td>@HHere4trump @sbacon0410 #stopthesteal #stopth...</td>\n",
       "      <td>None</td>\n",
       "      <td>None</td>\n",
       "      <td>und</td>\n",
       "      <td>...</td>\n",
       "      <td>None</td>\n",
       "      <td>0</td>\n",
       "      <td>None</td>\n",
       "      <td>1346156649287987201</td>\n",
       "      <td>None</td>\n",
       "      <td>None</td>\n",
       "      <td>{\"entities\": {\"hashtags\": [{\"end\": 38, \"tag\": ...</td>\n",
       "      <td>0</td>\n",
       "      <td>None</td>\n",
       "      <td>None</td>\n",
       "    </tr>\n",
       "    <tr>\n",
       "      <th>1</th>\n",
       "      <td>3</td>\n",
       "      <td>1.345954e+18</td>\n",
       "      <td>18</td>\n",
       "      <td>2021-01-04 04:45:23</td>\n",
       "      <td>None</td>\n",
       "      <td>0</td>\n",
       "      <td>@RudyGiuliani @CaliConserv1 #StoptheSteal #Sto...</td>\n",
       "      <td>None</td>\n",
       "      <td>None</td>\n",
       "      <td>und</td>\n",
       "      <td>...</td>\n",
       "      <td>None</td>\n",
       "      <td>0</td>\n",
       "      <td>None</td>\n",
       "      <td>1345924505483546624</td>\n",
       "      <td>None</td>\n",
       "      <td>None</td>\n",
       "      <td>{\"entities\": {\"hashtags\": [{\"end\": 41, \"tag\": ...</td>\n",
       "      <td>0</td>\n",
       "      <td>None</td>\n",
       "      <td>None</td>\n",
       "    </tr>\n",
       "  </tbody>\n",
       "</table>\n",
       "<p>2 rows × 26 columns</p>\n",
       "</div>"
      ],
      "text/plain": [
       "   Unnamed: 0            id  source_id          created_at geo_source  \\\n",
       "0           1  1.346170e+18         18 2021-01-04 19:01:23          1   \n",
       "1           3  1.345954e+18         18 2021-01-04 04:45:23       None   \n",
       "\n",
       "   truncated                                               text  \\\n",
       "0          0  @HHere4trump @sbacon0410 #stopthesteal #stopth...   \n",
       "1          0  @RudyGiuliani @CaliConserv1 #StoptheSteal #Sto...   \n",
       "\n",
       "  text_sentiment text_toxicity lang  ...  retweet_id_str  is_quote_status  \\\n",
       "0           None          None  und  ...            None                0   \n",
       "1           None          None  und  ...            None                0   \n",
       "\n",
       "   quoted_status_id_str  in_reply_to_status_id_str  in_reply_to_user_id_str  \\\n",
       "0                  None        1346156649287987201                     None   \n",
       "1                  None        1345924505483546624                     None   \n",
       "\n",
       "   in_reply_to_screen_name                                           entities  \\\n",
       "0                     None  {\"entities\": {\"hashtags\": [{\"end\": 38, \"tag\": ...   \n",
       "1                     None  {\"entities\": {\"hashtags\": [{\"end\": 41, \"tag\": ...   \n",
       "\n",
       "   possibly_sensitive coordinates place  \n",
       "0                   0        None  None  \n",
       "1                   0        None  None  \n",
       "\n",
       "[2 rows x 26 columns]"
      ]
     },
     "execution_count": 4,
     "metadata": {},
     "output_type": "execute_result"
    }
   ],
   "source": [
    "df.head(2)"
   ]
  },
  {
   "cell_type": "code",
   "execution_count": 5,
   "metadata": {},
   "outputs": [
    {
     "data": {
      "text/plain": [
       "Index(['Unnamed: 0', 'id', 'source_id', 'created_at', 'geo_source',\n",
       "       'truncated', 'text', 'text_sentiment', 'text_toxicity', 'lang', 'user',\n",
       "       'Community', 'retweet_count', 'favorite_count', 'quote_count',\n",
       "       'reply_count', 'retweet_id_str', 'is_quote_status',\n",
       "       'quoted_status_id_str', 'in_reply_to_status_id_str',\n",
       "       'in_reply_to_user_id_str', 'in_reply_to_screen_name', 'entities',\n",
       "       'possibly_sensitive', 'coordinates', 'place'],\n",
       "      dtype='object')"
      ]
     },
     "execution_count": 5,
     "metadata": {},
     "output_type": "execute_result"
    }
   ],
   "source": [
    "df.columns"
   ]
  },
  {
   "cell_type": "code",
   "execution_count": 6,
   "metadata": {},
   "outputs": [
    {
     "data": {
      "text/plain": [
       "0    @HHere4trump @sbacon0410 #stopthesteal #stopth...\n",
       "1    @RudyGiuliani @CaliConserv1 #StoptheSteal #Sto...\n",
       "2    #StoptheSteal #StoptheSteal #StoptheSteal #Sto...\n",
       "3    #StoptheSteal #StoptheSteal #StoptheSteal #Sto...\n",
       "4    @realDonaldTrump @4Libertyinlaw #StoptheSteal ...\n",
       "Name: text, dtype: object"
      ]
     },
     "execution_count": 6,
     "metadata": {},
     "output_type": "execute_result"
    }
   ],
   "source": [
    "df['text'].head()"
   ]
  },
  {
   "cell_type": "code",
   "execution_count": 7,
   "metadata": {},
   "outputs": [],
   "source": [
    "df['create_year'] = pd.to_datetime(df.created_at, format='%m/%d/%Y', errors='coerce')\n",
    "df['year'] = pd.to_datetime(df.created_at).dt.strftime('%Y')\n",
    "df['month'] = pd.to_datetime(df.created_at).dt.strftime('%m')"
   ]
  },
  {
   "cell_type": "code",
   "execution_count": 8,
   "metadata": {},
   "outputs": [],
   "source": [
    "start_date = \"09/01/2020\"\n",
    "end_date = \"12/15/2020\"\n",
    "after_start_date = df['create_year'] > start_date\n",
    "before_end_date = df['create_year'] < end_date\n",
    "between_two_dates = after_start_date & before_end_date\n",
    "\n",
    "stream_one = df.loc[between_two_dates]"
   ]
  },
  {
   "cell_type": "markdown",
   "metadata": {},
   "source": [
    "#### Cleaning and Pre-processing Dataset"
   ]
  },
  {
   "cell_type": "code",
   "execution_count": 9,
   "metadata": {},
   "outputs": [
    {
     "data": {
      "text/html": [
       "<div>\n",
       "<style scoped>\n",
       "    .dataframe tbody tr th:only-of-type {\n",
       "        vertical-align: middle;\n",
       "    }\n",
       "\n",
       "    .dataframe tbody tr th {\n",
       "        vertical-align: top;\n",
       "    }\n",
       "\n",
       "    .dataframe thead th {\n",
       "        text-align: right;\n",
       "    }\n",
       "</style>\n",
       "<table border=\"1\" class=\"dataframe\">\n",
       "  <thead>\n",
       "    <tr style=\"text-align: right;\">\n",
       "      <th></th>\n",
       "      <th>Unnamed: 0</th>\n",
       "      <th>id</th>\n",
       "      <th>source_id</th>\n",
       "      <th>created_at</th>\n",
       "      <th>geo_source</th>\n",
       "      <th>truncated</th>\n",
       "      <th>text</th>\n",
       "      <th>text_sentiment</th>\n",
       "      <th>text_toxicity</th>\n",
       "      <th>lang</th>\n",
       "      <th>...</th>\n",
       "      <th>in_reply_to_status_id_str</th>\n",
       "      <th>in_reply_to_user_id_str</th>\n",
       "      <th>in_reply_to_screen_name</th>\n",
       "      <th>entities</th>\n",
       "      <th>possibly_sensitive</th>\n",
       "      <th>coordinates</th>\n",
       "      <th>place</th>\n",
       "      <th>create_year</th>\n",
       "      <th>year</th>\n",
       "      <th>month</th>\n",
       "    </tr>\n",
       "  </thead>\n",
       "  <tbody>\n",
       "    <tr>\n",
       "      <th>43814</th>\n",
       "      <td>124741</td>\n",
       "      <td>1.300607e+18</td>\n",
       "      <td>18</td>\n",
       "      <td>2020-09-01 01:32:22</td>\n",
       "      <td>None</td>\n",
       "      <td>0</td>\n",
       "      <td>#StopTheSteal 2020 https://t.co/0eGlgNMmpS</td>\n",
       "      <td>None</td>\n",
       "      <td>None</td>\n",
       "      <td>und</td>\n",
       "      <td>...</td>\n",
       "      <td>None</td>\n",
       "      <td>None</td>\n",
       "      <td>None</td>\n",
       "      <td>{\"entities\": {\"urls\": [{\"end\": 42, \"url\": \"htt...</td>\n",
       "      <td>0</td>\n",
       "      <td>None</td>\n",
       "      <td>None</td>\n",
       "      <td>2020-09-01 01:32:22</td>\n",
       "      <td>2020</td>\n",
       "      <td>09</td>\n",
       "    </tr>\n",
       "    <tr>\n",
       "      <th>43815</th>\n",
       "      <td>124742</td>\n",
       "      <td>1.300612e+18</td>\n",
       "      <td>18</td>\n",
       "      <td>2020-09-01 01:49:48</td>\n",
       "      <td>None</td>\n",
       "      <td>0</td>\n",
       "      <td>#StopTheSteal https://t.co/1iBSanqHp7</td>\n",
       "      <td>None</td>\n",
       "      <td>None</td>\n",
       "      <td>und</td>\n",
       "      <td>...</td>\n",
       "      <td>None</td>\n",
       "      <td>None</td>\n",
       "      <td>None</td>\n",
       "      <td>{\"entities\": {\"urls\": [{\"end\": 37, \"url\": \"htt...</td>\n",
       "      <td>0</td>\n",
       "      <td>None</td>\n",
       "      <td>{\"place_id\": \"dc96a032c98a1ea9\"}</td>\n",
       "      <td>2020-09-01 01:49:48</td>\n",
       "      <td>2020</td>\n",
       "      <td>09</td>\n",
       "    </tr>\n",
       "    <tr>\n",
       "      <th>43816</th>\n",
       "      <td>124744</td>\n",
       "      <td>1.300612e+18</td>\n",
       "      <td>18</td>\n",
       "      <td>2020-09-01 01:52:14</td>\n",
       "      <td>None</td>\n",
       "      <td>0</td>\n",
       "      <td>RT @MeryRobins: #StopTheSteal</td>\n",
       "      <td>None</td>\n",
       "      <td>None</td>\n",
       "      <td>und</td>\n",
       "      <td>...</td>\n",
       "      <td>None</td>\n",
       "      <td>None</td>\n",
       "      <td>None</td>\n",
       "      <td>{\"entities\": {\"hashtags\": [{\"end\": 29, \"tag\": ...</td>\n",
       "      <td>0</td>\n",
       "      <td>None</td>\n",
       "      <td>None</td>\n",
       "      <td>2020-09-01 01:52:14</td>\n",
       "      <td>2020</td>\n",
       "      <td>09</td>\n",
       "    </tr>\n",
       "    <tr>\n",
       "      <th>43817</th>\n",
       "      <td>124745</td>\n",
       "      <td>1.300796e+18</td>\n",
       "      <td>18</td>\n",
       "      <td>2020-09-01 14:03:22</td>\n",
       "      <td>None</td>\n",
       "      <td>0</td>\n",
       "      <td>Time to end cashless bail and this stupid bail...</td>\n",
       "      <td>None</td>\n",
       "      <td>None</td>\n",
       "      <td>en</td>\n",
       "      <td>...</td>\n",
       "      <td>None</td>\n",
       "      <td>None</td>\n",
       "      <td>None</td>\n",
       "      <td>{\"entities\": {\"urls\": [{\"end\": 200, \"url\": \"ht...</td>\n",
       "      <td>0</td>\n",
       "      <td>None</td>\n",
       "      <td>None</td>\n",
       "      <td>2020-09-01 14:03:22</td>\n",
       "      <td>2020</td>\n",
       "      <td>09</td>\n",
       "    </tr>\n",
       "    <tr>\n",
       "      <th>43818</th>\n",
       "      <td>124748</td>\n",
       "      <td>1.300830e+18</td>\n",
       "      <td>18</td>\n",
       "      <td>2020-09-01 16:18:51</td>\n",
       "      <td>None</td>\n",
       "      <td>0</td>\n",
       "      <td>@RaheemKassam #StopTheSteal .. they did the sa...</td>\n",
       "      <td>None</td>\n",
       "      <td>None</td>\n",
       "      <td>en</td>\n",
       "      <td>...</td>\n",
       "      <td>1300830058244866050</td>\n",
       "      <td>None</td>\n",
       "      <td>None</td>\n",
       "      <td>{\"entities\": {\"hashtags\": [{\"end\": 27, \"tag\": ...</td>\n",
       "      <td>0</td>\n",
       "      <td>None</td>\n",
       "      <td>None</td>\n",
       "      <td>2020-09-01 16:18:51</td>\n",
       "      <td>2020</td>\n",
       "      <td>09</td>\n",
       "    </tr>\n",
       "  </tbody>\n",
       "</table>\n",
       "<p>5 rows × 29 columns</p>\n",
       "</div>"
      ],
      "text/plain": [
       "       Unnamed: 0            id  source_id          created_at geo_source  \\\n",
       "43814      124741  1.300607e+18         18 2020-09-01 01:32:22       None   \n",
       "43815      124742  1.300612e+18         18 2020-09-01 01:49:48       None   \n",
       "43816      124744  1.300612e+18         18 2020-09-01 01:52:14       None   \n",
       "43817      124745  1.300796e+18         18 2020-09-01 14:03:22       None   \n",
       "43818      124748  1.300830e+18         18 2020-09-01 16:18:51       None   \n",
       "\n",
       "       truncated                                               text  \\\n",
       "43814          0         #StopTheSteal 2020 https://t.co/0eGlgNMmpS   \n",
       "43815          0              #StopTheSteal https://t.co/1iBSanqHp7   \n",
       "43816          0                      RT @MeryRobins: #StopTheSteal   \n",
       "43817          0  Time to end cashless bail and this stupid bail...   \n",
       "43818          0  @RaheemKassam #StopTheSteal .. they did the sa...   \n",
       "\n",
       "      text_sentiment text_toxicity lang  ...  in_reply_to_status_id_str  \\\n",
       "43814           None          None  und  ...                       None   \n",
       "43815           None          None  und  ...                       None   \n",
       "43816           None          None  und  ...                       None   \n",
       "43817           None          None   en  ...                       None   \n",
       "43818           None          None   en  ...        1300830058244866050   \n",
       "\n",
       "       in_reply_to_user_id_str  in_reply_to_screen_name  \\\n",
       "43814                     None                     None   \n",
       "43815                     None                     None   \n",
       "43816                     None                     None   \n",
       "43817                     None                     None   \n",
       "43818                     None                     None   \n",
       "\n",
       "                                                entities  possibly_sensitive  \\\n",
       "43814  {\"entities\": {\"urls\": [{\"end\": 42, \"url\": \"htt...                   0   \n",
       "43815  {\"entities\": {\"urls\": [{\"end\": 37, \"url\": \"htt...                   0   \n",
       "43816  {\"entities\": {\"hashtags\": [{\"end\": 29, \"tag\": ...                   0   \n",
       "43817  {\"entities\": {\"urls\": [{\"end\": 200, \"url\": \"ht...                   0   \n",
       "43818  {\"entities\": {\"hashtags\": [{\"end\": 27, \"tag\": ...                   0   \n",
       "\n",
       "       coordinates                             place         create_year  \\\n",
       "43814         None                              None 2020-09-01 01:32:22   \n",
       "43815         None  {\"place_id\": \"dc96a032c98a1ea9\"} 2020-09-01 01:49:48   \n",
       "43816         None                              None 2020-09-01 01:52:14   \n",
       "43817         None                              None 2020-09-01 14:03:22   \n",
       "43818         None                              None 2020-09-01 16:18:51   \n",
       "\n",
       "       year month  \n",
       "43814  2020    09  \n",
       "43815  2020    09  \n",
       "43816  2020    09  \n",
       "43817  2020    09  \n",
       "43818  2020    09  \n",
       "\n",
       "[5 rows x 29 columns]"
      ]
     },
     "execution_count": 9,
     "metadata": {},
     "output_type": "execute_result"
    }
   ],
   "source": [
    "stream_one.head()\n",
    "# stream_one.create_year"
   ]
  },
  {
   "cell_type": "code",
   "execution_count": 10,
   "metadata": {},
   "outputs": [
    {
     "data": {
      "text/html": [
       "<div>\n",
       "<style scoped>\n",
       "    .dataframe tbody tr th:only-of-type {\n",
       "        vertical-align: middle;\n",
       "    }\n",
       "\n",
       "    .dataframe tbody tr th {\n",
       "        vertical-align: top;\n",
       "    }\n",
       "\n",
       "    .dataframe thead th {\n",
       "        text-align: right;\n",
       "    }\n",
       "</style>\n",
       "<table border=\"1\" class=\"dataframe\">\n",
       "  <thead>\n",
       "    <tr style=\"text-align: right;\">\n",
       "      <th></th>\n",
       "      <th>Unnamed: 0</th>\n",
       "      <th>id</th>\n",
       "      <th>source_id</th>\n",
       "      <th>created_at</th>\n",
       "      <th>geo_source</th>\n",
       "      <th>truncated</th>\n",
       "      <th>text</th>\n",
       "      <th>text_sentiment</th>\n",
       "      <th>text_toxicity</th>\n",
       "      <th>lang</th>\n",
       "      <th>...</th>\n",
       "      <th>in_reply_to_status_id_str</th>\n",
       "      <th>in_reply_to_user_id_str</th>\n",
       "      <th>in_reply_to_screen_name</th>\n",
       "      <th>entities</th>\n",
       "      <th>possibly_sensitive</th>\n",
       "      <th>coordinates</th>\n",
       "      <th>place</th>\n",
       "      <th>create_year</th>\n",
       "      <th>year</th>\n",
       "      <th>month</th>\n",
       "    </tr>\n",
       "  </thead>\n",
       "  <tbody>\n",
       "    <tr>\n",
       "      <th>43814</th>\n",
       "      <td>124741</td>\n",
       "      <td>1.300607e+18</td>\n",
       "      <td>18</td>\n",
       "      <td>2020-09-01 01:32:22</td>\n",
       "      <td>None</td>\n",
       "      <td>0</td>\n",
       "      <td>#StopTheSteal 2020 https://t.co/0eGlgNMmpS</td>\n",
       "      <td>None</td>\n",
       "      <td>None</td>\n",
       "      <td>und</td>\n",
       "      <td>...</td>\n",
       "      <td>None</td>\n",
       "      <td>None</td>\n",
       "      <td>None</td>\n",
       "      <td>{\"entities\": {\"urls\": [{\"end\": 42, \"url\": \"htt...</td>\n",
       "      <td>0</td>\n",
       "      <td>None</td>\n",
       "      <td>None</td>\n",
       "      <td>2020-09-01 01:32:22</td>\n",
       "      <td>2020</td>\n",
       "      <td>09</td>\n",
       "    </tr>\n",
       "    <tr>\n",
       "      <th>43815</th>\n",
       "      <td>124742</td>\n",
       "      <td>1.300612e+18</td>\n",
       "      <td>18</td>\n",
       "      <td>2020-09-01 01:49:48</td>\n",
       "      <td>None</td>\n",
       "      <td>0</td>\n",
       "      <td>#StopTheSteal https://t.co/1iBSanqHp7</td>\n",
       "      <td>None</td>\n",
       "      <td>None</td>\n",
       "      <td>und</td>\n",
       "      <td>...</td>\n",
       "      <td>None</td>\n",
       "      <td>None</td>\n",
       "      <td>None</td>\n",
       "      <td>{\"entities\": {\"urls\": [{\"end\": 37, \"url\": \"htt...</td>\n",
       "      <td>0</td>\n",
       "      <td>None</td>\n",
       "      <td>{\"place_id\": \"dc96a032c98a1ea9\"}</td>\n",
       "      <td>2020-09-01 01:49:48</td>\n",
       "      <td>2020</td>\n",
       "      <td>09</td>\n",
       "    </tr>\n",
       "    <tr>\n",
       "      <th>43816</th>\n",
       "      <td>124744</td>\n",
       "      <td>1.300612e+18</td>\n",
       "      <td>18</td>\n",
       "      <td>2020-09-01 01:52:14</td>\n",
       "      <td>None</td>\n",
       "      <td>0</td>\n",
       "      <td>RT @MeryRobins: #StopTheSteal</td>\n",
       "      <td>None</td>\n",
       "      <td>None</td>\n",
       "      <td>und</td>\n",
       "      <td>...</td>\n",
       "      <td>None</td>\n",
       "      <td>None</td>\n",
       "      <td>None</td>\n",
       "      <td>{\"entities\": {\"hashtags\": [{\"end\": 29, \"tag\": ...</td>\n",
       "      <td>0</td>\n",
       "      <td>None</td>\n",
       "      <td>None</td>\n",
       "      <td>2020-09-01 01:52:14</td>\n",
       "      <td>2020</td>\n",
       "      <td>09</td>\n",
       "    </tr>\n",
       "    <tr>\n",
       "      <th>43817</th>\n",
       "      <td>124745</td>\n",
       "      <td>1.300796e+18</td>\n",
       "      <td>18</td>\n",
       "      <td>2020-09-01 14:03:22</td>\n",
       "      <td>None</td>\n",
       "      <td>0</td>\n",
       "      <td>Time to end cashless bail and this stupid bail...</td>\n",
       "      <td>None</td>\n",
       "      <td>None</td>\n",
       "      <td>en</td>\n",
       "      <td>...</td>\n",
       "      <td>None</td>\n",
       "      <td>None</td>\n",
       "      <td>None</td>\n",
       "      <td>{\"entities\": {\"urls\": [{\"end\": 200, \"url\": \"ht...</td>\n",
       "      <td>0</td>\n",
       "      <td>None</td>\n",
       "      <td>None</td>\n",
       "      <td>2020-09-01 14:03:22</td>\n",
       "      <td>2020</td>\n",
       "      <td>09</td>\n",
       "    </tr>\n",
       "    <tr>\n",
       "      <th>43818</th>\n",
       "      <td>124748</td>\n",
       "      <td>1.300830e+18</td>\n",
       "      <td>18</td>\n",
       "      <td>2020-09-01 16:18:51</td>\n",
       "      <td>None</td>\n",
       "      <td>0</td>\n",
       "      <td>@RaheemKassam #StopTheSteal .. they did the sa...</td>\n",
       "      <td>None</td>\n",
       "      <td>None</td>\n",
       "      <td>en</td>\n",
       "      <td>...</td>\n",
       "      <td>1300830058244866050</td>\n",
       "      <td>None</td>\n",
       "      <td>None</td>\n",
       "      <td>{\"entities\": {\"hashtags\": [{\"end\": 27, \"tag\": ...</td>\n",
       "      <td>0</td>\n",
       "      <td>None</td>\n",
       "      <td>None</td>\n",
       "      <td>2020-09-01 16:18:51</td>\n",
       "      <td>2020</td>\n",
       "      <td>09</td>\n",
       "    </tr>\n",
       "    <tr>\n",
       "      <th>...</th>\n",
       "      <td>...</td>\n",
       "      <td>...</td>\n",
       "      <td>...</td>\n",
       "      <td>...</td>\n",
       "      <td>...</td>\n",
       "      <td>...</td>\n",
       "      <td>...</td>\n",
       "      <td>...</td>\n",
       "      <td>...</td>\n",
       "      <td>...</td>\n",
       "      <td>...</td>\n",
       "      <td>...</td>\n",
       "      <td>...</td>\n",
       "      <td>...</td>\n",
       "      <td>...</td>\n",
       "      <td>...</td>\n",
       "      <td>...</td>\n",
       "      <td>...</td>\n",
       "      <td>...</td>\n",
       "      <td>...</td>\n",
       "      <td>...</td>\n",
       "    </tr>\n",
       "    <tr>\n",
       "      <th>87623</th>\n",
       "      <td>237611</td>\n",
       "      <td>1.324548e+18</td>\n",
       "      <td>18</td>\n",
       "      <td>2020-11-06 03:03:58</td>\n",
       "      <td>None</td>\n",
       "      <td>0</td>\n",
       "      <td>#Stopthesteal https://t.co/XHGvw90qOe</td>\n",
       "      <td>None</td>\n",
       "      <td>None</td>\n",
       "      <td>und</td>\n",
       "      <td>...</td>\n",
       "      <td>None</td>\n",
       "      <td>None</td>\n",
       "      <td>None</td>\n",
       "      <td>{\"entities\": {\"urls\": [{\"end\": 37, \"url\": \"htt...</td>\n",
       "      <td>0</td>\n",
       "      <td>None</td>\n",
       "      <td>None</td>\n",
       "      <td>2020-11-06 03:03:58</td>\n",
       "      <td>2020</td>\n",
       "      <td>11</td>\n",
       "    </tr>\n",
       "    <tr>\n",
       "      <th>87624</th>\n",
       "      <td>237612</td>\n",
       "      <td>1.324548e+18</td>\n",
       "      <td>18</td>\n",
       "      <td>2020-11-06 03:03:58</td>\n",
       "      <td>None</td>\n",
       "      <td>0</td>\n",
       "      <td>#CountEveryLEGALVote 🇺🇸\\n#GOPStepUpForUsNOW !!...</td>\n",
       "      <td>None</td>\n",
       "      <td>None</td>\n",
       "      <td>und</td>\n",
       "      <td>...</td>\n",
       "      <td>None</td>\n",
       "      <td>None</td>\n",
       "      <td>None</td>\n",
       "      <td>{\"entities\": {\"urls\": [{\"end\": 120, \"url\": \"ht...</td>\n",
       "      <td>0</td>\n",
       "      <td>None</td>\n",
       "      <td>None</td>\n",
       "      <td>2020-11-06 03:03:58</td>\n",
       "      <td>2020</td>\n",
       "      <td>11</td>\n",
       "    </tr>\n",
       "    <tr>\n",
       "      <th>87625</th>\n",
       "      <td>237614</td>\n",
       "      <td>1.324548e+18</td>\n",
       "      <td>18</td>\n",
       "      <td>2020-11-06 03:04:07</td>\n",
       "      <td>None</td>\n",
       "      <td>0</td>\n",
       "      <td>#StopTheSteal https://t.co/40HHCYtT8a</td>\n",
       "      <td>None</td>\n",
       "      <td>None</td>\n",
       "      <td>und</td>\n",
       "      <td>...</td>\n",
       "      <td>None</td>\n",
       "      <td>None</td>\n",
       "      <td>None</td>\n",
       "      <td>{\"entities\": {\"urls\": [{\"end\": 37, \"url\": \"htt...</td>\n",
       "      <td>0</td>\n",
       "      <td>None</td>\n",
       "      <td>None</td>\n",
       "      <td>2020-11-06 03:04:07</td>\n",
       "      <td>2020</td>\n",
       "      <td>11</td>\n",
       "    </tr>\n",
       "    <tr>\n",
       "      <th>87626</th>\n",
       "      <td>237616</td>\n",
       "      <td>1.324548e+18</td>\n",
       "      <td>18</td>\n",
       "      <td>2020-11-06 03:04:10</td>\n",
       "      <td>None</td>\n",
       "      <td>0</td>\n",
       "      <td>#StopTheSteal #VoterFraud 🇺🇸🇺🇸🇺🇸 https://t.co/...</td>\n",
       "      <td>None</td>\n",
       "      <td>None</td>\n",
       "      <td>und</td>\n",
       "      <td>...</td>\n",
       "      <td>None</td>\n",
       "      <td>None</td>\n",
       "      <td>None</td>\n",
       "      <td>{\"entities\": {\"urls\": [{\"end\": 56, \"url\": \"htt...</td>\n",
       "      <td>0</td>\n",
       "      <td>None</td>\n",
       "      <td>None</td>\n",
       "      <td>2020-11-06 03:04:10</td>\n",
       "      <td>2020</td>\n",
       "      <td>11</td>\n",
       "    </tr>\n",
       "    <tr>\n",
       "      <th>87627</th>\n",
       "      <td>237617</td>\n",
       "      <td>1.324548e+18</td>\n",
       "      <td>18</td>\n",
       "      <td>2020-11-06 03:04:11</td>\n",
       "      <td>None</td>\n",
       "      <td>0</td>\n",
       "      <td>RT @shawgerald4: Pennsylvania.\\n#StopTheSteal ...</td>\n",
       "      <td>None</td>\n",
       "      <td>None</td>\n",
       "      <td>cy</td>\n",
       "      <td>...</td>\n",
       "      <td>None</td>\n",
       "      <td>None</td>\n",
       "      <td>None</td>\n",
       "      <td>{\"entities\": {\"urls\": [{\"end\": 87, \"url\": \"htt...</td>\n",
       "      <td>0</td>\n",
       "      <td>None</td>\n",
       "      <td>None</td>\n",
       "      <td>2020-11-06 03:04:11</td>\n",
       "      <td>2020</td>\n",
       "      <td>11</td>\n",
       "    </tr>\n",
       "  </tbody>\n",
       "</table>\n",
       "<p>43814 rows × 29 columns</p>\n",
       "</div>"
      ],
      "text/plain": [
       "       Unnamed: 0            id  source_id          created_at geo_source  \\\n",
       "43814      124741  1.300607e+18         18 2020-09-01 01:32:22       None   \n",
       "43815      124742  1.300612e+18         18 2020-09-01 01:49:48       None   \n",
       "43816      124744  1.300612e+18         18 2020-09-01 01:52:14       None   \n",
       "43817      124745  1.300796e+18         18 2020-09-01 14:03:22       None   \n",
       "43818      124748  1.300830e+18         18 2020-09-01 16:18:51       None   \n",
       "...           ...           ...        ...                 ...        ...   \n",
       "87623      237611  1.324548e+18         18 2020-11-06 03:03:58       None   \n",
       "87624      237612  1.324548e+18         18 2020-11-06 03:03:58       None   \n",
       "87625      237614  1.324548e+18         18 2020-11-06 03:04:07       None   \n",
       "87626      237616  1.324548e+18         18 2020-11-06 03:04:10       None   \n",
       "87627      237617  1.324548e+18         18 2020-11-06 03:04:11       None   \n",
       "\n",
       "       truncated                                               text  \\\n",
       "43814          0         #StopTheSteal 2020 https://t.co/0eGlgNMmpS   \n",
       "43815          0              #StopTheSteal https://t.co/1iBSanqHp7   \n",
       "43816          0                      RT @MeryRobins: #StopTheSteal   \n",
       "43817          0  Time to end cashless bail and this stupid bail...   \n",
       "43818          0  @RaheemKassam #StopTheSteal .. they did the sa...   \n",
       "...          ...                                                ...   \n",
       "87623          0              #Stopthesteal https://t.co/XHGvw90qOe   \n",
       "87624          0  #CountEveryLEGALVote 🇺🇸\\n#GOPStepUpForUsNOW !!...   \n",
       "87625          0              #StopTheSteal https://t.co/40HHCYtT8a   \n",
       "87626          0  #StopTheSteal #VoterFraud 🇺🇸🇺🇸🇺🇸 https://t.co/...   \n",
       "87627          0  RT @shawgerald4: Pennsylvania.\\n#StopTheSteal ...   \n",
       "\n",
       "      text_sentiment text_toxicity lang  ...  in_reply_to_status_id_str  \\\n",
       "43814           None          None  und  ...                       None   \n",
       "43815           None          None  und  ...                       None   \n",
       "43816           None          None  und  ...                       None   \n",
       "43817           None          None   en  ...                       None   \n",
       "43818           None          None   en  ...        1300830058244866050   \n",
       "...              ...           ...  ...  ...                        ...   \n",
       "87623           None          None  und  ...                       None   \n",
       "87624           None          None  und  ...                       None   \n",
       "87625           None          None  und  ...                       None   \n",
       "87626           None          None  und  ...                       None   \n",
       "87627           None          None   cy  ...                       None   \n",
       "\n",
       "       in_reply_to_user_id_str  in_reply_to_screen_name  \\\n",
       "43814                     None                     None   \n",
       "43815                     None                     None   \n",
       "43816                     None                     None   \n",
       "43817                     None                     None   \n",
       "43818                     None                     None   \n",
       "...                        ...                      ...   \n",
       "87623                     None                     None   \n",
       "87624                     None                     None   \n",
       "87625                     None                     None   \n",
       "87626                     None                     None   \n",
       "87627                     None                     None   \n",
       "\n",
       "                                                entities  possibly_sensitive  \\\n",
       "43814  {\"entities\": {\"urls\": [{\"end\": 42, \"url\": \"htt...                   0   \n",
       "43815  {\"entities\": {\"urls\": [{\"end\": 37, \"url\": \"htt...                   0   \n",
       "43816  {\"entities\": {\"hashtags\": [{\"end\": 29, \"tag\": ...                   0   \n",
       "43817  {\"entities\": {\"urls\": [{\"end\": 200, \"url\": \"ht...                   0   \n",
       "43818  {\"entities\": {\"hashtags\": [{\"end\": 27, \"tag\": ...                   0   \n",
       "...                                                  ...                 ...   \n",
       "87623  {\"entities\": {\"urls\": [{\"end\": 37, \"url\": \"htt...                   0   \n",
       "87624  {\"entities\": {\"urls\": [{\"end\": 120, \"url\": \"ht...                   0   \n",
       "87625  {\"entities\": {\"urls\": [{\"end\": 37, \"url\": \"htt...                   0   \n",
       "87626  {\"entities\": {\"urls\": [{\"end\": 56, \"url\": \"htt...                   0   \n",
       "87627  {\"entities\": {\"urls\": [{\"end\": 87, \"url\": \"htt...                   0   \n",
       "\n",
       "       coordinates                             place         create_year  \\\n",
       "43814         None                              None 2020-09-01 01:32:22   \n",
       "43815         None  {\"place_id\": \"dc96a032c98a1ea9\"} 2020-09-01 01:49:48   \n",
       "43816         None                              None 2020-09-01 01:52:14   \n",
       "43817         None                              None 2020-09-01 14:03:22   \n",
       "43818         None                              None 2020-09-01 16:18:51   \n",
       "...            ...                               ...                 ...   \n",
       "87623         None                              None 2020-11-06 03:03:58   \n",
       "87624         None                              None 2020-11-06 03:03:58   \n",
       "87625         None                              None 2020-11-06 03:04:07   \n",
       "87626         None                              None 2020-11-06 03:04:10   \n",
       "87627         None                              None 2020-11-06 03:04:11   \n",
       "\n",
       "       year month  \n",
       "43814  2020    09  \n",
       "43815  2020    09  \n",
       "43816  2020    09  \n",
       "43817  2020    09  \n",
       "43818  2020    09  \n",
       "...     ...   ...  \n",
       "87623  2020    11  \n",
       "87624  2020    11  \n",
       "87625  2020    11  \n",
       "87626  2020    11  \n",
       "87627  2020    11  \n",
       "\n",
       "[43814 rows x 29 columns]"
      ]
     },
     "execution_count": 10,
     "metadata": {},
     "output_type": "execute_result"
    }
   ],
   "source": [
    "stream_one.head(43814)"
   ]
  },
  {
   "cell_type": "code",
   "execution_count": 11,
   "metadata": {},
   "outputs": [],
   "source": [
    "# Function to remove twitter specific characters\n",
    "def get_url_patern():\n",
    "    return re.compile(\n",
    "        r'(https?:\\/\\/(?:www\\.|(?!www))[a-zA-Z0-9][a-zA-Z0-9-]+[a-zA-Z0-9]\\.[^\\s]{2,}|https?:\\/\\/(?:www\\.|(?!www))'\n",
    "        r'[a-zA-Z0-9]\\.[^\\s]{2,}|www\\.[a-zA-Z0-9]\\.[^\\s]{2,})')\n",
    "\n",
    "def get_hashtags_pattern():\n",
    "    return re.compile(r'#\\w*')\n",
    "\n",
    "def get_single_letter_words_pattern():\n",
    "    return re.compile(r'(?<![\\w\\-])\\w(?![\\w\\-])')\n",
    "\n",
    "def get_blank_spaces_pattern():\n",
    "    return re.compile(r'\\s{2,}|\\t')\n",
    "\n",
    "def get_twitter_reserved_words_pattern():\n",
    "    return re.compile(r'(RT|rt|FAV|fav|VIA|via)')\n",
    "\n",
    "def get_mentions_pattern():\n",
    "    return re.compile(r'@\\w*')\n",
    "\n",
    "def process_text(word):\n",
    "  word=re.sub(pattern=get_url_patern(), repl=\"\", string=word)\n",
    "  word=re.sub(pattern=get_mentions_pattern(), repl=\"\", string=word)\n",
    "  word=re.sub(pattern=get_hashtags_pattern(), repl=\"\", string=word)\n",
    "  word=re.sub(pattern=get_twitter_reserved_words_pattern(), repl='', string=word)\n",
    "  word=re.sub(r'http\\S+', \"\", word)  # remove http links\n",
    "  word=re.sub(r'bit.ly/\\S+', \"\", word)  # rempve bitly links\n",
    "  word=word.strip('[link]')  # remove [links]\n",
    "  word=re.sub('(RT\\s@[A-Za-z]+[A-Za-z0-9-_]+)', \"\", word)  # remove retweet\n",
    "  word=re.sub('(@[A-Za-z]+[A-Za-z0-9-_]+)', \"\", word)  # remove tweeted at\n",
    "  word=clean(word, no_emoji=True)\n",
    "  return word"
   ]
  },
  {
   "cell_type": "code",
   "execution_count": 12,
   "metadata": {},
   "outputs": [],
   "source": [
    "# Remove twitter specific characters\n",
    "stream_one.text = stream_one.apply(lambda row: process_text(row.text), 1)"
   ]
  },
  {
   "cell_type": "code",
   "execution_count": 13,
   "metadata": {},
   "outputs": [],
   "source": [
    "# Remove punctuations, stop words, digits and turn text to lowercase\n",
    "training_data = [little_mallet_wrapper.process_string(text, numbers='remove') for text in stream_one.text]"
   ]
  },
  {
   "cell_type": "code",
   "execution_count": 14,
   "metadata": {},
   "outputs": [
    {
     "data": {
      "text/plain": [
       "['',\n",
       " '',\n",
       " '',\n",
       " 'time end cashless bail stupid bail reform turns justice system revolving door let criminals back offend',\n",
       " 'thing test run',\n",
       " 'steal election election tactic used test run',\n",
       " 'true know vote primaries got congress votes democratic nyc district school boards universities county commissioners spending indoctrinating money',\n",
       " '',\n",
       " 'test run worked like charm prevented broward county succeeding sounding alarm absolutely nothing done prevent future',\n",
       " 'test run worked like charm prevented broward county succeeding sound',\n",
       " 'test run worked like charm prevented broward county succeeding sound',\n",
       " 'test run worked like charm prevented broward county succeeding sound',\n",
       " 'test run worked like charm prevented broward county succeeding sound',\n",
       " 'test run worked like charm prevented broward county succeeding sound',\n",
       " 'damn ridiculous little baby son nasty ass bitch needs put big boy panties stop acting fucking fool damn zero respect stupidity',\n",
       " 'test run worked like charm prevented broward county succeeding sound',\n",
       " 'test run worked like charm prevented broward county succeeding sound',\n",
       " 'daughter moved new apament across town august postal service keeps redirecting wife mail house daughters new apament complex going trust millions millions ballots',\n",
       " 'thing test run',\n",
       " '',\n",
       " 'thank former democrat campaign worker years glad bring experience help great potus volunteer election day',\n",
       " 'john robes step chief justice judicial branch run cous found fool bush appointment major disappointment fisa also',\n",
       " 'thing test run',\n",
       " '',\n",
       " 'test run worked like charm prevented broward county succeeding sound',\n",
       " 'thank god',\n",
       " 'government document papers every citizen least one apply one law driving licence vote',\n",
       " 'vote life depends dodpse depend mail votes vote person absentee',\n",
       " 'thing test run',\n",
       " 'thing test run',\n",
       " '',\n",
       " '',\n",
       " '',\n",
       " 'exactly answered question media unless submitted advance july going back debates',\n",
       " 'thing test run',\n",
       " 'cheat chance',\n",
       " '',\n",
       " '',\n",
       " 'democrats say mail ballots win presidency congress local elections',\n",
       " 'conservatives please sign poll workers state asap virginia critical need eyes every polling location across country',\n",
       " '',\n",
       " 'losers biggest cheaters wait watch president trump reach beyond election night maga',\n",
       " 'orlando congresswoman impeachment democrat val demings husband jerry demings democratic mayor think',\n",
       " 'need keep going many fraudulent voters found',\n",
       " 'need keep going many fraudulent voters found',\n",
       " 'agree barr maga',\n",
       " 'conservatives need sign poll workers every state',\n",
       " 'voter fraud',\n",
       " 'states trying away checking signatures ballots signatures voter registration cards hmmmm would',\n",
       " 'must file complaint cous shut jeopardy real',\n",
       " 'time require voter send every every local precinct federal elections federal oversight ensure legal votes counted',\n",
       " 'house democrat penmanship postal service experience preferred',\n",
       " '',\n",
       " 'need keep going many fraudulent voters found',\n",
       " 'beware fake remember',\n",
       " '',\n",
       " 'park shuttle buses get chance see trump hours arrive biden media suppoers hour speaking kenosha',\n",
       " 'exposed public officials vote harvesting california',\n",
       " 'seems like fed know able stop',\n",
       " 'nice peaceful anti trump folks attacking children',\n",
       " 'home thank voted voter one judge cancelled vote',\n",
       " 'desperate democrats stop nothing regain power matter whatever lies tell',\n",
       " 'mollie know media collaborating democrats drive president trump office means necessary democrat pay regain power',\n",
       " 'press conference joke repoer microphone reading question phone',\n",
       " '',\n",
       " 'home thank voted voter one judg',\n",
       " 'used',\n",
       " 'happened happen november',\n",
       " 'time revive yet',\n",
       " '',\n",
       " 'sta register recorder offices nov agents ground',\n",
       " 'communist must removed asap',\n",
       " '',\n",
       " '',\n",
       " '',\n",
       " 'remember parking lot scene broward county vehicles bring harvest',\n",
       " '',\n",
       " '',\n",
       " 'dangerous dem coup building plan steal elec',\n",
       " 'democrats planning steal election beginning tried execute plan must',\n",
       " 'democrat pay real threat republic win ballot box issues hence race baiting lies manipulation universal mail ballots',\n",
       " 'totally agree lock country collapse economy blame president trump let socialist redistribution begin',\n",
       " 'agree gigi potus shown traitor american citizens volunteer election',\n",
       " 'none democratic socialists intend delay vote counts day must setting mail boxes fire removed ballot boxes primaries planning chaos plan win',\n",
       " '',\n",
       " 'michigan wants time cheat see let deal',\n",
       " 'biden dead suppoers ceainly living much',\n",
       " 'michigan wants time cheat see let deal',\n",
       " 'michigan wants time cheat see let deal',\n",
       " 'follow science helps democrat pay regain power',\n",
       " 'yep offense expose lies deception fraud democrats sycophants',\n",
       " 'vote person',\n",
       " '',\n",
       " '',\n",
       " 'michigan wants time cheat see let deal',\n",
       " 'ali even though treated nasty need fight',\n",
       " '',\n",
       " 'michigan wants time cheat see let deal',\n",
       " 'true watched play sta finish',\n",
       " 'suggest follow want top scoops election',\n",
       " 'hurricane aliversion',\n",
       " 'coming national level months ballot harvesting try national level',\n",
       " '',\n",
       " '',\n",
       " 'watch broadcast big tech announces block trump victory speech unretires',\n",
       " 'listen right away watch broadcast big tech announces block trump victory speech unretires',\n",
       " 'test run worked like charm prevented broward county succeeding sound',\n",
       " 'watch broadcast big tech announces block trump victory speech unretires',\n",
       " 'watch broadcast big tech announces block trump victory speech unretires',\n",
       " 'ali big tech announces block trump victory speech unretires',\n",
       " 'watch happened broadcast big tech announces block trump victory speech unretires',\n",
       " 'watch broadcast big tech announces block trump victory speech unretires',\n",
       " 'michigan wants time cheat see let deal',\n",
       " 'watch broadcast big tech announces block trump victory speech unretires',\n",
       " 'watch broadcast big tech announces block trump victory speech unretires',\n",
       " 'hurricane aliversion',\n",
       " 'dear president looks like zuckerberg preparing mess election plans america',\n",
       " '',\n",
       " 'watch happened broadcast big tech announces block trump victory speech unretires',\n",
       " 'watch happened broadcast big tech announces block trump victory speech unretires',\n",
       " 'watch happened broadcast big tech announces block trump victory speech unretires',\n",
       " 'watch broadcast big tech announces block trump victory speech unretires',\n",
       " 'yikes roonie please retweet',\n",
       " 'watch happened broadcast big tech announces block trump victory speech unretires',\n",
       " 'hurricane aliversion',\n",
       " 'big tech trump ali people',\n",
       " 'listen share zuckerberg wants silence patriot accounts election day',\n",
       " '',\n",
       " 'watch broadcast big tech announces block trump victory speech unretires',\n",
       " 'make big enough whole country',\n",
       " '',\n",
       " 'michigan wants time cheat see let deal',\n",
       " 'big tech trump ali people',\n",
       " 'pass get trending',\n",
       " 'watch broadcast big tech announces block trump victory speech unretires',\n",
       " 'pass get trending',\n",
       " 'pass get trending',\n",
       " 'watch broadcast big tech announces block trump victory speech unretires',\n",
       " 'pass get trending',\n",
       " 'pass get trending',\n",
       " 'pass get trending',\n",
       " 'pass get trending',\n",
       " 'pass get trending',\n",
       " '',\n",
       " 'pass get trending',\n",
       " 'pass get trending',\n",
       " 'elected mark zuckerburg government position',\n",
       " 'pass get trending',\n",
       " 'pass get trending',\n",
       " 'watch broadcast big tech announces block trump victory speech unretires',\n",
       " 'pass get trending',\n",
       " 'pass get trending',\n",
       " 'pass get trending',\n",
       " 'pass get trending',\n",
       " 'happen nov watch broadcast big tech announces block trump victory speech unretires',\n",
       " 'whatever trump put motion strip broad protections social media staying neutral per legislation back',\n",
       " 'hell',\n",
       " 'pass get trending',\n",
       " '',\n",
       " 'pass get trending',\n",
       " 'repoer sat whole time nodding head',\n",
       " 'pass get trending',\n",
       " 'pass get trending',\n",
       " 'pass get trending',\n",
       " '',\n",
       " 'pass get trending',\n",
       " 'pass get trending',\n",
       " '',\n",
       " 'pass get trending',\n",
       " 'pass get trending',\n",
       " '',\n",
       " 'pass get trending',\n",
       " 'pass get trending',\n",
       " 'pass get trending',\n",
       " 'pass get trending',\n",
       " '',\n",
       " '',\n",
       " 'pass get trending',\n",
       " 'pass get trending',\n",
       " 'pass get trending',\n",
       " 'pass get trending',\n",
       " 'pass get trending',\n",
       " 'pass get trending',\n",
       " 'pass get trending',\n",
       " '',\n",
       " 'pass get trending',\n",
       " 'pass get trending',\n",
       " 'pass get trending',\n",
       " 'pass get trending',\n",
       " '',\n",
       " 'zuckerberg talking election taking weeks decided',\n",
       " '',\n",
       " '',\n",
       " 'pass get trending',\n",
       " '',\n",
       " 'pass get trending',\n",
       " '',\n",
       " 'pass get trending',\n",
       " 'pass get trending',\n",
       " 'pass get trending',\n",
       " 'pass get trending',\n",
       " 'pass get trending',\n",
       " '',\n",
       " 'pass get trending',\n",
       " 'pass get trending',\n",
       " '',\n",
       " 'pass get trending',\n",
       " 'pass get trending',\n",
       " 'dont make voice heard conservatives thrown',\n",
       " 'pass get trending',\n",
       " 'mark zuckerberg talking election process media outlet must able influence voting',\n",
       " 'pass get trending',\n",
       " '',\n",
       " 'pass get trending',\n",
       " '',\n",
       " '',\n",
       " '',\n",
       " 'pass get trending',\n",
       " 'listen share america',\n",
       " '',\n",
       " 'pass get trending',\n",
       " 'pass get trending',\n",
       " 'pass get trending',\n",
       " 'pass get trending',\n",
       " '',\n",
       " 'pass get trending',\n",
       " 'pass get trending',\n",
       " 'planning post election steal',\n",
       " 'pass get trending',\n",
       " 'need prepare stolen fraud mail ballots especially since isn dam thing',\n",
       " 'pass get trending',\n",
       " 'michigan wants time cheat see let deal',\n",
       " 'need come retirement one save gop save republic',\n",
       " '',\n",
       " 'pass get trending',\n",
       " '',\n",
       " 'makes look worse election interfering',\n",
       " '',\n",
       " 'pass get trending',\n",
       " 'gotta get groove ale family friends follow gotta take back ground social media techs think got coordinating steal election prolonging counts info flow dems play keeps',\n",
       " 'get follow',\n",
       " 'pass get trending',\n",
       " 'pass get trending',\n",
       " 'pass get trending',\n",
       " 'pass get trending',\n",
       " 'watch happened broadcast big tech announces block trump victory speech unretires',\n",
       " 'sure',\n",
       " 'pass get trending',\n",
       " '',\n",
       " 'pass get trending',\n",
       " 'pass get trending',\n",
       " 'remember months ago tweeted enthusiasm tides turned get vote',\n",
       " 'pass get trending',\n",
       " '',\n",
       " 'pass get trending',\n",
       " 'need watch order get ahead terrible care win related romney doesn care either',\n",
       " 'living israel constant low background level threat terrorism seem scary must',\n",
       " 'vote perso',\n",
       " 'pass get trending',\n",
       " '',\n",
       " '',\n",
       " 'hatching plan steal election know exactly many fraudulent ballots need magically appear mail election',\n",
       " '',\n",
       " 'pass get trending',\n",
       " '',\n",
       " 'pass get trending',\n",
       " 'cannot complacent zuckerberg telling americans wait every vote counted liberals really saying count votes liberals enough win send protect vote',\n",
       " 'pass get trending',\n",
       " '',\n",
       " '',\n",
       " 'must watch',\n",
       " '',\n",
       " '',\n",
       " 'pass get trending',\n",
       " '',\n",
       " 'pass get trending',\n",
       " '',\n",
       " '',\n",
       " '',\n",
       " '',\n",
       " 'pass get trending',\n",
       " '',\n",
       " '',\n",
       " 'pass get trending',\n",
       " 'pass get trending',\n",
       " 'million gov needs help telling trump declare win unless biden concedes seriously attempted theft american election coming soon',\n",
       " '',\n",
       " '',\n",
       " 'lies',\n",
       " 'pass get trending',\n",
       " '',\n",
       " 'need big tech making moves aren following need watch video suppo',\n",
       " 'watch video add email bottom get text help watch polls near fair election watching cars coming going',\n",
       " '',\n",
       " 'vote person election day every trump suppoer suppo democracy prove americans allow elites steal election',\n",
       " '',\n",
       " '',\n",
       " 'pass get trending',\n",
       " '',\n",
       " '',\n",
       " '',\n",
       " 'pass get trending',\n",
       " 'watch broadcast big tech announces block trump victory speech unretires',\n",
       " 'yikes roonie please retweet',\n",
       " 'watch broadcast big tech announces block trump victory speech unretires',\n",
       " '',\n",
       " '',\n",
       " 'pass get trending',\n",
       " 'thank god',\n",
       " '',\n",
       " 'must',\n",
       " '',\n",
       " '',\n",
       " 'pass get trending',\n",
       " '',\n",
       " 'yikes roonie please retweet',\n",
       " 'michigan wants time cheat see let deal',\n",
       " '',\n",
       " 'yep',\n",
       " '',\n",
       " 'pass get trending',\n",
       " 'michigan wants time cheat see let deal',\n",
       " 'repoer sat whole time nodding head',\n",
       " 'hurricane aliversion',\n",
       " 'vote person election day prove americans allow elites steal election',\n",
       " 'michigan wants time cheat see let deal',\n",
       " '',\n",
       " 'gotta get groove ale family friends follow gotta take back ground',\n",
       " 'thank god',\n",
       " 'thank god',\n",
       " 'yes warn ali',\n",
       " 'vote person election day droves prove elites allow steal election',\n",
       " 'thank god',\n",
       " 'pass get trending',\n",
       " 'pass get trending',\n",
       " 'yes warn ali',\n",
       " '',\n",
       " '',\n",
       " 'michigan wants time cheat see let deal',\n",
       " 'yikes roonie please retweet',\n",
       " 'repoer sat whole time nodding head',\n",
       " '',\n",
       " '',\n",
       " '',\n",
       " 'block protest call action broadcast big tech announces block trump victory speech unretires',\n",
       " '',\n",
       " 'pass get trending',\n",
       " 'big tech getting ready help steal election',\n",
       " 'pass get trending',\n",
       " 'vote person election day droves suppo trump american democracy prevent elites stealing election',\n",
       " 'team heros florida lets see influencer give credit',\n",
       " 'vote person election day drives prevent elites stealing election',\n",
       " 'fake news ale repoing bloomberg repoing yet anonymous sorces',\n",
       " '',\n",
       " '',\n",
       " 'watch broadcast big tech announces block trump victory speech unretires',\n",
       " 'yikes roonie please retweet',\n",
       " '',\n",
       " '',\n",
       " 'one person one vote',\n",
       " 'yes warn ali',\n",
       " 'pass get trending',\n",
       " 'thank god',\n",
       " '',\n",
       " 'yes warn ali',\n",
       " 'pass get trending',\n",
       " 'pass get trending',\n",
       " '',\n",
       " '',\n",
       " '',\n",
       " 'pass get trending',\n",
       " '',\n",
       " 'hurricane aliversion',\n",
       " 'pass get trending',\n",
       " 'thank god',\n",
       " 'big tech getting ready help steal election',\n",
       " 'agree plan vote person republicans congress power make sure',\n",
       " 'yes warn ali',\n",
       " 'thank god',\n",
       " '',\n",
       " 'pass get trending',\n",
       " 'pass get trending',\n",
       " '',\n",
       " '',\n",
       " '',\n",
       " '',\n",
       " '',\n",
       " '',\n",
       " 'pass get trending',\n",
       " '',\n",
       " 'tweeter interfering',\n",
       " 'tweeter interfering',\n",
       " 'many trump suppoers willing take streets',\n",
       " 'deep swamp south florida let know need anything',\n",
       " 'agreed',\n",
       " 'president trump know trying set steal must let happen',\n",
       " 'pass get trending',\n",
       " '',\n",
       " 'pass get trending',\n",
       " '',\n",
       " '',\n",
       " '',\n",
       " 'god bless get big tech',\n",
       " 'warned diy tricks democrats act planning steal election must let happen',\n",
       " 'call',\n",
       " 'everybody talking democrats coming coup attempt',\n",
       " 'everybody talking democrats coming coup attempt',\n",
       " 'everybody talking democrats coming coup attempt',\n",
       " 'everybody talking democrats coming coup attempt',\n",
       " 'everybody talking democrats coming coup attempt',\n",
       " 'everybody talking democrats coming coup attempt',\n",
       " 'everybody talking democrats coming coup attempt',\n",
       " 'everybody talking democrats coming coup attempt',\n",
       " 'everybody talking democrats coming coup attempt',\n",
       " 'everybody talking democrats coming coup attempt',\n",
       " 'everybody talking democrats coming coup attempt',\n",
       " 'everybody talking democrats coming coup attempt',\n",
       " 'everybody talking democrats coming coup attempt',\n",
       " 'everybody talking democrats coming coup attempt',\n",
       " 'everybody talking democrats coming coup attempt',\n",
       " 'think biden handlers planning joe test positive china virus right debates put quarantine election load hydroxychloroquine right',\n",
       " '',\n",
       " 'looks like bought soros worldwide event pray',\n",
       " '',\n",
       " 'everybody talking democrats coming coup attempt',\n",
       " 'real life green new deal vote red',\n",
       " '',\n",
       " 'everybody talking democrats coming coup attempt',\n",
       " 'everybody talking democrats coming coup attempt',\n",
       " 'soros paid agenda',\n",
       " '',\n",
       " 'aka election interference',\n",
       " 'everybody talking democrats coming coup attempt',\n",
       " '',\n",
       " 'soros agenda nwo',\n",
       " 'think iowa primary shear incompetence hope wrong believe mobilizing try steal election believe legitimate president think actions take justified like obamagate',\n",
       " 'everybody talking democrats coming coup attempt',\n",
       " '',\n",
       " 'going cheat win',\n",
       " 'doubt wrap around smear tactic used democrat pay nancy pelosi seen tape explaining diy tactic',\n",
       " 'latest bringtheflag daily thanks',\n",
       " 'everybody talking democrats coming coup attempt',\n",
       " '',\n",
       " 'another democrat wrap around smear hope backfires',\n",
       " 'everybody talking democrats coming coup attempt',\n",
       " 'piles mail dumped california',\n",
       " 'everybody talking democrats coming coup attempt',\n",
       " 'everybody talking democrats coming coup attempt',\n",
       " 'behind scene ballots harvest everyone ballots',\n",
       " 'ballot harvesting done sleep',\n",
       " 'trump disinformation flunkies pushing thing basic premise vote counting expected',\n",
       " 'trump disinformation flunkies pushing thing basic premise vote counting expected',\n",
       " '',\n",
       " 'trump disinformation flunkies pushing thing basic premise vote counting expected',\n",
       " '',\n",
       " 'trump disinformation flunkies pushing thing basic premise vote counting expected',\n",
       " '',\n",
       " 'pass get trending',\n",
       " 'time executive order exception official verified absentee ballots mail voting want results night november',\n",
       " '',\n",
       " 'hell',\n",
       " '',\n",
       " 'trump disinformation flunkies pushing thing basic premise vote counting expected',\n",
       " 'zero doubt loves magnify idiots useful idiots vlad straightforward active measures investigate everyone repo tweets',\n",
       " 'team heros florida lets see influencer give credit',\n",
       " '',\n",
       " '',\n",
       " 'wow unreal must handlers want cut questions quickly possible speaks loses legitimacy left fights criminals',\n",
       " 'everybody talking democrats coming coup attempt',\n",
       " 'read tweet morning someone louisiana counted signs trump crawfish ish biden ish neighborhood households found one biden sign',\n",
       " '',\n",
       " '',\n",
       " '',\n",
       " '',\n",
       " 'many die forced office',\n",
       " '',\n",
       " 'trump disinformation flunkies pushing thing basic premise vote counting expected',\n",
       " '',\n",
       " '',\n",
       " '',\n",
       " '',\n",
       " 'call',\n",
       " '',\n",
       " 'absolute failure american human',\n",
       " '',\n",
       " '',\n",
       " 'see video call help',\n",
       " '',\n",
       " '',\n",
       " 'call',\n",
       " '',\n",
       " '',\n",
       " '',\n",
       " 'everybody talking democrats coming coup attempt',\n",
       " '',\n",
       " '',\n",
       " 'trump disinformation flunkies pushing thing basic premise vote counting expected',\n",
       " 'shameful feckless done nothing prevent obvious already works one trying',\n",
       " 'ali invalid actively paicipate donate money send',\n",
       " 'trump disinformation flunkies pushing thing basic premise vote counting expected',\n",
       " 'trump disinformation flunkies pushing thing basic premise vote counting expected',\n",
       " 'trump disinformation flunkies pushing thing basic premise vote counting expected',\n",
       " 'retweet banned twitter black man wants country back gasp nerve',\n",
       " 'election interference',\n",
       " 'latest sharia law daily thanks',\n",
       " '',\n",
       " 'pass get trending',\n",
       " 'watch periscope big tech announces block trump victory speech',\n",
       " '',\n",
       " '',\n",
       " 'vote person',\n",
       " '',\n",
       " '',\n",
       " 'unbelievable cannot allow happen',\n",
       " 'thanks god bless must',\n",
       " 'ali organized grassroots protest lauraloomer middle',\n",
       " 'big tech censorship',\n",
       " 'team heros florida lets see influencer give credit',\n",
       " '',\n",
       " 'sent',\n",
       " 'yikes roonie please retweet',\n",
       " 'needs executive order voter fraud automatic years postal employees committing voter fraud minimum anyone else something done',\n",
       " 'thank god',\n",
       " 'stop facebook stealing vote',\n",
       " '',\n",
       " '',\n",
       " '',\n",
       " '',\n",
       " 'interesting people know lying living fantasy think pull one voters know whats better cuz stupid',\n",
       " 'everybody talking democrats coming coup attempt',\n",
       " '',\n",
       " '',\n",
       " 'hope plan combat leftist voter fraud',\n",
       " '',\n",
       " 'vote person',\n",
       " '',\n",
       " 'big tech censorship',\n",
       " 'live noh carolina',\n",
       " 'play sma first expose kinda already exposed dig deeper hole get people see burry',\n",
       " 'everybody talking democrats coming coup attempt',\n",
       " 'believe people need get know adversary/adversaries sharing info think know pray act according truth',\n",
       " '',\n",
       " '',\n",
       " '',\n",
       " '',\n",
       " '',\n",
       " '',\n",
       " '',\n",
       " '',\n",
       " '',\n",
       " '',\n",
       " '',\n",
       " '',\n",
       " '',\n",
       " '',\n",
       " '',\n",
       " '',\n",
       " 'keep biden away children',\n",
       " 'keep biden away children',\n",
       " 'keep biden away children',\n",
       " 'keep biden away children',\n",
       " 'keep biden away children',\n",
       " 'keep biden away children',\n",
       " 'keep biden away children',\n",
       " 'keep biden away children',\n",
       " 'keep biden away children',\n",
       " 'keep biden away children',\n",
       " 'keep biden away children',\n",
       " 'keep biden away children',\n",
       " 'keep biden away children',\n",
       " 'keep biden away children',\n",
       " 'keep biden away children',\n",
       " 'keep biden away children',\n",
       " 'keep biden away children',\n",
       " 'keep biden away children',\n",
       " 'keep biden away children',\n",
       " 'keep biden away children',\n",
       " 'keep biden away children',\n",
       " 'keep biden away children',\n",
       " 'keep biden away children',\n",
       " 'keep biden away children',\n",
       " 'keep biden away children',\n",
       " 'keep biden away children',\n",
       " 'doesn matter provisional ballots play everywhere',\n",
       " 'joe office years saying make change lies',\n",
       " 'joe office years saying make change lies',\n",
       " 'joe office years saying make change lies',\n",
       " 'joe office years saying make change lies',\n",
       " 'joe office years saying make change lies',\n",
       " 'joe office years saying make change lies',\n",
       " 'joe office years saying make change lies',\n",
       " 'joe office years saying make change lies',\n",
       " 'joe office years saying make change lies',\n",
       " 'joe office years saying make change lies',\n",
       " 'joe office years saying make change lies',\n",
       " 'joe office years saying make change lies',\n",
       " 'joe office years saying make change lies',\n",
       " 'joe office years saying make change lies',\n",
       " 'joe office years saying make change lies',\n",
       " 'joe office years saying make change lies',\n",
       " 'joe office years saying make change lies',\n",
       " 'pass get trending',\n",
       " 'joe office years saying make change lies',\n",
       " 'joe office years saying make change lies',\n",
       " 'joe office years saying make change lies',\n",
       " 'joe office years saying make change lies',\n",
       " 'joe office years saying make change lies',\n",
       " 'joe office years saying make change lies',\n",
       " 'joe office years saying make change lies',\n",
       " 'joe office years saying make change lies',\n",
       " 'see chaos trying create campaign ability challenge ballots later hello pushing back elias hello better figure later',\n",
       " 'joe office years saying make change lies',\n",
       " 'joe office years saying make change lies',\n",
       " 'joe office years saying make change lies',\n",
       " 'joe office years saying make change lies',\n",
       " 'joe office years saying make change lies',\n",
       " 'joe office years saying make change lies',\n",
       " 'joe office years saying make change lies',\n",
       " 'joe office years saying make change lies',\n",
       " 'joe office years saying make change lies',\n",
       " 'joe office years saying make change lies',\n",
       " 'joe office years saying make change lies',\n",
       " 'joe office years saying make change lies',\n",
       " 'dems lawyers everything steal election november need',\n",
       " 'dems lawyers everything steal election november need',\n",
       " 'biden crime bill sniffs little girls gov years going fix things',\n",
       " 'latest writewing news',\n",
       " 'brutal resurfaced video destroy campaign wasn using thoughts mind nothing changed',\n",
       " 'avoid social media wanna fight person ground state swing state follow sign free email peaceful complete takedown social media personal way stay tuned',\n",
       " 'pass get trending',\n",
       " 'one cares open nevada theft shady ass passing mass mail voting middle night last min',\n",
       " 'everybody talking democrats coming coup attempt',\n",
       " 'republicans vote election day democrats keep voting win',\n",
       " 'isn investigation stale tactic push past election afraid one washington ever held accountable',\n",
       " '',\n",
       " '',\n",
       " '',\n",
       " 'pray hard',\n",
       " '',\n",
       " 'course correct',\n",
       " 'trump said could deaths time frame around march middle september',\n",
       " 'audio great find',\n",
       " '',\n",
       " 'russia created trump loses civil war ali alexander dangerous propaganda hope people know phone numbers forwarded russia including names think lose anyone',\n",
       " 'trump disinformation flunkies pushing thing basic premise vote counting expected',\n",
       " '',\n",
       " '',\n",
       " '',\n",
       " 'democrats trying fix justice john robes settle election know way would republicans pres allow happen even tell stop',\n",
       " '',\n",
       " '',\n",
       " 'latest arkays design daily thanks',\n",
       " 'yes russia created ali alexander falls propaganda',\n",
       " '',\n",
       " 'trumps army win election vote person polls take one pro trump suppoer might voted',\n",
       " 'democrats protesting cemetery gates',\n",
       " 'dems got something like million fake votes works plan destroying trump votes million least',\n",
       " 'michigan wants time cheat see let deal',\n",
       " 'love community',\n",
       " 'shouldn something say',\n",
       " 'president trump',\n",
       " '',\n",
       " 'already absentee balloting need universal mail ballots democrats steal election american people',\n",
       " 'people accused stealing election actually trying steal election right front eyes wake say',\n",
       " 'dad gone years received ballot application jus sayin',\n",
       " 'dad gone years president got mail ballot application mail stop madness late national voter jus sayin',\n",
       " 'pass get trending',\n",
       " 'possible',\n",
       " 'behind scene ballots harvest everyone ballots',\n",
       " 'covid hospitalizations serious conditions university campuses someone got played',\n",
       " '',\n",
       " 'twenty four hours surveillance ballots voting locations',\n",
       " 'fake news denied officials publicly even man made schedule day know afraid military vote democrats always tried discount deny votes decades volunteer',\n",
       " 'california county registrar recorder corrupt already blocking signatures',\n",
       " '',\n",
       " 'proof want sure allies happy confirm take place',\n",
       " '',\n",
       " 'men dream equally god wins win evil loses',\n",
       " 'thanks sarah movement rolling',\n",
       " '',\n",
       " 'good evil',\n",
       " 'good evil',\n",
       " 'good evil',\n",
       " 'hit piece alexander plans stop democrats election steal',\n",
       " '',\n",
       " 'everyone right wish preserve integrity election process left want deprive conservatives right make sole propey one would principle tho might intentions pure',\n",
       " '',\n",
       " '',\n",
       " 'weeks later find many double votes counted',\n",
       " '',\n",
       " '',\n",
       " 'time executive order presence voting precincts especially right citizens',\n",
       " 'obama hillary giving biden',\n",
       " 'sir remember saying take slings arrows american people love even deeply enemy put think crowds shout chant love thank everything',\n",
       " 'constantly called texted individuals wanting mail ballot handle voting organizations calling republicans handle ballot',\n",
       " '',\n",
       " 'office usps staed going red red straight years democrats office problems staed',\n",
       " 'hear someone aiculate ideas events clearly change hoaxed',\n",
       " '',\n",
       " '',\n",
       " '',\n",
       " '',\n",
       " '',\n",
       " '',\n",
       " '',\n",
       " '',\n",
       " '',\n",
       " 'one explanation think brah',\n",
       " 'verboten take delete account',\n",
       " '',\n",
       " 'wait j/k',\n",
       " '',\n",
       " 'california proof vote harvesting happens overnight',\n",
       " 'california proof vote harvesting happens overnight',\n",
       " '',\n",
       " '',\n",
       " '',\n",
       " '',\n",
       " '',\n",
       " '',\n",
       " '',\n",
       " '',\n",
       " 'time',\n",
       " '',\n",
       " '',\n",
       " '',\n",
       " '',\n",
       " '',\n",
       " '',\n",
       " 'need help',\n",
       " 'picked new local dealer asked ammo dealer reply got swamped yesterday sold record sales day guns/ammo lots time buyers people nervous election/riots',\n",
       " 'mass arrests election fraud hope',\n",
       " '',\n",
       " 'must everyone vote person become poll watchers save trump',\n",
       " 'must everyone vote person become poll watchers save trump',\n",
       " 'must everyone vote person become poll watchers save trump',\n",
       " 'must everyone vote person become poll watchers save trump',\n",
       " 'must everyone vote person become poll watchers save trump',\n",
       " 'must everyone vote person become poll watchers save trump',\n",
       " 'must everyone vote person become poll watchers save trump',\n",
       " 'weekend bernies voting stop steal local election official warns people requesting mail ballots using dead voters names news',\n",
       " 'weekend bernies voting stop steal local elect',\n",
       " 'conditioned make sure vote person make sure everyone know votes',\n",
       " 'democrat leaders hands comes stealing vote',\n",
       " 'senior citizens often targets victims commit voter fraud help senior family members track ballot especially nursing homes long term care facilities',\n",
       " 'california blue democrats cheat rino care',\n",
       " 'california',\n",
       " '',\n",
       " 'surveillance county registrar recorders would flip california red',\n",
       " 'ali big tech announces block trump victory speech unretires',\n",
       " 'tallying results biggest scam',\n",
       " 'weekend bernies voting stop steal local elect',\n",
       " 'weekend bernies voting stop steal local elect',\n",
       " 'weekend bernies voting stop steal local elect',\n",
       " 'weekend bernies voting stop steal local elect',\n",
       " 'known awhile ultimately democrats plan trying steal presidency hillary let slip publicly told biden concede election',\n",
       " 'known awhile ultimately democrats plan trying steal presidency hillary let slip publicly told biden concede election',\n",
       " 'known awhile ultimately democrats plan trying steal presidency hillary let slip publicly told biden concede election',\n",
       " 'known awhile ultimately democrats plan trying steal presidency hillary let slip publicly told biden concede election',\n",
       " 'clinton lawyer threatens sue nevada unless ballot harvesting permitted',\n",
       " 'ultimately protecting democracy may take mass mobilization millions activists following vote nonviolent protests know peaceful protests',\n",
       " 'pennsylvania stop steal mailed ballots discarded signature state says outrageous',\n",
       " 'everyone know purpose send message leftist kamala running ship',\n",
       " '',\n",
       " '',\n",
       " 'background trash behind color revolution sleazy pencil necks think nation million people allow waltz ovehrow government criminally insane',\n",
       " 'needs traction clinton cash got course hunter mia covid still eating news time issue biden beyond dementia thought hillary corrupt',\n",
       " '',\n",
       " 'gee wonder easier cheat',\n",
       " 'must roger stone antifa blm mobs run rampant intimidating harassing trump voters effo scare casting vote',\n",
       " '',\n",
       " '',\n",
       " 'president trump running media still win american people see right charade',\n",
       " 'latest terrysnj world thanks',\n",
       " 'got',\n",
       " '',\n",
       " 'election fraud keeps california blue',\n",
       " 'civil unrest funded george soros documented',\n",
       " 'need ground game busy filling ballots',\n",
       " 'federal election constitution federal guidelines supersede states rights sta enforcing',\n",
       " 'democrats waste tax paid give spouses like deblasio billions wife broke small pop santa governor installing electric car stations capitol corrupt crony capitalism fund',\n",
       " '',\n",
       " 'cheating begins must defeated later',\n",
       " '',\n",
       " '',\n",
       " 'twitter trump stating concern dems care marc running inference twitter btw lie tweet biden',\n",
       " 'yuge victory',\n",
       " '',\n",
       " '',\n",
       " '',\n",
       " 'vote person',\n",
       " 'yes',\n",
       " 'none matter unless solve voter fraud ove coup taking place',\n",
       " 'americans crooked democrats',\n",
       " 'absentee voting safe broad mail fraud',\n",
       " 'anderson cooper really really nervous praying guy holds together',\n",
       " '',\n",
       " 'must show mass vote',\n",
       " 'must show mass vote',\n",
       " 'going happen',\n",
       " 'needs trend overwhelmingly',\n",
       " '',\n",
       " '',\n",
       " 'thought dems pennsylvania makes sick stomach fraudulent steal election need fight back',\n",
       " 'fraud hope feds camara focus',\n",
       " '',\n",
       " '',\n",
       " 'need bring back',\n",
       " '',\n",
       " '',\n",
       " 'crap trying stuff ballot box',\n",
       " 'laugh using corruptly grasping power',\n",
       " 'team busy filling ballots anywhere',\n",
       " '',\n",
       " 'voter motor fraud mailing non americans ballots country counterfeit proof secure system vote tallying heavily corrupt rigged',\n",
       " '',\n",
       " 'liberalism mental disorder',\n",
       " 'going beautiful restores says say won able censor fuher exposing others oppose america constitution assuming works',\n",
       " 'fuck needs stop',\n",
       " 'republicans need poll watchers every county call republican pay sign today',\n",
       " 'like trying nwo heritage religious beliefs difference stop confusing two',\n",
       " '',\n",
       " 'democrats win cheat ballot scam',\n",
       " 'right hardworking politicians working oregonians good',\n",
       " '',\n",
       " 'stop unconstitutional changing election law barr president trump',\n",
       " 'ballots accepted foueen days election seriously',\n",
       " 'face mask new climate change madness nov vote person',\n",
       " 'live working republic clear voting already staed democrats still changing rules voting aided media conspiring judges targeted swing states couldn obvious',\n",
       " 'unbelievable',\n",
       " 'get vote person maga',\n",
       " '',\n",
       " 'steal dems working hard disenfranchise voters michigan vigilant',\n",
       " 'file lawsuits michigan pennsylvania etc',\n",
       " 'ridiculous hashtag',\n",
       " 'unacceptable unconstitutional cannot permitted',\n",
       " 'unacceptable unconstitutional cannot permitted',\n",
       " '',\n",
       " '',\n",
       " '',\n",
       " 'beginning worry',\n",
       " '',\n",
       " '',\n",
       " 'fuck needs stop',\n",
       " 'laura loomer major factors kept stealing happening especially miami west palm beach',\n",
       " 'prevent mcconnell holding vote january good enough prevent election apply pressure',\n",
       " 'constituent demand precedent senate majority leader mcconnell previously established upheld let american people decide next justice days election american people must say',\n",
       " 'agreed must consider lies demagoguery harassment democrats put justice kavanaugh ask would democrats oppounity fill scotus seat',\n",
       " 'republicans thinking try keep peace wait filling scotus seat please tell one time last years democrats political etiquette civility one',\n",
       " 'correct also trust never trumper robes',\n",
       " '',\n",
       " 'sham impeachments consequences fake russia hoaxes consequences democrats put country elections consequences rip ruth ginsburg',\n",
       " '',\n",
       " 'agreed must consider lies demagoguery harassment democrats put justice kavanaugh ask would democrats oppounity fill scotus seat',\n",
       " 'sham impeachments consequences fake russia hoaxes consequences democrats put country elections consequences',\n",
       " 'suggested new president nominate replacement rbg could transparent',\n",
       " 'imperative nominate senate confirm next scotus justice asap election cannot cou',\n",
       " '',\n",
       " '',\n",
       " 'hero',\n",
       " 'amen',\n",
       " 'wanna know scotus serious right nownov pres elections watch tell happening obama appointed judges',\n",
       " 'pandering even sinister wants robes deciding vote potentially contested election could care less whats good good country swamp rat ccp sell like rest loser project',\n",
       " 'little reminder history sound familiar',\n",
       " 'american people deserve fill seat thank sen cruz',\n",
       " '',\n",
       " 'asks aren allowed talk george soros plan remake america',\n",
       " '',\n",
       " '',\n",
       " '',\n",
       " '',\n",
       " 'need aga',\n",
       " '',\n",
       " '',\n",
       " 'makes think democrats control senate captain chestpants aren even attempting hide plan steal election massive mail fraud',\n",
       " 'many democratic reps senators made threat foregone conclusion going win senate presidency',\n",
       " 'win million votes blame trump fault china sent many mail ballots',\n",
       " 'democratic rule required florida rule allows toppling statues breaking glass shooting hat wearers speak comes rule breaking ballot harvest lately',\n",
       " 'democrats',\n",
       " 'team busy filling ballots sitting back getting updates',\n",
       " 'day democrats lost power',\n",
       " 'nothing representative republican democrat actually taking action try stop voter fraud course democrats trashing idiot',\n",
       " 'timothy evildoers impostors bad worse deceiving deceived',\n",
       " 'voting person hun feel telling everyone get vote person',\n",
       " '',\n",
       " 'problem mail ballots valid ballots states potentially completed close ballot races intentionally left blank voter mayor school board sheriff assemblyman city council state rep etc',\n",
       " 'hit piece mail votes safe however showed chester election mail vote envelope wilmington delaware usps postmark',\n",
       " 'democrat vote early often possible without',\n",
       " 'must',\n",
       " 'let guess dead overwhelmingly vote democrats',\n",
       " 'democrats',\n",
       " 'come lies',\n",
       " 'yes ali pinned tweet video found touched twitter calling south florida action',\n",
       " '',\n",
       " 'remember lies told joe millon die speech done stop lies obama/biden try fill vacancy job america',\n",
       " '',\n",
       " '',\n",
       " 'appeal appeal appeal',\n",
       " 'gonna steal',\n",
       " 'door knocking back schedule',\n",
       " 'unprecedented success influences activism roll founders stand united one nation god',\n",
       " 'agree must',\n",
       " 'something must done asap steal election like california federal election must secure ripe',\n",
       " 'field offices',\n",
       " 'appeal appeal appeal take scotus',\n",
       " '',\n",
       " '',\n",
       " '',\n",
       " 'president states plotting attempt steal election',\n",
       " '',\n",
       " '',\n",
       " 'following work posting blocked year two ago they/he/soros/dems play keeps proof perkins coie steele dossier lies united work gov stacey abrahams let sink',\n",
       " 'since couldn see found another wayand case others blocked',\n",
       " '',\n",
       " '',\n",
       " '',\n",
       " 'dude center soros perkins coie steele dossierfusion gps noisemarc eliasnow see going note key states',\n",
       " 'socialism rules',\n",
       " '',\n",
       " 'whatever tools stop indeed time',\n",
       " 'whatever tools stop time use',\n",
       " 'everyone vote dems cannot fake enough ballots win everyone votes',\n",
       " 'states vote past election day',\n",
       " 'ronna romney mcdaniel best known bagel energy going cost president electoral votes',\n",
       " 'heads man determined stop trump rigging election',\n",
       " 'outrageous',\n",
       " 'injunctions rogue governors changing voting laws executive order mon jim inquiries',\n",
       " 'election watchdog finds dead registrants voter rolls states vote person stop steal',\n",
       " 'point election day ridiculous',\n",
       " '',\n",
       " '',\n",
       " 'arrest mike bloomberg',\n",
       " 'bet bloomberg spending millions president trump lose spent trying get elected',\n",
       " 'ran biden knowing well enough campaign debate president also knowing could totally control stole election',\n",
       " 'see rooting vaccine failure and/or pressuring fda stall trials gee would barking badly need vaccine year',\n",
       " '',\n",
       " 'followers removed twitter police today day justice depament unveils proposed section legislation',\n",
       " 'fool worshiping trump',\n",
       " 'say fraud',\n",
       " 'vote mail supermarket vote person',\n",
       " 'mitt trump said today needs ram supreme cou justice cou call election hopes get cou throw mail ballots sound like dictator yes',\n",
       " 'mixed messages mitt mixed messages country',\n",
       " 'since nationwide election way block deadline extension mailed ballots states real threat giving plenty time find votes trunks cars counter votes',\n",
       " '',\n",
       " 'become poll worker asap help',\n",
       " 'nothing last four years orderly transition democrats cried lied investigated impeached protested rioted etc every day america must remove every democrat power squash thirst power oblivion',\n",
       " 'stop chaos ensuing presently across country ballots confusion etc gonna issue every election moving forward cous including used instead voices/votes',\n",
       " 'knows voter fraud',\n",
       " 'imagine allowed lies continuedestroying cities police think going presidential election hello',\n",
       " 'thank taking action citizens must contact info',\n",
       " 'ali stands ready great nation depends',\n",
       " 'ali stands ready great nation depends',\n",
       " '',\n",
       " 'become poll worker asap help',\n",
       " 'let steal election',\n",
       " '',\n",
       " '',\n",
       " '',\n",
       " '',\n",
       " '',\n",
       " '',\n",
       " '',\n",
       " '',\n",
       " 'evidence happening',\n",
       " 'begins',\n",
       " 'integral state every election different except loss democrats voters new republican voters new independent voters volunteer election day',\n",
       " 'goes dems need win going steal state one',\n",
       " '',\n",
       " 'idgas many may tossed found',\n",
       " 'thieves',\n",
       " '',\n",
       " 'please share text messages david rights restoration coalition sending people behalf lebron james michael jordan pay fines convicted felons needs investigated',\n",
       " '',\n",
       " '',\n",
       " '',\n",
       " '',\n",
       " '',\n",
       " '',\n",
       " '',\n",
       " 'issues years terrified military vote happened philly standard collectivists volunteer election',\n",
       " '',\n",
       " '',\n",
       " '',\n",
       " '',\n",
       " 'begins',\n",
       " 'let democrats steal election',\n",
       " 'lebron james michael jordan want keep plantation',\n",
       " 'dumpsters even think voting trump need every vote offset dem cheaters remember vote red way country stake',\n",
       " '',\n",
       " 'already found trays ballots ditch military ballots trash staing get worse',\n",
       " 'become poll worker asap help',\n",
       " 'going',\n",
       " '',\n",
       " 'become poll worker asap help',\n",
       " '',\n",
       " 'trying steal',\n",
       " '',\n",
       " '',\n",
       " 'trying steal',\n",
       " 'every new citizen chose america freedom please vote communism thank president another vote letter worded beautifully vote matters',\n",
       " ...]"
      ]
     },
     "execution_count": 14,
     "metadata": {},
     "output_type": "execute_result"
    }
   ],
   "source": [
    "training_data"
   ]
  },
  {
   "cell_type": "markdown",
   "metadata": {},
   "source": [
    "#### Building BERTTopic Model"
   ]
  },
  {
   "cell_type": "code",
   "execution_count": 15,
   "metadata": {},
   "outputs": [],
   "source": [
    "# Get variables\n",
    "tweets = training_data\n",
    "dates = stream_one['create_year'].apply(lambda x: pd.Timestamp(x)).to_list()"
   ]
  },
  {
   "cell_type": "code",
   "execution_count": 16,
   "metadata": {},
   "outputs": [
    {
     "name": "stderr",
     "output_type": "stream",
     "text": [
      "Batches: 100%|██████████| 7882/7882 [13:45<00:00,  9.55it/s] \n",
      "2022-03-26 09:27:21,406 - BERTopic - Transformed documents to Embeddings\n",
      "2022-03-26 10:28:45,751 - BERTopic - Reduced dimensionality with UMAP\n",
      "2022-03-26 10:30:03,518 - BERTopic - Clustered UMAP embeddings with HDBSCAN\n"
     ]
    }
   ],
   "source": [
    "topic_model = BERTopic(language='english', verbose=True)\n",
    "topics, probabilities = topic_model.fit_transform(tweets)"
   ]
  },
  {
   "cell_type": "markdown",
   "metadata": {},
   "source": [
    "#### Visualize Results from BERTtopic Model"
   ]
  },
  {
   "cell_type": "code",
   "execution_count": 17,
   "metadata": {},
   "outputs": [
    {
     "data": {
      "text/html": [
       "<div>\n",
       "<style scoped>\n",
       "    .dataframe tbody tr th:only-of-type {\n",
       "        vertical-align: middle;\n",
       "    }\n",
       "\n",
       "    .dataframe tbody tr th {\n",
       "        vertical-align: top;\n",
       "    }\n",
       "\n",
       "    .dataframe thead th {\n",
       "        text-align: right;\n",
       "    }\n",
       "</style>\n",
       "<table border=\"1\" class=\"dataframe\">\n",
       "  <thead>\n",
       "    <tr style=\"text-align: right;\">\n",
       "      <th></th>\n",
       "      <th>Topic</th>\n",
       "      <th>Count</th>\n",
       "      <th>Name</th>\n",
       "    </tr>\n",
       "  </thead>\n",
       "  <tbody>\n",
       "    <tr>\n",
       "      <th>0</th>\n",
       "      <td>0</td>\n",
       "      <td>77556</td>\n",
       "      <td>0_sayin_tellin_xxxx_sponsored</td>\n",
       "    </tr>\n",
       "    <tr>\n",
       "      <th>1</th>\n",
       "      <td>-1</td>\n",
       "      <td>39825</td>\n",
       "      <td>-1_corrupt_audit_american_like</td>\n",
       "    </tr>\n",
       "    <tr>\n",
       "      <th>2</th>\n",
       "      <td>1</td>\n",
       "      <td>5188</td>\n",
       "      <td>1_woahhhhh___</td>\n",
       "    </tr>\n",
       "    <tr>\n",
       "      <th>3</th>\n",
       "      <td>2</td>\n",
       "      <td>3465</td>\n",
       "      <td>2_fewer_assembled_incredible_peacefully</td>\n",
       "    </tr>\n",
       "    <tr>\n",
       "      <th>4</th>\n",
       "      <td>3</td>\n",
       "      <td>2763</td>\n",
       "      <td>3_congressmen_joined_building_capitol</td>\n",
       "    </tr>\n",
       "    <tr>\n",
       "      <th>...</th>\n",
       "      <td>...</td>\n",
       "      <td>...</td>\n",
       "      <td>...</td>\n",
       "    </tr>\n",
       "    <tr>\n",
       "      <th>2535</th>\n",
       "      <td>2549</td>\n",
       "      <td>10</td>\n",
       "      <td>2549_powerful_stronger_effective_weak</td>\n",
       "    </tr>\n",
       "    <tr>\n",
       "      <th>2533</th>\n",
       "      <td>2547</td>\n",
       "      <td>10</td>\n",
       "      <td>2547_alleging_deceified_awarded_files</td>\n",
       "    </tr>\n",
       "    <tr>\n",
       "      <th>2532</th>\n",
       "      <td>2546</td>\n",
       "      <td>10</td>\n",
       "      <td>2546_globalist_holes_centralized_globalists</td>\n",
       "    </tr>\n",
       "    <tr>\n",
       "      <th>2531</th>\n",
       "      <td>2551</td>\n",
       "      <td>10</td>\n",
       "      <td>2551_looting_terrorism_rioting_vandalism</td>\n",
       "    </tr>\n",
       "    <tr>\n",
       "      <th>2558</th>\n",
       "      <td>2557</td>\n",
       "      <td>10</td>\n",
       "      <td>2557_orchestrate_money_patronizing_follow</td>\n",
       "    </tr>\n",
       "  </tbody>\n",
       "</table>\n",
       "<p>2559 rows × 3 columns</p>\n",
       "</div>"
      ],
      "text/plain": [
       "      Topic  Count                                         Name\n",
       "0         0  77556                0_sayin_tellin_xxxx_sponsored\n",
       "1        -1  39825               -1_corrupt_audit_american_like\n",
       "2         1   5188                                1_woahhhhh___\n",
       "3         2   3465      2_fewer_assembled_incredible_peacefully\n",
       "4         3   2763        3_congressmen_joined_building_capitol\n",
       "...     ...    ...                                          ...\n",
       "2535   2549     10        2549_powerful_stronger_effective_weak\n",
       "2533   2547     10        2547_alleging_deceified_awarded_files\n",
       "2532   2546     10  2546_globalist_holes_centralized_globalists\n",
       "2531   2551     10     2551_looting_terrorism_rioting_vandalism\n",
       "2558   2557     10    2557_orchestrate_money_patronizing_follow\n",
       "\n",
       "[2559 rows x 3 columns]"
      ]
     },
     "execution_count": 17,
     "metadata": {},
     "output_type": "execute_result"
    }
   ],
   "source": [
    "topic_model.get_topic_info()"
   ]
  },
  {
   "cell_type": "code",
   "execution_count": 18,
   "metadata": {},
   "outputs": [
    {
     "data": {
      "text/plain": [
       "[('woahhhhh', 6.2422232654551655),\n",
       " ('', 1e-05),\n",
       " ('', 1e-05),\n",
       " ('', 1e-05),\n",
       " ('', 1e-05),\n",
       " ('', 1e-05),\n",
       " ('', 1e-05),\n",
       " ('', 1e-05),\n",
       " ('', 1e-05),\n",
       " ('', 1e-05)]"
      ]
     },
     "execution_count": 18,
     "metadata": {},
     "output_type": "execute_result"
    }
   ],
   "source": [
    "topic_model.get_topic(1)"
   ]
  },
  {
   "cell_type": "markdown",
   "metadata": {},
   "source": [
    "#### Visualizing Topics (Barchart, Topics over time)"
   ]
  },
  {
   "cell_type": "code",
   "execution_count": 19,
   "metadata": {},
   "outputs": [
    {
     "data": {
      "application/vnd.plotly.v1+json": {
       "config": {
        "plotlyServerURL": "https://plot.ly"
       },
       "data": [
        {
         "marker": {
          "color": "#D55E00"
         },
         "orientation": "h",
         "type": "bar",
         "x": [
          0.0005614209442531135,
          0.0005634645355597979,
          0.0005693502195236941,
          0.0006005832883905341,
          0.0006252563341925371
         ],
         "xaxis": "x",
         "y": [
          "pay  ",
          "like  ",
          "american  ",
          "audit  ",
          "corrupt  "
         ],
         "yaxis": "y"
        },
        {
         "marker": {
          "color": "#0072B2"
         },
         "orientation": "h",
         "type": "bar",
         "x": [
          0.00001,
          0.00001,
          0.00001,
          0.00001,
          6.2422232654551655
         ],
         "xaxis": "x2",
         "y": [
          "  ",
          "  ",
          "  ",
          "  ",
          "woahhhhh  "
         ],
         "yaxis": "y2"
        },
        {
         "marker": {
          "color": "#CC79A7"
         },
         "orientation": "h",
         "type": "bar",
         "x": [
          0.012971784307408387,
          0.01369326584928651,
          0.014794132723639938,
          0.0152015697365123,
          0.015299756302701245
         ],
         "xaxis": "x3",
         "y": [
          "across  ",
          "peacefully  ",
          "incredible  ",
          "assembled  ",
          "fewer  "
         ],
         "yaxis": "y3"
        },
        {
         "marker": {
          "color": "#E69F00"
         },
         "orientation": "h",
         "type": "bar",
         "x": [
          0.011972077584735806,
          0.012009926755902104,
          0.01790365445218031,
          0.03082085629951798,
          0.032648911249299695
         ],
         "xaxis": "x4",
         "y": [
          "harrisburg  ",
          "capitol  ",
          "building  ",
          "joined  ",
          "congressmen  "
         ],
         "yaxis": "y4"
        },
        {
         "marker": {
          "color": "#56B4E9"
         },
         "orientation": "h",
         "type": "bar",
         "x": [
          0.010983301324673529,
          0.011802006282917357,
          0.011910028852112078,
          0.019832223047629778,
          0.028217156077463112
         ],
         "xaxis": "x5",
         "y": [
          "democrats  ",
          "let  ",
          "steal  ",
          "trying  ",
          "happen  "
         ],
         "yaxis": "y5"
        },
        {
         "marker": {
          "color": "#009E73"
         },
         "orientation": "h",
         "type": "bar",
         "x": [
          0.018501190693888604,
          0.026109573797991285,
          0.02621670931275475,
          0.028404874805799157,
          0.029033905764754533
         ],
         "xaxis": "x6",
         "y": [
          "call  ",
          "seeing  ",
          "tell  ",
          "repo  ",
          "case  "
         ],
         "yaxis": "y6"
        },
        {
         "marker": {
          "color": "#F0E442"
         },
         "orientation": "h",
         "type": "bar",
         "x": [
          0.019815117734434454,
          0.020424481417334387,
          0.020886190057873465,
          0.020968631524062236,
          0.02108655107787167
         ],
         "xaxis": "x7",
         "y": [
          "polling  ",
          "watcher  ",
          "entering  ",
          "prevented  ",
          "wrongfully  "
         ],
         "yaxis": "y7"
        },
        {
         "marker": {
          "color": "#D55E00"
         },
         "orientation": "h",
         "type": "bar",
         "x": [
          0.00936094736771918,
          0.010338609792458509,
          0.01305299401035298,
          0.01720152977612595,
          0.01885220162689093
         ],
         "xaxis": "x8",
         "y": [
          "right  ",
          "counted  ",
          "stolen  ",
          "legitimate  ",
          "accept  "
         ],
         "yaxis": "y8"
        },
        {
         "marker": {
          "color": "#0072B2"
         },
         "orientation": "h",
         "type": "bar",
         "x": [
          0.0025416218507553607,
          0.0025416218507553607,
          0.00419177074659076,
          0.1157149086546968,
          0.1261159329901433
         ],
         "xaxis": "x9",
         "y": [
          "schuette  ",
          "abbot  ",
          "kate  ",
          "governor  ",
          "awesome  "
         ],
         "yaxis": "y9"
        },
        {
         "marker": {
          "color": "#CC79A7"
         },
         "orientation": "h",
         "type": "bar",
         "x": [
          0.009971797845179374,
          0.014879522674962085,
          0.016169526062390097,
          0.02718688740391445,
          0.047357170880887395
         ],
         "xaxis": "x10",
         "y": [
          "capitol  ",
          "building  ",
          "going  ",
          "day  ",
          "strong  "
         ],
         "yaxis": "y10"
        },
        {
         "marker": {
          "color": "#E69F00"
         },
         "orientation": "h",
         "type": "bar",
         "x": [
          0.011749851002487363,
          0.012609361059211765,
          0.013619383575997018,
          0.017486461517596443,
          0.04149471693087448
         ],
         "xaxis": "x11",
         "y": [
          "capitol  ",
          "state  ",
          "rally  ",
          "georgia  ",
          "atlanta  "
         ],
         "yaxis": "y11"
        }
       ],
       "layout": {
        "annotations": [
         {
          "font": {
           "size": 16
          },
          "showarrow": false,
          "text": "Topic -1",
          "x": 0.0875,
          "xanchor": "center",
          "xref": "paper",
          "y": 1,
          "yanchor": "bottom",
          "yref": "paper"
         },
         {
          "font": {
           "size": 16
          },
          "showarrow": false,
          "text": "Topic 1",
          "x": 0.36250000000000004,
          "xanchor": "center",
          "xref": "paper",
          "y": 1,
          "yanchor": "bottom",
          "yref": "paper"
         },
         {
          "font": {
           "size": 16
          },
          "showarrow": false,
          "text": "Topic 2",
          "x": 0.6375000000000001,
          "xanchor": "center",
          "xref": "paper",
          "y": 1,
          "yanchor": "bottom",
          "yref": "paper"
         },
         {
          "font": {
           "size": 16
          },
          "showarrow": false,
          "text": "Topic 3",
          "x": 0.9125,
          "xanchor": "center",
          "xref": "paper",
          "y": 1,
          "yanchor": "bottom",
          "yref": "paper"
         },
         {
          "font": {
           "size": 16
          },
          "showarrow": false,
          "text": "Topic 4",
          "x": 0.0875,
          "xanchor": "center",
          "xref": "paper",
          "y": 0.6222222222222222,
          "yanchor": "bottom",
          "yref": "paper"
         },
         {
          "font": {
           "size": 16
          },
          "showarrow": false,
          "text": "Topic 5",
          "x": 0.36250000000000004,
          "xanchor": "center",
          "xref": "paper",
          "y": 0.6222222222222222,
          "yanchor": "bottom",
          "yref": "paper"
         },
         {
          "font": {
           "size": 16
          },
          "showarrow": false,
          "text": "Topic 6",
          "x": 0.6375000000000001,
          "xanchor": "center",
          "xref": "paper",
          "y": 0.6222222222222222,
          "yanchor": "bottom",
          "yref": "paper"
         },
         {
          "font": {
           "size": 16
          },
          "showarrow": false,
          "text": "Topic 7",
          "x": 0.9125,
          "xanchor": "center",
          "xref": "paper",
          "y": 0.6222222222222222,
          "yanchor": "bottom",
          "yref": "paper"
         },
         {
          "font": {
           "size": 16
          },
          "showarrow": false,
          "text": "Topic 8",
          "x": 0.0875,
          "xanchor": "center",
          "xref": "paper",
          "y": 0.24444444444444446,
          "yanchor": "bottom",
          "yref": "paper"
         },
         {
          "font": {
           "size": 16
          },
          "showarrow": false,
          "text": "Topic 9",
          "x": 0.36250000000000004,
          "xanchor": "center",
          "xref": "paper",
          "y": 0.24444444444444446,
          "yanchor": "bottom",
          "yref": "paper"
         },
         {
          "font": {
           "size": 16
          },
          "showarrow": false,
          "text": "Topic 10",
          "x": 0.6375000000000001,
          "xanchor": "center",
          "xref": "paper",
          "y": 0.24444444444444446,
          "yanchor": "bottom",
          "yref": "paper"
         }
        ],
        "height": 750,
        "hoverlabel": {
         "bgcolor": "white",
         "font": {
          "family": "Rockwell",
          "size": 16
         }
        },
        "showlegend": false,
        "template": {
         "data": {
          "bar": [
           {
            "error_x": {
             "color": "#2a3f5f"
            },
            "error_y": {
             "color": "#2a3f5f"
            },
            "marker": {
             "line": {
              "color": "white",
              "width": 0.5
             },
             "pattern": {
              "fillmode": "overlay",
              "size": 10,
              "solidity": 0.2
             }
            },
            "type": "bar"
           }
          ],
          "barpolar": [
           {
            "marker": {
             "line": {
              "color": "white",
              "width": 0.5
             },
             "pattern": {
              "fillmode": "overlay",
              "size": 10,
              "solidity": 0.2
             }
            },
            "type": "barpolar"
           }
          ],
          "carpet": [
           {
            "aaxis": {
             "endlinecolor": "#2a3f5f",
             "gridcolor": "#C8D4E3",
             "linecolor": "#C8D4E3",
             "minorgridcolor": "#C8D4E3",
             "startlinecolor": "#2a3f5f"
            },
            "baxis": {
             "endlinecolor": "#2a3f5f",
             "gridcolor": "#C8D4E3",
             "linecolor": "#C8D4E3",
             "minorgridcolor": "#C8D4E3",
             "startlinecolor": "#2a3f5f"
            },
            "type": "carpet"
           }
          ],
          "choropleth": [
           {
            "colorbar": {
             "outlinewidth": 0,
             "ticks": ""
            },
            "type": "choropleth"
           }
          ],
          "contour": [
           {
            "colorbar": {
             "outlinewidth": 0,
             "ticks": ""
            },
            "colorscale": [
             [
              0,
              "#0d0887"
             ],
             [
              0.1111111111111111,
              "#46039f"
             ],
             [
              0.2222222222222222,
              "#7201a8"
             ],
             [
              0.3333333333333333,
              "#9c179e"
             ],
             [
              0.4444444444444444,
              "#bd3786"
             ],
             [
              0.5555555555555556,
              "#d8576b"
             ],
             [
              0.6666666666666666,
              "#ed7953"
             ],
             [
              0.7777777777777778,
              "#fb9f3a"
             ],
             [
              0.8888888888888888,
              "#fdca26"
             ],
             [
              1,
              "#f0f921"
             ]
            ],
            "type": "contour"
           }
          ],
          "contourcarpet": [
           {
            "colorbar": {
             "outlinewidth": 0,
             "ticks": ""
            },
            "type": "contourcarpet"
           }
          ],
          "heatmap": [
           {
            "colorbar": {
             "outlinewidth": 0,
             "ticks": ""
            },
            "colorscale": [
             [
              0,
              "#0d0887"
             ],
             [
              0.1111111111111111,
              "#46039f"
             ],
             [
              0.2222222222222222,
              "#7201a8"
             ],
             [
              0.3333333333333333,
              "#9c179e"
             ],
             [
              0.4444444444444444,
              "#bd3786"
             ],
             [
              0.5555555555555556,
              "#d8576b"
             ],
             [
              0.6666666666666666,
              "#ed7953"
             ],
             [
              0.7777777777777778,
              "#fb9f3a"
             ],
             [
              0.8888888888888888,
              "#fdca26"
             ],
             [
              1,
              "#f0f921"
             ]
            ],
            "type": "heatmap"
           }
          ],
          "heatmapgl": [
           {
            "colorbar": {
             "outlinewidth": 0,
             "ticks": ""
            },
            "colorscale": [
             [
              0,
              "#0d0887"
             ],
             [
              0.1111111111111111,
              "#46039f"
             ],
             [
              0.2222222222222222,
              "#7201a8"
             ],
             [
              0.3333333333333333,
              "#9c179e"
             ],
             [
              0.4444444444444444,
              "#bd3786"
             ],
             [
              0.5555555555555556,
              "#d8576b"
             ],
             [
              0.6666666666666666,
              "#ed7953"
             ],
             [
              0.7777777777777778,
              "#fb9f3a"
             ],
             [
              0.8888888888888888,
              "#fdca26"
             ],
             [
              1,
              "#f0f921"
             ]
            ],
            "type": "heatmapgl"
           }
          ],
          "histogram": [
           {
            "marker": {
             "pattern": {
              "fillmode": "overlay",
              "size": 10,
              "solidity": 0.2
             }
            },
            "type": "histogram"
           }
          ],
          "histogram2d": [
           {
            "colorbar": {
             "outlinewidth": 0,
             "ticks": ""
            },
            "colorscale": [
             [
              0,
              "#0d0887"
             ],
             [
              0.1111111111111111,
              "#46039f"
             ],
             [
              0.2222222222222222,
              "#7201a8"
             ],
             [
              0.3333333333333333,
              "#9c179e"
             ],
             [
              0.4444444444444444,
              "#bd3786"
             ],
             [
              0.5555555555555556,
              "#d8576b"
             ],
             [
              0.6666666666666666,
              "#ed7953"
             ],
             [
              0.7777777777777778,
              "#fb9f3a"
             ],
             [
              0.8888888888888888,
              "#fdca26"
             ],
             [
              1,
              "#f0f921"
             ]
            ],
            "type": "histogram2d"
           }
          ],
          "histogram2dcontour": [
           {
            "colorbar": {
             "outlinewidth": 0,
             "ticks": ""
            },
            "colorscale": [
             [
              0,
              "#0d0887"
             ],
             [
              0.1111111111111111,
              "#46039f"
             ],
             [
              0.2222222222222222,
              "#7201a8"
             ],
             [
              0.3333333333333333,
              "#9c179e"
             ],
             [
              0.4444444444444444,
              "#bd3786"
             ],
             [
              0.5555555555555556,
              "#d8576b"
             ],
             [
              0.6666666666666666,
              "#ed7953"
             ],
             [
              0.7777777777777778,
              "#fb9f3a"
             ],
             [
              0.8888888888888888,
              "#fdca26"
             ],
             [
              1,
              "#f0f921"
             ]
            ],
            "type": "histogram2dcontour"
           }
          ],
          "mesh3d": [
           {
            "colorbar": {
             "outlinewidth": 0,
             "ticks": ""
            },
            "type": "mesh3d"
           }
          ],
          "parcoords": [
           {
            "line": {
             "colorbar": {
              "outlinewidth": 0,
              "ticks": ""
             }
            },
            "type": "parcoords"
           }
          ],
          "pie": [
           {
            "automargin": true,
            "type": "pie"
           }
          ],
          "scatter": [
           {
            "marker": {
             "colorbar": {
              "outlinewidth": 0,
              "ticks": ""
             }
            },
            "type": "scatter"
           }
          ],
          "scatter3d": [
           {
            "line": {
             "colorbar": {
              "outlinewidth": 0,
              "ticks": ""
             }
            },
            "marker": {
             "colorbar": {
              "outlinewidth": 0,
              "ticks": ""
             }
            },
            "type": "scatter3d"
           }
          ],
          "scattercarpet": [
           {
            "marker": {
             "colorbar": {
              "outlinewidth": 0,
              "ticks": ""
             }
            },
            "type": "scattercarpet"
           }
          ],
          "scattergeo": [
           {
            "marker": {
             "colorbar": {
              "outlinewidth": 0,
              "ticks": ""
             }
            },
            "type": "scattergeo"
           }
          ],
          "scattergl": [
           {
            "marker": {
             "colorbar": {
              "outlinewidth": 0,
              "ticks": ""
             }
            },
            "type": "scattergl"
           }
          ],
          "scattermapbox": [
           {
            "marker": {
             "colorbar": {
              "outlinewidth": 0,
              "ticks": ""
             }
            },
            "type": "scattermapbox"
           }
          ],
          "scatterpolar": [
           {
            "marker": {
             "colorbar": {
              "outlinewidth": 0,
              "ticks": ""
             }
            },
            "type": "scatterpolar"
           }
          ],
          "scatterpolargl": [
           {
            "marker": {
             "colorbar": {
              "outlinewidth": 0,
              "ticks": ""
             }
            },
            "type": "scatterpolargl"
           }
          ],
          "scatterternary": [
           {
            "marker": {
             "colorbar": {
              "outlinewidth": 0,
              "ticks": ""
             }
            },
            "type": "scatterternary"
           }
          ],
          "surface": [
           {
            "colorbar": {
             "outlinewidth": 0,
             "ticks": ""
            },
            "colorscale": [
             [
              0,
              "#0d0887"
             ],
             [
              0.1111111111111111,
              "#46039f"
             ],
             [
              0.2222222222222222,
              "#7201a8"
             ],
             [
              0.3333333333333333,
              "#9c179e"
             ],
             [
              0.4444444444444444,
              "#bd3786"
             ],
             [
              0.5555555555555556,
              "#d8576b"
             ],
             [
              0.6666666666666666,
              "#ed7953"
             ],
             [
              0.7777777777777778,
              "#fb9f3a"
             ],
             [
              0.8888888888888888,
              "#fdca26"
             ],
             [
              1,
              "#f0f921"
             ]
            ],
            "type": "surface"
           }
          ],
          "table": [
           {
            "cells": {
             "fill": {
              "color": "#EBF0F8"
             },
             "line": {
              "color": "white"
             }
            },
            "header": {
             "fill": {
              "color": "#C8D4E3"
             },
             "line": {
              "color": "white"
             }
            },
            "type": "table"
           }
          ]
         },
         "layout": {
          "annotationdefaults": {
           "arrowcolor": "#2a3f5f",
           "arrowhead": 0,
           "arrowwidth": 1
          },
          "autotypenumbers": "strict",
          "coloraxis": {
           "colorbar": {
            "outlinewidth": 0,
            "ticks": ""
           }
          },
          "colorscale": {
           "diverging": [
            [
             0,
             "#8e0152"
            ],
            [
             0.1,
             "#c51b7d"
            ],
            [
             0.2,
             "#de77ae"
            ],
            [
             0.3,
             "#f1b6da"
            ],
            [
             0.4,
             "#fde0ef"
            ],
            [
             0.5,
             "#f7f7f7"
            ],
            [
             0.6,
             "#e6f5d0"
            ],
            [
             0.7,
             "#b8e186"
            ],
            [
             0.8,
             "#7fbc41"
            ],
            [
             0.9,
             "#4d9221"
            ],
            [
             1,
             "#276419"
            ]
           ],
           "sequential": [
            [
             0,
             "#0d0887"
            ],
            [
             0.1111111111111111,
             "#46039f"
            ],
            [
             0.2222222222222222,
             "#7201a8"
            ],
            [
             0.3333333333333333,
             "#9c179e"
            ],
            [
             0.4444444444444444,
             "#bd3786"
            ],
            [
             0.5555555555555556,
             "#d8576b"
            ],
            [
             0.6666666666666666,
             "#ed7953"
            ],
            [
             0.7777777777777778,
             "#fb9f3a"
            ],
            [
             0.8888888888888888,
             "#fdca26"
            ],
            [
             1,
             "#f0f921"
            ]
           ],
           "sequentialminus": [
            [
             0,
             "#0d0887"
            ],
            [
             0.1111111111111111,
             "#46039f"
            ],
            [
             0.2222222222222222,
             "#7201a8"
            ],
            [
             0.3333333333333333,
             "#9c179e"
            ],
            [
             0.4444444444444444,
             "#bd3786"
            ],
            [
             0.5555555555555556,
             "#d8576b"
            ],
            [
             0.6666666666666666,
             "#ed7953"
            ],
            [
             0.7777777777777778,
             "#fb9f3a"
            ],
            [
             0.8888888888888888,
             "#fdca26"
            ],
            [
             1,
             "#f0f921"
            ]
           ]
          },
          "colorway": [
           "#636efa",
           "#EF553B",
           "#00cc96",
           "#ab63fa",
           "#FFA15A",
           "#19d3f3",
           "#FF6692",
           "#B6E880",
           "#FF97FF",
           "#FECB52"
          ],
          "font": {
           "color": "#2a3f5f"
          },
          "geo": {
           "bgcolor": "white",
           "lakecolor": "white",
           "landcolor": "white",
           "showlakes": true,
           "showland": true,
           "subunitcolor": "#C8D4E3"
          },
          "hoverlabel": {
           "align": "left"
          },
          "hovermode": "closest",
          "mapbox": {
           "style": "light"
          },
          "paper_bgcolor": "white",
          "plot_bgcolor": "white",
          "polar": {
           "angularaxis": {
            "gridcolor": "#EBF0F8",
            "linecolor": "#EBF0F8",
            "ticks": ""
           },
           "bgcolor": "white",
           "radialaxis": {
            "gridcolor": "#EBF0F8",
            "linecolor": "#EBF0F8",
            "ticks": ""
           }
          },
          "scene": {
           "xaxis": {
            "backgroundcolor": "white",
            "gridcolor": "#DFE8F3",
            "gridwidth": 2,
            "linecolor": "#EBF0F8",
            "showbackground": true,
            "ticks": "",
            "zerolinecolor": "#EBF0F8"
           },
           "yaxis": {
            "backgroundcolor": "white",
            "gridcolor": "#DFE8F3",
            "gridwidth": 2,
            "linecolor": "#EBF0F8",
            "showbackground": true,
            "ticks": "",
            "zerolinecolor": "#EBF0F8"
           },
           "zaxis": {
            "backgroundcolor": "white",
            "gridcolor": "#DFE8F3",
            "gridwidth": 2,
            "linecolor": "#EBF0F8",
            "showbackground": true,
            "ticks": "",
            "zerolinecolor": "#EBF0F8"
           }
          },
          "shapedefaults": {
           "line": {
            "color": "#2a3f5f"
           }
          },
          "ternary": {
           "aaxis": {
            "gridcolor": "#DFE8F3",
            "linecolor": "#A2B1C6",
            "ticks": ""
           },
           "baxis": {
            "gridcolor": "#DFE8F3",
            "linecolor": "#A2B1C6",
            "ticks": ""
           },
           "bgcolor": "white",
           "caxis": {
            "gridcolor": "#DFE8F3",
            "linecolor": "#A2B1C6",
            "ticks": ""
           }
          },
          "title": {
           "x": 0.05
          },
          "xaxis": {
           "automargin": true,
           "gridcolor": "#EBF0F8",
           "linecolor": "#EBF0F8",
           "ticks": "",
           "title": {
            "standoff": 15
           },
           "zerolinecolor": "#EBF0F8",
           "zerolinewidth": 2
          },
          "yaxis": {
           "automargin": true,
           "gridcolor": "#EBF0F8",
           "linecolor": "#EBF0F8",
           "ticks": "",
           "title": {
            "standoff": 15
           },
           "zerolinecolor": "#EBF0F8",
           "zerolinewidth": 2
          }
         }
        },
        "title": {
         "font": {
          "color": "Black",
          "size": 22
         },
         "text": "<b>Topic Word Scores",
         "x": 0.5,
         "xanchor": "center",
         "yanchor": "top"
        },
        "width": 1000,
        "xaxis": {
         "anchor": "y",
         "domain": [
          0,
          0.175
         ],
         "showgrid": true
        },
        "xaxis10": {
         "anchor": "y10",
         "domain": [
          0.275,
          0.45
         ],
         "showgrid": true
        },
        "xaxis11": {
         "anchor": "y11",
         "domain": [
          0.55,
          0.7250000000000001
         ],
         "showgrid": true
        },
        "xaxis12": {
         "anchor": "y12",
         "domain": [
          0.825,
          1
         ],
         "showgrid": true
        },
        "xaxis2": {
         "anchor": "y2",
         "domain": [
          0.275,
          0.45
         ],
         "showgrid": true
        },
        "xaxis3": {
         "anchor": "y3",
         "domain": [
          0.55,
          0.7250000000000001
         ],
         "showgrid": true
        },
        "xaxis4": {
         "anchor": "y4",
         "domain": [
          0.825,
          1
         ],
         "showgrid": true
        },
        "xaxis5": {
         "anchor": "y5",
         "domain": [
          0,
          0.175
         ],
         "showgrid": true
        },
        "xaxis6": {
         "anchor": "y6",
         "domain": [
          0.275,
          0.45
         ],
         "showgrid": true
        },
        "xaxis7": {
         "anchor": "y7",
         "domain": [
          0.55,
          0.7250000000000001
         ],
         "showgrid": true
        },
        "xaxis8": {
         "anchor": "y8",
         "domain": [
          0.825,
          1
         ],
         "showgrid": true
        },
        "xaxis9": {
         "anchor": "y9",
         "domain": [
          0,
          0.175
         ],
         "showgrid": true
        },
        "yaxis": {
         "anchor": "x",
         "domain": [
          0.7555555555555555,
          1
         ],
         "showgrid": true
        },
        "yaxis10": {
         "anchor": "x10",
         "domain": [
          0,
          0.24444444444444446
         ],
         "showgrid": true
        },
        "yaxis11": {
         "anchor": "x11",
         "domain": [
          0,
          0.24444444444444446
         ],
         "showgrid": true
        },
        "yaxis12": {
         "anchor": "x12",
         "domain": [
          0,
          0.24444444444444446
         ],
         "showgrid": true
        },
        "yaxis2": {
         "anchor": "x2",
         "domain": [
          0.7555555555555555,
          1
         ],
         "showgrid": true
        },
        "yaxis3": {
         "anchor": "x3",
         "domain": [
          0.7555555555555555,
          1
         ],
         "showgrid": true
        },
        "yaxis4": {
         "anchor": "x4",
         "domain": [
          0.7555555555555555,
          1
         ],
         "showgrid": true
        },
        "yaxis5": {
         "anchor": "x5",
         "domain": [
          0.37777777777777777,
          0.6222222222222222
         ],
         "showgrid": true
        },
        "yaxis6": {
         "anchor": "x6",
         "domain": [
          0.37777777777777777,
          0.6222222222222222
         ],
         "showgrid": true
        },
        "yaxis7": {
         "anchor": "x7",
         "domain": [
          0.37777777777777777,
          0.6222222222222222
         ],
         "showgrid": true
        },
        "yaxis8": {
         "anchor": "x8",
         "domain": [
          0.37777777777777777,
          0.6222222222222222
         ],
         "showgrid": true
        },
        "yaxis9": {
         "anchor": "x9",
         "domain": [
          0,
          0.24444444444444446
         ],
         "showgrid": true
        }
       }
      }
     },
     "metadata": {},
     "output_type": "display_data"
    }
   ],
   "source": [
    "topic_model.visualize_barchart(top_n_topics=11)"
   ]
  },
  {
   "cell_type": "code",
   "execution_count": 20,
   "metadata": {},
   "outputs": [
    {
     "name": "stderr",
     "output_type": "stream",
     "text": [
      "20it [00:35,  1.80s/it]\n"
     ]
    }
   ],
   "source": [
    "topics_over_time = topic_model.topics_over_time(tweets, topics, dates, nr_bins=20)"
   ]
  },
  {
   "cell_type": "code",
   "execution_count": 21,
   "metadata": {},
   "outputs": [
    {
     "data": {
      "application/vnd.plotly.v1+json": {
       "config": {
        "plotlyServerURL": "https://plot.ly"
       },
       "data": [
        {
         "hoverinfo": "text",
         "hovertext": [
          "<b>Topic 0</b><br>Words: sayin, tellin, xxxx, sponsored, jus",
          "<b>Topic 0</b><br>Words: sayin, tellin, xxxx, sponsored, jus",
          "<b>Topic 0</b><br>Words: sayin, tellin, xxxx, sponsored, jus",
          "<b>Topic 0</b><br>Words: sayin, tellin, xxxx, sponsored, jus",
          "<b>Topic 0</b><br>Words: sayin, tellin, xxxx, sponsored, jus",
          "<b>Topic 0</b><br>Words: sayin, tellin, xxxx, sponsored, jus",
          "<b>Topic 0</b><br>Words: sayin, tellin, xxxx, sponsored, jus",
          "<b>Topic 0</b><br>Words: sayin, tellin, xxxx, sponsored, jus",
          "<b>Topic 0</b><br>Words: sayin, tellin, xxxx, sponsored, jus",
          "<b>Topic 0</b><br>Words: sayin, tellin, xxxx, sponsored, jus",
          "<b>Topic 0</b><br>Words: sayin, tellin, xxxx, sponsored, jus",
          "<b>Topic 0</b><br>Words: sayin, tellin, xxxx, sponsored, jus",
          "<b>Topic 0</b><br>Words: sayin, xxxx, tellin, jus, sponsored",
          "<b>Topic 0</b><br>Words: weren, sayin, tellin, xxxx, sponsored",
          "<b>Topic 0</b><br>Words: sayin, tellin, xxxx, sponsored, jus",
          "<b>Topic 0</b><br>Words: sayin, tellin, xxxx, sponsored, jus",
          "<b>Topic 0</b><br>Words: sayin, tellin, xxxx, sponsored, jus",
          "<b>Topic 0</b><br>Words: sponsored, sayin, tellin, xxxx, already",
          "<b>Topic 0</b><br>Words: tellin, sayin, xxxx, sponsored, jus",
          "<b>Topic 0</b><br>Words: sayin, tellin, xxxx, sponsored, jus"
         ],
         "marker": {
          "color": "#E69F00"
         },
         "mode": "lines",
         "name": "0_sayin_tellin_xxxx_sponsored",
         "type": "scatter",
         "x": [
          "2020-08-31T23:01:15.556999",
          "2020-09-06T07:27:44.150000",
          "2020-09-11T13:23:06.300000",
          "2020-09-16T19:18:28.449999",
          "2020-09-22T01:13:50.600000",
          "2020-09-27T07:09:12.750000",
          "2020-10-02T13:04:34.900000",
          "2020-10-07T18:59:57.049999",
          "2020-10-13T00:55:19.200000",
          "2020-10-18T06:50:41.350000",
          "2020-10-23T12:46:03.500000",
          "2020-10-28T18:41:25.649999",
          "2020-11-03T00:36:47.800000",
          "2020-11-08T06:32:09.950000",
          "2020-11-13T12:27:32.100000",
          "2020-11-18T18:22:54.249999",
          "2020-11-24T00:18:16.400000",
          "2020-11-29T06:13:38.550000",
          "2020-12-04T12:09:00.700000",
          "2020-12-09T18:04:22.849999"
         ],
         "y": [
          18,
          166,
          38,
          35,
          62,
          90,
          28,
          42,
          19,
          12,
          32,
          33,
          26008,
          15642,
          8353,
          5629,
          5366,
          5951,
          5305,
          4727
         ]
        },
        {
         "hoverinfo": "text",
         "hovertext": [
          "<b>Topic 8</b><br>Words: laura, governor, awesome, florida, held",
          "<b>Topic 8</b><br>Words: awesome, governor, bullhorns, safely, improve",
          "<b>Topic 8</b><br>Words: awesome, governor, calley, schuette, manor",
          "<b>Topic 8</b><br>Words: awesome, kate, governor, brown, oregon",
          "<b>Topic 8</b><br>Words: awesome, governor, kate, escaped, abbot",
          "<b>Topic 8</b><br>Words: awesome, governor, kate, abbot, calley",
          "<b>Topic 8</b><br>Words: tabacco, awesome, governor, johnny, boss",
          "<b>Topic 8</b><br>Words: awesome, governor, abbot, transplant, england",
          "<b>Topic 8</b><br>Words: awesome, governors, governor, hypocrisy, name"
         ],
         "marker": {
          "color": "#56B4E9"
         },
         "mode": "lines",
         "name": "8_awesome_governor_kate_abbot",
         "type": "scatter",
         "x": [
          "2020-10-28T18:41:25.649999",
          "2020-11-03T00:36:47.800000",
          "2020-11-08T06:32:09.950000",
          "2020-11-13T12:27:32.100000",
          "2020-11-18T18:22:54.249999",
          "2020-11-24T00:18:16.400000",
          "2020-11-29T06:13:38.550000",
          "2020-12-04T12:09:00.700000",
          "2020-12-09T18:04:22.849999"
         ],
         "y": [
          1,
          4,
          3,
          2,
          1163,
          4,
          1,
          3,
          1
         ]
        },
        {
         "hoverinfo": "text",
         "hovertext": [
          "<b>Topic 2</b><br>Words: fewer, assembled, incredible, peacefully, across",
          "<b>Topic 2</b><br>Words: fewer, assembled, incredible, peacefully, across",
          "<b>Topic 2</b><br>Words: fewer, assembled, incredible, peacefully, across",
          "<b>Topic 2</b><br>Words: paies, mob, major, fewer, assembled",
          "<b>Topic 2</b><br>Words: fewer, assembled, incredible, peacefully, across",
          "<b>Topic 2</b><br>Words: bridget, meeting, fewer, assembled, incredible"
         ],
         "marker": {
          "color": "#009E73"
         },
         "mode": "lines",
         "name": "2_fewer_assembled_incredible_peacefully",
         "type": "scatter",
         "x": [
          "2020-11-03T00:36:47.800000",
          "2020-11-08T06:32:09.950000",
          "2020-11-13T12:27:32.100000",
          "2020-11-18T18:22:54.249999",
          "2020-11-24T00:18:16.400000",
          "2020-11-29T06:13:38.550000"
         ],
         "y": [
          3442,
          16,
          3,
          1,
          2,
          1
         ]
        },
        {
         "hoverinfo": "text",
         "hovertext": [
          "<b>Topic 3</b><br>Words: congressmen, joined, building, capitol, harrisburg",
          "<b>Topic 3</b><br>Words: congressmen, joined, building, capitol, harrisburg",
          "<b>Topic 3</b><br>Words: congressmen, joined, building, capitol, harrisburg"
         ],
         "marker": {
          "color": "#F0E442"
         },
         "mode": "lines",
         "name": "3_congressmen_joined_building_capitol",
         "type": "scatter",
         "x": [
          "2020-11-03T00:36:47.800000",
          "2020-11-08T06:32:09.950000",
          "2020-11-13T12:27:32.100000"
         ],
         "y": [
          2757,
          5,
          1
         ]
        },
        {
         "hoverinfo": "text",
         "hovertext": [
          "<b>Topic 4</b><br>Words: happen, trying, steal, let, won",
          "<b>Topic 4</b><br>Words: happen, trying, steal, let, democrats",
          "<b>Topic 4</b><br>Words: happen, trying, cuba, developed, steal",
          "<b>Topic 4</b><br>Words: concede, happen, steal, trying, let",
          "<b>Topic 4</b><br>Words: happen, trying, receives, steal, let",
          "<b>Topic 4</b><br>Words: happen, rag, trying, victorious, steal",
          "<b>Topic 4</b><br>Words: happen, ram, shoe, trying, foot",
          "<b>Topic 4</b><br>Words: learned, happen, trying, destroy, democrats"
         ],
         "marker": {
          "color": "#D55E00"
         },
         "mode": "lines",
         "name": "4_happen_trying_steal_let",
         "type": "scatter",
         "x": [
          "2020-11-03T00:36:47.800000",
          "2020-11-08T06:32:09.950000",
          "2020-11-13T12:27:32.100000",
          "2020-11-18T18:22:54.249999",
          "2020-11-24T00:18:16.400000",
          "2020-11-29T06:13:38.550000",
          "2020-12-04T12:09:00.700000",
          "2020-12-09T18:04:22.849999"
         ],
         "y": [
          1557,
          76,
          2,
          1,
          2,
          3,
          1,
          2
         ]
        },
        {
         "hoverinfo": "text",
         "hovertext": [
          "<b>Topic 5</b><br>Words: case, repo, tell, seeing, call",
          "<b>Topic 5</b><br>Words: case, repo, tell, seeing, call",
          "<b>Topic 5</b><br>Words: case, repo, tell, seeing, call",
          "<b>Topic 5</b><br>Words: case, repo, tell, seeing, call",
          "<b>Topic 5</b><br>Words: case, repo, tell, seeing, call"
         ],
         "marker": {
          "color": "#0072B2"
         },
         "mode": "lines",
         "name": "5_case_repo_tell_seeing",
         "type": "scatter",
         "x": [
          "2020-11-03T00:36:47.800000",
          "2020-11-08T06:32:09.950000",
          "2020-11-13T12:27:32.100000",
          "2020-11-18T18:22:54.249999",
          "2020-11-29T06:13:38.550000"
         ],
         "y": [
          1236,
          246,
          51,
          2,
          1
         ]
        },
        {
         "hoverinfo": "text",
         "hovertext": [
          "<b>Topic 6</b><br>Words: wrongfully, prevented, entering, watcher, polling",
          "<b>Topic 6</b><br>Words: wrongfully, prevented, entering, watcher, polling",
          "<b>Topic 6</b><br>Words: wrongfully, prevented, entering, watcher, polling",
          "<b>Topic 6</b><br>Words: wrongfully, prevented, entering, watcher, polling",
          "<b>Topic 6</b><br>Words: wrongfully, prevented, entering, watcher, polling"
         ],
         "marker": {
          "color": "#CC79A7"
         },
         "mode": "lines",
         "name": "6_wrongfully_prevented_entering_watcher",
         "type": "scatter",
         "x": [
          "2020-11-03T00:36:47.800000",
          "2020-11-08T06:32:09.950000",
          "2020-11-13T12:27:32.100000",
          "2020-11-18T18:22:54.249999",
          "2020-11-24T00:18:16.400000"
         ],
         "y": [
          1458,
          6,
          2,
          1,
          48
         ]
        },
        {
         "hoverinfo": "text",
         "hovertext": [
          "<b>Topic 9</b><br>Words: strong, day, going, building, capitol",
          "<b>Topic 9</b><br>Words: strong, day, going, building, capitol",
          "<b>Topic 9</b><br>Words: strong, burnt, day, looted, going",
          "<b>Topic 9</b><br>Words: legislative, strong, day, session, suppoer",
          "<b>Topic 9</b><br>Words: building, capitol, harrisburg, strong, day"
         ],
         "marker": {
          "color": "#E69F00"
         },
         "mode": "lines",
         "name": "9_strong_day_going_building",
         "type": "scatter",
         "x": [
          "2020-11-03T00:36:47.800000",
          "2020-11-08T06:32:09.950000",
          "2020-11-13T12:27:32.100000",
          "2020-11-24T00:18:16.400000",
          "2020-11-29T06:13:38.550000"
         ],
         "y": [
          1016,
          26,
          5,
          1,
          1
         ]
        },
        {
         "hoverinfo": "text",
         "hovertext": [
          "<b>Topic 7</b><br>Words: accept, legitimate, stolen, counted, right",
          "<b>Topic 7</b><br>Words: accept, legitimate, stolen, counted, right",
          "<b>Topic 7</b><br>Words: accept, legitimate, stolen, counted, right",
          "<b>Topic 7</b><br>Words: accept, legitimate, stolen, counted, right",
          "<b>Topic 7</b><br>Words: accept, legitimate, stolen, counted, right",
          "<b>Topic 7</b><br>Words: accept, legitimate, stolen, counted, right",
          "<b>Topic 7</b><br>Words: accept, legitimate, stolen, counted, right"
         ],
         "marker": {
          "color": "#56B4E9"
         },
         "mode": "lines",
         "name": "7_accept_legitimate_stolen_counted",
         "type": "scatter",
         "x": [
          "2020-11-08T06:32:09.950000",
          "2020-11-13T12:27:32.100000",
          "2020-11-18T18:22:54.249999",
          "2020-11-24T00:18:16.400000",
          "2020-11-29T06:13:38.550000",
          "2020-12-04T12:09:00.700000",
          "2020-12-09T18:04:22.849999"
         ],
         "y": [
          172,
          459,
          271,
          113,
          99,
          72,
          101
         ]
        },
        {
         "hoverinfo": "text",
         "hovertext": [
          "<b>Topic 10</b><br>Words: atlanta, jubilation, dubbed, georgia, rally",
          "<b>Topic 10</b><br>Words: atlanta, georgia, rally, state, capitol",
          "<b>Topic 10</b><br>Words: atlanta, georgia, loyalists, tump, rally",
          "<b>Topic 10</b><br>Words: rallying, capital, atlanta, georgia, rally"
         ],
         "marker": {
          "color": "#009E73"
         },
         "mode": "lines",
         "name": "10_atlanta_georgia_rally_state",
         "type": "scatter",
         "x": [
          "2020-11-08T06:32:09.950000",
          "2020-11-18T18:22:54.249999",
          "2020-11-29T06:13:38.550000",
          "2020-12-04T12:09:00.700000"
         ],
         "y": [
          1,
          1010,
          4,
          2
         ]
        }
       ],
       "layout": {
        "height": 450,
        "hoverlabel": {
         "bgcolor": "white",
         "font": {
          "family": "Rockwell",
          "size": 16
         }
        },
        "legend": {
         "title": {
          "text": "<b>Global Topic Representation"
         }
        },
        "template": {
         "data": {
          "bar": [
           {
            "error_x": {
             "color": "rgb(36,36,36)"
            },
            "error_y": {
             "color": "rgb(36,36,36)"
            },
            "marker": {
             "line": {
              "color": "white",
              "width": 0.5
             },
             "pattern": {
              "fillmode": "overlay",
              "size": 10,
              "solidity": 0.2
             }
            },
            "type": "bar"
           }
          ],
          "barpolar": [
           {
            "marker": {
             "line": {
              "color": "white",
              "width": 0.5
             },
             "pattern": {
              "fillmode": "overlay",
              "size": 10,
              "solidity": 0.2
             }
            },
            "type": "barpolar"
           }
          ],
          "carpet": [
           {
            "aaxis": {
             "endlinecolor": "rgb(36,36,36)",
             "gridcolor": "white",
             "linecolor": "white",
             "minorgridcolor": "white",
             "startlinecolor": "rgb(36,36,36)"
            },
            "baxis": {
             "endlinecolor": "rgb(36,36,36)",
             "gridcolor": "white",
             "linecolor": "white",
             "minorgridcolor": "white",
             "startlinecolor": "rgb(36,36,36)"
            },
            "type": "carpet"
           }
          ],
          "choropleth": [
           {
            "colorbar": {
             "outlinewidth": 1,
             "tickcolor": "rgb(36,36,36)",
             "ticks": "outside"
            },
            "type": "choropleth"
           }
          ],
          "contour": [
           {
            "colorbar": {
             "outlinewidth": 1,
             "tickcolor": "rgb(36,36,36)",
             "ticks": "outside"
            },
            "colorscale": [
             [
              0,
              "#440154"
             ],
             [
              0.1111111111111111,
              "#482878"
             ],
             [
              0.2222222222222222,
              "#3e4989"
             ],
             [
              0.3333333333333333,
              "#31688e"
             ],
             [
              0.4444444444444444,
              "#26828e"
             ],
             [
              0.5555555555555556,
              "#1f9e89"
             ],
             [
              0.6666666666666666,
              "#35b779"
             ],
             [
              0.7777777777777778,
              "#6ece58"
             ],
             [
              0.8888888888888888,
              "#b5de2b"
             ],
             [
              1,
              "#fde725"
             ]
            ],
            "type": "contour"
           }
          ],
          "contourcarpet": [
           {
            "colorbar": {
             "outlinewidth": 1,
             "tickcolor": "rgb(36,36,36)",
             "ticks": "outside"
            },
            "type": "contourcarpet"
           }
          ],
          "heatmap": [
           {
            "colorbar": {
             "outlinewidth": 1,
             "tickcolor": "rgb(36,36,36)",
             "ticks": "outside"
            },
            "colorscale": [
             [
              0,
              "#440154"
             ],
             [
              0.1111111111111111,
              "#482878"
             ],
             [
              0.2222222222222222,
              "#3e4989"
             ],
             [
              0.3333333333333333,
              "#31688e"
             ],
             [
              0.4444444444444444,
              "#26828e"
             ],
             [
              0.5555555555555556,
              "#1f9e89"
             ],
             [
              0.6666666666666666,
              "#35b779"
             ],
             [
              0.7777777777777778,
              "#6ece58"
             ],
             [
              0.8888888888888888,
              "#b5de2b"
             ],
             [
              1,
              "#fde725"
             ]
            ],
            "type": "heatmap"
           }
          ],
          "heatmapgl": [
           {
            "colorbar": {
             "outlinewidth": 1,
             "tickcolor": "rgb(36,36,36)",
             "ticks": "outside"
            },
            "colorscale": [
             [
              0,
              "#440154"
             ],
             [
              0.1111111111111111,
              "#482878"
             ],
             [
              0.2222222222222222,
              "#3e4989"
             ],
             [
              0.3333333333333333,
              "#31688e"
             ],
             [
              0.4444444444444444,
              "#26828e"
             ],
             [
              0.5555555555555556,
              "#1f9e89"
             ],
             [
              0.6666666666666666,
              "#35b779"
             ],
             [
              0.7777777777777778,
              "#6ece58"
             ],
             [
              0.8888888888888888,
              "#b5de2b"
             ],
             [
              1,
              "#fde725"
             ]
            ],
            "type": "heatmapgl"
           }
          ],
          "histogram": [
           {
            "marker": {
             "line": {
              "color": "white",
              "width": 0.6
             }
            },
            "type": "histogram"
           }
          ],
          "histogram2d": [
           {
            "colorbar": {
             "outlinewidth": 1,
             "tickcolor": "rgb(36,36,36)",
             "ticks": "outside"
            },
            "colorscale": [
             [
              0,
              "#440154"
             ],
             [
              0.1111111111111111,
              "#482878"
             ],
             [
              0.2222222222222222,
              "#3e4989"
             ],
             [
              0.3333333333333333,
              "#31688e"
             ],
             [
              0.4444444444444444,
              "#26828e"
             ],
             [
              0.5555555555555556,
              "#1f9e89"
             ],
             [
              0.6666666666666666,
              "#35b779"
             ],
             [
              0.7777777777777778,
              "#6ece58"
             ],
             [
              0.8888888888888888,
              "#b5de2b"
             ],
             [
              1,
              "#fde725"
             ]
            ],
            "type": "histogram2d"
           }
          ],
          "histogram2dcontour": [
           {
            "colorbar": {
             "outlinewidth": 1,
             "tickcolor": "rgb(36,36,36)",
             "ticks": "outside"
            },
            "colorscale": [
             [
              0,
              "#440154"
             ],
             [
              0.1111111111111111,
              "#482878"
             ],
             [
              0.2222222222222222,
              "#3e4989"
             ],
             [
              0.3333333333333333,
              "#31688e"
             ],
             [
              0.4444444444444444,
              "#26828e"
             ],
             [
              0.5555555555555556,
              "#1f9e89"
             ],
             [
              0.6666666666666666,
              "#35b779"
             ],
             [
              0.7777777777777778,
              "#6ece58"
             ],
             [
              0.8888888888888888,
              "#b5de2b"
             ],
             [
              1,
              "#fde725"
             ]
            ],
            "type": "histogram2dcontour"
           }
          ],
          "mesh3d": [
           {
            "colorbar": {
             "outlinewidth": 1,
             "tickcolor": "rgb(36,36,36)",
             "ticks": "outside"
            },
            "type": "mesh3d"
           }
          ],
          "parcoords": [
           {
            "line": {
             "colorbar": {
              "outlinewidth": 1,
              "tickcolor": "rgb(36,36,36)",
              "ticks": "outside"
             }
            },
            "type": "parcoords"
           }
          ],
          "pie": [
           {
            "automargin": true,
            "type": "pie"
           }
          ],
          "scatter": [
           {
            "marker": {
             "colorbar": {
              "outlinewidth": 1,
              "tickcolor": "rgb(36,36,36)",
              "ticks": "outside"
             }
            },
            "type": "scatter"
           }
          ],
          "scatter3d": [
           {
            "line": {
             "colorbar": {
              "outlinewidth": 1,
              "tickcolor": "rgb(36,36,36)",
              "ticks": "outside"
             }
            },
            "marker": {
             "colorbar": {
              "outlinewidth": 1,
              "tickcolor": "rgb(36,36,36)",
              "ticks": "outside"
             }
            },
            "type": "scatter3d"
           }
          ],
          "scattercarpet": [
           {
            "marker": {
             "colorbar": {
              "outlinewidth": 1,
              "tickcolor": "rgb(36,36,36)",
              "ticks": "outside"
             }
            },
            "type": "scattercarpet"
           }
          ],
          "scattergeo": [
           {
            "marker": {
             "colorbar": {
              "outlinewidth": 1,
              "tickcolor": "rgb(36,36,36)",
              "ticks": "outside"
             }
            },
            "type": "scattergeo"
           }
          ],
          "scattergl": [
           {
            "marker": {
             "colorbar": {
              "outlinewidth": 1,
              "tickcolor": "rgb(36,36,36)",
              "ticks": "outside"
             }
            },
            "type": "scattergl"
           }
          ],
          "scattermapbox": [
           {
            "marker": {
             "colorbar": {
              "outlinewidth": 1,
              "tickcolor": "rgb(36,36,36)",
              "ticks": "outside"
             }
            },
            "type": "scattermapbox"
           }
          ],
          "scatterpolar": [
           {
            "marker": {
             "colorbar": {
              "outlinewidth": 1,
              "tickcolor": "rgb(36,36,36)",
              "ticks": "outside"
             }
            },
            "type": "scatterpolar"
           }
          ],
          "scatterpolargl": [
           {
            "marker": {
             "colorbar": {
              "outlinewidth": 1,
              "tickcolor": "rgb(36,36,36)",
              "ticks": "outside"
             }
            },
            "type": "scatterpolargl"
           }
          ],
          "scatterternary": [
           {
            "marker": {
             "colorbar": {
              "outlinewidth": 1,
              "tickcolor": "rgb(36,36,36)",
              "ticks": "outside"
             }
            },
            "type": "scatterternary"
           }
          ],
          "surface": [
           {
            "colorbar": {
             "outlinewidth": 1,
             "tickcolor": "rgb(36,36,36)",
             "ticks": "outside"
            },
            "colorscale": [
             [
              0,
              "#440154"
             ],
             [
              0.1111111111111111,
              "#482878"
             ],
             [
              0.2222222222222222,
              "#3e4989"
             ],
             [
              0.3333333333333333,
              "#31688e"
             ],
             [
              0.4444444444444444,
              "#26828e"
             ],
             [
              0.5555555555555556,
              "#1f9e89"
             ],
             [
              0.6666666666666666,
              "#35b779"
             ],
             [
              0.7777777777777778,
              "#6ece58"
             ],
             [
              0.8888888888888888,
              "#b5de2b"
             ],
             [
              1,
              "#fde725"
             ]
            ],
            "type": "surface"
           }
          ],
          "table": [
           {
            "cells": {
             "fill": {
              "color": "rgb(237,237,237)"
             },
             "line": {
              "color": "white"
             }
            },
            "header": {
             "fill": {
              "color": "rgb(217,217,217)"
             },
             "line": {
              "color": "white"
             }
            },
            "type": "table"
           }
          ]
         },
         "layout": {
          "annotationdefaults": {
           "arrowhead": 0,
           "arrowwidth": 1
          },
          "autotypenumbers": "strict",
          "coloraxis": {
           "colorbar": {
            "outlinewidth": 1,
            "tickcolor": "rgb(36,36,36)",
            "ticks": "outside"
           }
          },
          "colorscale": {
           "diverging": [
            [
             0,
             "rgb(103,0,31)"
            ],
            [
             0.1,
             "rgb(178,24,43)"
            ],
            [
             0.2,
             "rgb(214,96,77)"
            ],
            [
             0.3,
             "rgb(244,165,130)"
            ],
            [
             0.4,
             "rgb(253,219,199)"
            ],
            [
             0.5,
             "rgb(247,247,247)"
            ],
            [
             0.6,
             "rgb(209,229,240)"
            ],
            [
             0.7,
             "rgb(146,197,222)"
            ],
            [
             0.8,
             "rgb(67,147,195)"
            ],
            [
             0.9,
             "rgb(33,102,172)"
            ],
            [
             1,
             "rgb(5,48,97)"
            ]
           ],
           "sequential": [
            [
             0,
             "#440154"
            ],
            [
             0.1111111111111111,
             "#482878"
            ],
            [
             0.2222222222222222,
             "#3e4989"
            ],
            [
             0.3333333333333333,
             "#31688e"
            ],
            [
             0.4444444444444444,
             "#26828e"
            ],
            [
             0.5555555555555556,
             "#1f9e89"
            ],
            [
             0.6666666666666666,
             "#35b779"
            ],
            [
             0.7777777777777778,
             "#6ece58"
            ],
            [
             0.8888888888888888,
             "#b5de2b"
            ],
            [
             1,
             "#fde725"
            ]
           ],
           "sequentialminus": [
            [
             0,
             "#440154"
            ],
            [
             0.1111111111111111,
             "#482878"
            ],
            [
             0.2222222222222222,
             "#3e4989"
            ],
            [
             0.3333333333333333,
             "#31688e"
            ],
            [
             0.4444444444444444,
             "#26828e"
            ],
            [
             0.5555555555555556,
             "#1f9e89"
            ],
            [
             0.6666666666666666,
             "#35b779"
            ],
            [
             0.7777777777777778,
             "#6ece58"
            ],
            [
             0.8888888888888888,
             "#b5de2b"
            ],
            [
             1,
             "#fde725"
            ]
           ]
          },
          "colorway": [
           "#1F77B4",
           "#FF7F0E",
           "#2CA02C",
           "#D62728",
           "#9467BD",
           "#8C564B",
           "#E377C2",
           "#7F7F7F",
           "#BCBD22",
           "#17BECF"
          ],
          "font": {
           "color": "rgb(36,36,36)"
          },
          "geo": {
           "bgcolor": "white",
           "lakecolor": "white",
           "landcolor": "white",
           "showlakes": true,
           "showland": true,
           "subunitcolor": "white"
          },
          "hoverlabel": {
           "align": "left"
          },
          "hovermode": "closest",
          "mapbox": {
           "style": "light"
          },
          "paper_bgcolor": "white",
          "plot_bgcolor": "white",
          "polar": {
           "angularaxis": {
            "gridcolor": "rgb(232,232,232)",
            "linecolor": "rgb(36,36,36)",
            "showgrid": false,
            "showline": true,
            "ticks": "outside"
           },
           "bgcolor": "white",
           "radialaxis": {
            "gridcolor": "rgb(232,232,232)",
            "linecolor": "rgb(36,36,36)",
            "showgrid": false,
            "showline": true,
            "ticks": "outside"
           }
          },
          "scene": {
           "xaxis": {
            "backgroundcolor": "white",
            "gridcolor": "rgb(232,232,232)",
            "gridwidth": 2,
            "linecolor": "rgb(36,36,36)",
            "showbackground": true,
            "showgrid": false,
            "showline": true,
            "ticks": "outside",
            "zeroline": false,
            "zerolinecolor": "rgb(36,36,36)"
           },
           "yaxis": {
            "backgroundcolor": "white",
            "gridcolor": "rgb(232,232,232)",
            "gridwidth": 2,
            "linecolor": "rgb(36,36,36)",
            "showbackground": true,
            "showgrid": false,
            "showline": true,
            "ticks": "outside",
            "zeroline": false,
            "zerolinecolor": "rgb(36,36,36)"
           },
           "zaxis": {
            "backgroundcolor": "white",
            "gridcolor": "rgb(232,232,232)",
            "gridwidth": 2,
            "linecolor": "rgb(36,36,36)",
            "showbackground": true,
            "showgrid": false,
            "showline": true,
            "ticks": "outside",
            "zeroline": false,
            "zerolinecolor": "rgb(36,36,36)"
           }
          },
          "shapedefaults": {
           "fillcolor": "black",
           "line": {
            "width": 0
           },
           "opacity": 0.3
          },
          "ternary": {
           "aaxis": {
            "gridcolor": "rgb(232,232,232)",
            "linecolor": "rgb(36,36,36)",
            "showgrid": false,
            "showline": true,
            "ticks": "outside"
           },
           "baxis": {
            "gridcolor": "rgb(232,232,232)",
            "linecolor": "rgb(36,36,36)",
            "showgrid": false,
            "showline": true,
            "ticks": "outside"
           },
           "bgcolor": "white",
           "caxis": {
            "gridcolor": "rgb(232,232,232)",
            "linecolor": "rgb(36,36,36)",
            "showgrid": false,
            "showline": true,
            "ticks": "outside"
           }
          },
          "title": {
           "x": 0.05
          },
          "xaxis": {
           "automargin": true,
           "gridcolor": "rgb(232,232,232)",
           "linecolor": "rgb(36,36,36)",
           "showgrid": false,
           "showline": true,
           "ticks": "outside",
           "title": {
            "standoff": 15
           },
           "zeroline": false,
           "zerolinecolor": "rgb(36,36,36)"
          },
          "yaxis": {
           "automargin": true,
           "gridcolor": "rgb(232,232,232)",
           "linecolor": "rgb(36,36,36)",
           "showgrid": false,
           "showline": true,
           "ticks": "outside",
           "title": {
            "standoff": 15
           },
           "zeroline": false,
           "zerolinecolor": "rgb(36,36,36)"
          }
         }
        },
        "title": {
         "font": {
          "color": "Black",
          "size": 22
         },
         "text": "<b>Topics over Time",
         "x": 0.4,
         "xanchor": "center",
         "y": 0.95,
         "yanchor": "top"
        },
        "width": 1250,
        "xaxis": {
         "showgrid": true
        },
        "yaxis": {
         "showgrid": true,
         "title": {
          "text": "Frequency"
         }
        }
       }
      }
     },
     "metadata": {},
     "output_type": "display_data"
    }
   ],
   "source": [
    "fig = topic_model.visualize_topics_over_time(topics_over_time, topics=[0, 2, 3, 4, 5, 6, 7, 8 , 9, 10])\n",
    "fig"
   ]
  },
  {
   "cell_type": "code",
   "execution_count": 22,
   "metadata": {},
   "outputs": [],
   "source": [
    "file = '1st_analysis (topic streams over time)'\n",
    "plotly.io.write_html(fig, file=file, full_html=True)"
   ]
  },
  {
   "cell_type": "code",
   "execution_count": null,
   "metadata": {},
   "outputs": [],
   "source": []
  }
 ],
 "metadata": {
  "interpreter": {
   "hash": "ea65dad64e0f0630949a62e47861d337df55f7557637cdf15bb6aaf05db958e0"
  },
  "kernelspec": {
   "display_name": "Python 3.9.7 64-bit",
   "language": "python",
   "name": "python3"
  },
  "language_info": {
   "codemirror_mode": {
    "name": "ipython",
    "version": 3
   },
   "file_extension": ".py",
   "mimetype": "text/x-python",
   "name": "python",
   "nbconvert_exporter": "python",
   "pygments_lexer": "ipython3",
   "version": "3.9.7"
  },
  "orig_nbformat": 4
 },
 "nbformat": 4,
 "nbformat_minor": 2
}
