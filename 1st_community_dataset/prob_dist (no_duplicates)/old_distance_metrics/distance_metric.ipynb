{
 "cells": [
  {
   "cell_type": "code",
   "execution_count": 176,
   "metadata": {},
   "outputs": [],
   "source": [
    "import numpy as np\n",
    "import pandas as pd\n",
    "import matplotlib.pyplot as plt\n",
    "import seaborn as sns\n",
    "import glob\n",
    "from IPython.display import display\n",
    "from gensim.corpora import Dictionary\n",
    "from gensim.models import ldamodel"
   ]
  },
  {
   "cell_type": "code",
   "execution_count": 2,
   "metadata": {},
   "outputs": [],
   "source": [
    "import logging\n",
    "logging.basicConfig(format='%(asctime)s : %(levelname)s : %(message)s', level=logging.INFO)"
   ]
  },
  {
   "cell_type": "markdown",
   "metadata": {},
   "source": [
    "#### Data (working with master corpus)"
   ]
  },
  {
   "cell_type": "code",
   "execution_count": 129,
   "metadata": {},
   "outputs": [
    {
     "name": "stderr",
     "output_type": "stream",
     "text": [
      "c:\\Users\\Ivory-UALR\\AppData\\Local\\Programs\\Python\\Python39\\lib\\site-packages\\IPython\\core\\interactiveshell.py:3441: DtypeWarning: Columns (26,27,28,29) have mixed types.Specify dtype option on import or set low_memory=False.\n",
      "  exec(code_obj, self.user_global_ns, self.user_ns)\n"
     ]
    }
   ],
   "source": [
    "df = pd.read_csv('..\\master_corpus.csv')"
   ]
  },
  {
   "cell_type": "code",
   "execution_count": 152,
   "metadata": {},
   "outputs": [],
   "source": [
    "corpus_list_master = ([list(x) for x in df.fillna('').values])"
   ]
  },
  {
   "cell_type": "code",
   "execution_count": null,
   "metadata": {},
   "outputs": [],
   "source": [
    "corpus_list_master"
   ]
  },
  {
   "cell_type": "code",
   "execution_count": null,
   "metadata": {},
   "outputs": [],
   "source": [
    "dictionary = Dictionary(corpus_list_master)\n",
    "corpus = [dictionary.doc2bow(text) for text in corpus_list_master]\n",
    "\n",
    "import numpy\n",
    "numpy.random.seed(1) # setting random seed to get the same results each time.\n",
    "\n",
    "from gensim.models import ldamodel\n",
    "model = ldamodel.LdaModel(corpus, id2word=dictionary, num_topics=15, minimum_probability=1e-8)"
   ]
  },
  {
   "cell_type": "code",
   "execution_count": null,
   "metadata": {},
   "outputs": [],
   "source": [
    "model.show_topics()"
   ]
  },
  {
   "cell_type": "code",
   "execution_count": 160,
   "metadata": {},
   "outputs": [],
   "source": [
    "topic1, topic2, topic3, topic4, topic5, topic6, topic7, topic8, topic9, topic10 = model.show_topics()"
   ]
  },
  {
   "cell_type": "markdown",
   "metadata": {},
   "source": [
    "##### How similar are our topics from our model"
   ]
  },
  {
   "cell_type": "code",
   "execution_count": 161,
   "metadata": {},
   "outputs": [],
   "source": [
    "def parse_topic_string(topic):\n",
    "    # takes the string returned by model.show_topics()\n",
    "    # split on strings to get topics and the probabilities\n",
    "    topic = topic.split('+')\n",
    "    # list to store topic bows\n",
    "    topic_bow = []\n",
    "    for word in topic:\n",
    "        # split probability and word\n",
    "        prob, word = word.split('*')\n",
    "        # get rid of spaces and quote marks\n",
    "        word = word.replace(\" \",\"\").replace('\"', '')\n",
    "        # convert to word_type\n",
    "        word = model.id2word.doc2bow([word])[0][0]\n",
    "        topic_bow.append((word, float(prob)))\n",
    "    return topic_bow"
   ]
  },
  {
   "cell_type": "code",
   "execution_count": 166,
   "metadata": {},
   "outputs": [],
   "source": [
    "topic1_distribution = parse_topic_string(topic1[1])\n",
    "topic2_distribution = parse_topic_string(topic2[1])\n",
    "topic3_distribution = parse_topic_string(topic3[1])\n",
    "topic4_distribution = parse_topic_string(topic4[1])\n",
    "topic5_distribution = parse_topic_string(topic5[1])\n",
    "topic6_distribution = parse_topic_string(topic6[1])\n",
    "topic7_distribution = parse_topic_string(topic7[1])\n",
    "topic8_distribution = parse_topic_string(topic8[1])\n",
    "topic9_distribution = parse_topic_string(topic9[1])\n",
    "topic10_distribution = parse_topic_string(topic10[1])"
   ]
  },
  {
   "cell_type": "code",
   "execution_count": 167,
   "metadata": {},
   "outputs": [],
   "source": [
    "topic_dist_list = [topic1_distribution, topic2_distribution, topic3_distribution, topic4_distribution, topic5_distribution, topic6_distribution, topic7_distribution, topic8_distribution, topic9_distribution, topic10_distribution]"
   ]
  },
  {
   "cell_type": "code",
   "execution_count": 168,
   "metadata": {},
   "outputs": [],
   "source": [
    "hellinger_topic_dist_scores = []\n",
    "\n",
    "for i in range(len(topic_dist_list) - 1):\n",
    "    mark = i + 1\n",
    "    if not (mark <= len(topic_dist_list)):\n",
    "        break\n",
    "    else:\n",
    "        score = hellinger(topic_dist_list[i], topic_dist_list[mark])\n",
    "        hellinger_topic_dist_scores.append(score)"
   ]
  },
  {
   "cell_type": "code",
   "execution_count": 169,
   "metadata": {},
   "outputs": [
    {
     "name": "stdout",
     "output_type": "stream",
     "text": [
      "[0.8769264507357502, 0.6387487769068525, 0.6992853494818835, 0.976473245921259, 0.6815423684555495, 0.0, 0.0, 0.5911852501542981, 0.8276472678623424]\n"
     ]
    }
   ],
   "source": [
    "print(hellinger_topic_dist_scores)"
   ]
  },
  {
   "cell_type": "markdown",
   "metadata": {},
   "source": [
    "#### Calculating distance metrics between documents"
   ]
  },
  {
   "cell_type": "code",
   "execution_count": null,
   "metadata": {},
   "outputs": [],
   "source": [
    "path = '..\\prob_dist (no_duplicates)\\corpus_docs'\n",
    "csv_files = glob.glob(path + \"\\*.csv\")\n",
    "\n",
    "df_list = (pd.read_csv(file) for file in csv_files)\n",
    "\n",
    "dataframes_list = []\n",
    "for file in range(len(csv_files)):\n",
    "    temp_df = pd.read_csv(csv_files[file])\n",
    "    dataframes_list.append(temp_df)\n",
    "    \n",
    "corpus_list = []\n",
    "for df in dataframes_list:\n",
    "     corpus_list.append([list(x) for x in df.fillna('').values])\n",
    "     \n",
    "corpus_list[0]"
   ]
  },
  {
   "cell_type": "code",
   "execution_count": 171,
   "metadata": {},
   "outputs": [],
   "source": [
    "corpus36, corpus37, corpus38, corpus39, corpus40, corpus41, corpus42, corpus43, corpus44, corpus45, corpus46, corpus47, corpus48, corpus49, corpus50, corpus51 = corpus_list[:]"
   ]
  },
  {
   "cell_type": "code",
   "execution_count": 172,
   "metadata": {},
   "outputs": [],
   "source": [
    "doc_36 = corpus36[6]\n",
    "doc_37 = corpus37[3]\n",
    "doc_38 = corpus38[10]\n",
    "doc_39 = corpus39[6]\n",
    "doc_40 = corpus40[0]\n",
    "doc_41 = corpus41[0]\n",
    "doc_42 = corpus42[6]\n",
    "doc_43 = corpus43[10]\n",
    "doc_44 = corpus44[1]\n",
    "doc_45 = corpus45[6]\n",
    "doc_46 = corpus46[4]\n",
    "doc_47 = corpus47[1]\n",
    "doc_48 = corpus48[1]\n",
    "doc_49 = corpus49[2]\n",
    "doc_50 = corpus50[2]\n",
    "doc_51 = corpus51[2]\n",
    "\n",
    "\n",
    "# now let's make these into a bag of words format\n",
    "bow_36 = model.id2word.doc2bow(doc_36)   \n",
    "bow_37 = model.id2word.doc2bow(doc_37)   \n",
    "bow_38 = model.id2word.doc2bow(doc_38)\n",
    "bow_39 = model.id2word.doc2bow(doc_39)   \n",
    "bow_40 = model.id2word.doc2bow(doc_40)   \n",
    "bow_41 = model.id2word.doc2bow(doc_41)\n",
    "bow_42 = model.id2word.doc2bow(doc_42)\n",
    "\n",
    "bow_43 = model.id2word.doc2bow(doc_43)   \n",
    "bow_44 = model.id2word.doc2bow(doc_44)   \n",
    "bow_45 = model.id2word.doc2bow(doc_45)\n",
    "bow_46 = model.id2word.doc2bow(doc_46)   \n",
    "bow_47 = model.id2word.doc2bow(doc_47)   \n",
    "bow_48 = model.id2word.doc2bow(doc_48)\n",
    "bow_49 = model.id2word.doc2bow(doc_49)   \n",
    "\n",
    "bow_50 = model.id2word.doc2bow(doc_50)\n",
    "bow_51 = model.id2word.doc2bow(doc_51)\n",
    "\n",
    "# we can now get the LDA topic distributions for these\n",
    "lda_bow_36 = model[bow_36]\n",
    "lda_bow_37 = model[bow_37]\n",
    "lda_bow_38 = model[bow_38]\n",
    "lda_bow_39 = model[bow_39]\n",
    "lda_bow_40 = model[bow_40]\n",
    "lda_bow_41 = model[bow_41]\n",
    "lda_bow_42 = model[bow_42]\n",
    "\n",
    "lda_bow_43 = model[bow_43]\n",
    "lda_bow_44 = model[bow_44]\n",
    "lda_bow_45 = model[bow_45]\n",
    "lda_bow_46 = model[bow_46]\n",
    "lda_bow_47 = model[bow_47]\n",
    "lda_bow_48 = model[bow_48]\n",
    "lda_bow_49 = model[bow_49]\n",
    "\n",
    "lda_bow_50 = model[bow_50]\n",
    "lda_bow_51 = model[bow_51]\n",
    "\n",
    "lda_bows = [lda_bow_36, lda_bow_37, lda_bow_38,  lda_bow_39, lda_bow_40, lda_bow_41, lda_bow_42, lda_bow_43, lda_bow_44, lda_bow_45, lda_bow_46, lda_bow_47, lda_bow_48, lda_bow_49, lda_bow_50, lda_bow_51]\n"
   ]
  },
  {
   "cell_type": "code",
   "execution_count": 173,
   "metadata": {},
   "outputs": [],
   "source": [
    "from gensim.matutils import hellinger\n",
    "\n",
    "hellinger_master_scores = []\n",
    "\n",
    "for i in range(len(lda_bows) - 1):\n",
    "    mark = i + 1\n",
    "    if not (mark <= len(lda_bows)):\n",
    "        break\n",
    "    else:\n",
    "        score = hellinger(lda_bows[i], lda_bows[mark])\n",
    "        hellinger_master_scores.append(score)"
   ]
  },
  {
   "cell_type": "code",
   "execution_count": 174,
   "metadata": {},
   "outputs": [
    {
     "name": "stdout",
     "output_type": "stream",
     "text": [
      "[0.674886968058589, 0.3248230255363005, 0.4244080972824832, 0.4309400471522973, 0.3094425904398945, 0.34110448209037086, 0.32448572413227356, 0.39848736638862425, 0.33532650170495437, 0.23058983291246718, 0.4286170442218547, 0.29529020305369, 0.2689965800736421, 0.3791815660441394, 0.31355814030827195]\n"
     ]
    }
   ],
   "source": [
    "print(hellinger_master_scores)"
   ]
  },
  {
   "cell_type": "code",
   "execution_count": 181,
   "metadata": {},
   "outputs": [],
   "source": [
    "# weeks = [\"36-37\", \"37-38\", \"38-39\", \"39-40\", \"40-41\", \"41-42\", \"42-43\", \"43-44\", \"44-45\", \"45-46\", \"46-47\", \"47-48\", \"48-49\", \"49-50\", \"50-51\"]\n",
    "weeks = [\"36\", \"37\", \"38\", \"39\", \"40\", \"41\", \"42\", \"43\", \"44\", \"45\", \"46\", \"47\", \"48\", \"49\", \"50\"]"
   ]
  },
  {
   "cell_type": "code",
   "execution_count": 183,
   "metadata": {},
   "outputs": [
    {
     "name": "stderr",
     "output_type": "stream",
     "text": [
      "c:\\Users\\Ivory-UALR\\AppData\\Local\\Programs\\Python\\Python39\\lib\\site-packages\\seaborn\\_decorators.py:36: FutureWarning: Pass the following variables as keyword args: x, y. From version 0.12, the only valid positional argument will be `data`, and passing other arguments without an explicit keyword will result in an error or misinterpretation.\n",
      "  warnings.warn(\n",
      "2022-05-11 08:25:42,116 : INFO : Using categorical units to plot a list of strings that are all parsable as floats or dates. If these strings should be plotted as numbers, cast to the appropriate data type before plotting.\n",
      "2022-05-11 08:25:42,123 : INFO : Using categorical units to plot a list of strings that are all parsable as floats or dates. If these strings should be plotted as numbers, cast to the appropriate data type before plotting.\n"
     ]
    },
    {
     "data": {
      "image/png": "[encoded data removed]",
      "text/plain": [
       "<Figure size 432x288 with 1 Axes>"
      ]
     },
     "metadata": {
      "needs_background": "light"
     },
     "output_type": "display_data"
    }
   ],
   "source": [
    "# Plot with Seaborn\n",
    "\n",
    "x = weeks\n",
    "y = hellinger_master_scores\n",
    "\n",
    "sns.lineplot(x, y)\n",
    "plt.show()"
   ]
  },
  {
   "cell_type": "markdown",
   "metadata": {},
   "source": [
    "#### Jensen Shannon Scores"
   ]
  },
  {
   "cell_type": "code",
   "execution_count": 202,
   "metadata": {},
   "outputs": [
    {
     "name": "stdout",
     "output_type": "stream",
     "text": [
      "0.05080354318352215\n"
     ]
    }
   ],
   "source": [
    "from gensim.matutils import kullback_leibler\n",
    "import math\n",
    "\n",
    "P = [0.36, 0.48, 0.16]\n",
    "Q = [0.30, 0.50, 0.20]\n",
    "\n",
    "def js_score(p, q):\n",
    "    # find m & z\n",
    "    m = [round(x + y, 2) for x, y in zip(p, q)]\n",
    "    z = [round(1/2 * i, 2) for i in m]\n",
    "    # find the kullback distance between p-z & q-z\n",
    "    kl_pz = round(kullback_leibler(p, z), 6)\n",
    "    kl_qz = round(kullback_leibler(q, z), 6)\n",
    "    # compute js_score\n",
    "    js_score = math.sqrt((kl_pz + kl_qz) / 2)\n",
    "    return js_score\n",
    "\n",
    "# print(kullback_leibler(lda_bow_36, lda_bow_37))\n",
    "# print(kullback_leibler(lda_bow_37, lda_bow_36))\n",
    "\n",
    "print(js_score(P, Q))"
   ]
  },
  {
   "cell_type": "markdown",
   "metadata": {},
   "source": [
    "#### Data (working with sub_corpus)"
   ]
  },
  {
   "cell_type": "code",
   "execution_count": null,
   "metadata": {},
   "outputs": [],
   "source": [
    "path = '..\\prob_dist (no_duplicates)\\corpus_docs'\n",
    "csv_files = glob.glob(path + \"\\*.csv\")\n",
    "\n",
    "df_list = (pd.read_csv(file) for file in csv_files)\n",
    "\n",
    "dataframes_list = []\n",
    "for file in range(len(csv_files)):\n",
    "    temp_df = pd.read_csv(csv_files[file])\n",
    "    dataframes_list.append(temp_df)\n",
    "    \n",
    "corpus_list = []\n",
    "for df in dataframes_list:\n",
    "     corpus_list.append([list(x) for x in df.fillna('').values])\n",
    "     \n",
    "corpus_list[0]"
   ]
  },
  {
   "cell_type": "code",
   "execution_count": 66,
   "metadata": {},
   "outputs": [],
   "source": [
    "corpus36, corpus37, corpus38, corpus39, corpus40, corpus41, corpus42, corpus43, corpus44, corpus45, corpus46, corpus47, corpus48, corpus49, corpus50, corpus51 = corpus_list[:]"
   ]
  },
  {
   "cell_type": "code",
   "execution_count": 71,
   "metadata": {},
   "outputs": [],
   "source": [
    "# print(corpus36)"
   ]
  },
  {
   "cell_type": "markdown",
   "metadata": {},
   "source": [
    "#### Build model with test corpus"
   ]
  },
  {
   "cell_type": "code",
   "execution_count": null,
   "metadata": {},
   "outputs": [],
   "source": [
    "dictionary = Dictionary(corpus36)\n",
    "\n",
    "corpus = [dictionary.doc2bow(text) for text in corpus36]\n",
    "\n",
    "np.random.seed(1) # setting random seed to get the same results each time.\n",
    "\n",
    "from gensim.models import ldamodel\n",
    "model = ldamodel.LdaModel(corpus, id2word=dictionary, num_topics=4, minimum_probability=1e-8)\n",
    "model.show_topics()"
   ]
  },
  {
   "cell_type": "code",
   "execution_count": 87,
   "metadata": {},
   "outputs": [],
   "source": [
    "doc_36 = corpus36[6]\n",
    "doc_37 = corpus37[3]\n",
    "doc_38 = corpus38[10]\n",
    "doc_39 = corpus39[6]\n",
    "doc_40 = corpus40[0]\n",
    "doc_41 = corpus41[0]\n",
    "doc_42 = corpus42[6]\n",
    "doc_43 = corpus43[10]\n",
    "doc_44 = corpus44[1]\n",
    "doc_45 = corpus45[6]\n",
    "doc_46 = corpus46[4]\n",
    "doc_47 = corpus47[1]\n",
    "doc_48 = corpus48[1]\n",
    "doc_49 = corpus49[2]\n",
    "doc_50 = corpus50[2]\n",
    "doc_51 = corpus51[2]\n",
    "\n",
    "\n",
    "# now let's make these into a bag of words format\n",
    "bow_36 = model.id2word.doc2bow(doc_36)   \n",
    "bow_37 = model.id2word.doc2bow(doc_37)   \n",
    "bow_38 = model.id2word.doc2bow(doc_38)\n",
    "bow_39 = model.id2word.doc2bow(doc_39)   \n",
    "bow_40 = model.id2word.doc2bow(doc_40)   \n",
    "bow_41 = model.id2word.doc2bow(doc_41)\n",
    "bow_42 = model.id2word.doc2bow(doc_42)\n",
    "\n",
    "bow_43 = model.id2word.doc2bow(doc_43)   \n",
    "bow_44 = model.id2word.doc2bow(doc_44)   \n",
    "bow_45 = model.id2word.doc2bow(doc_45)\n",
    "bow_46 = model.id2word.doc2bow(doc_46)   \n",
    "bow_47 = model.id2word.doc2bow(doc_47)   \n",
    "bow_48 = model.id2word.doc2bow(doc_48)\n",
    "bow_49 = model.id2word.doc2bow(doc_49)   \n",
    "\n",
    "bow_50 = model.id2word.doc2bow(doc_50)\n",
    "bow_51 = model.id2word.doc2bow(doc_51)\n",
    "\n",
    "# we can now get the LDA topic distributions for these\n",
    "lda_bow_36 = model[bow_36]\n",
    "lda_bow_37 = model[bow_37]\n",
    "lda_bow_38 = model[bow_38]\n",
    "lda_bow_39 = model[bow_39]\n",
    "lda_bow_40 = model[bow_40]\n",
    "lda_bow_41 = model[bow_41]\n",
    "lda_bow_42 = model[bow_42]\n",
    "\n",
    "lda_bow_43 = model[bow_43]\n",
    "lda_bow_44 = model[bow_44]\n",
    "lda_bow_45 = model[bow_45]\n",
    "lda_bow_46 = model[bow_46]\n",
    "lda_bow_47 = model[bow_47]\n",
    "lda_bow_48 = model[bow_48]\n",
    "lda_bow_49 = model[bow_49]\n",
    "\n",
    "lda_bow_50 = model[bow_50]\n",
    "lda_bow_51 = model[bow_51]\n",
    "\n",
    "lda_bows = [lda_bow_36, lda_bow_37, lda_bow_38,  lda_bow_39, lda_bow_40, lda_bow_41, lda_bow_42, lda_bow_43, lda_bow_44, lda_bow_45, lda_bow_46, lda_bow_47, lda_bow_48, lda_bow_49, lda_bow_50, lda_bow_51]\n"
   ]
  },
  {
   "cell_type": "markdown",
   "metadata": {},
   "source": [
    "#### Hellinger Scores"
   ]
  },
  {
   "cell_type": "code",
   "execution_count": 115,
   "metadata": {},
   "outputs": [],
   "source": [
    "from gensim.matutils import hellinger\n",
    "\n",
    "hellinger_scores = []\n",
    "\n",
    "for i in range(len(lda_bows) - 1):\n",
    "    mark = i + 1\n",
    "    if not (mark <= len(lda_bows)):\n",
    "        break\n",
    "    else:\n",
    "        score = hellinger(lda_bows[i], lda_bows[mark])\n",
    "        hellinger_scores.append(score)\n"
   ]
  },
  {
   "cell_type": "code",
   "execution_count": 127,
   "metadata": {},
   "outputs": [
    {
     "name": "stdout",
     "output_type": "stream",
     "text": [
      "[0.861059457666652, 0.17100518611724236, 0.009206210107935828, 0.15104428321619856, 0.012639754685429818, 0.012286967258340095, 0.15498063783269542, 0.1630842275184269, 0.024414554344562724, 0.16613962847955102, 0.1572626110690492, 0.12097366202482758, 0.1204732272897797, 0.24731762661219558, 0.019706270164351437]\n"
     ]
    }
   ],
   "source": [
    "print(hellinger_scores)"
   ]
  },
  {
   "cell_type": "code",
   "execution_count": 126,
   "metadata": {},
   "outputs": [],
   "source": [
    "# weeks = [\"36-37\", \"37-38\", \"38-39\", \"39-40\", \"40-41\", \"41-42\", \"42-43\", \"43-44\", \"44-45\", \"45-46\", \"46-47\", \"47-48\", \"48-49\", \"49-50\", \"50-51\"]\n",
    "weeks = [\"36\", \"37\", \"38\", \"39\", \"40\", \"41\", \"42\", \"43\", \"44\", \"45\", \"46\", \"47\", \"48\", \"49\", \"50\"]"
   ]
  },
  {
   "cell_type": "code",
   "execution_count": 125,
   "metadata": {},
   "outputs": [
    {
     "name": "stderr",
     "output_type": "stream",
     "text": [
      "2022-05-11 00:15:19,186 : INFO : Using categorical units to plot a list of strings that are all parsable as floats or dates. If these strings should be plotted as numbers, cast to the appropriate data type before plotting.\n",
      "2022-05-11 00:15:19,190 : INFO : Using categorical units to plot a list of strings that are all parsable as floats or dates. If these strings should be plotted as numbers, cast to the appropriate data type before plotting.\n"
     ]
    },
    {
     "data": {
      "image/png": "[encoded data removed]",
      "text/plain": [
       "<Figure size 432x288 with 1 Axes>"
      ]
     },
     "metadata": {
      "needs_background": "light"
     },
     "output_type": "display_data"
    },
    {
     "data": {
      "text/plain": [
       "<Figure size 216x216 with 0 Axes>"
      ]
     },
     "metadata": {},
     "output_type": "display_data"
    }
   ],
   "source": [
    "plt.plot(weeks, hellinger_scores)\n",
    "plt.figure(figsize=(3, 3))\n",
    "plt.show()"
   ]
  },
  {
   "cell_type": "code",
   "execution_count": null,
   "metadata": {},
   "outputs": [],
   "source": []
  }
 ],
 "metadata": {
  "interpreter": {
   "hash": "e8e5deac7477f8906d41e5c6e61616e3ac62f0bc4d33889d141d235aa45f3e1f"
  },
  "kernelspec": {
   "display_name": "Python 3.9.0 64-bit",
   "language": "python",
   "name": "python3"
  },
  "language_info": {
   "codemirror_mode": {
    "name": "ipython",
    "version": 3
   },
   "file_extension": ".py",
   "mimetype": "text/x-python",
   "name": "python",
   "nbconvert_exporter": "python",
   "pygments_lexer": "ipython3",
   "version": "3.9.0"
  },
  "orig_nbformat": 4
 },
 "nbformat": 4,
 "nbformat_minor": 2
}
