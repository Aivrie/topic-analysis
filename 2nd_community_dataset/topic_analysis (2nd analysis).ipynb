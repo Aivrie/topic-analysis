{
 "cells": [
  {
   "cell_type": "markdown",
   "id": "7ca0515e",
   "metadata": {},
   "source": [
    "### Topic Analysis using LDA Topic Model (Community Dataset #2: 15/12/2020 - 31/01/2021)"
   ]
  },
  {
   "cell_type": "markdown",
   "id": "d4ccec72",
   "metadata": {},
   "source": [
    "#### Import core libraries"
   ]
  },
  {
   "cell_type": "code",
   "execution_count": 1,
   "id": "6b227340",
   "metadata": {},
   "outputs": [
    {
     "name": "stderr",
     "output_type": "stream",
     "text": [
      "Since the GPL-licensed package `unidecode` is not installed, using Python's `unicodedata` package which yields worse results.\n",
      "[nltk_data] Downloading package stopwords to C:\\Users\\Ivory-\n",
      "[nltk_data]     UALR\\AppData\\Roaming\\nltk_data...\n",
      "[nltk_data]   Package stopwords is already up-to-date!\n"
     ]
    }
   ],
   "source": [
    "# Import Core library\n",
    "import sys\n",
    "import re, numpy as np, pandas as pd, matplotlib.pyplot as plt, nltk, datetime as dt, seaborn as sns\n",
    "import emoji\n",
    "import little_mallet_wrapper\n",
    "import plotly.express as px\n",
    "import wordcloud\n",
    "import openpyxl\n",
    "from pprint import pprint\n",
    "from cleantext import clean\n",
    "\n",
    "# Gensim\n",
    "import gensim\n",
    "import gensim.corpora as corpora\n",
    "from gensim.utils import simple_preprocess\n",
    "from gensim.models import CoherenceModel\n",
    "\n",
    "# spacy for lemmatization\n",
    "import spacy\n",
    "\n",
    "# Plotting tools\n",
    "import pyLDAvis\n",
    "import pyLDAvis.gensim_models  # don't skip this\n",
    "import matplotlib.pyplot as plt\n",
    "\n",
    "# NLTK Stop words\n",
    "from nltk.corpus import stopwords\n",
    "nltk.download('stopwords')\n",
    "stop_words = stopwords.words('english')"
   ]
  },
  {
   "cell_type": "markdown",
   "id": "c3049ccc",
   "metadata": {},
   "source": [
    "#### Import Dataset"
   ]
  },
  {
   "cell_type": "code",
   "execution_count": 2,
   "id": "2d753a7a",
   "metadata": {},
   "outputs": [],
   "source": [
    "# Import Dataset\n",
    "df = pd.read_excel('../Community306_raw.xlsx')"
   ]
  },
  {
   "cell_type": "code",
   "execution_count": null,
   "id": "11c18524",
   "metadata": {},
   "outputs": [],
   "source": [
    "# view column titles of dataset\n",
    "df.columns"
   ]
  },
  {
   "cell_type": "code",
   "execution_count": 3,
   "id": "6f46b5d6",
   "metadata": {},
   "outputs": [],
   "source": [
    "df['create_year'] = pd.to_datetime(df.created_at, format='%d/%m/%Y', errors='coerce')\n",
    "df['year'] = pd.to_datetime(df.created_at).dt.strftime('%Y')\n",
    "df['month'] = pd.to_datetime(df.created_at).dt.strftime('%m')\n",
    "\n",
    "start_date = \"12/15/2020\"\n",
    "end_date = \"01/31/2021\"\n",
    "after_start_date = df['create_year'] > start_date\n",
    "before_end_date = df['create_year'] < end_date\n",
    "between_two_dates = after_start_date & before_end_date\n",
    "\n",
    "stream_two = df.loc[between_two_dates]"
   ]
  },
  {
   "cell_type": "code",
   "execution_count": 9,
   "id": "50b6be01",
   "metadata": {},
   "outputs": [],
   "source": [
    "# stream_two.to_excel(r\"C:\\Users\\Ivory-UALR\\Documents\\COSMOS\\Billy's Project\\community_topic_model\\2nd_community_dataset\\2nd_analysis_LDAmodel\\stream_two.xlsx\")"
   ]
  },
  {
   "cell_type": "code",
   "execution_count": 6,
   "id": "be8c17f8",
   "metadata": {},
   "outputs": [
    {
     "data": {
      "text/html": [
       "<div>\n",
       "<style scoped>\n",
       "    .dataframe tbody tr th:only-of-type {\n",
       "        vertical-align: middle;\n",
       "    }\n",
       "\n",
       "    .dataframe tbody tr th {\n",
       "        vertical-align: top;\n",
       "    }\n",
       "\n",
       "    .dataframe thead th {\n",
       "        text-align: right;\n",
       "    }\n",
       "</style>\n",
       "<table border=\"1\" class=\"dataframe\">\n",
       "  <thead>\n",
       "    <tr style=\"text-align: right;\">\n",
       "      <th></th>\n",
       "      <th>Unnamed: 0</th>\n",
       "      <th>id</th>\n",
       "      <th>source_id</th>\n",
       "      <th>created_at</th>\n",
       "      <th>geo_source</th>\n",
       "      <th>truncated</th>\n",
       "      <th>text</th>\n",
       "      <th>text_sentiment</th>\n",
       "      <th>text_toxicity</th>\n",
       "      <th>lang</th>\n",
       "      <th>...</th>\n",
       "      <th>in_reply_to_status_id_str</th>\n",
       "      <th>in_reply_to_user_id_str</th>\n",
       "      <th>in_reply_to_screen_name</th>\n",
       "      <th>entities</th>\n",
       "      <th>possibly_sensitive</th>\n",
       "      <th>coordinates</th>\n",
       "      <th>place</th>\n",
       "      <th>create_year</th>\n",
       "      <th>year</th>\n",
       "      <th>month</th>\n",
       "    </tr>\n",
       "  </thead>\n",
       "  <tbody>\n",
       "    <tr>\n",
       "      <th>0</th>\n",
       "      <td>1</td>\n",
       "      <td>1.346170e+18</td>\n",
       "      <td>18</td>\n",
       "      <td>2021-01-04 19:01:23</td>\n",
       "      <td>1</td>\n",
       "      <td>0</td>\n",
       "      <td>@HHere4trump @sbacon0410 #stopthesteal #stopth...</td>\n",
       "      <td>None</td>\n",
       "      <td>None</td>\n",
       "      <td>und</td>\n",
       "      <td>...</td>\n",
       "      <td>1346156649287987201</td>\n",
       "      <td>None</td>\n",
       "      <td>None</td>\n",
       "      <td>{\"entities\": {\"hashtags\": [{\"end\": 38, \"tag\": ...</td>\n",
       "      <td>0</td>\n",
       "      <td>None</td>\n",
       "      <td>None</td>\n",
       "      <td>2021-01-04 19:01:23</td>\n",
       "      <td>2021</td>\n",
       "      <td>01</td>\n",
       "    </tr>\n",
       "    <tr>\n",
       "      <th>1</th>\n",
       "      <td>3</td>\n",
       "      <td>1.345954e+18</td>\n",
       "      <td>18</td>\n",
       "      <td>2021-01-04 04:45:23</td>\n",
       "      <td>None</td>\n",
       "      <td>0</td>\n",
       "      <td>@RudyGiuliani @CaliConserv1 #StoptheSteal #Sto...</td>\n",
       "      <td>None</td>\n",
       "      <td>None</td>\n",
       "      <td>und</td>\n",
       "      <td>...</td>\n",
       "      <td>1345924505483546624</td>\n",
       "      <td>None</td>\n",
       "      <td>None</td>\n",
       "      <td>{\"entities\": {\"hashtags\": [{\"end\": 41, \"tag\": ...</td>\n",
       "      <td>0</td>\n",
       "      <td>None</td>\n",
       "      <td>None</td>\n",
       "      <td>2021-01-04 04:45:23</td>\n",
       "      <td>2021</td>\n",
       "      <td>01</td>\n",
       "    </tr>\n",
       "    <tr>\n",
       "      <th>2</th>\n",
       "      <td>4</td>\n",
       "      <td>1.345954e+18</td>\n",
       "      <td>18</td>\n",
       "      <td>2021-01-04 04:45:13</td>\n",
       "      <td>None</td>\n",
       "      <td>0</td>\n",
       "      <td>#StoptheSteal #StoptheSteal #StoptheSteal #Sto...</td>\n",
       "      <td>None</td>\n",
       "      <td>None</td>\n",
       "      <td>und</td>\n",
       "      <td>...</td>\n",
       "      <td>None</td>\n",
       "      <td>None</td>\n",
       "      <td>None</td>\n",
       "      <td>{\"entities\": {\"urls\": [{\"end\": 303, \"url\": \"ht...</td>\n",
       "      <td>0</td>\n",
       "      <td>None</td>\n",
       "      <td>None</td>\n",
       "      <td>2021-01-04 04:45:13</td>\n",
       "      <td>2021</td>\n",
       "      <td>01</td>\n",
       "    </tr>\n",
       "    <tr>\n",
       "      <th>3</th>\n",
       "      <td>5</td>\n",
       "      <td>1.345952e+18</td>\n",
       "      <td>18</td>\n",
       "      <td>2021-01-04 04:34:34</td>\n",
       "      <td>None</td>\n",
       "      <td>0</td>\n",
       "      <td>#StoptheSteal #StoptheSteal #StoptheSteal #Sto...</td>\n",
       "      <td>None</td>\n",
       "      <td>None</td>\n",
       "      <td>und</td>\n",
       "      <td>...</td>\n",
       "      <td>None</td>\n",
       "      <td>None</td>\n",
       "      <td>None</td>\n",
       "      <td>{\"entities\": {\"urls\": [{\"end\": 303, \"url\": \"ht...</td>\n",
       "      <td>0</td>\n",
       "      <td>None</td>\n",
       "      <td>None</td>\n",
       "      <td>2021-01-04 04:34:34</td>\n",
       "      <td>2021</td>\n",
       "      <td>01</td>\n",
       "    </tr>\n",
       "    <tr>\n",
       "      <th>4</th>\n",
       "      <td>6</td>\n",
       "      <td>1.345825e+18</td>\n",
       "      <td>18</td>\n",
       "      <td>2021-01-03 20:12:15</td>\n",
       "      <td>None</td>\n",
       "      <td>0</td>\n",
       "      <td>@realDonaldTrump @4Libertyinlaw #StoptheSteal ...</td>\n",
       "      <td>None</td>\n",
       "      <td>None</td>\n",
       "      <td>und</td>\n",
       "      <td>...</td>\n",
       "      <td>1345798202650460162</td>\n",
       "      <td>None</td>\n",
       "      <td>None</td>\n",
       "      <td>{\"entities\": {\"hashtags\": [{\"end\": 45, \"tag\": ...</td>\n",
       "      <td>0</td>\n",
       "      <td>None</td>\n",
       "      <td>None</td>\n",
       "      <td>2021-01-03 20:12:15</td>\n",
       "      <td>2021</td>\n",
       "      <td>01</td>\n",
       "    </tr>\n",
       "  </tbody>\n",
       "</table>\n",
       "<p>5 rows × 29 columns</p>\n",
       "</div>"
      ],
      "text/plain": [
       "   Unnamed: 0            id  source_id          created_at geo_source  \\\n",
       "0           1  1.346170e+18         18 2021-01-04 19:01:23          1   \n",
       "1           3  1.345954e+18         18 2021-01-04 04:45:23       None   \n",
       "2           4  1.345954e+18         18 2021-01-04 04:45:13       None   \n",
       "3           5  1.345952e+18         18 2021-01-04 04:34:34       None   \n",
       "4           6  1.345825e+18         18 2021-01-03 20:12:15       None   \n",
       "\n",
       "   truncated                                               text  \\\n",
       "0          0  @HHere4trump @sbacon0410 #stopthesteal #stopth...   \n",
       "1          0  @RudyGiuliani @CaliConserv1 #StoptheSteal #Sto...   \n",
       "2          0  #StoptheSteal #StoptheSteal #StoptheSteal #Sto...   \n",
       "3          0  #StoptheSteal #StoptheSteal #StoptheSteal #Sto...   \n",
       "4          0  @realDonaldTrump @4Libertyinlaw #StoptheSteal ...   \n",
       "\n",
       "  text_sentiment text_toxicity lang  ...  in_reply_to_status_id_str  \\\n",
       "0           None          None  und  ...        1346156649287987201   \n",
       "1           None          None  und  ...        1345924505483546624   \n",
       "2           None          None  und  ...                       None   \n",
       "3           None          None  und  ...                       None   \n",
       "4           None          None  und  ...        1345798202650460162   \n",
       "\n",
       "   in_reply_to_user_id_str  in_reply_to_screen_name  \\\n",
       "0                     None                     None   \n",
       "1                     None                     None   \n",
       "2                     None                     None   \n",
       "3                     None                     None   \n",
       "4                     None                     None   \n",
       "\n",
       "                                            entities  possibly_sensitive  \\\n",
       "0  {\"entities\": {\"hashtags\": [{\"end\": 38, \"tag\": ...                   0   \n",
       "1  {\"entities\": {\"hashtags\": [{\"end\": 41, \"tag\": ...                   0   \n",
       "2  {\"entities\": {\"urls\": [{\"end\": 303, \"url\": \"ht...                   0   \n",
       "3  {\"entities\": {\"urls\": [{\"end\": 303, \"url\": \"ht...                   0   \n",
       "4  {\"entities\": {\"hashtags\": [{\"end\": 45, \"tag\": ...                   0   \n",
       "\n",
       "   coordinates place         create_year  year month  \n",
       "0         None  None 2021-01-04 19:01:23  2021    01  \n",
       "1         None  None 2021-01-04 04:45:23  2021    01  \n",
       "2         None  None 2021-01-04 04:45:13  2021    01  \n",
       "3         None  None 2021-01-04 04:34:34  2021    01  \n",
       "4         None  None 2021-01-03 20:12:15  2021    01  \n",
       "\n",
       "[5 rows x 29 columns]"
      ]
     },
     "execution_count": 6,
     "metadata": {},
     "output_type": "execute_result"
    }
   ],
   "source": [
    "stream_two.head()"
   ]
  },
  {
   "cell_type": "markdown",
   "id": "dbcdf26f",
   "metadata": {},
   "source": [
    "#### Process Dataset"
   ]
  },
  {
   "cell_type": "code",
   "execution_count": 7,
   "id": "4427085e",
   "metadata": {},
   "outputs": [
    {
     "name": "stderr",
     "output_type": "stream",
     "text": [
      "<>:30: DeprecationWarning: invalid escape sequence \\s\n",
      "<>:30: DeprecationWarning: invalid escape sequence \\s\n",
      "C:\\Users\\IVORY-~1\\AppData\\Local\\Temp/ipykernel_25264/758640023.py:30: DeprecationWarning: invalid escape sequence \\s\n",
      "  word=re.sub('(RT\\s@[A-Za-z]+[A-Za-z0-9-_]+)', \"\", word)  # remove retweet\n"
     ]
    }
   ],
   "source": [
    "# Function to remove twitter specific characters\n",
    "def get_url_patern():\n",
    "    return re.compile(\n",
    "        r'(https?:\\/\\/(?:www\\.|(?!www))[a-zA-Z0-9][a-zA-Z0-9-]+[a-zA-Z0-9]\\.[^\\s]{2,}|https?:\\/\\/(?:www\\.|(?!www))'\n",
    "        r'[a-zA-Z0-9]\\.[^\\s]{2,}|www\\.[a-zA-Z0-9]\\.[^\\s]{2,})')\n",
    "\n",
    "def get_hashtags_pattern():\n",
    "    return re.compile(r'#\\w*')\n",
    "\n",
    "def get_single_letter_words_pattern():\n",
    "    return re.compile(r'(?<![\\w\\-])\\w(?![\\w\\-])')\n",
    "\n",
    "def get_blank_spaces_pattern():\n",
    "    return re.compile(r'\\s{2,}|\\t')\n",
    "\n",
    "def get_twitter_reserved_words_pattern():\n",
    "    return re.compile(r'(RT|rt|FAV|fav|VIA|via)')\n",
    "\n",
    "def get_mentions_pattern():\n",
    "    return re.compile(r'@\\w*')\n",
    "\n",
    "def process_text(word):\n",
    "  word=re.sub(pattern=get_url_patern(), repl=\"\", string=word)\n",
    "  word=re.sub(pattern=get_mentions_pattern(), repl=\"\", string=word)\n",
    "  word=re.sub(pattern=get_hashtags_pattern(), repl=\"\", string=word)\n",
    "  word=re.sub(pattern=get_twitter_reserved_words_pattern(), repl='', string=word)\n",
    "  word=re.sub(r'http\\S+', \"\", word)  # remove http links\n",
    "  word=re.sub(r'bit.ly/\\S+', \"\", word)  # rempve bitly links\n",
    "  word=word.strip('[link]')  # remove [links]\n",
    "  word=re.sub('(RT\\s@[A-Za-z]+[A-Za-z0-9-_]+)', \"\", word)  # remove retweet\n",
    "  word=re.sub('(@[A-Za-z]+[A-Za-z0-9-_]+)', \"\", word)  # remove tweeted at\n",
    "  word=word.encode('ascii', 'ignore').decode('ascii')\n",
    "#   word=clean(word, no_emoji=True)\n",
    "  return word"
   ]
  },
  {
   "cell_type": "code",
   "execution_count": 15,
   "id": "e40e8144",
   "metadata": {},
   "outputs": [
    {
     "name": "stderr",
     "output_type": "stream",
     "text": [
      "c:\\Users\\Ivory-UALR\\AppData\\Local\\Programs\\Python\\Python39\\lib\\site-packages\\pandas\\core\\generic.py:5516: SettingWithCopyWarning: \n",
      "A value is trying to be set on a copy of a slice from a DataFrame.\n",
      "Try using .loc[row_indexer,col_indexer] = value instead\n",
      "\n",
      "See the caveats in the documentation: https://pandas.pydata.org/pandas-docs/stable/user_guide/indexing.html#returning-a-view-versus-a-copy\n",
      "  self[name] = value\n"
     ]
    }
   ],
   "source": [
    "# Remove twitter specific characters\n",
    "stream_two.text = stream_two.apply(lambda row: process_text(row.text), 1)"
   ]
  },
  {
   "cell_type": "code",
   "execution_count": 18,
   "id": "37959087",
   "metadata": {},
   "outputs": [
    {
     "data": {
      "text/plain": [
       "['', '', '', '', '']"
      ]
     },
     "execution_count": 18,
     "metadata": {},
     "output_type": "execute_result"
    }
   ],
   "source": [
    "# Remove punctuations, stop words, digits and turn text to lowercase\n",
    "training_data = [little_mallet_wrapper.process_string(text, numbers='remove') for text in stream_two.text]\n",
    "data = training_data\n",
    "data[:5]"
   ]
  },
  {
   "cell_type": "code",
   "execution_count": 19,
   "id": "583d8fab",
   "metadata": {},
   "outputs": [
    {
     "name": "stdout",
     "output_type": "stream",
     "text": [
      "[[], [], [], [], [], [], [], [], [], [], [], [], [], [], [], [], [], ['dem', 'stop', 'screaming'], ['fail', 'mention'], ['stay', 'away', 'wed', 'jan', 'let', 'trump', 'brownshis', 'violent', 'protest', 'thing', 'alone']]\n"
     ]
    }
   ],
   "source": [
    "def sent_to_words(sentences):\n",
    "    for sentence in sentences:\n",
    "        yield(gensim.utils.simple_preprocess(str(sentence), deacc=True))  # deacc=True removes punctuations\n",
    "\n",
    "data_words = list(sent_to_words(data))\n",
    "\n",
    "print(data_words[:20])"
   ]
  },
  {
   "cell_type": "markdown",
   "id": "983bccfe",
   "metadata": {},
   "source": [
    "#### N-grams & Lemmatization"
   ]
  },
  {
   "cell_type": "code",
   "execution_count": 20,
   "id": "d11c1965",
   "metadata": {},
   "outputs": [
    {
     "name": "stdout",
     "output_type": "stream",
     "text": [
      "[]\n"
     ]
    }
   ],
   "source": [
    "# Build the bigram and trigram models\n",
    "bigram = gensim.models.Phrases(data_words, min_count=5, threshold=100) # higher threshold fewer phrases.\n",
    "trigram = gensim.models.Phrases(bigram[data_words], threshold=100)  \n",
    "\n",
    "# Faster way to get a sentence clubbed as a trigram/bigram\n",
    "bigram_mod = gensim.models.phrases.Phraser(bigram)\n",
    "trigram_mod = gensim.models.phrases.Phraser(trigram)\n",
    "\n",
    "# See trigram example\n",
    "print(trigram_mod[bigram_mod[data_words[0]]])"
   ]
  },
  {
   "cell_type": "code",
   "execution_count": 21,
   "id": "8ca30257",
   "metadata": {},
   "outputs": [],
   "source": [
    "# Define functions for stopwords, bigrams, trigrams and lemmatization\n",
    "def remove_stopwords(texts):\n",
    "    return [[word for word in simple_preprocess(str(doc)) if word not in stop_words] for doc in texts]\n",
    "\n",
    "def make_bigrams(texts):\n",
    "    return [bigram_mod[doc] for doc in texts]\n",
    "\n",
    "def make_trigrams(texts):\n",
    "    return [trigram_mod[bigram_mod[doc]] for doc in texts]\n",
    "\n",
    "def lemmatization(texts, allowed_postags=['NOUN', 'ADJ', 'VERB', 'ADV']):\n",
    "    \"\"\"https://spacy.io/api/annotation\"\"\"\n",
    "    texts_out = []\n",
    "    for sent in texts:\n",
    "        doc = nlp(\" \".join(sent)) \n",
    "        texts_out.append([token.lemma_ for token in doc if token.pos_ in allowed_postags])\n",
    "    return texts_out"
   ]
  },
  {
   "cell_type": "code",
   "execution_count": 22,
   "id": "72d61a99",
   "metadata": {},
   "outputs": [
    {
     "name": "stdout",
     "output_type": "stream",
     "text": [
      "[[]]\n"
     ]
    }
   ],
   "source": [
    "# Remove Stop Words\n",
    "data_words_nostops = remove_stopwords(data_words)\n",
    "\n",
    "# Form Bigrams\n",
    "data_words_bigrams = make_bigrams(data_words_nostops)\n",
    "\n",
    "# Initialize spacy 'en' model, keeping only tagger component (for efficiency)\n",
    "# python3 -m spacy download en\n",
    "nlp = spacy.load('en_core_web_sm', disable=['parser', 'ner'])\n",
    "nlp.max_length = 40000000\n",
    "\n",
    "# Do lemmatization keeping only noun, adj, vb, adv\n",
    "data_lemmatized = lemmatization(data_words_bigrams, allowed_postags=['NOUN', 'ADJ', 'VERB', 'ADV'])\n",
    "\n",
    "print(data_lemmatized[:1])"
   ]
  },
  {
   "cell_type": "code",
   "execution_count": 23,
   "id": "1bb4d34b",
   "metadata": {},
   "outputs": [],
   "source": [
    "# Export lemmatized data for document similarity evaluation\n",
    "corpus_df = pd.DataFrame(data_lemmatized)\n",
    "corpus_df.to_csv('master_corpus(51-04)_duplicate.csv', index=False, header=False)"
   ]
  },
  {
   "cell_type": "code",
   "execution_count": 19,
   "id": "f6cd67da",
   "metadata": {},
   "outputs": [
    {
     "name": "stdout",
     "output_type": "stream",
     "text": [
      "[[], [], [], [], [], [], [], [], [], [], [], [], [], [], [], [], [], [(0, 1), (1, 1)], [(2, 1), (3, 1)], [(4, 1), (5, 1), (6, 1), (7, 1), (8, 1), (9, 1), (10, 1), (11, 1)]]\n"
     ]
    }
   ],
   "source": [
    "# Create Dictionary\n",
    "id2word = corpora.Dictionary(data_lemmatized)\n",
    "\n",
    "# Create Corpus\n",
    "texts = data_lemmatized\n",
    "\n",
    "# Term Document Frequency\n",
    "corpus = [id2word.doc2bow(text) for text in texts]\n",
    "\n",
    "# View\n",
    "print(corpus[:20])"
   ]
  },
  {
   "cell_type": "markdown",
   "id": "01bd0570",
   "metadata": {},
   "source": [
    "#### Building the LDA Model"
   ]
  },
  {
   "cell_type": "code",
   "execution_count": 20,
   "id": "cc2d34ff",
   "metadata": {},
   "outputs": [],
   "source": [
    "# Build LDA model\n",
    "lda_model = gensim.models.ldamodel.LdaModel(corpus=corpus,\n",
    "                                           id2word=id2word,\n",
    "                                           num_topics=9, \n",
    "                                           random_state=100,\n",
    "                                           update_every=1,\n",
    "                                           chunksize=100,\n",
    "                                           passes=10,\n",
    "                                           alpha='auto',\n",
    "                                           per_word_topics=True)"
   ]
  },
  {
   "cell_type": "code",
   "execution_count": 21,
   "id": "448e924b",
   "metadata": {},
   "outputs": [],
   "source": [
    "# def compute_coherence_values(dictionary, corpus, texts, limit, start=2, step=3):\n",
    "#     \"\"\"\n",
    "#     Compute c_v coherence for various number of topics\n",
    "\n",
    "#     Parameters:\n",
    "#     ----------\n",
    "#     dictionary : Gensim dictionary\n",
    "#     corpus : Gensim corpus\n",
    "#     texts : List of input texts\n",
    "#     limit : Max num of topics\n",
    "\n",
    "#     Returns:\n",
    "#     -------\n",
    "#     model_list : List of LDA topic models\n",
    "#     coherence_values : Coherence values corresponding to the LDA model with respective number of topics\n",
    "#     \"\"\"\n",
    "#     coherence_values = []\n",
    "#     model_list = []\n",
    "#     for num_topics in range(start, limit, step):\n",
    "#         model = gensim.models.ldamodel.LdaModel(corpus=corpus, num_topics=num_topics, id2word=id2word)\n",
    "#         model_list.append(model)\n",
    "#         coherencemodel = CoherenceModel(model=model, texts=texts, dictionary=dictionary, coherence='c_v')\n",
    "#         coherence_values.append(coherencemodel.get_coherence())\n",
    "\n",
    "#     return model_list, coherence_values\n",
    "\n",
    "# model_list, coherence_values = compute_coherence_values(dictionary=id2word, corpus=corpus, texts=texts, start=2, limit=40, step=2)\n",
    "\n",
    "# # Show graph\n",
    "# limit=40; start=2; step=2;\n",
    "# x = range(start, limit, step)\n",
    "# plt.plot(x, coherence_values)\n",
    "# plt.xlabel(\"Num Topics\")\n",
    "# plt.ylabel(\"Coherence score\")\n",
    "# plt.legend((\"coherence_values\"), loc='best')\n",
    "# plt.show()"
   ]
  },
  {
   "cell_type": "code",
   "execution_count": 22,
   "id": "e69bfd35",
   "metadata": {},
   "outputs": [],
   "source": [
    "# Print the coherence scores\n",
    "# for m, cv in zip(x, coherence_values):\n",
    "#     print(\"Num Topics =\", m, \" has Coherence Value of\", round(cv, 4))\n",
    "    \n",
    "# From the pyLDAvis visualization, the optimal number of topics is 6"
   ]
  },
  {
   "cell_type": "markdown",
   "id": "84dbb1b1",
   "metadata": {},
   "source": [
    "#### Visualize Topic Distribution & Keywords"
   ]
  },
  {
   "cell_type": "code",
   "execution_count": 23,
   "id": "27bb2b46",
   "metadata": {},
   "outputs": [],
   "source": [
    "topic_dist = pd.DataFrame()\n",
    "\n",
    "# Code to view the Ist 10 keywords per topic\n",
    "for index, topic in lda_model.show_topics(formatted=False, num_words= 10):\n",
    "    words = [w[0] for w in topic]\n",
    "    topic_distributions_df = [\"\".join(topic[:4]) for topic in words]\n",
    "    topic_dist = topic_dist.append(pd.Series([index, words]), ignore_index=True)\n",
    "    \n",
    "    # print('Topic: {} \\nWords: {}'.format(index, words))\n",
    "    # print(topic_distributions_df)\n",
    "    \n",
    "topic_dist.columns = ['Topic_Number', 'Topic_Words']\n",
    "topic_dist\n",
    "\n",
    "# Export topic word distribution per topic to excel file\n",
    "topic_dist.to_excel(r\"C:\\Users\\Ivory-UALR\\Documents\\COSMOS\\Billy's Project\\community_topic_model\\2nd_community_dataset\\2nd_analysis_LDAmodel\\2nd_analysis_LDA_topic_words.xlsx\", index=False, header=True)"
   ]
  },
  {
   "cell_type": "code",
   "execution_count": 24,
   "id": "b2067926",
   "metadata": {},
   "outputs": [
    {
     "name": "stderr",
     "output_type": "stream",
     "text": [
      "C:\\Users\\Ivory-UALR\\AppData\\Local\\Programs\\Python\\Python39\\lib\\site-packages\\pyLDAvis\\_prepare.py:246: FutureWarning: In a future version of pandas all arguments of DataFrame.drop except for the argument 'labels' will be keyword-only\n",
      "  default_term_info = default_term_info.sort_values(\n"
     ]
    },
    {
     "data": {
      "text/html": [
       "\n",
       "<link rel=\"stylesheet\" type=\"text/css\" href=\"https://cdn.jsdelivr.net/gh/bmabey/pyLDAvis@3.3.1/pyLDAvis/js/ldavis.v1.0.0.css\">\n",
       "\n",
       "\n",
       "<div id=\"ldavis_el1685218918306909766070915380\"></div>\n",
       "<script type=\"text/javascript\">\n",
       "\n",
       "var ldavis_el1685218918306909766070915380_data = {\"mdsDat\": {\"x\": [-0.08011821255420053, -0.15905163541667308, -0.18531829391198237, -0.2096314999420489, -0.09361940363162241, 0.14583043462834516, 0.1653673794648477, 0.21225510668789363, 0.20428612467544088], \"y\": [0.010852818590046118, -0.3321382370177357, 0.22634071213187082, 0.19117966395555916, -0.170472822917413, 0.021241772778340814, 0.0006117781691518114, 0.025714110335201525, 0.026670203974978077], \"topics\": [1, 2, 3, 4, 5, 6, 7, 8, 9], \"cluster\": [1, 1, 1, 1, 1, 1, 1, 1, 1], \"Freq\": [20.91544948661209, 18.08599735090463, 18.018713959355825, 15.648651731065044, 14.265830020021998, 5.272340864364685, 4.641516675150202, 1.9136575559468054, 1.237842356578719]}, \"tinfo\": {\"Term\": [\"stand\", \"election\", \"vote\", \"take\", \"elector\", \"biden\", \"trump\", \"right\", \"president\", \"ceify_invalid\", \"statement_congressman\", \"people\", \"steal\", \"protect_integrity\", \"never\", \"count\", \"ele\", \"rally\", \"suppo\", \"fraud\", \"accept\", \"make\", \"patriot\", \"get\", \"legitimate\", \"show\", \"fight\", \"thank\", \"let\", \"give\", \"never\", \"count\", \"patriot\", \"get\", \"thank\", \"need\", \"see\", \"say\", \"already\", \"win\", \"come\", \"year\", \"country\", \"result\", \"happen\", \"think\", \"bad\", \"work\", \"lose\", \"traitor\", \"story\", \"believe\", \"still\", \"love\", \"ever\", \"fake\", \"machine\", \"bring\", \"legislature\", \"justice\", \"bet_last\", \"stand\", \"election\", \"protect_integrity\", \"fraud\", \"legitimate\", \"know\", \"voter\", \"pay\", \"big\", \"wake\", \"object\", \"evidence\", \"demand\", \"truth\", \"fair\", \"well\", \"testify\", \"runoff\", \"refuse\", \"world\", \"true\", \"tell\", \"address\", \"constitutional\", \"mean\", \"dem\", \"dominion\", \"money\", \"rig\", \"future\", \"ele\", \"biden\", \"right\", \"accept\", \"time\", \"go\", \"senator\", \"way\", \"call\", \"help\", \"even\", \"action\", \"freedom\", \"lawmaker\", \"history\", \"agree\", \"good\", \"great\", \"try\", \"keep\", \"republican\", \"donate\", \"slate\", \"day\", \"cheat\", \"meet\", \"lie\", \"join\", \"allow\", \"leave\", \"much\", \"statement_congressman\", \"ceify_invalid\", \"elector\", \"people\", \"suppo\", \"fight\", \"state\", \"want\", \"watch\", \"back\", \"video\", \"suppoer\", \"ballot\", \"urge\", \"hear\", \"many\", \"live\", \"pre\", \"republic\", \"law\", \"enough\", \"hope\", \"break\", \"reason\", \"judge\", \"official\", \"integrity\", \"leader\", \"list\", \"post\", \"cou\", \"contest\", \"ceify_invalid\", \"statement_congressman\", \"vote\", \"take\", \"president\", \"steal\", \"make\", \"stop\", \"american\", \"follow\", \"first\", \"fraudulent\", \"look\", \"new_year\", \"find\", \"electoral\", \"use\", \"nation\", \"protect\", \"power\", \"million\", \"constitution\", \"really\", \"next\", \"scream\", \"save\", \"long\", \"electoral_college\", \"send\", \"citizen\", \"remember\", \"democracy\", \"rally\", \"show\", \"give\", \"real\", \"office\", \"corruption\", \"matter\", \"care\", \"covid\", \"team\", \"tonight\", \"speak\", \"arrest\", \"problem\", \"face\", \"continue\", \"information\", \"attack\", \"yesterday\", \"block\", \"declare\", \"attempt\", \"oath\", \"death\", \"hit\", \"imagine\", \"announce\", \"shame\", \"thread\", \"anti\", \"davis_singe\", \"jan_henry\", \"song_let\", \"founder_jim\", \"announcement_speake\", \"gateway_pundit\", \"dining_increase\", \"hotel_price\", \"trump\", \"let\", \"thing\", \"rudy_giuliani\", \"do\", \"system\", \"surprise\", \"repeat\", \"protest\", \"turn\", \"expose\", \"question\", \"stay\", \"away\", \"number\", \"january\", \"simply\", \"shit\", \"duty\", \"learn\", \"rest\", \"single\", \"strong\", \"easy\", \"check\", \"front_supreme\", \"hotel\", \"alone\", \"group\", \"register\", \"illegitimate_wisconsin\", \"integrity_standard\", \"turning_rulingjudge\", \"usual_suspect\", \"corrupt\", \"fail\", \"game\", \"top\", \"headline\", \"entire\", \"anymore\", \"buy\", \"federal\", \"examine\", \"night\", \"dog\", \"mention\", \"lady\", \"sorry\", \"link\", \"legislator\", \"figure\", \"lockdown\", \"naked_capitalism\", \"prior\", \"breath\", \"option\", \"attorney\", \"gaslighte\", \"border_wall\", \"hundred\", \"trumper\", \"innocent\", \"travel\", \"full\", \"liar\", \"possible\", \"leftist\", \"choose\", \"jail\", \"represent\", \"lol\", \"criminal\", \"amazing\", \"screw\", \"like\", \"walma\", \"planet\", \"business\", \"print\", \"bully\", \"career\", \"deliver\", \"globalist\", \"bunch\", \"burn\", \"broadcast\", \"drain_swamp\", \"logic\", \"success\", \"flag\", \"stick\", \"infiltrate\", \"customer\", \"convene\"], \"Freq\": [9274.0, 8886.0, 7787.0, 6560.0, 6705.0, 6848.0, 3559.0, 5236.0, 4415.0, 5697.0, 5698.0, 4285.0, 4046.0, 4098.0, 4431.0, 4318.0, 4011.0, 2114.0, 3032.0, 3267.0, 2861.0, 2430.0, 2853.0, 2832.0, 2557.0, 1457.0, 2207.0, 2559.0, 1279.0, 1241.0, 4431.0580225774775, 4317.355454675584, 2852.7098241554027, 2831.654973649371, 2558.3005203453718, 2329.705447803245, 2110.8675149885853, 1505.4395990420865, 1491.7544727338468, 1373.2642665128028, 1300.8212821780019, 1077.0018233611022, 1048.4775654851662, 1019.0101952278196, 961.4019310712281, 960.170370738536, 683.4338758784762, 678.4667224677902, 597.3515156135, 584.3509017658682, 583.9046754889904, 536.5554533411536, 535.920995920932, 519.362845482253, 514.5319470855542, 487.7065722221369, 470.7157498565355, 470.6532433135654, 454.6910573642635, 446.37352478980125, 1068.3314507791397, 9273.243385665834, 8885.651965024363, 4097.903363944582, 3266.3796497224794, 2556.3499332682795, 1951.978395884894, 1403.4678283160129, 1208.5127212669345, 1028.5099189572397, 931.6553781301749, 888.1591738485579, 874.9618379204283, 866.1450331037717, 677.4272515763063, 661.1663494576435, 647.6355423839173, 640.0726998215787, 602.2082817599214, 563.4548123968121, 527.9621617136792, 494.63264360192704, 455.71323850456054, 440.69774652043014, 412.1631989365235, 401.97608612083985, 361.83151295663487, 359.27824375532276, 348.40003967710896, 302.1268267438179, 282.14424513040177, 3961.039914875091, 6847.9016661794685, 5235.908158332082, 2860.1518801010875, 1842.8650660572775, 1576.8205885390284, 1383.0965761211737, 1270.3362951462211, 1186.5638055629108, 1178.5755605963448, 1061.9848205363653, 959.688147453737, 918.2539078676025, 854.0969975910821, 774.8073526911656, 757.2300263127695, 753.4652164785036, 751.387059103569, 652.1039992463569, 639.3619761805577, 614.1812283615324, 610.6470184164948, 597.6557611269842, 577.145243387783, 563.2838117156344, 557.3812636738104, 536.7100860968454, 521.1382186700388, 514.5790555262975, 480.03568862684915, 471.2533083958238, 526.3230996456522, 518.9315824626154, 6704.086054181489, 4284.692430661946, 3031.3460711742655, 2206.9392924864965, 1720.0614833281388, 1402.799219391401, 1134.695638390251, 1038.5267117459568, 957.027518509494, 790.9927408223641, 763.0447181940308, 736.3109752318147, 601.2074300901401, 577.8009518228679, 571.0033280120017, 560.8250452709827, 454.04802027741766, 432.4517556404167, 416.5068422623016, 402.0097484404949, 376.3749525316543, 358.5042799723995, 344.8954841623713, 325.6828755301886, 320.60938511197367, 304.8581389598706, 304.0788918861036, 286.3502490571952, 266.3879118990255, 264.5781773795387, 5037.895893934607, 5029.784654821631, 7786.746748430195, 6559.351700433259, 4414.821274607499, 4045.65234154159, 2429.8377235604453, 1873.0552527039874, 1012.7006930277729, 972.3160527888942, 806.4208724430706, 706.7463941846, 696.825331681555, 546.8945545926614, 543.4287585810439, 533.5872858764873, 529.914507858435, 469.82023050973044, 444.44001437906223, 436.92998893620296, 383.12995432808174, 372.3471381349395, 371.2377097274119, 360.9579107667896, 349.1954363619479, 316.8696271977619, 307.9388753215188, 298.08937084156594, 293.44351047626236, 292.7319097352647, 270.83607674598295, 267.56879419211975, 2113.840096970416, 1456.151963142356, 1241.0249020236574, 1085.0830075775668, 526.8209460928929, 478.08401032020583, 354.7086648743053, 350.4754288966815, 290.3991953040225, 287.8805470619358, 283.8705934676721, 275.70567558997567, 261.6917600841303, 216.37146268026265, 208.8993318006922, 190.8335288735854, 157.76418647209908, 156.7953679951464, 124.96718974899117, 123.52911775803312, 122.35559835399472, 121.28469845002826, 112.98207870886903, 112.68906205717369, 110.54173803251048, 108.86306667360438, 106.38875565150848, 102.63985716928657, 99.45953151971868, 97.35576450911205, 252.51851123124496, 252.51851123124496, 252.51851123124496, 223.5089838607434, 328.0866394058528, 232.94219374378562, 114.43838240861379, 114.43838240861379, 3558.167626421995, 1279.0681965344738, 991.1988654554345, 826.2789654638739, 707.9969970855301, 392.1897753133721, 379.2284713749527, 343.1295000292018, 309.85563838547534, 303.9752038045009, 283.96587327736114, 246.25182719999123, 203.33956032314512, 202.16498922704523, 188.8224249551523, 181.93764903270304, 180.3485327202106, 178.0554285021472, 138.25607187806781, 130.78149193564, 120.14988505976442, 114.03549312100495, 107.0691866041761, 106.01158629207237, 96.28066076888447, 128.6044111140134, 90.15473438658975, 81.92923927481709, 57.537593904118346, 55.71031620154621, 472.168896246201, 472.168896246201, 472.168896246201, 226.40467363322193, 506.20511956923593, 249.53096753693026, 185.7433294078478, 183.9506066480229, 119.56740802449706, 118.45163373189256, 115.14985478765354, 114.31962194937194, 107.20865542530296, 106.6041501960495, 103.64413303351317, 99.3374320123509, 96.60693778664057, 87.01431513248023, 81.53733813033648, 71.25129020851593, 70.81008172451429, 69.81208628357206, 65.6027682959061, 89.35706096317026, 61.48698593396884, 57.0625906910952, 54.698739452650976, 51.74838963450545, 50.079594417775226, 46.98899324100647, 44.23690210282712, 44.192145878795614, 43.570307784599045, 43.108491907554246, 194.95255125066146, 136.28036299185493, 132.35290343507486, 128.28627983659055, 118.19809114963172, 112.10503226122815, 111.67772016076881, 107.97115951768161, 100.07600882416378, 74.26375726312038, 72.77368970038694, 70.72878510863656, 90.84140001827544, 62.27200088515437, 62.01485396640856, 60.562634576237386, 58.52315371015013, 57.436319937828074, 56.5724568750267, 54.268565171894814, 50.379926521083995, 46.88273937465549, 46.37321656292188, 45.867622583520344, 33.061130390772284, 32.79260122787474, 31.053654980354764, 28.55286266520251, 27.22367299617791, 59.47859267512235, 38.29020620381129], \"Total\": [9274.0, 8886.0, 7787.0, 6560.0, 6705.0, 6848.0, 3559.0, 5236.0, 4415.0, 5697.0, 5698.0, 4285.0, 4046.0, 4098.0, 4431.0, 4318.0, 4011.0, 2114.0, 3032.0, 3267.0, 2861.0, 2430.0, 2853.0, 2832.0, 2557.0, 1457.0, 2207.0, 2559.0, 1279.0, 1241.0, 4431.974969342154, 4318.272497096316, 2853.626828622113, 2832.5718149467925, 2559.2173715401773, 2330.6222920542477, 2111.7845319316093, 1506.3563769186508, 1492.6713511708945, 1374.1814453061293, 1301.7382258724742, 1077.9187679748113, 1049.3943988397411, 1019.9270613879498, 962.3187331754194, 961.0872276320252, 684.3512548170349, 679.3835342563557, 598.2683719460273, 585.267749275175, 584.8224672681673, 537.4722841809016, 536.8378241843186, 520.2795875514258, 515.4487955451381, 488.6234801397657, 471.6326730224873, 471.57034048320304, 455.6079592257571, 447.29048293511494, 1121.735379807371, 9274.19259264477, 8886.601163743198, 4098.877414769034, 3267.3287868153325, 2557.2992079843993, 1952.927738478629, 1404.416977826424, 1209.4623178851762, 1029.4592600276023, 932.6050685162562, 889.1083471097463, 875.9110431981288, 867.0943310680636, 678.3765562733627, 662.1156663939769, 648.5848654321471, 641.0338147577588, 603.1583686101283, 564.4045992681827, 528.9112592303238, 495.5818737094154, 456.6626024339131, 441.64838770590046, 413.1128988512807, 402.92518830087084, 362.7807192425968, 360.2274401776009, 349.3493970956249, 303.07598013410393, 283.0936080213314, 4011.7875643855023, 6848.841141803436, 5236.847052040758, 2861.090828473871, 1843.8038663390498, 1577.7595296225172, 1384.0353883826133, 1271.275143541354, 1187.5025016984334, 1179.5145212442976, 1062.9237016334769, 960.6271013690911, 919.192622361991, 855.0366647531936, 775.74641641009, 758.1690397378414, 754.4040146899839, 752.3258099571821, 653.0428089547291, 640.3006917332835, 615.1200948138339, 611.5861872639075, 598.5951205491434, 578.0839884895819, 564.2226004550015, 558.3203218177174, 537.6488890832056, 522.077156452034, 515.5178381652166, 480.97449730833347, 472.19215529060006, 5698.145803727934, 5697.721189313321, 6705.030693978563, 4285.636796991586, 3032.2903331220655, 2207.883499429598, 1721.0057826508098, 1403.7435923336534, 1135.639934612114, 1039.4711396875111, 957.9719508281486, 791.9379694764904, 763.9889039067359, 737.2566214151648, 602.1519127980979, 578.7453498961548, 571.9475508845733, 561.7695889907235, 454.9923490022161, 433.39618506559367, 417.4509647032444, 402.9541137125515, 377.31932654117, 359.4485492816275, 345.8397482985899, 326.62701506247924, 321.5536450799813, 305.8024301817277, 305.02332538854444, 287.29470739169403, 267.33240362407975, 265.5225625066223, 5697.721189313321, 5698.145803727934, 7787.689547849532, 6560.294698592251, 4415.763982248393, 4046.5950676222424, 2430.780661082704, 1873.9979705682258, 1013.6434003458376, 973.2587833006237, 807.3638837393416, 707.6890976692266, 697.7681263032841, 547.8411800664752, 544.3717095719057, 534.5300868249826, 530.8574099076644, 470.76288553990264, 445.382927028039, 437.8728153627404, 384.0725991807329, 373.29001443397226, 372.18060850857745, 361.9009294858333, 350.13983988320115, 317.8124988037308, 308.8816391751374, 299.03210707613465, 294.3863010841582, 293.67481275529866, 271.7787681670187, 268.51180802906583, 2114.756503272346, 1457.068576197595, 1241.941534760983, 1085.9996461764297, 527.7373959407583, 479.00056944748246, 355.62524406822894, 351.39197567562695, 291.3156808067206, 288.79717631519475, 284.7874324893956, 276.6223257785031, 262.60842477454867, 217.2880836733245, 209.81589123275484, 191.75007643659583, 158.68085502248792, 157.71201246886764, 125.88384174063343, 124.44556048525102, 123.27233144833853, 122.20140343874787, 113.89864231024978, 113.60547780048047, 111.45842679604466, 109.77970303791803, 107.30559791126021, 103.5563310408477, 100.37597695739296, 98.27265584214088, 259.8743231758601, 259.8743231758601, 259.8743231758601, 234.65521846152888, 365.27852510528186, 262.2240609892367, 217.1543944892733, 217.1543944892733, 3559.0926298089466, 1279.9931852289967, 992.123919277467, 827.2112469743557, 708.9220234628576, 393.1149736063825, 380.1551461775183, 344.060917936302, 310.78079080073553, 304.9003290956126, 284.89107162913314, 247.17701272413282, 204.26475129739237, 203.09006415213742, 189.74743733732902, 182.8625915132994, 181.2738952912708, 178.98062486289697, 139.18114103861956, 131.70669765394317, 121.07509603856589, 114.9605541610521, 107.9942125071046, 106.93666024499373, 97.20566445751733, 129.8848898038065, 91.09183345607163, 82.8545131678931, 58.4626504158803, 56.63550936486688, 498.14568799513114, 498.14568799513114, 498.14568799513114, 244.65643078645226, 507.1298158188798, 250.45571889464787, 186.66810268152108, 184.87540597588136, 120.49190007398725, 119.37643006849075, 116.07456274180349, 115.24426360253283, 108.13324973415568, 107.52915988118438, 104.56875261598161, 100.26205946697237, 97.53149955010251, 87.93938269891444, 82.4622376856183, 72.17589933101115, 71.73476117722612, 70.73695762900176, 66.52754589225071, 90.71658225354194, 62.45403955416827, 57.99409326963471, 55.62332077833539, 52.67293498819337, 51.00439635087933, 47.945631913509104, 45.16203472684538, 45.11687154207512, 44.49600599916353, 44.03317281307154, 195.89547848273048, 137.2232465802199, 133.29571861270287, 129.22931587474292, 119.14091327997336, 113.0478807972114, 112.62059447362209, 108.9142389707356, 101.01885804080214, 75.20676157588242, 73.71654855604721, 71.67171696894489, 92.08804069308681, 63.215014654831535, 62.95764718139122, 61.50548283896876, 59.470431226391185, 58.38032226102929, 57.51543730645279, 55.21136288587455, 51.322846503917006, 47.82564619351478, 47.315979425458046, 46.812391238034564, 34.00621333793889, 33.735843190282345, 31.99656253530101, 29.496436365525614, 28.166523598682804, 61.617795787577684, 41.40550344254274], \"Category\": [\"Default\", \"Default\", \"Default\", \"Default\", \"Default\", \"Default\", \"Default\", \"Default\", \"Default\", \"Default\", \"Default\", \"Default\", \"Default\", \"Default\", \"Default\", \"Default\", \"Default\", \"Default\", \"Default\", \"Default\", \"Default\", \"Default\", \"Default\", \"Default\", \"Default\", \"Default\", \"Default\", \"Default\", \"Default\", \"Default\", \"Topic1\", \"Topic1\", \"Topic1\", \"Topic1\", \"Topic1\", \"Topic1\", \"Topic1\", \"Topic1\", \"Topic1\", \"Topic1\", \"Topic1\", \"Topic1\", \"Topic1\", \"Topic1\", \"Topic1\", \"Topic1\", \"Topic1\", \"Topic1\", \"Topic1\", \"Topic1\", \"Topic1\", \"Topic1\", \"Topic1\", \"Topic1\", \"Topic1\", \"Topic1\", \"Topic1\", \"Topic1\", \"Topic1\", \"Topic1\", \"Topic1\", \"Topic2\", \"Topic2\", \"Topic2\", \"Topic2\", \"Topic2\", \"Topic2\", \"Topic2\", \"Topic2\", \"Topic2\", \"Topic2\", \"Topic2\", \"Topic2\", \"Topic2\", \"Topic2\", \"Topic2\", \"Topic2\", \"Topic2\", \"Topic2\", \"Topic2\", \"Topic2\", \"Topic2\", \"Topic2\", \"Topic2\", \"Topic2\", \"Topic2\", \"Topic2\", \"Topic2\", \"Topic2\", \"Topic2\", \"Topic2\", \"Topic2\", \"Topic3\", \"Topic3\", \"Topic3\", \"Topic3\", \"Topic3\", \"Topic3\", \"Topic3\", \"Topic3\", \"Topic3\", \"Topic3\", \"Topic3\", \"Topic3\", \"Topic3\", \"Topic3\", \"Topic3\", \"Topic3\", \"Topic3\", \"Topic3\", \"Topic3\", \"Topic3\", \"Topic3\", \"Topic3\", \"Topic3\", \"Topic3\", \"Topic3\", \"Topic3\", \"Topic3\", \"Topic3\", \"Topic3\", \"Topic3\", \"Topic3\", \"Topic3\", \"Topic4\", \"Topic4\", \"Topic4\", \"Topic4\", \"Topic4\", \"Topic4\", \"Topic4\", \"Topic4\", \"Topic4\", \"Topic4\", \"Topic4\", \"Topic4\", \"Topic4\", \"Topic4\", \"Topic4\", \"Topic4\", \"Topic4\", \"Topic4\", \"Topic4\", \"Topic4\", \"Topic4\", \"Topic4\", \"Topic4\", \"Topic4\", \"Topic4\", \"Topic4\", \"Topic4\", \"Topic4\", \"Topic4\", \"Topic4\", \"Topic4\", \"Topic4\", \"Topic5\", \"Topic5\", \"Topic5\", \"Topic5\", \"Topic5\", \"Topic5\", \"Topic5\", \"Topic5\", \"Topic5\", \"Topic5\", \"Topic5\", \"Topic5\", \"Topic5\", \"Topic5\", \"Topic5\", \"Topic5\", \"Topic5\", \"Topic5\", \"Topic5\", \"Topic5\", \"Topic5\", \"Topic5\", \"Topic5\", \"Topic5\", \"Topic5\", \"Topic5\", \"Topic5\", \"Topic5\", \"Topic5\", \"Topic5\", \"Topic6\", \"Topic6\", \"Topic6\", \"Topic6\", \"Topic6\", \"Topic6\", \"Topic6\", \"Topic6\", \"Topic6\", \"Topic6\", \"Topic6\", \"Topic6\", \"Topic6\", \"Topic6\", \"Topic6\", \"Topic6\", \"Topic6\", \"Topic6\", \"Topic6\", \"Topic6\", \"Topic6\", \"Topic6\", \"Topic6\", \"Topic6\", \"Topic6\", \"Topic6\", \"Topic6\", \"Topic6\", \"Topic6\", \"Topic6\", \"Topic6\", \"Topic6\", \"Topic6\", \"Topic6\", \"Topic6\", \"Topic6\", \"Topic6\", \"Topic6\", \"Topic7\", \"Topic7\", \"Topic7\", \"Topic7\", \"Topic7\", \"Topic7\", \"Topic7\", \"Topic7\", \"Topic7\", \"Topic7\", \"Topic7\", \"Topic7\", \"Topic7\", \"Topic7\", \"Topic7\", \"Topic7\", \"Topic7\", \"Topic7\", \"Topic7\", \"Topic7\", \"Topic7\", \"Topic7\", \"Topic7\", \"Topic7\", \"Topic7\", \"Topic7\", \"Topic7\", \"Topic7\", \"Topic7\", \"Topic7\", \"Topic7\", \"Topic7\", \"Topic7\", \"Topic7\", \"Topic8\", \"Topic8\", \"Topic8\", \"Topic8\", \"Topic8\", \"Topic8\", \"Topic8\", \"Topic8\", \"Topic8\", \"Topic8\", \"Topic8\", \"Topic8\", \"Topic8\", \"Topic8\", \"Topic8\", \"Topic8\", \"Topic8\", \"Topic8\", \"Topic8\", \"Topic8\", \"Topic8\", \"Topic8\", \"Topic8\", \"Topic8\", \"Topic8\", \"Topic8\", \"Topic8\", \"Topic8\", \"Topic8\", \"Topic8\", \"Topic9\", \"Topic9\", \"Topic9\", \"Topic9\", \"Topic9\", \"Topic9\", \"Topic9\", \"Topic9\", \"Topic9\", \"Topic9\", \"Topic9\", \"Topic9\", \"Topic9\", \"Topic9\", \"Topic9\", \"Topic9\", \"Topic9\", \"Topic9\", \"Topic9\", \"Topic9\", \"Topic9\", \"Topic9\", \"Topic9\", \"Topic9\", \"Topic9\", \"Topic9\", \"Topic9\", \"Topic9\", \"Topic9\", \"Topic9\", \"Topic9\"], \"logprob\": [30.0, 29.0, 28.0, 27.0, 26.0, 25.0, 24.0, 23.0, 22.0, 21.0, 20.0, 19.0, 18.0, 17.0, 16.0, 15.0, 14.0, 13.0, 12.0, 11.0, 10.0, 9.0, 8.0, 7.0, 6.0, 5.0, 4.0, 3.0, 2.0, 1.0, -2.8473, -2.8733, -3.2877, -3.2951, -3.3966, -3.4902, -3.5889, -3.9269, -3.936, -4.0188, -4.073, -4.2618, -4.2886, -4.3171, -4.3753, -4.3766, -4.7166, -4.7239, -4.8512, -4.8732, -4.874, -4.9585, -4.9597, -4.9911, -5.0005, -5.054, -5.0895, -5.0896, -5.1241, -5.1426, -4.2699, -1.9635, -2.0062, -2.7801, -3.0069, -3.252, -3.5218, -3.8517, -4.0012, -4.1625, -4.2614, -4.3092, -4.3242, -4.3343, -4.5801, -4.6044, -4.625, -4.6368, -4.6978, -4.7643, -4.8293, -4.8946, -4.9765, -5.01, -5.0769, -5.102, -5.2072, -5.2143, -5.245, -5.3875, -5.4559, -2.8141, -2.2629, -2.5313, -3.136, -3.5756, -3.7315, -3.8626, -3.9476, -4.0158, -4.0226, -4.1267, -4.228, -4.2722, -4.3446, -4.442, -4.465, -4.47, -4.4727, -4.6144, -4.6342, -4.6743, -4.6801, -4.7016, -4.7365, -4.7609, -4.7714, -4.8092, -4.8386, -4.8513, -4.9208, -4.9392, -4.8287, -4.8429, -2.1431, -2.5908, -2.9369, -3.2543, -3.5035, -3.7074, -3.9195, -4.0081, -4.0898, -4.2803, -4.3163, -4.352, -4.5547, -4.5944, -4.6062, -4.6242, -4.8354, -4.8841, -4.9217, -4.9571, -5.023, -5.0717, -5.1104, -5.1677, -5.1834, -5.2338, -5.2363, -5.2964, -5.3687, -5.3755, -2.4289, -2.4305, -1.9009, -2.0724, -2.4684, -2.5557, -3.0655, -3.3258, -3.9407, -3.9814, -4.1685, -4.3004, -4.3146, -4.5568, -4.5632, -4.5815, -4.5884, -4.7087, -4.7643, -4.7813, -4.9127, -4.9413, -4.9443, -4.9723, -5.0055, -5.1026, -5.1312, -5.1637, -5.1794, -5.1818, -5.2596, -5.2717, -2.2094, -2.5821, -2.742, -2.8763, -3.5988, -3.6959, -3.9944, -4.0064, -4.1944, -4.2032, -4.2172, -4.2464, -4.2985, -4.4887, -4.5238, -4.6143, -4.8046, -4.8108, -5.0377, -5.0492, -5.0588, -5.0676, -5.1385, -5.1411, -5.1603, -5.1756, -5.1986, -5.2345, -5.266, -5.2873, -4.3342, -4.3342, -4.3342, -4.4563, -4.0724, -4.4149, -5.1257, -5.1257, -1.5613, -2.5844, -2.8394, -3.0213, -3.1758, -3.7665, -3.8001, -3.9002, -4.0022, -4.0213, -4.0894, -4.2319, -4.4234, -4.4292, -4.4975, -4.5346, -4.5434, -4.5562, -4.8092, -4.8647, -4.9495, -5.0018, -5.0648, -5.0747, -5.171, -4.8815, -5.2367, -5.3324, -5.6858, -5.7181, -3.5809, -3.5809, -3.5809, -4.3159, -2.6253, -3.3327, -3.6279, -3.6376, -4.0684, -4.0777, -4.106, -4.1132, -4.1775, -4.1831, -4.2113, -4.2537, -4.2816, -4.3862, -4.4512, -4.586, -4.5922, -4.6064, -4.6686, -4.3596, -4.7334, -4.8081, -4.8504, -4.9059, -4.9386, -5.0023, -5.0627, -5.0637, -5.0779, -5.0885, -3.1438, -3.5019, -3.5311, -3.5623, -3.6442, -3.6972, -3.701, -3.7347, -3.8107, -4.109, -4.1292, -4.1577, -3.9075, -4.2851, -4.2892, -4.3129, -4.3472, -4.3659, -4.3811, -4.4227, -4.497, -4.5689, -4.5799, -4.5908, -4.9182, -4.9264, -4.9809, -5.0648, -5.1125, -4.331, -4.7714], \"loglift\": [30.0, 29.0, 28.0, 27.0, 26.0, 25.0, 24.0, 23.0, 22.0, 21.0, 20.0, 19.0, 18.0, 17.0, 16.0, 15.0, 14.0, 13.0, 12.0, 11.0, 10.0, 9.0, 8.0, 7.0, 6.0, 5.0, 4.0, 3.0, 2.0, 1.0, 1.5645, 1.5645, 1.5644, 1.5644, 1.5643, 1.5643, 1.5642, 1.5641, 1.5641, 1.564, 1.564, 1.5638, 1.5638, 1.5638, 1.5637, 1.5637, 1.5633, 1.5633, 1.5631, 1.5631, 1.5631, 1.563, 1.563, 1.5629, 1.5629, 1.5628, 1.5627, 1.5627, 1.5627, 1.5626, 1.5159, 1.7099, 1.7099, 1.7098, 1.7097, 1.7097, 1.7095, 1.7094, 1.7092, 1.7091, 1.709, 1.709, 1.7089, 1.7089, 1.7086, 1.7086, 1.7086, 1.7085, 1.7085, 1.7083, 1.7082, 1.7081, 1.708, 1.7079, 1.7077, 1.7077, 1.7074, 1.7074, 1.7073, 1.7069, 1.7067, 1.6973, 1.7136, 1.7136, 1.7134, 1.7132, 1.7132, 1.7131, 1.713, 1.713, 1.713, 1.7129, 1.7128, 1.7127, 1.7127, 1.7125, 1.7125, 1.7125, 1.7125, 1.7123, 1.7123, 1.7122, 1.7122, 1.7122, 1.7121, 1.7121, 1.7121, 1.712, 1.712, 1.7119, 1.7118, 1.7118, -0.6682, -0.6823, 1.8546, 1.8546, 1.8545, 1.8544, 1.8542, 1.8541, 1.854, 1.8539, 1.8538, 1.8536, 1.8535, 1.8535, 1.8532, 1.8532, 1.8531, 1.8531, 1.8527, 1.8526, 1.8525, 1.8524, 1.8523, 1.8522, 1.8521, 1.8519, 1.8518, 1.8517, 1.8517, 1.8515, 1.8512, 1.8512, 1.7317, 1.73, 1.9472, 1.9472, 1.9471, 1.9471, 1.9469, 1.9468, 1.9464, 1.9463, 1.9461, 1.946, 1.946, 1.9456, 1.9456, 1.9455, 1.9455, 1.9453, 1.9452, 1.9451, 1.9448, 1.9448, 1.9448, 1.9447, 1.9446, 1.9443, 1.9442, 1.9441, 1.9441, 1.9441, 1.9438, 1.9438, 2.9423, 2.9421, 2.942, 2.9419, 2.941, 2.9408, 2.9401, 2.9401, 2.9395, 2.9395, 2.9395, 2.9394, 2.9392, 2.9385, 2.9383, 2.9379, 2.9369, 2.9369, 2.9354, 2.9353, 2.9352, 2.9352, 2.9346, 2.9346, 2.9344, 2.9343, 2.9341, 2.9338, 2.9335, 2.9333, 2.914, 2.914, 2.914, 2.894, 2.8353, 2.8243, 2.3021, 2.3021, 3.0699, 3.0694, 3.0692, 3.069, 3.0688, 3.0678, 3.0677, 3.0674, 3.0671, 3.0671, 3.0669, 3.0664, 3.0656, 3.0656, 3.0652, 3.0651, 3.065, 3.0649, 3.0635, 3.0631, 3.0625, 3.062, 3.0615, 3.0614, 3.0606, 3.0602, 3.0598, 3.0589, 3.0542, 3.0537, 3.0166, 3.0166, 3.0166, 2.9926, 3.9543, 3.9525, 3.9512, 3.9511, 3.9485, 3.9484, 3.9482, 3.9481, 3.9476, 3.9475, 3.9473, 3.9469, 3.9466, 3.9456, 3.9449, 3.9433, 3.9432, 3.943, 3.9422, 3.9411, 3.9405, 3.94, 3.9394, 3.9384, 3.9379, 3.936, 3.9355, 3.9354, 3.9351, 3.9349, 4.387, 4.3849, 4.3847, 4.3845, 4.3839, 4.3834, 4.3834, 4.3831, 4.3824, 4.3792, 4.3789, 4.3786, 4.3782, 4.3768, 4.3767, 4.3764, 4.3757, 4.3755, 4.3753, 4.3746, 4.3733, 4.3719, 4.3717, 4.3714, 4.3636, 4.3634, 4.3619, 4.3593, 4.3578, 4.3565, 4.3136]}, \"token.table\": {\"Topic\": [3, 3, 2, 3, 3, 7, 1, 9, 5, 6, 1, 2, 3, 4, 5, 6, 6, 8, 6, 6, 6, 8, 7, 4, 1, 4, 1, 1, 2, 3, 4, 5, 3, 2, 6, 8, 4, 8, 1, 9, 9, 9, 9, 9, 8, 3, 6, 9, 1, 2, 3, 4, 5, 6, 3, 7, 9, 5, 1, 5, 2, 4, 6, 6, 9, 8, 6, 4, 1, 1, 6, 9, 4, 9, 1, 4, 6, 3, 6, 6, 9, 2, 2, 5, 1, 2, 3, 4, 5, 6, 7, 8, 2, 3, 9, 7, 7, 1, 2, 3, 4, 5, 7, 2, 4, 5, 5, 4, 8, 3, 1, 2, 8, 7, 6, 8, 2, 1, 8, 4, 8, 5, 5, 9, 5, 1, 4, 6, 2, 5, 3, 7, 9, 2, 8, 8, 3, 4, 6, 1, 6, 9, 3, 3, 3, 7, 1, 8, 4, 3, 3, 6, 4, 7, 1, 2, 3, 4, 5, 6, 8, 2, 3, 4, 5, 7, 6, 9, 6, 8, 4, 2, 3, 4, 5, 7, 9, 1, 4, 6, 7, 3, 4, 1, 3, 2, 8, 4, 3, 4, 7, 3, 9, 8, 1, 2, 7, 9, 3, 9, 8, 4, 4, 8, 9, 9, 5, 5, 1, 1, 1, 5, 4, 6, 2, 3, 8, 5, 2, 3, 8, 5, 1, 1, 5, 5, 8, 7, 6, 2, 6, 4, 8, 1, 2, 4, 9, 9, 4, 5, 4, 5, 9, 8, 6, 5, 2, 7, 7, 6, 6, 5, 4, 2, 7, 5, 7, 9, 4, 3, 7, 1, 2, 3, 7, 2, 5, 1, 5, 9, 1, 3, 5, 6, 7, 6, 7, 7, 3, 1, 4, 6, 8, 6, 2, 4, 1, 2, 3, 4, 5, 6, 7, 5, 9, 1, 5, 1, 7, 9, 4, 4, 7, 7, 5, 6, 2, 2, 1, 7, 1, 6, 3, 6, 8, 1, 8, 2, 7, 8, 2, 3, 7, 2, 3, 4, 5, 7, 4, 5, 1, 2, 3, 4, 7, 4, 5, 2, 2, 9, 4, 4, 3, 2, 1, 1, 2, 1, 6], \"Freq\": [0.9996187368597267, 0.999347195838846, 0.9985318916043859, 0.9984580750774976, 0.9989954990363482, 0.9896865827192594, 0.9995502351067649, 0.9839540813805043, 0.9993652596705922, 0.9878329002710565, 0.010950547938308462, 0.032851643814925384, 0.005475273969154231, 0.008212910953731346, 0.04106455476865673, 0.8979449309412939, 0.9870497461248509, 0.9907424786583625, 0.9976831483031399, 0.9954853631139341, 0.9901686608750769, 0.9872242739398477, 0.9946326071800301, 0.99954675058352, 0.9980254952299369, 0.9987056043593316, 0.9991212864461999, 0.9520962066681016, 0.01069771018728204, 0.01248066188516238, 0.01604656528092306, 0.00713180679152136, 0.9998771847987097, 0.9995538822705913, 0.9964196353528912, 0.9802769955099359, 0.9965034217746965, 0.9828587151968594, 0.9987905505621524, 0.9721874207944644, 0.9920896617581205, 0.9742249973641652, 0.9827363295798659, 0.9847890252532455, 0.989203249136771, 0.9995768415664685, 0.9960386810969415, 0.9763563781841146, 0.017024350047512637, 0.003861192794281217, 0.09108904819236144, 0.8842131498903987, 0.003685684030904798, 0.00017550876337641896, 0.9978331239230481, 0.987596767490394, 0.9904238330178627, 0.9977021769454197, 0.9994328922222596, 0.9965442032090562, 0.9973060660793326, 0.998031946883575, 0.9960882600386141, 0.048302757694405146, 0.9177523961936978, 0.9977721368698161, 0.9979111309854254, 0.9950159292101628, 0.9997053226499318, 0.9986712347223476, 0.9954836595027182, 0.9899141797822479, 0.016229077772392544, 0.9575155885711601, 0.0038480138698554216, 0.01924006934927711, 0.9735475090734217, 0.9981248598626401, 0.994670346780779, 0.9896786940476441, 0.991038278928378, 0.9978479582811712, 0.9987379330842635, 0.998093908670823, 0.07828531418847129, 0.009210036963349565, 0.05986524026177217, 0.2578810349737878, 0.06447025874344695, 0.5249721069109251, 0.9986994007347185, 0.9874123923477942, 0.9965925966744906, 0.9990415295895907, 0.9826458077327503, 0.9915136416485347, 0.9912409809428513, 0.0022433889769979776, 0.9873404153209988, 0.0009970617675546566, 0.001246327209443321, 0.007976494140437253, 0.00024926544188866415, 0.9999323516683014, 0.999846280498091, 0.9990083124635112, 0.9965485074956454, 0.9989197181432675, 0.9884698338884733, 0.9991309803026714, 0.9991293110993432, 0.9989598907272564, 0.9950789173674464, 0.9968722374343373, 0.996111394480365, 0.9981804412506166, 0.9983149977404204, 0.9987240070010811, 0.9895198772168434, 0.9995998432753239, 0.9895817171998416, 0.9974801968070963, 0.9983106951316366, 0.9688540750525458, 0.9987066304232521, 0.004261571536982236, 0.038354143832840124, 0.9545920242840209, 0.9995933109576561, 0.9990262706158733, 0.9987025327086216, 0.9931871228043299, 0.9954287945302963, 0.996136938488385, 0.9964209060255949, 0.9803076514430307, 0.0038135325806011606, 0.10296537967623134, 0.8885530912800704, 0.9997981287027657, 0.9992418847951936, 0.9780595366142562, 0.999518602418013, 0.998138908777466, 0.9982377183666509, 0.9920863934052051, 0.9986296295292227, 0.995917567291368, 0.9980870063291086, 0.9995637855787016, 0.9990378087551546, 0.995887015372256, 0.9976322025757204, 0.9880139260058021, 0.07828531418847129, 0.009210036963349565, 0.05986524026177217, 0.2578810349737878, 0.06447025874344695, 0.5249721069109251, 0.9742696551678033, 0.014052114007395398, 0.01605955886559474, 0.018067003723794082, 0.0020074448581993425, 0.9475139730700897, 0.9928975665233061, 0.9585847506315136, 0.9957092806035648, 0.98885279727864, 0.9982782186162324, 0.014052114007395398, 0.01605955886559474, 0.018067003723794082, 0.0020074448581993425, 0.9475139730700897, 0.9907306462551817, 0.0038480138698554216, 0.01924006934927711, 0.9735475090734217, 0.9952828432203605, 0.9979367868547357, 0.9975718571889982, 0.9971148884576153, 0.9979686235700252, 0.9995249499198819, 0.9893178383781623, 0.9967785017180473, 0.9987875785964186, 0.9973759849414838, 0.9946343073926278, 0.9979739106464334, 0.9904873297020743, 0.9897572506666491, 0.9986656088563723, 0.9994919609014296, 0.9992240699087636, 0.9910857189965638, 0.9987930988115458, 0.990627865532565, 0.9837078672810396, 0.9966450913639444, 0.9983432905987485, 0.9920702637505202, 0.9704108973280977, 0.991605882028141, 0.9971457054634525, 0.9988991668230053, 0.9978799281300772, 0.9975405770627137, 0.9986585470882821, 0.9996788434698357, 0.9987121280606599, 0.9982418456544975, 0.997703821136692, 0.9976351893955447, 0.9945504831510411, 0.9972073009555463, 0.9961373996725246, 0.997475275103064, 0.9810775250687432, 0.9983794696580047, 0.9997329931768141, 0.9997800147002414, 0.9984645548799871, 0.9975105632165321, 0.9945609696802037, 0.9960608830990416, 0.9921101578383879, 0.9987534172709668, 0.9986027218339457, 0.998080333121376, 0.9887938949057107, 0.9997803396660608, 0.9996177492441563, 0.9998514113487094, 0.9807796508240045, 0.9902793681133327, 0.9954934519906458, 0.9980066920527657, 0.9986300629193792, 0.9998269875266286, 0.9917814995405825, 0.9767182464969758, 0.9940720003989678, 0.9968949707226835, 0.9997859377872897, 0.9974876478088501, 0.9952381788615333, 0.9996422740532183, 0.999079515191419, 0.9968278613082276, 0.9987521182585827, 0.997511361051976, 0.9887789591372316, 0.9971345511193864, 0.9969164822826566, 0.9944895116517304, 0.9978189765072044, 0.9981790632052544, 0.9911204196920609, 0.9990910512888164, 0.9964498006947702, 0.9998382515218908, 0.9985357464870237, 0.9980794950871733, 0.9974434649147245, 0.9990995643929723, 0.9967446152840495, 0.9902796784428612, 0.9996284981162866, 0.9992519061352736, 0.9952908777376773, 0.9946277447717972, 0.9945210557642865, 0.999266626008514, 0.9929725386591163, 0.9916444891200992, 0.9990058045434826, 0.0038480138698554216, 0.01924006934927711, 0.9735475090734217, 0.9943945532089421, 0.9977502691557824, 0.9998714073885294, 0.9994155843862066, 0.01719857711185362, 0.0038609050659263225, 0.09231073021260208, 0.8827432946186092, 0.0036854093811114898, 0.00017549568481483286, 0.9938082743627608, 0.9998529460911462, 0.9831696154961339, 0.9984393346620246, 0.9994674644349144, 0.9985936462530086, 0.9907938352989129, 0.9781880895600586, 0.9995744691370839, 0.9988156023417966, 0.9969613822431884, 0.9971637467884933, 0.9998026462755509, 0.997239667210857, 0.9985490328518658, 0.998387269541858, 0.9995243188196067, 0.9988671583704125, 0.998868752387123, 0.9862917702113422, 0.9995640174349748, 0.9972350167192686, 0.9952648867962699, 0.9978338986271753, 0.9765364894903773, 0.9988258777403215, 0.9996930032672385, 0.975244924927174, 0.9979708080112251, 0.9984031537589423, 0.997047136359993, 0.014052114007395398, 0.01605955886559474, 0.018067003723794082, 0.0020074448581993425, 0.9475139730700897, 0.9982955440769692, 0.9983848583599623, 0.004087364459562673, 0.01226209337868802, 0.020436822297813365, 0.03678628013606406, 0.9237443678611641, 0.9989854078427783, 0.9999114566849006, 0.9989910561828887, 0.9993512060606545, 0.9881847774705832, 0.9994702790896326, 0.9994364986712688, 0.9989969570727215, 0.9990982437868675, 0.9991402552332774, 0.9979635446156786, 0.9982771037401437, 0.9991476463699231, 0.9929789103318402], \"Term\": [\"accept\", \"action\", \"address\", \"agree\", \"allow\", \"alone\", \"already\", \"amazing\", \"american\", \"announce\", \"announcement_speake\", \"announcement_speake\", \"announcement_speake\", \"announcement_speake\", \"announcement_speake\", \"announcement_speake\", \"anti\", \"anymore\", \"arrest\", \"attack\", \"attempt\", \"attorney\", \"away\", \"back\", \"bad\", \"ballot\", \"believe\", \"bet_last\", \"bet_last\", \"bet_last\", \"bet_last\", \"bet_last\", \"biden\", \"big\", \"block\", \"border_wall\", \"break\", \"breath\", \"bring\", \"broadcast\", \"bully\", \"bunch\", \"burn\", \"business\", \"buy\", \"call\", \"care\", \"career\", \"ceify_invalid\", \"ceify_invalid\", \"ceify_invalid\", \"ceify_invalid\", \"ceify_invalid\", \"ceify_invalid\", \"cheat\", \"check\", \"choose\", \"citizen\", \"come\", \"constitution\", \"constitutional\", \"contest\", \"continue\", \"convene\", \"convene\", \"corrupt\", \"corruption\", \"cou\", \"count\", \"country\", \"covid\", \"criminal\", \"customer\", \"customer\", \"davis_singe\", \"davis_singe\", \"davis_singe\", \"day\", \"death\", \"declare\", \"deliver\", \"dem\", \"demand\", \"democracy\", \"dining_increase\", \"dining_increase\", \"dining_increase\", \"dining_increase\", \"dining_increase\", \"dining_increase\", \"do\", \"dog\", \"dominion\", \"donate\", \"drain_swamp\", \"duty\", \"easy\", \"ele\", \"ele\", \"ele\", \"ele\", \"ele\", \"ele\", \"election\", \"elector\", \"electoral\", \"electoral_college\", \"enough\", \"entire\", \"even\", \"ever\", \"evidence\", \"examine\", \"expose\", \"face\", \"fail\", \"fair\", \"fake\", \"federal\", \"fight\", \"figure\", \"find\", \"first\", \"flag\", \"follow\", \"founder_jim\", \"founder_jim\", \"founder_jim\", \"fraud\", \"fraudulent\", \"freedom\", \"front_supreme\", \"full\", \"future\", \"game\", \"gaslighte\", \"gateway_pundit\", \"gateway_pundit\", \"gateway_pundit\", \"get\", \"give\", \"globalist\", \"go\", \"good\", \"great\", \"group\", \"happen\", \"headline\", \"hear\", \"help\", \"history\", \"hit\", \"hope\", \"hotel\", \"hotel_price\", \"hotel_price\", \"hotel_price\", \"hotel_price\", \"hotel_price\", \"hotel_price\", \"hundred\", \"illegitimate_wisconsin\", \"illegitimate_wisconsin\", \"illegitimate_wisconsin\", \"illegitimate_wisconsin\", \"illegitimate_wisconsin\", \"imagine\", \"infiltrate\", \"information\", \"innocent\", \"integrity\", \"integrity_standard\", \"integrity_standard\", \"integrity_standard\", \"integrity_standard\", \"integrity_standard\", \"jail\", \"jan_henry\", \"jan_henry\", \"jan_henry\", \"january\", \"join\", \"judge\", \"justice\", \"keep\", \"know\", \"lady\", \"law\", \"lawmaker\", \"leader\", \"learn\", \"leave\", \"leftist\", \"legislator\", \"legislature\", \"legitimate\", \"let\", \"liar\", \"lie\", \"like\", \"link\", \"list\", \"live\", \"lockdown\", \"logic\", \"lol\", \"long\", \"look\", \"lose\", \"love\", \"machine\", \"make\", \"many\", \"matter\", \"mean\", \"meet\", \"mention\", \"million\", \"money\", \"much\", \"naked_capitalism\", \"nation\", \"need\", \"never\", \"new_year\", \"next\", \"night\", \"number\", \"oath\", \"object\", \"office\", \"official\", \"option\", \"patriot\", \"pay\", \"people\", \"planet\", \"possible\", \"post\", \"power\", \"pre\", \"president\", \"print\", \"prior\", \"problem\", \"protect\", \"protect_integrity\", \"protest\", \"question\", \"rally\", \"real\", \"really\", \"reason\", \"refuse\", \"register\", \"remember\", \"repeat\", \"represent\", \"republic\", \"republican\", \"rest\", \"result\", \"rig\", \"right\", \"rudy_giuliani\", \"runoff\", \"save\", \"say\", \"scream\", \"screw\", \"see\", \"senator\", \"send\", \"shame\", \"shit\", \"show\", \"simply\", \"single\", \"slate\", \"song_let\", \"song_let\", \"song_let\", \"sorry\", \"speak\", \"stand\", \"state\", \"statement_congressman\", \"statement_congressman\", \"statement_congressman\", \"statement_congressman\", \"statement_congressman\", \"statement_congressman\", \"stay\", \"steal\", \"stick\", \"still\", \"stop\", \"story\", \"strong\", \"success\", \"suppo\", \"suppoer\", \"surprise\", \"system\", \"take\", \"team\", \"tell\", \"testify\", \"thank\", \"thing\", \"think\", \"thread\", \"time\", \"tonight\", \"top\", \"traitor\", \"travel\", \"true\", \"trump\", \"trumper\", \"truth\", \"try\", \"turn\", \"turning_rulingjudge\", \"turning_rulingjudge\", \"turning_rulingjudge\", \"turning_rulingjudge\", \"turning_rulingjudge\", \"urge\", \"use\", \"usual_suspect\", \"usual_suspect\", \"usual_suspect\", \"usual_suspect\", \"usual_suspect\", \"video\", \"vote\", \"voter\", \"wake\", \"walma\", \"want\", \"watch\", \"way\", \"well\", \"win\", \"work\", \"world\", \"year\", \"yesterday\"]}, \"R\": 30, \"lambda.step\": 0.01, \"plot.opts\": {\"xlab\": \"PC1\", \"ylab\": \"PC2\"}, \"topic.order\": [7, 6, 8, 2, 9, 5, 3, 4, 1]};\n",
       "\n",
       "function LDAvis_load_lib(url, callback){\n",
       "  var s = document.createElement('script');\n",
       "  s.src = url;\n",
       "  s.async = true;\n",
       "  s.onreadystatechange = s.onload = callback;\n",
       "  s.onerror = function(){console.warn(\"failed to load library \" + url);};\n",
       "  document.getElementsByTagName(\"head\")[0].appendChild(s);\n",
       "}\n",
       "\n",
       "if(typeof(LDAvis) !== \"undefined\"){\n",
       "   // already loaded: just create the visualization\n",
       "   !function(LDAvis){\n",
       "       new LDAvis(\"#\" + \"ldavis_el1685218918306909766070915380\", ldavis_el1685218918306909766070915380_data);\n",
       "   }(LDAvis);\n",
       "}else if(typeof define === \"function\" && define.amd){\n",
       "   // require.js is available: use it to load d3/LDAvis\n",
       "   require.config({paths: {d3: \"https://d3js.org/d3.v5\"}});\n",
       "   require([\"d3\"], function(d3){\n",
       "      window.d3 = d3;\n",
       "      LDAvis_load_lib(\"https://cdn.jsdelivr.net/gh/bmabey/pyLDAvis@3.3.1/pyLDAvis/js/ldavis.v3.0.0.js\", function(){\n",
       "        new LDAvis(\"#\" + \"ldavis_el1685218918306909766070915380\", ldavis_el1685218918306909766070915380_data);\n",
       "      });\n",
       "    });\n",
       "}else{\n",
       "    // require.js not available: dynamically load d3 & LDAvis\n",
       "    LDAvis_load_lib(\"https://d3js.org/d3.v5.js\", function(){\n",
       "         LDAvis_load_lib(\"https://cdn.jsdelivr.net/gh/bmabey/pyLDAvis@3.3.1/pyLDAvis/js/ldavis.v3.0.0.js\", function(){\n",
       "                 new LDAvis(\"#\" + \"ldavis_el1685218918306909766070915380\", ldavis_el1685218918306909766070915380_data);\n",
       "            })\n",
       "         });\n",
       "}\n",
       "</script>"
      ],
      "text/plain": [
       "PreparedData(topic_coordinates=              x         y  topics  cluster       Freq\n",
       "topic                                                \n",
       "6     -0.080118  0.010853       1        1  20.915449\n",
       "5     -0.159052 -0.332138       2        1  18.085997\n",
       "7     -0.185318  0.226341       3        1  18.018714\n",
       "1     -0.209631  0.191180       4        1  15.648652\n",
       "8     -0.093619 -0.170473       5        1  14.265830\n",
       "4      0.145830  0.021242       6        1   5.272341\n",
       "2      0.165367  0.000612       7        1   4.641517\n",
       "3      0.212255  0.025714       8        1   1.913658\n",
       "0      0.204286  0.026670       9        1   1.237842, topic_info=            Term         Freq        Total Category  logprob  loglift\n",
       "199        stand  9274.000000  9274.000000  Default  30.0000  30.0000\n",
       "14      election  8886.000000  8886.000000  Default  29.0000  29.0000\n",
       "21          vote  7787.000000  7787.000000  Default  28.0000  28.0000\n",
       "138         take  6560.000000  6560.000000  Default  27.0000  27.0000\n",
       "789      elector  6705.000000  6705.000000  Default  26.0000  26.0000\n",
       "...          ...          ...          ...      ...      ...      ...\n",
       "2103        flag    31.053655    31.996563   Topic9  -4.9809   4.3619\n",
       "2283       stick    28.552863    29.496436   Topic9  -5.0648   4.3593\n",
       "1374  infiltrate    27.223673    28.166524   Topic9  -5.1125   4.3578\n",
       "4600    customer    59.478593    61.617796   Topic9  -4.3310   4.3565\n",
       "5350     convene    38.290206    41.405503   Topic9  -4.7714   4.3136\n",
       "\n",
       "[319 rows x 6 columns], token_table=      Topic      Freq       Term\n",
       "term                            \n",
       "213       3  0.999619     accept\n",
       "368       3  0.999347     action\n",
       "905       2  0.998532    address\n",
       "163       3  0.998458      agree\n",
       "452       3  0.998995      allow\n",
       "...     ...       ...        ...\n",
       "305       1  0.999140        win\n",
       "98        1  0.997964       work\n",
       "254       2  0.998277      world\n",
       "429       1  0.999148       year\n",
       "1621      6  0.992979  yesterday\n",
       "\n",
       "[349 rows x 3 columns], R=30, lambda_step=0.01, plot_opts={'xlab': 'PC1', 'ylab': 'PC2'}, topic_order=[7, 6, 8, 2, 9, 5, 3, 4, 1])"
      ]
     },
     "execution_count": 24,
     "metadata": {},
     "output_type": "execute_result"
    }
   ],
   "source": [
    "# Visualize the topics\n",
    "pyLDAvis.enable_notebook()\n",
    "vis = pyLDAvis.gensim_models.prepare(lda_model, corpus, id2word)\n",
    "vis"
   ]
  },
  {
   "cell_type": "code",
   "execution_count": 25,
   "id": "65636365",
   "metadata": {},
   "outputs": [],
   "source": [
    "# Export LDA Model\n",
    "pyLDAvis.save_html(vis, r\"C:\\Users\\Ivory-UALR\\Documents\\COSMOS\\Billy's Project\\community_topic_model\\2nd_community_dataset\\2nd_analysis_LDAmodel\\2nd_analysis_lda_vis.html\")"
   ]
  },
  {
   "cell_type": "markdown",
   "id": "adbaa7f2",
   "metadata": {},
   "source": [
    "#### Visualize Topic Distribution (Dominant topic per text, Topic distribution over time (Topic Stream))"
   ]
  },
  {
   "cell_type": "code",
   "execution_count": 26,
   "id": "51f3a9d7",
   "metadata": {},
   "outputs": [
    {
     "data": {
      "text/html": [
       "<div>\n",
       "<style scoped>\n",
       "    .dataframe tbody tr th:only-of-type {\n",
       "        vertical-align: middle;\n",
       "    }\n",
       "\n",
       "    .dataframe tbody tr th {\n",
       "        vertical-align: top;\n",
       "    }\n",
       "\n",
       "    .dataframe thead th {\n",
       "        text-align: right;\n",
       "    }\n",
       "</style>\n",
       "<table border=\"1\" class=\"dataframe\">\n",
       "  <thead>\n",
       "    <tr style=\"text-align: right;\">\n",
       "      <th></th>\n",
       "      <th>Document_No</th>\n",
       "      <th>Dominant_Topic</th>\n",
       "      <th>Topic_Perc_Contrib</th>\n",
       "      <th>Keywords</th>\n",
       "      <th>Text</th>\n",
       "    </tr>\n",
       "  </thead>\n",
       "  <tbody>\n",
       "    <tr>\n",
       "      <th>0</th>\n",
       "      <td>0</td>\n",
       "      <td>6.0</td>\n",
       "      <td>0.2118</td>\n",
       "      <td>never, count, patriot, get, thank, need, see, ...</td>\n",
       "      <td></td>\n",
       "    </tr>\n",
       "    <tr>\n",
       "      <th>1</th>\n",
       "      <td>1</td>\n",
       "      <td>6.0</td>\n",
       "      <td>0.2118</td>\n",
       "      <td>never, count, patriot, get, thank, need, see, ...</td>\n",
       "      <td></td>\n",
       "    </tr>\n",
       "    <tr>\n",
       "      <th>2</th>\n",
       "      <td>2</td>\n",
       "      <td>6.0</td>\n",
       "      <td>0.2118</td>\n",
       "      <td>never, count, patriot, get, thank, need, see, ...</td>\n",
       "      <td></td>\n",
       "    </tr>\n",
       "    <tr>\n",
       "      <th>3</th>\n",
       "      <td>3</td>\n",
       "      <td>6.0</td>\n",
       "      <td>0.2118</td>\n",
       "      <td>never, count, patriot, get, thank, need, see, ...</td>\n",
       "      <td></td>\n",
       "    </tr>\n",
       "    <tr>\n",
       "      <th>4</th>\n",
       "      <td>4</td>\n",
       "      <td>6.0</td>\n",
       "      <td>0.2118</td>\n",
       "      <td>never, count, patriot, get, thank, need, see, ...</td>\n",
       "      <td></td>\n",
       "    </tr>\n",
       "    <tr>\n",
       "      <th>5</th>\n",
       "      <td>5</td>\n",
       "      <td>6.0</td>\n",
       "      <td>0.2118</td>\n",
       "      <td>never, count, patriot, get, thank, need, see, ...</td>\n",
       "      <td></td>\n",
       "    </tr>\n",
       "    <tr>\n",
       "      <th>6</th>\n",
       "      <td>6</td>\n",
       "      <td>6.0</td>\n",
       "      <td>0.2118</td>\n",
       "      <td>never, count, patriot, get, thank, need, see, ...</td>\n",
       "      <td></td>\n",
       "    </tr>\n",
       "    <tr>\n",
       "      <th>7</th>\n",
       "      <td>7</td>\n",
       "      <td>6.0</td>\n",
       "      <td>0.2118</td>\n",
       "      <td>never, count, patriot, get, thank, need, see, ...</td>\n",
       "      <td></td>\n",
       "    </tr>\n",
       "    <tr>\n",
       "      <th>8</th>\n",
       "      <td>8</td>\n",
       "      <td>6.0</td>\n",
       "      <td>0.2118</td>\n",
       "      <td>never, count, patriot, get, thank, need, see, ...</td>\n",
       "      <td></td>\n",
       "    </tr>\n",
       "    <tr>\n",
       "      <th>9</th>\n",
       "      <td>9</td>\n",
       "      <td>6.0</td>\n",
       "      <td>0.2118</td>\n",
       "      <td>never, count, patriot, get, thank, need, see, ...</td>\n",
       "      <td></td>\n",
       "    </tr>\n",
       "  </tbody>\n",
       "</table>\n",
       "</div>"
      ],
      "text/plain": [
       "   Document_No  Dominant_Topic  Topic_Perc_Contrib  \\\n",
       "0            0             6.0              0.2118   \n",
       "1            1             6.0              0.2118   \n",
       "2            2             6.0              0.2118   \n",
       "3            3             6.0              0.2118   \n",
       "4            4             6.0              0.2118   \n",
       "5            5             6.0              0.2118   \n",
       "6            6             6.0              0.2118   \n",
       "7            7             6.0              0.2118   \n",
       "8            8             6.0              0.2118   \n",
       "9            9             6.0              0.2118   \n",
       "\n",
       "                                            Keywords Text  \n",
       "0  never, count, patriot, get, thank, need, see, ...       \n",
       "1  never, count, patriot, get, thank, need, see, ...       \n",
       "2  never, count, patriot, get, thank, need, see, ...       \n",
       "3  never, count, patriot, get, thank, need, see, ...       \n",
       "4  never, count, patriot, get, thank, need, see, ...       \n",
       "5  never, count, patriot, get, thank, need, see, ...       \n",
       "6  never, count, patriot, get, thank, need, see, ...       \n",
       "7  never, count, patriot, get, thank, need, see, ...       \n",
       "8  never, count, patriot, get, thank, need, see, ...       \n",
       "9  never, count, patriot, get, thank, need, see, ...       "
      ]
     },
     "execution_count": 26,
     "metadata": {},
     "output_type": "execute_result"
    }
   ],
   "source": [
    "# View dominant topic per document (tweet) and topic percent contribution per tweet\n",
    "def format_topics_sentences(ldamodel=None, corpus=corpus, texts=data):\n",
    "    # Init output\n",
    "    sent_topics_df = pd.DataFrame()\n",
    "\n",
    "    # Get main topic in each document\n",
    "    for i, row_list in enumerate(ldamodel[corpus]):\n",
    "        row = row_list[0] if ldamodel.per_word_topics else row_list            \n",
    "        # print(row)\n",
    "        row = sorted(row, key=lambda x: (x[1]), reverse=True)\n",
    "        # Get the Dominant topic, Perc Contribution and Keywords for each document\n",
    "        for j, (topic_num, prop_topic) in enumerate(row):\n",
    "            if j == 0:  # => dominant topic\n",
    "                wp = ldamodel.show_topic(topic_num)\n",
    "                topic_keywords = \", \".join([word for word, prop in wp])\n",
    "                sent_topics_df = sent_topics_df.append(pd.Series([int(topic_num), round(prop_topic,4), topic_keywords]), ignore_index=True)\n",
    "            else:\n",
    "                break\n",
    "    sent_topics_df.columns = ['Dominant_Topic', 'Perc_Contribution', 'Topic_Keywords']\n",
    "\n",
    "    # Add original text to the end of the output\n",
    "    contents = pd.Series(texts)\n",
    "    sent_topics_df = pd.concat([sent_topics_df, contents], axis=1)\n",
    "    return(sent_topics_df)\n",
    "\n",
    "\n",
    "df_topic_sents_keywords = format_topics_sentences(ldamodel=lda_model, corpus=corpus, texts=data)\n",
    "\n",
    "# Format\n",
    "df_dominant_topic = df_topic_sents_keywords.reset_index()\n",
    "df_dominant_topic.columns = ['Document_No', 'Dominant_Topic', 'Topic_Perc_Contrib', 'Keywords', 'Text']\n",
    "df_dominant_topic.head(10)\n"
   ]
  },
  {
   "cell_type": "code",
   "execution_count": 27,
   "id": "1e87eead",
   "metadata": {},
   "outputs": [
    {
     "name": "stdout",
     "output_type": "stream",
     "text": [
      "     Dominant_Topic create_year  count\n",
      "0               0.0  2021-01-03      1\n",
      "1               0.0  2021-01-04      1\n",
      "2               0.0  2021-01-06      1\n",
      "3               0.0  2021-01-08      1\n",
      "4               1.0  2021-01-01    174\n",
      "..              ...         ...    ...\n",
      "203             8.0  2021-01-26      3\n",
      "204             8.0  2021-01-27     11\n",
      "205             8.0  2021-01-28     26\n",
      "206             8.0  2021-01-29      8\n",
      "207             8.0  2021-01-30      9\n",
      "\n",
      "[208 rows x 3 columns]\n"
     ]
    }
   ],
   "source": [
    "# Add year column to topic distribution dataset\n",
    "dates = pd.Series(stream_two['create_year'])\n",
    "topic_dist = pd.concat([df_dominant_topic, dates], axis=1)\n",
    "# Drop NaN rows\n",
    "topic_dist.dropna()\n",
    "\n",
    "# Group Dataframe by year and aggregate by count()\n",
    "topic_dist['create_year'] = pd.to_datetime(topic_dist['create_year'])\n",
    "topic_dist_count = topic_dist.groupby(['Dominant_Topic', pd.Grouper(key='create_year', freq='D')])['Dominant_Topic'].agg(['count']).reset_index()\n",
    "print(topic_dist_count)\n",
    "\n",
    "# return a sorted DataFrame by date then count\n",
    "topic_dist_count = topic_dist_count.sort_values(by=['create_year', 'count'])\n",
    "# reset the index\n",
    "topic_dist_count = topic_dist_count.reset_index(drop=True)"
   ]
  },
  {
   "cell_type": "code",
   "execution_count": 28,
   "id": "b220bf96",
   "metadata": {},
   "outputs": [
    {
     "data": {
      "application/vnd.plotly.v1+json": {
       "config": {
        "plotlyServerURL": "https://plot.ly"
       },
       "data": [
        {
         "hovertemplate": "Dominant_Topic=2.0<br>create_year=%{x}<br>count=%{y}<extra></extra>",
         "legendgroup": "2.0",
         "line": {
          "color": "#636efa"
         },
         "marker": {
          "symbol": "circle"
         },
         "mode": "lines",
         "name": "2.0",
         "orientation": "v",
         "showlegend": true,
         "stackgroup": "1",
         "type": "scatter",
         "x": [
          "2021-01-01T00:00:00",
          "2021-01-02T00:00:00",
          "2021-01-03T00:00:00",
          "2021-01-04T00:00:00",
          "2021-01-05T00:00:00",
          "2021-01-06T00:00:00",
          "2021-01-07T00:00:00",
          "2021-01-08T00:00:00",
          "2021-01-10T00:00:00",
          "2021-01-11T00:00:00",
          "2021-01-15T00:00:00",
          "2021-01-20T00:00:00",
          "2021-01-25T00:00:00",
          "2021-01-27T00:00:00",
          "2021-01-29T00:00:00"
         ],
         "xaxis": "x",
         "y": [
          1,
          11,
          5,
          6,
          80,
          14,
          1,
          2,
          1,
          1,
          1,
          1,
          1,
          2,
          1
         ],
         "yaxis": "y"
        },
        {
         "hovertemplate": "Dominant_Topic=3.0<br>create_year=%{x}<br>count=%{y}<extra></extra>",
         "legendgroup": "3.0",
         "line": {
          "color": "#EF553B"
         },
         "marker": {
          "symbol": "circle"
         },
         "mode": "lines",
         "name": "3.0",
         "orientation": "v",
         "showlegend": true,
         "stackgroup": "1",
         "type": "scatter",
         "x": [
          "2021-01-01T00:00:00",
          "2021-01-02T00:00:00",
          "2021-01-03T00:00:00",
          "2021-01-04T00:00:00",
          "2021-01-05T00:00:00",
          "2021-01-06T00:00:00",
          "2021-01-07T00:00:00",
          "2021-01-08T00:00:00",
          "2021-01-09T00:00:00",
          "2021-01-12T00:00:00",
          "2021-01-13T00:00:00",
          "2021-01-30T00:00:00"
         ],
         "xaxis": "x",
         "y": [
          6,
          7,
          9,
          10,
          3,
          4,
          5,
          2,
          2,
          2,
          1,
          1
         ],
         "yaxis": "y"
        },
        {
         "hovertemplate": "Dominant_Topic=4.0<br>create_year=%{x}<br>count=%{y}<extra></extra>",
         "legendgroup": "4.0",
         "line": {
          "color": "#00cc96"
         },
         "marker": {
          "symbol": "circle"
         },
         "mode": "lines",
         "name": "4.0",
         "orientation": "v",
         "showlegend": true,
         "stackgroup": "1",
         "type": "scatter",
         "x": [
          "2021-01-01T00:00:00",
          "2021-01-02T00:00:00",
          "2021-01-03T00:00:00",
          "2021-01-04T00:00:00",
          "2021-01-05T00:00:00",
          "2021-01-06T00:00:00",
          "2021-01-07T00:00:00",
          "2021-01-08T00:00:00",
          "2021-01-09T00:00:00",
          "2021-01-10T00:00:00",
          "2021-01-11T00:00:00",
          "2021-01-12T00:00:00",
          "2021-01-14T00:00:00",
          "2021-01-16T00:00:00",
          "2021-01-17T00:00:00",
          "2021-01-18T00:00:00",
          "2021-01-19T00:00:00",
          "2021-01-20T00:00:00",
          "2021-01-21T00:00:00",
          "2021-01-22T00:00:00",
          "2021-01-23T00:00:00",
          "2021-01-24T00:00:00",
          "2021-01-26T00:00:00",
          "2021-01-27T00:00:00",
          "2021-01-28T00:00:00",
          "2021-01-29T00:00:00",
          "2021-01-30T00:00:00"
         ],
         "xaxis": "x",
         "y": [
          11,
          13,
          5,
          6,
          3,
          72,
          15,
          9,
          1,
          3,
          5,
          1,
          5,
          4,
          1,
          2,
          9,
          2,
          3,
          2,
          1,
          1,
          1,
          2,
          1,
          1,
          2
         ],
         "yaxis": "y"
        },
        {
         "hovertemplate": "Dominant_Topic=1.0<br>create_year=%{x}<br>count=%{y}<extra></extra>",
         "legendgroup": "1.0",
         "line": {
          "color": "#ab63fa"
         },
         "marker": {
          "symbol": "circle"
         },
         "mode": "lines",
         "name": "1.0",
         "orientation": "v",
         "showlegend": true,
         "stackgroup": "1",
         "type": "scatter",
         "x": [
          "2021-01-01T00:00:00",
          "2021-01-02T00:00:00",
          "2021-01-03T00:00:00",
          "2021-01-04T00:00:00",
          "2021-01-05T00:00:00",
          "2021-01-06T00:00:00",
          "2021-01-07T00:00:00",
          "2021-01-08T00:00:00",
          "2021-01-09T00:00:00",
          "2021-01-10T00:00:00",
          "2021-01-11T00:00:00",
          "2021-01-12T00:00:00",
          "2021-01-13T00:00:00",
          "2021-01-14T00:00:00",
          "2021-01-15T00:00:00",
          "2021-01-16T00:00:00",
          "2021-01-17T00:00:00",
          "2021-01-18T00:00:00",
          "2021-01-19T00:00:00",
          "2021-01-20T00:00:00",
          "2021-01-21T00:00:00",
          "2021-01-22T00:00:00",
          "2021-01-23T00:00:00",
          "2021-01-24T00:00:00",
          "2021-01-25T00:00:00",
          "2021-01-26T00:00:00",
          "2021-01-27T00:00:00",
          "2021-01-28T00:00:00",
          "2021-01-29T00:00:00",
          "2021-01-30T00:00:00"
         ],
         "xaxis": "x",
         "y": [
          174,
          519,
          423,
          222,
          1633,
          1462,
          304,
          109,
          85,
          65,
          45,
          52,
          67,
          27,
          23,
          34,
          14,
          19,
          18,
          19,
          3,
          2,
          5,
          19,
          5,
          14,
          15,
          9,
          3,
          12
         ],
         "yaxis": "y"
        },
        {
         "hovertemplate": "Dominant_Topic=7.0<br>create_year=%{x}<br>count=%{y}<extra></extra>",
         "legendgroup": "7.0",
         "line": {
          "color": "#FFA15A"
         },
         "marker": {
          "symbol": "circle"
         },
         "mode": "lines",
         "name": "7.0",
         "orientation": "v",
         "showlegend": true,
         "stackgroup": "1",
         "type": "scatter",
         "x": [
          "2021-01-01T00:00:00",
          "2021-01-02T00:00:00",
          "2021-01-03T00:00:00",
          "2021-01-04T00:00:00",
          "2021-01-05T00:00:00",
          "2021-01-06T00:00:00",
          "2021-01-07T00:00:00",
          "2021-01-08T00:00:00",
          "2021-01-09T00:00:00",
          "2021-01-10T00:00:00",
          "2021-01-11T00:00:00",
          "2021-01-12T00:00:00",
          "2021-01-13T00:00:00",
          "2021-01-14T00:00:00",
          "2021-01-15T00:00:00",
          "2021-01-16T00:00:00",
          "2021-01-17T00:00:00",
          "2021-01-18T00:00:00",
          "2021-01-19T00:00:00",
          "2021-01-20T00:00:00",
          "2021-01-21T00:00:00",
          "2021-01-22T00:00:00",
          "2021-01-23T00:00:00",
          "2021-01-24T00:00:00",
          "2021-01-25T00:00:00",
          "2021-01-26T00:00:00",
          "2021-01-27T00:00:00",
          "2021-01-28T00:00:00",
          "2021-01-29T00:00:00",
          "2021-01-30T00:00:00"
         ],
         "xaxis": "x",
         "y": [
          189,
          536,
          496,
          467,
          609,
          1287,
          479,
          171,
          122,
          183,
          93,
          92,
          99,
          90,
          70,
          57,
          30,
          61,
          40,
          34,
          25,
          20,
          14,
          12,
          27,
          10,
          17,
          23,
          20,
          21
         ],
         "yaxis": "y"
        },
        {
         "hovertemplate": "Dominant_Topic=5.0<br>create_year=%{x}<br>count=%{y}<extra></extra>",
         "legendgroup": "5.0",
         "line": {
          "color": "#19d3f3"
         },
         "marker": {
          "symbol": "circle"
         },
         "mode": "lines",
         "name": "5.0",
         "orientation": "v",
         "showlegend": true,
         "stackgroup": "1",
         "type": "scatter",
         "x": [
          "2021-01-01T00:00:00",
          "2021-01-02T00:00:00",
          "2021-01-03T00:00:00",
          "2021-01-04T00:00:00",
          "2021-01-05T00:00:00",
          "2021-01-06T00:00:00",
          "2021-01-07T00:00:00",
          "2021-01-08T00:00:00",
          "2021-01-09T00:00:00",
          "2021-01-10T00:00:00",
          "2021-01-11T00:00:00",
          "2021-01-12T00:00:00",
          "2021-01-13T00:00:00",
          "2021-01-14T00:00:00",
          "2021-01-15T00:00:00",
          "2021-01-16T00:00:00",
          "2021-01-17T00:00:00",
          "2021-01-18T00:00:00",
          "2021-01-19T00:00:00",
          "2021-01-20T00:00:00",
          "2021-01-21T00:00:00",
          "2021-01-22T00:00:00",
          "2021-01-23T00:00:00",
          "2021-01-24T00:00:00",
          "2021-01-25T00:00:00",
          "2021-01-26T00:00:00",
          "2021-01-27T00:00:00",
          "2021-01-28T00:00:00",
          "2021-01-29T00:00:00",
          "2021-01-30T00:00:00"
         ],
         "xaxis": "x",
         "y": [
          373,
          554,
          507,
          1103,
          826,
          1405,
          288,
          109,
          103,
          77,
          45,
          79,
          60,
          111,
          42,
          51,
          36,
          60,
          20,
          28,
          7,
          10,
          27,
          22,
          13,
          16,
          20,
          28,
          22,
          14
         ],
         "yaxis": "y"
        },
        {
         "hovertemplate": "Dominant_Topic=8.0<br>create_year=%{x}<br>count=%{y}<extra></extra>",
         "legendgroup": "8.0",
         "line": {
          "color": "#FF6692"
         },
         "marker": {
          "symbol": "circle"
         },
         "mode": "lines",
         "name": "8.0",
         "orientation": "v",
         "showlegend": true,
         "stackgroup": "1",
         "type": "scatter",
         "x": [
          "2021-01-01T00:00:00",
          "2021-01-02T00:00:00",
          "2021-01-03T00:00:00",
          "2021-01-04T00:00:00",
          "2021-01-05T00:00:00",
          "2021-01-06T00:00:00",
          "2021-01-07T00:00:00",
          "2021-01-08T00:00:00",
          "2021-01-09T00:00:00",
          "2021-01-10T00:00:00",
          "2021-01-11T00:00:00",
          "2021-01-12T00:00:00",
          "2021-01-13T00:00:00",
          "2021-01-14T00:00:00",
          "2021-01-15T00:00:00",
          "2021-01-16T00:00:00",
          "2021-01-17T00:00:00",
          "2021-01-18T00:00:00",
          "2021-01-19T00:00:00",
          "2021-01-20T00:00:00",
          "2021-01-21T00:00:00",
          "2021-01-22T00:00:00",
          "2021-01-23T00:00:00",
          "2021-01-24T00:00:00",
          "2021-01-25T00:00:00",
          "2021-01-26T00:00:00",
          "2021-01-27T00:00:00",
          "2021-01-28T00:00:00",
          "2021-01-29T00:00:00",
          "2021-01-30T00:00:00"
         ],
         "xaxis": "x",
         "y": [
          632,
          338,
          221,
          216,
          495,
          832,
          141,
          53,
          43,
          34,
          23,
          35,
          35,
          17,
          24,
          16,
          25,
          51,
          33,
          12,
          7,
          8,
          5,
          24,
          22,
          3,
          11,
          26,
          8,
          9
         ],
         "yaxis": "y"
        },
        {
         "hovertemplate": "Dominant_Topic=6.0<br>create_year=%{x}<br>count=%{y}<extra></extra>",
         "legendgroup": "6.0",
         "line": {
          "color": "#B6E880"
         },
         "marker": {
          "symbol": "circle"
         },
         "mode": "lines",
         "name": "6.0",
         "orientation": "v",
         "showlegend": true,
         "stackgroup": "1",
         "type": "scatter",
         "x": [
          "2021-01-01T00:00:00",
          "2021-01-02T00:00:00",
          "2021-01-03T00:00:00",
          "2021-01-04T00:00:00",
          "2021-01-05T00:00:00",
          "2021-01-06T00:00:00",
          "2021-01-07T00:00:00",
          "2021-01-08T00:00:00",
          "2021-01-09T00:00:00",
          "2021-01-10T00:00:00",
          "2021-01-11T00:00:00",
          "2021-01-12T00:00:00",
          "2021-01-13T00:00:00",
          "2021-01-14T00:00:00",
          "2021-01-15T00:00:00",
          "2021-01-16T00:00:00",
          "2021-01-17T00:00:00",
          "2021-01-18T00:00:00",
          "2021-01-19T00:00:00",
          "2021-01-20T00:00:00",
          "2021-01-21T00:00:00",
          "2021-01-22T00:00:00",
          "2021-01-23T00:00:00",
          "2021-01-24T00:00:00",
          "2021-01-25T00:00:00",
          "2021-01-26T00:00:00",
          "2021-01-27T00:00:00",
          "2021-01-28T00:00:00",
          "2021-01-29T00:00:00",
          "2021-01-30T00:00:00"
         ],
         "xaxis": "x",
         "y": [
          1629,
          1590,
          1656,
          2360,
          2601,
          5226,
          1438,
          688,
          399,
          1012,
          700,
          506,
          360,
          343,
          313,
          253,
          213,
          165,
          109,
          200,
          73,
          94,
          82,
          38,
          66,
          54,
          70,
          84,
          43,
          35
         ],
         "yaxis": "y"
        },
        {
         "hovertemplate": "Dominant_Topic=0.0<br>create_year=%{x}<br>count=%{y}<extra></extra>",
         "legendgroup": "0.0",
         "line": {
          "color": "#FF97FF"
         },
         "marker": {
          "symbol": "circle"
         },
         "mode": "lines",
         "name": "0.0",
         "orientation": "v",
         "showlegend": true,
         "stackgroup": "1",
         "type": "scatter",
         "x": [
          "2021-01-03T00:00:00",
          "2021-01-04T00:00:00",
          "2021-01-06T00:00:00",
          "2021-01-08T00:00:00"
         ],
         "xaxis": "x",
         "y": [
          1,
          1,
          1,
          1
         ],
         "yaxis": "y"
        }
       ],
       "layout": {
        "legend": {
         "title": {
          "text": "Dominant_Topic"
         },
         "tracegroupgap": 0
        },
        "margin": {
         "t": 60
        },
        "template": {
         "data": {
          "bar": [
           {
            "error_x": {
             "color": "#2a3f5f"
            },
            "error_y": {
             "color": "#2a3f5f"
            },
            "marker": {
             "line": {
              "color": "#E5ECF6",
              "width": 0.5
             },
             "pattern": {
              "fillmode": "overlay",
              "size": 10,
              "solidity": 0.2
             }
            },
            "type": "bar"
           }
          ],
          "barpolar": [
           {
            "marker": {
             "line": {
              "color": "#E5ECF6",
              "width": 0.5
             },
             "pattern": {
              "fillmode": "overlay",
              "size": 10,
              "solidity": 0.2
             }
            },
            "type": "barpolar"
           }
          ],
          "carpet": [
           {
            "aaxis": {
             "endlinecolor": "#2a3f5f",
             "gridcolor": "white",
             "linecolor": "white",
             "minorgridcolor": "white",
             "startlinecolor": "#2a3f5f"
            },
            "baxis": {
             "endlinecolor": "#2a3f5f",
             "gridcolor": "white",
             "linecolor": "white",
             "minorgridcolor": "white",
             "startlinecolor": "#2a3f5f"
            },
            "type": "carpet"
           }
          ],
          "choropleth": [
           {
            "colorbar": {
             "outlinewidth": 0,
             "ticks": ""
            },
            "type": "choropleth"
           }
          ],
          "contour": [
           {
            "colorbar": {
             "outlinewidth": 0,
             "ticks": ""
            },
            "colorscale": [
             [
              0,
              "#0d0887"
             ],
             [
              0.1111111111111111,
              "#46039f"
             ],
             [
              0.2222222222222222,
              "#7201a8"
             ],
             [
              0.3333333333333333,
              "#9c179e"
             ],
             [
              0.4444444444444444,
              "#bd3786"
             ],
             [
              0.5555555555555556,
              "#d8576b"
             ],
             [
              0.6666666666666666,
              "#ed7953"
             ],
             [
              0.7777777777777778,
              "#fb9f3a"
             ],
             [
              0.8888888888888888,
              "#fdca26"
             ],
             [
              1,
              "#f0f921"
             ]
            ],
            "type": "contour"
           }
          ],
          "contourcarpet": [
           {
            "colorbar": {
             "outlinewidth": 0,
             "ticks": ""
            },
            "type": "contourcarpet"
           }
          ],
          "heatmap": [
           {
            "colorbar": {
             "outlinewidth": 0,
             "ticks": ""
            },
            "colorscale": [
             [
              0,
              "#0d0887"
             ],
             [
              0.1111111111111111,
              "#46039f"
             ],
             [
              0.2222222222222222,
              "#7201a8"
             ],
             [
              0.3333333333333333,
              "#9c179e"
             ],
             [
              0.4444444444444444,
              "#bd3786"
             ],
             [
              0.5555555555555556,
              "#d8576b"
             ],
             [
              0.6666666666666666,
              "#ed7953"
             ],
             [
              0.7777777777777778,
              "#fb9f3a"
             ],
             [
              0.8888888888888888,
              "#fdca26"
             ],
             [
              1,
              "#f0f921"
             ]
            ],
            "type": "heatmap"
           }
          ],
          "heatmapgl": [
           {
            "colorbar": {
             "outlinewidth": 0,
             "ticks": ""
            },
            "colorscale": [
             [
              0,
              "#0d0887"
             ],
             [
              0.1111111111111111,
              "#46039f"
             ],
             [
              0.2222222222222222,
              "#7201a8"
             ],
             [
              0.3333333333333333,
              "#9c179e"
             ],
             [
              0.4444444444444444,
              "#bd3786"
             ],
             [
              0.5555555555555556,
              "#d8576b"
             ],
             [
              0.6666666666666666,
              "#ed7953"
             ],
             [
              0.7777777777777778,
              "#fb9f3a"
             ],
             [
              0.8888888888888888,
              "#fdca26"
             ],
             [
              1,
              "#f0f921"
             ]
            ],
            "type": "heatmapgl"
           }
          ],
          "histogram": [
           {
            "marker": {
             "pattern": {
              "fillmode": "overlay",
              "size": 10,
              "solidity": 0.2
             }
            },
            "type": "histogram"
           }
          ],
          "histogram2d": [
           {
            "colorbar": {
             "outlinewidth": 0,
             "ticks": ""
            },
            "colorscale": [
             [
              0,
              "#0d0887"
             ],
             [
              0.1111111111111111,
              "#46039f"
             ],
             [
              0.2222222222222222,
              "#7201a8"
             ],
             [
              0.3333333333333333,
              "#9c179e"
             ],
             [
              0.4444444444444444,
              "#bd3786"
             ],
             [
              0.5555555555555556,
              "#d8576b"
             ],
             [
              0.6666666666666666,
              "#ed7953"
             ],
             [
              0.7777777777777778,
              "#fb9f3a"
             ],
             [
              0.8888888888888888,
              "#fdca26"
             ],
             [
              1,
              "#f0f921"
             ]
            ],
            "type": "histogram2d"
           }
          ],
          "histogram2dcontour": [
           {
            "colorbar": {
             "outlinewidth": 0,
             "ticks": ""
            },
            "colorscale": [
             [
              0,
              "#0d0887"
             ],
             [
              0.1111111111111111,
              "#46039f"
             ],
             [
              0.2222222222222222,
              "#7201a8"
             ],
             [
              0.3333333333333333,
              "#9c179e"
             ],
             [
              0.4444444444444444,
              "#bd3786"
             ],
             [
              0.5555555555555556,
              "#d8576b"
             ],
             [
              0.6666666666666666,
              "#ed7953"
             ],
             [
              0.7777777777777778,
              "#fb9f3a"
             ],
             [
              0.8888888888888888,
              "#fdca26"
             ],
             [
              1,
              "#f0f921"
             ]
            ],
            "type": "histogram2dcontour"
           }
          ],
          "mesh3d": [
           {
            "colorbar": {
             "outlinewidth": 0,
             "ticks": ""
            },
            "type": "mesh3d"
           }
          ],
          "parcoords": [
           {
            "line": {
             "colorbar": {
              "outlinewidth": 0,
              "ticks": ""
             }
            },
            "type": "parcoords"
           }
          ],
          "pie": [
           {
            "automargin": true,
            "type": "pie"
           }
          ],
          "scatter": [
           {
            "marker": {
             "colorbar": {
              "outlinewidth": 0,
              "ticks": ""
             }
            },
            "type": "scatter"
           }
          ],
          "scatter3d": [
           {
            "line": {
             "colorbar": {
              "outlinewidth": 0,
              "ticks": ""
             }
            },
            "marker": {
             "colorbar": {
              "outlinewidth": 0,
              "ticks": ""
             }
            },
            "type": "scatter3d"
           }
          ],
          "scattercarpet": [
           {
            "marker": {
             "colorbar": {
              "outlinewidth": 0,
              "ticks": ""
             }
            },
            "type": "scattercarpet"
           }
          ],
          "scattergeo": [
           {
            "marker": {
             "colorbar": {
              "outlinewidth": 0,
              "ticks": ""
             }
            },
            "type": "scattergeo"
           }
          ],
          "scattergl": [
           {
            "marker": {
             "colorbar": {
              "outlinewidth": 0,
              "ticks": ""
             }
            },
            "type": "scattergl"
           }
          ],
          "scattermapbox": [
           {
            "marker": {
             "colorbar": {
              "outlinewidth": 0,
              "ticks": ""
             }
            },
            "type": "scattermapbox"
           }
          ],
          "scatterpolar": [
           {
            "marker": {
             "colorbar": {
              "outlinewidth": 0,
              "ticks": ""
             }
            },
            "type": "scatterpolar"
           }
          ],
          "scatterpolargl": [
           {
            "marker": {
             "colorbar": {
              "outlinewidth": 0,
              "ticks": ""
             }
            },
            "type": "scatterpolargl"
           }
          ],
          "scatterternary": [
           {
            "marker": {
             "colorbar": {
              "outlinewidth": 0,
              "ticks": ""
             }
            },
            "type": "scatterternary"
           }
          ],
          "surface": [
           {
            "colorbar": {
             "outlinewidth": 0,
             "ticks": ""
            },
            "colorscale": [
             [
              0,
              "#0d0887"
             ],
             [
              0.1111111111111111,
              "#46039f"
             ],
             [
              0.2222222222222222,
              "#7201a8"
             ],
             [
              0.3333333333333333,
              "#9c179e"
             ],
             [
              0.4444444444444444,
              "#bd3786"
             ],
             [
              0.5555555555555556,
              "#d8576b"
             ],
             [
              0.6666666666666666,
              "#ed7953"
             ],
             [
              0.7777777777777778,
              "#fb9f3a"
             ],
             [
              0.8888888888888888,
              "#fdca26"
             ],
             [
              1,
              "#f0f921"
             ]
            ],
            "type": "surface"
           }
          ],
          "table": [
           {
            "cells": {
             "fill": {
              "color": "#EBF0F8"
             },
             "line": {
              "color": "white"
             }
            },
            "header": {
             "fill": {
              "color": "#C8D4E3"
             },
             "line": {
              "color": "white"
             }
            },
            "type": "table"
           }
          ]
         },
         "layout": {
          "annotationdefaults": {
           "arrowcolor": "#2a3f5f",
           "arrowhead": 0,
           "arrowwidth": 1
          },
          "autotypenumbers": "strict",
          "coloraxis": {
           "colorbar": {
            "outlinewidth": 0,
            "ticks": ""
           }
          },
          "colorscale": {
           "diverging": [
            [
             0,
             "#8e0152"
            ],
            [
             0.1,
             "#c51b7d"
            ],
            [
             0.2,
             "#de77ae"
            ],
            [
             0.3,
             "#f1b6da"
            ],
            [
             0.4,
             "#fde0ef"
            ],
            [
             0.5,
             "#f7f7f7"
            ],
            [
             0.6,
             "#e6f5d0"
            ],
            [
             0.7,
             "#b8e186"
            ],
            [
             0.8,
             "#7fbc41"
            ],
            [
             0.9,
             "#4d9221"
            ],
            [
             1,
             "#276419"
            ]
           ],
           "sequential": [
            [
             0,
             "#0d0887"
            ],
            [
             0.1111111111111111,
             "#46039f"
            ],
            [
             0.2222222222222222,
             "#7201a8"
            ],
            [
             0.3333333333333333,
             "#9c179e"
            ],
            [
             0.4444444444444444,
             "#bd3786"
            ],
            [
             0.5555555555555556,
             "#d8576b"
            ],
            [
             0.6666666666666666,
             "#ed7953"
            ],
            [
             0.7777777777777778,
             "#fb9f3a"
            ],
            [
             0.8888888888888888,
             "#fdca26"
            ],
            [
             1,
             "#f0f921"
            ]
           ],
           "sequentialminus": [
            [
             0,
             "#0d0887"
            ],
            [
             0.1111111111111111,
             "#46039f"
            ],
            [
             0.2222222222222222,
             "#7201a8"
            ],
            [
             0.3333333333333333,
             "#9c179e"
            ],
            [
             0.4444444444444444,
             "#bd3786"
            ],
            [
             0.5555555555555556,
             "#d8576b"
            ],
            [
             0.6666666666666666,
             "#ed7953"
            ],
            [
             0.7777777777777778,
             "#fb9f3a"
            ],
            [
             0.8888888888888888,
             "#fdca26"
            ],
            [
             1,
             "#f0f921"
            ]
           ]
          },
          "colorway": [
           "#636efa",
           "#EF553B",
           "#00cc96",
           "#ab63fa",
           "#FFA15A",
           "#19d3f3",
           "#FF6692",
           "#B6E880",
           "#FF97FF",
           "#FECB52"
          ],
          "font": {
           "color": "#2a3f5f"
          },
          "geo": {
           "bgcolor": "white",
           "lakecolor": "white",
           "landcolor": "#E5ECF6",
           "showlakes": true,
           "showland": true,
           "subunitcolor": "white"
          },
          "hoverlabel": {
           "align": "left"
          },
          "hovermode": "closest",
          "mapbox": {
           "style": "light"
          },
          "paper_bgcolor": "white",
          "plot_bgcolor": "#E5ECF6",
          "polar": {
           "angularaxis": {
            "gridcolor": "white",
            "linecolor": "white",
            "ticks": ""
           },
           "bgcolor": "#E5ECF6",
           "radialaxis": {
            "gridcolor": "white",
            "linecolor": "white",
            "ticks": ""
           }
          },
          "scene": {
           "xaxis": {
            "backgroundcolor": "#E5ECF6",
            "gridcolor": "white",
            "gridwidth": 2,
            "linecolor": "white",
            "showbackground": true,
            "ticks": "",
            "zerolinecolor": "white"
           },
           "yaxis": {
            "backgroundcolor": "#E5ECF6",
            "gridcolor": "white",
            "gridwidth": 2,
            "linecolor": "white",
            "showbackground": true,
            "ticks": "",
            "zerolinecolor": "white"
           },
           "zaxis": {
            "backgroundcolor": "#E5ECF6",
            "gridcolor": "white",
            "gridwidth": 2,
            "linecolor": "white",
            "showbackground": true,
            "ticks": "",
            "zerolinecolor": "white"
           }
          },
          "shapedefaults": {
           "line": {
            "color": "#2a3f5f"
           }
          },
          "ternary": {
           "aaxis": {
            "gridcolor": "white",
            "linecolor": "white",
            "ticks": ""
           },
           "baxis": {
            "gridcolor": "white",
            "linecolor": "white",
            "ticks": ""
           },
           "bgcolor": "#E5ECF6",
           "caxis": {
            "gridcolor": "white",
            "linecolor": "white",
            "ticks": ""
           }
          },
          "title": {
           "x": 0.05
          },
          "xaxis": {
           "automargin": true,
           "gridcolor": "white",
           "linecolor": "white",
           "ticks": "",
           "title": {
            "standoff": 15
           },
           "zerolinecolor": "white",
           "zerolinewidth": 2
          },
          "yaxis": {
           "automargin": true,
           "gridcolor": "white",
           "linecolor": "white",
           "ticks": "",
           "title": {
            "standoff": 15
           },
           "zerolinecolor": "white",
           "zerolinewidth": 2
          }
         }
        },
        "xaxis": {
         "anchor": "y",
         "domain": [
          0,
          1
         ],
         "title": {
          "text": "create_year"
         }
        },
        "yaxis": {
         "anchor": "x",
         "domain": [
          0,
          1
         ],
         "title": {
          "text": "count"
         }
        }
       }
      }
     },
     "metadata": {},
     "output_type": "display_data"
    }
   ],
   "source": [
    "# Plot topic distribution over time\n",
    "topic_stream = px.area(topic_dist_count, x='create_year', y='count', color='Dominant_Topic')\n",
    "topic_stream\n"
   ]
  },
  {
   "cell_type": "code",
   "execution_count": 29,
   "id": "2e0db8c9",
   "metadata": {},
   "outputs": [],
   "source": [
    "# Export topic stream plot\n",
    "topic_stream.write_html(r\"C:\\Users\\Ivory-UALR\\Documents\\COSMOS\\Billy's Project\\community_topic_model\\2nd_community_dataset\\2nd_analysis_LDAmodel\\2nd_analysis_topicstream_vis.html\")"
   ]
  },
  {
   "cell_type": "markdown",
   "id": "2e900c4e",
   "metadata": {},
   "source": [
    "#### Visualizing topic streams by weeks"
   ]
  },
  {
   "cell_type": "code",
   "execution_count": 32,
   "id": "0c5c8971",
   "metadata": {},
   "outputs": [],
   "source": [
    "# Add year column to topic_dist_week distribution dataset\n",
    "dates = pd.Series(stream_two['create_year'])\n",
    "topic_dist_week = pd.concat([df_dominant_topic, dates], axis=1)\n",
    "\n",
    "# Drop NaN rows\n",
    "topic_dist_week = topic_dist_week.dropna()\n",
    "\n",
    "# Add a year column to the topic_dist_week dataframe\n",
    "topic_dist_week['year'] = pd.to_datetime(topic_dist_week.create_year).dt.strftime('%Y')\n",
    "\n",
    "# Add a week_number column to the topic_dist_week dataframe\n",
    "topic_dist_week['week_number'] = topic_dist_week.create_year.apply(lambda x: x.isocalendar()[1])\n",
    "\n",
    "# Convert weeks to date_range and add date_range column to topic_dist_week dataframe\n",
    "def date_range(year, week): # Function to return date range per week\n",
    "    monday = dt.datetime.strptime(f'{year}-{week}-1', \"%Y-%W-%w\").date()\n",
    "    return (monday.strftime(\"%m-%d-%Y\"), (monday + dt.timedelta(days=6.9)).strftime(\"%m-%d-%Y\"))\n",
    "\n",
    "for column in topic_dist_week:\n",
    "    date_range_list = []\n",
    "    years = topic_dist_week['year'].values\n",
    "    weeks = topic_dist_week['week_number'].values\n",
    "    for (year, week) in zip(years, weeks):\n",
    "        date_interval = date_range(year, week)\n",
    "        date_range_list.append(date_interval)\n",
    "\n",
    "topic_dist_week['date_range'] = pd.Series(date_range_list)"
   ]
  },
  {
   "cell_type": "code",
   "execution_count": 33,
   "id": "53f99b28",
   "metadata": {},
   "outputs": [
    {
     "data": {
      "text/html": [
       "<div>\n",
       "<style scoped>\n",
       "    .dataframe tbody tr th:only-of-type {\n",
       "        vertical-align: middle;\n",
       "    }\n",
       "\n",
       "    .dataframe tbody tr th {\n",
       "        vertical-align: top;\n",
       "    }\n",
       "\n",
       "    .dataframe thead th {\n",
       "        text-align: right;\n",
       "    }\n",
       "</style>\n",
       "<table border=\"1\" class=\"dataframe\">\n",
       "  <thead>\n",
       "    <tr style=\"text-align: right;\">\n",
       "      <th></th>\n",
       "      <th>week_number</th>\n",
       "      <th>date_interval</th>\n",
       "    </tr>\n",
       "  </thead>\n",
       "  <tbody>\n",
       "    <tr>\n",
       "      <th>0</th>\n",
       "      <td>1</td>\n",
       "      <td>(01-18-2021, 01-24-2021)</td>\n",
       "    </tr>\n",
       "    <tr>\n",
       "      <th>1</th>\n",
       "      <td>2</td>\n",
       "      <td>(01-25-2021, 01-31-2021)</td>\n",
       "    </tr>\n",
       "    <tr>\n",
       "      <th>2</th>\n",
       "      <td>3</td>\n",
       "      <td>(01-03-2022, 01-09-2022)</td>\n",
       "    </tr>\n",
       "    <tr>\n",
       "      <th>3</th>\n",
       "      <td>4</td>\n",
       "      <td>(01-11-2021, 01-17-2021)</td>\n",
       "    </tr>\n",
       "    <tr>\n",
       "      <th>4</th>\n",
       "      <td>53</td>\n",
       "      <td>(01-04-2021, 01-10-2021)</td>\n",
       "    </tr>\n",
       "  </tbody>\n",
       "</table>\n",
       "</div>"
      ],
      "text/plain": [
       "   week_number             date_interval\n",
       "0            1  (01-18-2021, 01-24-2021)\n",
       "1            2  (01-25-2021, 01-31-2021)\n",
       "2            3  (01-03-2022, 01-09-2022)\n",
       "3            4  (01-11-2021, 01-17-2021)\n",
       "4           53  (01-04-2021, 01-10-2021)"
      ]
     },
     "execution_count": 33,
     "metadata": {},
     "output_type": "execute_result"
    }
   ],
   "source": [
    "# Generate week-date_interval information\n",
    "years = topic_dist_week['year'].values\n",
    "weeks = topic_dist_week['week_number'].values\n",
    "for (year, week) in zip(years, weeks):\n",
    "        date_interval = date_range(year, week)\n",
    "        date_range_list.append(date_interval)\n",
    "\n",
    "unique_weeks = pd.Series(list(set(weeks)))\n",
    "unique_interval = pd.Series(list(set(date_range_list)))\n",
    "\n",
    "topic_week_agg = pd.DataFrame()\n",
    "topic_week_agg['week_number'] = unique_weeks\n",
    "topic_week_agg['date_interval'] = unique_interval\n",
    "topic_week_agg"
   ]
  },
  {
   "cell_type": "code",
   "execution_count": 34,
   "id": "4578ce4b",
   "metadata": {},
   "outputs": [],
   "source": [
    "# Export week information\n",
    "topic_week_agg.to_excel(r\"C:\\Users\\Ivory-UALR\\Documents\\COSMOS\\Billy's Project\\community_topic_model\\2nd_community_dataset\\2nd_analysis_LDAmodel\\2nd_analysis_week_information.xlsx\")"
   ]
  },
  {
   "cell_type": "markdown",
   "id": "e70f35a1",
   "metadata": {},
   "source": [
    "#### Plot topics by weeks"
   ]
  },
  {
   "cell_type": "code",
   "execution_count": 35,
   "id": "d569d22c",
   "metadata": {},
   "outputs": [
    {
     "data": {
      "text/html": [
       "<div>\n",
       "<style scoped>\n",
       "    .dataframe tbody tr th:only-of-type {\n",
       "        vertical-align: middle;\n",
       "    }\n",
       "\n",
       "    .dataframe tbody tr th {\n",
       "        vertical-align: top;\n",
       "    }\n",
       "\n",
       "    .dataframe thead th {\n",
       "        text-align: right;\n",
       "    }\n",
       "</style>\n",
       "<table border=\"1\" class=\"dataframe\">\n",
       "  <thead>\n",
       "    <tr style=\"text-align: right;\">\n",
       "      <th></th>\n",
       "      <th>Dominant_Topic</th>\n",
       "      <th>week_number</th>\n",
       "      <th>count</th>\n",
       "    </tr>\n",
       "  </thead>\n",
       "  <tbody>\n",
       "    <tr>\n",
       "      <th>0</th>\n",
       "      <td>0.0</td>\n",
       "      <td>1</td>\n",
       "      <td>3</td>\n",
       "    </tr>\n",
       "    <tr>\n",
       "      <th>1</th>\n",
       "      <td>3.0</td>\n",
       "      <td>1</td>\n",
       "      <td>26</td>\n",
       "    </tr>\n",
       "    <tr>\n",
       "      <th>2</th>\n",
       "      <td>2.0</td>\n",
       "      <td>1</td>\n",
       "      <td>104</td>\n",
       "    </tr>\n",
       "    <tr>\n",
       "      <th>3</th>\n",
       "      <td>4.0</td>\n",
       "      <td>1</td>\n",
       "      <td>109</td>\n",
       "    </tr>\n",
       "    <tr>\n",
       "      <th>4</th>\n",
       "      <td>8.0</td>\n",
       "      <td>1</td>\n",
       "      <td>1814</td>\n",
       "    </tr>\n",
       "    <tr>\n",
       "      <th>5</th>\n",
       "      <td>7.0</td>\n",
       "      <td>1</td>\n",
       "      <td>3318</td>\n",
       "    </tr>\n",
       "    <tr>\n",
       "      <th>6</th>\n",
       "      <td>1.0</td>\n",
       "      <td>1</td>\n",
       "      <td>3880</td>\n",
       "    </tr>\n",
       "    <tr>\n",
       "      <th>7</th>\n",
       "      <td>5.0</td>\n",
       "      <td>1</td>\n",
       "      <td>3911</td>\n",
       "    </tr>\n",
       "    <tr>\n",
       "      <th>8</th>\n",
       "      <td>6.0</td>\n",
       "      <td>1</td>\n",
       "      <td>13724</td>\n",
       "    </tr>\n",
       "    <tr>\n",
       "      <th>9</th>\n",
       "      <td>2.0</td>\n",
       "      <td>2</td>\n",
       "      <td>2</td>\n",
       "    </tr>\n",
       "    <tr>\n",
       "      <th>10</th>\n",
       "      <td>3.0</td>\n",
       "      <td>2</td>\n",
       "      <td>3</td>\n",
       "    </tr>\n",
       "    <tr>\n",
       "      <th>11</th>\n",
       "      <td>4.0</td>\n",
       "      <td>2</td>\n",
       "      <td>16</td>\n",
       "    </tr>\n",
       "    <tr>\n",
       "      <th>12</th>\n",
       "      <td>8.0</td>\n",
       "      <td>2</td>\n",
       "      <td>175</td>\n",
       "    </tr>\n",
       "    <tr>\n",
       "      <th>13</th>\n",
       "      <td>1.0</td>\n",
       "      <td>2</td>\n",
       "      <td>262</td>\n",
       "    </tr>\n",
       "    <tr>\n",
       "      <th>14</th>\n",
       "      <td>5.0</td>\n",
       "      <td>2</td>\n",
       "      <td>424</td>\n",
       "    </tr>\n",
       "    <tr>\n",
       "      <th>15</th>\n",
       "      <td>7.0</td>\n",
       "      <td>2</td>\n",
       "      <td>531</td>\n",
       "    </tr>\n",
       "    <tr>\n",
       "      <th>16</th>\n",
       "      <td>6.0</td>\n",
       "      <td>2</td>\n",
       "      <td>2688</td>\n",
       "    </tr>\n",
       "    <tr>\n",
       "      <th>17</th>\n",
       "      <td>2.0</td>\n",
       "      <td>3</td>\n",
       "      <td>1</td>\n",
       "    </tr>\n",
       "    <tr>\n",
       "      <th>18</th>\n",
       "      <td>4.0</td>\n",
       "      <td>3</td>\n",
       "      <td>20</td>\n",
       "    </tr>\n",
       "    <tr>\n",
       "      <th>19</th>\n",
       "      <td>1.0</td>\n",
       "      <td>3</td>\n",
       "      <td>85</td>\n",
       "    </tr>\n",
       "    <tr>\n",
       "      <th>20</th>\n",
       "      <td>8.0</td>\n",
       "      <td>3</td>\n",
       "      <td>140</td>\n",
       "    </tr>\n",
       "    <tr>\n",
       "      <th>21</th>\n",
       "      <td>5.0</td>\n",
       "      <td>3</td>\n",
       "      <td>174</td>\n",
       "    </tr>\n",
       "    <tr>\n",
       "      <th>22</th>\n",
       "      <td>7.0</td>\n",
       "      <td>3</td>\n",
       "      <td>206</td>\n",
       "    </tr>\n",
       "    <tr>\n",
       "      <th>23</th>\n",
       "      <td>6.0</td>\n",
       "      <td>3</td>\n",
       "      <td>761</td>\n",
       "    </tr>\n",
       "    <tr>\n",
       "      <th>24</th>\n",
       "      <td>3.0</td>\n",
       "      <td>4</td>\n",
       "      <td>1</td>\n",
       "    </tr>\n",
       "    <tr>\n",
       "      <th>25</th>\n",
       "      <td>2.0</td>\n",
       "      <td>4</td>\n",
       "      <td>4</td>\n",
       "    </tr>\n",
       "    <tr>\n",
       "      <th>26</th>\n",
       "      <td>4.0</td>\n",
       "      <td>4</td>\n",
       "      <td>7</td>\n",
       "    </tr>\n",
       "    <tr>\n",
       "      <th>27</th>\n",
       "      <td>1.0</td>\n",
       "      <td>4</td>\n",
       "      <td>58</td>\n",
       "    </tr>\n",
       "    <tr>\n",
       "      <th>28</th>\n",
       "      <td>8.0</td>\n",
       "      <td>4</td>\n",
       "      <td>79</td>\n",
       "    </tr>\n",
       "    <tr>\n",
       "      <th>29</th>\n",
       "      <td>5.0</td>\n",
       "      <td>4</td>\n",
       "      <td>113</td>\n",
       "    </tr>\n",
       "    <tr>\n",
       "      <th>30</th>\n",
       "      <td>7.0</td>\n",
       "      <td>4</td>\n",
       "      <td>118</td>\n",
       "    </tr>\n",
       "    <tr>\n",
       "      <th>31</th>\n",
       "      <td>6.0</td>\n",
       "      <td>4</td>\n",
       "      <td>352</td>\n",
       "    </tr>\n",
       "    <tr>\n",
       "      <th>32</th>\n",
       "      <td>0.0</td>\n",
       "      <td>53</td>\n",
       "      <td>1</td>\n",
       "    </tr>\n",
       "    <tr>\n",
       "      <th>33</th>\n",
       "      <td>2.0</td>\n",
       "      <td>53</td>\n",
       "      <td>17</td>\n",
       "    </tr>\n",
       "    <tr>\n",
       "      <th>34</th>\n",
       "      <td>3.0</td>\n",
       "      <td>53</td>\n",
       "      <td>22</td>\n",
       "    </tr>\n",
       "    <tr>\n",
       "      <th>35</th>\n",
       "      <td>4.0</td>\n",
       "      <td>53</td>\n",
       "      <td>29</td>\n",
       "    </tr>\n",
       "    <tr>\n",
       "      <th>36</th>\n",
       "      <td>1.0</td>\n",
       "      <td>53</td>\n",
       "      <td>1116</td>\n",
       "    </tr>\n",
       "    <tr>\n",
       "      <th>37</th>\n",
       "      <td>8.0</td>\n",
       "      <td>53</td>\n",
       "      <td>1191</td>\n",
       "    </tr>\n",
       "    <tr>\n",
       "      <th>38</th>\n",
       "      <td>7.0</td>\n",
       "      <td>53</td>\n",
       "      <td>1221</td>\n",
       "    </tr>\n",
       "    <tr>\n",
       "      <th>39</th>\n",
       "      <td>5.0</td>\n",
       "      <td>53</td>\n",
       "      <td>1434</td>\n",
       "    </tr>\n",
       "    <tr>\n",
       "      <th>40</th>\n",
       "      <td>6.0</td>\n",
       "      <td>53</td>\n",
       "      <td>4875</td>\n",
       "    </tr>\n",
       "  </tbody>\n",
       "</table>\n",
       "</div>"
      ],
      "text/plain": [
       "    Dominant_Topic  week_number  count\n",
       "0              0.0            1      3\n",
       "1              3.0            1     26\n",
       "2              2.0            1    104\n",
       "3              4.0            1    109\n",
       "4              8.0            1   1814\n",
       "5              7.0            1   3318\n",
       "6              1.0            1   3880\n",
       "7              5.0            1   3911\n",
       "8              6.0            1  13724\n",
       "9              2.0            2      2\n",
       "10             3.0            2      3\n",
       "11             4.0            2     16\n",
       "12             8.0            2    175\n",
       "13             1.0            2    262\n",
       "14             5.0            2    424\n",
       "15             7.0            2    531\n",
       "16             6.0            2   2688\n",
       "17             2.0            3      1\n",
       "18             4.0            3     20\n",
       "19             1.0            3     85\n",
       "20             8.0            3    140\n",
       "21             5.0            3    174\n",
       "22             7.0            3    206\n",
       "23             6.0            3    761\n",
       "24             3.0            4      1\n",
       "25             2.0            4      4\n",
       "26             4.0            4      7\n",
       "27             1.0            4     58\n",
       "28             8.0            4     79\n",
       "29             5.0            4    113\n",
       "30             7.0            4    118\n",
       "31             6.0            4    352\n",
       "32             0.0           53      1\n",
       "33             2.0           53     17\n",
       "34             3.0           53     22\n",
       "35             4.0           53     29\n",
       "36             1.0           53   1116\n",
       "37             8.0           53   1191\n",
       "38             7.0           53   1221\n",
       "39             5.0           53   1434\n",
       "40             6.0           53   4875"
      ]
     },
     "execution_count": 35,
     "metadata": {},
     "output_type": "execute_result"
    }
   ],
   "source": [
    "# Group Dataframe by week_number and aggregrate by count() NB: Convert datee_range list to date_range tuple\n",
    "topic_dist_week_count = topic_dist_week.groupby(['Dominant_Topic', pd.Grouper(key='week_number')])['Dominant_Topic'].agg(['count']).reset_index()\n",
    "# return a sorted DataFrame by date then count\n",
    "topic_dist_week_count = topic_dist_week_count.sort_values(by=['week_number', 'count'])\n",
    "# reset the index\n",
    "topic_dist_week_count = topic_dist_week_count.reset_index(drop=True)\n",
    "topic_dist_week_count"
   ]
  },
  {
   "cell_type": "code",
   "execution_count": 36,
   "id": "df172286",
   "metadata": {},
   "outputs": [
    {
     "data": {
      "application/vnd.plotly.v1+json": {
       "config": {
        "plotlyServerURL": "https://plot.ly"
       },
       "data": [
        {
         "hovertemplate": "Dominant_Topic=0.0<br>week_number=%{x}<br>count=%{y}<extra></extra>",
         "legendgroup": "0.0",
         "line": {
          "color": "#636efa"
         },
         "marker": {
          "symbol": "circle"
         },
         "mode": "lines",
         "name": "0.0",
         "orientation": "v",
         "showlegend": true,
         "stackgroup": "1",
         "type": "scatter",
         "x": [
          1,
          53
         ],
         "xaxis": "x",
         "y": [
          3,
          1
         ],
         "yaxis": "y"
        },
        {
         "hovertemplate": "Dominant_Topic=3.0<br>week_number=%{x}<br>count=%{y}<extra></extra>",
         "legendgroup": "3.0",
         "line": {
          "color": "#EF553B"
         },
         "marker": {
          "symbol": "circle"
         },
         "mode": "lines",
         "name": "3.0",
         "orientation": "v",
         "showlegend": true,
         "stackgroup": "1",
         "type": "scatter",
         "x": [
          1,
          2,
          4,
          53
         ],
         "xaxis": "x",
         "y": [
          26,
          3,
          1,
          22
         ],
         "yaxis": "y"
        },
        {
         "hovertemplate": "Dominant_Topic=2.0<br>week_number=%{x}<br>count=%{y}<extra></extra>",
         "legendgroup": "2.0",
         "line": {
          "color": "#00cc96"
         },
         "marker": {
          "symbol": "circle"
         },
         "mode": "lines",
         "name": "2.0",
         "orientation": "v",
         "showlegend": true,
         "stackgroup": "1",
         "type": "scatter",
         "x": [
          1,
          2,
          3,
          4,
          53
         ],
         "xaxis": "x",
         "y": [
          104,
          2,
          1,
          4,
          17
         ],
         "yaxis": "y"
        },
        {
         "hovertemplate": "Dominant_Topic=4.0<br>week_number=%{x}<br>count=%{y}<extra></extra>",
         "legendgroup": "4.0",
         "line": {
          "color": "#ab63fa"
         },
         "marker": {
          "symbol": "circle"
         },
         "mode": "lines",
         "name": "4.0",
         "orientation": "v",
         "showlegend": true,
         "stackgroup": "1",
         "type": "scatter",
         "x": [
          1,
          2,
          3,
          4,
          53
         ],
         "xaxis": "x",
         "y": [
          109,
          16,
          20,
          7,
          29
         ],
         "yaxis": "y"
        },
        {
         "hovertemplate": "Dominant_Topic=8.0<br>week_number=%{x}<br>count=%{y}<extra></extra>",
         "legendgroup": "8.0",
         "line": {
          "color": "#FFA15A"
         },
         "marker": {
          "symbol": "circle"
         },
         "mode": "lines",
         "name": "8.0",
         "orientation": "v",
         "showlegend": true,
         "stackgroup": "1",
         "type": "scatter",
         "x": [
          1,
          2,
          3,
          4,
          53
         ],
         "xaxis": "x",
         "y": [
          1814,
          175,
          140,
          79,
          1191
         ],
         "yaxis": "y"
        },
        {
         "hovertemplate": "Dominant_Topic=7.0<br>week_number=%{x}<br>count=%{y}<extra></extra>",
         "legendgroup": "7.0",
         "line": {
          "color": "#19d3f3"
         },
         "marker": {
          "symbol": "circle"
         },
         "mode": "lines",
         "name": "7.0",
         "orientation": "v",
         "showlegend": true,
         "stackgroup": "1",
         "type": "scatter",
         "x": [
          1,
          2,
          3,
          4,
          53
         ],
         "xaxis": "x",
         "y": [
          3318,
          531,
          206,
          118,
          1221
         ],
         "yaxis": "y"
        },
        {
         "hovertemplate": "Dominant_Topic=1.0<br>week_number=%{x}<br>count=%{y}<extra></extra>",
         "legendgroup": "1.0",
         "line": {
          "color": "#FF6692"
         },
         "marker": {
          "symbol": "circle"
         },
         "mode": "lines",
         "name": "1.0",
         "orientation": "v",
         "showlegend": true,
         "stackgroup": "1",
         "type": "scatter",
         "x": [
          1,
          2,
          3,
          4,
          53
         ],
         "xaxis": "x",
         "y": [
          3880,
          262,
          85,
          58,
          1116
         ],
         "yaxis": "y"
        },
        {
         "hovertemplate": "Dominant_Topic=5.0<br>week_number=%{x}<br>count=%{y}<extra></extra>",
         "legendgroup": "5.0",
         "line": {
          "color": "#B6E880"
         },
         "marker": {
          "symbol": "circle"
         },
         "mode": "lines",
         "name": "5.0",
         "orientation": "v",
         "showlegend": true,
         "stackgroup": "1",
         "type": "scatter",
         "x": [
          1,
          2,
          3,
          4,
          53
         ],
         "xaxis": "x",
         "y": [
          3911,
          424,
          174,
          113,
          1434
         ],
         "yaxis": "y"
        },
        {
         "hovertemplate": "Dominant_Topic=6.0<br>week_number=%{x}<br>count=%{y}<extra></extra>",
         "legendgroup": "6.0",
         "line": {
          "color": "#FF97FF"
         },
         "marker": {
          "symbol": "circle"
         },
         "mode": "lines",
         "name": "6.0",
         "orientation": "v",
         "showlegend": true,
         "stackgroup": "1",
         "type": "scatter",
         "x": [
          1,
          2,
          3,
          4,
          53
         ],
         "xaxis": "x",
         "y": [
          13724,
          2688,
          761,
          352,
          4875
         ],
         "yaxis": "y"
        }
       ],
       "layout": {
        "legend": {
         "title": {
          "text": "Dominant_Topic"
         },
         "tracegroupgap": 0
        },
        "margin": {
         "t": 60
        },
        "template": {
         "data": {
          "bar": [
           {
            "error_x": {
             "color": "#2a3f5f"
            },
            "error_y": {
             "color": "#2a3f5f"
            },
            "marker": {
             "line": {
              "color": "#E5ECF6",
              "width": 0.5
             },
             "pattern": {
              "fillmode": "overlay",
              "size": 10,
              "solidity": 0.2
             }
            },
            "type": "bar"
           }
          ],
          "barpolar": [
           {
            "marker": {
             "line": {
              "color": "#E5ECF6",
              "width": 0.5
             },
             "pattern": {
              "fillmode": "overlay",
              "size": 10,
              "solidity": 0.2
             }
            },
            "type": "barpolar"
           }
          ],
          "carpet": [
           {
            "aaxis": {
             "endlinecolor": "#2a3f5f",
             "gridcolor": "white",
             "linecolor": "white",
             "minorgridcolor": "white",
             "startlinecolor": "#2a3f5f"
            },
            "baxis": {
             "endlinecolor": "#2a3f5f",
             "gridcolor": "white",
             "linecolor": "white",
             "minorgridcolor": "white",
             "startlinecolor": "#2a3f5f"
            },
            "type": "carpet"
           }
          ],
          "choropleth": [
           {
            "colorbar": {
             "outlinewidth": 0,
             "ticks": ""
            },
            "type": "choropleth"
           }
          ],
          "contour": [
           {
            "colorbar": {
             "outlinewidth": 0,
             "ticks": ""
            },
            "colorscale": [
             [
              0,
              "#0d0887"
             ],
             [
              0.1111111111111111,
              "#46039f"
             ],
             [
              0.2222222222222222,
              "#7201a8"
             ],
             [
              0.3333333333333333,
              "#9c179e"
             ],
             [
              0.4444444444444444,
              "#bd3786"
             ],
             [
              0.5555555555555556,
              "#d8576b"
             ],
             [
              0.6666666666666666,
              "#ed7953"
             ],
             [
              0.7777777777777778,
              "#fb9f3a"
             ],
             [
              0.8888888888888888,
              "#fdca26"
             ],
             [
              1,
              "#f0f921"
             ]
            ],
            "type": "contour"
           }
          ],
          "contourcarpet": [
           {
            "colorbar": {
             "outlinewidth": 0,
             "ticks": ""
            },
            "type": "contourcarpet"
           }
          ],
          "heatmap": [
           {
            "colorbar": {
             "outlinewidth": 0,
             "ticks": ""
            },
            "colorscale": [
             [
              0,
              "#0d0887"
             ],
             [
              0.1111111111111111,
              "#46039f"
             ],
             [
              0.2222222222222222,
              "#7201a8"
             ],
             [
              0.3333333333333333,
              "#9c179e"
             ],
             [
              0.4444444444444444,
              "#bd3786"
             ],
             [
              0.5555555555555556,
              "#d8576b"
             ],
             [
              0.6666666666666666,
              "#ed7953"
             ],
             [
              0.7777777777777778,
              "#fb9f3a"
             ],
             [
              0.8888888888888888,
              "#fdca26"
             ],
             [
              1,
              "#f0f921"
             ]
            ],
            "type": "heatmap"
           }
          ],
          "heatmapgl": [
           {
            "colorbar": {
             "outlinewidth": 0,
             "ticks": ""
            },
            "colorscale": [
             [
              0,
              "#0d0887"
             ],
             [
              0.1111111111111111,
              "#46039f"
             ],
             [
              0.2222222222222222,
              "#7201a8"
             ],
             [
              0.3333333333333333,
              "#9c179e"
             ],
             [
              0.4444444444444444,
              "#bd3786"
             ],
             [
              0.5555555555555556,
              "#d8576b"
             ],
             [
              0.6666666666666666,
              "#ed7953"
             ],
             [
              0.7777777777777778,
              "#fb9f3a"
             ],
             [
              0.8888888888888888,
              "#fdca26"
             ],
             [
              1,
              "#f0f921"
             ]
            ],
            "type": "heatmapgl"
           }
          ],
          "histogram": [
           {
            "marker": {
             "pattern": {
              "fillmode": "overlay",
              "size": 10,
              "solidity": 0.2
             }
            },
            "type": "histogram"
           }
          ],
          "histogram2d": [
           {
            "colorbar": {
             "outlinewidth": 0,
             "ticks": ""
            },
            "colorscale": [
             [
              0,
              "#0d0887"
             ],
             [
              0.1111111111111111,
              "#46039f"
             ],
             [
              0.2222222222222222,
              "#7201a8"
             ],
             [
              0.3333333333333333,
              "#9c179e"
             ],
             [
              0.4444444444444444,
              "#bd3786"
             ],
             [
              0.5555555555555556,
              "#d8576b"
             ],
             [
              0.6666666666666666,
              "#ed7953"
             ],
             [
              0.7777777777777778,
              "#fb9f3a"
             ],
             [
              0.8888888888888888,
              "#fdca26"
             ],
             [
              1,
              "#f0f921"
             ]
            ],
            "type": "histogram2d"
           }
          ],
          "histogram2dcontour": [
           {
            "colorbar": {
             "outlinewidth": 0,
             "ticks": ""
            },
            "colorscale": [
             [
              0,
              "#0d0887"
             ],
             [
              0.1111111111111111,
              "#46039f"
             ],
             [
              0.2222222222222222,
              "#7201a8"
             ],
             [
              0.3333333333333333,
              "#9c179e"
             ],
             [
              0.4444444444444444,
              "#bd3786"
             ],
             [
              0.5555555555555556,
              "#d8576b"
             ],
             [
              0.6666666666666666,
              "#ed7953"
             ],
             [
              0.7777777777777778,
              "#fb9f3a"
             ],
             [
              0.8888888888888888,
              "#fdca26"
             ],
             [
              1,
              "#f0f921"
             ]
            ],
            "type": "histogram2dcontour"
           }
          ],
          "mesh3d": [
           {
            "colorbar": {
             "outlinewidth": 0,
             "ticks": ""
            },
            "type": "mesh3d"
           }
          ],
          "parcoords": [
           {
            "line": {
             "colorbar": {
              "outlinewidth": 0,
              "ticks": ""
             }
            },
            "type": "parcoords"
           }
          ],
          "pie": [
           {
            "automargin": true,
            "type": "pie"
           }
          ],
          "scatter": [
           {
            "marker": {
             "colorbar": {
              "outlinewidth": 0,
              "ticks": ""
             }
            },
            "type": "scatter"
           }
          ],
          "scatter3d": [
           {
            "line": {
             "colorbar": {
              "outlinewidth": 0,
              "ticks": ""
             }
            },
            "marker": {
             "colorbar": {
              "outlinewidth": 0,
              "ticks": ""
             }
            },
            "type": "scatter3d"
           }
          ],
          "scattercarpet": [
           {
            "marker": {
             "colorbar": {
              "outlinewidth": 0,
              "ticks": ""
             }
            },
            "type": "scattercarpet"
           }
          ],
          "scattergeo": [
           {
            "marker": {
             "colorbar": {
              "outlinewidth": 0,
              "ticks": ""
             }
            },
            "type": "scattergeo"
           }
          ],
          "scattergl": [
           {
            "marker": {
             "colorbar": {
              "outlinewidth": 0,
              "ticks": ""
             }
            },
            "type": "scattergl"
           }
          ],
          "scattermapbox": [
           {
            "marker": {
             "colorbar": {
              "outlinewidth": 0,
              "ticks": ""
             }
            },
            "type": "scattermapbox"
           }
          ],
          "scatterpolar": [
           {
            "marker": {
             "colorbar": {
              "outlinewidth": 0,
              "ticks": ""
             }
            },
            "type": "scatterpolar"
           }
          ],
          "scatterpolargl": [
           {
            "marker": {
             "colorbar": {
              "outlinewidth": 0,
              "ticks": ""
             }
            },
            "type": "scatterpolargl"
           }
          ],
          "scatterternary": [
           {
            "marker": {
             "colorbar": {
              "outlinewidth": 0,
              "ticks": ""
             }
            },
            "type": "scatterternary"
           }
          ],
          "surface": [
           {
            "colorbar": {
             "outlinewidth": 0,
             "ticks": ""
            },
            "colorscale": [
             [
              0,
              "#0d0887"
             ],
             [
              0.1111111111111111,
              "#46039f"
             ],
             [
              0.2222222222222222,
              "#7201a8"
             ],
             [
              0.3333333333333333,
              "#9c179e"
             ],
             [
              0.4444444444444444,
              "#bd3786"
             ],
             [
              0.5555555555555556,
              "#d8576b"
             ],
             [
              0.6666666666666666,
              "#ed7953"
             ],
             [
              0.7777777777777778,
              "#fb9f3a"
             ],
             [
              0.8888888888888888,
              "#fdca26"
             ],
             [
              1,
              "#f0f921"
             ]
            ],
            "type": "surface"
           }
          ],
          "table": [
           {
            "cells": {
             "fill": {
              "color": "#EBF0F8"
             },
             "line": {
              "color": "white"
             }
            },
            "header": {
             "fill": {
              "color": "#C8D4E3"
             },
             "line": {
              "color": "white"
             }
            },
            "type": "table"
           }
          ]
         },
         "layout": {
          "annotationdefaults": {
           "arrowcolor": "#2a3f5f",
           "arrowhead": 0,
           "arrowwidth": 1
          },
          "autotypenumbers": "strict",
          "coloraxis": {
           "colorbar": {
            "outlinewidth": 0,
            "ticks": ""
           }
          },
          "colorscale": {
           "diverging": [
            [
             0,
             "#8e0152"
            ],
            [
             0.1,
             "#c51b7d"
            ],
            [
             0.2,
             "#de77ae"
            ],
            [
             0.3,
             "#f1b6da"
            ],
            [
             0.4,
             "#fde0ef"
            ],
            [
             0.5,
             "#f7f7f7"
            ],
            [
             0.6,
             "#e6f5d0"
            ],
            [
             0.7,
             "#b8e186"
            ],
            [
             0.8,
             "#7fbc41"
            ],
            [
             0.9,
             "#4d9221"
            ],
            [
             1,
             "#276419"
            ]
           ],
           "sequential": [
            [
             0,
             "#0d0887"
            ],
            [
             0.1111111111111111,
             "#46039f"
            ],
            [
             0.2222222222222222,
             "#7201a8"
            ],
            [
             0.3333333333333333,
             "#9c179e"
            ],
            [
             0.4444444444444444,
             "#bd3786"
            ],
            [
             0.5555555555555556,
             "#d8576b"
            ],
            [
             0.6666666666666666,
             "#ed7953"
            ],
            [
             0.7777777777777778,
             "#fb9f3a"
            ],
            [
             0.8888888888888888,
             "#fdca26"
            ],
            [
             1,
             "#f0f921"
            ]
           ],
           "sequentialminus": [
            [
             0,
             "#0d0887"
            ],
            [
             0.1111111111111111,
             "#46039f"
            ],
            [
             0.2222222222222222,
             "#7201a8"
            ],
            [
             0.3333333333333333,
             "#9c179e"
            ],
            [
             0.4444444444444444,
             "#bd3786"
            ],
            [
             0.5555555555555556,
             "#d8576b"
            ],
            [
             0.6666666666666666,
             "#ed7953"
            ],
            [
             0.7777777777777778,
             "#fb9f3a"
            ],
            [
             0.8888888888888888,
             "#fdca26"
            ],
            [
             1,
             "#f0f921"
            ]
           ]
          },
          "colorway": [
           "#636efa",
           "#EF553B",
           "#00cc96",
           "#ab63fa",
           "#FFA15A",
           "#19d3f3",
           "#FF6692",
           "#B6E880",
           "#FF97FF",
           "#FECB52"
          ],
          "font": {
           "color": "#2a3f5f"
          },
          "geo": {
           "bgcolor": "white",
           "lakecolor": "white",
           "landcolor": "#E5ECF6",
           "showlakes": true,
           "showland": true,
           "subunitcolor": "white"
          },
          "hoverlabel": {
           "align": "left"
          },
          "hovermode": "closest",
          "mapbox": {
           "style": "light"
          },
          "paper_bgcolor": "white",
          "plot_bgcolor": "#E5ECF6",
          "polar": {
           "angularaxis": {
            "gridcolor": "white",
            "linecolor": "white",
            "ticks": ""
           },
           "bgcolor": "#E5ECF6",
           "radialaxis": {
            "gridcolor": "white",
            "linecolor": "white",
            "ticks": ""
           }
          },
          "scene": {
           "xaxis": {
            "backgroundcolor": "#E5ECF6",
            "gridcolor": "white",
            "gridwidth": 2,
            "linecolor": "white",
            "showbackground": true,
            "ticks": "",
            "zerolinecolor": "white"
           },
           "yaxis": {
            "backgroundcolor": "#E5ECF6",
            "gridcolor": "white",
            "gridwidth": 2,
            "linecolor": "white",
            "showbackground": true,
            "ticks": "",
            "zerolinecolor": "white"
           },
           "zaxis": {
            "backgroundcolor": "#E5ECF6",
            "gridcolor": "white",
            "gridwidth": 2,
            "linecolor": "white",
            "showbackground": true,
            "ticks": "",
            "zerolinecolor": "white"
           }
          },
          "shapedefaults": {
           "line": {
            "color": "#2a3f5f"
           }
          },
          "ternary": {
           "aaxis": {
            "gridcolor": "white",
            "linecolor": "white",
            "ticks": ""
           },
           "baxis": {
            "gridcolor": "white",
            "linecolor": "white",
            "ticks": ""
           },
           "bgcolor": "#E5ECF6",
           "caxis": {
            "gridcolor": "white",
            "linecolor": "white",
            "ticks": ""
           }
          },
          "title": {
           "x": 0.05
          },
          "xaxis": {
           "automargin": true,
           "gridcolor": "white",
           "linecolor": "white",
           "ticks": "",
           "title": {
            "standoff": 15
           },
           "zerolinecolor": "white",
           "zerolinewidth": 2
          },
          "yaxis": {
           "automargin": true,
           "gridcolor": "white",
           "linecolor": "white",
           "ticks": "",
           "title": {
            "standoff": 15
           },
           "zerolinecolor": "white",
           "zerolinewidth": 2
          }
         }
        },
        "xaxis": {
         "anchor": "y",
         "domain": [
          0,
          1
         ],
         "title": {
          "text": "week_number"
         }
        },
        "yaxis": {
         "anchor": "x",
         "domain": [
          0,
          1
         ],
         "title": {
          "text": "count"
         }
        }
       }
      }
     },
     "metadata": {},
     "output_type": "display_data"
    }
   ],
   "source": [
    "# Plot topic distribution over time\n",
    "topic_stream_week = px.area(topic_dist_week_count, x='week_number', y='count', color='Dominant_Topic')\n",
    "topic_stream_week"
   ]
  },
  {
   "cell_type": "code",
   "execution_count": 37,
   "id": "99585ea8",
   "metadata": {},
   "outputs": [],
   "source": [
    "# Export topic stream plot\n",
    "topic_stream_week.write_html(r\"C:\\Users\\Ivory-UALR\\Documents\\COSMOS\\Billy's Project\\community_topic_model\\2nd_community_dataset\\2nd_analysis_LDAmodel\\2nd_analysis_topicstream_vis(weeks).html\")"
   ]
  },
  {
   "cell_type": "code",
   "execution_count": null,
   "id": "85d607c0",
   "metadata": {},
   "outputs": [],
   "source": []
  }
 ],
 "metadata": {
  "interpreter": {
   "hash": "e8e5deac7477f8906d41e5c6e61616e3ac62f0bc4d33889d141d235aa45f3e1f"
  },
  "kernelspec": {
   "display_name": "Python 3.9.0 64-bit",
   "language": "python",
   "name": "python3"
  },
  "language_info": {
   "codemirror_mode": {
    "name": "ipython",
    "version": 3
   },
   "file_extension": ".py",
   "mimetype": "text/x-python",
   "name": "python",
   "nbconvert_exporter": "python",
   "pygments_lexer": "ipython3",
   "version": "3.9.0"
  }
 },
 "nbformat": 4,
 "nbformat_minor": 5
}
