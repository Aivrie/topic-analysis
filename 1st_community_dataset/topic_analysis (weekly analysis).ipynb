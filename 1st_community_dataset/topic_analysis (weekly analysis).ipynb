{
 "cells": [
  {
   "cell_type": "markdown",
   "id": "7ca0515e",
   "metadata": {},
   "source": [
    "### Topic Analysis using LDA Topic Model (Community Dataset #1: week 36 (2020) - week 53 (2020) - weekly dataset)"
   ]
  },
  {
   "cell_type": "markdown",
   "id": "d4ccec72",
   "metadata": {},
   "source": [
    "#### Import core libraries"
   ]
  },
  {
   "cell_type": "code",
   "execution_count": 2,
   "id": "6b227340",
   "metadata": {},
   "outputs": [
    {
     "name": "stderr",
     "output_type": "stream",
     "text": [
      "Since the GPL-licensed package `unidecode` is not installed, using Python's `unicodedata` package which yields worse results.\n",
      "[nltk_data] Downloading package stopwords to C:\\Users\\Ivory-\n",
      "[nltk_data]     UALR\\AppData\\Roaming\\nltk_data...\n",
      "[nltk_data]   Package stopwords is already up-to-date!\n"
     ]
    }
   ],
   "source": [
    "# Import Core library\n",
    "import sys\n",
    "import re, numpy as np, pandas as pd, matplotlib.pyplot as plt, nltk, datetime as dt, seaborn as sns\n",
    "import emoji\n",
    "import little_mallet_wrapper\n",
    "import plotly.express as px\n",
    "import wordcloud\n",
    "import openpyxl\n",
    "from pprint import pprint\n",
    "from cleantext import clean\n",
    "\n",
    "# Gensim\n",
    "import gensim\n",
    "import gensim.corpora as corpora\n",
    "from gensim.utils import simple_preprocess\n",
    "from gensim.models import CoherenceModel\n",
    "\n",
    "# spacy for lemmatization\n",
    "import spacy\n",
    "\n",
    "# Plotting tools\n",
    "import pyLDAvis\n",
    "import pyLDAvis.gensim_models  # don't skip this\n",
    "import matplotlib.pyplot as plt\n",
    "\n",
    "# NLTK Stop words\n",
    "from nltk.corpus import stopwords\n",
    "nltk.download('stopwords')\n",
    "stop_words = stopwords.words('english')"
   ]
  },
  {
   "cell_type": "markdown",
   "id": "37be7d8d",
   "metadata": {},
   "source": [
    "#### Import Dataset"
   ]
  },
  {
   "cell_type": "code",
   "execution_count": 154,
   "id": "2d753a7a",
   "metadata": {},
   "outputs": [],
   "source": [
    "week36 = (r\"1st_analysis_LDAmodel\\weekly_datasets\\split_by_week36.xlsx\")\n",
    "week37 = (r\"1st_analysis_LDAmodel\\weekly_datasets\\split_by_week37.xlsx\")\n",
    "week38 = (r\"1st_analysis_LDAmodel\\weekly_datasets\\split_by_week38.xlsx\")\n",
    "week39 = (r\"1st_analysis_LDAmodel\\weekly_datasets\\split_by_week39.xlsx\")\n",
    "week40 = (r\"1st_analysis_LDAmodel\\weekly_datasets\\split_by_week40.xlsx\")\n",
    "week41 = (r\"1st_analysis_LDAmodel\\weekly_datasets\\split_by_week41.xlsx\")\n",
    "week42 = (r\"1st_analysis_LDAmodel\\weekly_datasets\\split_by_week42.xlsx\")\n",
    "week43 = (r\"1st_analysis_LDAmodel\\weekly_datasets\\split_by_week43.xlsx\")\n",
    "week44 = (r\"1st_analysis_LDAmodel\\weekly_datasets\\split_by_week44.xlsx\")\n",
    "week45 = (r\"1st_analysis_LDAmodel\\weekly_datasets\\split_by_week45.xlsx\")\n",
    "week46 = (r\"1st_analysis_LDAmodel\\weekly_datasets\\split_by_week46.xlsx\")\n",
    "week47 = (r\"1st_analysis_LDAmodel\\weekly_datasets\\split_by_week47.xlsx\")\n",
    "week48 = (r\"1st_analysis_LDAmodel\\weekly_datasets\\split_by_week48.xlsx\")\n",
    "week49 = (r\"1st_analysis_LDAmodel\\weekly_datasets\\split_by_week49.xlsx\")\n",
    "week50 = (r\"1st_analysis_LDAmodel\\weekly_datasets\\split_by_week50.xlsx\")\n",
    "week51 = (r\"1st_analysis_LDAmodel\\weekly_datasets\\split_by_week51.xlsx\")\n",
    "\n",
    "# Import Dataset\n",
    "df = pd.read_excel(week51)"
   ]
  },
  {
   "cell_type": "code",
   "execution_count": null,
   "id": "ce391416",
   "metadata": {},
   "outputs": [],
   "source": [
    "df.tail(2)"
   ]
  },
  {
   "cell_type": "markdown",
   "id": "39154126",
   "metadata": {},
   "source": [
    "#### Importing Dataset (Cummulative Analysis)"
   ]
  },
  {
   "cell_type": "code",
   "execution_count": 4,
   "id": "69487a81",
   "metadata": {},
   "outputs": [
    {
     "name": "stderr",
     "output_type": "stream",
     "text": [
      "<>:5: DeprecationWarning: invalid escape sequence \\*\n",
      "<>:5: DeprecationWarning: invalid escape sequence \\*\n",
      "C:\\Users\\IVORY-~1\\AppData\\Local\\Temp/ipykernel_18324/672462022.py:5: DeprecationWarning: invalid escape sequence \\*\n",
      "  excel_files = glob.glob(path + \"\\*.xlsx\")\n"
     ]
    }
   ],
   "source": [
    "# Import multiple files and convert to dataframes (cumulative models)\n",
    "import glob\n",
    "\n",
    "path = r\".\\prob_dist (cummulative)\\week\"\n",
    "excel_files = glob.glob(path + \"\\*.xlsx\")\n",
    "\n",
    "df_list = (pd.read_excel(file) for file in excel_files)\n",
    "\n",
    "dataframes_list = []\n",
    "for file in range(len(excel_files)):\n",
    "    temp_df = pd.read_excel(excel_files[file])\n",
    "    dataframes_list.append(temp_df)"
   ]
  },
  {
   "cell_type": "code",
   "execution_count": 5,
   "id": "fc2a0090",
   "metadata": {},
   "outputs": [
    {
     "name": "stdout",
     "output_type": "stream",
     "text": [
      "16\n"
     ]
    }
   ],
   "source": [
    "print(len(dataframes_list))"
   ]
  },
  {
   "cell_type": "code",
   "execution_count": 14,
   "id": "62024212",
   "metadata": {},
   "outputs": [],
   "source": [
    "# Assign each cummulated excel file to a dataframe\n",
    "df36, df36_37, df36_38, df36_39, df36_40, df36_41, df36_42, df36_43, df36_44, df36_45, df36_46, df36_47, df36_48, df36_49, df36_50, df36_51 = dataframes_list[:]"
   ]
  },
  {
   "cell_type": "markdown",
   "id": "dbcdf26f",
   "metadata": {},
   "source": [
    "#### Process Dataset"
   ]
  },
  {
   "cell_type": "code",
   "execution_count": 16,
   "id": "4427085e",
   "metadata": {},
   "outputs": [
    {
     "name": "stderr",
     "output_type": "stream",
     "text": [
      "<>:30: DeprecationWarning: invalid escape sequence \\s\n",
      "<>:30: DeprecationWarning: invalid escape sequence \\s\n",
      "C:\\Users\\IVORY-~1\\AppData\\Local\\Temp/ipykernel_18324/361431163.py:30: DeprecationWarning: invalid escape sequence \\s\n",
      "  word=re.sub('(RT\\s@[A-Za-z]+[A-Za-z0-9-_]+)', \"\", word)  # remove retweet\n"
     ]
    }
   ],
   "source": [
    "# Function to remove twitter specific characters\n",
    "def get_url_patern():\n",
    "    return re.compile(\n",
    "        r'(https?:\\/\\/(?:www\\.|(?!www))[a-zA-Z0-9][a-zA-Z0-9-]+[a-zA-Z0-9]\\.[^\\s]{2,}|https?:\\/\\/(?:www\\.|(?!www))'\n",
    "        r'[a-zA-Z0-9]\\.[^\\s]{2,}|www\\.[a-zA-Z0-9]\\.[^\\s]{2,})')\n",
    "\n",
    "def get_hashtags_pattern():\n",
    "    return re.compile(r'#\\w*')\n",
    "\n",
    "def get_single_letter_words_pattern():\n",
    "    return re.compile(r'(?<![\\w\\-])\\w(?![\\w\\-])')\n",
    "\n",
    "def get_blank_spaces_pattern():\n",
    "    return re.compile(r'\\s{2,}|\\t')\n",
    "\n",
    "def get_twitter_reserved_words_pattern():\n",
    "    return re.compile(r'(RT|rt|FAV|fav|VIA|via)')\n",
    "\n",
    "def get_mentions_pattern():\n",
    "    return re.compile(r'@\\w*')\n",
    "\n",
    "def process_text(word):\n",
    "  word=re.sub(pattern=get_url_patern(), repl=\"\", string=word)\n",
    "  word=re.sub(pattern=get_mentions_pattern(), repl=\"\", string=word)\n",
    "  word=re.sub(pattern=get_hashtags_pattern(), repl=\"\", string=word)\n",
    "  word=re.sub(pattern=get_twitter_reserved_words_pattern(), repl='', string=word)\n",
    "  word=re.sub(r'http\\S+', \"\", word)  # remove http links\n",
    "  word=re.sub(r'bit.ly/\\S+', \"\", word)  # rempve bitly links\n",
    "  word=word.strip('[link]')  # remove [links]\n",
    "  word=re.sub('(RT\\s@[A-Za-z]+[A-Za-z0-9-_]+)', \"\", word)  # remove retweet\n",
    "  word=re.sub('(@[A-Za-z]+[A-Za-z0-9-_]+)', \"\", word)  # remove tweeted at\n",
    "  word=word.encode('ascii', 'ignore').decode('ascii')\n",
    "#   word=clean(word, no_emoji=True)\n",
    "  return word\n",
    "\n",
    "\n",
    "def sent_to_words(sentences):\n",
    "    for sentence in sentences:\n",
    "        yield(gensim.utils.simple_preprocess(str(sentence), deacc=True))  # deacc=True removes punctuations"
   ]
  },
  {
   "cell_type": "code",
   "execution_count": null,
   "id": "e40e8144",
   "metadata": {},
   "outputs": [],
   "source": [
    "# Clean text and remove twitter specific characters\n",
    "df.text = df.apply(lambda row: process_text(row.text), 1)\n",
    "\n",
    "# Remove duplicates, punctuations, stop words, digits and turn text to lowercase (with duplicates)\n",
    "data = [little_mallet_wrapper.process_string(text, numbers='remove') for text in df.text]\n",
    "\n",
    "# Remove punctuations\n",
    "data_words = list(sent_to_words(data))\n",
    "print(data_words[:10])"
   ]
  },
  {
   "cell_type": "code",
   "execution_count": 18,
   "id": "1169991a",
   "metadata": {},
   "outputs": [],
   "source": [
    "'''Process text and remove duplicates, punctuations, stop words, digits and turn text to lowercase for cummulated files'''\n",
    "data_words_list = []\n",
    "\n",
    "for df in dataframes_list:\n",
    "    df.text = df.apply(lambda row: process_text(row.text), 1)\n",
    "    data = [little_mallet_wrapper.process_string(text, numbers='remove') for text in df.text]\n",
    "    data_words = list(sent_to_words(data))\n",
    "    data_words_list.append(data_words)"
   ]
  },
  {
   "cell_type": "markdown",
   "id": "983bccfe",
   "metadata": {},
   "source": [
    "#### N-grams & Lemmatization"
   ]
  },
  {
   "cell_type": "code",
   "execution_count": 20,
   "id": "d11c1965",
   "metadata": {},
   "outputs": [],
   "source": [
    "# Build the bigram and trigram models\n",
    "bigram = gensim.models.Phrases(data_words, min_count=5, threshold=100) # higher threshold fewer phrases.\n",
    "trigram = gensim.models.Phrases(bigram[data_words], threshold=100)  \n",
    "\n",
    "# Faster way to get a sentence clubbed as a trigram/bigram\n",
    "bigram_mod = gensim.models.phrases.Phraser(bigram)\n",
    "trigram_mod = gensim.models.phrases.Phraser(trigram)"
   ]
  },
  {
   "cell_type": "code",
   "execution_count": 21,
   "id": "8ca30257",
   "metadata": {},
   "outputs": [],
   "source": [
    "# Define functions for stopwords, bigrams, trigrams and lemmatization\n",
    "def remove_stopwords(texts):\n",
    "    return [[word for word in simple_preprocess(str(doc)) if word not in stop_words] for doc in texts]\n",
    "\n",
    "def make_bigrams(texts):\n",
    "    return [bigram_mod[doc] for doc in texts]\n",
    "\n",
    "def make_trigrams(texts):\n",
    "    return [trigram_mod[bigram_mod[doc]] for doc in texts]\n",
    "\n",
    "def lemmatization(texts, allowed_postags=['NOUN', 'ADJ', 'VERB', 'ADV']):\n",
    "    \"\"\"https://spacy.io/api/annotation\"\"\"\n",
    "    texts_out = []\n",
    "    for sent in texts:\n",
    "        doc = nlp(\" \".join(sent)) \n",
    "        texts_out.append([token.lemma_ for token in doc if token.pos_ in allowed_postags])\n",
    "    return texts_out"
   ]
  },
  {
   "cell_type": "code",
   "execution_count": 22,
   "id": "72d61a99",
   "metadata": {},
   "outputs": [],
   "source": [
    "# Remove Stop Words\n",
    "data_words_nostops = remove_stopwords(data_words)\n",
    "\n",
    "# Form Bigrams\n",
    "data_words_bigrams = make_bigrams(data_words_nostops)\n",
    "\n",
    "# Initialize spacy 'en' model, keeping only tagger component (for efficiency)\n",
    "# python3 -m spacy download en\n",
    "nlp = spacy.load('en_core_web_sm', disable=['parser', 'ner'])\n",
    "nlp.max_length = 40000000\n",
    "\n",
    "# Do lemmatization keeping only noun, adj, vb, adv\n",
    "data_lemmatized = lemmatization(data_words_bigrams, allowed_postags=['NOUN', 'ADJ', 'VERB', 'ADV'])"
   ]
  },
  {
   "cell_type": "code",
   "execution_count": 162,
   "id": "80c9967f",
   "metadata": {},
   "outputs": [
    {
     "name": "stdout",
     "output_type": "stream",
     "text": [
      "[['thinking', 'approve', 'paicipate', 'criminal', 'behavior', 'constitution', 'matter', 'take', 'lead', 'need', 'do'], ['thank'], [], [], ['exactly'], [], [], [], [], []]\n"
     ]
    }
   ],
   "source": [
    "print(data_lemmatized[:10])"
   ]
  },
  {
   "cell_type": "code",
   "execution_count": 23,
   "id": "dd7de510",
   "metadata": {},
   "outputs": [],
   "source": [
    "'''Lemmatize words for cummulated files'''\n",
    "lemmatized_list = []\n",
    "\n",
    "for data_words in data_words_list:\n",
    "    \n",
    "    # Build the bigram and trigram models\n",
    "    bigram = gensim.models.Phrases(data_words, min_count=5, threshold=100) # higher threshold fewer phrases.\n",
    "    trigram = gensim.models.Phrases(bigram[data_words], threshold=100)  \n",
    "\n",
    "    # Faster way to get a sentence clubbed as a trigram/bigram\n",
    "    bigram_mod = gensim.models.phrases.Phraser(bigram)\n",
    "    trigram_mod = gensim.models.phrases.Phraser(trigram)\n",
    "\n",
    "    # Remove Stop Words\n",
    "    data_words_nostops = remove_stopwords(data_words)\n",
    "    # Form Bigrams\n",
    "    data_words_bigrams = make_bigrams(data_words_nostops)\n",
    "    # Initialize spacy 'en' model, keeping only tagger component (for efficiency)\n",
    "    nlp = spacy.load('en_core_web_sm', disable=['parser', 'ner'])\n",
    "    nlp.max_length = 40000000\n",
    "    # Do lemmatization keeping only noun, adj, vb, adv\n",
    "    data_lemmatized = lemmatization(data_words_bigrams, allowed_postags=['NOUN', 'ADJ', 'VERB', 'ADV'])\n",
    "    lemmatized_list.append(data_lemmatized)"
   ]
  },
  {
   "cell_type": "code",
   "execution_count": 163,
   "id": "cb96692a",
   "metadata": {},
   "outputs": [],
   "source": [
    "# # Export lemmatized data for document similarity evaluation\n",
    "# corpus_df = pd.DataFrame(data_lemmatized)\n",
    "# corpus_df.to_csv('prob_dist/corpus_week51.csv', index=False, header=False)"
   ]
  },
  {
   "cell_type": "code",
   "execution_count": 24,
   "id": "4ff11f32",
   "metadata": {},
   "outputs": [],
   "source": [
    "# Assign each cummulated excel file to a dataframe\n",
    "corpus36, corpus36_37, corpus36_38, corpus36_39, corpus36_40, corpus36_41, corpus36_42, corpus36_43, corpus36_44, corpus36_45, corpus36_46, corpus36_47, corpus36_48, corpus36_49, corpus36_50, corpus36_51 = lemmatized_list[:]\n",
    "corpus_list = [corpus36, corpus36_37, corpus36_38, corpus36_39, corpus36_40, corpus36_41, corpus36_42, corpus36_43, corpus36_44, corpus36_45, corpus36_46, corpus36_47, corpus36_48, corpus36_49, corpus36_50, corpus36_51]"
   ]
  },
  {
   "cell_type": "code",
   "execution_count": 25,
   "id": "8cf29e66",
   "metadata": {},
   "outputs": [
    {
     "name": "stderr",
     "output_type": "stream",
     "text": [
      "<>:5: DeprecationWarning: invalid escape sequence \\p\n",
      "<>:5: DeprecationWarning: invalid escape sequence \\p\n",
      "C:\\Users\\IVORY-~1\\AppData\\Local\\Temp/ipykernel_18324/2915575910.py:5: DeprecationWarning: invalid escape sequence \\p\n",
      "  corpus_df.to_csv('.\\prob_dist (cummulative)\\corpus_docs\\corpus_{}.csv'.format(week), index=False, header=False)\n"
     ]
    }
   ],
   "source": [
    "# Export lemmatized data for document similarity evaluation (cummulated files)\n",
    "weeks = [\"36\", \"36_37\", \"36_38\", \"36_39\", \"36_40\", \"36_41\", \"36_42\", \"36_43\", \"36_44\", \"36_45\", \"36_46\", \"36_47\", \"36_48\", \"36_49\", \"36_50\", \"36_51\"]\n",
    "for corpus, week in zip(corpus_list, weeks):\n",
    "    corpus_df = pd.DataFrame(corpus)\n",
    "    corpus_df.to_csv('.\\prob_dist (cummulative)\\corpus_docs\\corpus_{}.csv'.format(week), index=False, header=False)"
   ]
  },
  {
   "cell_type": "code",
   "execution_count": 612,
   "id": "f6cd67da",
   "metadata": {},
   "outputs": [
    {
     "name": "stdout",
     "output_type": "stream",
     "text": [
      "[[], [(0, 1), (1, 1), (2, 1), (3, 1), (4, 2), (5, 1)], [(6, 1), (7, 1), (8, 1), (9, 1), (10, 1), (11, 1), (12, 1), (13, 1), (14, 1)], [(15, 1), (16, 1), (17, 1), (18, 1), (19, 1), (20, 1), (21, 1), (22, 1), (23, 1), (24, 1), (25, 1), (26, 1), (27, 1), (28, 1), (29, 1), (30, 1)], [(31, 1), (32, 1), (33, 1), (34, 1)], [(35, 1)], [(17, 1), (19, 1), (36, 1), (37, 1), (38, 1), (39, 1), (40, 1), (41, 1)], [(27, 1), (42, 1), (43, 1), (44, 1), (45, 1)], [(5, 1), (46, 1), (47, 1), (48, 1)], [(37, 1), (49, 1), (50, 1), (51, 1), (52, 1)]]\n"
     ]
    }
   ],
   "source": [
    "# Create Dictionary\n",
    "id2word = corpora.Dictionary(data_lemmatized)\n",
    "\n",
    "# Create Corpus\n",
    "texts = data_lemmatized\n",
    "\n",
    "# Term Document Frequency\n",
    "corpus = [id2word.doc2bow(text) for text in texts]\n",
    "\n",
    "# View\n",
    "print(corpus[:10])"
   ]
  },
  {
   "cell_type": "markdown",
   "id": "01bd0570",
   "metadata": {},
   "source": [
    "#### Building the LDA Model"
   ]
  },
  {
   "cell_type": "code",
   "execution_count": 628,
   "id": "cc2d34ff",
   "metadata": {},
   "outputs": [],
   "source": [
    "# Build LDA model\n",
    "lda_model = gensim.models.ldamodel.LdaModel(corpus=corpus,\n",
    "                                           id2word=id2word,\n",
    "                                           num_topics=13, \n",
    "                                           random_state=100,\n",
    "                                           iterations=50,\n",
    "                                           update_every=1,\n",
    "                                           chunksize=100,\n",
    "                                           passes=10,\n",
    "                                           alpha='auto',\n",
    "                                           per_word_topics=True)"
   ]
  },
  {
   "cell_type": "code",
   "execution_count": 614,
   "id": "57e16ca4",
   "metadata": {},
   "outputs": [
    {
     "name": "stdout",
     "output_type": "stream",
     "text": [
      "\n",
      "Perplexity:  -8.881835228919789\n",
      "\n",
      "Coherence Score:  0.5262442404280109\n"
     ]
    }
   ],
   "source": [
    "# Compute Perplexity\n",
    "print('\\nPerplexity: ', lda_model.log_perplexity(corpus))  # a measure of how good the model is. lower the better.\n",
    "\n",
    "# Compute Coherence Score\n",
    "coherence_model_lda = CoherenceModel(model=lda_model, texts=data_lemmatized, dictionary=id2word, coherence='c_v')\n",
    "coherence_lda = coherence_model_lda.get_coherence()\n",
    "print('\\nCoherence Score: ', coherence_lda)"
   ]
  },
  {
   "cell_type": "code",
   "execution_count": 615,
   "id": "ce3dc677",
   "metadata": {},
   "outputs": [
    {
     "data": {
      "image/png": "[encoded data removed]",
      "text/plain": [
       "<Figure size 432x288 with 1 Axes>"
      ]
     },
     "metadata": {},
     "output_type": "display_data"
    }
   ],
   "source": [
    "def compute_coherence_values(dictionary, corpus, texts, limit, start=2, step=3):\n",
    "    \"\"\"\n",
    "    Compute c_v coherence for various number of topics\n",
    "\n",
    "    Parameters:\n",
    "    ----------\n",
    "    dictionary : Gensim dictionary\n",
    "    corpus : Gensim corpus\n",
    "    texts : List of input texts\n",
    "    limit : Max num of topics\n",
    "\n",
    "    Returns:\n",
    "    -------\n",
    "    model_list : List of LDA topic models\n",
    "    coherence_values : Coherence values corresponding to the LDA model with respective number of topics\n",
    "    \"\"\"\n",
    "    coherence_values = []\n",
    "    model_list = []\n",
    "    for num_topics in range(start, limit, step):\n",
    "        model = gensim.models.ldamodel.LdaModel(corpus=corpus, num_topics=num_topics, id2word=id2word)\n",
    "        model_list.append(model)\n",
    "        coherencemodel = CoherenceModel(model=model, texts=texts, dictionary=dictionary, coherence='c_v')\n",
    "        coherence_values.append(coherencemodel.get_coherence())\n",
    "\n",
    "    return model_list, coherence_values\n",
    "\n",
    "model_list, coherence_values = compute_coherence_values(dictionary=id2word, corpus=corpus, texts=texts, start=2, limit=40, step=2)\n",
    "\n",
    "# Show graph\n",
    "limit=40; start=2; step=2;\n",
    "x = range(start, limit, step)\n",
    "plt.plot(x, coherence_values)\n",
    "plt.xlabel(\"Num Topics\")\n",
    "plt.ylabel(\"Coherence score\")\n",
    "plt.legend((\"coherence_values\"), loc='best')\n",
    "plt.show()"
   ]
  },
  {
   "cell_type": "code",
   "execution_count": 616,
   "id": "5ca9ad38",
   "metadata": {},
   "outputs": [
    {
     "name": "stdout",
     "output_type": "stream",
     "text": [
      "Num Topics = 2  has Coherence Value of 0.3001\n",
      "Num Topics = 4  has Coherence Value of 0.3289\n",
      "Num Topics = 6  has Coherence Value of 0.3264\n",
      "Num Topics = 8  has Coherence Value of 0.3608\n",
      "Num Topics = 10  has Coherence Value of 0.3717\n",
      "Num Topics = 12  has Coherence Value of 0.3911\n",
      "Num Topics = 14  has Coherence Value of 0.3744\n",
      "Num Topics = 16  has Coherence Value of 0.3808\n",
      "Num Topics = 18  has Coherence Value of 0.4089\n",
      "Num Topics = 20  has Coherence Value of 0.4139\n",
      "Num Topics = 22  has Coherence Value of 0.3975\n",
      "Num Topics = 24  has Coherence Value of 0.4467\n",
      "Num Topics = 26  has Coherence Value of 0.4265\n",
      "Num Topics = 28  has Coherence Value of 0.4378\n",
      "Num Topics = 30  has Coherence Value of 0.4402\n",
      "Num Topics = 32  has Coherence Value of 0.4446\n",
      "Num Topics = 34  has Coherence Value of 0.4549\n",
      "Num Topics = 36  has Coherence Value of 0.4482\n",
      "Num Topics = 38  has Coherence Value of 0.4516\n"
     ]
    }
   ],
   "source": [
    "# Print the coherence scores\n",
    "for m, cv in zip(x, coherence_values):\n",
    "    print(\"Num Topics =\", m, \" has Coherence Value of\", round(cv, 4))\n",
    "    \n",
    "# NB: From pyLDAvis visualization,\n",
    "# week36 = optimal number of topics is 4\n",
    "# week37 = optimal number of topics is 6\n",
    "# week38 = optimal number of topics is 2\n",
    "# week39 = optimal number of topics is 2\n",
    "# week40 = optimal number of topics is 8\n",
    "# week41 = optimal number of topics is 4\n",
    "# week42 = optimal number of topics is 2\n",
    "# week43 = optimal number of topics is 6 (I picked 4)\n",
    "# week44 = optimal number of topics is 6\n",
    "# week45 = optimal number of topics is 6\n",
    "# week46 = optimal number of topics is 10\n",
    "# week47 = optimal number of topics is 12\n",
    "# week48 = optimal number of topics is 12\n",
    "# week49 = optimal number of topics is 14\n",
    "# week50 = optimal number of topics is 12\n",
    "# week51 = optimal number of topics is 13"
   ]
  },
  {
   "cell_type": "code",
   "execution_count": 597,
   "id": "afdb49c6",
   "metadata": {},
   "outputs": [
    {
     "name": "stdout",
     "output_type": "stream",
     "text": [
      "[(0,\n",
      "  '0.017*\"love\" + 0.013*\"good\" + 0.013*\"election\" + 0.011*\"step\" + 0.010*\"let\" '\n",
      "  '+ 0.009*\"know\" + 0.009*\"go\" + 0.009*\"senator\" + 0.008*\"call\" + '\n",
      "  '0.008*\"legislator\"'),\n",
      " (1,\n",
      "  '0.040*\"thank\" + 0.026*\"know\" + 0.017*\"patriot\" + 0.016*\"stand\" + '\n",
      "  '0.016*\"want\" + 0.014*\"sure\" + 0.011*\"man\" + 0.011*\"world\" + 0.008*\"true\" + '\n",
      "  '0.007*\"liar\"'),\n",
      " (2,\n",
      "  '0.073*\"vote\" + 0.035*\"steal\" + 0.031*\"stop\" + 0.027*\"election\" + '\n",
      "  '0.018*\"trump\" + 0.018*\"count\" + 0.014*\"never\" + 0.014*\"ballot\" + '\n",
      "  '0.014*\"way\" + 0.011*\"get\"'),\n",
      " (3,\n",
      "  '0.024*\"people\" + 0.018*\"election\" + 0.017*\"fraud\" + 0.014*\"right\" + '\n",
      "  '0.011*\"get\" + 0.011*\"lose\" + 0.010*\"good\" + 0.010*\"do\" + 0.009*\"never\" + '\n",
      "  '0.009*\"trump\"'),\n",
      " (4,\n",
      "  '0.019*\"vote\" + 0.017*\"think\" + 0.012*\"call\" + 0.011*\"election\" + '\n",
      "  '0.011*\"citizen\" + 0.010*\"say\" + 0.010*\"right\" + 0.010*\"keep\" + 0.010*\"time\" '\n",
      "  '+ 0.010*\"suppoer\"'),\n",
      " (5,\n",
      "  '0.024*\"take\" + 0.018*\"say\" + 0.016*\"go\" + 0.016*\"never\" + 0.013*\"state\" + '\n",
      "  '0.011*\"get\" + 0.010*\"see\" + 0.010*\"absolutely\" + 0.009*\"come\" + '\n",
      "  '0.009*\"feel\"'),\n",
      " (6,\n",
      "  '0.039*\"election\" + 0.025*\"fight\" + 0.025*\"fraud\" + 0.019*\"steal\" + '\n",
      "  '0.016*\"voter\" + 0.015*\"big\" + 0.012*\"try\" + 0.011*\"right\" + 0.011*\"find\" + '\n",
      "  '0.011*\"look\"'),\n",
      " (7,\n",
      "  '0.046*\"election\" + 0.023*\"people\" + 0.020*\"know\" + 0.015*\"american\" + '\n",
      "  '0.013*\"time\" + 0.011*\"friend\" + 0.010*\"corrupt\" + 0.009*\"rig\" + '\n",
      "  '0.007*\"steal\" + 0.007*\"put\"'),\n",
      " (8,\n",
      "  '0.042*\"state\" + 0.025*\"election\" + 0.018*\"case\" + 0.013*\"trump\" + '\n",
      "  '0.012*\"get\" + 0.012*\"watch\" + 0.011*\"fight\" + 0.011*\"work\" + 0.010*\"live\" + '\n",
      "  '0.010*\"make\"'),\n",
      " (9,\n",
      "  '0.023*\"get\" + 0.015*\"help\" + 0.012*\"let\" + 0.012*\"election\" + '\n",
      "  '0.012*\"people\" + 0.012*\"real\" + 0.011*\"take\" + 0.011*\"say\" + 0.010*\"know\" + '\n",
      "  '0.010*\"voter\"'),\n",
      " (10,\n",
      "  '0.057*\"election\" + 0.014*\"win\" + 0.012*\"fraud\" + 0.011*\"democracy\" + '\n",
      "  '0.010*\"state\" + 0.010*\"believe\" + 0.010*\"result\" + 0.010*\"fraudulent\" + '\n",
      "  '0.009*\"vote\" + 0.009*\"defend\"'),\n",
      " (11,\n",
      "  '0.032*\"need\" + 0.020*\"state\" + 0.020*\"join\" + 0.019*\"election\" + '\n",
      "  '0.017*\"vote\" + 0.015*\"fraud\" + 0.015*\"president\" + 0.014*\"cheat\" + '\n",
      "  '0.014*\"get\" + 0.011*\"even\"')]\n"
     ]
    }
   ],
   "source": [
    "# Select the model and print the topics\n",
    "optimal_model = model_list[5]\n",
    "model_topics = optimal_model.show_topics(formatted=False)\n",
    "pprint(optimal_model.print_topics(num_words=10))"
   ]
  },
  {
   "cell_type": "markdown",
   "id": "0358756c",
   "metadata": {},
   "source": [
    "#### Visualize Topic Distribution & Keywords"
   ]
  },
  {
   "cell_type": "code",
   "execution_count": 629,
   "id": "9ef7c44c",
   "metadata": {},
   "outputs": [
    {
     "name": "stderr",
     "output_type": "stream",
     "text": [
      "C:\\Users\\Ivory-UALR\\AppData\\Local\\Temp\\ipykernel_17872\\3271735155.py:7: FutureWarning: The frame.append method is deprecated and will be removed from pandas in a future version. Use pandas.concat instead.\n",
      "  topic_dist = topic_dist.append(pd.Series([index, words]), ignore_index=True)\n",
      "C:\\Users\\Ivory-UALR\\AppData\\Local\\Temp\\ipykernel_17872\\3271735155.py:7: FutureWarning: The frame.append method is deprecated and will be removed from pandas in a future version. Use pandas.concat instead.\n",
      "  topic_dist = topic_dist.append(pd.Series([index, words]), ignore_index=True)\n"
     ]
    }
   ],
   "source": [
    "topic_dist = pd.DataFrame()\n",
    "\n",
    "# Code to view the Ist 4 keywords per topic\n",
    "for index, topic in lda_model.show_topics(formatted=False, num_words= 10):\n",
    "    words = [w[0] for w in topic]\n",
    "    topic_distributions_df = [\"\".join(topic[:4]) for topic in words]\n",
    "    topic_dist = topic_dist.append(pd.Series([index, words]), ignore_index=True)\n",
    "    \n",
    "    # print('Topic: {} \\nWords: {}'.format(index, words))\n",
    "    # print(topic_distributions_df)\n",
    "    \n",
    "topic_dist.columns = ['Topic_Number', 'Topic_Words']\n",
    "# Export topic word distribution per topic to excel file\n",
    "topic_dist.to_excel(r\"1st_analysis_LDAmodel\\topic_dist 36-51 (no_duplicate)\\topic_dist51_no_duplicate.xlsx\", index=False, header=True)"
   ]
  },
  {
   "cell_type": "code",
   "execution_count": 630,
   "id": "f3427857",
   "metadata": {},
   "outputs": [
    {
     "data": {
      "text/html": [
       "<div>\n",
       "<style scoped>\n",
       "    .dataframe tbody tr th:only-of-type {\n",
       "        vertical-align: middle;\n",
       "    }\n",
       "\n",
       "    .dataframe tbody tr th {\n",
       "        vertical-align: top;\n",
       "    }\n",
       "\n",
       "    .dataframe thead th {\n",
       "        text-align: right;\n",
       "    }\n",
       "</style>\n",
       "<table border=\"1\" class=\"dataframe\">\n",
       "  <thead>\n",
       "    <tr style=\"text-align: right;\">\n",
       "      <th></th>\n",
       "      <th>Topic_Number</th>\n",
       "      <th>Topic_Words</th>\n",
       "    </tr>\n",
       "  </thead>\n",
       "  <tbody>\n",
       "    <tr>\n",
       "      <th>0</th>\n",
       "      <td>2</td>\n",
       "      <td>[stand, call, write, video, truth, legislator,...</td>\n",
       "    </tr>\n",
       "    <tr>\n",
       "      <th>1</th>\n",
       "      <td>10</td>\n",
       "      <td>[medium, deny, least, think, mean, fraudulent,...</td>\n",
       "    </tr>\n",
       "    <tr>\n",
       "      <th>2</th>\n",
       "      <td>5</td>\n",
       "      <td>[evidence, system, thing, long, do, believe, n...</td>\n",
       "    </tr>\n",
       "    <tr>\n",
       "      <th>3</th>\n",
       "      <td>3</td>\n",
       "      <td>[american, fight, hard, bless, woke, great, wo...</td>\n",
       "    </tr>\n",
       "    <tr>\n",
       "      <th>4</th>\n",
       "      <td>1</td>\n",
       "      <td>[trump, rudy, right, show, ballot, leave, rall...</td>\n",
       "    </tr>\n",
       "    <tr>\n",
       "      <th>5</th>\n",
       "      <td>9</td>\n",
       "      <td>[thank, make, noise, time, fighting, folk, spr...</td>\n",
       "    </tr>\n",
       "    <tr>\n",
       "      <th>6</th>\n",
       "      <td>11</td>\n",
       "      <td>[know, little, president, news, back, pay, loo...</td>\n",
       "    </tr>\n",
       "    <tr>\n",
       "      <th>7</th>\n",
       "      <td>0</td>\n",
       "      <td>[machine, dominion, forensic, event, voting, b...</td>\n",
       "    </tr>\n",
       "    <tr>\n",
       "      <th>8</th>\n",
       "      <td>4</td>\n",
       "      <td>[people, suppo, get, say, ceifiable, prelimina...</td>\n",
       "    </tr>\n",
       "    <tr>\n",
       "      <th>9</th>\n",
       "      <td>12</td>\n",
       "      <td>[election, fraud, day, steal, continue, recoun...</td>\n",
       "    </tr>\n",
       "  </tbody>\n",
       "</table>\n",
       "</div>"
      ],
      "text/plain": [
       "   Topic_Number                                        Topic_Words\n",
       "0             2  [stand, call, write, video, truth, legislator,...\n",
       "1            10  [medium, deny, least, think, mean, fraudulent,...\n",
       "2             5  [evidence, system, thing, long, do, believe, n...\n",
       "3             3  [american, fight, hard, bless, woke, great, wo...\n",
       "4             1  [trump, rudy, right, show, ballot, leave, rall...\n",
       "5             9  [thank, make, noise, time, fighting, folk, spr...\n",
       "6            11  [know, little, president, news, back, pay, loo...\n",
       "7             0  [machine, dominion, forensic, event, voting, b...\n",
       "8             4  [people, suppo, get, say, ceifiable, prelimina...\n",
       "9            12  [election, fraud, day, steal, continue, recoun..."
      ]
     },
     "execution_count": 630,
     "metadata": {},
     "output_type": "execute_result"
    }
   ],
   "source": [
    "topic_dist"
   ]
  },
  {
   "cell_type": "code",
   "execution_count": 631,
   "id": "d9c5dad5",
   "metadata": {},
   "outputs": [
    {
     "name": "stderr",
     "output_type": "stream",
     "text": [
      "C:\\Users\\Ivory-UALR\\AppData\\Local\\Programs\\Python\\Python310\\lib\\site-packages\\pyLDAvis\\_prepare.py:247: FutureWarning: In a future version of pandas all arguments of DataFrame.drop except for the argument 'labels' will be keyword-only.\n",
      "  by='saliency', ascending=False).head(R).drop('saliency', 1)\n"
     ]
    },
    {
     "data": {
      "text/html": [
       "\n",
       "<link rel=\"stylesheet\" type=\"text/css\" href=\"https://cdn.jsdelivr.net/gh/bmabey/pyLDAvis@3.3.1/pyLDAvis/js/ldavis.v1.0.0.css\">\n",
       "\n",
       "\n",
       "<div id=\"ldavis_el1787221972266692166213143946\"></div>\n",
       "<script type=\"text/javascript\">\n",
       "\n",
       "var ldavis_el1787221972266692166213143946_data = {\"mdsDat\": {\"x\": [-0.36359273831558336, 0.0825842711720949, -0.06552304055113149, 0.02359255502655656, 0.034140185272307055, 0.040899492247892084, 0.062118015727014295, 0.041149200848468265, 0.03834537705708568, 0.0057069403775426766, 0.027234734013613104, 0.035995173902830115, 0.037349833221310726], \"y\": [-0.016578765220832684, 0.03887683876354978, 0.08422719376036016, 0.011969480818636987, 0.06425711249877519, -0.3481303589062504, 0.09127570179554811, 0.00730568381052329, 0.01917247502503614, 0.011975840783432914, 0.004565993414611295, 0.01240054731915188, 0.018682256137457245], \"topics\": [1, 2, 3, 4, 5, 6, 7, 8, 9, 10, 11, 12, 13], \"cluster\": [1, 1, 1, 1, 1, 1, 1, 1, 1, 1, 1, 1, 1], \"Freq\": [18.140047849292316, 10.551944272687393, 10.430625546318623, 8.52798489211787, 8.440692140599932, 7.364172261598009, 6.769803477465845, 5.9520349363202305, 5.868201629975037, 4.981941632134566, 4.699041953816323, 4.143067399715812, 4.130442007958044]}, \"tinfo\": {\"Term\": [\"election\", \"vote\", \"american\", \"people\", \"thank\", \"fraud\", \"suppo\", \"get\", \"make\", \"say\", \"need\", \"trump\", \"fight\", \"medium\", \"know\", \"machine\", \"dominion\", \"day\", \"noise\", \"forensic\", \"steal\", \"time\", \"patriot\", \"today\", \"stand\", \"rudy\", \"little\", \"deny\", \"event\", \"hard\", \"fraud\", \"day\", \"steal\", \"continue\", \"recount\", \"voter\", \"elector\", \"lose\", \"try\", \"law\", \"give\", \"send\", \"even\", \"election\", \"s\", \"still\", \"let\", \"remember\", \"destroy\", \"national\", \"last\", \"read\", \"commit\", \"citizen\", \"constitutional\", \"block\", \"issue\", \"crime\", \"claim\", \"die\", \"state\", \"good\", \"people\", \"suppo\", \"get\", \"say\", \"ceifiable\", \"preliminary\", \"country\", \"never\", \"go\", \"declare\", \"protect\", \"republic\", \"choose\", \"speak\", \"yet\", \"liberal\", \"shut\", \"high\", \"winner\", \"couple\", \"ready\", \"media\", \"job\", \"house\", \"ever\", \"begin\", \"produce\", \"really\", \"geller\", \"signature\", \"want\", \"take\", \"majority\", \"machine\", \"dominion\", \"forensic\", \"event\", \"voting\", \"big\", \"result\", \"many\", \"use\", \"change\", \"republican\", \"judge\", \"audit\", \"hide\", \"night\", \"design\", \"error\", \"release\", \"software\", \"executive_order\", \"also\", \"presidential\", \"save\", \"order\", \"ability\", \"analysis\", \"united_state\", \"mail_ballot\", \"seat\", \"wrong\", \"vote\", \"member\", \"election\", \"know\", \"little\", \"president\", \"news\", \"back\", \"pay\", \"look\", \"expose\", \"cou\", \"well\", \"true\", \"dead\", \"enemy\", \"family\", \"business\", \"illegitimate\", \"lie\", \"concede\", \"leak\", \"major\", \"sure\", \"communist\", \"military\", \"screw\", \"huge\", \"chinese\", \"full\", \"talk\", \"suppoer\", \"crazy\", \"good\", \"biden\", \"corrupt\", \"fact\", \"way\", \"keep\", \"allow\", \"money\", \"free\", \"electoral\", \"win\", \"fair\", \"politician\", \"find\", \"evil\", \"landslide\", \"ceify\", \"beat\", \"world\", \"matter\", \"step\", \"woman\", \"example\", \"thread\", \"aid\", \"clearly\", \"prevent\", \"criminal\", \"close\", \"threat\", \"note\", \"vote\", \"ballot\", \"illegal\", \"happen\", \"thank\", \"make\", \"noise\", \"time\", \"fighting\", \"folk\", \"spread\", \"shout\", \"social\", \"see\", \"year\", \"help\", \"massive\", \"other\", \"history\", \"fake\", \"run\", \"late\", \"corruption\", \"justice\", \"name\", \"daily\", \"number\", \"vaccine\", \"everywhere\", \"slate\", \"wonder\", \"bring\", \"accuse\", \"movement\", \"patriot\", \"today\", \"integrity\", \"cancel\", \"civil\", \"exaggeration\", \"joke\", \"ostracize\", \"society\", \"legal\", \"tell\", \"cast\", \"hope\", \"hear\", \"first\", \"word\", \"sell\", \"million\", \"pray\", \"interference\", \"official\", \"put\", \"hold\", \"tomorrow\", \"fix\", \"share\", \"honest\", \"outcome\", \"immune\", \"mask\", \"take\", \"vote\", \"need\", \"next\", \"attorney\", \"buckle\", \"quickly\", \"several\", \"unfold\", \"stop\", \"come\", \"watch\", \"dem\", \"break\", \"man\", \"cheat\", \"live\", \"open\", \"bad\", \"insist\", \"piece\", \"planet\", \"white\", \"check\", \"delete\", \"impoant\", \"prison\", \"able\", \"recall\", \"datum\", \"scumbag\", \"going\", \"happen\", \"trump\", \"rudy\", \"right\", \"show\", \"leave\", \"rally\", \"much\", \"sign\", \"keep_fighte\", \"government\", \"attack\", \"trigger\", \"prosecute\", \"prayer\", \"confirm\", \"team\", \"contest\", \"tweet\", \"fire\", \"systemic\", \"absentee\", \"conservative\", \"electoral_college\", \"involve\", \"damn\", \"pro\", \"federal\", \"behalf\", \"plant\", \"crucial\", \"ballot\", \"count\", \"evidence\", \"system\", \"thing\", \"long\", \"do\", \"believe\", \"new\", \"actually\", \"lead\", \"county\", \"one\", \"correct\", \"sick\", \"democracy\", \"absolutely\", \"catch\", \"currently\", \"connect\", \"box\", \"completely\", \"proof\", \"forensic_audit\", \"loyal\", \"file\", \"face\", \"prove\", \"dispute\", \"case\", \"table\", \"union\", \"state\", \"american\", \"fight\", \"hard\", \"bless\", \"woke\", \"great\", \"work\", \"end\", \"create\", \"ass\", \"wait\", \"head\", \"oveurn\", \"reveal\", \"racist\", \"place\", \"youtube\", \"control\", \"ve\", \"moron\", \"flip\", \"perdue\", \"guy\", \"roll\", \"sleep\", \"proud\", \"loeffler\", \"boy\", \"examination\", \"whole\", \"medium\", \"deny\", \"least\", \"think\", \"mean\", \"fraudulent\", \"real\", \"foreign\", \"leader\", \"clear\", \"enough\", \"already\", \"admit\", \"office\", \"seem\", \"security\", \"possible\", \"power\", \"swamp\", \"meet\", \"mainstream\", \"breitba\", \"donate\", \"depend\", \"hunter\", \"legislature\", \"patient\", \"russian\", \"democrat\", \"rethink\", \"want\", \"stand\", \"call\", \"write\", \"video\", \"truth\", \"legislator\", \"coup\", \"courage\", \"covid\", \"d\", \"exactly\", \"special\", \"side\", \"love\", \"otherwise\", \"positive\", \"fail\", \"stuff\", \"session\", \"test\", \"lawsuit\", \"lot\", \"far\", \"senator\", \"action\", \"earn\", \"home\", \"overwhelming\", \"asap\", \"recognize\", \"take\"], \"Freq\": [188.0, 94.0, 51.0, 71.0, 59.0, 88.0, 63.0, 59.0, 50.0, 57.0, 42.0, 41.0, 36.0, 35.0, 45.0, 49.0, 49.0, 67.0, 40.0, 46.0, 63.0, 37.0, 35.0, 34.0, 28.0, 31.0, 35.0, 25.0, 36.0, 24.0, 87.20719994554453, 66.28848506688439, 62.791708800453165, 48.41374158807843, 39.04974961368531, 31.89134215552888, 28.040065694983312, 27.911506444447312, 21.371919866634812, 21.353681204153286, 20.328247386067616, 19.097272678852146, 15.889716677773167, 178.24556963771994, 13.570063196953148, 13.488208914345108, 21.156897573220373, 13.030798969596438, 12.812548702943344, 11.582166813626838, 11.157426903732357, 11.044461341408185, 8.858130519542122, 8.853607674909252, 8.799672292399954, 8.43504018988823, 8.40356929186072, 8.33068582917714, 8.077967436112964, 6.982578651217261, 35.617726735894756, 12.830530845878528, 70.9489844626182, 62.785671896116924, 58.80565934939485, 56.84778371437061, 29.49806498953657, 29.258123286361872, 28.682910323677905, 23.426515237139125, 19.896724300029714, 8.211225085569435, 7.71035795352107, 7.209092436969285, 7.002393707357771, 6.81401566724853, 5.892863236377232, 5.49219409064341, 5.19923761955881, 5.082392801212009, 4.902063841553594, 4.869984607668861, 4.86005069730938, 4.783157847469563, 4.688553308094171, 4.612001012749213, 4.422323939299518, 3.6045426487310275, 3.454910357382303, 3.392701689037283, 3.2920592683976873, 3.282792901964189, 13.751197829520446, 13.904007558561773, 4.063271338183297, 49.13572169026793, 48.825652431363764, 45.920196371991366, 35.743305947033306, 30.322482963855553, 22.826935919641887, 21.267139736701914, 15.011851378807009, 14.321324954249496, 11.482826188660972, 11.284629776091796, 10.941261481692457, 10.727487926689578, 10.220250521640933, 10.044615982325794, 9.699355593015946, 9.404116801269348, 8.179084503497487, 8.058511266988397, 8.012112950018416, 7.854184071693525, 6.322975389141469, 6.27142021371901, 6.154204192983622, 5.614634266419642, 5.48239087644536, 5.454044387027956, 5.348228926227058, 5.14593603290143, 5.020245459504574, 18.44697968288123, 5.681522044594159, 8.948287071517726, 44.704629576524425, 34.269794171027975, 28.63490508667851, 23.729359295600762, 23.538579530667164, 17.48234733803605, 16.72980022707044, 12.23951472122443, 12.182989819724213, 11.776706631913315, 9.08637647363842, 9.007514421131933, 8.849391026273532, 7.27042068182769, 7.254749709411403, 6.943428840807961, 6.505568865726495, 6.389246847822248, 5.942966588471447, 5.46669746909665, 5.252817747989643, 5.163693023242056, 5.113082458325181, 5.001105314028013, 4.965054980266652, 4.7519279666789584, 4.7344480727808405, 4.722323394280768, 4.454137369152858, 4.303511910561013, 4.956873577494439, 21.55787099639616, 20.38896877518984, 18.26282279185969, 15.195036699853905, 14.483481090625766, 14.284322915807765, 12.437812540474251, 11.616583613008586, 11.17008223121053, 10.401681396536958, 8.059494887185293, 7.622070032151466, 7.510597170980946, 6.78278570962816, 6.370895974753032, 6.34167039238138, 5.966700699394322, 5.720394613952292, 5.393706469393768, 5.218576847213919, 4.916749922255244, 4.794460386013026, 4.7893455949917945, 4.751056906756874, 4.4271951468303365, 4.147703742131248, 4.130596376673344, 3.5396024340765777, 3.2007586654122684, 3.1957155477131853, 67.52219065144399, 8.813811771281088, 4.178122642484014, 6.145171269259991, 58.312979854348725, 49.74697313703704, 39.422763447832274, 36.97436490100465, 20.516433176968885, 20.20655469647437, 19.89755316097833, 19.73580065600998, 19.73580065600998, 11.559827185110056, 8.930812847091243, 7.81483406739524, 7.4038727279006, 6.048417708368744, 5.690349605415527, 5.678005608033612, 5.3078197196469485, 5.294684976973797, 5.011393376123329, 4.428439205746354, 3.8235778531262756, 3.64812084036787, 3.512477877936445, 3.299355080965216, 3.0964045968441725, 2.789229199654611, 2.6323873375456097, 2.624679688578917, 2.5675965483487677, 2.5672430298962583, 34.368208767833195, 33.97512222591766, 24.791464198286743, 23.108534041681292, 21.818611642586767, 20.816723194546174, 20.816723194546174, 20.816723194546174, 20.816723194546174, 9.654800676461377, 9.186908342369886, 8.276032371411445, 6.342611780841284, 6.091940875624159, 6.079472327497105, 5.724806924294229, 5.559503960008129, 5.496541937308725, 5.471530637138649, 5.300494733270674, 4.322125720250099, 4.152638479591323, 4.075732991422772, 3.5643658655020647, 3.428158623106366, 3.2479026536548545, 3.058942381640674, 2.798497400738998, 2.723712220761922, 2.718211970002961, 8.20409030073324, 7.765431561240216, 41.80735520017814, 22.207318186344306, 21.329173505631132, 20.844051148420863, 20.844051148420863, 20.844051148420863, 20.844051148420863, 18.748454012481915, 13.274558888111715, 12.254748427247717, 9.796838644277633, 8.615261934157967, 6.609905884871803, 6.318855828199275, 4.076479196836757, 3.931104785094602, 3.670839713190901, 3.4487676267208696, 3.413498777891028, 3.3777931812100848, 3.257287421659035, 3.1940548301727643, 2.991168639852435, 2.981242039776996, 2.5865391733670813, 2.3403486986493323, 2.2773418306951436, 2.2362758538647363, 2.1297154189683303, 2.0988613680340222, 12.584857313410964, 40.87885737671455, 30.38771209415126, 17.24058983134186, 15.048705574842412, 11.848375413218086, 11.419202881258936, 11.294184227154132, 8.661355820206433, 7.9836102855216105, 6.594300429845052, 5.525237121645801, 4.948529459444611, 4.804792867858979, 4.575922079537854, 4.524215578843093, 4.410253463461505, 4.128228941937769, 3.7028335081534296, 3.5889095091835697, 3.350634687406081, 3.338696706661622, 3.2594979499151173, 2.950101080218202, 2.704119199398218, 2.67796657640038, 2.6707109586093054, 2.6477402618989614, 2.533871452316918, 2.29572487638306, 1.993514339957982, 14.205491138196864, 5.88112449931988, 21.330776938264908, 12.946064262385336, 12.048185419783023, 10.43405039428274, 9.998850398028537, 9.809873303199696, 8.637752705179064, 8.472537804394872, 8.269856340951973, 6.839036796367663, 6.791949265365232, 6.381340008463957, 5.312971620250789, 4.987537697451319, 3.8363606214379815, 3.8271090939640198, 3.758471969162478, 3.675594179739772, 3.5294280681810073, 3.3871525465116425, 3.3286592028175095, 3.0992812544802604, 2.7664478962313734, 2.624284791104039, 2.591450396722938, 2.5687594463681602, 2.2646292167158926, 2.2404980874231093, 2.1564689975527127, 2.1010051701149464, 6.849709457698297, 51.09728055472747, 36.034858670515895, 24.138576697565995, 21.942016216048774, 19.581111314091473, 11.013530665728213, 9.832629919451364, 6.675504241022711, 5.109167463792048, 4.498421395362441, 3.7455456871881396, 3.4430487375602246, 3.2040726881677575, 3.0902285740998847, 2.5471951259138548, 2.352922702129929, 2.2207560279628082, 2.0781847696583977, 1.859643037365633, 1.766172990781144, 1.5929205294439304, 1.4972565383876504, 1.4344187320870834, 1.3893318298955777, 1.3832679206225917, 1.3651249965825516, 1.2908409554562363, 1.2405245773322588, 1.084205437579766, 1.0580069490740123, 34.375595134273716, 24.60903165359871, 22.20391062039242, 14.231169193325831, 8.297253808752137, 7.526965515143815, 7.01370647919916, 6.201897397651151, 5.667826108099278, 5.582209490982416, 4.599332565395559, 4.584646757057799, 4.514131666344797, 3.614838179767302, 3.3530790428525887, 3.0821592513983798, 3.000280733008046, 2.8249788999804117, 2.404205780687193, 2.043872966337843, 1.9165857289776327, 1.8529868917952075, 1.722090223673635, 1.6935996601887773, 1.612472125412119, 1.6024071509257332, 1.336889591913089, 0.9812867268953758, 0.8462215951376475, 0.8061967474944812, 1.8230898108480065, 27.415865325942978, 12.118530376252137, 6.78923760169129, 6.323368712471813, 6.048937164179831, 5.88675175166593, 5.087472920454772, 4.916124307130468, 4.548928345900869, 4.521280285044033, 4.346312838997577, 4.279118641423771, 4.202255126269169, 3.5540117678765175, 3.4095773321185736, 3.244112361183601, 3.044281195187777, 3.009138078745538, 2.852990016088509, 2.8441934774552213, 2.7532805408311627, 2.689081962065661, 2.6375340668149976, 2.5806642601018326, 2.3093146862681007, 2.278282126710082, 1.963759199393544, 1.9057759916791392, 1.8537312021061352, 1.7932347375633804, 3.4725272473113997], \"Total\": [188.0, 94.0, 51.0, 71.0, 59.0, 88.0, 63.0, 59.0, 50.0, 57.0, 42.0, 41.0, 36.0, 35.0, 45.0, 49.0, 49.0, 67.0, 40.0, 46.0, 63.0, 37.0, 35.0, 34.0, 28.0, 31.0, 35.0, 25.0, 36.0, 24.0, 88.00752897130192, 67.0888280721597, 63.59665703371144, 49.214105974084184, 39.85011932968794, 32.69167208992538, 28.840830095402545, 28.71214464939307, 22.172254719333303, 22.154010905685087, 21.128645476938495, 19.897608065506343, 16.69004611518422, 188.0055810469428, 14.370394030052658, 14.28854075483621, 22.4150289577201, 13.831144402975038, 13.612881575269961, 12.382497416572017, 11.957757505004375, 11.844790733945718, 9.658459627476493, 9.653940146090017, 9.600000680614619, 9.23537977600428, 9.203899364939902, 9.13101428805569, 8.87829740431403, 7.782909732972909, 44.26185917831829, 18.5039844581088, 71.76939455460938, 63.60611626687819, 59.62620895154095, 57.66819107357603, 30.318475412953504, 30.078534796074294, 29.51095721554253, 24.246923049175642, 20.71713127635181, 9.03163290023486, 8.530766934071332, 8.029507113895644, 7.822809395671126, 7.6344226142744205, 6.713274416986325, 6.312601232364874, 6.019650273262078, 5.902801218732753, 5.7224700175849685, 5.690399345330707, 5.680456477727405, 5.6036651666619965, 5.50895979086823, 5.432418243520634, 5.242728685639248, 4.424951556666989, 4.275318557747902, 4.213107455674804, 4.112490392401627, 4.10321569572598, 18.31408063164956, 26.283069819005892, 7.791959324933519, 49.952587955480375, 49.64251841575349, 46.73706913897169, 36.560221298579556, 31.13934919813828, 23.64380869704288, 22.08400603433189, 15.828721463636494, 15.138193294330339, 12.299703682982972, 12.101501061584381, 11.75813189232433, 11.544353582289771, 11.037119729816029, 10.861482984118943, 10.51622040448597, 10.220984251921925, 8.995949094194433, 8.87537766888844, 8.828987851326012, 8.671051047035307, 7.139846020565696, 7.088291839707457, 6.971073939604614, 6.431507794158353, 6.299256691771686, 6.270911337417875, 6.165099810754013, 5.962803276587876, 5.837123957093308, 94.41078973576488, 8.48052705123426, 188.0055810469428, 45.51607114470496, 35.081262882090066, 29.446341232291307, 24.540799414168283, 24.350018532632358, 18.293783341174315, 17.545851346299298, 13.050951367277364, 12.994428810379745, 12.588142333805049, 9.89781865979316, 9.818954143649972, 9.6608318827516, 8.081856041637435, 8.06619667279869, 7.754878155809045, 7.317006876366779, 7.2006837704056395, 6.754405985549245, 6.278133027949009, 6.0642555502300795, 5.975127397061327, 5.924517950949241, 5.812541253614357, 5.77649983006496, 5.563362039144526, 5.545883697947126, 5.5337591226168685, 5.265582876505374, 5.114949526805815, 18.5039844581088, 22.365541965451765, 21.19664419257361, 19.070496923431865, 16.00270932376601, 15.291155577785279, 15.09200165086629, 13.245496792806515, 12.424263644704872, 11.977754496330489, 11.209352951684304, 8.867168313034938, 8.429761239304558, 8.318269599859299, 7.590462599676719, 7.1785720126195685, 7.14934163094507, 6.774373763138648, 6.528071924605351, 6.201381454487248, 6.0262538246912305, 5.724421910286837, 5.602135068840832, 5.59702719727892, 5.558734534054772, 5.234868425479367, 4.955378162659406, 4.938270982614192, 4.347274269903696, 4.008441206811223, 4.003402985915764, 94.41078973576488, 23.75517489875513, 6.471443159603276, 19.48443413351005, 59.15772703592231, 50.591720178898214, 40.26751714372788, 37.819113605552694, 21.36119101940354, 21.05140187899334, 20.742306311087088, 20.580555452984882, 20.580555452984882, 12.404573497832752, 9.775560755781825, 8.659581764321855, 8.248621743049972, 6.893163928345834, 6.535098528173137, 6.522758629220703, 6.152566252525738, 6.139428747305682, 5.85613929655747, 5.273187079262187, 4.668329700342363, 4.492863611262178, 4.357225013504215, 4.14410232358657, 3.9411516335003927, 3.6339812145726142, 3.477133902060448, 3.46942506397765, 3.4123419371165777, 3.411995805483431, 35.210207495222086, 34.817119819727864, 25.633446844971957, 23.95051853434801, 22.6605948621491, 21.658707166359093, 21.658707166359093, 21.658707166359093, 21.658707166359093, 10.496791079021122, 10.028893528703195, 9.118017825120104, 7.184596342049578, 6.933925243353571, 6.92145975922823, 6.56679417640356, 6.40149133385544, 6.3385309128282055, 6.313520252363531, 6.142482531879539, 5.164115627442134, 4.994625592747345, 4.917719842670694, 4.406355205900047, 4.270142689378435, 4.089888920709632, 3.9009292490102965, 3.6405480305395086, 3.565700973873398, 3.5601988688993966, 26.283069819005892, 94.41078973576488, 42.64927303987131, 23.04923196062625, 22.17108879534142, 21.68596815856637, 21.68596815856637, 21.68596815856637, 21.68596815856637, 19.590368522138707, 14.11647592552259, 13.096663901640378, 10.63875524189222, 9.457177839716314, 7.451821187560789, 7.160770872140514, 4.9183947866021445, 4.7730227767451305, 4.5127551856585635, 4.290683552015253, 4.255427838897604, 4.219706937970174, 4.0992200798093075, 4.035974460745005, 3.833084718886649, 3.8231613433108973, 3.4284583992825657, 3.182281719796423, 3.1192716247193175, 3.0781919099736177, 2.971629267192107, 2.9407836938183762, 19.48443413351005, 41.70224062660275, 31.211111674275926, 18.06397284478587, 15.872089755993715, 12.671759580749805, 12.242582892791873, 12.11757101494865, 9.484736234910722, 8.80699012906825, 7.417682115351671, 6.348617042815935, 5.7719113099786306, 5.628175441442723, 5.399302064134911, 5.347609027302723, 5.2336363554873335, 4.951612169771424, 4.526217426182909, 4.412296698856498, 4.17401862179652, 4.162075759126543, 4.0828823434503985, 3.7734809358913965, 3.5275032900182848, 3.501348212584616, 3.4940905785842618, 3.4711208920790595, 3.3572552450890516, 3.1191054803983773, 2.8168968015998654, 23.75517489875513, 10.081472572591153, 22.147959545213254, 13.763249314127004, 12.865368712365127, 11.251233439532145, 10.816033741260732, 10.627056968413896, 9.454932433348358, 9.28972019092637, 9.087039748549145, 7.656219792838789, 7.609133200968541, 7.198521984703141, 6.130157255122261, 5.804721823337668, 4.65354271437343, 4.644298203345267, 4.575655735264606, 4.492774586366349, 4.34661657610036, 4.20433945053198, 4.1458401915486105, 3.9164689702329607, 3.5836347574017617, 3.441475984894975, 3.4086355903566568, 3.3859389509445963, 3.081808709002435, 3.0576801975410466, 2.973718035620478, 2.918203155173759, 44.26185917831829, 51.94243222419561, 36.87999980641185, 24.983721321791133, 22.787159504822792, 20.42632964583095, 11.85867316327639, 10.677771950725981, 7.520647527638543, 5.954312556711084, 5.343564717193112, 4.590687688433015, 4.288207543177966, 4.0492218094947825, 3.935378171704454, 3.3923352756198346, 3.1980670294514706, 3.065907949838892, 2.9233237091990163, 2.704784417893132, 2.6113142665057767, 2.438080441859468, 2.342395194017919, 2.2795604783604397, 2.234474770799986, 2.228484803433967, 2.2102668921991677, 2.13597924052758, 2.085667558514297, 1.9293548314733076, 1.9031587806724266, 35.216352927748815, 25.4497920831973, 23.044693620691557, 15.071923071365955, 9.138007839361999, 8.367720279621263, 7.854461983861465, 7.042653425662615, 6.508581111037969, 6.422963808114572, 5.4400941126126865, 5.4254049560314765, 5.354887754369544, 4.455591901895458, 4.193833834851986, 3.9229143248115284, 3.8410765007440326, 3.665735538436875, 3.2449569690901, 2.8846312529433273, 2.7573389017617935, 2.693745505130413, 2.5628482338718475, 2.5343574557063646, 2.4532243923551924, 2.4431656034624964, 2.1776403145674, 1.8220392255285576, 1.6869747119388991, 1.6469682276694995, 18.31408063164956, 28.246285062649797, 12.948954064168692, 7.619658494139551, 7.153790150065453, 6.879358714236366, 6.717183800387971, 5.917893875030591, 5.746544129791697, 5.379346047793228, 5.351706556870429, 5.176736392670452, 5.109552049659872, 5.032678581898109, 4.38443058099227, 4.240026264233766, 4.0745313421111335, 3.874702891536878, 3.8395625447734454, 3.6834101802645742, 3.6746097311144545, 3.5837009992894098, 3.519507585968867, 3.46795859006716, 3.4110856190731216, 3.1397353545192814, 3.108701937781245, 2.7941900749976547, 2.7362178445138143, 2.684157392260925, 2.623679433412394, 26.283069819005892], \"Category\": [\"Default\", \"Default\", \"Default\", \"Default\", \"Default\", \"Default\", \"Default\", \"Default\", \"Default\", \"Default\", \"Default\", \"Default\", \"Default\", \"Default\", \"Default\", \"Default\", \"Default\", \"Default\", \"Default\", \"Default\", \"Default\", \"Default\", \"Default\", \"Default\", \"Default\", \"Default\", \"Default\", \"Default\", \"Default\", \"Default\", \"Topic1\", \"Topic1\", \"Topic1\", \"Topic1\", \"Topic1\", \"Topic1\", \"Topic1\", \"Topic1\", \"Topic1\", \"Topic1\", \"Topic1\", \"Topic1\", \"Topic1\", \"Topic1\", \"Topic1\", \"Topic1\", \"Topic1\", \"Topic1\", \"Topic1\", \"Topic1\", \"Topic1\", \"Topic1\", \"Topic1\", \"Topic1\", \"Topic1\", \"Topic1\", \"Topic1\", \"Topic1\", \"Topic1\", \"Topic1\", \"Topic1\", \"Topic1\", \"Topic2\", \"Topic2\", \"Topic2\", \"Topic2\", \"Topic2\", \"Topic2\", \"Topic2\", \"Topic2\", \"Topic2\", \"Topic2\", \"Topic2\", \"Topic2\", \"Topic2\", \"Topic2\", \"Topic2\", \"Topic2\", \"Topic2\", \"Topic2\", \"Topic2\", \"Topic2\", \"Topic2\", \"Topic2\", \"Topic2\", \"Topic2\", \"Topic2\", \"Topic2\", \"Topic2\", \"Topic2\", \"Topic2\", \"Topic2\", \"Topic2\", \"Topic2\", \"Topic2\", \"Topic3\", \"Topic3\", \"Topic3\", \"Topic3\", \"Topic3\", \"Topic3\", \"Topic3\", \"Topic3\", \"Topic3\", \"Topic3\", \"Topic3\", \"Topic3\", \"Topic3\", \"Topic3\", \"Topic3\", \"Topic3\", \"Topic3\", \"Topic3\", \"Topic3\", \"Topic3\", \"Topic3\", \"Topic3\", \"Topic3\", \"Topic3\", \"Topic3\", \"Topic3\", \"Topic3\", \"Topic3\", \"Topic3\", \"Topic3\", \"Topic3\", \"Topic3\", \"Topic3\", \"Topic4\", \"Topic4\", \"Topic4\", \"Topic4\", \"Topic4\", \"Topic4\", \"Topic4\", \"Topic4\", \"Topic4\", \"Topic4\", \"Topic4\", \"Topic4\", \"Topic4\", \"Topic4\", \"Topic4\", \"Topic4\", \"Topic4\", \"Topic4\", \"Topic4\", \"Topic4\", \"Topic4\", \"Topic4\", \"Topic4\", \"Topic4\", \"Topic4\", \"Topic4\", \"Topic4\", \"Topic4\", \"Topic4\", \"Topic4\", \"Topic4\", \"Topic5\", \"Topic5\", \"Topic5\", \"Topic5\", \"Topic5\", \"Topic5\", \"Topic5\", \"Topic5\", \"Topic5\", \"Topic5\", \"Topic5\", \"Topic5\", \"Topic5\", \"Topic5\", \"Topic5\", \"Topic5\", \"Topic5\", \"Topic5\", \"Topic5\", \"Topic5\", \"Topic5\", \"Topic5\", \"Topic5\", \"Topic5\", \"Topic5\", \"Topic5\", \"Topic5\", \"Topic5\", \"Topic5\", \"Topic5\", \"Topic5\", \"Topic5\", \"Topic5\", \"Topic5\", \"Topic6\", \"Topic6\", \"Topic6\", \"Topic6\", \"Topic6\", \"Topic6\", \"Topic6\", \"Topic6\", \"Topic6\", \"Topic6\", \"Topic6\", \"Topic6\", \"Topic6\", \"Topic6\", \"Topic6\", \"Topic6\", \"Topic6\", \"Topic6\", \"Topic6\", \"Topic6\", \"Topic6\", \"Topic6\", \"Topic6\", \"Topic6\", \"Topic6\", \"Topic6\", \"Topic6\", \"Topic6\", \"Topic6\", \"Topic6\", \"Topic7\", \"Topic7\", \"Topic7\", \"Topic7\", \"Topic7\", \"Topic7\", \"Topic7\", \"Topic7\", \"Topic7\", \"Topic7\", \"Topic7\", \"Topic7\", \"Topic7\", \"Topic7\", \"Topic7\", \"Topic7\", \"Topic7\", \"Topic7\", \"Topic7\", \"Topic7\", \"Topic7\", \"Topic7\", \"Topic7\", \"Topic7\", \"Topic7\", \"Topic7\", \"Topic7\", \"Topic7\", \"Topic7\", \"Topic7\", \"Topic7\", \"Topic7\", \"Topic8\", \"Topic8\", \"Topic8\", \"Topic8\", \"Topic8\", \"Topic8\", \"Topic8\", \"Topic8\", \"Topic8\", \"Topic8\", \"Topic8\", \"Topic8\", \"Topic8\", \"Topic8\", \"Topic8\", \"Topic8\", \"Topic8\", \"Topic8\", \"Topic8\", \"Topic8\", \"Topic8\", \"Topic8\", \"Topic8\", \"Topic8\", \"Topic8\", \"Topic8\", \"Topic8\", \"Topic8\", \"Topic8\", \"Topic8\", \"Topic8\", \"Topic9\", \"Topic9\", \"Topic9\", \"Topic9\", \"Topic9\", \"Topic9\", \"Topic9\", \"Topic9\", \"Topic9\", \"Topic9\", \"Topic9\", \"Topic9\", \"Topic9\", \"Topic9\", \"Topic9\", \"Topic9\", \"Topic9\", \"Topic9\", \"Topic9\", \"Topic9\", \"Topic9\", \"Topic9\", \"Topic9\", \"Topic9\", \"Topic9\", \"Topic9\", \"Topic9\", \"Topic9\", \"Topic9\", \"Topic9\", \"Topic9\", \"Topic9\", \"Topic10\", \"Topic10\", \"Topic10\", \"Topic10\", \"Topic10\", \"Topic10\", \"Topic10\", \"Topic10\", \"Topic10\", \"Topic10\", \"Topic10\", \"Topic10\", \"Topic10\", \"Topic10\", \"Topic10\", \"Topic10\", \"Topic10\", \"Topic10\", \"Topic10\", \"Topic10\", \"Topic10\", \"Topic10\", \"Topic10\", \"Topic10\", \"Topic10\", \"Topic10\", \"Topic10\", \"Topic10\", \"Topic10\", \"Topic10\", \"Topic10\", \"Topic11\", \"Topic11\", \"Topic11\", \"Topic11\", \"Topic11\", \"Topic11\", \"Topic11\", \"Topic11\", \"Topic11\", \"Topic11\", \"Topic11\", \"Topic11\", \"Topic11\", \"Topic11\", \"Topic11\", \"Topic11\", \"Topic11\", \"Topic11\", \"Topic11\", \"Topic11\", \"Topic11\", \"Topic11\", \"Topic11\", \"Topic11\", \"Topic11\", \"Topic11\", \"Topic11\", \"Topic11\", \"Topic11\", \"Topic11\", \"Topic12\", \"Topic12\", \"Topic12\", \"Topic12\", \"Topic12\", \"Topic12\", \"Topic12\", \"Topic12\", \"Topic12\", \"Topic12\", \"Topic12\", \"Topic12\", \"Topic12\", \"Topic12\", \"Topic12\", \"Topic12\", \"Topic12\", \"Topic12\", \"Topic12\", \"Topic12\", \"Topic12\", \"Topic12\", \"Topic12\", \"Topic12\", \"Topic12\", \"Topic12\", \"Topic12\", \"Topic12\", \"Topic12\", \"Topic12\", \"Topic12\", \"Topic13\", \"Topic13\", \"Topic13\", \"Topic13\", \"Topic13\", \"Topic13\", \"Topic13\", \"Topic13\", \"Topic13\", \"Topic13\", \"Topic13\", \"Topic13\", \"Topic13\", \"Topic13\", \"Topic13\", \"Topic13\", \"Topic13\", \"Topic13\", \"Topic13\", \"Topic13\", \"Topic13\", \"Topic13\", \"Topic13\", \"Topic13\", \"Topic13\", \"Topic13\", \"Topic13\", \"Topic13\", \"Topic13\", \"Topic13\", \"Topic13\"], \"logprob\": [30.0, 29.0, 28.0, 27.0, 26.0, 25.0, 24.0, 23.0, 22.0, 21.0, 20.0, 19.0, 18.0, 17.0, 16.0, 15.0, 14.0, 13.0, 12.0, 11.0, 10.0, 9.0, 8.0, 7.0, 6.0, 5.0, 4.0, 3.0, 2.0, 1.0, -2.7155, -2.9898, -3.044, -3.304, -3.5189, -3.7214, -3.8501, -3.8547, -4.1217, -4.1226, -4.1718, -4.2342, -4.4181, -2.0006, -4.5759, -4.582, -4.1318, -4.6165, -4.6334, -4.7343, -4.7717, -4.7818, -5.0024, -5.003, -5.0091, -5.0514, -5.0551, -5.0638, -5.0946, -5.2404, -3.6109, -4.6319, -2.38, -2.5022, -2.5677, -2.6016, -3.2576, -3.2658, -3.2857, -3.4881, -3.6514, -4.5365, -4.5994, -4.6666, -4.6957, -4.723, -4.8682, -4.9386, -4.9935, -5.0162, -5.0523, -5.0589, -5.0609, -5.0769, -5.0968, -5.1133, -5.1553, -5.3598, -5.4022, -5.4203, -5.4505, -5.4533, -4.0208, -4.0098, -5.24, -2.7358, -2.7421, -2.8035, -3.054, -3.2185, -3.5025, -3.5732, -3.9216, -3.9686, -4.1895, -4.207, -4.2379, -4.2576, -4.306, -4.3234, -4.3583, -4.3893, -4.5288, -4.5437, -4.5494, -4.5694, -4.7862, -4.7944, -4.8133, -4.905, -4.9289, -4.934, -4.9536, -4.9922, -5.0169, -3.7155, -4.8932, -4.4389, -2.6289, -2.8947, -3.0744, -3.2623, -3.2704, -3.5678, -3.6118, -3.9243, -3.929, -3.9629, -4.2222, -4.2309, -4.2487, -4.4452, -4.4474, -4.4912, -4.5563, -4.5744, -4.6468, -4.7303, -4.7702, -4.7874, -4.7972, -4.8193, -4.8266, -4.8705, -4.8741, -4.8767, -4.9352, -4.9696, -4.8282, -3.348, -3.4037, -3.5139, -3.6977, -3.7457, -3.7596, -3.898, -3.9663, -4.0055, -4.0768, -4.3319, -4.3877, -4.4024, -4.5043, -4.567, -4.5716, -4.6325, -4.6747, -4.7335, -4.7665, -4.8261, -4.8513, -4.8523, -4.8604, -4.931, -4.9962, -5.0003, -5.1547, -5.2553, -5.2569, -2.2063, -4.2424, -4.9889, -4.6031, -2.2165, -2.3753, -2.6079, -2.6721, -3.2611, -3.2763, -3.2917, -3.2998, -3.2998, -3.8347, -4.0928, -4.2263, -4.2803, -4.4825, -4.5435, -4.5457, -4.6131, -4.6156, -4.6706, -4.7942, -4.9411, -4.9881, -5.026, -5.0886, -5.152, -5.2565, -5.3144, -5.3173, -5.3393, -5.3394, -2.661, -2.6725, -2.9876, -3.0579, -3.1154, -3.1624, -3.1624, -3.1624, -3.1624, -3.9307, -3.9803, -4.0848, -4.3508, -4.3912, -4.3932, -4.4533, -4.4826, -4.494, -4.4986, -4.5303, -4.7344, -4.7744, -4.7931, -4.9271, -4.9661, -5.0201, -5.0801, -5.169, -5.1961, -5.1982, -4.0935, -4.1484, -2.3363, -2.969, -3.0093, -3.0323, -3.0323, -3.0323, -3.0323, -3.1383, -3.4835, -3.5635, -3.7873, -3.9159, -4.1808, -4.2258, -4.6642, -4.7005, -4.769, -4.8314, -4.8416, -4.8522, -4.8885, -4.9081, -4.9737, -4.977, -5.1191, -5.2191, -5.2464, -5.2646, -5.3134, -5.328, -3.5369, -2.3446, -2.6412, -3.2079, -3.3439, -3.583, -3.6199, -3.6309, -3.8963, -3.9778, -4.169, -4.3459, -4.4561, -4.4856, -4.5344, -4.5458, -4.5713, -4.6374, -4.7461, -4.7774, -4.8461, -4.8496, -4.8736, -4.9734, -5.0604, -5.0701, -5.0729, -5.0815, -5.1255, -5.2242, -5.3653, -3.4016, -4.2835, -2.8313, -3.3307, -3.4026, -3.5464, -3.589, -3.6081, -3.7353, -3.7546, -3.7789, -3.9688, -3.9757, -4.0381, -4.2213, -4.2845, -4.5469, -4.5494, -4.5675, -4.5898, -4.6303, -4.6715, -4.6889, -4.7603, -4.8739, -4.9267, -4.9393, -4.9481, -5.0741, -5.0848, -5.123, -5.1491, -3.9673, -1.8993, -2.2485, -2.6492, -2.7446, -2.8584, -3.4339, -3.5473, -3.9346, -4.202, -4.3293, -4.5124, -4.5967, -4.6686, -4.7048, -4.898, -4.9774, -5.0352, -5.1015, -5.2126, -5.2642, -5.3674, -5.4294, -5.4723, -5.5042, -5.5086, -5.5218, -5.5777, -5.6175, -5.7522, -5.7766, -2.1697, -2.504, -2.6068, -3.0517, -3.5912, -3.6886, -3.7592, -3.8822, -3.9723, -3.9875, -4.1812, -4.1844, -4.1999, -4.422, -4.4972, -4.5815, -4.6084, -4.6686, -4.8299, -4.9922, -5.0565, -5.0903, -5.1636, -5.1802, -5.2293, -5.2356, -5.4167, -5.726, -5.8741, -5.9225, -5.1066, -2.3929, -3.2093, -3.7887, -3.8598, -3.9042, -3.9313, -4.0773, -4.1115, -4.1891, -4.1952, -4.2347, -4.2503, -4.2684, -4.436, -4.4774, -4.5272, -4.5908, -4.6024, -4.6557, -4.6588, -4.6912, -4.7148, -4.7342, -4.756, -4.8671, -4.8806, -5.0292, -5.0591, -5.0868, -5.12, -4.4592], \"loglift\": [30.0, 29.0, 28.0, 27.0, 26.0, 25.0, 24.0, 23.0, 22.0, 21.0, 20.0, 19.0, 18.0, 17.0, 16.0, 15.0, 14.0, 13.0, 12.0, 11.0, 10.0, 9.0, 8.0, 7.0, 6.0, 5.0, 4.0, 3.0, 2.0, 1.0, 1.6979, 1.695, 1.6943, 1.6907, 1.6868, 1.6823, 1.6789, 1.6788, 1.6703, 1.6703, 1.6684, 1.666, 1.6579, 1.6537, 1.6497, 1.6494, 1.6493, 1.6474, 1.6465, 1.6402, 1.6378, 1.6371, 1.6205, 1.6205, 1.62, 1.6164, 1.6161, 1.6153, 1.6126, 1.5985, 1.4898, 1.3409, 2.2374, 2.2359, 2.235, 2.2345, 2.2214, 2.2212, 2.2204, 2.2144, 2.2085, 2.1536, 2.1477, 2.1411, 2.1381, 2.1352, 2.1185, 2.1096, 2.1023, 2.0992, 2.0941, 2.0932, 2.0929, 2.0905, 2.0876, 2.0851, 2.0787, 2.0438, 2.0358, 2.0323, 2.0263, 2.0258, 1.9623, 1.6121, 1.5978, 2.2439, 2.2438, 2.2428, 2.2378, 2.2338, 2.2253, 2.2227, 2.2074, 2.205, 2.1917, 2.1905, 2.1884, 2.187, 2.1835, 2.1822, 2.1796, 2.1771, 2.1652, 2.1639, 2.1633, 2.1615, 2.1389, 2.138, 2.1358, 2.1246, 2.1215, 2.1209, 2.1183, 2.1131, 2.1097, 0.6277, 1.8599, -0.7846, 2.4438, 2.4384, 2.4339, 2.4282, 2.4279, 2.4164, 2.4142, 2.3976, 2.3973, 2.3952, 2.3763, 2.3756, 2.3741, 2.356, 2.3558, 2.3513, 2.3443, 2.3423, 2.3338, 2.3234, 2.3182, 2.3159, 2.3145, 2.3115, 2.3104, 2.3042, 2.3036, 2.3033, 2.2945, 2.2891, 1.1446, 2.4353, 2.4333, 2.4288, 2.4203, 2.4178, 2.4171, 2.4092, 2.4049, 2.4023, 2.3973, 2.3766, 2.3714, 2.37, 2.3596, 2.3527, 2.3522, 2.3452, 2.34, 2.3326, 2.3282, 2.32, 2.3164, 2.3163, 2.3151, 2.3045, 2.2942, 2.2935, 2.2666, 2.2471, 2.2468, 2.1369, 1.4806, 2.0346, 1.3182, 2.5942, 2.5917, 2.5873, 2.586, 2.5682, 2.5676, 2.567, 2.5666, 2.5666, 2.538, 2.5182, 2.5059, 2.5005, 2.4778, 2.4701, 2.4698, 2.4609, 2.4605, 2.4528, 2.434, 2.4089, 2.4003, 2.393, 2.3806, 2.3673, 2.344, 2.3302, 2.3295, 2.3241, 2.3241, 2.6685, 2.6682, 2.6593, 2.6569, 2.6548, 2.653, 2.653, 2.653, 2.653, 2.6091, 2.605, 2.5958, 2.568, 2.5632, 2.563, 2.5555, 2.5517, 2.5502, 2.5496, 2.5453, 2.5147, 2.5081, 2.5049, 2.4806, 2.4731, 2.4622, 2.4496, 2.4296, 2.4233, 2.4229, 1.5284, 0.1947, 2.8015, 2.7842, 2.7827, 2.7818, 2.7818, 2.7818, 2.7818, 2.7775, 2.7599, 2.755, 2.739, 2.7282, 2.7015, 2.6964, 2.6337, 2.6274, 2.6149, 2.603, 2.601, 2.5989, 2.5915, 2.5875, 2.5734, 2.5727, 2.5396, 2.5141, 2.5068, 2.5019, 2.4883, 2.4842, 2.3843, 2.8157, 2.8089, 2.789, 2.7824, 2.7684, 2.766, 2.7653, 2.7448, 2.7375, 2.718, 2.6967, 2.6817, 2.6775, 2.6702, 2.6684, 2.6644, 2.6538, 2.6348, 2.6291, 2.6159, 2.6152, 2.6104, 2.5895, 2.5698, 2.5675, 2.5669, 2.5649, 2.5542, 2.5291, 2.4899, 2.3215, 2.2967, 2.9618, 2.9381, 2.9337, 2.9239, 2.9208, 2.9193, 2.909, 2.9073, 2.9051, 2.8865, 2.8857, 2.8789, 2.8563, 2.8476, 2.8062, 2.8058, 2.8026, 2.7986, 2.7911, 2.7832, 2.7798, 2.7653, 2.7405, 2.7283, 2.7253, 2.7231, 2.6912, 2.6884, 2.678, 2.6708, 1.1334, 3.0414, 3.0346, 3.0234, 3.02, 3.0156, 2.9839, 2.9754, 2.9386, 2.9047, 2.8856, 2.8543, 2.8383, 2.8237, 2.816, 2.7713, 2.7509, 2.7353, 2.7166, 2.6832, 2.6668, 2.6322, 2.6103, 2.5946, 2.5826, 2.5809, 2.5759, 2.5542, 2.5383, 2.4815, 2.4707, 3.1596, 3.1501, 3.1466, 3.1263, 3.0872, 3.0778, 3.0705, 3.0566, 3.0454, 3.0434, 3.0158, 3.0154, 3.0129, 2.9746, 2.96, 2.9425, 2.9367, 2.9232, 2.8839, 2.8392, 2.82, 2.8096, 2.7862, 2.7806, 2.7641, 2.7619, 2.6958, 2.5649, 2.4938, 2.4694, 0.8766, 3.1569, 3.1205, 3.0714, 3.0634, 3.0581, 3.0548, 3.0356, 3.0307, 3.0191, 3.0182, 3.0119, 3.0094, 3.0065, 2.9768, 2.9688, 2.9589, 2.9456, 2.9431, 2.9313, 2.9306, 2.9232, 2.9177, 2.9131, 2.9078, 2.8796, 2.876, 2.8341, 2.8251, 2.8166, 2.8062, 1.1627]}, \"token.table\": {\"Topic\": [3, 8, 9, 10, 6, 13, 10, 12, 5, 5, 12, 3, 11, 3, 13, 11, 9, 8, 3, 4, 8, 5, 9, 5, 2, 9, 10, 5, 3, 11, 1, 10, 11, 8, 12, 6, 8, 4, 13, 7, 10, 7, 10, 2, 5, 3, 8, 8, 4, 2, 1, 7, 1, 12, 5, 5, 8, 1, 4, 10, 4, 9, 10, 9, 1, 9, 1, 11, 10, 5, 6, 4, 5, 9, 2, 10, 13, 2, 13, 13, 4, 11, 1, 5, 9, 10, 13, 6, 9, 8, 1, 4, 2, 8, 8, 10, 12, 12, 12, 3, 1, 1, 10, 10, 3, 12, 13, 1, 3, 1, 5, 9, 11, 4, 12, 3, 1, 3, 2, 6, 10, 5, 13, 7, 11, 5, 3, 4, 10, 5, 13, 5, 6, 4, 13, 9, 11, 6, 10, 5, 9, 7, 7, 11, 6, 12, 3, 10, 1, 12, 5, 4, 2, 2, 1, 2, 8, 1, 4, 9, 11, 11, 5, 8, 11, 11, 7, 6, 3, 2, 6, 7, 13, 7, 7, 2, 4, 12, 2, 5, 4, 7, 8, 8, 7, 7, 9, 1, 2, 7, 3, 6, 5, 9, 4, 5, 1, 6, 1, 13, 10, 12, 4, 12, 9, 7, 13, 12, 1, 11, 2, 4, 4, 8, 11, 10, 4, 1, 13, 13, 10, 3, 3, 12, 4, 2, 4, 6, 8, 3, 7, 6, 5, 12, 2, 12, 12, 3, 4, 4, 7, 5, 11, 6, 9, 6, 1, 8, 2, 10, 4, 8, 3, 6, 5, 6, 12, 7, 10, 8, 3, 7, 6, 13, 7, 13, 11, 12, 7, 4, 2, 11, 8, 11, 8, 9, 5, 13, 12, 12, 7, 9, 2, 4, 3, 5, 8, 9, 2, 10, 9, 2, 11, 10, 7, 8, 11, 9, 1, 2, 12, 2, 8, 13, 1, 3, 1, 2, 3, 3, 12, 11, 9, 11, 9, 6, 12, 1, 3, 2, 4, 8, 3, 12, 6, 12, 7, 13, 1, 13, 8, 7, 6, 9, 2, 10, 13, 9, 2, 6, 11, 6, 7, 3, 2, 13, 6, 13, 1, 5, 10, 1, 5, 1, 8, 13, 2, 4, 4, 12, 10, 9, 10, 2, 7, 13, 4, 9, 7, 13, 6, 10, 12, 5, 5, 6, 7, 7, 9, 4, 9, 13, 1, 9, 8, 10, 3, 3, 6, 11, 13, 3, 5, 7, 1, 3, 11, 2, 4, 12, 8, 5, 4, 8, 11, 5, 2, 11, 5, 6, 7, 11, 5, 13, 3, 6, 2, 11], \"Freq\": [0.9329072111907747, 0.6284798695094613, 0.7207941838688643, 0.8595601771624815, 0.8791616008256764, 0.6369963624868046, 0.8611669496583879, 0.9337263878071097, 0.8994853000027674, 0.9276436833146245, 0.921590192901905, 0.9226101837718111, 0.9818562168955074, 0.7937444439327546, 0.7451127887531795, 0.7485639665090714, 0.9450877190315916, 0.9471794639337926, 0.9528467680403634, 0.9856255332141417, 0.886376467465355, 0.37886481738644817, 0.5893452714900306, 0.8856907235688348, 0.903964698545293, 0.8935871064281932, 0.9409942968897544, 0.9836560202289566, 0.9727705165740324, 0.9654560058415269, 0.8662340038019778, 0.9202560037141962, 0.4794627964162895, 0.9516581111760052, 0.7424606356431483, 0.864696583635255, 0.9683681100354562, 0.8678191573986559, 0.9267157749215775, 0.960313237770412, 0.6540906408748627, 0.8773836763029823, 0.8612711382569745, 0.956512476468715, 0.8392381158608672, 0.8943304882392286, 0.8378986155447907, 0.743314911721772, 0.89873712421003, 0.8948191942236966, 0.9322618396018467, 0.9708483000482693, 0.9010736671327029, 0.9341481875422974, 0.764107074884831, 0.9201167793097652, 0.920909727653486, 0.9318256064762853, 0.8368022416491218, 0.7135484742128533, 0.8332542007551595, 0.9349972996290543, 0.890318426421457, 0.7347750308828966, 0.9374999335337334, 0.8078177092340104, 0.975330122328677, 0.6841527654657155, 0.83350443504236, 0.9435455828902924, 0.8538048271732964, 0.9234726801084623, 0.29757557523453504, 0.5951511504690701, 0.9826858474359, 0.9142893215457867, 0.8448951781809628, 0.8786729536131381, 0.8700881585644836, 0.9294810104382767, 0.782021401978119, 0.8397275004256399, 0.8761348682221236, 0.81000010207672, 0.7100011611586529, 0.8741916419043453, 0.9342814197428455, 0.8903007849989647, 0.8568128097677746, 0.6497320695047702, 0.9837703518834973, 0.9165945647908338, 0.8857755943326668, 0.782659455768923, 0.9399595885638018, 0.8613677196205486, 0.5927771133277184, 0.9823262963513849, 0.7891546614692397, 0.9509119831431297, 0.9549778221546156, 0.8994065510414375, 0.6489695464088001, 0.9245533288096406, 0.9870570946789518, 0.7803817540059642, 0.6433553425284149, 0.9467804041176601, 0.04787091930931989, 0.9708458427645402, 0.9183691319913065, 0.7950219044345908, 0.9307709175672504, 0.9315967930327568, 0.9191017464950942, 0.8805414212733638, 0.9586552301640178, 0.984676753075307, 0.762961472898016, 0.7611988268859133, 0.9481686092630887, 0.9222099322771359, 0.7726875963132778, 0.9695869582011702, 0.5183079771989754, 0.8925168598326167, 0.9061061284390025, 0.9194731987192587, 0.8801175486424174, 0.943866333020586, 0.7742529127981908, 0.9022045953768374, 0.9198562051830579, 0.8661376748034423, 0.8650622324593278, 0.8642741331325752, 0.9761388337572915, 0.9830912509009703, 0.8717189988154319, 0.961738484664565, 0.9065573493814798, 0.8668691589227737, 0.7025526354101019, 0.820317478316936, 0.9500554934518396, 0.8519516206969228, 0.9842294531396474, 0.7659961109870744, 0.9885517866132741, 0.9560549029683977, 0.9658520088725185, 0.9015695734569423, 0.7294849868933188, 0.9894977567322806, 0.9465822133193351, 0.9653846245995263, 0.6800908221179496, 0.7025513899144652, 0.2702120730440251, 0.9436910198015585, 0.9275911266417642, 0.4386810569374514, 0.30793811916154024, 0.6671992581833373, 0.9606255085413109, 0.6995930047212028, 0.8653107423895615, 0.9238321454461712, 0.9060334801828488, 0.8470554597251758, 0.9181192868223332, 0.8133850906455251, 0.7157709197724063, 0.7690475290627558, 0.8351199864748917, 0.9204004139341831, 0.865576066319, 0.8152535928765656, 0.30905007595285866, 0.6181001519057173, 0.9026576381160059, 0.8413492948459779, 0.7846909221471592, 0.6991892931817255, 0.9752882689244654, 0.8140031288733758, 0.8504598729897852, 0.8691968135238555, 0.9076123605563625, 0.9695869582011702, 0.9355227599701245, 0.758554540143429, 0.9155619357073936, 0.9083693614683741, 0.9886617818338437, 0.8358208275200558, 0.9199049232597709, 0.8144080183672259, 0.9479096173330425, 0.8371234097361503, 0.8803747118281612, 0.9218599104226478, 0.8883090552798776, 0.9546666300760215, 0.9469876636729833, 0.9526720999511928, 0.893231475913083, 0.8186100840506126, 0.9368714196002526, 0.04461292474286917, 0.7920665057005134, 0.9566753343651103, 0.969178336432065, 0.8132734710308576, 0.4681693440770535, 0.888791442622119, 0.9688900050772158, 0.975197093143367, 0.8523919686833535, 0.9123191543597738, 0.8371388835884286, 0.9809301580865168, 0.8110168778254513, 0.7253370264794458, 0.7964151090365539, 0.513349702327165, 0.3850122767453738, 0.9883040114705366, 0.939367682585432, 0.9476444471184658, 0.8426495570814624, 0.8486266212774248, 0.8062719632223329, 0.8754643397809284, 0.8922731553888347, 0.9654605651458478, 0.6933295193135359, 0.7075031968828821, 0.2358343989609607, 0.8439505190795966, 0.7888263177640695, 0.9059682839919654, 0.7658978567433089, 0.8792507878171154, 0.9077726869873528, 0.8568375107924898, 0.9691098327175821, 0.984776457050878, 0.9485739676474935, 0.9518841158775739, 0.9779632519282946, 0.9544786584464681, 0.9206845892611022, 0.9685225900766691, 0.7493624825065571, 0.9180154771908546, 0.8977482875616045, 0.7745759949184682, 0.919947097142286, 0.8380433505342963, 0.8606995209034188, 0.9695869582011702, 0.8704275804796987, 0.7075427870119911, 0.8240517567228517, 0.7309359538057434, 0.7408830983191576, 0.45921265936824623, 0.9656290723255094, 0.9292774317348363, 0.9892796287416923, 0.42691344421890504, 0.7049819932505704, 0.625377761498338, 0.7109498465415005, 0.6412094789896482, 0.9490185751287052, 0.7362809972755326, 0.781031046744028, 0.8183896433727037, 0.7919512094901728, 0.9260456148976566, 0.9641427083005699, 0.9848422176198297, 0.8403542573211704, 0.8072037831827789, 0.8750288469674229, 0.8585925099902654, 0.7017020976280893, 0.7236168934141669, 0.8883873738517118, 0.937782037866785, 0.452434049267698, 0.8860171560869612, 0.8008608304511088, 0.9683681100354562, 0.8843465507553204, 0.898503207723962, 0.9286782896446916, 0.8802109512861479, 0.8912131746748377, 0.7120634903245061, 0.6411753257236669, 0.7622882485299556, 0.9786670819563993, 0.889289158512783, 0.9399077633231664, 0.8717845193618414, 0.9089781461011442, 0.9509144295357151, 0.6071762546476228, 0.762315556245683, 0.9410997318293144, 0.4475324640349285, 0.961196137871817, 0.8126690221251028, 0.5488356046286044, 0.9742252001386978, 0.8464662764573231, 0.9884131778518331, 0.8602089485198747, 0.6730314652910254, 0.8385317724017174, 0.7647375781381949, 0.9673851343697196, 0.7153359236765945, 0.9372815937854855, 0.8794853999634217, 0.9548886447782435, 0.8144626455326011, 0.9683681100354562, 0.7335162539034125, 0.9717910697643157, 0.9450551395940543, 0.8306130378053467, 0.8156397612511621, 0.7948053774758198, 0.9488930189617145, 0.7311338770527906, 0.8255408663010451, 0.44873539117657774, 0.9717910697643157, 0.9695869582011702, 0.9013700935840769, 0.9168997255813148, 0.7828474905674497, 0.9642129327397738, 0.9558779124445725, 0.8133413432763039, 0.022592815091008443, 0.1581497056370591, 0.9906181069644091, 0.8297028544522329, 0.9098199895325153, 0.9698643483162891, 0.7813390106338315, 0.9904707864203648, 0.7596499938967236, 0.824503512192902, 0.6163409928239537, 0.9445443952436738, 0.7187318198184712, 0.6725587214534589, 0.5326622839877052, 0.3043784479929744, 0.11414191799736541, 0.9035449301659415, 0.7642869562013231, 0.8974070742940434, 0.8164132301174047, 0.9804298255878001, 0.9327365789731773, 0.9288794756786927, 0.8933313746323809, 0.7484206067192255, 0.9783412796477485, 0.976531090912785, 0.9077797438218456, 0.8662641768864102, 0.9092912599580883, 0.9831606020191928, 0.8721743187462238, 0.9471296566735207, 0.8837401351647652, 0.9683681100354562, 0.6853532443257583, 0.7973322745237237, 0.9248131350815408, 0.7239203489077, 0.7394304650563915, 0.8387162432972826, 0.19065617447304548, 0.720256659120394, 0.08473607754357577, 0.9788425600249876, 0.963411271350321, 0.8713291496780867, 0.764439137381859, 0.10920559105455128, 0.10920559105455128, 0.916263873771471, 0.9373412774375111, 0.9532780677077656, 0.7318465321675429, 0.5254422332784439, 0.892112153404663, 0.873748570920452, 0.9791284262408854, 0.8734506432894047, 0.862779543296359, 0.9136878420157861, 0.9365249647722717, 0.919107520458688, 0.9186763429599707, 0.8565862292377687, 0.9206632974662743, 0.8937516370280417, 0.6523353057958236], \"Term\": [\"ability\", \"able\", \"absentee\", \"absolutely\", \"accuse\", \"action\", \"actually\", \"admit\", \"aid\", \"allow\", \"already\", \"also\", \"american\", \"analysis\", \"asap\", \"ass\", \"attack\", \"attorney\", \"audit\", \"back\", \"bad\", \"ballot\", \"ballot\", \"beat\", \"begin\", \"behalf\", \"believe\", \"biden\", \"big\", \"bless\", \"block\", \"box\", \"boy\", \"break\", \"breitba\", \"bring\", \"buckle\", \"business\", \"call\", \"cancel\", \"case\", \"cast\", \"catch\", \"ceifiable\", \"ceify\", \"change\", \"cheat\", \"check\", \"chinese\", \"choose\", \"citizen\", \"civil\", \"claim\", \"clear\", \"clearly\", \"close\", \"come\", \"commit\", \"communist\", \"completely\", \"concede\", \"confirm\", \"connect\", \"conservative\", \"constitutional\", \"contest\", \"continue\", \"control\", \"correct\", \"corrupt\", \"corruption\", \"cou\", \"count\", \"count\", \"country\", \"county\", \"coup\", \"couple\", \"courage\", \"covid\", \"crazy\", \"create\", \"crime\", \"criminal\", \"crucial\", \"currently\", \"d\", \"daily\", \"damn\", \"datum\", \"day\", \"dead\", \"declare\", \"delete\", \"dem\", \"democracy\", \"democrat\", \"deny\", \"depend\", \"design\", \"destroy\", \"die\", \"dispute\", \"do\", \"dominion\", \"donate\", \"earn\", \"election\", \"election\", \"elector\", \"electoral\", \"electoral_college\", \"end\", \"enemy\", \"enough\", \"error\", \"even\", \"event\", \"ever\", \"everywhere\", \"evidence\", \"evil\", \"exactly\", \"exaggeration\", \"examination\", \"example\", \"executive_order\", \"expose\", \"face\", \"fact\", \"fail\", \"fair\", \"fake\", \"family\", \"far\", \"federal\", \"fight\", \"fighting\", \"file\", \"find\", \"fire\", \"first\", \"fix\", \"flip\", \"folk\", \"foreign\", \"forensic\", \"forensic_audit\", \"fraud\", \"fraudulent\", \"free\", \"full\", \"geller\", \"get\", \"give\", \"go\", \"going\", \"good\", \"good\", \"government\", \"great\", \"guy\", \"happen\", \"happen\", \"hard\", \"head\", \"hear\", \"help\", \"hide\", \"high\", \"history\", \"hold\", \"home\", \"honest\", \"hope\", \"house\", \"huge\", \"hunter\", \"illegal\", \"illegal\", \"illegitimate\", \"immune\", \"impoant\", \"insist\", \"integrity\", \"interference\", \"involve\", \"issue\", \"job\", \"joke\", \"judge\", \"justice\", \"keep\", \"keep_fighte\", \"know\", \"landslide\", \"last\", \"late\", \"law\", \"lawsuit\", \"lead\", \"leader\", \"leak\", \"least\", \"leave\", \"legal\", \"legislator\", \"legislature\", \"let\", \"let\", \"liberal\", \"lie\", \"little\", \"live\", \"loeffler\", \"long\", \"look\", \"lose\", \"lot\", \"love\", \"loyal\", \"machine\", \"mail_ballot\", \"mainstream\", \"major\", \"majority\", \"majority\", \"make\", \"man\", \"many\", \"mask\", \"massive\", \"matter\", \"mean\", \"media\", \"medium\", \"meet\", \"member\", \"member\", \"military\", \"million\", \"money\", \"moron\", \"movement\", \"much\", \"name\", \"national\", \"need\", \"never\", \"new\", \"news\", \"next\", \"night\", \"noise\", \"note\", \"number\", \"office\", \"official\", \"one\", \"open\", \"order\", \"ostracize\", \"other\", \"otherwise\", \"outcome\", \"overwhelming\", \"oveurn\", \"patient\", \"patriot\", \"pay\", \"people\", \"perdue\", \"piece\", \"place\", \"planet\", \"plant\", \"politician\", \"positive\", \"possible\", \"power\", \"pray\", \"prayer\", \"preliminary\", \"president\", \"presidential\", \"prevent\", \"prison\", \"pro\", \"produce\", \"proof\", \"prosecute\", \"protect\", \"proud\", \"prove\", \"put\", \"quickly\", \"racist\", \"rally\", \"read\", \"ready\", \"real\", \"really\", \"recall\", \"recognize\", \"recount\", \"release\", \"remember\", \"republic\", \"republican\", \"result\", \"rethink\", \"reveal\", \"right\", \"roll\", \"rudy\", \"run\", \"russian\", \"s\", \"save\", \"say\", \"screw\", \"scumbag\", \"seat\", \"security\", \"see\", \"seem\", \"sell\", \"senator\", \"send\", \"session\", \"several\", \"share\", \"shout\", \"show\", \"shut\", \"sick\", \"side\", \"sign\", \"signature\", \"slate\", \"sleep\", \"social\", \"society\", \"software\", \"speak\", \"special\", \"spread\", \"stand\", \"state\", \"state\", \"state\", \"steal\", \"step\", \"still\", \"stop\", \"stuff\", \"suppo\", \"suppoer\", \"sure\", \"swamp\", \"system\", \"systemic\", \"table\", \"take\", \"take\", \"take\", \"talk\", \"team\", \"tell\", \"test\", \"thank\", \"thing\", \"think\", \"thread\", \"threat\", \"time\", \"today\", \"tomorrow\", \"trigger\", \"true\", \"trump\", \"truth\", \"try\", \"tweet\", \"unfold\", \"union\", \"united_state\", \"use\", \"vaccine\", \"ve\", \"video\", \"vote\", \"vote\", \"vote\", \"voter\", \"voting\", \"wait\", \"want\", \"want\", \"want\", \"watch\", \"way\", \"well\", \"white\", \"whole\", \"win\", \"winner\", \"woke\", \"woman\", \"wonder\", \"word\", \"work\", \"world\", \"write\", \"wrong\", \"year\", \"yet\", \"youtube\"]}, \"R\": 30, \"lambda.step\": 0.01, \"plot.opts\": {\"xlab\": \"PC1\", \"ylab\": \"PC2\"}, \"topic.order\": [13, 5, 1, 12, 9, 10, 8, 7, 2, 6, 4, 11, 3]};\n",
       "\n",
       "function LDAvis_load_lib(url, callback){\n",
       "  var s = document.createElement('script');\n",
       "  s.src = url;\n",
       "  s.async = true;\n",
       "  s.onreadystatechange = s.onload = callback;\n",
       "  s.onerror = function(){console.warn(\"failed to load library \" + url);};\n",
       "  document.getElementsByTagName(\"head\")[0].appendChild(s);\n",
       "}\n",
       "\n",
       "if(typeof(LDAvis) !== \"undefined\"){\n",
       "   // already loaded: just create the visualization\n",
       "   !function(LDAvis){\n",
       "       new LDAvis(\"#\" + \"ldavis_el1787221972266692166213143946\", ldavis_el1787221972266692166213143946_data);\n",
       "   }(LDAvis);\n",
       "}else if(typeof define === \"function\" && define.amd){\n",
       "   // require.js is available: use it to load d3/LDAvis\n",
       "   require.config({paths: {d3: \"https://d3js.org/d3.v5\"}});\n",
       "   require([\"d3\"], function(d3){\n",
       "      window.d3 = d3;\n",
       "      LDAvis_load_lib(\"https://cdn.jsdelivr.net/gh/bmabey/pyLDAvis@3.3.1/pyLDAvis/js/ldavis.v3.0.0.js\", function(){\n",
       "        new LDAvis(\"#\" + \"ldavis_el1787221972266692166213143946\", ldavis_el1787221972266692166213143946_data);\n",
       "      });\n",
       "    });\n",
       "}else{\n",
       "    // require.js not available: dynamically load d3 & LDAvis\n",
       "    LDAvis_load_lib(\"https://d3js.org/d3.v5.js\", function(){\n",
       "         LDAvis_load_lib(\"https://cdn.jsdelivr.net/gh/bmabey/pyLDAvis@3.3.1/pyLDAvis/js/ldavis.v3.0.0.js\", function(){\n",
       "                 new LDAvis(\"#\" + \"ldavis_el1787221972266692166213143946\", ldavis_el1787221972266692166213143946_data);\n",
       "            })\n",
       "         });\n",
       "}\n",
       "</script>"
      ],
      "text/plain": [
       "PreparedData(topic_coordinates=              x         y  topics  cluster       Freq\n",
       "topic                                                \n",
       "12    -0.363593 -0.016579       1        1  18.140048\n",
       "4      0.082584  0.038877       2        1  10.551944\n",
       "0     -0.065523  0.084227       3        1  10.430626\n",
       "11     0.023593  0.011969       4        1   8.527985\n",
       "8      0.034140  0.064257       5        1   8.440692\n",
       "9      0.040899 -0.348130       6        1   7.364172\n",
       "7      0.062118  0.091276       7        1   6.769803\n",
       "6      0.041149  0.007306       8        1   5.952035\n",
       "1      0.038345  0.019172       9        1   5.868202\n",
       "5      0.005707  0.011976      10        1   4.981942\n",
       "3      0.027235  0.004566      11        1   4.699042\n",
       "10     0.035995  0.012401      12        1   4.143067\n",
       "2      0.037350  0.018682      13        1   4.130442, topic_info=              Term        Freq       Total Category  logprob  loglift\n",
       "17        election  188.000000  188.000000  Default  30.0000  30.0000\n",
       "48            vote   94.000000   94.000000  Default  29.0000  29.0000\n",
       "328       american   51.000000   51.000000  Default  28.0000  28.0000\n",
       "90          people   71.000000   71.000000  Default  27.0000  27.0000\n",
       "314          thank   59.000000   59.000000  Default  26.0000  26.0000\n",
       "...            ...         ...         ...      ...      ...      ...\n",
       "1224          home    1.963759    2.794190  Topic13  -5.0292   2.8341\n",
       "150   overwhelming    1.905776    2.736218  Topic13  -5.0591   2.8251\n",
       "1528          asap    1.853731    2.684157  Topic13  -5.0868   2.8166\n",
       "392      recognize    1.793235    2.623679  Topic13  -5.1200   2.8062\n",
       "80            take    3.472527   26.283070  Topic13  -4.4592   1.1627\n",
       "\n",
       "[441 rows x 6 columns], token_table=      Topic      Freq        Term\n",
       "term                             \n",
       "1435      3  0.932907     ability\n",
       "1010      8  0.628480        able\n",
       "625       9  0.720794    absentee\n",
       "318      10  0.859560  absolutely\n",
       "1216      6  0.879162      accuse\n",
       "...     ...       ...         ...\n",
       "154      13  0.918676       write\n",
       "176       3  0.856586       wrong\n",
       "221       6  0.920663        year\n",
       "396       2  0.893752         yet\n",
       "327      11  0.652335     youtube\n",
       "\n",
       "[418 rows x 3 columns], R=30, lambda_step=0.01, plot_opts={'xlab': 'PC1', 'ylab': 'PC2'}, topic_order=[13, 5, 1, 12, 9, 10, 8, 7, 2, 6, 4, 11, 3])"
      ]
     },
     "execution_count": 631,
     "metadata": {},
     "output_type": "execute_result"
    }
   ],
   "source": [
    "# Visualize the topics\n",
    "pyLDAvis.enable_notebook()\n",
    "vis = pyLDAvis.gensim_models.prepare(lda_model, corpus, id2word)\n",
    "vis"
   ]
  },
  {
   "cell_type": "code",
   "execution_count": 632,
   "id": "d7d11320",
   "metadata": {},
   "outputs": [],
   "source": [
    "# Export LDA Model\n",
    "pyLDAvis.save_html(vis, r\"1st_analysis_LDAmodel\\LDAviz 36-51 (no_duplicate)\\week51_LDAviz_no_duplicate.html\")"
   ]
  },
  {
   "cell_type": "code",
   "execution_count": null,
   "id": "2786b6d1",
   "metadata": {},
   "outputs": [],
   "source": []
  }
 ],
 "metadata": {
  "interpreter": {
   "hash": "e8e5deac7477f8906d41e5c6e61616e3ac62f0bc4d33889d141d235aa45f3e1f"
  },
  "kernelspec": {
   "display_name": "Python 3.9.0 64-bit",
   "language": "python",
   "name": "python3"
  },
  "language_info": {
   "codemirror_mode": {
    "name": "ipython",
    "version": 3
   },
   "file_extension": ".py",
   "mimetype": "text/x-python",
   "name": "python",
   "nbconvert_exporter": "python",
   "pygments_lexer": "ipython3",
   "version": "3.9.0"
  }
 },
 "nbformat": 4,
 "nbformat_minor": 5
}
