{
 "cells": [
  {
   "cell_type": "code",
   "execution_count": 1,
   "id": "6b227340",
   "metadata": {},
   "outputs": [
    {
     "name": "stderr",
     "output_type": "stream",
     "text": [
      "Since the GPL-licensed package `unidecode` is not installed, using Python's `unicodedata` package which yields worse results.\n"
     ]
    }
   ],
   "source": [
    "# Import Core library\n",
    "import sys\n",
    "import re, numpy as np, pandas as pd, matplotlib.pyplot as plt, nltk\n",
    "import emoji\n",
    "from pprint import pprint\n",
    "from cleantext import clean"
   ]
  },
  {
   "cell_type": "code",
   "execution_count": 2,
   "id": "67d218ce",
   "metadata": {},
   "outputs": [],
   "source": [
    "# Gensim\n",
    "import gensim\n",
    "import gensim.corpora as corpora\n",
    "from gensim.utils import simple_preprocess\n",
    "from gensim.models import CoherenceModel\n",
    "\n",
    "# spacy for lemmatization\n",
    "import spacy\n",
    "\n",
    "# Plotting tools\n",
    "import pyLDAvis\n",
    "import pyLDAvis.gensim_models  # don't skip this\n",
    "import matplotlib.pyplot as plt"
   ]
  },
  {
   "cell_type": "code",
   "execution_count": 3,
   "id": "84599672",
   "metadata": {},
   "outputs": [
    {
     "name": "stderr",
     "output_type": "stream",
     "text": [
      "[nltk_data] Downloading package stopwords to C:\\Users\\Ivory-\n",
      "[nltk_data]     UALR\\AppData\\Roaming\\nltk_data...\n",
      "[nltk_data]   Package stopwords is already up-to-date!\n"
     ]
    }
   ],
   "source": [
    "# NLTK Stop words\n",
    "from nltk.corpus import stopwords\n",
    "nltk.download('stopwords')\n",
    "stop_words = stopwords.words('english')\n",
    "# stop_words.extend(['from', 'subject', 're', 'edu', 'use'])"
   ]
  },
  {
   "cell_type": "code",
   "execution_count": 4,
   "id": "2d753a7a",
   "metadata": {},
   "outputs": [],
   "source": [
    "# Import Dataset\n",
    "df = pd.read_excel('Community306_raw.xlsx')"
   ]
  },
  {
   "cell_type": "code",
   "execution_count": 5,
   "id": "11c18524",
   "metadata": {},
   "outputs": [
    {
     "data": {
      "text/plain": [
       "Index(['Unnamed: 0', 'id', 'source_id', 'created_at', 'geo_source',\n",
       "       'truncated', 'text', 'text_sentiment', 'text_toxicity', 'lang', 'user',\n",
       "       'Community', 'retweet_count', 'favorite_count', 'quote_count',\n",
       "       'reply_count', 'retweet_id_str', 'is_quote_status',\n",
       "       'quoted_status_id_str', 'in_reply_to_status_id_str',\n",
       "       'in_reply_to_user_id_str', 'in_reply_to_screen_name', 'entities',\n",
       "       'possibly_sensitive', 'coordinates', 'place'],\n",
       "      dtype='object')"
      ]
     },
     "execution_count": 5,
     "metadata": {},
     "output_type": "execute_result"
    }
   ],
   "source": [
    "df.columns"
   ]
  },
  {
   "cell_type": "code",
   "execution_count": 6,
   "id": "6f46b5d6",
   "metadata": {},
   "outputs": [],
   "source": [
    "df['create_year'] = pd.to_datetime(df.created_at, format='%d/%m/%Y', errors='coerce')\n",
    "df['year'] = pd.to_datetime(df.created_at).dt.strftime('%Y')\n",
    "df['month'] = pd.to_datetime(df.created_at).dt.strftime('%m')"
   ]
  },
  {
   "cell_type": "code",
   "execution_count": 7,
   "id": "93371d11",
   "metadata": {},
   "outputs": [],
   "source": [
    "start_date = \"01/09/2020\"\n",
    "end_date = \"15/12/2020\"\n",
    "after_start_date = df['create_year'] > start_date\n",
    "before_end_date = df['create_year'] < end_date\n",
    "between_two_dates = after_start_date & before_end_date\n",
    "\n",
    "stream_one = df.loc[between_two_dates]"
   ]
  },
  {
   "cell_type": "code",
   "execution_count": 8,
   "id": "2c742531",
   "metadata": {},
   "outputs": [],
   "source": [
    "# Convert to list\n",
    "data = stream_one['text'].values.tolist()\n",
    "\n",
    "# Make characters lowercase\n",
    "data = [word.lower() for word in data]"
   ]
  },
  {
   "cell_type": "code",
   "execution_count": 9,
   "id": "4427085e",
   "metadata": {},
   "outputs": [
    {
     "name": "stderr",
     "output_type": "stream",
     "text": [
      "<>:28: DeprecationWarning: invalid escape sequence \\s\n",
      "<>:33: DeprecationWarning: invalid escape sequence \\s\n",
      "<>:28: DeprecationWarning: invalid escape sequence \\s\n",
      "<>:33: DeprecationWarning: invalid escape sequence \\s\n",
      "C:\\Users\\IVORY-~1\\AppData\\Local\\Temp/ipykernel_15192/2930402903.py:28: DeprecationWarning: invalid escape sequence \\s\n",
      "  word=re.sub('\\s+', ' ', word)\n",
      "C:\\Users\\IVORY-~1\\AppData\\Local\\Temp/ipykernel_15192/2930402903.py:33: DeprecationWarning: invalid escape sequence \\s\n",
      "  word=re.sub('(RT\\s@[A-Za-z]+[A-Za-z0-9-_]+)', '', word)  # remove retweet\n"
     ]
    }
   ],
   "source": [
    "def get_url_patern():\n",
    "    return re.compile(\n",
    "        r'(https?:\\/\\/(?:www\\.|(?!www))[a-zA-Z0-9][a-zA-Z0-9-]+[a-zA-Z0-9]\\.[^\\s]{2,}|https?:\\/\\/(?:www\\.|(?!www))'\n",
    "        r'[a-zA-Z0-9]\\.[^\\s]{2,}|www\\.[a-zA-Z0-9]\\.[^\\s]{2,})')\n",
    "\n",
    "def get_hashtags_pattern():\n",
    "    return re.compile(r'#\\w*')\n",
    "\n",
    "def get_single_letter_words_pattern():\n",
    "    return re.compile(r'(?<![\\w\\-])\\w(?![\\w\\-])')\n",
    "\n",
    "def get_blank_spaces_pattern():\n",
    "    return re.compile(r'\\s{2,}|\\t')\n",
    "\n",
    "def get_twitter_reserved_words_pattern():\n",
    "    return re.compile(r'(RT|rt|FAV|fav|VIA|via)')\n",
    "\n",
    "def get_mentions_pattern():\n",
    "    return re.compile(r'@\\w*')\n",
    "\n",
    "def process_text(word):\n",
    "  word=re.sub(pattern=get_url_patern(), repl='', string=word)\n",
    "  word=re.sub(pattern=get_mentions_pattern(), repl='', string=word)\n",
    "  word=re.sub(pattern=get_hashtags_pattern(), repl='', string=word)\n",
    "  word=re.sub(pattern=get_twitter_reserved_words_pattern(), repl='', string=word)\n",
    "  word=re.sub(pattern=get_single_letter_words_pattern(), repl='', string=word)\n",
    "  word=re.sub(pattern=get_blank_spaces_pattern(), repl=' ', string=word)\n",
    "  word=re.sub('\\s+', ' ', word)\n",
    "  word=re.sub(\"\\'\", \"\", word)\n",
    "  word=re.sub(r'http\\S+', '', word)  # remove http links\n",
    "  word=re.sub(r'bit.ly/\\S+', '', word)  # rempve bitly links\n",
    "  word=word.strip('[link]')  # remove [links]\n",
    "  word=re.sub('(RT\\s@[A-Za-z]+[A-Za-z0-9-_]+)', '', word)  # remove retweet\n",
    "  word=re.sub('(@[A-Za-z]+[A-Za-z0-9-_]+)', '', word)  # remove tweeted at\n",
    "  word=clean(word, no_emoji=True)\n",
    "  word =re.sub(r'\\d+', '', word)\n",
    "  word = word.strip()\n",
    "  return word"
   ]
  },
  {
   "cell_type": "code",
   "execution_count": 10,
   "id": "e40e8144",
   "metadata": {},
   "outputs": [
    {
     "name": "stderr",
     "output_type": "stream",
     "text": [
      "C:\\Users\\Ivory-UALR\\AppData\\Local\\Programs\\Python\\Python39\\lib\\site-packages\\cleantext\\clean.py:58: DeprecationWarning: invalid escape sequence '\\ '\n",
      "  text = text.encode(\"latin\", \"backslashreplace\").decode(\"unicode-escape\")\n",
      "C:\\Users\\Ivory-UALR\\AppData\\Local\\Programs\\Python\\Python39\\lib\\site-packages\\cleantext\\clean.py:58: DeprecationWarning: invalid escape sequence '\\ '\n",
      "  text = text.encode(\"latin\", \"backslashreplace\").decode(\"unicode-escape\")\n",
      "C:\\Users\\Ivory-UALR\\AppData\\Local\\Programs\\Python\\Python39\\lib\\site-packages\\cleantext\\clean.py:58: DeprecationWarning: invalid escape sequence '\\('\n",
      "  text = text.encode(\"latin\", \"backslashreplace\").decode(\"unicode-escape\")\n",
      "C:\\Users\\Ivory-UALR\\AppData\\Local\\Programs\\Python\\Python39\\lib\\site-packages\\cleantext\\clean.py:58: DeprecationWarning: invalid escape sequence '\\+'\n",
      "  text = text.encode(\"latin\", \"backslashreplace\").decode(\"unicode-escape\")\n",
      "C:\\Users\\Ivory-UALR\\AppData\\Local\\Programs\\Python\\Python39\\lib\\site-packages\\cleantext\\clean.py:58: DeprecationWarning: invalid escape sequence '\\/'\n",
      "  text = text.encode(\"latin\", \"backslashreplace\").decode(\"unicode-escape\")\n",
      "C:\\Users\\Ivory-UALR\\AppData\\Local\\Programs\\Python\\Python39\\lib\\site-packages\\cleantext\\clean.py:58: DeprecationWarning: invalid escape sequence '\\-'\n",
      "  text = text.encode(\"latin\", \"backslashreplace\").decode(\"unicode-escape\")\n",
      "C:\\Users\\Ivory-UALR\\AppData\\Local\\Programs\\Python\\Python39\\lib\\site-packages\\cleantext\\clean.py:58: DeprecationWarning: invalid escape sequence '\\ '\n",
      "  text = text.encode(\"latin\", \"backslashreplace\").decode(\"unicode-escape\")\n",
      "C:\\Users\\Ivory-UALR\\AppData\\Local\\Programs\\Python\\Python39\\lib\\site-packages\\cleantext\\clean.py:58: DeprecationWarning: invalid escape sequence '\\ '\n",
      "  text = text.encode(\"latin\", \"backslashreplace\").decode(\"unicode-escape\")\n",
      "C:\\Users\\Ivory-UALR\\AppData\\Local\\Programs\\Python\\Python39\\lib\\site-packages\\cleantext\\clean.py:58: DeprecationWarning: invalid escape sequence '\\c'\n",
      "  text = text.encode(\"latin\", \"backslashreplace\").decode(\"unicode-escape\")\n",
      "C:\\Users\\Ivory-UALR\\AppData\\Local\\Programs\\Python\\Python39\\lib\\site-packages\\cleantext\\clean.py:58: DeprecationWarning: invalid escape sequence '\\c'\n",
      "  text = text.encode(\"latin\", \"backslashreplace\").decode(\"unicode-escape\")\n",
      "C:\\Users\\Ivory-UALR\\AppData\\Local\\Programs\\Python\\Python39\\lib\\site-packages\\cleantext\\clean.py:58: DeprecationWarning: invalid escape sequence '\\+'\n",
      "  text = text.encode(\"latin\", \"backslashreplace\").decode(\"unicode-escape\")\n",
      "C:\\Users\\Ivory-UALR\\AppData\\Local\\Programs\\Python\\Python39\\lib\\site-packages\\cleantext\\clean.py:58: DeprecationWarning: invalid escape sequence '\\ '\n",
      "  text = text.encode(\"latin\", \"backslashreplace\").decode(\"unicode-escape\")\n",
      "C:\\Users\\Ivory-UALR\\AppData\\Local\\Programs\\Python\\Python39\\lib\\site-packages\\cleantext\\clean.py:58: DeprecationWarning: invalid escape sequence '\\&'\n",
      "  text = text.encode(\"latin\", \"backslashreplace\").decode(\"unicode-escape\")\n"
     ]
    }
   ],
   "source": [
    "data = [process_text(word) for word in data]"
   ]
  },
  {
   "cell_type": "code",
   "execution_count": 11,
   "id": "c26ec59c",
   "metadata": {},
   "outputs": [],
   "source": [
    "def getUniqueItems(iterable):\n",
    "    result = []\n",
    "    for item in iterable:\n",
    "        if item not in result:\n",
    "            result.append(item)\n",
    "    return result"
   ]
  },
  {
   "cell_type": "code",
   "execution_count": 12,
   "id": "71fc6d0a",
   "metadata": {},
   "outputs": [],
   "source": [
    "unique_items = getUniqueItems(data)"
   ]
  },
  {
   "cell_type": "code",
   "execution_count": 13,
   "id": "583d8fab",
   "metadata": {},
   "outputs": [
    {
     "name": "stdout",
     "output_type": "stream",
     "text": [
      "[['what', 'bafoon', 'no', 'wonder', 'why', 'there', 'ratings', 'are', 'in', 'the', 'tank', 'might', 'as', 'well', 'name', 'the', 'network', 'el', 'jazeer', 'msnbc', 'is', 'just', 'the', 'media', 'wing', 'of', 'the', 'socialist', 'democrat', 'pay'], ['secure', 'the', 'voting', 'process', 'or', 'lose', 'the', 'america', 'we', 'know', 'and', 'love'], ['you', 'need', 'to', 'be', 'working', 'on', 'securing', 'the', 'voting', 'process'], [], ['like'], ['please', 'secure', 'the', 'voting', 'process', 'are', 'being', 'allowed', 'to', 'get', 'drivers', 'licenses', 'and', 'will', 'use', 'them', 'to', 'vote'], ['the', 'voting', 'process', 'has', 'not', 'been', 'secured', 'don', 'forget', 'what', 'happened', 'in', 'fl', 'ga', 'ca', 'etc', 'which', 'results', 'flipping', 'once', 'they', 'know', 'how', 'many', 'votes', 'are', 'needed', 'harvesting', 'those', 'votes'], ['anyone', 'surprised', 'that', 'nadler', 'schiff', 'alone', 'with', 'the', 'rest', 'of', 'the', 'democrats', 'would', 'lie', 'cheat', 'try', 'regain', 'power', 'they', 'have', 'trying', 'to', 'undermine', 'impeach', 'this', 'president', 'minutes', 'after', 'his', 'inauguration', 'washington', 'post', 'the', 'impeachment', 'has', 'begun'], ['ot', 'if', 'but', 'when', 'the', 'know', 'theyve', 'lost', 'if', 'they', 'can', 'manufacture', 'millions', 'of', 'votes', 'before', 'nov', 'rd'], ['ve', 'seen', 'voter', 'fraud', 've', 'stopped', 'identity', 'fraud', 'at', 'the', 'polls', 'when', 'man', 'claimed', 'he', 'was', 'born', 'in', 'we', 'need', 'to', 'volunteer', 'work', 'all', 'positions', 'for', 'every', 'election', 'to']]\n"
     ]
    }
   ],
   "source": [
    "def sent_to_words(sentences):\n",
    "    for sentence in sentences:\n",
    "        yield(gensim.utils.simple_preprocess(str(sentence), deacc=True))  # deacc=True removes punctuations\n",
    "\n",
    "data_words = list(sent_to_words(unique_items))\n",
    "\n",
    "print(data_words[:10])"
   ]
  },
  {
   "cell_type": "code",
   "execution_count": 14,
   "id": "d11c1965",
   "metadata": {},
   "outputs": [
    {
     "name": "stdout",
     "output_type": "stream",
     "text": [
      "['what', 'bafoon', 'no', 'wonder', 'why', 'there', 'ratings', 'are', 'in', 'the', 'tank', 'might', 'as', 'well', 'name', 'the', 'network', 'el', 'jazeer', 'msnbc', 'is', 'just', 'the', 'media', 'wing', 'of', 'the', 'socialist', 'democrat', 'pay']\n"
     ]
    }
   ],
   "source": [
    "# Build the bigram and trigram models\n",
    "bigram = gensim.models.Phrases(data_words, min_count=5, threshold=100) # higher threshold fewer phrases.\n",
    "trigram = gensim.models.Phrases(bigram[data_words], threshold=100)  \n",
    "\n",
    "# Faster way to get a sentence clubbed as a trigram/bigram\n",
    "bigram_mod = gensim.models.phrases.Phraser(bigram)\n",
    "trigram_mod = gensim.models.phrases.Phraser(trigram)\n",
    "\n",
    "# See trigram example\n",
    "print(trigram_mod[bigram_mod[data_words[0]]])"
   ]
  },
  {
   "cell_type": "code",
   "execution_count": 15,
   "id": "8ca30257",
   "metadata": {},
   "outputs": [],
   "source": [
    "# Define functions for stopwords, bigrams, trigrams and lemmatization\n",
    "def remove_stopwords(texts):\n",
    "    return [[word for word in simple_preprocess(str(doc)) if word not in stop_words] for doc in texts]\n",
    "\n",
    "def make_bigrams(texts):\n",
    "    return [bigram_mod[doc] for doc in texts]\n",
    "\n",
    "def make_trigrams(texts):\n",
    "    return [trigram_mod[bigram_mod[doc]] for doc in texts]\n",
    "\n",
    "def lemmatization(texts, allowed_postags=['NOUN', 'ADJ', 'VERB', 'ADV']):\n",
    "    \"\"\"https://spacy.io/api/annotation\"\"\"\n",
    "    texts_out = []\n",
    "    for sent in texts:\n",
    "        doc = nlp(\" \".join(sent)) \n",
    "        texts_out.append([token.lemma_ for token in doc if token.pos_ in allowed_postags])\n",
    "    return texts_out"
   ]
  },
  {
   "cell_type": "code",
   "execution_count": 16,
   "id": "72d61a99",
   "metadata": {},
   "outputs": [
    {
     "name": "stdout",
     "output_type": "stream",
     "text": [
      "[['bafoon', 'wonder', 'rating', 'tank', 'well', 'name', 'network', 'wing', 'socialist', 'pay']]\n"
     ]
    }
   ],
   "source": [
    "# Remove Stop Words\n",
    "data_words_nostops = remove_stopwords(data_words)\n",
    "\n",
    "# Form Bigrams\n",
    "data_words_bigrams = make_bigrams(data_words_nostops)\n",
    "\n",
    "# Initialize spacy 'en' model, keeping only tagger component (for efficiency)\n",
    "# python3 -m spacy download en\n",
    "nlp = spacy.load('en_core_web_sm', disable=['parser', 'ner'])\n",
    "nlp.max_length = 40000000\n",
    "\n",
    "# Do lemmatization keeping only noun, adj, vb, adv\n",
    "data_lemmatized = lemmatization(data_words_bigrams, allowed_postags=['NOUN', 'ADJ', 'VERB', 'ADV'])\n",
    "\n",
    "print(data_lemmatized[:1])"
   ]
  },
  {
   "cell_type": "code",
   "execution_count": 17,
   "id": "f6cd67da",
   "metadata": {},
   "outputs": [
    {
     "name": "stdout",
     "output_type": "stream",
     "text": [
      "[[(0, 1), (1, 1), (2, 1), (3, 1), (4, 1), (5, 1), (6, 1), (7, 1), (8, 1), (9, 1)], [(10, 1), (11, 1), (12, 1), (13, 1), (14, 1)], [(12, 1), (13, 1), (14, 1), (15, 1), (16, 1)], [], [], [(12, 1), (13, 1), (14, 1), (17, 1), (18, 1), (19, 1), (20, 1), (21, 1), (22, 1)], [(10, 1), (12, 1), (13, 1), (14, 1), (15, 1), (22, 2), (23, 1), (24, 1), (25, 1), (26, 1), (27, 1), (28, 1), (29, 1), (30, 1)], [(31, 1), (32, 1), (33, 1), (34, 1), (35, 1), (36, 1), (37, 1), (38, 1), (39, 1), (40, 1), (41, 1), (42, 1), (43, 1), (44, 1), (45, 2), (46, 1)], [(10, 1), (11, 1), (22, 1), (47, 1), (48, 1), (49, 1), (50, 1)], [(15, 1), (16, 1), (51, 1), (52, 1), (53, 1), (54, 2), (55, 1), (56, 1), (57, 1), (58, 1), (59, 1), (60, 1), (61, 1), (62, 1)]]\n"
     ]
    }
   ],
   "source": [
    "# Create Dictionary\n",
    "id2word = corpora.Dictionary(data_lemmatized)\n",
    "\n",
    "# Create Corpus\n",
    "texts = data_lemmatized\n",
    "\n",
    "# Term Document Frequency\n",
    "corpus = [id2word.doc2bow(text) for text in texts]\n",
    "\n",
    "# View\n",
    "print(corpus[:10])"
   ]
  },
  {
   "cell_type": "code",
   "execution_count": 18,
   "id": "cc2d34ff",
   "metadata": {},
   "outputs": [],
   "source": [
    "# Build LDA model\n",
    "lda_model = gensim.models.ldamodel.LdaModel(corpus=corpus,\n",
    "                                           id2word=id2word,\n",
    "                                           num_topics=10, \n",
    "                                           random_state=100,\n",
    "                                           update_every=1,\n",
    "                                           chunksize=100,\n",
    "                                           passes=10,\n",
    "                                           alpha='auto',\n",
    "                                           per_word_topics=True)"
   ]
  },
  {
   "cell_type": "code",
   "execution_count": 19,
   "id": "b2067926",
   "metadata": {},
   "outputs": [
    {
     "name": "stderr",
     "output_type": "stream",
     "text": [
      "C:\\Users\\Ivory-UALR\\AppData\\Local\\Programs\\Python\\Python39\\lib\\site-packages\\pyLDAvis\\_prepare.py:246: FutureWarning: In a future version of pandas all arguments of DataFrame.drop except for the argument 'labels' will be keyword-only\n",
      "  default_term_info = default_term_info.sort_values(\n"
     ]
    },
    {
     "data": {
      "text/html": [
       "\n",
       "<link rel=\"stylesheet\" type=\"text/css\" href=\"https://cdn.jsdelivr.net/gh/bmabey/pyLDAvis@3.3.1/pyLDAvis/js/ldavis.v1.0.0.css\">\n",
       "\n",
       "\n",
       "<div id=\"ldavis_el1519219941737057929729360833\"></div>\n",
       "<script type=\"text/javascript\">\n",
       "\n",
       "var ldavis_el1519219941737057929729360833_data = {\"mdsDat\": {\"x\": [0.44029402907960796, 0.024218142906596723, -0.07233345663588203, -0.07165465976100294, -0.07722639269695677, -0.034836460275722514, -0.059354953929055355, -0.045795040155126594, -0.04304497301889412, -0.0602662355135648], \"y\": [0.0020961493856708154, 0.05543797324484775, 0.4161642660393891, -0.16360446335035136, -0.04580258855348959, -0.07337807601034607, -0.06501364481193096, -0.032631341752854086, -0.055368384295375356, -0.037899889895560215], \"topics\": [1, 2, 3, 4, 5, 6, 7, 8, 9, 10], \"cluster\": [1, 1, 1, 1, 1, 1, 1, 1, 1, 1], \"Freq\": [14.403474260693436, 13.164958849169242, 11.197256700243344, 10.895415269669199, 9.025160955521553, 8.858531906422455, 8.789216623982192, 8.2612332715134, 8.083367578650698, 7.321384584134483]}, \"tinfo\": {\"Term\": [\"election\", \"vote\", \"people\", \"get\", \"go\", \"fraud\", \"state\", \"steal\", \"know\", \"fight\", \"trump\", \"take\", \"need\", \"country\", \"never\", \"stop\", \"time\", \"say\", \"see\", \"stand\", \"let\", \"right\", \"voter\", \"thank\", \"make\", \"think\", \"dominion\", \"want\", \"ballot\", \"president\", \"fraud\", \"say\", \"voter\", \"thank\", \"day\", \"patriot\", \"even\", \"today\", \"machine\", \"work\", \"believe\", \"dem\", \"big\", \"true\", \"suppoer\", \"corruption\", \"allow\", \"long\", \"sign\", \"speak\", \"justice\", \"bad\", \"actually\", \"next\", \"run\", \"claim\", \"cast\", \"cou\", \"covid\", \"presidential\", \"vote\", \"make\", \"dominion\", \"ballot\", \"president\", \"give\", \"suppo\", \"count\", \"medium\", \"integrity\", \"leave\", \"wait\", \"mean\", \"end\", \"put\", \"voting\", \"power\", \"destroy\", \"official\", \"mail\", \"sure\", \"family\", \"full\", \"crime\", \"ignore\", \"oveurn\", \"problem\", \"tomorrow\", \"arrest\", \"box\", \"election\", \"steal\", \"need\", \"stand\", \"good\", \"try\", \"great\", \"live\", \"much\", \"follow\", \"find\", \"night\", \"remember\", \"week\", \"ready\", \"rule\", \"tweet\", \"forensic\", \"enemy\", \"process\", \"impoant\", \"coup\", \"interference\", \"executive_order\", \"fly\", \"absolutely\", \"fuck\", \"place\", \"foreign_interference\", \"potus\", \"get\", \"know\", \"want\", \"biden\", \"pay\", \"thing\", \"well\", \"still\", \"show\", \"year\", \"fair\", \"fake\", \"love\", \"demand\", \"ask\", \"nation\", \"protect\", \"already\", \"agree\", \"story\", \"electoral\", \"attack\", \"landslide\", \"whole\", \"hate\", \"become\", \"washington_dc\", \"wonder\", \"politician\", \"away\", \"state\", \"trump\", \"stop\", \"lose\", \"elector\", \"look\", \"law\", \"case\", \"fact\", \"new\", \"ever\", \"system\", \"last\", \"pray\", \"judge\", \"block\", \"thousand\", \"hard\", \"fail\", \"yet\", \"other\", \"legislature\", \"event\", \"constitution\", \"federal\", \"write\", \"file\", \"check\", \"street\", \"far\", \"think\", \"keep\", \"evidence\", \"happen\", \"result\", \"many\", \"hear\", \"legal\", \"do\", \"re\", \"also\", \"history\", \"really\", \"read\", \"fraudulent\", \"ga\", \"order\", \"criminal\", \"liberal\", \"msm\", \"act\", \"always\", \"seem\", \"catch\", \"throw\", \"police\", \"force\", \"defend\", \"suppoe\", \"prayer\", \"go\", \"take\", \"see\", \"back\", \"come\", \"win\", \"use\", \"video\", \"massive\", \"audit\", \"send\", \"save\", \"hold\", \"job\", \"continue\", \"bring\", \"exactly\", \"word\", \"office\", \"freedom\", \"lead\", \"communist\", \"business\", \"issue\", \"due\", \"national\", \"level\", \"email\", \"choose\", \"hand\", \"people\", \"never\", \"rally\", \"american\", \"call\", \"tell\", \"truth\", \"real\", \"lie\", \"scotus\", \"first\", \"hide\", \"man\", \"fix\", \"hearing\", \"swamp\", \"concede\", \"cous\", \"include\", \"sell\", \"one\", \"name\", \"evil\", \"attempt\", \"mainstream_media\", \"team\", \"turn\", \"face\", \"twitter\", \"explain\", \"country\", \"time\", \"right\", \"way\", \"corrupt\", \"news\", \"hope\", \"republican\", \"world\", \"break\", \"expose\", \"free\", \"government\", \"elect\", \"million\", \"late\", \"talk\", \"step\", \"action\", \"conservative\", \"change\", \"ve\", \"declare\", \"chinese\", \"candidate\", \"side\", \"listen\", \"cover\", \"courage\", \"treason\", \"fight\", \"let\", \"watch\", \"cheat\", \"join\", \"help\", \"military\", \"dead\", \"create\", \"citizen\", \"plan\", \"rig\", \"illegal\", \"lawsuit\", \"enough\", \"county\", \"member\", \"wrong\", \"money\", \"care\", \"move\", \"commit\", \"question\", \"war\", \"proof\", \"least\", \"confirm\", \"supreme_cou\", \"feel\", \"deep\"], \"Freq\": [14145.0, 9440.0, 5727.0, 5650.0, 4897.0, 5908.0, 4605.0, 4975.0, 4620.0, 3906.0, 3863.0, 3351.0, 3580.0, 2990.0, 2925.0, 2920.0, 2790.0, 3463.0, 2753.0, 3053.0, 2383.0, 2473.0, 3064.0, 3059.0, 2713.0, 2252.0, 2687.0, 2445.0, 2592.0, 2516.0, 5907.15208603988, 3462.189524111913, 3063.808451426427, 3058.352552411232, 1976.2910007036664, 1941.2809989460407, 1532.1317907991518, 1505.0481179385808, 1486.5588645318833, 1359.1987185177377, 1233.6231775488518, 1182.0093445749337, 1164.312992307552, 1080.2123432145293, 994.5777534341698, 939.0637201563275, 931.7727702664095, 898.681498359115, 898.1401557430895, 840.7176755166377, 786.3241804713889, 782.8327627678108, 752.8192080542289, 737.0684851119734, 735.151394564815, 707.5067074501413, 668.5561189195083, 641.9631938179388, 610.7393862799263, 609.3858807123012, 9439.467852069778, 2712.7591143981954, 2686.65387603654, 2592.032909436607, 2515.365372719375, 2212.3092315076924, 1398.028343486269, 1293.0269860706478, 1135.552601204129, 1014.5837326258369, 997.1508410598545, 906.9018378466934, 873.9993620621104, 862.827096457925, 839.6150240905383, 839.4532029417064, 768.3837517250599, 714.6821503247602, 687.1765733094292, 684.4937884299511, 674.5300053446522, 640.9474176104749, 600.489678566895, 587.2960788397365, 519.0178721740813, 511.6240554779237, 493.6589453229062, 482.2239246715012, 458.3805727466552, 443.06606712901856, 14144.961238710903, 4974.161089339166, 3579.694821515256, 3052.3986265323997, 1938.087910927364, 1552.6051005690297, 1475.1180178924199, 1174.4367314095393, 1073.8071205612923, 865.9094077281172, 862.7653044181492, 675.8342661072014, 570.5239226492181, 496.74654242620136, 488.7947884684304, 467.4933828266376, 460.71714130450573, 456.77315313436316, 455.99012502867396, 439.7547533796389, 426.5460670290881, 410.481377260091, 405.3393140911752, 395.25080720316134, 393.2789434538206, 377.6422182969805, 370.0770980430322, 366.03228794443004, 363.54171695096915, 362.7555028607552, 5649.943400474149, 4620.044371850152, 2444.72573667289, 2295.893842910593, 1992.7470480170277, 1376.1542469910182, 1366.6178860104935, 1331.995171174151, 1313.8244094491135, 1248.7398787029615, 955.1542455963103, 925.5697018470613, 924.489964921612, 773.4770656992325, 767.8681942378345, 717.8396693960719, 601.7299032186439, 593.5815982793658, 587.4938457927736, 568.8409902108053, 557.3145336139286, 470.5851836395231, 443.89255482896533, 442.4456814207474, 440.1241568462807, 435.2365097443307, 429.4695895076685, 426.49805834392004, 424.8998154685224, 395.6930330929612, 4604.23907067717, 3862.5945972340087, 2919.970023120876, 1665.6062894766308, 1203.0460513799085, 1162.8060492234006, 1117.298943075642, 1045.5398921524131, 937.7016691345888, 926.1183358379888, 839.622039069547, 741.4322204979956, 678.7931827802897, 594.775847268044, 586.8976491928756, 586.7613142610926, 509.2459877437731, 480.35591534825465, 478.1121785394296, 449.30946321835154, 440.63006396873175, 437.10440528078436, 433.0965318067219, 417.2903173782301, 413.8880137895194, 408.8841482727181, 389.43949535226454, 377.1695615969875, 367.7083375416457, 361.14371719619857, 2251.1940492887184, 1961.5103703415718, 1907.4336736619725, 1888.9708476896749, 1719.9857075398827, 1604.2156972984094, 1480.7341145177413, 1389.4853944593763, 1042.5098166230841, 1021.6551346440494, 978.533076149199, 959.9796940098773, 942.0777113432673, 916.2318080773354, 877.7211482417028, 765.2062564149775, 637.9068787930839, 610.9627070338684, 609.9739675077849, 535.2969343587577, 511.53881818852835, 475.984432250861, 461.14325719526335, 454.2546184067004, 438.2083039157647, 421.51416453765785, 414.6604925281634, 409.8211911267338, 408.69336356071227, 394.3315495916886, 4896.38862341245, 3350.55387584402, 2752.380794528562, 1986.4949952179093, 1915.742380202535, 1603.6520373688793, 1487.8587694586206, 1220.6583028912419, 998.0604367338257, 957.9618561439222, 868.0896187915283, 790.3875470924787, 761.2043123068021, 758.7081315597338, 687.7248501279169, 590.7593817554013, 502.02392561284114, 494.57157703761095, 491.3802596505708, 485.39684646852044, 480.28294518902, 391.38689102105553, 383.16037993718055, 380.94106254704514, 345.78587287558145, 339.2466868553327, 328.74445355388343, 319.08792890858, 309.1465155520165, 305.76295341655924, 5726.110442167856, 2924.7311167484545, 1990.6530882565812, 1729.1607890097957, 1702.5486894194735, 1509.7250778571422, 1301.3891953185428, 1137.3240713237053, 1084.9507003030212, 1039.026579382515, 1003.4402684859439, 828.5927737619319, 756.7755774103948, 611.3202038835517, 542.7936627964466, 495.8374618460587, 481.6334438738367, 481.3168407490132, 481.16618928910464, 474.225152990581, 466.08450369115695, 450.1968220981976, 448.06299909385245, 418.0510913799191, 415.91940527571455, 410.1886664787943, 381.48146451467363, 367.48788846829274, 350.1582907674961, 316.43680988557793, 2989.4083182085656, 2789.774936321545, 2472.585063845738, 1702.7778878928912, 1479.0013904062628, 1239.4241868247007, 1079.4495125535875, 1038.561527516808, 946.7301216673621, 897.5636247956295, 848.4637019358041, 790.7028012153319, 715.5125565433035, 615.1427409418167, 597.6648046524235, 573.1503047564917, 572.9691916625403, 572.6274144016618, 537.6653109637209, 532.0177271345074, 524.3814537887959, 520.7962425219224, 490.6332388041501, 479.3466856221382, 441.53549047235185, 434.3592552579171, 420.44143952739216, 415.7828477720531, 413.14518709299875, 399.3702211267172, 3905.1598362783743, 2382.5600682903746, 1918.6219327437775, 1393.6266910214276, 1241.3421555118548, 1207.89890311984, 833.139718632184, 691.2309732930286, 627.9552125815984, 618.1189262301918, 606.0032703317436, 603.6673521184716, 573.8809008507213, 542.2133826307563, 537.8821638568636, 499.5503114637333, 498.3588882588189, 485.6358171156729, 485.12044022257555, 469.2258714115666, 426.12196305348306, 414.11467000438813, 394.5596261102235, 392.6823467444944, 365.8506295700355, 363.9956969645715, 345.668474981448, 344.5402287191137, 336.6373158892881, 327.4192015281984], \"Total\": [14145.0, 9440.0, 5727.0, 5650.0, 4897.0, 5908.0, 4605.0, 4975.0, 4620.0, 3906.0, 3863.0, 3351.0, 3580.0, 2990.0, 2925.0, 2920.0, 2790.0, 3463.0, 2753.0, 3053.0, 2383.0, 2473.0, 3064.0, 3059.0, 2713.0, 2252.0, 2687.0, 2445.0, 2592.0, 2516.0, 5908.06192915151, 3463.0993546937702, 3064.7182854741604, 3059.2623486623247, 1977.2008729305235, 1942.1908725549608, 1533.0416264883809, 1505.9580414981567, 1487.4688378112767, 1360.108544437664, 1234.533005559631, 1182.9192185521538, 1165.2228397638628, 1081.1221648102764, 995.4876103272169, 939.9735589795823, 932.6826034498931, 899.5913609113511, 899.0500900762278, 841.6275025155722, 787.2339817081754, 783.7426298551029, 753.729113455459, 737.9783473192492, 736.0612170509525, 708.4165696248343, 669.4662161636479, 642.8730598292738, 611.6493346592845, 610.2957182196116, 9440.372123489136, 2713.6633941331283, 2687.558236406148, 2592.937134466707, 2516.2696600477498, 2213.213531788019, 1398.9326018635893, 1293.9312084060484, 1136.4568826780153, 1015.4880060474513, 998.0550807057807, 907.8061481333428, 874.9036569864519, 863.7313752168714, 840.5193171744899, 840.357480897524, 769.287980360088, 715.5864302091891, 688.0808155223214, 685.3980433314094, 675.4342562451219, 641.8517212611578, 601.393949463256, 588.2004066124966, 519.9222502562658, 512.5283205849894, 494.56327800559404, 483.12827697220035, 459.2849039260954, 443.97054687910327, 14145.871172319676, 4975.071006782021, 3580.604737558295, 3053.3085830482296, 1938.9978687570738, 1553.515003208154, 1476.0279419366966, 1175.3466509488933, 1074.7170699344051, 866.8193101608855, 863.6752289554107, 676.7442537767271, 571.4338579577106, 497.65648076192554, 489.7047761578141, 468.40327260943974, 461.6271013654927, 457.6834868449786, 456.900139778483, 440.66472306694453, 427.4559698803237, 411.39140893603496, 406.24933056935186, 396.1611084691392, 394.18929508448355, 378.55215526201914, 370.9872053380658, 366.9422778484049, 364.4521534744776, 363.66551808033046, 5650.852622575755, 4620.953598934072, 2445.634950749536, 2296.80307532875, 1993.6562877015942, 1377.0634675989086, 1367.5270832411627, 1332.9044140333094, 1314.7336334737688, 1249.6491195198507, 956.0635093733755, 926.4789681402616, 925.3992128932217, 774.3862644354606, 768.777408414324, 718.7489243353322, 602.6391555976987, 594.4908745830882, 588.4030733697714, 569.7502461653892, 558.2241159783175, 471.49449386550174, 444.8018635851192, 443.35489129528514, 441.033399392072, 436.1457354235373, 430.37910940362093, 427.4073322243732, 425.8089882179905, 396.60220560041654, 4605.155627676408, 3863.511211262074, 2920.8866176188944, 1666.522890363682, 1203.962898107179, 1163.7226509964212, 1118.2155479180708, 1046.456426039594, 938.6183014175834, 927.0349914685333, 840.5386181353878, 742.3488992756036, 679.7097919763697, 595.6924235236756, 587.814331187012, 587.6780269627185, 510.16261639403774, 481.27252303351486, 479.0289726720648, 450.22604400082076, 441.54671278619503, 438.02095223174314, 434.01326397125786, 418.2068752247268, 414.80471083865, 409.8009745889649, 390.3560553161064, 378.0861261074241, 368.62508392880727, 362.0603665676568, 2252.0989067280047, 1962.415213329408, 1908.3385190043084, 1889.8757207535357, 1720.8906527763857, 1605.1205723404478, 1481.6389710914036, 1390.3902708123646, 1043.4146813870773, 1022.5599621145417, 979.4379662850441, 960.8845719547958, 942.9825459965725, 917.1366773502111, 878.6260151476041, 766.1110541907697, 638.8117993964207, 611.8675760072252, 610.8789189604153, 536.2017993968519, 512.4437004690503, 476.8892550777541, 462.048145441931, 455.15946146691164, 439.11313893972545, 422.41923717935686, 415.56534455782827, 410.7260111963302, 409.5981982907827, 395.23648576061254, 4897.295208745781, 3351.4604823606933, 2753.287386137727, 1987.4016186458266, 1916.648970895066, 1604.5586113745637, 1488.7653953698027, 1221.5648433670458, 998.9671147324486, 958.8684893292201, 868.9962977187738, 791.2941481636805, 762.110899303501, 759.6147167875856, 688.6314848919721, 591.6659678193473, 502.9305087654365, 495.47817149528026, 492.2868370685025, 486.30340512447026, 481.18955323207143, 392.2935172680053, 384.0670362073067, 381.8476876447101, 346.6925169980688, 340.1533989818002, 329.6510847645885, 319.9945567350921, 310.05313715355373, 306.6695039784229, 5727.017560388306, 2925.638257747877, 1991.5602734018057, 1730.067924476439, 1703.4557542079183, 1510.6322114772665, 1302.2963008949457, 1138.2312085757355, 1085.85777762646, 1039.9337027818663, 1004.3474481997482, 829.499945391452, 757.6826833107077, 612.2273673531233, 543.7007733753723, 496.74469461735913, 482.54061146844793, 482.224047319014, 482.07337542252907, 475.13228909177786, 466.99170820852925, 451.104002176512, 448.97011240849974, 418.9582250511855, 416.82687184127394, 411.09574146147327, 382.3885840888068, 368.3950368160077, 351.06534819221633, 317.34392570414445, 2990.318323749805, 2790.6849041238183, 2473.4950302035113, 1703.6878538382673, 1479.9113578181334, 1240.3342174972352, 1080.3595099914655, 1039.4714796439443, 947.64008190413, 898.4736276198084, 849.3737348320122, 791.6128221315533, 716.4225671143627, 616.0526896809005, 598.5748285767318, 574.0602590947238, 573.8791473939611, 573.537367761985, 538.575253318518, 532.9277099996516, 525.2914360711942, 521.7062200896905, 491.5433847825144, 480.2566759601597, 442.44553812738786, 435.26919586969285, 421.35140008860276, 416.6928279660485, 414.0551806054015, 400.2802242682889, 3906.0735856765223, 2383.473846964332, 1919.5356837032543, 1394.5404229252117, 1242.2558366307408, 1208.8126474537353, 834.0536333481712, 692.1447571865461, 628.8691654602004, 619.032712988161, 606.9170155797509, 604.5811205959608, 574.7946492960351, 543.1270716347595, 538.7959065101603, 500.4640838144979, 499.27284916313937, 486.54957138020546, 486.03421796130147, 470.13959562012093, 427.03571065912206, 415.02850366868483, 395.47335566085275, 393.59614348516, 366.76440410996156, 364.9094349442934, 346.58227021509686, 345.45394416136924, 337.5510322115238, 328.3329394742042], \"Category\": [\"Default\", \"Default\", \"Default\", \"Default\", \"Default\", \"Default\", \"Default\", \"Default\", \"Default\", \"Default\", \"Default\", \"Default\", \"Default\", \"Default\", \"Default\", \"Default\", \"Default\", \"Default\", \"Default\", \"Default\", \"Default\", \"Default\", \"Default\", \"Default\", \"Default\", \"Default\", \"Default\", \"Default\", \"Default\", \"Default\", \"Topic1\", \"Topic1\", \"Topic1\", \"Topic1\", \"Topic1\", \"Topic1\", \"Topic1\", \"Topic1\", \"Topic1\", \"Topic1\", \"Topic1\", \"Topic1\", \"Topic1\", \"Topic1\", \"Topic1\", \"Topic1\", \"Topic1\", \"Topic1\", \"Topic1\", \"Topic1\", \"Topic1\", \"Topic1\", \"Topic1\", \"Topic1\", \"Topic1\", \"Topic1\", \"Topic1\", \"Topic1\", \"Topic1\", \"Topic1\", \"Topic2\", \"Topic2\", \"Topic2\", \"Topic2\", \"Topic2\", \"Topic2\", \"Topic2\", \"Topic2\", \"Topic2\", \"Topic2\", \"Topic2\", \"Topic2\", \"Topic2\", \"Topic2\", \"Topic2\", \"Topic2\", \"Topic2\", \"Topic2\", \"Topic2\", \"Topic2\", \"Topic2\", \"Topic2\", \"Topic2\", \"Topic2\", \"Topic2\", \"Topic2\", \"Topic2\", \"Topic2\", \"Topic2\", \"Topic2\", \"Topic3\", \"Topic3\", \"Topic3\", \"Topic3\", \"Topic3\", \"Topic3\", \"Topic3\", \"Topic3\", \"Topic3\", \"Topic3\", \"Topic3\", \"Topic3\", \"Topic3\", \"Topic3\", \"Topic3\", \"Topic3\", \"Topic3\", \"Topic3\", \"Topic3\", \"Topic3\", \"Topic3\", \"Topic3\", \"Topic3\", \"Topic3\", \"Topic3\", \"Topic3\", \"Topic3\", \"Topic3\", \"Topic3\", \"Topic3\", \"Topic4\", \"Topic4\", \"Topic4\", \"Topic4\", \"Topic4\", \"Topic4\", \"Topic4\", \"Topic4\", \"Topic4\", \"Topic4\", \"Topic4\", \"Topic4\", \"Topic4\", \"Topic4\", \"Topic4\", \"Topic4\", \"Topic4\", \"Topic4\", \"Topic4\", \"Topic4\", \"Topic4\", \"Topic4\", \"Topic4\", \"Topic4\", \"Topic4\", \"Topic4\", \"Topic4\", \"Topic4\", \"Topic4\", \"Topic4\", \"Topic5\", \"Topic5\", \"Topic5\", \"Topic5\", \"Topic5\", \"Topic5\", \"Topic5\", \"Topic5\", \"Topic5\", \"Topic5\", \"Topic5\", \"Topic5\", \"Topic5\", \"Topic5\", \"Topic5\", \"Topic5\", \"Topic5\", \"Topic5\", \"Topic5\", \"Topic5\", \"Topic5\", \"Topic5\", \"Topic5\", \"Topic5\", \"Topic5\", \"Topic5\", \"Topic5\", \"Topic5\", \"Topic5\", \"Topic5\", \"Topic6\", \"Topic6\", \"Topic6\", \"Topic6\", \"Topic6\", \"Topic6\", \"Topic6\", \"Topic6\", \"Topic6\", \"Topic6\", \"Topic6\", \"Topic6\", \"Topic6\", \"Topic6\", \"Topic6\", \"Topic6\", \"Topic6\", \"Topic6\", \"Topic6\", \"Topic6\", \"Topic6\", \"Topic6\", \"Topic6\", \"Topic6\", \"Topic6\", \"Topic6\", \"Topic6\", \"Topic6\", \"Topic6\", \"Topic6\", \"Topic7\", \"Topic7\", \"Topic7\", \"Topic7\", \"Topic7\", \"Topic7\", \"Topic7\", \"Topic7\", \"Topic7\", \"Topic7\", \"Topic7\", \"Topic7\", \"Topic7\", \"Topic7\", \"Topic7\", \"Topic7\", \"Topic7\", \"Topic7\", \"Topic7\", \"Topic7\", \"Topic7\", \"Topic7\", \"Topic7\", \"Topic7\", \"Topic7\", \"Topic7\", \"Topic7\", \"Topic7\", \"Topic7\", \"Topic7\", \"Topic8\", \"Topic8\", \"Topic8\", \"Topic8\", \"Topic8\", \"Topic8\", \"Topic8\", \"Topic8\", \"Topic8\", \"Topic8\", \"Topic8\", \"Topic8\", \"Topic8\", \"Topic8\", \"Topic8\", \"Topic8\", \"Topic8\", \"Topic8\", \"Topic8\", \"Topic8\", \"Topic8\", \"Topic8\", \"Topic8\", \"Topic8\", \"Topic8\", \"Topic8\", \"Topic8\", \"Topic8\", \"Topic8\", \"Topic8\", \"Topic9\", \"Topic9\", \"Topic9\", \"Topic9\", \"Topic9\", \"Topic9\", \"Topic9\", \"Topic9\", \"Topic9\", \"Topic9\", \"Topic9\", \"Topic9\", \"Topic9\", \"Topic9\", \"Topic9\", \"Topic9\", \"Topic9\", \"Topic9\", \"Topic9\", \"Topic9\", \"Topic9\", \"Topic9\", \"Topic9\", \"Topic9\", \"Topic9\", \"Topic9\", \"Topic9\", \"Topic9\", \"Topic9\", \"Topic9\", \"Topic10\", \"Topic10\", \"Topic10\", \"Topic10\", \"Topic10\", \"Topic10\", \"Topic10\", \"Topic10\", \"Topic10\", \"Topic10\", \"Topic10\", \"Topic10\", \"Topic10\", \"Topic10\", \"Topic10\", \"Topic10\", \"Topic10\", \"Topic10\", \"Topic10\", \"Topic10\", \"Topic10\", \"Topic10\", \"Topic10\", \"Topic10\", \"Topic10\", \"Topic10\", \"Topic10\", \"Topic10\", \"Topic10\", \"Topic10\"], \"logprob\": [30.0, 29.0, 28.0, 27.0, 26.0, 25.0, 24.0, 23.0, 22.0, 21.0, 20.0, 19.0, 18.0, 17.0, 16.0, 15.0, 14.0, 13.0, 12.0, 11.0, 10.0, 9.0, 8.0, 7.0, 6.0, 5.0, 4.0, 3.0, 2.0, 1.0, -2.606, -3.1402, -3.2625, -3.2643, -3.7009, -3.7188, -3.9555, -3.9733, -3.9857, -4.0752, -4.1722, -4.2149, -4.23, -4.305, -4.3876, -4.445, -4.4528, -4.489, -4.4896, -4.5556, -4.6225, -4.627, -4.6661, -4.6872, -4.6898, -4.7281, -4.7848, -4.8254, -4.8752, -4.8774, -2.0473, -3.2943, -3.3039, -3.3398, -3.3698, -3.4982, -3.9572, -4.0352, -4.1651, -4.2777, -4.2951, -4.3899, -4.4269, -4.4398, -4.467, -4.4672, -4.5557, -4.6281, -4.6674, -4.6713, -4.686, -4.737, -4.8022, -4.8244, -4.948, -4.9624, -4.9981, -5.0216, -5.0723, -5.1063, -1.481, -2.5261, -2.8551, -3.0144, -3.4686, -3.6904, -3.7416, -3.9695, -4.0591, -4.2743, -4.2779, -4.5221, -4.6915, -4.83, -4.8461, -4.8907, -4.9053, -4.9139, -4.9156, -4.9519, -4.9824, -5.0208, -5.0334, -5.0586, -5.0636, -5.1041, -5.1244, -5.1354, -5.1422, -5.1444, -2.3714, -2.5726, -3.2091, -3.2719, -3.4135, -3.7837, -3.7907, -3.8163, -3.8301, -3.8809, -4.1489, -4.1804, -4.1815, -4.3599, -4.3671, -4.4345, -4.611, -4.6246, -4.6349, -4.6672, -4.6876, -4.8568, -4.9152, -4.9184, -4.9237, -4.9349, -4.9482, -4.9552, -4.9589, -5.0301, -2.3877, -2.5633, -2.8431, -3.4045, -3.7298, -3.7638, -3.8038, -3.8701, -3.979, -3.9914, -4.0895, -4.2139, -4.3021, -4.4343, -4.4476, -4.4478, -4.5895, -4.6479, -4.6526, -4.7147, -4.7342, -4.7423, -4.7515, -4.7887, -4.7968, -4.809, -4.8577, -4.8897, -4.9151, -4.9332, -3.0846, -3.2223, -3.2503, -3.26, -3.3537, -3.4234, -3.5035, -3.5671, -3.8544, -3.8746, -3.9177, -3.9369, -3.9557, -3.9835, -4.0265, -4.1637, -4.3456, -4.3888, -4.3904, -4.521, -4.5664, -4.6384, -4.6701, -4.6851, -4.7211, -4.7599, -4.7763, -4.7881, -4.7908, -4.8266, -2.2997, -2.6791, -2.8757, -3.2018, -3.2381, -3.4159, -3.4909, -3.6888, -3.8901, -3.9311, -4.0297, -4.1234, -4.161, -4.1643, -4.2626, -4.4145, -4.5773, -4.5923, -4.5987, -4.611, -4.6216, -4.8262, -4.8475, -4.8533, -4.9501, -4.9692, -5.0007, -5.0305, -5.0621, -5.0731, -2.0812, -2.753, -3.1378, -3.2786, -3.2941, -3.4143, -3.5628, -3.6976, -3.7447, -3.788, -3.8228, -4.0143, -4.1049, -4.3184, -4.4373, -4.5277, -4.5568, -4.5575, -4.5578, -4.5723, -4.5896, -4.6243, -4.6291, -4.6984, -4.7035, -4.7174, -4.7899, -4.8273, -4.8756, -4.9769, -2.7094, -2.7785, -2.8992, -3.2722, -3.4131, -3.5898, -3.728, -3.7666, -3.8592, -3.9125, -3.9688, -4.0393, -4.1392, -4.2904, -4.3192, -4.3611, -4.3614, -4.362, -4.425, -4.4356, -4.45, -4.4569, -4.5165, -4.5398, -4.622, -4.6384, -4.6709, -4.6821, -4.6884, -4.7223, -2.3432, -2.8373, -3.0539, -3.3736, -3.4893, -3.5166, -3.888, -4.0747, -4.1708, -4.1865, -4.2063, -4.2102, -4.2608, -4.3176, -4.3256, -4.3995, -4.4019, -4.4278, -4.4288, -4.4621, -4.5585, -4.5871, -4.6354, -4.6402, -4.711, -4.7161, -4.7677, -4.771, -4.7942, -4.822], \"loglift\": [30.0, 29.0, 28.0, 27.0, 26.0, 25.0, 24.0, 23.0, 22.0, 21.0, 20.0, 19.0, 18.0, 17.0, 16.0, 15.0, 14.0, 13.0, 12.0, 11.0, 10.0, 9.0, 8.0, 7.0, 6.0, 5.0, 4.0, 3.0, 2.0, 1.0, 1.9375, 1.9374, 1.9374, 1.9374, 1.9372, 1.9372, 1.9371, 1.9371, 1.9371, 1.937, 1.937, 1.9369, 1.9369, 1.9369, 1.9368, 1.9367, 1.9367, 1.9367, 1.9367, 1.9366, 1.9365, 1.9365, 1.9365, 1.9365, 1.9365, 1.9364, 1.9363, 1.9363, 1.9362, 1.9362, 2.0275, 2.0273, 2.0273, 2.0273, 2.0273, 2.0272, 2.027, 2.0269, 2.0268, 2.0267, 2.0267, 2.0266, 2.0266, 2.0266, 2.0265, 2.0265, 2.0264, 2.0263, 2.0263, 2.0263, 2.0263, 2.0262, 2.0261, 2.0261, 2.0259, 2.0258, 2.0258, 2.0257, 2.0256, 2.0256, 2.1894, 2.1893, 2.1892, 2.1892, 2.189, 2.1889, 2.1889, 2.1887, 2.1887, 2.1885, 2.1884, 2.1882, 2.1879, 2.1877, 2.1876, 2.1876, 2.1875, 2.1875, 2.1875, 2.1874, 2.1874, 2.1873, 2.1873, 2.1872, 2.1872, 2.1871, 2.187, 2.187, 2.187, 2.187, 2.2167, 2.2166, 2.2165, 2.2164, 2.2164, 2.2162, 2.2162, 2.2161, 2.2161, 2.2161, 2.2159, 2.2158, 2.2158, 2.2157, 2.2156, 2.2156, 2.2153, 2.2153, 2.2153, 2.2152, 2.2152, 2.2149, 2.2148, 2.2148, 2.2148, 2.2147, 2.2147, 2.2147, 2.2147, 2.2145, 2.405, 2.4049, 2.4048, 2.4046, 2.4044, 2.4044, 2.4043, 2.4043, 2.4042, 2.4042, 2.4041, 2.4039, 2.4038, 2.4036, 2.4036, 2.4036, 2.4034, 2.4032, 2.4032, 2.4031, 2.4031, 2.4031, 2.403, 2.403, 2.4029, 2.4029, 2.4028, 2.4027, 2.4027, 2.4026, 2.4234, 2.4233, 2.4233, 2.4233, 2.4233, 2.4232, 2.4232, 2.4231, 2.4229, 2.4229, 2.4229, 2.4228, 2.4228, 2.4228, 2.4228, 2.4226, 2.4224, 2.4223, 2.4223, 2.4221, 2.422, 2.4219, 2.4218, 2.4218, 2.4217, 2.4216, 2.4216, 2.4216, 2.4216, 2.4215, 2.4315, 2.4314, 2.4313, 2.4312, 2.4312, 2.4311, 2.431, 2.4309, 2.4307, 2.4307, 2.4306, 2.4305, 2.4305, 2.4305, 2.4303, 2.4301, 2.4298, 2.4298, 2.4298, 2.4298, 2.4298, 2.4293, 2.4293, 2.4293, 2.429, 2.429, 2.4289, 2.4288, 2.4287, 2.4287, 2.4934, 2.4933, 2.4931, 2.4931, 2.4931, 2.493, 2.4929, 2.4928, 2.4928, 2.4927, 2.4927, 2.4925, 2.4924, 2.4921, 2.4919, 2.4918, 2.4917, 2.4917, 2.4917, 2.4917, 2.4917, 2.4916, 2.4916, 2.4914, 2.4914, 2.4914, 2.4912, 2.4911, 2.491, 2.4907, 2.5151, 2.515, 2.515, 2.5148, 2.5147, 2.5146, 2.5145, 2.5145, 2.5144, 2.5143, 2.5143, 2.5142, 2.5141, 2.5139, 2.5138, 2.5138, 2.5138, 2.5138, 2.5137, 2.5137, 2.5136, 2.5136, 2.5135, 2.5135, 2.5133, 2.5133, 2.5132, 2.5132, 2.5132, 2.5131, 2.6141, 2.614, 2.6139, 2.6137, 2.6136, 2.6136, 2.6133, 2.613, 2.6129, 2.6129, 2.6129, 2.6129, 2.6128, 2.6127, 2.6127, 2.6125, 2.6125, 2.6125, 2.6125, 2.6124, 2.6122, 2.6122, 2.6121, 2.612, 2.6119, 2.6119, 2.6117, 2.6117, 2.6117, 2.6116]}, \"token.table\": {\"Topic\": [3, 6, 9, 1, 4, 1, 4, 6, 6, 8, 2, 4, 4, 8, 7, 4, 7, 1, 2, 4, 1, 4, 1, 5, 2, 9, 7, 7, 8, 9, 10, 5, 1, 6, 9, 10, 5, 9, 7, 10, 1, 7, 10, 7, 8, 10, 9, 5, 7, 9, 1, 1, 2, 9, 10, 3, 9, 8, 9, 1, 10, 2, 6, 1, 10, 9, 10, 6, 1, 4, 2, 6, 2, 7, 9, 3, 5, 4, 7, 2, 3, 10, 1, 5, 5, 6, 8, 7, 3, 8, 9, 8, 5, 5, 4, 4, 2, 5, 5, 10, 10, 5, 3, 8, 8, 3, 3, 6, 3, 3, 1, 6, 9, 7, 3, 2, 6, 4, 2, 7, 3, 9, 3, 7, 6, 5, 4, 6, 8, 10, 8, 6, 7, 9, 2, 10, 3, 8, 2, 3, 7, 7, 10, 5, 1, 6, 4, 4, 5, 9, 5, 10, 7, 10, 2, 6, 5, 10, 7, 6, 8, 9, 3, 1, 5, 5, 4, 1, 2, 8, 2, 8, 6, 7, 2, 2, 10, 10, 9, 10, 10, 6, 3, 8, 4, 7, 3, 8, 5, 9, 1, 3, 7, 2, 8, 6, 5, 2, 1, 4, 8, 3, 10, 6, 4, 3, 2, 5, 6, 2, 1, 2, 3, 10, 4, 2, 10, 8, 6, 6, 3, 8, 6, 3, 9, 6, 10, 9, 3, 1, 7, 1, 8, 7, 6, 8, 7, 4, 9, 1, 1, 3, 5, 3, 9, 4, 5, 4, 5, 2, 6, 1, 10, 2, 8, 5, 7, 9, 8, 8, 1, 4, 6, 5, 6, 9, 1, 2, 9, 1, 5, 8, 3, 8, 3, 8, 7, 9, 7, 2, 1, 2, 2, 4, 10, 4, 10, 9, 3, 4, 4, 7, 4, 7, 1, 9, 5, 10, 4, 5], \"Freq\": [0.9985414024082442, 0.9991341478709872, 0.998931897975309, 0.9990326584943543, 0.9976154554024743, 0.9992681288925426, 0.9991742941665296, 0.9995528391790801, 0.9981353006630247, 0.9993827268505876, 0.9972023815389713, 0.9989887730755155, 0.9989512202752407, 0.9977128386700884, 0.999094256054, 0.9984815878683658, 0.9992947481612793, 0.9990524569842013, 0.9996385818791169, 0.9973730445342434, 0.9995682532931638, 0.9996503508126682, 0.9989505528709764, 0.9988462611640889, 0.9978139385913644, 0.9994728530640759, 0.9988744192575385, 0.9972217448864037, 0.9997324531577692, 0.9989930102374327, 0.9975760484104348, 0.9995638365552197, 0.9993036001632472, 0.9974526258046469, 0.997541486530119, 0.9996124723842152, 0.9971273050439425, 0.9973833243282932, 0.9966033655933235, 0.9983317311565394, 0.9994119708054614, 0.9996614033634115, 0.9975218481150252, 0.9967026799805065, 0.9988796560214843, 0.9983199653729099, 0.9982592198111594, 0.9971141669441033, 0.9990829857393593, 0.999384180806966, 0.998964269824101, 0.9986419405574319, 0.9992803261873593, 0.9995591359825023, 0.9990726930672813, 0.996617797781355, 0.9974515942443741, 0.9974616626320914, 0.9983373172765407, 0.9989383873692167, 0.9986178914344379, 0.9979591877207126, 0.9985820853379964, 0.9993926398946286, 0.9983460725886311, 0.9988945334240337, 0.995940280995447, 0.9982323710294959, 0.9992229236470781, 0.9982098540494243, 0.9991804900366575, 0.9996025727886768, 0.9997922886289176, 0.9980025037630891, 0.9982912343399625, 0.9999384150817533, 0.9992002260960925, 0.9978071245163385, 0.9968919573344011, 0.9991532376409417, 0.9980298982203871, 0.998522805202223, 0.9993205491159645, 0.9976653617403616, 0.9993591988235084, 0.9992985945674844, 0.9978392494696461, 0.9981498263692122, 0.9970691003121785, 0.9957650813666514, 0.9983826497386525, 0.9962132040972517, 0.9993412642640255, 0.9978519615080376, 0.9988876163947805, 0.9994830231913164, 0.9986730248857412, 0.9970712989722982, 0.9980600248318707, 0.9983675588016614, 0.9997251496540006, 0.9965261066207663, 0.999218191129289, 0.9986583844045569, 0.9979952425870315, 0.9969829340894997, 0.9990548085958844, 0.9986395772283904, 0.9987593612215842, 0.9985066386168089, 0.9998202576133688, 0.9992875067015868, 0.999225856233729, 0.9973197696937025, 0.9973389773990556, 0.997682135870339, 0.9985497478665893, 0.999849116118805, 0.9994516878870524, 0.9997355256951903, 0.9994853688221362, 0.9994101705700524, 0.9993035755574194, 0.997816855051652, 0.999536625216188, 0.9973559200398685, 0.9976568681793795, 0.9995687403585687, 0.9987111046927122, 0.999327730847748, 0.9993972930387403, 0.9990794191304412, 0.9985423390421049, 0.9987416133436209, 0.9982261765950367, 0.9986175074924438, 0.99893329392393, 0.9977734189912723, 0.9995194369164923, 0.9969247196848277, 0.9977800372448534, 0.9991907518719684, 0.9989890676350961, 0.998614645571217, 0.9984325096008967, 0.9997884171878674, 0.9997936358992455, 0.9981972566871548, 0.998955742605523, 0.9981530526143791, 0.9989129574165428, 0.9979248472528406, 0.9975278905701892, 0.9975077790344548, 0.9989428632485547, 0.9990000859172063, 0.997669170329544, 0.9998011948127999, 0.9980249275834979, 0.9985612223091427, 0.9992100460629983, 0.9967927006097083, 0.9988542521069796, 0.9993426338479373, 0.9993790178477643, 0.9996862387149282, 0.9984879899683001, 0.9996848083137213, 0.9979602461007706, 0.9980162703099699, 0.9997555355853779, 0.9990989852008697, 0.9993018765320453, 0.9990318853161572, 0.9989671354334436, 0.999597976232113, 0.997450594068408, 0.9987367319006315, 0.9990396713171208, 0.9978721293211833, 0.9975746509407294, 0.9977586807836084, 0.9993327825950984, 0.997552665967969, 0.9989580167566515, 0.9966091799016187, 0.9998311074238517, 0.9997818398271944, 0.9988835464917092, 0.9989243080788923, 0.9986742872296956, 0.998900243670229, 0.9973860014698637, 0.9984292317153168, 0.9978763901133627, 0.9987292041299366, 0.9987618234484292, 0.9989691875282397, 0.9993868406180932, 0.9996708120122597, 0.9998223228098087, 0.9974320815417346, 0.9984890593669137, 0.9990075329377605, 0.9981001147454024, 0.9981699720010753, 0.9983257500533349, 0.9988376156950599, 0.9968715293117917, 0.9994954197207442, 0.9978769010154758, 0.9988610597861904, 0.9984915446321226, 0.9979158170711344, 0.9989394057924019, 0.9993821472464957, 0.9988030656071336, 0.9997186761509113, 0.9994523919033719, 0.9987606238216367, 0.9985608142045423, 0.9989183141645921, 0.9989580443447825, 0.9992407555980998, 0.9995464236843652, 0.9994824466185874, 0.999038804593521, 0.9997998661014207, 0.9970041357703967, 0.9985582489249953, 0.9983645169540508, 0.9996825517892577, 0.9991021516281581, 0.9995324185393036, 0.9977315233222536, 0.9976168971931118, 0.9988535075219662, 0.9994419907918303, 0.9970841128163068, 0.9988320004771495, 0.9992544177635633, 0.9995714212918095, 0.999749057845198, 0.9997847253274252, 0.9990630640788378, 0.9993214711994443, 0.9996964559960848, 0.9986832016827749, 0.998304282708748, 0.9993333475377248, 0.9985395485300499, 0.9995101794114177, 0.9986859488246075, 0.9993570710382147, 0.9985008503856638, 0.998182930860516, 0.9998626024793916, 0.9984680617897453, 0.997334583283257, 0.9995814921246461, 0.9995873682873662, 0.9992277279704741, 0.9995120521906379, 0.9977210866561422, 0.9974650293033517, 0.9997545748992277, 0.999363832542636, 0.997664643064837, 0.9968016799465196, 0.9989620369956309, 0.9998676822107869, 0.999004603718789, 0.9996684916417992, 0.9963686570504827, 0.9986415412707839, 0.9969653849412873, 0.9994858858405876, 0.9986463261074995, 0.9995376067262308, 0.9998546536650051, 0.9997656275692403, 0.9983846387657854, 0.9991119820734851, 0.9997403738651423, 0.9984853929718891, 0.9967955939926267, 0.9997209305834728, 0.9995962559475213, 0.9986808555955697, 0.9996145719908425, 0.9969440028250804, 0.9996518597883531, 0.9967072810448783, 0.9990349292405007, 0.9991849588459704, 0.9993245516769996, 0.998045454650838, 0.9988704719672314, 0.999480558574634, 0.9972768256808828], \"Term\": [\"absolutely\", \"act\", \"action\", \"actually\", \"agree\", \"allow\", \"already\", \"also\", \"always\", \"american\", \"arrest\", \"ask\", \"attack\", \"attempt\", \"audit\", \"away\", \"back\", \"bad\", \"ballot\", \"become\", \"believe\", \"biden\", \"big\", \"block\", \"box\", \"break\", \"bring\", \"business\", \"call\", \"candidate\", \"care\", \"case\", \"cast\", \"catch\", \"change\", \"cheat\", \"check\", \"chinese\", \"choose\", \"citizen\", \"claim\", \"come\", \"commit\", \"communist\", \"concede\", \"confirm\", \"conservative\", \"constitution\", \"continue\", \"corrupt\", \"corruption\", \"cou\", \"count\", \"country\", \"county\", \"coup\", \"courage\", \"cous\", \"cover\", \"covid\", \"create\", \"crime\", \"criminal\", \"day\", \"dead\", \"declare\", \"deep\", \"defend\", \"dem\", \"demand\", \"destroy\", \"do\", \"dominion\", \"due\", \"elect\", \"election\", \"elector\", \"electoral\", \"email\", \"end\", \"enemy\", \"enough\", \"even\", \"event\", \"ever\", \"evidence\", \"evil\", \"exactly\", \"executive_order\", \"explain\", \"expose\", \"face\", \"fact\", \"fail\", \"fair\", \"fake\", \"family\", \"far\", \"federal\", \"feel\", \"fight\", \"file\", \"find\", \"first\", \"fix\", \"fly\", \"follow\", \"force\", \"foreign_interference\", \"forensic\", \"fraud\", \"fraudulent\", \"free\", \"freedom\", \"fuck\", \"full\", \"ga\", \"get\", \"give\", \"go\", \"good\", \"government\", \"great\", \"hand\", \"happen\", \"hard\", \"hate\", \"hear\", \"hearing\", \"help\", \"hide\", \"history\", \"hold\", \"hope\", \"ignore\", \"illegal\", \"impoant\", \"include\", \"integrity\", \"interference\", \"issue\", \"job\", \"join\", \"judge\", \"justice\", \"keep\", \"know\", \"landslide\", \"last\", \"late\", \"law\", \"lawsuit\", \"lead\", \"least\", \"leave\", \"legal\", \"legislature\", \"let\", \"level\", \"liberal\", \"lie\", \"listen\", \"live\", \"long\", \"look\", \"lose\", \"love\", \"machine\", \"mail\", \"mainstream_media\", \"make\", \"man\", \"many\", \"massive\", \"mean\", \"medium\", \"member\", \"military\", \"million\", \"money\", \"move\", \"msm\", \"much\", \"name\", \"nation\", \"national\", \"need\", \"never\", \"new\", \"news\", \"next\", \"night\", \"office\", \"official\", \"one\", \"order\", \"other\", \"oveurn\", \"patriot\", \"pay\", \"people\", \"place\", \"plan\", \"police\", \"politician\", \"potus\", \"power\", \"pray\", \"prayer\", \"president\", \"presidential\", \"problem\", \"process\", \"proof\", \"protect\", \"put\", \"question\", \"rally\", \"re\", \"read\", \"ready\", \"real\", \"really\", \"remember\", \"republican\", \"result\", \"rig\", \"right\", \"rule\", \"run\", \"save\", \"say\", \"scotus\", \"see\", \"seem\", \"sell\", \"send\", \"show\", \"side\", \"sign\", \"speak\", \"stand\", \"state\", \"steal\", \"step\", \"still\", \"stop\", \"story\", \"street\", \"suppo\", \"suppoe\", \"suppoer\", \"supreme_cou\", \"sure\", \"swamp\", \"system\", \"take\", \"talk\", \"team\", \"tell\", \"thank\", \"thing\", \"think\", \"thousand\", \"throw\", \"time\", \"today\", \"tomorrow\", \"treason\", \"true\", \"trump\", \"truth\", \"try\", \"turn\", \"tweet\", \"twitter\", \"use\", \"ve\", \"video\", \"vote\", \"voter\", \"voting\", \"wait\", \"want\", \"war\", \"washington_dc\", \"watch\", \"way\", \"week\", \"well\", \"whole\", \"win\", \"wonder\", \"word\", \"work\", \"world\", \"write\", \"wrong\", \"year\", \"yet\"]}, \"R\": 30, \"lambda.step\": 0.01, \"plot.opts\": {\"xlab\": \"PC1\", \"ylab\": \"PC2\"}, \"topic.order\": [8, 6, 1, 5, 4, 3, 7, 2, 9, 10]};\n",
       "\n",
       "function LDAvis_load_lib(url, callback){\n",
       "  var s = document.createElement('script');\n",
       "  s.src = url;\n",
       "  s.async = true;\n",
       "  s.onreadystatechange = s.onload = callback;\n",
       "  s.onerror = function(){console.warn(\"failed to load library \" + url);};\n",
       "  document.getElementsByTagName(\"head\")[0].appendChild(s);\n",
       "}\n",
       "\n",
       "if(typeof(LDAvis) !== \"undefined\"){\n",
       "   // already loaded: just create the visualization\n",
       "   !function(LDAvis){\n",
       "       new LDAvis(\"#\" + \"ldavis_el1519219941737057929729360833\", ldavis_el1519219941737057929729360833_data);\n",
       "   }(LDAvis);\n",
       "}else if(typeof define === \"function\" && define.amd){\n",
       "   // require.js is available: use it to load d3/LDAvis\n",
       "   require.config({paths: {d3: \"https://d3js.org/d3.v5\"}});\n",
       "   require([\"d3\"], function(d3){\n",
       "      window.d3 = d3;\n",
       "      LDAvis_load_lib(\"https://cdn.jsdelivr.net/gh/bmabey/pyLDAvis@3.3.1/pyLDAvis/js/ldavis.v3.0.0.js\", function(){\n",
       "        new LDAvis(\"#\" + \"ldavis_el1519219941737057929729360833\", ldavis_el1519219941737057929729360833_data);\n",
       "      });\n",
       "    });\n",
       "}else{\n",
       "    // require.js not available: dynamically load d3 & LDAvis\n",
       "    LDAvis_load_lib(\"https://d3js.org/d3.v5.js\", function(){\n",
       "         LDAvis_load_lib(\"https://cdn.jsdelivr.net/gh/bmabey/pyLDAvis@3.3.1/pyLDAvis/js/ldavis.v3.0.0.js\", function(){\n",
       "                 new LDAvis(\"#\" + \"ldavis_el1519219941737057929729360833\", ldavis_el1519219941737057929729360833_data);\n",
       "            })\n",
       "         });\n",
       "}\n",
       "</script>"
      ],
      "text/plain": [
       "PreparedData(topic_coordinates=              x         y  topics  cluster       Freq\n",
       "topic                                                \n",
       "7      0.440294  0.002096       1        1  14.403474\n",
       "5      0.024218  0.055438       2        1  13.164959\n",
       "0     -0.072333  0.416164       3        1  11.197257\n",
       "4     -0.071655 -0.163604       4        1  10.895415\n",
       "3     -0.077226 -0.045803       5        1   9.025161\n",
       "2     -0.034836 -0.073378       6        1   8.858532\n",
       "6     -0.059355 -0.065014       7        1   8.789217\n",
       "1     -0.045795 -0.032631       8        1   8.261233\n",
       "8     -0.043045 -0.055368       9        1   8.083368\n",
       "9     -0.060266 -0.037900      10        1   7.321385, topic_info=             Term          Freq         Total Category  logprob  loglift\n",
       "53       election  14145.000000  14145.000000  Default  30.0000  30.0000\n",
       "22           vote   9440.000000   9440.000000  Default  29.0000  29.0000\n",
       "79         people   5727.000000   5727.000000  Default  28.0000  28.0000\n",
       "19            get   5650.000000   5650.000000  Default  27.0000  27.0000\n",
       "211            go   4897.000000   4897.000000  Default  26.0000  26.0000\n",
       "...           ...           ...           ...      ...      ...      ...\n",
       "1415        least    363.995697    364.909435  Topic10  -4.7161   2.6119\n",
       "83        confirm    345.668475    346.582270  Topic10  -4.7677   2.6117\n",
       "468   supreme_cou    344.540229    345.453944  Topic10  -4.7710   2.6117\n",
       "910          feel    336.637316    337.551032  Topic10  -4.7942   2.6117\n",
       "295          deep    327.419202    328.332939  Topic10  -4.8220   2.6116\n",
       "\n",
       "[330 rows x 6 columns], token_table=      Topic      Freq        Term\n",
       "term                             \n",
       "675       3  0.998541  absolutely\n",
       "928       6  0.999134         act\n",
       "130       9  0.998932      action\n",
       "420       1  0.999033    actually\n",
       "91        4  0.997615       agree\n",
       "...     ...       ...         ...\n",
       "342       9  0.999325       world\n",
       "984       5  0.998045       write\n",
       "396      10  0.998870       wrong\n",
       "148       4  0.999481        year\n",
       "1038      5  0.997277         yet\n",
       "\n",
       "[300 rows x 3 columns], R=30, lambda_step=0.01, plot_opts={'xlab': 'PC1', 'ylab': 'PC2'}, topic_order=[8, 6, 1, 5, 4, 3, 7, 2, 9, 10])"
      ]
     },
     "execution_count": 19,
     "metadata": {},
     "output_type": "execute_result"
    }
   ],
   "source": [
    "# Visualize the topics\n",
    "pyLDAvis.enable_notebook()\n",
    "vis = pyLDAvis.gensim_models.prepare(lda_model, corpus, id2word)\n",
    "vis"
   ]
  },
  {
   "cell_type": "code",
   "execution_count": 20,
   "id": "b872ee09",
   "metadata": {},
   "outputs": [
    {
     "data": {
      "text/html": [
       "<div>\n",
       "<style scoped>\n",
       "    .dataframe tbody tr th:only-of-type {\n",
       "        vertical-align: middle;\n",
       "    }\n",
       "\n",
       "    .dataframe tbody tr th {\n",
       "        vertical-align: top;\n",
       "    }\n",
       "\n",
       "    .dataframe thead th {\n",
       "        text-align: right;\n",
       "    }\n",
       "</style>\n",
       "<table border=\"1\" class=\"dataframe\">\n",
       "  <thead>\n",
       "    <tr style=\"text-align: right;\">\n",
       "      <th></th>\n",
       "      <th>Document_No</th>\n",
       "      <th>Dominant_Topic</th>\n",
       "      <th>Topic_Perc_Contrib</th>\n",
       "      <th>Keywords</th>\n",
       "      <th>Text</th>\n",
       "    </tr>\n",
       "  </thead>\n",
       "  <tbody>\n",
       "    <tr>\n",
       "      <th>0</th>\n",
       "      <td>0</td>\n",
       "      <td>4.0</td>\n",
       "      <td>0.1805</td>\n",
       "      <td>get, know, want, biden, pay, thing, well, stil...</td>\n",
       "      <td>what bafoon no wonder why there ratings are in...</td>\n",
       "    </tr>\n",
       "    <tr>\n",
       "      <th>1</th>\n",
       "      <td>1</td>\n",
       "      <td>0.0</td>\n",
       "      <td>0.1400</td>\n",
       "      <td>election, steal, need, stand, good, try, great...</td>\n",
       "      <td>secure the voting process or lose the america ...</td>\n",
       "    </tr>\n",
       "    <tr>\n",
       "      <th>2</th>\n",
       "      <td>2</td>\n",
       "      <td>0.0</td>\n",
       "      <td>0.1591</td>\n",
       "      <td>election, steal, need, stand, good, try, great...</td>\n",
       "      <td>you need to be working on securing the voting ...</td>\n",
       "    </tr>\n",
       "    <tr>\n",
       "      <th>3</th>\n",
       "      <td>3</td>\n",
       "      <td>7.0</td>\n",
       "      <td>0.1442</td>\n",
       "      <td>fraud, say, voter, thank, day, patriot, even, ...</td>\n",
       "      <td></td>\n",
       "    </tr>\n",
       "    <tr>\n",
       "      <th>4</th>\n",
       "      <td>4</td>\n",
       "      <td>7.0</td>\n",
       "      <td>0.1442</td>\n",
       "      <td>fraud, say, voter, thank, day, patriot, even, ...</td>\n",
       "      <td>like</td>\n",
       "    </tr>\n",
       "    <tr>\n",
       "      <th>5</th>\n",
       "      <td>5</td>\n",
       "      <td>5.0</td>\n",
       "      <td>0.1799</td>\n",
       "      <td>vote, make, dominion, ballot, president, give,...</td>\n",
       "      <td>please secure the voting process. are being al...</td>\n",
       "    </tr>\n",
       "    <tr>\n",
       "      <th>6</th>\n",
       "      <td>6</td>\n",
       "      <td>2.0</td>\n",
       "      <td>0.1827</td>\n",
       "      <td>think, keep, evidence, happen, result, many, h...</td>\n",
       "      <td></td>\n",
       "    </tr>\n",
       "    <tr>\n",
       "      <th>7</th>\n",
       "      <td>7</td>\n",
       "      <td>5.0</td>\n",
       "      <td>0.2307</td>\n",
       "      <td>vote, make, dominion, ballot, president, give,...</td>\n",
       "      <td>the voting process has not been secured. don f...</td>\n",
       "    </tr>\n",
       "    <tr>\n",
       "      <th>8</th>\n",
       "      <td>8</td>\n",
       "      <td>7.0</td>\n",
       "      <td>0.1439</td>\n",
       "      <td>fraud, say, voter, thank, day, patriot, even, ...</td>\n",
       "      <td>s anyone surprised that nadler &amp; schiff alone ...</td>\n",
       "    </tr>\n",
       "    <tr>\n",
       "      <th>9</th>\n",
       "      <td>9</td>\n",
       "      <td>7.0</td>\n",
       "      <td>0.2420</td>\n",
       "      <td>fraud, say, voter, thank, day, patriot, even, ...</td>\n",
       "      <td>ot if but when ... : the know theyve lost if t...</td>\n",
       "    </tr>\n",
       "  </tbody>\n",
       "</table>\n",
       "</div>"
      ],
      "text/plain": [
       "   Document_No  Dominant_Topic  Topic_Perc_Contrib  \\\n",
       "0            0             4.0              0.1805   \n",
       "1            1             0.0              0.1400   \n",
       "2            2             0.0              0.1591   \n",
       "3            3             7.0              0.1442   \n",
       "4            4             7.0              0.1442   \n",
       "5            5             5.0              0.1799   \n",
       "6            6             2.0              0.1827   \n",
       "7            7             5.0              0.2307   \n",
       "8            8             7.0              0.1439   \n",
       "9            9             7.0              0.2420   \n",
       "\n",
       "                                            Keywords  \\\n",
       "0  get, know, want, biden, pay, thing, well, stil...   \n",
       "1  election, steal, need, stand, good, try, great...   \n",
       "2  election, steal, need, stand, good, try, great...   \n",
       "3  fraud, say, voter, thank, day, patriot, even, ...   \n",
       "4  fraud, say, voter, thank, day, patriot, even, ...   \n",
       "5  vote, make, dominion, ballot, president, give,...   \n",
       "6  think, keep, evidence, happen, result, many, h...   \n",
       "7  vote, make, dominion, ballot, president, give,...   \n",
       "8  fraud, say, voter, thank, day, patriot, even, ...   \n",
       "9  fraud, say, voter, thank, day, patriot, even, ...   \n",
       "\n",
       "                                                Text  \n",
       "0  what bafoon no wonder why there ratings are in...  \n",
       "1  secure the voting process or lose the america ...  \n",
       "2  you need to be working on securing the voting ...  \n",
       "3                                                     \n",
       "4                                               like  \n",
       "5  please secure the voting process. are being al...  \n",
       "6                                                     \n",
       "7  the voting process has not been secured. don f...  \n",
       "8  s anyone surprised that nadler & schiff alone ...  \n",
       "9  ot if but when ... : the know theyve lost if t...  "
      ]
     },
     "execution_count": 20,
     "metadata": {},
     "output_type": "execute_result"
    }
   ],
   "source": [
    "def format_topics_sentences(ldamodel=None, corpus=corpus, texts=data):\n",
    "    # Init output\n",
    "    sent_topics_df = pd.DataFrame()\n",
    "\n",
    "    # Get main topic in each document\n",
    "    for i, row_list in enumerate(ldamodel[corpus]):\n",
    "        row = row_list[0] if ldamodel.per_word_topics else row_list            \n",
    "        # print(row)\n",
    "        row = sorted(row, key=lambda x: (x[1]), reverse=True)\n",
    "        # Get the Dominant topic, Perc Contribution and Keywords for each document\n",
    "        for j, (topic_num, prop_topic) in enumerate(row):\n",
    "            if j == 0:  # => dominant topic\n",
    "                wp = ldamodel.show_topic(topic_num)\n",
    "                topic_keywords = \", \".join([word for word, prop in wp])\n",
    "                sent_topics_df = sent_topics_df.append(pd.Series([int(topic_num), round(prop_topic,4), topic_keywords]), ignore_index=True)\n",
    "            else:\n",
    "                break\n",
    "    sent_topics_df.columns = ['Dominant_Topic', 'Perc_Contribution', 'Topic_Keywords']\n",
    "\n",
    "    # Add original text to the end of the output\n",
    "    contents = pd.Series(texts)\n",
    "    sent_topics_df = pd.concat([sent_topics_df, contents], axis=1)\n",
    "    return(sent_topics_df)\n",
    "\n",
    "\n",
    "df_topic_sents_keywords = format_topics_sentences(ldamodel=lda_model, corpus=corpus, texts=data)\n",
    "\n",
    "# Format\n",
    "df_dominant_topic = df_topic_sents_keywords.reset_index()\n",
    "df_dominant_topic.columns = ['Document_No', 'Dominant_Topic', 'Topic_Perc_Contrib', 'Keywords', 'Text']\n",
    "df_dominant_topic.head(10)"
   ]
  }
 ],
 "metadata": {
  "kernelspec": {
   "display_name": "Python 3 (ipykernel)",
   "language": "python",
   "name": "python3"
  },
  "language_info": {
   "codemirror_mode": {
    "name": "ipython",
    "version": 3
   },
   "file_extension": ".py",
   "mimetype": "text/x-python",
   "name": "python",
   "nbconvert_exporter": "python",
   "pygments_lexer": "ipython3",
   "version": "3.9.7"
  }
 },
 "nbformat": 4,
 "nbformat_minor": 5
}
