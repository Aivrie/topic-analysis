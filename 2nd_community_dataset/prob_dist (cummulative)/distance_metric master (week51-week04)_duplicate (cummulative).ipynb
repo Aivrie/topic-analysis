{
 "cells": [
  {
   "cell_type": "code",
   "execution_count": 1,
   "metadata": {},
   "outputs": [],
   "source": [
    "import numpy as np\n",
    "import pandas as pd\n",
    "import matplotlib.pyplot as plt\n",
    "import seaborn as sns\n",
    "import glob\n",
    "from IPython.display import display\n",
    "from gensim.corpora import Dictionary\n",
    "from gensim.models import ldamodel"
   ]
  },
  {
   "cell_type": "code",
   "execution_count": 2,
   "metadata": {},
   "outputs": [],
   "source": [
    "import logging\n",
    "logging.basicConfig(format='%(asctime)s : %(levelname)s : %(message)s', level=logging.INFO)"
   ]
  },
  {
   "cell_type": "markdown",
   "metadata": {},
   "source": [
    "#### Import Dataset"
   ]
  },
  {
   "cell_type": "code",
   "execution_count": 3,
   "metadata": {},
   "outputs": [
    {
     "name": "stderr",
     "output_type": "stream",
     "text": [
      "c:\\Users\\Ivory-UALR\\AppData\\Local\\Programs\\Python\\Python39\\lib\\site-packages\\IPython\\core\\interactiveshell.py:3441: DtypeWarning: Columns (27,28,29,30,31,32,33) have mixed types.Specify dtype option on import or set low_memory=False.\n",
      "  exec(code_obj, self.user_global_ns, self.user_ns)\n"
     ]
    }
   ],
   "source": [
    "df = pd.read_csv(r\"C:\\Users\\Ivory-UALR\\Documents\\COSMOS\\Billy's Project\\community_topic_model\\2nd_community_dataset\\master_corpus(51-04)_duplicate.csv\")"
   ]
  },
  {
   "cell_type": "code",
   "execution_count": 4,
   "metadata": {},
   "outputs": [],
   "source": [
    "corpus_list_master = ([list(x) for x in df.fillna('').values])"
   ]
  },
  {
   "cell_type": "markdown",
   "metadata": {},
   "source": [
    "#### Training a Model with the Corpus"
   ]
  },
  {
   "cell_type": "code",
   "execution_count": 5,
   "metadata": {},
   "outputs": [
    {
     "name": "stderr",
     "output_type": "stream",
     "text": [
      "2022-05-22 09:02:21,371 : INFO : adding document #0 to Dictionary(0 unique tokens: [])\n",
      "2022-05-22 09:02:21,504 : INFO : adding document #10000 to Dictionary(6092 unique tokens: ['', 'scream', 'stop', 'fail', 'mention']...)\n",
      "2022-05-22 09:02:21,624 : INFO : adding document #20000 to Dictionary(7992 unique tokens: ['', 'scream', 'stop', 'fail', 'mention']...)\n",
      "2022-05-22 09:02:21,746 : INFO : adding document #30000 to Dictionary(9093 unique tokens: ['', 'scream', 'stop', 'fail', 'mention']...)\n",
      "2022-05-22 09:02:21,862 : INFO : adding document #40000 to Dictionary(10470 unique tokens: ['', 'scream', 'stop', 'fail', 'mention']...)\n",
      "2022-05-22 09:02:21,980 : INFO : adding document #50000 to Dictionary(11525 unique tokens: ['', 'scream', 'stop', 'fail', 'mention']...)\n",
      "2022-05-22 09:02:22,097 : INFO : adding document #60000 to Dictionary(12608 unique tokens: ['', 'scream', 'stop', 'fail', 'mention']...)\n",
      "2022-05-22 09:02:22,213 : INFO : adding document #70000 to Dictionary(13561 unique tokens: ['', 'scream', 'stop', 'fail', 'mention']...)\n",
      "2022-05-22 09:02:22,316 : INFO : built Dictionary(14313 unique tokens: ['', 'scream', 'stop', 'fail', 'mention']...) from 78648 documents (total 2674032 corpus positions)\n",
      "2022-05-22 09:02:23,099 : INFO : using symmetric alpha at 0.1\n",
      "2022-05-22 09:02:23,100 : INFO : using symmetric eta at 0.1\n",
      "2022-05-22 09:02:23,101 : INFO : using serial LDA version on this node\n",
      "2022-05-22 09:02:23,117 : INFO : running online (single-pass) LDA training, 10 topics, 1 passes over the supplied corpus of 78648 documents, updating model once every 2000 documents, evaluating perplexity every 20000 documents, iterating 50x with a convergence threshold of 0.001000\n",
      "2022-05-22 09:02:23,118 : INFO : PROGRESS: pass 0, at document #2000/78648\n",
      "2022-05-22 09:02:23,923 : INFO : merging changes from 2000 documents into a model of 78648 documents\n",
      "2022-05-22 09:02:23,934 : INFO : topic #3 (0.100): 0.001*\"\" + 0.000*\"trump\" + 0.000*\"vote\" + 0.000*\"police_collusion\" + 0.000*\"steal\" + 0.000*\"election\" + 0.000*\"reject_motion\" + 0.000*\"lie\" + 0.000*\"get\" + 0.000*\"fundraising_site\"\n",
      "2022-05-22 09:02:23,935 : INFO : topic #4 (0.100): 0.280*\"\" + 0.013*\"call\" + 0.011*\"vote\" + 0.008*\"candidate\" + 0.007*\"little\" + 0.006*\"election\" + 0.006*\"oversight\" + 0.005*\"new\" + 0.005*\"obvious\" + 0.005*\"establishment\"\n",
      "2022-05-22 09:02:23,936 : INFO : topic #1 (0.100): 0.001*\"\" + 0.000*\"election\" + 0.000*\"police_collusion\" + 0.000*\"trump\" + 0.000*\"steal\" + 0.000*\"vote\" + 0.000*\"lie\" + 0.000*\"know\" + 0.000*\"people\" + 0.000*\"reject_motion\"\n",
      "2022-05-22 09:02:23,936 : INFO : topic #2 (0.100): 0.172*\"\" + 0.042*\"story\" + 0.014*\"election\" + 0.014*\"fraud\" + 0.014*\"work\" + 0.014*\"give\" + 0.014*\"interact\" + 0.014*\"stop\" + 0.014*\"reintroduce\" + 0.014*\"tell\"\n",
      "2022-05-22 09:02:23,937 : INFO : topic #5 (0.100): 0.270*\"\" + 0.022*\"office\" + 0.016*\"point\" + 0.013*\"enter\" + 0.012*\"top\" + 0.011*\"gibberish\" + 0.009*\"people\" + 0.008*\"totally\" + 0.008*\"sit\" + 0.007*\"leave\"\n",
      "2022-05-22 09:02:23,938 : INFO : topic diff=8.673947, rho=1.000000\n",
      "2022-05-22 09:02:23,939 : INFO : PROGRESS: pass 0, at document #4000/78648\n",
      "2022-05-22 09:02:24,388 : INFO : merging changes from 2000 documents into a model of 78648 documents\n",
      "2022-05-22 09:02:24,397 : INFO : topic #2 (0.100): 0.103*\"fraud\" + 0.094*\"\" + 0.065*\"stop\" + 0.062*\"story\" + 0.048*\"listen\" + 0.033*\"ago\" + 0.033*\"new\" + 0.031*\"time\" + 0.023*\"year\" + 0.021*\"election\"\n",
      "2022-05-22 09:02:24,398 : INFO : topic #8 (0.100): 0.081*\"\" + 0.075*\"state\" + 0.037*\"prevent\" + 0.037*\"show\" + 0.036*\"people\" + 0.034*\"fraud\" + 0.027*\"help\" + 0.025*\"step\" + 0.025*\"next\" + 0.025*\"election\"\n",
      "2022-05-22 09:02:24,398 : INFO : topic #0 (0.100): 0.479*\"\" + 0.017*\"vote\" + 0.011*\"people\" + 0.009*\"election\" + 0.006*\"need\" + 0.006*\"right\" + 0.006*\"come\" + 0.006*\"twitter\" + 0.005*\"get\" + 0.005*\"steal\"\n",
      "2022-05-22 09:02:24,399 : INFO : topic #1 (0.100): 0.000*\"\" + 0.000*\"election\" + 0.000*\"police_collusion\" + 0.000*\"trump\" + 0.000*\"steal\" + 0.000*\"vote\" + 0.000*\"lie\" + 0.000*\"know\" + 0.000*\"people\" + 0.000*\"reject_motion\"\n",
      "2022-05-22 09:02:24,400 : INFO : topic #6 (0.100): 0.876*\"\" + 0.004*\"trump\" + 0.003*\"election\" + 0.002*\"steal\" + 0.002*\"still\" + 0.001*\"know\" + 0.001*\"nancys_location\" + 0.001*\"inciter_tweete\" + 0.001*\"terrorists_stormed\" + 0.001*\"three_minute\"\n",
      "2022-05-22 09:02:24,400 : INFO : topic diff=0.139850, rho=0.707107\n",
      "2022-05-22 09:02:24,401 : INFO : PROGRESS: pass 0, at document #6000/78648\n",
      "2022-05-22 09:02:24,781 : INFO : merging changes from 2000 documents into a model of 78648 documents\n",
      "2022-05-22 09:02:24,790 : INFO : topic #2 (0.100): 0.091*\"stop\" + 0.084*\"fraud\" + 0.062*\"\" + 0.060*\"ago\" + 0.058*\"story\" + 0.058*\"set\" + 0.044*\"year\" + 0.038*\"listen\" + 0.032*\"time\" + 0.022*\"new\"\n",
      "2022-05-22 09:02:24,791 : INFO : topic #4 (0.100): 0.101*\"\" + 0.084*\"hashtag\" + 0.060*\"candidate\" + 0.056*\"ban\" + 0.037*\"create\" + 0.027*\"new\" + 0.023*\"war\" + 0.015*\"hand\" + 0.014*\"little\" + 0.014*\"obvious\"\n",
      "2022-05-22 09:02:24,791 : INFO : topic #9 (0.100): 0.000*\"\" + 0.000*\"election\" + 0.000*\"trump\" + 0.000*\"police_collusion\" + 0.000*\"vote\" + 0.000*\"reject_motion\" + 0.000*\"steal\" + 0.000*\"lie\" + 0.000*\"people\" + 0.000*\"fraud\"\n",
      "2022-05-22 09:02:24,792 : INFO : topic #1 (0.100): 0.000*\"\" + 0.000*\"election\" + 0.000*\"police_collusion\" + 0.000*\"trump\" + 0.000*\"steal\" + 0.000*\"vote\" + 0.000*\"lie\" + 0.000*\"know\" + 0.000*\"people\" + 0.000*\"reject_motion\"\n",
      "2022-05-22 09:02:24,793 : INFO : topic #0 (0.100): 0.410*\"\" + 0.017*\"vote\" + 0.012*\"people\" + 0.011*\"election\" + 0.009*\"need\" + 0.008*\"get\" + 0.008*\"say\" + 0.007*\"right\" + 0.006*\"keep\" + 0.006*\"lie\"\n",
      "2022-05-22 09:02:24,794 : INFO : topic diff=0.173321, rho=0.577350\n",
      "2022-05-22 09:02:24,795 : INFO : PROGRESS: pass 0, at document #8000/78648\n",
      "2022-05-22 09:02:25,088 : INFO : merging changes from 2000 documents into a model of 78648 documents\n",
      "2022-05-22 09:02:25,096 : INFO : topic #5 (0.100): 0.184*\"leave\" + 0.069*\"\" + 0.048*\"totally\" + 0.041*\"office\" + 0.030*\"seem\" + 0.027*\"many\" + 0.023*\"rating\" + 0.017*\"debt\" + 0.011*\"enter\" + 0.009*\"people\"\n",
      "2022-05-22 09:02:25,097 : INFO : topic #8 (0.100): 0.240*\"next\" + 0.092*\"state\" + 0.070*\"show\" + 0.067*\"help\" + 0.036*\"\" + 0.025*\"election\" + 0.024*\"step\" + 0.019*\"great\" + 0.016*\"people\" + 0.015*\"fraud\"\n",
      "2022-05-22 09:02:25,097 : INFO : topic #4 (0.100): 0.104*\"war\" + 0.073*\"\" + 0.059*\"ban\" + 0.053*\"hashtag\" + 0.047*\"new\" + 0.032*\"candidate\" + 0.025*\"obvious\" + 0.025*\"primary\" + 0.025*\"foreign\" + 0.021*\"create\"\n",
      "2022-05-22 09:02:25,098 : INFO : topic #2 (0.100): 0.091*\"fraud\" + 0.063*\"stop\" + 0.051*\"set\" + 0.045*\"\" + 0.040*\"story\" + 0.039*\"listen\" + 0.038*\"year\" + 0.035*\"ago\" + 0.034*\"new\" + 0.022*\"tell\"\n",
      "2022-05-22 09:02:25,098 : INFO : topic #3 (0.100): 0.000*\"\" + 0.000*\"trump\" + 0.000*\"vote\" + 0.000*\"police_collusion\" + 0.000*\"steal\" + 0.000*\"election\" + 0.000*\"wear_spoke\" + 0.000*\"founder_ali\" + 0.000*\"reject_motion\" + 0.000*\"lie\"\n",
      "2022-05-22 09:02:25,099 : INFO : topic diff=0.117475, rho=0.500000\n",
      "2022-05-22 09:02:25,100 : INFO : PROGRESS: pass 0, at document #10000/78648\n",
      "2022-05-22 09:02:25,451 : INFO : merging changes from 2000 documents into a model of 78648 documents\n",
      "2022-05-22 09:02:25,460 : INFO : topic #0 (0.100): 0.347*\"\" + 0.016*\"people\" + 0.013*\"election\" + 0.011*\"vote\" + 0.010*\"get\" + 0.009*\"come\" + 0.009*\"need\" + 0.008*\"say\" + 0.008*\"think\" + 0.007*\"big\"\n",
      "2022-05-22 09:02:25,462 : INFO : topic #4 (0.100): 0.108*\"new\" + 0.080*\"war\" + 0.064*\"ban\" + 0.054*\"\" + 0.047*\"create\" + 0.037*\"hashtag\" + 0.030*\"primary\" + 0.027*\"drop\" + 0.025*\"hand\" + 0.023*\"candidate\"\n",
      "2022-05-22 09:02:25,462 : INFO : topic #6 (0.100): 0.893*\"\" + 0.006*\"trump\" + 0.005*\"nancys_location\" + 0.005*\"cap\" + 0.005*\"inciter_tweete\" + 0.005*\"three_minute\" + 0.005*\"terrorists_stormed\" + 0.001*\"election\" + 0.001*\"rally\" + 0.001*\"steal\"\n",
      "2022-05-22 09:02:25,463 : INFO : topic #1 (0.100): 0.000*\"\" + 0.000*\"election\" + 0.000*\"police_collusion\" + 0.000*\"ashli\" + 0.000*\"babbitt\" + 0.000*\"like_travelle\" + 0.000*\"trump\" + 0.000*\"steal\" + 0.000*\"vote\" + 0.000*\"wear_spoke\"\n",
      "2022-05-22 09:02:25,463 : INFO : topic #7 (0.100): 0.000*\"\" + 0.000*\"election\" + 0.000*\"trump\" + 0.000*\"ashli\" + 0.000*\"babbitt\" + 0.000*\"like_travelle\" + 0.000*\"police_collusion\" + 0.000*\"steal\" + 0.000*\"reject_motion\" + 0.000*\"vote\"\n",
      "2022-05-22 09:02:25,464 : INFO : topic diff=0.158245, rho=0.447214\n",
      "2022-05-22 09:02:25,465 : INFO : PROGRESS: pass 0, at document #12000/78648\n",
      "2022-05-22 09:02:25,795 : INFO : merging changes from 2000 documents into a model of 78648 documents\n",
      "2022-05-22 09:02:25,803 : INFO : topic #8 (0.100): 0.105*\"next\" + 0.100*\"state\" + 0.091*\"show\" + 0.074*\"help\" + 0.055*\"great\" + 0.050*\"descend\" + 0.050*\"election\" + 0.036*\"people\" + 0.026*\"identify\" + 0.023*\"step\"\n",
      "2022-05-22 09:02:25,804 : INFO : topic #6 (0.100): 0.902*\"\" + 0.005*\"trump\" + 0.003*\"nancys_location\" + 0.003*\"cap\" + 0.003*\"inciter_tweete\" + 0.003*\"three_minute\" + 0.003*\"terrorists_stormed\" + 0.001*\"rally\" + 0.001*\"fight\" + 0.001*\"election\"\n",
      "2022-05-22 09:02:25,805 : INFO : topic #3 (0.100): 0.000*\"\" + 0.000*\"trump\" + 0.000*\"ashli\" + 0.000*\"stupidity_breathtake\" + 0.000*\"literally_many\" + 0.000*\"dangerous_event\" + 0.000*\"babbitt\" + 0.000*\"like_travelle\" + 0.000*\"vote\" + 0.000*\"police_collusion\"\n",
      "2022-05-22 09:02:25,805 : INFO : topic #9 (0.100): 0.000*\"\" + 0.000*\"election\" + 0.000*\"trump\" + 0.000*\"ashli\" + 0.000*\"police_collusion\" + 0.000*\"stupidity_breathtake\" + 0.000*\"literally_many\" + 0.000*\"dangerous_event\" + 0.000*\"babbitt\" + 0.000*\"like_travelle\"\n",
      "2022-05-22 09:02:25,806 : INFO : topic #7 (0.100): 0.000*\"\" + 0.000*\"election\" + 0.000*\"trump\" + 0.000*\"ashli\" + 0.000*\"stupidity_breathtake\" + 0.000*\"dangerous_event\" + 0.000*\"literally_many\" + 0.000*\"like_travelle\" + 0.000*\"babbitt\" + 0.000*\"police_collusion\"\n",
      "2022-05-22 09:02:25,807 : INFO : topic diff=0.092858, rho=0.408248\n",
      "2022-05-22 09:02:25,809 : INFO : PROGRESS: pass 0, at document #14000/78648\n",
      "2022-05-22 09:02:26,110 : INFO : merging changes from 2000 documents into a model of 78648 documents\n",
      "2022-05-22 09:02:26,120 : INFO : topic #5 (0.100): 0.267*\"leave\" + 0.053*\"office\" + 0.039*\"seem\" + 0.038*\"radical\" + 0.037*\"summer\" + 0.029*\"enter\" + 0.027*\"\" + 0.023*\"totally\" + 0.020*\"many\" + 0.017*\"bunch\"\n",
      "2022-05-22 09:02:26,121 : INFO : topic #0 (0.100): 0.301*\"\" + 0.020*\"election\" + 0.018*\"people\" + 0.015*\"vote\" + 0.011*\"get\" + 0.008*\"let\" + 0.007*\"right\" + 0.007*\"know\" + 0.007*\"protest\" + 0.007*\"steal\"\n",
      "2022-05-22 09:02:26,122 : INFO : topic #7 (0.100): 0.000*\"\" + 0.000*\"lawmakers_dont\" + 0.000*\"dangerous_event\" + 0.000*\"stupidity_breathtake\" + 0.000*\"literally_many\" + 0.000*\"protests_nation\" + 0.000*\"largest_peaceful\" + 0.000*\"election\" + 0.000*\"trump\" + 0.000*\"ashli\"\n",
      "2022-05-22 09:02:26,123 : INFO : topic #2 (0.100): 0.151*\"fraud\" + 0.095*\"stop\" + 0.076*\"year\" + 0.065*\"peaceful_protester\" + 0.061*\"listen\" + 0.045*\"thank\" + 0.041*\"time\" + 0.033*\"election\" + 0.031*\"ago\" + 0.030*\"set\"\n",
      "2022-05-22 09:02:26,123 : INFO : topic #8 (0.100): 0.180*\"descend\" + 0.104*\"people\" + 0.089*\"state\" + 0.084*\"show\" + 0.065*\"next\" + 0.054*\"help\" + 0.049*\"great\" + 0.030*\"election\" + 0.025*\"identify\" + 0.019*\"step\"\n",
      "2022-05-22 09:02:26,125 : INFO : topic diff=0.112241, rho=0.377964\n",
      "2022-05-22 09:02:26,126 : INFO : PROGRESS: pass 0, at document #16000/78648\n",
      "2022-05-22 09:02:26,440 : INFO : merging changes from 2000 documents into a model of 78648 documents\n",
      "2022-05-22 09:02:26,449 : INFO : topic #5 (0.100): 0.234*\"leave\" + 0.051*\"office\" + 0.044*\"seem\" + 0.037*\"enter\" + 0.035*\"radical\" + 0.031*\"summer\" + 0.022*\"\" + 0.021*\"totally\" + 0.015*\"many\" + 0.012*\"bunch\"\n",
      "2022-05-22 09:02:26,450 : INFO : topic #2 (0.100): 0.181*\"fraud\" + 0.102*\"stop\" + 0.070*\"year\" + 0.050*\"thank\" + 0.047*\"listen\" + 0.044*\"peaceful_protester\" + 0.041*\"time\" + 0.038*\"object\" + 0.034*\"election\" + 0.030*\"bullshit\"\n",
      "2022-05-22 09:02:26,451 : INFO : topic #1 (0.100): 0.000*\"\" + 0.000*\"lawmakers_dont\" + 0.000*\"fought_good\" + 0.000*\"leaders_nothe\" + 0.000*\"lawlessness\" + 0.000*\"laws_manipulate\" + 0.000*\"ignored_reject\" + 0.000*\"senate\" + 0.000*\"crowd_gather\" + 0.000*\"dangerous_event\"\n",
      "2022-05-22 09:02:26,451 : INFO : topic #7 (0.100): 0.000*\"\" + 0.000*\"lawmakers_dont\" + 0.000*\"fought_good\" + 0.000*\"leaders_nothe\" + 0.000*\"lawlessness\" + 0.000*\"laws_manipulate\" + 0.000*\"ignored_reject\" + 0.000*\"senate\" + 0.000*\"crowd_gather\" + 0.000*\"dangerous_event\"\n",
      "2022-05-22 09:02:26,452 : INFO : topic #9 (0.100): 0.000*\"\" + 0.000*\"lawmakers_dont\" + 0.000*\"fought_good\" + 0.000*\"leaders_nothe\" + 0.000*\"lawlessness\" + 0.000*\"laws_manipulate\" + 0.000*\"ignored_reject\" + 0.000*\"senate\" + 0.000*\"crowd_gather\" + 0.000*\"dangerous_event\"\n",
      "2022-05-22 09:02:26,453 : INFO : topic diff=0.067420, rho=0.353553\n",
      "2022-05-22 09:02:26,454 : INFO : PROGRESS: pass 0, at document #18000/78648\n",
      "2022-05-22 09:02:26,710 : INFO : merging changes from 2000 documents into a model of 78648 documents\n",
      "2022-05-22 09:02:26,718 : INFO : topic #6 (0.100): 0.923*\"\" + 0.003*\"trump\" + 0.002*\"fight\" + 0.002*\"today\" + 0.002*\"look\" + 0.001*\"race\" + 0.001*\"people\" + 0.001*\"rally\" + 0.001*\"patriot\" + 0.001*\"flight\"\n",
      "2022-05-22 09:02:26,718 : INFO : topic #0 (0.100): 0.278*\"\" + 0.029*\"vote\" + 0.029*\"election\" + 0.016*\"steal\" + 0.014*\"never\" + 0.014*\"right\" + 0.014*\"people\" + 0.013*\"stand\" + 0.012*\"gather\" + 0.012*\"count\"\n",
      "2022-05-22 09:02:26,719 : INFO : topic #9 (0.100): 0.000*\"\" + 0.000*\"wwg_wga\" + 0.000*\"leaders_nothe\" + 0.000*\"fought_good\" + 0.000*\"lawmakers_dont\" + 0.000*\"urges_republican\" + 0.000*\"two_mile\" + 0.000*\"line_hitte\" + 0.000*\"lawlessness\" + 0.000*\"ignored_reject\"\n",
      "2022-05-22 09:02:26,720 : INFO : topic #8 (0.100): 0.125*\"state\" + 0.101*\"people\" + 0.100*\"descend\" + 0.072*\"show\" + 0.067*\"great\" + 0.064*\"help\" + 0.058*\"next\" + 0.027*\"step\" + 0.024*\"election\" + 0.016*\"identify\"\n",
      "2022-05-22 09:02:26,720 : INFO : topic #7 (0.100): 0.000*\"\" + 0.000*\"wwg_wga\" + 0.000*\"leaders_nothe\" + 0.000*\"fought_good\" + 0.000*\"lawmakers_dont\" + 0.000*\"urges_republican\" + 0.000*\"line_hitte\" + 0.000*\"two_mile\" + 0.000*\"lawlessness\" + 0.000*\"ignored_reject\"\n",
      "2022-05-22 09:02:26,721 : INFO : topic diff=0.080831, rho=0.333333\n",
      "2022-05-22 09:02:27,083 : INFO : -1.522 per-word bound, 2.9 perplexity estimate based on a held-out corpus of 2000 documents with 68000 words\n",
      "2022-05-22 09:02:27,084 : INFO : PROGRESS: pass 0, at document #20000/78648\n",
      "2022-05-22 09:02:27,331 : INFO : merging changes from 2000 documents into a model of 78648 documents\n",
      "2022-05-22 09:02:27,339 : INFO : topic #9 (0.100): 0.000*\"\" + 0.000*\"overflowing_maga\" + 0.000*\"coalition\" + 0.000*\"wwg_wga\" + 0.000*\"leaders_nothe\" + 0.000*\"mcdaniel_worst\" + 0.000*\"fought_good\" + 0.000*\"lawmakers_dont\" + 0.000*\"urges_republican\" + 0.000*\"asked_personally\"\n",
      "2022-05-22 09:02:27,340 : INFO : topic #8 (0.100): 0.138*\"state\" + 0.086*\"people\" + 0.076*\"descend\" + 0.076*\"show\" + 0.069*\"great\" + 0.057*\"help\" + 0.048*\"next\" + 0.045*\"county\" + 0.025*\"step\" + 0.022*\"election\"\n",
      "2022-05-22 09:02:27,341 : INFO : topic #2 (0.100): 0.226*\"fraud\" + 0.151*\"stop\" + 0.051*\"year\" + 0.042*\"time\" + 0.039*\"object\" + 0.031*\"set\" + 0.030*\"thank\" + 0.029*\"listen\" + 0.028*\"voter\" + 0.025*\"bullshit\"\n",
      "2022-05-22 09:02:27,341 : INFO : topic #4 (0.100): 0.081*\"new\" + 0.060*\"candidate\" + 0.048*\"hand\" + 0.033*\"war\" + 0.032*\"big\" + 0.030*\"obvious\" + 0.029*\"create\" + 0.027*\"drop\" + 0.026*\"little\" + 0.018*\"\"\n",
      "2022-05-22 09:02:27,342 : INFO : topic #7 (0.100): 0.000*\"\" + 0.000*\"overflowing_maga\" + 0.000*\"coalition\" + 0.000*\"wwg_wga\" + 0.000*\"leaders_nothe\" + 0.000*\"mcdaniel_worst\" + 0.000*\"fought_good\" + 0.000*\"lawmakers_dont\" + 0.000*\"urges_republican\" + 0.000*\"speak_tomorrow\"\n",
      "2022-05-22 09:02:27,343 : INFO : topic diff=0.064262, rho=0.316228\n",
      "2022-05-22 09:02:27,344 : INFO : PROGRESS: pass 0, at document #22000/78648\n",
      "2022-05-22 09:02:27,581 : INFO : merging changes from 2000 documents into a model of 78648 documents\n",
      "2022-05-22 09:02:27,589 : INFO : topic #7 (0.100): 0.000*\"\" + 0.000*\"overflowing_maga\" + 0.000*\"coalition\" + 0.000*\"wwg_wga\" + 0.000*\"way_singe\" + 0.000*\"star_spangled\" + 0.000*\"banner\" + 0.000*\"mcdaniel_worst\" + 0.000*\"leaders_nothe\" + 0.000*\"fought_good\"\n",
      "2022-05-22 09:02:27,590 : INFO : topic #0 (0.100): 0.263*\"\" + 0.033*\"vote\" + 0.028*\"election\" + 0.017*\"steal\" + 0.015*\"tell\" + 0.015*\"count\" + 0.014*\"right\" + 0.013*\"never\" + 0.013*\"stand\" + 0.013*\"big\"\n",
      "2022-05-22 09:02:27,591 : INFO : topic #1 (0.100): 0.000*\"\" + 0.000*\"overflowing_maga\" + 0.000*\"coalition\" + 0.000*\"wwg_wga\" + 0.000*\"way_singe\" + 0.000*\"star_spangled\" + 0.000*\"banner\" + 0.000*\"mcdaniel_worst\" + 0.000*\"leaders_nothe\" + 0.000*\"fought_good\"\n",
      "2022-05-22 09:02:27,591 : INFO : topic #3 (0.100): 0.000*\"\" + 0.000*\"overflowing_maga\" + 0.000*\"coalition\" + 0.000*\"wwg_wga\" + 0.000*\"way_singe\" + 0.000*\"star_spangled\" + 0.000*\"banner\" + 0.000*\"mcdaniel_worst\" + 0.000*\"leaders_nothe\" + 0.000*\"fought_good\"\n",
      "2022-05-22 09:02:27,592 : INFO : topic #9 (0.100): 0.000*\"\" + 0.000*\"overflowing_maga\" + 0.000*\"coalition\" + 0.000*\"wwg_wga\" + 0.000*\"way_singe\" + 0.000*\"star_spangled\" + 0.000*\"banner\" + 0.000*\"mcdaniel_worst\" + 0.000*\"leaders_nothe\" + 0.000*\"fought_good\"\n",
      "2022-05-22 09:02:27,593 : INFO : topic diff=0.054935, rho=0.301511\n",
      "2022-05-22 09:02:27,594 : INFO : PROGRESS: pass 0, at document #24000/78648\n",
      "2022-05-22 09:02:27,836 : INFO : merging changes from 2000 documents into a model of 78648 documents\n",
      "2022-05-22 09:02:27,843 : INFO : topic #3 (0.100): 0.000*\"\" + 0.000*\"overflowing_maga\" + 0.000*\"nuestro_gran\" + 0.000*\"grupo_senadore\" + 0.000*\"que_unieron\" + 0.000*\"coalition\" + 0.000*\"friend_stopped\" + 0.000*\"grateful_old\" + 0.000*\"fighting_believe\" + 0.000*\"wwg_wga\"\n",
      "2022-05-22 09:02:27,844 : INFO : topic #9 (0.100): 0.000*\"\" + 0.000*\"overflowing_maga\" + 0.000*\"nuestro_gran\" + 0.000*\"grupo_senadore\" + 0.000*\"que_unieron\" + 0.000*\"coalition\" + 0.000*\"fighting_believe\" + 0.000*\"grateful_old\" + 0.000*\"friend_stopped\" + 0.000*\"wwg_wga\"\n",
      "2022-05-22 09:02:27,845 : INFO : topic #0 (0.100): 0.256*\"\" + 0.033*\"vote\" + 0.029*\"election\" + 0.016*\"steal\" + 0.015*\"count\" + 0.014*\"right\" + 0.013*\"tell\" + 0.013*\"never\" + 0.012*\"stand\" + 0.011*\"big\"\n",
      "2022-05-22 09:02:27,846 : INFO : topic #7 (0.100): 0.000*\"\" + 0.000*\"overflowing_maga\" + 0.000*\"nuestro_gran\" + 0.000*\"que_unieron\" + 0.000*\"grupo_senadore\" + 0.000*\"coalition\" + 0.000*\"friend_stopped\" + 0.000*\"grateful_old\" + 0.000*\"fighting_believe\" + 0.000*\"wwg_wga\"\n",
      "2022-05-22 09:02:27,846 : INFO : topic #5 (0.100): 0.157*\"leave\" + 0.046*\"seem\" + 0.039*\"office\" + 0.030*\"effo\" + 0.022*\"bunch\" + 0.021*\"area\" + 0.019*\"radical\" + 0.018*\"enter\" + 0.015*\"totally\" + 0.015*\"generation\"\n",
      "2022-05-22 09:02:27,848 : INFO : topic diff=0.046320, rho=0.288675\n",
      "2022-05-22 09:02:27,848 : INFO : PROGRESS: pass 0, at document #26000/78648\n",
      "2022-05-22 09:02:28,093 : INFO : merging changes from 2000 documents into a model of 78648 documents\n",
      "2022-05-22 09:02:28,102 : INFO : topic #0 (0.100): 0.245*\"\" + 0.035*\"vote\" + 0.033*\"election\" + 0.017*\"steal\" + 0.016*\"right\" + 0.014*\"count\" + 0.013*\"get\" + 0.013*\"never\" + 0.012*\"stand\" + 0.012*\"people\"\n",
      "2022-05-22 09:02:28,103 : INFO : topic #2 (0.100): 0.203*\"stop\" + 0.192*\"fraud\" + 0.061*\"real_meane\" + 0.061*\"accomplice\" + 0.055*\"voter\" + 0.052*\"object\" + 0.035*\"year\" + 0.022*\"election\" + 0.022*\"listen\" + 0.021*\"time\"\n",
      "2022-05-22 09:02:28,103 : INFO : topic #4 (0.100): 0.066*\"concern\" + 0.062*\"primary\" + 0.047*\"new\" + 0.040*\"hashtag\" + 0.031*\"hand\" + 0.030*\"runner\" + 0.026*\"candidate\" + 0.026*\"war\" + 0.024*\"little\" + 0.024*\"create\"\n",
      "2022-05-22 09:02:28,104 : INFO : topic #7 (0.100): 0.000*\"\" + 0.000*\"overflowing_maga\" + 0.000*\"nuestro_gran\" + 0.000*\"grupo_senadore\" + 0.000*\"que_unieron\" + 0.000*\"thank_canada\" + 0.000*\"car_parade\" + 0.000*\"maps_blocking\" + 0.000*\"directions_ahead\" + 0.000*\"breaking_apple\"\n",
      "2022-05-22 09:02:28,105 : INFO : topic #3 (0.100): 0.000*\"\" + 0.000*\"overflowing_maga\" + 0.000*\"nuestro_gran\" + 0.000*\"grupo_senadore\" + 0.000*\"que_unieron\" + 0.000*\"thank_canada\" + 0.000*\"car_parade\" + 0.000*\"breaking_apple\" + 0.000*\"maps_blocking\" + 0.000*\"directions_ahead\"\n",
      "2022-05-22 09:02:28,106 : INFO : topic diff=0.104604, rho=0.277350\n",
      "2022-05-22 09:02:28,107 : INFO : PROGRESS: pass 0, at document #28000/78648\n",
      "2022-05-22 09:02:28,339 : INFO : merging changes from 2000 documents into a model of 78648 documents\n",
      "2022-05-22 09:02:28,347 : INFO : topic #2 (0.100): 0.207*\"fraud\" + 0.187*\"stop\" + 0.065*\"voter\" + 0.063*\"accomplice\" + 0.058*\"real_meane\" + 0.056*\"object\" + 0.047*\"year\" + 0.022*\"election\" + 0.017*\"thank\" + 0.016*\"time\"\n",
      "2022-05-22 09:02:28,348 : INFO : topic #6 (0.100): 0.923*\"\" + 0.004*\"rally\" + 0.004*\"trump\" + 0.003*\"live\" + 0.003*\"pre\" + 0.003*\"coalition\" + 0.002*\"patriot\" + 0.002*\"flight\" + 0.002*\"president\" + 0.002*\"got_kicke\"\n",
      "2022-05-22 09:02:28,349 : INFO : topic #9 (0.100): 0.000*\"\" + 0.000*\"speak_supp\" + 0.000*\"combat_vet\" + 0.000*\"event_aske\" + 0.000*\"week_march\" + 0.000*\"refused_black\" + 0.000*\"calling_national\" + 0.000*\"lives_matte\" + 0.000*\"news_station\" + 0.000*\"car_parade\"\n",
      "2022-05-22 09:02:28,349 : INFO : topic #4 (0.100): 0.072*\"primary\" + 0.060*\"new\" + 0.052*\"concern\" + 0.031*\"hashtag\" + 0.030*\"hand\" + 0.026*\"candidate\" + 0.026*\"war\" + 0.024*\"runner\" + 0.023*\"obvious\" + 0.022*\"little\"\n",
      "2022-05-22 09:02:28,350 : INFO : topic #7 (0.100): 0.000*\"\" + 0.000*\"event_aske\" + 0.000*\"combat_vet\" + 0.000*\"speak_supp\" + 0.000*\"week_march\" + 0.000*\"refused_black\" + 0.000*\"calling_national\" + 0.000*\"lives_matte\" + 0.000*\"news_station\" + 0.000*\"thank_canada\"\n",
      "2022-05-22 09:02:28,351 : INFO : topic diff=0.071712, rho=0.267261\n",
      "2022-05-22 09:02:28,351 : INFO : PROGRESS: pass 0, at document #30000/78648\n",
      "2022-05-22 09:02:28,613 : INFO : merging changes from 2000 documents into a model of 78648 documents\n",
      "2022-05-22 09:02:28,623 : INFO : topic #9 (0.100): 0.000*\"\" + 0.000*\"lives_matte\" + 0.000*\"calling_national\" + 0.000*\"refused_black\" + 0.000*\"event_aske\" + 0.000*\"combat_vet\" + 0.000*\"speak_supp\" + 0.000*\"week_march\" + 0.000*\"news_station\" + 0.000*\"scotus_schedule\"\n",
      "2022-05-22 09:02:28,624 : INFO : topic #2 (0.100): 0.203*\"fraud\" + 0.161*\"stop\" + 0.088*\"object\" + 0.060*\"voter\" + 0.047*\"year\" + 0.046*\"accomplice\" + 0.043*\"real_meane\" + 0.035*\"thank\" + 0.023*\"election\" + 0.019*\"listen\"\n",
      "2022-05-22 09:02:28,625 : INFO : topic #8 (0.100): 0.223*\"state\" + 0.117*\"great\" + 0.087*\"help\" + 0.084*\"show\" + 0.038*\"next\" + 0.032*\"people\" + 0.028*\"step\" + 0.023*\"county\" + 0.017*\"descend\" + 0.013*\"governor\"\n",
      "2022-05-22 09:02:28,626 : INFO : topic #7 (0.100): 0.000*\"\" + 0.000*\"lives_matte\" + 0.000*\"calling_national\" + 0.000*\"refused_black\" + 0.000*\"combat_vet\" + 0.000*\"speak_supp\" + 0.000*\"event_aske\" + 0.000*\"week_march\" + 0.000*\"news_station\" + 0.000*\"hearing_lawsuit\"\n",
      "2022-05-22 09:02:28,627 : INFO : topic #4 (0.100): 0.083*\"new\" + 0.059*\"primary\" + 0.041*\"concern\" + 0.036*\"candidate\" + 0.033*\"war\" + 0.030*\"little\" + 0.027*\"hand\" + 0.026*\"hashtag\" + 0.025*\"obvious\" + 0.024*\"drop\"\n",
      "2022-05-22 09:02:28,629 : INFO : topic diff=0.045409, rho=0.258199\n",
      "2022-05-22 09:02:28,630 : INFO : PROGRESS: pass 0, at document #32000/78648\n",
      "2022-05-22 09:02:28,878 : INFO : merging changes from 2000 documents into a model of 78648 documents\n",
      "2022-05-22 09:02:28,887 : INFO : topic #2 (0.100): 0.235*\"fraud\" + 0.153*\"stop\" + 0.075*\"object\" + 0.061*\"voter\" + 0.041*\"year\" + 0.036*\"accomplice\" + 0.033*\"real_meane\" + 0.033*\"thank\" + 0.024*\"election\" + 0.023*\"listen\"\n",
      "2022-05-22 09:02:28,888 : INFO : topic #9 (0.100): 0.000*\"\" + 0.000*\"lives_matte\" + 0.000*\"refused_black\" + 0.000*\"calling_national\" + 0.000*\"event_aske\" + 0.000*\"speak_supp\" + 0.000*\"combat_vet\" + 0.000*\"week_march\" + 0.000*\"news_station\" + 0.000*\"hopefully_find\"\n",
      "2022-05-22 09:02:28,889 : INFO : topic #4 (0.100): 0.103*\"new\" + 0.058*\"primary\" + 0.035*\"concern\" + 0.032*\"war\" + 0.030*\"hand\" + 0.029*\"candidate\" + 0.026*\"little\" + 0.023*\"obvious\" + 0.020*\"hashtag\" + 0.019*\"drop\"\n",
      "2022-05-22 09:02:28,889 : INFO : topic #8 (0.100): 0.219*\"state\" + 0.115*\"great\" + 0.107*\"show\" + 0.075*\"help\" + 0.033*\"next\" + 0.029*\"people\" + 0.026*\"county\" + 0.022*\"step\" + 0.013*\"descend\" + 0.012*\"governor\"\n",
      "2022-05-22 09:02:28,890 : INFO : topic #5 (0.100): 0.137*\"area\" + 0.117*\"leave\" + 0.055*\"office\" + 0.042*\"seem\" + 0.032*\"totally\" + 0.026*\"effo\" + 0.021*\"bunch\" + 0.018*\"summer\" + 0.015*\"radical\" + 0.012*\"generation\"\n",
      "2022-05-22 09:02:28,893 : INFO : topic diff=0.046797, rho=0.250000\n",
      "2022-05-22 09:02:28,894 : INFO : PROGRESS: pass 0, at document #34000/78648\n",
      "2022-05-22 09:02:29,123 : INFO : merging changes from 2000 documents into a model of 78648 documents\n",
      "2022-05-22 09:02:29,132 : INFO : topic #1 (0.100): 0.000*\"\" + 0.000*\"lives_matte\" + 0.000*\"calling_national\" + 0.000*\"refused_black\" + 0.000*\"event_aske\" + 0.000*\"combat_vet\" + 0.000*\"speak_supp\" + 0.000*\"week_march\" + 0.000*\"allowed_look\" + 0.000*\"afford_trip\"\n",
      "2022-05-22 09:02:29,134 : INFO : topic #6 (0.100): 0.927*\"\" + 0.005*\"rally\" + 0.004*\"trump\" + 0.003*\"pro\" + 0.002*\"january\" + 0.002*\"lives_matte\" + 0.002*\"refused_black\" + 0.002*\"calling_national\" + 0.002*\"live\" + 0.002*\"president\"\n",
      "2022-05-22 09:02:29,134 : INFO : topic #3 (0.100): 0.000*\"\" + 0.000*\"lives_matte\" + 0.000*\"refused_black\" + 0.000*\"calling_national\" + 0.000*\"event_aske\" + 0.000*\"speak_supp\" + 0.000*\"combat_vet\" + 0.000*\"week_march\" + 0.000*\"allowed_look\" + 0.000*\"afford_trip\"\n",
      "2022-05-22 09:02:29,135 : INFO : topic #2 (0.100): 0.258*\"fraud\" + 0.130*\"stop\" + 0.078*\"voter\" + 0.059*\"object\" + 0.041*\"year\" + 0.037*\"listen\" + 0.031*\"election\" + 0.028*\"thank\" + 0.023*\"accomplice\" + 0.021*\"real_meane\"\n",
      "2022-05-22 09:02:29,136 : INFO : topic #9 (0.100): 0.000*\"\" + 0.000*\"lives_matte\" + 0.000*\"calling_national\" + 0.000*\"refused_black\" + 0.000*\"combat_vet\" + 0.000*\"event_aske\" + 0.000*\"speak_supp\" + 0.000*\"week_march\" + 0.000*\"allowed_look\" + 0.000*\"afford_trip\"\n",
      "2022-05-22 09:02:29,137 : INFO : topic diff=0.079714, rho=0.242536\n",
      "2022-05-22 09:02:29,138 : INFO : PROGRESS: pass 0, at document #36000/78648\n",
      "2022-05-22 09:02:29,374 : INFO : merging changes from 2000 documents into a model of 78648 documents\n",
      "2022-05-22 09:02:29,383 : INFO : topic #6 (0.100): 0.933*\"\" + 0.004*\"rally\" + 0.003*\"trump\" + 0.002*\"pro\" + 0.002*\"january\" + 0.001*\"president\" + 0.001*\"lives_matte\" + 0.001*\"refused_black\" + 0.001*\"calling_national\" + 0.001*\"live\"\n",
      "2022-05-22 09:02:29,383 : INFO : topic #5 (0.100): 0.115*\"leave\" + 0.078*\"area\" + 0.076*\"office\" + 0.059*\"seem\" + 0.057*\"radical\" + 0.044*\"effo\" + 0.025*\"totally\" + 0.018*\"bunch\" + 0.013*\"suffer\" + 0.012*\"generation\"\n",
      "2022-05-22 09:02:29,384 : INFO : topic #4 (0.100): 0.114*\"new\" + 0.071*\"primary\" + 0.043*\"hand\" + 0.042*\"little\" + 0.033*\"obvious\" + 0.031*\"candidate\" + 0.029*\"war\" + 0.026*\"foreign\" + 0.025*\"concern\" + 0.017*\"create\"\n",
      "2022-05-22 09:02:29,385 : INFO : topic #8 (0.100): 0.224*\"state\" + 0.149*\"show\" + 0.113*\"great\" + 0.078*\"help\" + 0.040*\"next\" + 0.029*\"step\" + 0.021*\"county\" + 0.017*\"people\" + 0.012*\"governor\" + 0.012*\"receive\"\n",
      "2022-05-22 09:02:29,385 : INFO : topic #2 (0.100): 0.264*\"fraud\" + 0.134*\"stop\" + 0.080*\"voter\" + 0.055*\"object\" + 0.054*\"election\" + 0.036*\"year\" + 0.030*\"listen\" + 0.025*\"thank\" + 0.016*\"accomplice\" + 0.015*\"real_meane\"\n",
      "2022-05-22 09:02:29,386 : INFO : topic diff=0.051469, rho=0.235702\n",
      "2022-05-22 09:02:29,387 : INFO : PROGRESS: pass 0, at document #38000/78648\n",
      "2022-05-22 09:02:29,623 : INFO : merging changes from 2000 documents into a model of 78648 documents\n",
      "2022-05-22 09:02:29,632 : INFO : topic #9 (0.100): 0.000*\"everyone_involved\" + 0.000*\"fullest_extent\" + 0.000*\"mess_prosecuted\" + 0.000*\"\" + 0.000*\"lives_matte\" + 0.000*\"calling_national\" + 0.000*\"refused_black\" + 0.000*\"allowed_look\" + 0.000*\"afford_trip\" + 0.000*\"running_set\"\n",
      "2022-05-22 09:02:29,634 : INFO : topic #2 (0.100): 0.239*\"fraud\" + 0.129*\"stop\" + 0.075*\"voter\" + 0.061*\"object\" + 0.054*\"election\" + 0.048*\"compromise\" + 0.036*\"year\" + 0.027*\"listen\" + 0.026*\"thank\" + 0.023*\"someone_page\"\n",
      "2022-05-22 09:02:29,634 : INFO : topic #3 (0.100): 0.000*\"\" + 0.000*\"fullest_extent\" + 0.000*\"everyone_involved\" + 0.000*\"mess_prosecuted\" + 0.000*\"lives_matte\" + 0.000*\"calling_national\" + 0.000*\"refused_black\" + 0.000*\"allowed_look\" + 0.000*\"afford_trip\" + 0.000*\"fundraiser_able\"\n",
      "2022-05-22 09:02:29,635 : INFO : topic #7 (0.100): 0.000*\"mess_prosecuted\" + 0.000*\"fullest_extent\" + 0.000*\"everyone_involved\" + 0.000*\"\" + 0.000*\"lives_matte\" + 0.000*\"calling_national\" + 0.000*\"refused_black\" + 0.000*\"allowed_look\" + 0.000*\"afford_trip\" + 0.000*\"fundraiser_able\"\n",
      "2022-05-22 09:02:29,635 : INFO : topic #8 (0.100): 0.223*\"state\" + 0.167*\"show\" + 0.113*\"great\" + 0.073*\"help\" + 0.045*\"next\" + 0.034*\"step\" + 0.020*\"county\" + 0.015*\"people\" + 0.013*\"pressure\" + 0.009*\"governor\"\n",
      "2022-05-22 09:02:29,637 : INFO : topic diff=0.034565, rho=0.229416\n",
      "2022-05-22 09:02:30,002 : INFO : -1.685 per-word bound, 3.2 perplexity estimate based on a held-out corpus of 2000 documents with 68000 words\n",
      "2022-05-22 09:02:30,003 : INFO : PROGRESS: pass 0, at document #40000/78648\n",
      "2022-05-22 09:02:30,246 : INFO : merging changes from 2000 documents into a model of 78648 documents\n",
      "2022-05-22 09:02:30,255 : INFO : topic #3 (0.100): 0.000*\"\" + 0.000*\"mess_prosecuted\" + 0.000*\"everyone_involved\" + 0.000*\"fullest_extent\" + 0.000*\"lives_matte\" + 0.000*\"refused_black\" + 0.000*\"calling_national\" + 0.000*\"allowed_look\" + 0.000*\"audits_done\" + 0.000*\"audits_fake\"\n",
      "2022-05-22 09:02:30,256 : INFO : topic #0 (0.100): 0.190*\"\" + 0.036*\"vote\" + 0.035*\"election\" + 0.019*\"steal\" + 0.017*\"right\" + 0.015*\"big\" + 0.015*\"go\" + 0.015*\"never\" + 0.015*\"paper_ballot\" + 0.015*\"stand\"\n",
      "2022-05-22 09:02:30,256 : INFO : topic #7 (0.100): 0.000*\"everyone_involved\" + 0.000*\"mess_prosecuted\" + 0.000*\"fullest_extent\" + 0.000*\"\" + 0.000*\"lives_matte\" + 0.000*\"refused_black\" + 0.000*\"calling_national\" + 0.000*\"allowed_look\" + 0.000*\"audits_done\" + 0.000*\"audits_fake\"\n",
      "2022-05-22 09:02:30,257 : INFO : topic #2 (0.100): 0.187*\"fraud\" + 0.159*\"stop\" + 0.076*\"someone_page\" + 0.076*\"diego_airpo\" + 0.074*\"voter\" + 0.050*\"object\" + 0.044*\"election\" + 0.037*\"year\" + 0.033*\"compromise\" + 0.019*\"listen\"\n",
      "2022-05-22 09:02:30,258 : INFO : topic #1 (0.100): 0.000*\"\" + 0.000*\"fullest_extent\" + 0.000*\"everyone_involved\" + 0.000*\"mess_prosecuted\" + 0.000*\"lives_matte\" + 0.000*\"refused_black\" + 0.000*\"calling_national\" + 0.000*\"allowed_look\" + 0.000*\"audits_done\" + 0.000*\"crooks_politician\"\n",
      "2022-05-22 09:02:30,259 : INFO : topic diff=0.051209, rho=0.223607\n",
      "2022-05-22 09:02:30,260 : INFO : PROGRESS: pass 0, at document #42000/78648\n",
      "2022-05-22 09:02:30,502 : INFO : merging changes from 2000 documents into a model of 78648 documents\n",
      "2022-05-22 09:02:30,511 : INFO : topic #1 (0.100): 0.000*\"\" + 0.000*\"mess_prosecuted\" + 0.000*\"fullest_extent\" + 0.000*\"everyone_involved\" + 0.000*\"lives_matte\" + 0.000*\"refused_black\" + 0.000*\"calling_national\" + 0.000*\"allowed_look\" + 0.000*\"audits_done\" + 0.000*\"crooks_politician\"\n",
      "2022-05-22 09:02:30,512 : INFO : topic #0 (0.100): 0.187*\"\" + 0.037*\"election\" + 0.037*\"vote\" + 0.022*\"steal\" + 0.019*\"right\" + 0.017*\"never\" + 0.017*\"count\" + 0.016*\"stand\" + 0.015*\"president\" + 0.014*\"go\"\n",
      "2022-05-22 09:02:30,514 : INFO : topic #9 (0.100): 0.000*\"everyone_involved\" + 0.000*\"mess_prosecuted\" + 0.000*\"fullest_extent\" + 0.000*\"\" + 0.000*\"lives_matte\" + 0.000*\"calling_national\" + 0.000*\"refused_black\" + 0.000*\"allowed_look\" + 0.000*\"audits_done\" + 0.000*\"crooks_politician\"\n",
      "2022-05-22 09:02:30,515 : INFO : topic #6 (0.100): 0.945*\"\" + 0.002*\"trump\" + 0.002*\"rally\" + 0.002*\"people\" + 0.001*\"go\" + 0.001*\"president\" + 0.001*\"organizer_alexander\" + 0.001*\"says_millio\" + 0.001*\"accept\" + 0.001*\"pro\"\n",
      "2022-05-22 09:02:30,515 : INFO : topic #8 (0.100): 0.303*\"state\" + 0.119*\"show\" + 0.092*\"great\" + 0.064*\"help\" + 0.036*\"next\" + 0.032*\"step\" + 0.023*\"pressure\" + 0.022*\"county\" + 0.015*\"people\" + 0.009*\"local\"\n",
      "2022-05-22 09:02:30,517 : INFO : topic diff=0.076025, rho=0.218218\n",
      "2022-05-22 09:02:30,518 : INFO : PROGRESS: pass 0, at document #44000/78648\n",
      "2022-05-22 09:02:30,722 : INFO : merging changes from 2000 documents into a model of 78648 documents\n",
      "2022-05-22 09:02:30,730 : INFO : topic #9 (0.100): 0.000*\"mess_prosecuted\" + 0.000*\"fullest_extent\" + 0.000*\"everyone_involved\" + 0.000*\"\" + 0.000*\"something_brewe\" + 0.000*\"lives_matte\" + 0.000*\"calling_national\" + 0.000*\"refused_black\" + 0.000*\"allowed_look\" + 0.000*\"be\"\n",
      "2022-05-22 09:02:30,731 : INFO : topic #2 (0.100): 0.209*\"stop\" + 0.157*\"diego_airpo\" + 0.157*\"someone_page\" + 0.133*\"fraud\" + 0.044*\"year\" + 0.042*\"voter\" + 0.026*\"object\" + 0.025*\"election\" + 0.016*\"compromise\" + 0.012*\"story\"\n",
      "2022-05-22 09:02:30,731 : INFO : topic #0 (0.100): 0.184*\"\" + 0.037*\"election\" + 0.035*\"vote\" + 0.020*\"steal\" + 0.018*\"right\" + 0.018*\"never\" + 0.016*\"stand\" + 0.015*\"count\" + 0.015*\"president\" + 0.014*\"make\"\n",
      "2022-05-22 09:02:30,732 : INFO : topic #1 (0.100): 0.000*\"\" + 0.000*\"mess_prosecuted\" + 0.000*\"everyone_involved\" + 0.000*\"fullest_extent\" + 0.000*\"something_brewe\" + 0.000*\"lives_matte\" + 0.000*\"refused_black\" + 0.000*\"calling_national\" + 0.000*\"allowed_look\" + 0.000*\"be\"\n",
      "2022-05-22 09:02:30,733 : INFO : topic #6 (0.100): 0.948*\"\" + 0.002*\"people\" + 0.002*\"go\" + 0.002*\"trump\" + 0.002*\"rally\" + 0.002*\"organizer_alexander\" + 0.002*\"says_millio\" + 0.001*\"president\" + 0.001*\"patriot\" + 0.001*\"accept\"\n",
      "2022-05-22 09:02:30,734 : INFO : topic diff=0.045797, rho=0.213201\n",
      "2022-05-22 09:02:30,735 : INFO : PROGRESS: pass 0, at document #46000/78648\n",
      "2022-05-22 09:02:30,940 : INFO : merging changes from 2000 documents into a model of 78648 documents\n",
      "2022-05-22 09:02:30,949 : INFO : topic #7 (0.100): 0.000*\"conference\" + 0.000*\"mess_prosecuted\" + 0.000*\"fullest_extent\" + 0.000*\"everyone_involved\" + 0.000*\"\" + 0.000*\"something_brewe\" + 0.000*\"lives_matte\" + 0.000*\"refused_black\" + 0.000*\"calling_national\" + 0.000*\"com\"\n",
      "2022-05-22 09:02:30,950 : INFO : topic #1 (0.100): 0.000*\"conference\" + 0.000*\"\" + 0.000*\"everyone_involved\" + 0.000*\"mess_prosecuted\" + 0.000*\"fullest_extent\" + 0.000*\"something_brewe\" + 0.000*\"lives_matte\" + 0.000*\"refused_black\" + 0.000*\"calling_national\" + 0.000*\"com\"\n",
      "2022-05-22 09:02:30,950 : INFO : topic #0 (0.100): 0.180*\"\" + 0.036*\"election\" + 0.033*\"vote\" + 0.018*\"steal\" + 0.018*\"never\" + 0.016*\"right\" + 0.014*\"stand\" + 0.014*\"count\" + 0.014*\"make\" + 0.013*\"president\"\n",
      "2022-05-22 09:02:30,951 : INFO : topic #6 (0.100): 0.945*\"\" + 0.003*\"trump\" + 0.002*\"live\" + 0.002*\"elector\" + 0.002*\"coalition\" + 0.002*\"watch\" + 0.002*\"people\" + 0.001*\"go\" + 0.001*\"rally\" + 0.001*\"organizer_alexander\"\n",
      "2022-05-22 09:02:30,952 : INFO : topic #9 (0.100): 0.000*\"conference\" + 0.000*\"fullest_extent\" + 0.000*\"everyone_involved\" + 0.000*\"mess_prosecuted\" + 0.000*\"\" + 0.000*\"something_brewe\" + 0.000*\"lives_matte\" + 0.000*\"calling_national\" + 0.000*\"refused_black\" + 0.000*\"com\"\n",
      "2022-05-22 09:02:30,953 : INFO : topic diff=0.038701, rho=0.208514\n",
      "2022-05-22 09:02:30,954 : INFO : PROGRESS: pass 0, at document #48000/78648\n",
      "2022-05-22 09:02:31,187 : INFO : merging changes from 2000 documents into a model of 78648 documents\n",
      "2022-05-22 09:02:31,195 : INFO : topic #8 (0.100): 0.261*\"state\" + 0.129*\"show\" + 0.094*\"great\" + 0.062*\"help\" + 0.043*\"step\" + 0.037*\"next\" + 0.031*\"county\" + 0.014*\"pressure\" + 0.011*\"people\" + 0.009*\"receive\"\n",
      "2022-05-22 09:02:31,196 : INFO : topic #6 (0.100): 0.944*\"\" + 0.004*\"trump\" + 0.003*\"elector\" + 0.003*\"watch\" + 0.003*\"coalition\" + 0.002*\"live\" + 0.001*\"people\" + 0.001*\"go\" + 0.001*\"rally\" + 0.001*\"organizer_alexander\"\n",
      "2022-05-22 09:02:31,197 : INFO : topic #2 (0.100): 0.190*\"stop\" + 0.155*\"fraud\" + 0.124*\"diego_airpo\" + 0.124*\"someone_page\" + 0.046*\"voter\" + 0.043*\"year\" + 0.032*\"rsbn\" + 0.027*\"election\" + 0.022*\"object\" + 0.021*\"thank\"\n",
      "2022-05-22 09:02:31,197 : INFO : topic #5 (0.100): 0.145*\"leave\" + 0.074*\"office\" + 0.050*\"seem\" + 0.028*\"radical\" + 0.027*\"area\" + 0.026*\"effo\" + 0.018*\"bunch\" + 0.016*\"rudy\" + 0.015*\"totally\" + 0.008*\"fully\"\n",
      "2022-05-22 09:02:31,198 : INFO : topic #3 (0.100): 0.000*\"conference\" + 0.000*\"member_elect\" + 0.000*\"\" + 0.000*\"mess_prosecuted\" + 0.000*\"fullest_extent\" + 0.000*\"everyone_involved\" + 0.000*\"joined_tea\" + 0.000*\"something_brewe\" + 0.000*\"lives_matte\" + 0.000*\"calling_national\"\n",
      "2022-05-22 09:02:31,199 : INFO : topic diff=0.036310, rho=0.204124\n",
      "2022-05-22 09:02:31,200 : INFO : PROGRESS: pass 0, at document #50000/78648\n",
      "2022-05-22 09:02:31,416 : INFO : merging changes from 2000 documents into a model of 78648 documents\n",
      "2022-05-22 09:02:31,425 : INFO : topic #8 (0.100): 0.247*\"state\" + 0.125*\"show\" + 0.095*\"great\" + 0.066*\"help\" + 0.039*\"next\" + 0.034*\"step\" + 0.027*\"county\" + 0.013*\"level\" + 0.012*\"governor\" + 0.011*\"prevent\"\n",
      "2022-05-22 09:02:31,425 : INFO : topic #9 (0.100): 0.000*\"conference\" + 0.000*\"member_elect\" + 0.000*\"constitutional_responsibility\" + 0.000*\"fullest_extent\" + 0.000*\"mess_prosecuted\" + 0.000*\"everyone_involved\" + 0.000*\"\" + 0.000*\"joined_tea\" + 0.000*\"lankford\" + 0.000*\"something_brewe\"\n",
      "2022-05-22 09:02:31,426 : INFO : topic #0 (0.100): 0.171*\"\" + 0.042*\"election\" + 0.031*\"vote\" + 0.020*\"never\" + 0.019*\"steal\" + 0.016*\"right\" + 0.015*\"stand\" + 0.015*\"count\" + 0.013*\"know\" + 0.013*\"president\"\n",
      "2022-05-22 09:02:31,427 : INFO : topic #2 (0.100): 0.184*\"stop\" + 0.177*\"fraud\" + 0.106*\"someone_page\" + 0.106*\"diego_airpo\" + 0.059*\"voter\" + 0.041*\"year\" + 0.031*\"rsbn\" + 0.030*\"election\" + 0.025*\"object\" + 0.021*\"thank\"\n",
      "2022-05-22 09:02:31,427 : INFO : topic #3 (0.100): 0.000*\"conference\" + 0.000*\"member_elect\" + 0.000*\"constitutional_responsibility\" + 0.000*\"\" + 0.000*\"everyone_involved\" + 0.000*\"mess_prosecuted\" + 0.000*\"fullest_extent\" + 0.000*\"joined_tea\" + 0.000*\"lankford\" + 0.000*\"something_brewe\"\n",
      "2022-05-22 09:02:31,429 : INFO : topic diff=0.035026, rho=0.200000\n",
      "2022-05-22 09:02:31,429 : INFO : PROGRESS: pass 0, at document #52000/78648\n",
      "2022-05-22 09:02:31,641 : INFO : merging changes from 2000 documents into a model of 78648 documents\n",
      "2022-05-22 09:02:31,649 : INFO : topic #7 (0.100): 0.000*\"conference\" + 0.000*\"member_elect\" + 0.000*\"constitutional_responsibility\" + 0.000*\"mess_prosecuted\" + 0.000*\"fullest_extent\" + 0.000*\"everyone_involved\" + 0.000*\"\" + 0.000*\"joined_tea\" + 0.000*\"lankford\" + 0.000*\"something_brewe\"\n",
      "2022-05-22 09:02:31,650 : INFO : topic #1 (0.100): 0.000*\"conference\" + 0.000*\"member_elect\" + 0.000*\"constitutional_responsibility\" + 0.000*\"\" + 0.000*\"mess_prosecuted\" + 0.000*\"fullest_extent\" + 0.000*\"everyone_involved\" + 0.000*\"joined_tea\" + 0.000*\"lankford\" + 0.000*\"something_brewe\"\n",
      "2022-05-22 09:02:31,651 : INFO : topic #6 (0.100): 0.949*\"\" + 0.003*\"trump\" + 0.002*\"elector\" + 0.002*\"watch\" + 0.002*\"live\" + 0.002*\"coalition\" + 0.001*\"people\" + 0.001*\"fight\" + 0.001*\"go\" + 0.001*\"patriot\"\n",
      "2022-05-22 09:02:31,651 : INFO : topic #0 (0.100): 0.166*\"\" + 0.044*\"election\" + 0.030*\"vote\" + 0.018*\"steal\" + 0.018*\"never\" + 0.015*\"know\" + 0.015*\"right\" + 0.014*\"stand\" + 0.013*\"count\" + 0.013*\"get\"\n",
      "2022-05-22 09:02:31,652 : INFO : topic #2 (0.100): 0.209*\"fraud\" + 0.167*\"stop\" + 0.087*\"someone_page\" + 0.087*\"diego_airpo\" + 0.057*\"voter\" + 0.049*\"election\" + 0.039*\"year\" + 0.026*\"object\" + 0.026*\"rsbn\" + 0.018*\"thank\"\n",
      "2022-05-22 09:02:31,653 : INFO : topic diff=0.038132, rho=0.196116\n",
      "2022-05-22 09:02:31,654 : INFO : PROGRESS: pass 0, at document #54000/78648\n",
      "2022-05-22 09:02:31,867 : INFO : merging changes from 2000 documents into a model of 78648 documents\n",
      "2022-05-22 09:02:31,876 : INFO : topic #0 (0.100): 0.161*\"\" + 0.050*\"election\" + 0.037*\"vote\" + 0.021*\"steal\" + 0.020*\"never\" + 0.018*\"stand\" + 0.017*\"right\" + 0.016*\"count\" + 0.014*\"president\" + 0.013*\"know\"\n",
      "2022-05-22 09:02:31,877 : INFO : topic #8 (0.100): 0.235*\"state\" + 0.108*\"show\" + 0.107*\"great\" + 0.076*\"help\" + 0.046*\"step\" + 0.037*\"next\" + 0.023*\"county\" + 0.014*\"pressure\" + 0.012*\"testify\" + 0.011*\"prevent\"\n",
      "2022-05-22 09:02:31,878 : INFO : topic #1 (0.100): 0.000*\"conference\" + 0.000*\"officials_fal\" + 0.000*\"member_elect\" + 0.000*\"constitutional_responsibility\" + 0.000*\"\" + 0.000*\"everyone_involved\" + 0.000*\"fullest_extent\" + 0.000*\"mess_prosecuted\" + 0.000*\"joined_tea\" + 0.000*\"lankford\"\n",
      "2022-05-22 09:02:31,878 : INFO : topic #2 (0.100): 0.218*\"fraud\" + 0.166*\"stop\" + 0.073*\"someone_page\" + 0.073*\"diego_airpo\" + 0.058*\"voter\" + 0.056*\"election\" + 0.039*\"year\" + 0.032*\"object\" + 0.026*\"compromise\" + 0.022*\"rsbn\"\n",
      "2022-05-22 09:02:31,879 : INFO : topic #5 (0.100): 0.157*\"leave\" + 0.086*\"office\" + 0.050*\"seem\" + 0.028*\"effo\" + 0.025*\"bunch\" + 0.023*\"totally\" + 0.019*\"radical\" + 0.016*\"excellent\" + 0.016*\"usa\" + 0.014*\"rudy\"\n",
      "2022-05-22 09:02:31,880 : INFO : topic diff=0.025951, rho=0.192450\n",
      "2022-05-22 09:02:31,881 : INFO : PROGRESS: pass 0, at document #56000/78648\n",
      "2022-05-22 09:02:32,098 : INFO : merging changes from 2000 documents into a model of 78648 documents\n",
      "2022-05-22 09:02:32,104 : INFO : topic #6 (0.100): 0.952*\"\" + 0.002*\"trump\" + 0.002*\"watch\" + 0.002*\"live\" + 0.001*\"elector\" + 0.001*\"coalition\" + 0.001*\"fight\" + 0.001*\"people\" + 0.001*\"accept\" + 0.001*\"thank\"\n",
      "2022-05-22 09:02:32,106 : INFO : topic #1 (0.100): 0.000*\"conference\" + 0.000*\"officials_fal\" + 0.000*\"member_elect\" + 0.000*\"constitutional_responsibility\" + 0.000*\"\" + 0.000*\"mess_prosecuted\" + 0.000*\"fullest_extent\" + 0.000*\"everyone_involved\" + 0.000*\"recant_smear\" + 0.000*\"force_lye\"\n",
      "2022-05-22 09:02:32,106 : INFO : topic #5 (0.100): 0.157*\"leave\" + 0.080*\"office\" + 0.047*\"seem\" + 0.026*\"bunch\" + 0.024*\"totally\" + 0.023*\"effo\" + 0.021*\"radical\" + 0.018*\"excellent\" + 0.016*\"usa\" + 0.011*\"rudy\"\n",
      "2022-05-22 09:02:32,107 : INFO : topic #3 (0.100): 0.000*\"conference\" + 0.000*\"officials_fal\" + 0.000*\"member_elect\" + 0.000*\"constitutional_responsibility\" + 0.000*\"\" + 0.000*\"fullest_extent\" + 0.000*\"everyone_involved\" + 0.000*\"mess_prosecuted\" + 0.000*\"awkward_moment\" + 0.000*\"recant_smear\"\n",
      "2022-05-22 09:02:32,108 : INFO : topic #9 (0.100): 0.000*\"conference\" + 0.000*\"officials_fal\" + 0.000*\"member_elect\" + 0.000*\"constitutional_responsibility\" + 0.000*\"fullest_extent\" + 0.000*\"mess_prosecuted\" + 0.000*\"everyone_involved\" + 0.000*\"\" + 0.000*\"awkward_moment\" + 0.000*\"force_lye\"\n",
      "2022-05-22 09:02:32,109 : INFO : topic diff=0.035140, rho=0.188982\n",
      "2022-05-22 09:02:32,109 : INFO : PROGRESS: pass 0, at document #58000/78648\n",
      "2022-05-22 09:02:32,318 : INFO : merging changes from 2000 documents into a model of 78648 documents\n",
      "2022-05-22 09:02:32,328 : INFO : topic #2 (0.100): 0.221*\"fraud\" + 0.187*\"stop\" + 0.064*\"voter\" + 0.058*\"election\" + 0.055*\"someone_page\" + 0.055*\"diego_airpo\" + 0.039*\"year\" + 0.029*\"object\" + 0.023*\"compromise\" + 0.018*\"listen\"\n",
      "2022-05-22 09:02:32,329 : INFO : topic #3 (0.100): 0.000*\"conference\" + 0.000*\"officials_fal\" + 0.000*\"member_elect\" + 0.000*\"video_incredible\" + 0.000*\"serious_abou\" + 0.000*\"patriot_friend\" + 0.000*\"constitutional_responsibility\" + 0.000*\"arizona\" + 0.000*\"division\" + 0.000*\"force_lye\"\n",
      "2022-05-22 09:02:32,329 : INFO : topic #8 (0.100): 0.251*\"state\" + 0.117*\"great\" + 0.091*\"show\" + 0.068*\"help\" + 0.036*\"county\" + 0.033*\"step\" + 0.030*\"next\" + 0.018*\"send_message\" + 0.015*\"letter\" + 0.012*\"david_kelly\"\n",
      "2022-05-22 09:02:32,330 : INFO : topic #9 (0.100): 0.000*\"conference\" + 0.000*\"officials_fal\" + 0.000*\"member_elect\" + 0.000*\"video_incredible\" + 0.000*\"serious_abou\" + 0.000*\"patriot_friend\" + 0.000*\"constitutional_responsibility\" + 0.000*\"arizona\" + 0.000*\"division\" + 0.000*\"awkward_moment\"\n",
      "2022-05-22 09:02:32,331 : INFO : topic #7 (0.100): 0.000*\"conference\" + 0.000*\"officials_fal\" + 0.000*\"member_elect\" + 0.000*\"video_incredible\" + 0.000*\"serious_abou\" + 0.000*\"patriot_friend\" + 0.000*\"constitutional_responsibility\" + 0.000*\"arizona\" + 0.000*\"division\" + 0.000*\"awkward_moment\"\n",
      "2022-05-22 09:02:32,332 : INFO : topic diff=0.029339, rho=0.185695\n",
      "2022-05-22 09:02:32,652 : INFO : -1.605 per-word bound, 3.0 perplexity estimate based on a held-out corpus of 2000 documents with 68000 words\n",
      "2022-05-22 09:02:32,652 : INFO : PROGRESS: pass 0, at document #60000/78648\n",
      "2022-05-22 09:02:32,868 : INFO : merging changes from 2000 documents into a model of 78648 documents\n",
      "2022-05-22 09:02:32,877 : INFO : topic #5 (0.100): 0.135*\"leave\" + 0.076*\"office\" + 0.045*\"seem\" + 0.036*\"totally\" + 0.022*\"radical\" + 0.022*\"effo\" + 0.021*\"bunch\" + 0.018*\"excellent\" + 0.015*\"usa\" + 0.010*\"summary\"\n",
      "2022-05-22 09:02:32,878 : INFO : topic #9 (0.100): 0.000*\"conference\" + 0.000*\"officials_fal\" + 0.000*\"arizona\" + 0.000*\"member_elect\" + 0.000*\"video_incredible\" + 0.000*\"cases_election\" + 0.000*\"knowingly_brought\" + 0.000*\"utterly_meritless\" + 0.000*\"alleges_attorney\" + 0.000*\"patriot_friend\"\n",
      "2022-05-22 09:02:32,878 : INFO : topic #1 (0.100): 0.000*\"conference\" + 0.000*\"officials_fal\" + 0.000*\"arizona\" + 0.000*\"member_elect\" + 0.000*\"video_incredible\" + 0.000*\"utterly_meritless\" + 0.000*\"cases_election\" + 0.000*\"alleges_attorney\" + 0.000*\"knowingly_brought\" + 0.000*\"patriot_friend\"\n",
      "2022-05-22 09:02:32,879 : INFO : topic #6 (0.100): 0.953*\"\" + 0.002*\"watch\" + 0.002*\"live\" + 0.002*\"trump\" + 0.001*\"fight\" + 0.001*\"rally\" + 0.001*\"elector\" + 0.001*\"accept\" + 0.001*\"legitimate\" + 0.001*\"people\"\n",
      "2022-05-22 09:02:32,880 : INFO : topic #0 (0.100): 0.150*\"\" + 0.050*\"election\" + 0.039*\"vote\" + 0.024*\"steal\" + 0.021*\"stand\" + 0.020*\"never\" + 0.020*\"right\" + 0.017*\"count\" + 0.016*\"president\" + 0.013*\"get\"\n",
      "2022-05-22 09:02:32,881 : INFO : topic diff=0.039997, rho=0.182574\n",
      "2022-05-22 09:02:32,881 : INFO : PROGRESS: pass 0, at document #62000/78648\n",
      "2022-05-22 09:02:33,097 : INFO : merging changes from 2000 documents into a model of 78648 documents\n",
      "2022-05-22 09:02:33,106 : INFO : topic #3 (0.100): 0.000*\"constitutions_solution\" + 0.000*\"conference\" + 0.000*\"officials_fal\" + 0.000*\"arizona\" + 0.000*\"desperate\" + 0.000*\"fan_mail\" + 0.000*\"elected_desperate\" + 0.000*\"member_elect\" + 0.000*\"resist_tyranny\" + 0.000*\"video_incredible\"\n",
      "2022-05-22 09:02:33,107 : INFO : topic #1 (0.100): 0.000*\"constitutions_solution\" + 0.000*\"conference\" + 0.000*\"officials_fal\" + 0.000*\"arizona\" + 0.000*\"desperate\" + 0.000*\"fan_mail\" + 0.000*\"elected_desperate\" + 0.000*\"member_elect\" + 0.000*\"resist_tyranny\" + 0.000*\"video_incredible\"\n",
      "2022-05-22 09:02:33,108 : INFO : topic #5 (0.100): 0.143*\"leave\" + 0.076*\"office\" + 0.050*\"seem\" + 0.035*\"totally\" + 0.023*\"effo\" + 0.020*\"usa\" + 0.020*\"bunch\" + 0.018*\"radical\" + 0.014*\"excellent\" + 0.009*\"fully\"\n",
      "2022-05-22 09:02:33,109 : INFO : topic #6 (0.100): 0.955*\"\" + 0.002*\"watch\" + 0.002*\"live\" + 0.002*\"trump\" + 0.001*\"fight\" + 0.001*\"rally\" + 0.001*\"people\" + 0.001*\"elector\" + 0.001*\"accept\" + 0.001*\"thank\"\n",
      "2022-05-22 09:02:33,109 : INFO : topic #0 (0.100): 0.146*\"\" + 0.046*\"election\" + 0.036*\"vote\" + 0.022*\"steal\" + 0.021*\"need\" + 0.018*\"stand\" + 0.018*\"never\" + 0.017*\"right\" + 0.014*\"get\" + 0.014*\"president\"\n",
      "2022-05-22 09:02:33,110 : INFO : topic diff=0.047922, rho=0.179605\n",
      "2022-05-22 09:02:33,111 : INFO : PROGRESS: pass 0, at document #64000/78648\n",
      "2022-05-22 09:02:33,317 : INFO : merging changes from 2000 documents into a model of 78648 documents\n",
      "2022-05-22 09:02:33,325 : INFO : topic #2 (0.100): 0.251*\"fraud\" + 0.158*\"stop\" + 0.086*\"voter\" + 0.057*\"election\" + 0.042*\"year\" + 0.034*\"diego_airpo\" + 0.034*\"someone_page\" + 0.025*\"object\" + 0.024*\"listen\" + 0.017*\"compromise\"\n",
      "2022-05-22 09:02:33,326 : INFO : topic #3 (0.100): 0.000*\"constitutions_solution\" + 0.000*\"conference\" + 0.000*\"officials_fal\" + 0.000*\"arizona\" + 0.000*\"desperate\" + 0.000*\"fan_mail\" + 0.000*\"elected_desperate\" + 0.000*\"member_elect\" + 0.000*\"resist_tyranny\" + 0.000*\"video_incredible\"\n",
      "2022-05-22 09:02:33,327 : INFO : topic #9 (0.100): 0.000*\"constitutions_solution\" + 0.000*\"conference\" + 0.000*\"officials_fal\" + 0.000*\"arizona\" + 0.000*\"desperate\" + 0.000*\"fan_mail\" + 0.000*\"elected_desperate\" + 0.000*\"member_elect\" + 0.000*\"resist_tyranny\" + 0.000*\"video_incredible\"\n",
      "2022-05-22 09:02:33,327 : INFO : topic #7 (0.100): 0.000*\"constitutions_solution\" + 0.000*\"conference\" + 0.000*\"officials_fal\" + 0.000*\"arizona\" + 0.000*\"desperate\" + 0.000*\"fan_mail\" + 0.000*\"elected_desperate\" + 0.000*\"member_elect\" + 0.000*\"resist_tyranny\" + 0.000*\"video_incredible\"\n",
      "2022-05-22 09:02:33,329 : INFO : topic #8 (0.100): 0.375*\"state\" + 0.141*\"constitutions_solution\" + 0.042*\"great\" + 0.042*\"show\" + 0.034*\"help\" + 0.025*\"arizona\" + 0.024*\"division\" + 0.021*\"utterly_meritless\" + 0.021*\"cases_election\" + 0.021*\"alleges_attorney\"\n",
      "2022-05-22 09:02:33,329 : INFO : topic diff=0.058648, rho=0.176777\n",
      "2022-05-22 09:02:33,330 : INFO : PROGRESS: pass 0, at document #66000/78648\n",
      "2022-05-22 09:02:33,549 : INFO : merging changes from 2000 documents into a model of 78648 documents\n",
      "2022-05-22 09:02:33,558 : INFO : topic #5 (0.100): 0.134*\"leave\" + 0.082*\"office\" + 0.043*\"seem\" + 0.027*\"totally\" + 0.027*\"effo\" + 0.018*\"radical\" + 0.017*\"rudy\" + 0.016*\"excellent\" + 0.016*\"usa\" + 0.015*\"bunch\"\n",
      "2022-05-22 09:02:33,559 : INFO : topic #7 (0.100): 0.000*\"constitutions_solution\" + 0.000*\"conference\" + 0.000*\"without_courage\" + 0.000*\"viues_lose\" + 0.000*\"officials_fal\" + 0.000*\"arizona\" + 0.000*\"desperate\" + 0.000*\"fan_mail\" + 0.000*\"elected_desperate\" + 0.000*\"member_elect\"\n",
      "2022-05-22 09:02:33,560 : INFO : topic #1 (0.100): 0.000*\"constitutions_solution\" + 0.000*\"conference\" + 0.000*\"without_courage\" + 0.000*\"viues_lose\" + 0.000*\"officials_fal\" + 0.000*\"arizona\" + 0.000*\"desperate\" + 0.000*\"fan_mail\" + 0.000*\"elected_desperate\" + 0.000*\"member_elect\"\n",
      "2022-05-22 09:02:33,561 : INFO : topic #4 (0.100): 0.092*\"new\" + 0.070*\"hand\" + 0.068*\"foreign\" + 0.038*\"diy\" + 0.037*\"war\" + 0.032*\"little\" + 0.027*\"create\" + 0.026*\"primary\" + 0.020*\"obvious\" + 0.019*\"candidate\"\n",
      "2022-05-22 09:02:33,561 : INFO : topic #3 (0.100): 0.000*\"constitutions_solution\" + 0.000*\"conference\" + 0.000*\"without_courage\" + 0.000*\"viues_lose\" + 0.000*\"officials_fal\" + 0.000*\"arizona\" + 0.000*\"desperate\" + 0.000*\"fan_mail\" + 0.000*\"elected_desperate\" + 0.000*\"member_elect\"\n",
      "2022-05-22 09:02:33,563 : INFO : topic diff=0.025302, rho=0.174078\n",
      "2022-05-22 09:02:33,563 : INFO : PROGRESS: pass 0, at document #68000/78648\n",
      "2022-05-22 09:02:33,797 : INFO : merging changes from 2000 documents into a model of 78648 documents\n",
      "2022-05-22 09:02:33,806 : INFO : topic #8 (0.100): 0.337*\"state\" + 0.113*\"constitutions_solution\" + 0.055*\"great\" + 0.047*\"help\" + 0.042*\"show\" + 0.025*\"arizona\" + 0.024*\"division\" + 0.022*\"cases_election\" + 0.022*\"alleges_attorney\" + 0.022*\"knowingly_brought\"\n",
      "2022-05-22 09:02:33,808 : INFO : topic #1 (0.100): 0.000*\"constitutions_solution\" + 0.000*\"conference\" + 0.000*\"viues_lose\" + 0.000*\"without_courage\" + 0.000*\"fires_back\" + 0.000*\"officials_fal\" + 0.000*\"arizona\" + 0.000*\"desperate\" + 0.000*\"fan_mail\" + 0.000*\"stopthesteal_protest\"\n",
      "2022-05-22 09:02:33,808 : INFO : topic #2 (0.100): 0.240*\"fraud\" + 0.139*\"stop\" + 0.094*\"voter\" + 0.058*\"object\" + 0.055*\"election\" + 0.049*\"year\" + 0.022*\"someone_page\" + 0.022*\"diego_airpo\" + 0.020*\"listen\" + 0.014*\"compromise\"\n",
      "2022-05-22 09:02:33,810 : INFO : topic #3 (0.100): 0.000*\"constitutions_solution\" + 0.000*\"conference\" + 0.000*\"without_courage\" + 0.000*\"viues_lose\" + 0.000*\"fires_back\" + 0.000*\"officials_fal\" + 0.000*\"arizona\" + 0.000*\"desperate\" + 0.000*\"fan_mail\" + 0.000*\"stopthesteal_protest\"\n",
      "2022-05-22 09:02:33,811 : INFO : topic #9 (0.100): 0.000*\"constitutions_solution\" + 0.000*\"conference\" + 0.000*\"without_courage\" + 0.000*\"viues_lose\" + 0.000*\"fires_back\" + 0.000*\"officials_fal\" + 0.000*\"arizona\" + 0.000*\"desperate\" + 0.000*\"fan_mail\" + 0.000*\"stopthesteal_protest\"\n",
      "2022-05-22 09:02:33,812 : INFO : topic diff=0.034192, rho=0.171499\n",
      "2022-05-22 09:02:33,813 : INFO : PROGRESS: pass 0, at document #70000/78648\n",
      "2022-05-22 09:02:34,016 : INFO : merging changes from 2000 documents into a model of 78648 documents\n",
      "2022-05-22 09:02:34,024 : INFO : topic #1 (0.100): 0.000*\"constitutions_solution\" + 0.000*\"fires_back\" + 0.000*\"conference\" + 0.000*\"viues_lose\" + 0.000*\"without_courage\" + 0.000*\"signature_address\" + 0.000*\"officials_fal\" + 0.000*\"ira_save\" + 0.000*\"object_ceification\" + 0.000*\"arizona\"\n",
      "2022-05-22 09:02:34,025 : INFO : topic #2 (0.100): 0.239*\"fraud\" + 0.132*\"stop\" + 0.113*\"voter\" + 0.072*\"object\" + 0.050*\"election\" + 0.041*\"year\" + 0.019*\"listen\" + 0.017*\"someone_page\" + 0.017*\"diego_airpo\" + 0.014*\"compromise\"\n",
      "2022-05-22 09:02:34,025 : INFO : topic #8 (0.100): 0.323*\"state\" + 0.104*\"constitutions_solution\" + 0.057*\"great\" + 0.051*\"help\" + 0.046*\"show\" + 0.023*\"arizona\" + 0.022*\"division\" + 0.020*\"alleges_attorney\" + 0.020*\"utterly_meritless\" + 0.020*\"cases_election\"\n",
      "2022-05-22 09:02:34,026 : INFO : topic #4 (0.100): 0.103*\"new\" + 0.075*\"hand\" + 0.066*\"foreign\" + 0.041*\"primary\" + 0.038*\"war\" + 0.026*\"create\" + 0.025*\"diy\" + 0.024*\"little\" + 0.022*\"drop\" + 0.020*\"obvious\"\n",
      "2022-05-22 09:02:34,027 : INFO : topic #6 (0.100): 0.956*\"\" + 0.002*\"fight\" + 0.001*\"trump\" + 0.001*\"live\" + 0.001*\"watch\" + 0.001*\"accept\" + 0.001*\"legitimate\" + 0.001*\"people\" + 0.001*\"country\" + 0.001*\"thank\"\n",
      "2022-05-22 09:02:34,028 : INFO : topic diff=0.029692, rho=0.169031\n",
      "2022-05-22 09:02:34,028 : INFO : PROGRESS: pass 0, at document #72000/78648\n",
      "2022-05-22 09:02:34,234 : INFO : merging changes from 2000 documents into a model of 78648 documents\n",
      "2022-05-22 09:02:34,243 : INFO : topic #7 (0.100): 0.000*\"constitutions_solution\" + 0.000*\"fires_back\" + 0.000*\"announcement_speake\" + 0.000*\"conference\" + 0.000*\"without_courage\" + 0.000*\"viues_lose\" + 0.000*\"signature_address\" + 0.000*\"officials_fal\" + 0.000*\"illegally_use\" + 0.000*\"object_ceification\"\n",
      "2022-05-22 09:02:34,244 : INFO : topic #4 (0.100): 0.116*\"new\" + 0.065*\"hand\" + 0.058*\"foreign\" + 0.047*\"primary\" + 0.037*\"war\" + 0.025*\"create\" + 0.023*\"little\" + 0.022*\"diy\" + 0.021*\"obvious\" + 0.019*\"drop\"\n",
      "2022-05-22 09:02:34,244 : INFO : topic #0 (0.100): 0.130*\"\" + 0.043*\"election\" + 0.035*\"vote\" + 0.022*\"need\" + 0.021*\"steal\" + 0.019*\"stand\" + 0.018*\"right\" + 0.018*\"never\" + 0.017*\"president\" + 0.014*\"get\"\n",
      "2022-05-22 09:02:34,245 : INFO : topic #5 (0.100): 0.176*\"office\" + 0.137*\"leave\" + 0.038*\"effo\" + 0.037*\"seem\" + 0.024*\"totally\" + 0.015*\"bunch\" + 0.014*\"usa\" + 0.013*\"rudy\" + 0.013*\"excellent\" + 0.013*\"radical\"\n",
      "2022-05-22 09:02:34,246 : INFO : topic #8 (0.100): 0.311*\"state\" + 0.095*\"constitutions_solution\" + 0.065*\"great\" + 0.053*\"help\" + 0.049*\"show\" + 0.021*\"arizona\" + 0.020*\"next\" + 0.020*\"division\" + 0.018*\"cases_election\" + 0.018*\"utterly_meritless\"\n",
      "2022-05-22 09:02:34,247 : INFO : topic diff=0.042553, rho=0.166667\n",
      "2022-05-22 09:02:34,248 : INFO : PROGRESS: pass 0, at document #74000/78648\n",
      "2022-05-22 09:02:34,447 : INFO : merging changes from 2000 documents into a model of 78648 documents\n",
      "2022-05-22 09:02:34,456 : INFO : topic #7 (0.100): 0.000*\"constitutions_solution\" + 0.000*\"announcement_speake\" + 0.000*\"fires_back\" + 0.000*\"conference\" + 0.000*\"viues_lose\" + 0.000*\"without_courage\" + 0.000*\"white_nationalist\" + 0.000*\"thread_linked\" + 0.000*\"website_responsible\" + 0.000*\"gateway_pundit\"\n",
      "2022-05-22 09:02:34,457 : INFO : topic #8 (0.100): 0.295*\"state\" + 0.086*\"constitutions_solution\" + 0.065*\"great\" + 0.063*\"help\" + 0.054*\"show\" + 0.023*\"next\" + 0.021*\"arizona\" + 0.018*\"division\" + 0.018*\"step\" + 0.018*\"county\"\n",
      "2022-05-22 09:02:34,457 : INFO : topic #2 (0.100): 0.234*\"fraud\" + 0.145*\"stop\" + 0.114*\"voter\" + 0.061*\"election\" + 0.055*\"object\" + 0.044*\"year\" + 0.019*\"compromise\" + 0.017*\"listen\" + 0.012*\"time\" + 0.012*\"diego_airpo\"\n",
      "2022-05-22 09:02:34,458 : INFO : topic #3 (0.100): 0.000*\"constitutions_solution\" + 0.000*\"announcement_speake\" + 0.000*\"fires_back\" + 0.000*\"conference\" + 0.000*\"without_courage\" + 0.000*\"viues_lose\" + 0.000*\"white_nationalist\" + 0.000*\"website_responsible\" + 0.000*\"thread_linked\" + 0.000*\"gateway_pundit\"\n",
      "2022-05-22 09:02:34,459 : INFO : topic #1 (0.100): 0.000*\"constitutions_solution\" + 0.000*\"announcement_speake\" + 0.000*\"fires_back\" + 0.000*\"conference\" + 0.000*\"viues_lose\" + 0.000*\"without_courage\" + 0.000*\"white_nationalist\" + 0.000*\"website_responsible\" + 0.000*\"thread_linked\" + 0.000*\"gateway_pundit\"\n",
      "2022-05-22 09:02:34,460 : INFO : topic diff=0.028991, rho=0.164399\n",
      "2022-05-22 09:02:34,461 : INFO : PROGRESS: pass 0, at document #76000/78648\n",
      "2022-05-22 09:02:34,671 : INFO : merging changes from 2000 documents into a model of 78648 documents\n",
      "2022-05-22 09:02:34,680 : INFO : topic #5 (0.100): 0.155*\"office\" + 0.141*\"leave\" + 0.047*\"seem\" + 0.039*\"effo\" + 0.024*\"totally\" + 0.018*\"excellent\" + 0.016*\"bunch\" + 0.015*\"usa\" + 0.012*\"radical\" + 0.012*\"suffer\"\n",
      "2022-05-22 09:02:34,681 : INFO : topic #3 (0.100): 0.000*\"constitutions_solution\" + 0.000*\"announcement_speake\" + 0.000*\"fires_back\" + 0.000*\"dining_increase\" + 0.000*\"mayor_banning\" + 0.000*\"poa_pottie\" + 0.000*\"hotel_price\" + 0.000*\"conference\" + 0.000*\"gateway_pundit\" + 0.000*\"without_courage\"\n",
      "2022-05-22 09:02:34,682 : INFO : topic #7 (0.100): 0.000*\"constitutions_solution\" + 0.000*\"announcement_speake\" + 0.000*\"fires_back\" + 0.000*\"dining_increase\" + 0.000*\"mayor_banning\" + 0.000*\"poa_pottie\" + 0.000*\"hotel_price\" + 0.000*\"conference\" + 0.000*\"gateway_pundit\" + 0.000*\"without_courage\"\n",
      "2022-05-22 09:02:34,683 : INFO : topic #0 (0.100): 0.123*\"\" + 0.044*\"election\" + 0.038*\"vote\" + 0.021*\"steal\" + 0.020*\"stand\" + 0.019*\"right\" + 0.019*\"never\" + 0.018*\"need\" + 0.017*\"president\" + 0.015*\"count\"\n",
      "2022-05-22 09:02:34,684 : INFO : topic #8 (0.100): 0.284*\"state\" + 0.073*\"constitutions_solution\" + 0.070*\"great\" + 0.065*\"help\" + 0.058*\"show\" + 0.024*\"next\" + 0.020*\"step\" + 0.020*\"slate\" + 0.020*\"county\" + 0.018*\"arizona\"\n",
      "2022-05-22 09:02:34,685 : INFO : topic diff=0.017244, rho=0.162221\n",
      "2022-05-22 09:02:34,685 : INFO : PROGRESS: pass 0, at document #78000/78648\n",
      "2022-05-22 09:02:34,893 : INFO : merging changes from 2000 documents into a model of 78648 documents\n",
      "2022-05-22 09:02:34,901 : INFO : topic #8 (0.100): 0.263*\"state\" + 0.075*\"help\" + 0.071*\"show\" + 0.068*\"great\" + 0.062*\"constitutions_solution\" + 0.027*\"next\" + 0.026*\"slate\" + 0.022*\"testify\" + 0.020*\"step\" + 0.019*\"county\"\n",
      "2022-05-22 09:02:34,903 : INFO : topic #4 (0.100): 0.121*\"new\" + 0.066*\"hand\" + 0.056*\"foreign\" + 0.035*\"primary\" + 0.033*\"obvious\" + 0.027*\"create\" + 0.027*\"war\" + 0.024*\"little\" + 0.017*\"regard\" + 0.016*\"eat\"\n",
      "2022-05-22 09:02:34,903 : INFO : topic #1 (0.100): 0.000*\"protect_integrity\" + 0.000*\"ele\" + 0.000*\"bet_last\" + 0.000*\"constitutions_solution\" + 0.000*\"announcement_speake\" + 0.000*\"fires_back\" + 0.000*\"poa_pottie\" + 0.000*\"dining_increase\" + 0.000*\"mayor_banning\" + 0.000*\"hotel_price\"\n",
      "2022-05-22 09:02:34,903 : INFO : topic #3 (0.100): 0.000*\"protect_integrity\" + 0.000*\"ele\" + 0.000*\"bet_last\" + 0.000*\"constitutions_solution\" + 0.000*\"announcement_speake\" + 0.000*\"fires_back\" + 0.000*\"poa_pottie\" + 0.000*\"dining_increase\" + 0.000*\"mayor_banning\" + 0.000*\"hotel_price\"\n",
      "2022-05-22 09:02:34,904 : INFO : topic #7 (0.100): 0.000*\"protect_integrity\" + 0.000*\"ele\" + 0.000*\"bet_last\" + 0.000*\"constitutions_solution\" + 0.000*\"announcement_speake\" + 0.000*\"fires_back\" + 0.000*\"poa_pottie\" + 0.000*\"dining_increase\" + 0.000*\"mayor_banning\" + 0.000*\"hotel_price\"\n",
      "2022-05-22 09:02:34,905 : INFO : topic diff=0.022498, rho=0.160128\n",
      "2022-05-22 09:02:35,019 : INFO : -1.735 per-word bound, 3.3 perplexity estimate based on a held-out corpus of 648 documents with 22032 words\n",
      "2022-05-22 09:02:35,020 : INFO : PROGRESS: pass 0, at document #78648/78648\n",
      "2022-05-22 09:02:35,091 : INFO : merging changes from 648 documents into a model of 78648 documents\n",
      "2022-05-22 09:02:35,099 : INFO : topic #6 (0.100): 0.956*\"\" + 0.002*\"elector\" + 0.001*\"fight\" + 0.001*\"accept\" + 0.001*\"legitimate\" + 0.001*\"trump\" + 0.001*\"patriot\" + 0.001*\"stand\" + 0.001*\"watch\" + 0.001*\"rally\"\n",
      "2022-05-22 09:02:35,099 : INFO : topic #0 (0.100): 0.118*\"\" + 0.045*\"election\" + 0.040*\"vote\" + 0.029*\"stand\" + 0.026*\"biden\" + 0.023*\"right\" + 0.022*\"steal\" + 0.020*\"never\" + 0.019*\"take\" + 0.018*\"president\"\n",
      "2022-05-22 09:02:35,100 : INFO : topic #3 (0.100): 0.000*\"ceify_invalid\" + 0.000*\"statement_congressman\" + 0.000*\"protect_integrity\" + 0.000*\"ele\" + 0.000*\"bet_last\" + 0.000*\"constitutions_solution\" + 0.000*\"announcement_speake\" + 0.000*\"fires_back\" + 0.000*\"mayor_banning\" + 0.000*\"hotel_price\"\n",
      "2022-05-22 09:02:35,100 : INFO : topic #2 (0.100): 0.235*\"fraud\" + 0.132*\"stop\" + 0.107*\"voter\" + 0.061*\"election\" + 0.058*\"object\" + 0.056*\"year\" + 0.021*\"story\" + 0.015*\"listen\" + 0.015*\"compromise\" + 0.011*\"time\"\n",
      "2022-05-22 09:02:35,101 : INFO : topic #1 (0.100): 0.000*\"ceify_invalid\" + 0.000*\"statement_congressman\" + 0.000*\"protect_integrity\" + 0.000*\"ele\" + 0.000*\"bet_last\" + 0.000*\"constitutions_solution\" + 0.000*\"announcement_speake\" + 0.000*\"fires_back\" + 0.000*\"dining_increase\" + 0.000*\"hotel_price\"\n",
      "2022-05-22 09:02:35,102 : INFO : topic diff=0.038153, rho=0.158114\n"
     ]
    }
   ],
   "source": [
    "dictionary = Dictionary(corpus_list_master)\n",
    "corpus = [dictionary.doc2bow(text) for text in corpus_list_master]\n",
    "\n",
    "import numpy\n",
    "numpy.random.seed(1) # setting random seed to get the same results each time.\n",
    "\n",
    "from gensim.models import ldamodel\n",
    "model = ldamodel.LdaModel(corpus, id2word=dictionary, num_topics=10, minimum_probability=1e-8)"
   ]
  },
  {
   "cell_type": "code",
   "execution_count": 6,
   "metadata": {},
   "outputs": [
    {
     "data": {
      "text/plain": [
       "10"
      ]
     },
     "execution_count": 6,
     "metadata": {},
     "output_type": "execute_result"
    }
   ],
   "source": [
    "len(model.show_topics())"
   ]
  },
  {
   "cell_type": "code",
   "execution_count": 7,
   "metadata": {},
   "outputs": [],
   "source": [
    "# topic1, topic2, topic3, topic4, topic5, topic6, topic7, topic8, topic9, topic10 = model.show_topics()"
   ]
  },
  {
   "cell_type": "markdown",
   "metadata": {},
   "source": [
    "#### Computing the BOW and Probability distributions"
   ]
  },
  {
   "cell_type": "code",
   "execution_count": 8,
   "metadata": {},
   "outputs": [
    {
     "name": "stderr",
     "output_type": "stream",
     "text": [
      "c:\\Users\\Ivory-UALR\\AppData\\Local\\Programs\\Python\\Python39\\lib\\site-packages\\IPython\\core\\interactiveshell.py:3441: DtypeWarning: Columns (26,27,28,29,30,31,32,33) have mixed types.Specify dtype option on import or set low_memory=False.\n",
      "  exec(code_obj, self.user_global_ns, self.user_ns)\n",
      "c:\\Users\\Ivory-UALR\\AppData\\Local\\Programs\\Python\\Python39\\lib\\site-packages\\IPython\\core\\interactiveshell.py:3441: DtypeWarning: Columns (28,29,30,31,32,33) have mixed types.Specify dtype option on import or set low_memory=False.\n",
      "  exec(code_obj, self.user_global_ns, self.user_ns)\n"
     ]
    }
   ],
   "source": [
    "path = r\"corpus_docs\"\n",
    "csv_files = glob.glob(path + \"\\*.csv\")\n",
    "\n",
    "df_list = (pd.read_csv(file) for file in csv_files)\n",
    "\n",
    "dataframes_list = []\n",
    "for file in range(len(csv_files)):\n",
    "    temp_df = pd.read_csv(csv_files[file])\n",
    "    dataframes_list.append(temp_df)\n",
    "    \n",
    "corpus_list = []\n",
    "for df in dataframes_list:\n",
    "     corpus_list.append([list(x) for x in df.fillna('').values])"
   ]
  },
  {
   "cell_type": "code",
   "execution_count": 9,
   "metadata": {},
   "outputs": [
    {
     "name": "stdout",
     "output_type": "stream",
     "text": [
      "['corpus_docs\\\\corpus_51.csv', 'corpus_docs\\\\corpus_51_01.csv', 'corpus_docs\\\\corpus_51_02.csv', 'corpus_docs\\\\corpus_51_03.csv', 'corpus_docs\\\\corpus_51_04.csv', 'corpus_docs\\\\corpus_51_52.csv', 'corpus_docs\\\\corpus_51_53.csv']\n"
     ]
    }
   ],
   "source": [
    "print(csv_files)"
   ]
  },
  {
   "cell_type": "code",
   "execution_count": 10,
   "metadata": {},
   "outputs": [],
   "source": [
    "# print(corpus_list[1])"
   ]
  },
  {
   "cell_type": "code",
   "execution_count": 11,
   "metadata": {},
   "outputs": [],
   "source": [
    "corpus51, corpus51_01, corpus51_02, corpus51_03, corpus51_04, corpus51_52, corpus51_53 = corpus_list[:]"
   ]
  },
  {
   "cell_type": "code",
   "execution_count": 12,
   "metadata": {},
   "outputs": [],
   "source": [
    "doc_51 = corpus51[7]\n",
    "doc_51_01 = corpus51_01[1000]\n",
    "doc_51_02 = corpus51_02[35]\n",
    "doc_51_03 = corpus51_03[14]\n",
    "doc_51_04 = corpus51_04[1000]\n",
    "doc_51_52 = corpus51_52[20000]\n",
    "doc_51_53 = corpus51_53[25]\n",
    "\n",
    "\n",
    "# now let's make these into a bag of words format\n",
    "bow_51 = model.id2word.doc2bow(doc_51)   \n",
    "bow_51_01 = model.id2word.doc2bow(doc_51_01)   \n",
    "bow_51_02 = model.id2word.doc2bow(doc_51_02)\n",
    "bow_51_03 = model.id2word.doc2bow(doc_51_03)   \n",
    "bow_51_04 = model.id2word.doc2bow(doc_51_04)   \n",
    "bow_51_52 = model.id2word.doc2bow(doc_51_52)\n",
    "bow_51_53 = model.id2word.doc2bow(doc_51_53)   \n",
    "\n",
    "# we can now get the LDA topic distributions for these\n",
    "lda_bow_51 = model[bow_51]\n",
    "lda_bow_51_01 = model[bow_51_01]\n",
    "lda_bow_51_02 = model[bow_51_02]\n",
    "lda_bow_51_03 = model[bow_51_03]\n",
    "lda_bow_51_04 = model[bow_51_04]\n",
    "lda_bow_51_52 = model[bow_51_52]\n",
    "lda_bow_51_53 = model[bow_51_53]\n",
    "\n",
    "lda_bows = [lda_bow_51, lda_bow_51_52, lda_bow_51_53, lda_bow_51_01, lda_bow_51_02,  lda_bow_51_03, lda_bow_51_04]\n"
   ]
  },
  {
   "cell_type": "markdown",
   "metadata": {},
   "source": [
    "#### Hellinger Scores"
   ]
  },
  {
   "cell_type": "code",
   "execution_count": 13,
   "metadata": {},
   "outputs": [],
   "source": [
    "from gensim.matutils import hellinger\n",
    "\n",
    "hellinger_master_scores = []\n",
    "\n",
    "# Loop through the lda_bows and compute Hellinger Scores\n",
    "\n",
    "for i in range(len(lda_bows) - 1):\n",
    "    mark = i + 1\n",
    "    if not (mark <= len(lda_bows)):\n",
    "        break\n",
    "    else:\n",
    "        score = hellinger(lda_bows[i], lda_bows[mark])\n",
    "        hellinger_master_scores.append(score)"
   ]
  },
  {
   "cell_type": "code",
   "execution_count": 14,
   "metadata": {},
   "outputs": [
    {
     "name": "stdout",
     "output_type": "stream",
     "text": [
      "[0.14200028594406053, 0.1761830144473281, 0.22697439978257247, 0.23447993416231333, 0.13470692595835923, 0.19523261290241056]\n"
     ]
    }
   ],
   "source": [
    "print(hellinger_master_scores)"
   ]
  },
  {
   "cell_type": "code",
   "execution_count": 15,
   "metadata": {},
   "outputs": [],
   "source": [
    "weeks = [\"51 - (51-52)\", \"(51-52) - (51-53)\", \"(51-53) - (51-01)\", \"(51-01) - (51-02)\", \"(51-02) - (51-03)\", \"(51-03) - (51-04)\"]"
   ]
  },
  {
   "cell_type": "code",
   "execution_count": 16,
   "metadata": {},
   "outputs": [
    {
     "data": {
      "text/plain": [
       "6"
      ]
     },
     "execution_count": 16,
     "metadata": {},
     "output_type": "execute_result"
    }
   ],
   "source": [
    "# len(hellinger_master_scores)\n",
    "len(weeks)"
   ]
  },
  {
   "cell_type": "code",
   "execution_count": 17,
   "metadata": {},
   "outputs": [
    {
     "data": {
      "image/png": "[encoded data removed]",
      "text/plain": [
       "<Figure size 432x288 with 1 Axes>"
      ]
     },
     "metadata": {
      "needs_background": "light"
     },
     "output_type": "display_data"
    },
    {
     "data": {
      "text/plain": [
       "<Figure size 1080x576 with 0 Axes>"
      ]
     },
     "metadata": {},
     "output_type": "display_data"
    }
   ],
   "source": [
    "# Plot Hellinger scores with Seaborn\n",
    "\n",
    "df = pd.DataFrame({\"weeks\": weeks, \"hellinger_scores\": hellinger_master_scores})\n",
    "\n",
    "hellinger_plot = sns.lineplot(x=\"weeks\", y=\"hellinger_scores\", data=df)\n",
    "hellinger_plot.set_title('Hellinger Score Plot Cummulative (week 51/2020 - week 51-04/2021) (Duplicate)');\n",
    "locs, labels = plt.xticks()\n",
    "plt.setp(labels, rotation=45)\n",
    "plt.figure(figsize = (15,8))\n",
    "plt.show()\n",
    "# df.to_csv(r\"C:\\Users\\Ivory-UALR\\Documents\\COSMOS\\Billy's Project\\community_topic_model\\2nd_community_dataset\\prob_dist (cummulative)\\Hellinger Score Cummulative (51-04)_duplicate.csv\", header=True)\n"
   ]
  },
  {
   "cell_type": "markdown",
   "metadata": {},
   "source": [
    "#### Jensen Shannon Scores"
   ]
  },
  {
   "cell_type": "code",
   "execution_count": 18,
   "metadata": {},
   "outputs": [],
   "source": [
    "from gensim.matutils import kullback_leibler\n",
    "import math\n",
    "\n",
    "# Sample Data - JS(P, Q) = 0.050803\n",
    "p = [0.36, 0.48, 0.16]\n",
    "q = [0.30, 0.50, 0.20]\n",
    "\n",
    "\n",
    "def js_score(p, q):\n",
    "    num = [i + j for i, j in zip(p, q)]\n",
    "    for val in num:\n",
    "        if (type(val) == float):\n",
    "            p_prob = p\n",
    "            q_prob = q\n",
    "        else:\n",
    "            p_prob = [prob for index, prob in p]\n",
    "            q_prob = [prob for index, prob in q]\n",
    "    # find m & z\n",
    "    m = [x + y for x, y in zip(p_prob, q_prob)]\n",
    "    z = [1/2 * i for i in m]\n",
    "    # find the kullback distance between p-z & q-z\n",
    "    kl_pz = round(kullback_leibler(p_prob, z), 6)\n",
    "    kl_qz = round(kullback_leibler(q_prob, z), 6)\n",
    "    # compute js_score\n",
    "    js_score = math.sqrt((kl_pz + kl_qz) / 2)\n",
    "    return js_score"
   ]
  },
  {
   "cell_type": "code",
   "execution_count": 19,
   "metadata": {},
   "outputs": [],
   "source": [
    "# Loop through the lda_bows and compute JS Scores\n",
    "js_master_scores = []\n",
    "\n",
    "for i in range(len(lda_bows) - 1):\n",
    "    mark = i + 1\n",
    "    if not (mark <= len(lda_bows)):\n",
    "        break\n",
    "    else:\n",
    "        score = js_score(lda_bows[i], lda_bows[mark])\n",
    "        js_master_scores.append(score)"
   ]
  },
  {
   "cell_type": "code",
   "execution_count": 20,
   "metadata": {},
   "outputs": [
    {
     "name": "stdout",
     "output_type": "stream",
     "text": [
      "[0.1341659420270286, 0.16899260338843236, 0.21807108932639374, 0.22421864329265753, 0.12855738018488086, 0.18665744024817227]\n"
     ]
    }
   ],
   "source": [
    "print(js_master_scores)"
   ]
  },
  {
   "cell_type": "code",
   "execution_count": 21,
   "metadata": {},
   "outputs": [
    {
     "data": {
      "image/png": "[encoded data removed]",
      "text/plain": [
       "<Figure size 432x288 with 1 Axes>"
      ]
     },
     "metadata": {
      "needs_background": "light"
     },
     "output_type": "display_data"
    },
    {
     "data": {
      "text/plain": [
       "<Figure size 1080x576 with 0 Axes>"
      ]
     },
     "metadata": {},
     "output_type": "display_data"
    }
   ],
   "source": [
    "# Plot JS scores with Seaborn\n",
    "\n",
    "df = pd.DataFrame({\"weeks\": weeks, \"js_scores\": js_master_scores})\n",
    "\n",
    "js_plot = sns.lineplot(x=\"weeks\", y=\"js_scores\", data=df)\n",
    "js_plot.set_title('JS Score Plot Cummulative (week 51/2020 - week 04/2021) (Duplicate)');\n",
    "locs, labels = plt.xticks()\n",
    "plt.setp(labels, rotation=45)\n",
    "plt.figure(figsize = (15,8))\n",
    "\n",
    "plt.show()\n",
    "\n",
    "# df.to_csv(r\"C:\\Users\\Ivory-UALR\\Documents\\COSMOS\\Billy's Project\\community_topic_model\\2nd_community_dataset\\prob_dist (cummulative)\\JS_Score Cummulative (51-04)_duplicate.csv\", header=True)\n"
   ]
  },
  {
   "cell_type": "code",
   "execution_count": null,
   "metadata": {},
   "outputs": [],
   "source": []
  }
 ],
 "metadata": {
  "interpreter": {
   "hash": "e8e5deac7477f8906d41e5c6e61616e3ac62f0bc4d33889d141d235aa45f3e1f"
  },
  "kernelspec": {
   "display_name": "Python 3.9.0 64-bit",
   "language": "python",
   "name": "python3"
  },
  "language_info": {
   "codemirror_mode": {
    "name": "ipython",
    "version": 3
   },
   "file_extension": ".py",
   "mimetype": "text/x-python",
   "name": "python",
   "nbconvert_exporter": "python",
   "pygments_lexer": "ipython3",
   "version": "3.9.0"
  },
  "orig_nbformat": 4
 },
 "nbformat": 4,
 "nbformat_minor": 2
}
