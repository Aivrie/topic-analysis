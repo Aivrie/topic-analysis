{
 "cells": [
  {
   "cell_type": "markdown",
   "metadata": {},
   "source": [
    "### Topic Analysis using BERTtopic Model (Community Dataset #2: 15/12/2020 - 31/01/2021)"
   ]
  },
  {
   "cell_type": "markdown",
   "metadata": {},
   "source": [
    "#### Import Core Libraries"
   ]
  },
  {
   "cell_type": "code",
   "execution_count": 1,
   "metadata": {},
   "outputs": [
    {
     "name": "stderr",
     "output_type": "stream",
     "text": [
      "Since the GPL-licensed package `unidecode` is not installed, using Python's `unicodedata` package which yields worse results.\n"
     ]
    }
   ],
   "source": [
    "# Import Core library\n",
    "import sys\n",
    "import re, numpy as np, pandas as pd, matplotlib.pyplot as plt, nltk\n",
    "import emoji\n",
    "import plotly\n",
    "from pprint import pprint\n",
    "from cleantext import clean\n",
    "from bertopic import BERTopic"
   ]
  },
  {
   "cell_type": "markdown",
   "metadata": {},
   "source": [
    "#### Importing Dataset"
   ]
  },
  {
   "cell_type": "code",
   "execution_count": 2,
   "metadata": {},
   "outputs": [],
   "source": [
    "# Import Dataset\n",
    "df = pd.read_excel('../Community306_raw.xlsx')"
   ]
  },
  {
   "cell_type": "code",
   "execution_count": 3,
   "metadata": {},
   "outputs": [
    {
     "data": {
      "text/html": [
       "<div>\n",
       "<style scoped>\n",
       "    .dataframe tbody tr th:only-of-type {\n",
       "        vertical-align: middle;\n",
       "    }\n",
       "\n",
       "    .dataframe tbody tr th {\n",
       "        vertical-align: top;\n",
       "    }\n",
       "\n",
       "    .dataframe thead th {\n",
       "        text-align: right;\n",
       "    }\n",
       "</style>\n",
       "<table border=\"1\" class=\"dataframe\">\n",
       "  <thead>\n",
       "    <tr style=\"text-align: right;\">\n",
       "      <th></th>\n",
       "      <th>Unnamed: 0</th>\n",
       "      <th>id</th>\n",
       "      <th>source_id</th>\n",
       "      <th>created_at</th>\n",
       "      <th>geo_source</th>\n",
       "      <th>truncated</th>\n",
       "      <th>text</th>\n",
       "      <th>text_sentiment</th>\n",
       "      <th>text_toxicity</th>\n",
       "      <th>lang</th>\n",
       "      <th>...</th>\n",
       "      <th>retweet_id_str</th>\n",
       "      <th>is_quote_status</th>\n",
       "      <th>quoted_status_id_str</th>\n",
       "      <th>in_reply_to_status_id_str</th>\n",
       "      <th>in_reply_to_user_id_str</th>\n",
       "      <th>in_reply_to_screen_name</th>\n",
       "      <th>entities</th>\n",
       "      <th>possibly_sensitive</th>\n",
       "      <th>coordinates</th>\n",
       "      <th>place</th>\n",
       "    </tr>\n",
       "  </thead>\n",
       "  <tbody>\n",
       "    <tr>\n",
       "      <th>0</th>\n",
       "      <td>1</td>\n",
       "      <td>1.346170e+18</td>\n",
       "      <td>18</td>\n",
       "      <td>2021-01-04 19:01:23</td>\n",
       "      <td>1</td>\n",
       "      <td>0</td>\n",
       "      <td>@HHere4trump @sbacon0410 #stopthesteal #stopth...</td>\n",
       "      <td>None</td>\n",
       "      <td>None</td>\n",
       "      <td>und</td>\n",
       "      <td>...</td>\n",
       "      <td>None</td>\n",
       "      <td>0</td>\n",
       "      <td>None</td>\n",
       "      <td>1346156649287987201</td>\n",
       "      <td>None</td>\n",
       "      <td>None</td>\n",
       "      <td>{\"entities\": {\"hashtags\": [{\"end\": 38, \"tag\": ...</td>\n",
       "      <td>0</td>\n",
       "      <td>None</td>\n",
       "      <td>None</td>\n",
       "    </tr>\n",
       "    <tr>\n",
       "      <th>1</th>\n",
       "      <td>3</td>\n",
       "      <td>1.345954e+18</td>\n",
       "      <td>18</td>\n",
       "      <td>2021-01-04 04:45:23</td>\n",
       "      <td>None</td>\n",
       "      <td>0</td>\n",
       "      <td>@RudyGiuliani @CaliConserv1 #StoptheSteal #Sto...</td>\n",
       "      <td>None</td>\n",
       "      <td>None</td>\n",
       "      <td>und</td>\n",
       "      <td>...</td>\n",
       "      <td>None</td>\n",
       "      <td>0</td>\n",
       "      <td>None</td>\n",
       "      <td>1345924505483546624</td>\n",
       "      <td>None</td>\n",
       "      <td>None</td>\n",
       "      <td>{\"entities\": {\"hashtags\": [{\"end\": 41, \"tag\": ...</td>\n",
       "      <td>0</td>\n",
       "      <td>None</td>\n",
       "      <td>None</td>\n",
       "    </tr>\n",
       "    <tr>\n",
       "      <th>2</th>\n",
       "      <td>4</td>\n",
       "      <td>1.345954e+18</td>\n",
       "      <td>18</td>\n",
       "      <td>2021-01-04 04:45:13</td>\n",
       "      <td>None</td>\n",
       "      <td>0</td>\n",
       "      <td>#StoptheSteal #StoptheSteal #StoptheSteal #Sto...</td>\n",
       "      <td>None</td>\n",
       "      <td>None</td>\n",
       "      <td>und</td>\n",
       "      <td>...</td>\n",
       "      <td>None</td>\n",
       "      <td>0</td>\n",
       "      <td>1345924505483546624</td>\n",
       "      <td>None</td>\n",
       "      <td>None</td>\n",
       "      <td>None</td>\n",
       "      <td>{\"entities\": {\"urls\": [{\"end\": 303, \"url\": \"ht...</td>\n",
       "      <td>0</td>\n",
       "      <td>None</td>\n",
       "      <td>None</td>\n",
       "    </tr>\n",
       "    <tr>\n",
       "      <th>3</th>\n",
       "      <td>5</td>\n",
       "      <td>1.345952e+18</td>\n",
       "      <td>18</td>\n",
       "      <td>2021-01-04 04:34:34</td>\n",
       "      <td>None</td>\n",
       "      <td>0</td>\n",
       "      <td>#StoptheSteal #StoptheSteal #StoptheSteal #Sto...</td>\n",
       "      <td>None</td>\n",
       "      <td>None</td>\n",
       "      <td>und</td>\n",
       "      <td>...</td>\n",
       "      <td>None</td>\n",
       "      <td>0</td>\n",
       "      <td>1345933290654593024</td>\n",
       "      <td>None</td>\n",
       "      <td>None</td>\n",
       "      <td>None</td>\n",
       "      <td>{\"entities\": {\"urls\": [{\"end\": 303, \"url\": \"ht...</td>\n",
       "      <td>0</td>\n",
       "      <td>None</td>\n",
       "      <td>None</td>\n",
       "    </tr>\n",
       "    <tr>\n",
       "      <th>4</th>\n",
       "      <td>6</td>\n",
       "      <td>1.345825e+18</td>\n",
       "      <td>18</td>\n",
       "      <td>2021-01-03 20:12:15</td>\n",
       "      <td>None</td>\n",
       "      <td>0</td>\n",
       "      <td>@realDonaldTrump @4Libertyinlaw #StoptheSteal ...</td>\n",
       "      <td>None</td>\n",
       "      <td>None</td>\n",
       "      <td>und</td>\n",
       "      <td>...</td>\n",
       "      <td>None</td>\n",
       "      <td>0</td>\n",
       "      <td>None</td>\n",
       "      <td>1345798202650460162</td>\n",
       "      <td>None</td>\n",
       "      <td>None</td>\n",
       "      <td>{\"entities\": {\"hashtags\": [{\"end\": 45, \"tag\": ...</td>\n",
       "      <td>0</td>\n",
       "      <td>None</td>\n",
       "      <td>None</td>\n",
       "    </tr>\n",
       "  </tbody>\n",
       "</table>\n",
       "<p>5 rows × 26 columns</p>\n",
       "</div>"
      ],
      "text/plain": [
       "   Unnamed: 0            id  source_id          created_at geo_source  \\\n",
       "0           1  1.346170e+18         18 2021-01-04 19:01:23          1   \n",
       "1           3  1.345954e+18         18 2021-01-04 04:45:23       None   \n",
       "2           4  1.345954e+18         18 2021-01-04 04:45:13       None   \n",
       "3           5  1.345952e+18         18 2021-01-04 04:34:34       None   \n",
       "4           6  1.345825e+18         18 2021-01-03 20:12:15       None   \n",
       "\n",
       "   truncated                                               text  \\\n",
       "0          0  @HHere4trump @sbacon0410 #stopthesteal #stopth...   \n",
       "1          0  @RudyGiuliani @CaliConserv1 #StoptheSteal #Sto...   \n",
       "2          0  #StoptheSteal #StoptheSteal #StoptheSteal #Sto...   \n",
       "3          0  #StoptheSteal #StoptheSteal #StoptheSteal #Sto...   \n",
       "4          0  @realDonaldTrump @4Libertyinlaw #StoptheSteal ...   \n",
       "\n",
       "  text_sentiment text_toxicity lang  ...  retweet_id_str  is_quote_status  \\\n",
       "0           None          None  und  ...            None                0   \n",
       "1           None          None  und  ...            None                0   \n",
       "2           None          None  und  ...            None                0   \n",
       "3           None          None  und  ...            None                0   \n",
       "4           None          None  und  ...            None                0   \n",
       "\n",
       "   quoted_status_id_str  in_reply_to_status_id_str  in_reply_to_user_id_str  \\\n",
       "0                  None        1346156649287987201                     None   \n",
       "1                  None        1345924505483546624                     None   \n",
       "2   1345924505483546624                       None                     None   \n",
       "3   1345933290654593024                       None                     None   \n",
       "4                  None        1345798202650460162                     None   \n",
       "\n",
       "   in_reply_to_screen_name                                           entities  \\\n",
       "0                     None  {\"entities\": {\"hashtags\": [{\"end\": 38, \"tag\": ...   \n",
       "1                     None  {\"entities\": {\"hashtags\": [{\"end\": 41, \"tag\": ...   \n",
       "2                     None  {\"entities\": {\"urls\": [{\"end\": 303, \"url\": \"ht...   \n",
       "3                     None  {\"entities\": {\"urls\": [{\"end\": 303, \"url\": \"ht...   \n",
       "4                     None  {\"entities\": {\"hashtags\": [{\"end\": 45, \"tag\": ...   \n",
       "\n",
       "   possibly_sensitive coordinates place  \n",
       "0                   0        None  None  \n",
       "1                   0        None  None  \n",
       "2                   0        None  None  \n",
       "3                   0        None  None  \n",
       "4                   0        None  None  \n",
       "\n",
       "[5 rows x 26 columns]"
      ]
     },
     "execution_count": 3,
     "metadata": {},
     "output_type": "execute_result"
    }
   ],
   "source": [
    "df.head()"
   ]
  },
  {
   "cell_type": "code",
   "execution_count": 4,
   "metadata": {},
   "outputs": [
    {
     "data": {
      "text/plain": [
       "0    @HHere4trump @sbacon0410 #stopthesteal #stopth...\n",
       "1    @RudyGiuliani @CaliConserv1 #StoptheSteal #Sto...\n",
       "2    #StoptheSteal #StoptheSteal #StoptheSteal #Sto...\n",
       "3    #StoptheSteal #StoptheSteal #StoptheSteal #Sto...\n",
       "4    @realDonaldTrump @4Libertyinlaw #StoptheSteal ...\n",
       "Name: text, dtype: object"
      ]
     },
     "execution_count": 4,
     "metadata": {},
     "output_type": "execute_result"
    }
   ],
   "source": [
    "df['text'].head()"
   ]
  },
  {
   "cell_type": "code",
   "execution_count": 12,
   "metadata": {},
   "outputs": [],
   "source": [
    "df['create_year'] = pd.to_datetime(df.created_at, format='%m/%d/%Y', errors='coerce')\n",
    "df['year'] = pd.to_datetime(df.created_at).dt.strftime('%Y')\n",
    "df['month'] = pd.to_datetime(df.created_at).dt.strftime('%m')"
   ]
  },
  {
   "cell_type": "code",
   "execution_count": 18,
   "metadata": {},
   "outputs": [],
   "source": [
    "start_date = \"12/15/2020\"\n",
    "end_date = \"01/31/2021\"\n",
    "after_start_date = df['create_year'] > start_date\n",
    "before_end_date = df['create_year'] < end_date\n",
    "between_two_dates = after_start_date & before_end_date\n",
    "\n",
    "stream_two = df.loc[between_two_dates]"
   ]
  },
  {
   "cell_type": "code",
   "execution_count": 21,
   "metadata": {},
   "outputs": [
    {
     "data": {
      "text/html": [
       "<div>\n",
       "<style scoped>\n",
       "    .dataframe tbody tr th:only-of-type {\n",
       "        vertical-align: middle;\n",
       "    }\n",
       "\n",
       "    .dataframe tbody tr th {\n",
       "        vertical-align: top;\n",
       "    }\n",
       "\n",
       "    .dataframe thead th {\n",
       "        text-align: right;\n",
       "    }\n",
       "</style>\n",
       "<table border=\"1\" class=\"dataframe\">\n",
       "  <thead>\n",
       "    <tr style=\"text-align: right;\">\n",
       "      <th></th>\n",
       "      <th>Unnamed: 0</th>\n",
       "      <th>id</th>\n",
       "      <th>source_id</th>\n",
       "      <th>created_at</th>\n",
       "      <th>geo_source</th>\n",
       "      <th>truncated</th>\n",
       "      <th>text</th>\n",
       "      <th>text_sentiment</th>\n",
       "      <th>text_toxicity</th>\n",
       "      <th>lang</th>\n",
       "      <th>...</th>\n",
       "      <th>in_reply_to_status_id_str</th>\n",
       "      <th>in_reply_to_user_id_str</th>\n",
       "      <th>in_reply_to_screen_name</th>\n",
       "      <th>entities</th>\n",
       "      <th>possibly_sensitive</th>\n",
       "      <th>coordinates</th>\n",
       "      <th>place</th>\n",
       "      <th>create_year</th>\n",
       "      <th>year</th>\n",
       "      <th>month</th>\n",
       "    </tr>\n",
       "  </thead>\n",
       "  <tbody>\n",
       "    <tr>\n",
       "      <th>0</th>\n",
       "      <td>1</td>\n",
       "      <td>1.346170e+18</td>\n",
       "      <td>18</td>\n",
       "      <td>2021-01-04 19:01:23</td>\n",
       "      <td>1</td>\n",
       "      <td>0</td>\n",
       "      <td>@HHere4trump @sbacon0410 #stopthesteal #stopth...</td>\n",
       "      <td>None</td>\n",
       "      <td>None</td>\n",
       "      <td>und</td>\n",
       "      <td>...</td>\n",
       "      <td>1346156649287987201</td>\n",
       "      <td>None</td>\n",
       "      <td>None</td>\n",
       "      <td>{\"entities\": {\"hashtags\": [{\"end\": 38, \"tag\": ...</td>\n",
       "      <td>0</td>\n",
       "      <td>None</td>\n",
       "      <td>None</td>\n",
       "      <td>2021-01-04 19:01:23</td>\n",
       "      <td>2021</td>\n",
       "      <td>01</td>\n",
       "    </tr>\n",
       "    <tr>\n",
       "      <th>1</th>\n",
       "      <td>3</td>\n",
       "      <td>1.345954e+18</td>\n",
       "      <td>18</td>\n",
       "      <td>2021-01-04 04:45:23</td>\n",
       "      <td>None</td>\n",
       "      <td>0</td>\n",
       "      <td>@RudyGiuliani @CaliConserv1 #StoptheSteal #Sto...</td>\n",
       "      <td>None</td>\n",
       "      <td>None</td>\n",
       "      <td>und</td>\n",
       "      <td>...</td>\n",
       "      <td>1345924505483546624</td>\n",
       "      <td>None</td>\n",
       "      <td>None</td>\n",
       "      <td>{\"entities\": {\"hashtags\": [{\"end\": 41, \"tag\": ...</td>\n",
       "      <td>0</td>\n",
       "      <td>None</td>\n",
       "      <td>None</td>\n",
       "      <td>2021-01-04 04:45:23</td>\n",
       "      <td>2021</td>\n",
       "      <td>01</td>\n",
       "    </tr>\n",
       "  </tbody>\n",
       "</table>\n",
       "<p>2 rows × 29 columns</p>\n",
       "</div>"
      ],
      "text/plain": [
       "   Unnamed: 0            id  source_id          created_at geo_source  \\\n",
       "0           1  1.346170e+18         18 2021-01-04 19:01:23          1   \n",
       "1           3  1.345954e+18         18 2021-01-04 04:45:23       None   \n",
       "\n",
       "   truncated                                               text  \\\n",
       "0          0  @HHere4trump @sbacon0410 #stopthesteal #stopth...   \n",
       "1          0  @RudyGiuliani @CaliConserv1 #StoptheSteal #Sto...   \n",
       "\n",
       "  text_sentiment text_toxicity lang  ...  in_reply_to_status_id_str  \\\n",
       "0           None          None  und  ...        1346156649287987201   \n",
       "1           None          None  und  ...        1345924505483546624   \n",
       "\n",
       "   in_reply_to_user_id_str  in_reply_to_screen_name  \\\n",
       "0                     None                     None   \n",
       "1                     None                     None   \n",
       "\n",
       "                                            entities  possibly_sensitive  \\\n",
       "0  {\"entities\": {\"hashtags\": [{\"end\": 38, \"tag\": ...                   0   \n",
       "1  {\"entities\": {\"hashtags\": [{\"end\": 41, \"tag\": ...                   0   \n",
       "\n",
       "   coordinates place         create_year  year month  \n",
       "0         None  None 2021-01-04 19:01:23  2021    01  \n",
       "1         None  None 2021-01-04 04:45:23  2021    01  \n",
       "\n",
       "[2 rows x 29 columns]"
      ]
     },
     "execution_count": 21,
     "metadata": {},
     "output_type": "execute_result"
    }
   ],
   "source": [
    "stream_two.head(2)"
   ]
  },
  {
   "cell_type": "code",
   "execution_count": null,
   "metadata": {},
   "outputs": [],
   "source": [
    "stream_two.create_year.head(100)"
   ]
  },
  {
   "cell_type": "code",
   "execution_count": null,
   "metadata": {},
   "outputs": [],
   "source": [
    "stream_two.create_year"
   ]
  },
  {
   "cell_type": "markdown",
   "metadata": {},
   "source": [
    "#### Clean and Pre-process Dataset"
   ]
  },
  {
   "cell_type": "code",
   "execution_count": 7,
   "metadata": {},
   "outputs": [],
   "source": [
    "def get_url_patern():\n",
    "    return re.compile(\n",
    "        r'(https?:\\/\\/(?:www\\.|(?!www))[a-zA-Z0-9][a-zA-Z0-9-]+[a-zA-Z0-9]\\.[^\\s]{2,}|https?:\\/\\/(?:www\\.|(?!www))'\n",
    "        r'[a-zA-Z0-9]\\.[^\\s]{2,}|www\\.[a-zA-Z0-9]\\.[^\\s]{2,})')\n",
    "\n",
    "def get_hashtags_pattern():\n",
    "    return re.compile(r'#\\w*')\n",
    "\n",
    "def get_single_letter_words_pattern():\n",
    "    return re.compile(r'(?<![\\w\\-])\\w(?![\\w\\-])')\n",
    "\n",
    "def get_blank_spaces_pattern():\n",
    "    return re.compile(r'\\s{2,}|\\t')\n",
    "\n",
    "def get_twitter_reserved_words_pattern():\n",
    "    return re.compile(r'(RT|rt|FAV|fav|VIA|via)')\n",
    "\n",
    "def get_mentions_pattern():\n",
    "    return re.compile(r'@\\w*')\n",
    "\n",
    "def process_text(word):\n",
    "  word=re.sub(pattern=get_url_patern(), repl=\"\", string=word)\n",
    "  word=re.sub(pattern=get_mentions_pattern(), repl=\"\", string=word)\n",
    "  word=re.sub(pattern=get_hashtags_pattern(), repl=\"\", string=word)\n",
    "  word=re.sub(pattern=get_twitter_reserved_words_pattern(), repl='', string=word)\n",
    "  word=re.sub(pattern=get_single_letter_words_pattern(), repl='', string=word)\n",
    "  word=re.sub(pattern=get_blank_spaces_pattern(), repl=' ', string=word)\n",
    "  word=re.sub('\\s+', \" \", word)\n",
    "  word=re.sub(\"\\'\", \"\", word)\n",
    "  word=re.sub(r'http\\S+', \"\", word)  # remove http links\n",
    "  word=re.sub(r'bit.ly/\\S+', \"\", word)  # rempve bitly links\n",
    "  word=word.strip('[link]')  # remove [links]\n",
    "  word=re.sub('(RT\\s@[A-Za-z]+[A-Za-z0-9-_]+)', \"\", word)  # remove retweet\n",
    "  word=re.sub('(@[A-Za-z]+[A-Za-z0-9-_]+)', \"\", word)  # remove tweeted at\n",
    "  word=clean(word, no_emoji=True)\n",
    "#   word =re.sub(r'\\d+', '', word)\n",
    "#   word = word.strip()\n",
    "  return word"
   ]
  },
  {
   "cell_type": "code",
   "execution_count": 8,
   "metadata": {},
   "outputs": [],
   "source": [
    "stream_two.text = stream_two.apply(lambda row: process_text(row.text), 1)"
   ]
  },
  {
   "cell_type": "code",
   "execution_count": 9,
   "metadata": {},
   "outputs": [
    {
     "data": {
      "text/plain": [
       "0    \n",
       "1    \n",
       "2    \n",
       "Name: text, dtype: object"
      ]
     },
     "execution_count": 9,
     "metadata": {},
     "output_type": "execute_result"
    }
   ],
   "source": [
    "stream_two.text.head(3)"
   ]
  },
  {
   "cell_type": "markdown",
   "metadata": {},
   "source": [
    "#### Building the BERTtopic Model"
   ]
  },
  {
   "cell_type": "code",
   "execution_count": 10,
   "metadata": {},
   "outputs": [],
   "source": [
    "# Get variables\n",
    "tweets = stream_two.text.to_list()\n",
    "dates = stream_two['create_year'].apply(lambda x: pd.Timestamp(x)).to_list()"
   ]
  },
  {
   "cell_type": "code",
   "execution_count": 11,
   "metadata": {},
   "outputs": [
    {
     "data": {
      "text/plain": [
       "[Timestamp('2021-01-04 19:01:23'),\n",
       " Timestamp('2021-01-04 04:45:23'),\n",
       " Timestamp('2021-01-04 04:45:13')]"
      ]
     },
     "execution_count": 11,
     "metadata": {},
     "output_type": "execute_result"
    }
   ],
   "source": [
    "dates[:3]"
   ]
  },
  {
   "cell_type": "code",
   "execution_count": 12,
   "metadata": {},
   "outputs": [
    {
     "name": "stderr",
     "output_type": "stream",
     "text": [
      "Batches: 100%|██████████| 2458/2458 [12:01<00:00,  3.40it/s]\n",
      "2022-03-21 14:00:22,532 - BERTopic - Transformed documents to Embeddings\n",
      "2022-03-21 14:03:33,234 - BERTopic - Reduced dimensionality with UMAP\n",
      "2022-03-21 14:03:55,036 - BERTopic - Clustered UMAP embeddings with HDBSCAN\n"
     ]
    }
   ],
   "source": [
    "topic_model = BERTopic(min_topic_size=70, verbose=True)\n",
    "topics, probs = topic_model.fit_transform(tweets)"
   ]
  },
  {
   "cell_type": "code",
   "execution_count": 13,
   "metadata": {},
   "outputs": [
    {
     "data": {
      "text/html": [
       "<div>\n",
       "<style scoped>\n",
       "    .dataframe tbody tr th:only-of-type {\n",
       "        vertical-align: middle;\n",
       "    }\n",
       "\n",
       "    .dataframe tbody tr th {\n",
       "        vertical-align: top;\n",
       "    }\n",
       "\n",
       "    .dataframe thead th {\n",
       "        text-align: right;\n",
       "    }\n",
       "</style>\n",
       "<table border=\"1\" class=\"dataframe\">\n",
       "  <thead>\n",
       "    <tr style=\"text-align: right;\">\n",
       "      <th></th>\n",
       "      <th>Topic</th>\n",
       "      <th>Count</th>\n",
       "      <th>Name</th>\n",
       "    </tr>\n",
       "  </thead>\n",
       "  <tbody>\n",
       "    <tr>\n",
       "      <th>0</th>\n",
       "      <td>-1</td>\n",
       "      <td>24737</td>\n",
       "      <td>-1_and_you_of_the</td>\n",
       "    </tr>\n",
       "    <tr>\n",
       "      <th>1</th>\n",
       "      <td>0</td>\n",
       "      <td>12511</td>\n",
       "      <td>0_exciting_hooah_gotta_period</td>\n",
       "    </tr>\n",
       "    <tr>\n",
       "      <th>2</th>\n",
       "      <td>1</td>\n",
       "      <td>1579</td>\n",
       "      <td>1_nailed_aka_note_please</td>\n",
       "    </tr>\n",
       "    <tr>\n",
       "      <th>3</th>\n",
       "      <td>2</td>\n",
       "      <td>1288</td>\n",
       "      <td>2_kicked_flight_wearing_joke</td>\n",
       "    </tr>\n",
       "    <tr>\n",
       "      <th>4</th>\n",
       "      <td>3</td>\n",
       "      <td>1261</td>\n",
       "      <td>3_location_inciter_cap_minutes</td>\n",
       "    </tr>\n",
       "    <tr>\n",
       "      <th>...</th>\n",
       "      <td>...</td>\n",
       "      <td>...</td>\n",
       "      <td>...</td>\n",
       "    </tr>\n",
       "    <tr>\n",
       "      <th>146</th>\n",
       "      <td>145</td>\n",
       "      <td>76</td>\n",
       "      <td>145_finished_fought_line_race</td>\n",
       "    </tr>\n",
       "    <tr>\n",
       "      <th>147</th>\n",
       "      <td>146</td>\n",
       "      <td>76</td>\n",
       "      <td>146_peaceful_track_largest_record</td>\n",
       "    </tr>\n",
       "    <tr>\n",
       "      <th>148</th>\n",
       "      <td>147</td>\n",
       "      <td>73</td>\n",
       "      <td>147_hoft_gateway_pundit_jim</td>\n",
       "    </tr>\n",
       "    <tr>\n",
       "      <th>149</th>\n",
       "      <td>148</td>\n",
       "      <td>72</td>\n",
       "      <td>148_speaking_am_here_capitol</td>\n",
       "    </tr>\n",
       "    <tr>\n",
       "      <th>150</th>\n",
       "      <td>149</td>\n",
       "      <td>72</td>\n",
       "      <td>149_time_fight_over_not</td>\n",
       "    </tr>\n",
       "  </tbody>\n",
       "</table>\n",
       "<p>151 rows × 3 columns</p>\n",
       "</div>"
      ],
      "text/plain": [
       "     Topic  Count                               Name\n",
       "0       -1  24737                  -1_and_you_of_the\n",
       "1        0  12511      0_exciting_hooah_gotta_period\n",
       "2        1   1579           1_nailed_aka_note_please\n",
       "3        2   1288       2_kicked_flight_wearing_joke\n",
       "4        3   1261     3_location_inciter_cap_minutes\n",
       "..     ...    ...                                ...\n",
       "146    145     76      145_finished_fought_line_race\n",
       "147    146     76  146_peaceful_track_largest_record\n",
       "148    147     73        147_hoft_gateway_pundit_jim\n",
       "149    148     72       148_speaking_am_here_capitol\n",
       "150    149     72            149_time_fight_over_not\n",
       "\n",
       "[151 rows x 3 columns]"
      ]
     },
     "execution_count": 13,
     "metadata": {},
     "output_type": "execute_result"
    }
   ],
   "source": [
    "topic_model.get_topic_info()"
   ]
  },
  {
   "cell_type": "markdown",
   "metadata": {},
   "source": [
    "#### Visualizing Topics (Barchart, Topics over time)"
   ]
  },
  {
   "cell_type": "code",
   "execution_count": 14,
   "metadata": {},
   "outputs": [
    {
     "data": {
      "application/vnd.plotly.v1+json": {
       "config": {
        "plotlyServerURL": "https://plot.ly"
       },
       "data": [
        {
         "marker": {
          "color": "#D55E00"
         },
         "orientation": "h",
         "type": "bar",
         "x": [
          0.5068788863929684,
          0.5851145200182565,
          0.6691541405180189,
          0.9605405084601444,
          1.011204479604157
         ],
         "xaxis": "x",
         "y": [
          "imagine  ",
          "period  ",
          "gotta  ",
          "hooah  ",
          "exciting  "
         ],
         "yaxis": "y"
        },
        {
         "marker": {
          "color": "#0072B2"
         },
         "orientation": "h",
         "type": "bar",
         "x": [
          0.11088777995117778,
          0.39196888400597196,
          0.9921732780495603,
          1.0249758622549894,
          1.1482340013455643
         ],
         "xaxis": "x2",
         "y": [
          "it  ",
          "please  ",
          "note  ",
          "aka  ",
          "nailed  "
         ],
         "yaxis": "y2"
        },
        {
         "marker": {
          "color": "#CC79A7"
         },
         "orientation": "h",
         "type": "bar",
         "x": [
          0.08978172978700719,
          0.09081736577914334,
          0.09333599488024481,
          0.09366090143860206,
          0.09367497356687102
         ],
         "xaxis": "x3",
         "y": [
          "mask  ",
          "joke  ",
          "wearing  ",
          "flight  ",
          "kicked  "
         ],
         "yaxis": "y3"
        },
        {
         "marker": {
          "color": "#E69F00"
         },
         "orientation": "h",
         "type": "bar",
         "x": [
          0.13752999565260574,
          0.13758126574862822,
          0.1385366710329294,
          0.1386211285428718,
          0.13933603365098907
         ],
         "xaxis": "x4",
         "y": [
          "tweeted  ",
          "minutes  ",
          "cap  ",
          "inciter  ",
          "location  "
         ],
         "yaxis": "y4"
        },
        {
         "marker": {
          "color": "#56B4E9"
         },
         "orientation": "h",
         "type": "bar",
         "x": [
          0.015271692245090944,
          0.016001346689195426,
          0.017204742859164297,
          0.01722113105288462,
          0.02307939308967781
         ],
         "xaxis": "x5",
         "y": [
          "we  ",
          "time  ",
          "oh  ",
          "it  ",
          "yes  "
         ],
         "yaxis": "y5"
        },
        {
         "marker": {
          "color": "#009E73"
         },
         "orientation": "h",
         "type": "bar",
         "x": [
          0.12368266119525645,
          0.1605540686796113,
          0.1761126483014919,
          0.20442506372135755,
          0.2087185484701959
         ],
         "xaxis": "x6",
         "y": [
          "live  ",
          "coalition  ",
          "freedom  ",
          "plaza  ",
          "prerally  "
         ],
         "yaxis": "y6"
        },
        {
         "marker": {
          "color": "#F0E442"
         },
         "orientation": "h",
         "type": "bar",
         "x": [
          0.012768235427925122,
          0.013479634092857332,
          0.017155134425734266,
          0.017425805686449962,
          0.03245032896439532
         ],
         "xaxis": "x7",
         "y": [
          "riot  ",
          "peaceful  ",
          "blm  ",
          "capitol  ",
          "antifa  "
         ],
         "yaxis": "y7"
        },
        {
         "marker": {
          "color": "#D55E00"
         },
         "orientation": "h",
         "type": "bar",
         "x": [
          0.013697301368330406,
          0.015417811326936324,
          0.016618414505446197,
          0.031129876258746705,
          0.04633834575076775
         ],
         "xaxis": "x8",
         "y": [
          "county  ",
          "runoff  ",
          "fulton  ",
          "ga  ",
          "georgia  "
         ],
         "yaxis": "y8"
        }
       ],
       "layout": {
        "annotations": [
         {
          "font": {
           "size": 16
          },
          "showarrow": false,
          "text": "Topic 0",
          "x": 0.0875,
          "xanchor": "center",
          "xref": "paper",
          "y": 1,
          "yanchor": "bottom",
          "yref": "paper"
         },
         {
          "font": {
           "size": 16
          },
          "showarrow": false,
          "text": "Topic 1",
          "x": 0.36250000000000004,
          "xanchor": "center",
          "xref": "paper",
          "y": 1,
          "yanchor": "bottom",
          "yref": "paper"
         },
         {
          "font": {
           "size": 16
          },
          "showarrow": false,
          "text": "Topic 2",
          "x": 0.6375000000000001,
          "xanchor": "center",
          "xref": "paper",
          "y": 1,
          "yanchor": "bottom",
          "yref": "paper"
         },
         {
          "font": {
           "size": 16
          },
          "showarrow": false,
          "text": "Topic 3",
          "x": 0.9125,
          "xanchor": "center",
          "xref": "paper",
          "y": 1,
          "yanchor": "bottom",
          "yref": "paper"
         },
         {
          "font": {
           "size": 16
          },
          "showarrow": false,
          "text": "Topic 4",
          "x": 0.0875,
          "xanchor": "center",
          "xref": "paper",
          "y": 0.4,
          "yanchor": "bottom",
          "yref": "paper"
         },
         {
          "font": {
           "size": 16
          },
          "showarrow": false,
          "text": "Topic 5",
          "x": 0.36250000000000004,
          "xanchor": "center",
          "xref": "paper",
          "y": 0.4,
          "yanchor": "bottom",
          "yref": "paper"
         },
         {
          "font": {
           "size": 16
          },
          "showarrow": false,
          "text": "Topic 6",
          "x": 0.6375000000000001,
          "xanchor": "center",
          "xref": "paper",
          "y": 0.4,
          "yanchor": "bottom",
          "yref": "paper"
         },
         {
          "font": {
           "size": 16
          },
          "showarrow": false,
          "text": "Topic 7",
          "x": 0.9125,
          "xanchor": "center",
          "xref": "paper",
          "y": 0.4,
          "yanchor": "bottom",
          "yref": "paper"
         }
        ],
        "height": 500,
        "hoverlabel": {
         "bgcolor": "white",
         "font": {
          "family": "Rockwell",
          "size": 16
         }
        },
        "showlegend": false,
        "template": {
         "data": {
          "bar": [
           {
            "error_x": {
             "color": "#2a3f5f"
            },
            "error_y": {
             "color": "#2a3f5f"
            },
            "marker": {
             "line": {
              "color": "white",
              "width": 0.5
             },
             "pattern": {
              "fillmode": "overlay",
              "size": 10,
              "solidity": 0.2
             }
            },
            "type": "bar"
           }
          ],
          "barpolar": [
           {
            "marker": {
             "line": {
              "color": "white",
              "width": 0.5
             },
             "pattern": {
              "fillmode": "overlay",
              "size": 10,
              "solidity": 0.2
             }
            },
            "type": "barpolar"
           }
          ],
          "carpet": [
           {
            "aaxis": {
             "endlinecolor": "#2a3f5f",
             "gridcolor": "#C8D4E3",
             "linecolor": "#C8D4E3",
             "minorgridcolor": "#C8D4E3",
             "startlinecolor": "#2a3f5f"
            },
            "baxis": {
             "endlinecolor": "#2a3f5f",
             "gridcolor": "#C8D4E3",
             "linecolor": "#C8D4E3",
             "minorgridcolor": "#C8D4E3",
             "startlinecolor": "#2a3f5f"
            },
            "type": "carpet"
           }
          ],
          "choropleth": [
           {
            "colorbar": {
             "outlinewidth": 0,
             "ticks": ""
            },
            "type": "choropleth"
           }
          ],
          "contour": [
           {
            "colorbar": {
             "outlinewidth": 0,
             "ticks": ""
            },
            "colorscale": [
             [
              0,
              "#0d0887"
             ],
             [
              0.1111111111111111,
              "#46039f"
             ],
             [
              0.2222222222222222,
              "#7201a8"
             ],
             [
              0.3333333333333333,
              "#9c179e"
             ],
             [
              0.4444444444444444,
              "#bd3786"
             ],
             [
              0.5555555555555556,
              "#d8576b"
             ],
             [
              0.6666666666666666,
              "#ed7953"
             ],
             [
              0.7777777777777778,
              "#fb9f3a"
             ],
             [
              0.8888888888888888,
              "#fdca26"
             ],
             [
              1,
              "#f0f921"
             ]
            ],
            "type": "contour"
           }
          ],
          "contourcarpet": [
           {
            "colorbar": {
             "outlinewidth": 0,
             "ticks": ""
            },
            "type": "contourcarpet"
           }
          ],
          "heatmap": [
           {
            "colorbar": {
             "outlinewidth": 0,
             "ticks": ""
            },
            "colorscale": [
             [
              0,
              "#0d0887"
             ],
             [
              0.1111111111111111,
              "#46039f"
             ],
             [
              0.2222222222222222,
              "#7201a8"
             ],
             [
              0.3333333333333333,
              "#9c179e"
             ],
             [
              0.4444444444444444,
              "#bd3786"
             ],
             [
              0.5555555555555556,
              "#d8576b"
             ],
             [
              0.6666666666666666,
              "#ed7953"
             ],
             [
              0.7777777777777778,
              "#fb9f3a"
             ],
             [
              0.8888888888888888,
              "#fdca26"
             ],
             [
              1,
              "#f0f921"
             ]
            ],
            "type": "heatmap"
           }
          ],
          "heatmapgl": [
           {
            "colorbar": {
             "outlinewidth": 0,
             "ticks": ""
            },
            "colorscale": [
             [
              0,
              "#0d0887"
             ],
             [
              0.1111111111111111,
              "#46039f"
             ],
             [
              0.2222222222222222,
              "#7201a8"
             ],
             [
              0.3333333333333333,
              "#9c179e"
             ],
             [
              0.4444444444444444,
              "#bd3786"
             ],
             [
              0.5555555555555556,
              "#d8576b"
             ],
             [
              0.6666666666666666,
              "#ed7953"
             ],
             [
              0.7777777777777778,
              "#fb9f3a"
             ],
             [
              0.8888888888888888,
              "#fdca26"
             ],
             [
              1,
              "#f0f921"
             ]
            ],
            "type": "heatmapgl"
           }
          ],
          "histogram": [
           {
            "marker": {
             "pattern": {
              "fillmode": "overlay",
              "size": 10,
              "solidity": 0.2
             }
            },
            "type": "histogram"
           }
          ],
          "histogram2d": [
           {
            "colorbar": {
             "outlinewidth": 0,
             "ticks": ""
            },
            "colorscale": [
             [
              0,
              "#0d0887"
             ],
             [
              0.1111111111111111,
              "#46039f"
             ],
             [
              0.2222222222222222,
              "#7201a8"
             ],
             [
              0.3333333333333333,
              "#9c179e"
             ],
             [
              0.4444444444444444,
              "#bd3786"
             ],
             [
              0.5555555555555556,
              "#d8576b"
             ],
             [
              0.6666666666666666,
              "#ed7953"
             ],
             [
              0.7777777777777778,
              "#fb9f3a"
             ],
             [
              0.8888888888888888,
              "#fdca26"
             ],
             [
              1,
              "#f0f921"
             ]
            ],
            "type": "histogram2d"
           }
          ],
          "histogram2dcontour": [
           {
            "colorbar": {
             "outlinewidth": 0,
             "ticks": ""
            },
            "colorscale": [
             [
              0,
              "#0d0887"
             ],
             [
              0.1111111111111111,
              "#46039f"
             ],
             [
              0.2222222222222222,
              "#7201a8"
             ],
             [
              0.3333333333333333,
              "#9c179e"
             ],
             [
              0.4444444444444444,
              "#bd3786"
             ],
             [
              0.5555555555555556,
              "#d8576b"
             ],
             [
              0.6666666666666666,
              "#ed7953"
             ],
             [
              0.7777777777777778,
              "#fb9f3a"
             ],
             [
              0.8888888888888888,
              "#fdca26"
             ],
             [
              1,
              "#f0f921"
             ]
            ],
            "type": "histogram2dcontour"
           }
          ],
          "mesh3d": [
           {
            "colorbar": {
             "outlinewidth": 0,
             "ticks": ""
            },
            "type": "mesh3d"
           }
          ],
          "parcoords": [
           {
            "line": {
             "colorbar": {
              "outlinewidth": 0,
              "ticks": ""
             }
            },
            "type": "parcoords"
           }
          ],
          "pie": [
           {
            "automargin": true,
            "type": "pie"
           }
          ],
          "scatter": [
           {
            "marker": {
             "colorbar": {
              "outlinewidth": 0,
              "ticks": ""
             }
            },
            "type": "scatter"
           }
          ],
          "scatter3d": [
           {
            "line": {
             "colorbar": {
              "outlinewidth": 0,
              "ticks": ""
             }
            },
            "marker": {
             "colorbar": {
              "outlinewidth": 0,
              "ticks": ""
             }
            },
            "type": "scatter3d"
           }
          ],
          "scattercarpet": [
           {
            "marker": {
             "colorbar": {
              "outlinewidth": 0,
              "ticks": ""
             }
            },
            "type": "scattercarpet"
           }
          ],
          "scattergeo": [
           {
            "marker": {
             "colorbar": {
              "outlinewidth": 0,
              "ticks": ""
             }
            },
            "type": "scattergeo"
           }
          ],
          "scattergl": [
           {
            "marker": {
             "colorbar": {
              "outlinewidth": 0,
              "ticks": ""
             }
            },
            "type": "scattergl"
           }
          ],
          "scattermapbox": [
           {
            "marker": {
             "colorbar": {
              "outlinewidth": 0,
              "ticks": ""
             }
            },
            "type": "scattermapbox"
           }
          ],
          "scatterpolar": [
           {
            "marker": {
             "colorbar": {
              "outlinewidth": 0,
              "ticks": ""
             }
            },
            "type": "scatterpolar"
           }
          ],
          "scatterpolargl": [
           {
            "marker": {
             "colorbar": {
              "outlinewidth": 0,
              "ticks": ""
             }
            },
            "type": "scatterpolargl"
           }
          ],
          "scatterternary": [
           {
            "marker": {
             "colorbar": {
              "outlinewidth": 0,
              "ticks": ""
             }
            },
            "type": "scatterternary"
           }
          ],
          "surface": [
           {
            "colorbar": {
             "outlinewidth": 0,
             "ticks": ""
            },
            "colorscale": [
             [
              0,
              "#0d0887"
             ],
             [
              0.1111111111111111,
              "#46039f"
             ],
             [
              0.2222222222222222,
              "#7201a8"
             ],
             [
              0.3333333333333333,
              "#9c179e"
             ],
             [
              0.4444444444444444,
              "#bd3786"
             ],
             [
              0.5555555555555556,
              "#d8576b"
             ],
             [
              0.6666666666666666,
              "#ed7953"
             ],
             [
              0.7777777777777778,
              "#fb9f3a"
             ],
             [
              0.8888888888888888,
              "#fdca26"
             ],
             [
              1,
              "#f0f921"
             ]
            ],
            "type": "surface"
           }
          ],
          "table": [
           {
            "cells": {
             "fill": {
              "color": "#EBF0F8"
             },
             "line": {
              "color": "white"
             }
            },
            "header": {
             "fill": {
              "color": "#C8D4E3"
             },
             "line": {
              "color": "white"
             }
            },
            "type": "table"
           }
          ]
         },
         "layout": {
          "annotationdefaults": {
           "arrowcolor": "#2a3f5f",
           "arrowhead": 0,
           "arrowwidth": 1
          },
          "autotypenumbers": "strict",
          "coloraxis": {
           "colorbar": {
            "outlinewidth": 0,
            "ticks": ""
           }
          },
          "colorscale": {
           "diverging": [
            [
             0,
             "#8e0152"
            ],
            [
             0.1,
             "#c51b7d"
            ],
            [
             0.2,
             "#de77ae"
            ],
            [
             0.3,
             "#f1b6da"
            ],
            [
             0.4,
             "#fde0ef"
            ],
            [
             0.5,
             "#f7f7f7"
            ],
            [
             0.6,
             "#e6f5d0"
            ],
            [
             0.7,
             "#b8e186"
            ],
            [
             0.8,
             "#7fbc41"
            ],
            [
             0.9,
             "#4d9221"
            ],
            [
             1,
             "#276419"
            ]
           ],
           "sequential": [
            [
             0,
             "#0d0887"
            ],
            [
             0.1111111111111111,
             "#46039f"
            ],
            [
             0.2222222222222222,
             "#7201a8"
            ],
            [
             0.3333333333333333,
             "#9c179e"
            ],
            [
             0.4444444444444444,
             "#bd3786"
            ],
            [
             0.5555555555555556,
             "#d8576b"
            ],
            [
             0.6666666666666666,
             "#ed7953"
            ],
            [
             0.7777777777777778,
             "#fb9f3a"
            ],
            [
             0.8888888888888888,
             "#fdca26"
            ],
            [
             1,
             "#f0f921"
            ]
           ],
           "sequentialminus": [
            [
             0,
             "#0d0887"
            ],
            [
             0.1111111111111111,
             "#46039f"
            ],
            [
             0.2222222222222222,
             "#7201a8"
            ],
            [
             0.3333333333333333,
             "#9c179e"
            ],
            [
             0.4444444444444444,
             "#bd3786"
            ],
            [
             0.5555555555555556,
             "#d8576b"
            ],
            [
             0.6666666666666666,
             "#ed7953"
            ],
            [
             0.7777777777777778,
             "#fb9f3a"
            ],
            [
             0.8888888888888888,
             "#fdca26"
            ],
            [
             1,
             "#f0f921"
            ]
           ]
          },
          "colorway": [
           "#636efa",
           "#EF553B",
           "#00cc96",
           "#ab63fa",
           "#FFA15A",
           "#19d3f3",
           "#FF6692",
           "#B6E880",
           "#FF97FF",
           "#FECB52"
          ],
          "font": {
           "color": "#2a3f5f"
          },
          "geo": {
           "bgcolor": "white",
           "lakecolor": "white",
           "landcolor": "white",
           "showlakes": true,
           "showland": true,
           "subunitcolor": "#C8D4E3"
          },
          "hoverlabel": {
           "align": "left"
          },
          "hovermode": "closest",
          "mapbox": {
           "style": "light"
          },
          "paper_bgcolor": "white",
          "plot_bgcolor": "white",
          "polar": {
           "angularaxis": {
            "gridcolor": "#EBF0F8",
            "linecolor": "#EBF0F8",
            "ticks": ""
           },
           "bgcolor": "white",
           "radialaxis": {
            "gridcolor": "#EBF0F8",
            "linecolor": "#EBF0F8",
            "ticks": ""
           }
          },
          "scene": {
           "xaxis": {
            "backgroundcolor": "white",
            "gridcolor": "#DFE8F3",
            "gridwidth": 2,
            "linecolor": "#EBF0F8",
            "showbackground": true,
            "ticks": "",
            "zerolinecolor": "#EBF0F8"
           },
           "yaxis": {
            "backgroundcolor": "white",
            "gridcolor": "#DFE8F3",
            "gridwidth": 2,
            "linecolor": "#EBF0F8",
            "showbackground": true,
            "ticks": "",
            "zerolinecolor": "#EBF0F8"
           },
           "zaxis": {
            "backgroundcolor": "white",
            "gridcolor": "#DFE8F3",
            "gridwidth": 2,
            "linecolor": "#EBF0F8",
            "showbackground": true,
            "ticks": "",
            "zerolinecolor": "#EBF0F8"
           }
          },
          "shapedefaults": {
           "line": {
            "color": "#2a3f5f"
           }
          },
          "ternary": {
           "aaxis": {
            "gridcolor": "#DFE8F3",
            "linecolor": "#A2B1C6",
            "ticks": ""
           },
           "baxis": {
            "gridcolor": "#DFE8F3",
            "linecolor": "#A2B1C6",
            "ticks": ""
           },
           "bgcolor": "white",
           "caxis": {
            "gridcolor": "#DFE8F3",
            "linecolor": "#A2B1C6",
            "ticks": ""
           }
          },
          "title": {
           "x": 0.05
          },
          "xaxis": {
           "automargin": true,
           "gridcolor": "#EBF0F8",
           "linecolor": "#EBF0F8",
           "ticks": "",
           "title": {
            "standoff": 15
           },
           "zerolinecolor": "#EBF0F8",
           "zerolinewidth": 2
          },
          "yaxis": {
           "automargin": true,
           "gridcolor": "#EBF0F8",
           "linecolor": "#EBF0F8",
           "ticks": "",
           "title": {
            "standoff": 15
           },
           "zerolinecolor": "#EBF0F8",
           "zerolinewidth": 2
          }
         }
        },
        "title": {
         "font": {
          "color": "Black",
          "size": 22
         },
         "text": "<b>Topic Word Scores",
         "x": 0.5,
         "xanchor": "center",
         "yanchor": "top"
        },
        "width": 1000,
        "xaxis": {
         "anchor": "y",
         "domain": [
          0,
          0.175
         ],
         "showgrid": true
        },
        "xaxis2": {
         "anchor": "y2",
         "domain": [
          0.275,
          0.45
         ],
         "showgrid": true
        },
        "xaxis3": {
         "anchor": "y3",
         "domain": [
          0.55,
          0.7250000000000001
         ],
         "showgrid": true
        },
        "xaxis4": {
         "anchor": "y4",
         "domain": [
          0.825,
          1
         ],
         "showgrid": true
        },
        "xaxis5": {
         "anchor": "y5",
         "domain": [
          0,
          0.175
         ],
         "showgrid": true
        },
        "xaxis6": {
         "anchor": "y6",
         "domain": [
          0.275,
          0.45
         ],
         "showgrid": true
        },
        "xaxis7": {
         "anchor": "y7",
         "domain": [
          0.55,
          0.7250000000000001
         ],
         "showgrid": true
        },
        "xaxis8": {
         "anchor": "y8",
         "domain": [
          0.825,
          1
         ],
         "showgrid": true
        },
        "yaxis": {
         "anchor": "x",
         "domain": [
          0.6000000000000001,
          1
         ],
         "showgrid": true
        },
        "yaxis2": {
         "anchor": "x2",
         "domain": [
          0.6000000000000001,
          1
         ],
         "showgrid": true
        },
        "yaxis3": {
         "anchor": "x3",
         "domain": [
          0.6000000000000001,
          1
         ],
         "showgrid": true
        },
        "yaxis4": {
         "anchor": "x4",
         "domain": [
          0.6000000000000001,
          1
         ],
         "showgrid": true
        },
        "yaxis5": {
         "anchor": "x5",
         "domain": [
          0,
          0.4
         ],
         "showgrid": true
        },
        "yaxis6": {
         "anchor": "x6",
         "domain": [
          0,
          0.4
         ],
         "showgrid": true
        },
        "yaxis7": {
         "anchor": "x7",
         "domain": [
          0,
          0.4
         ],
         "showgrid": true
        },
        "yaxis8": {
         "anchor": "x8",
         "domain": [
          0,
          0.4
         ],
         "showgrid": true
        }
       }
      }
     },
     "metadata": {},
     "output_type": "display_data"
    }
   ],
   "source": [
    "topic_model.visualize_barchart()"
   ]
  },
  {
   "cell_type": "code",
   "execution_count": 15,
   "metadata": {},
   "outputs": [
    {
     "name": "stderr",
     "output_type": "stream",
     "text": [
      "20it [00:12,  1.56it/s]\n"
     ]
    }
   ],
   "source": [
    "topics_over_time = topic_model.topics_over_time(tweets, topics, dates, nr_bins=20)"
   ]
  },
  {
   "cell_type": "code",
   "execution_count": 16,
   "metadata": {},
   "outputs": [
    {
     "data": {
      "application/vnd.plotly.v1+json": {
       "config": {
        "plotlyServerURL": "https://plot.ly"
       },
       "data": [
        {
         "hoverinfo": "text",
         "hovertext": [
          "<b>Topic 0</b><br>Words: exciting, hooah, gotta, period, imagine",
          "<b>Topic 0</b><br>Words: cou, exciting, hooah, gotta, period",
          "<b>Topic 0</b><br>Words: hooah, period, exciting, gotta, imagine",
          "<b>Topic 0</b><br>Words: exciting, hooah, gotta, period, imagine",
          "<b>Topic 0</b><br>Words: exciting, hooah, gotta, period, imagine",
          "<b>Topic 0</b><br>Words: exciting, hooah, gotta, period, imagine",
          "<b>Topic 0</b><br>Words: exciting, hooah, gotta, period, imagine",
          "<b>Topic 0</b><br>Words: exciting, gotta, most, hooah, period",
          "<b>Topic 0</b><br>Words: exciting, hooah, gotta, period, imagine",
          "<b>Topic 0</b><br>Words: exciting, hooah, gotta, period, imagine",
          "<b>Topic 0</b><br>Words: imagine, exciting, hooah, gotta, period",
          "<b>Topic 0</b><br>Words: you, exciting, hooah, gotta, period",
          "<b>Topic 0</b><br>Words: exciting, hooah, gotta, period, imagine",
          "<b>Topic 0</b><br>Words: exciting, hooah, gotta, period, imagine",
          "<b>Topic 0</b><br>Words: exciting, hooah, gotta, period, imagine",
          "<b>Topic 0</b><br>Words: exciting, hooah, gotta, period, imagine",
          "<b>Topic 0</b><br>Words: exciting, hooah, gotta, period, imagine",
          "<b>Topic 0</b><br>Words: exciting, hooah, gotta, period, imagine",
          "<b>Topic 0</b><br>Words: exciting, hooah, gotta, period, imagine",
          "<b>Topic 0</b><br>Words: exciting, hooah, gotta, period, imagine"
         ],
         "marker": {
          "color": "#E69F00"
         },
         "mode": "lines",
         "name": "0_exciting_hooah_gotta_period",
         "type": "scatter",
         "x": [
          "2020-12-14T22:52:41.798000",
          "2020-12-17T08:23:52.100000",
          "2020-12-19T16:47:22.200000",
          "2020-12-22T01:10:52.300000",
          "2020-12-24T09:34:22.400000",
          "2020-12-26T17:57:52.500000",
          "2020-12-29T02:21:22.600000",
          "2020-12-31T10:44:52.700000",
          "2021-01-02T19:08:22.800000",
          "2021-01-05T03:31:52.900000",
          "2021-01-07T11:55:23",
          "2021-01-09T20:18:53.100000",
          "2021-01-12T04:42:23.200000",
          "2021-01-14T13:05:53.300000",
          "2021-01-16T21:29:23.400000",
          "2021-01-19T05:52:53.500000",
          "2021-01-21T14:16:23.600000",
          "2021-01-23T22:39:53.700000",
          "2021-01-26T07:03:23.800000",
          "2021-01-28T15:26:53.900000"
         ],
         "y": [
          1860,
          1003,
          1217,
          942,
          662,
          757,
          930,
          990,
          1271,
          1514,
          535,
          189,
          212,
          163,
          78,
          58,
          36,
          39,
          28,
          27
         ]
        },
        {
         "hoverinfo": "text",
         "hovertext": [
          "<b>Topic 1</b><br>Words: nailed, aka, note, please, it",
          "<b>Topic 1</b><br>Words: nailed, aka, note, it, please",
          "<b>Topic 1</b><br>Words: nailed, aka, note, please, it",
          "<b>Topic 1</b><br>Words: note, nailed, aka, please, it",
          "<b>Topic 1</b><br>Words: nailed, aka, note, please, it",
          "<b>Topic 1</b><br>Words: nailed, aka, note, please, it",
          "<b>Topic 1</b><br>Words: nailed, aka, note, please, it",
          "<b>Topic 1</b><br>Words: aka, please, nailed, note, it",
          "<b>Topic 1</b><br>Words: nailed, aka, note, please, it",
          "<b>Topic 1</b><br>Words: nailed, aka, note, please, it",
          "<b>Topic 1</b><br>Words: nailed, aka, note, please, it",
          "<b>Topic 1</b><br>Words: nailed, aka, note, please, it",
          "<b>Topic 1</b><br>Words: nailed, aka, note, please, it",
          "<b>Topic 1</b><br>Words: nailed, aka, note, please, it",
          "<b>Topic 1</b><br>Words: nailed, aka, note, please, it",
          "<b>Topic 1</b><br>Words: nailed, aka, note, please, it",
          "<b>Topic 1</b><br>Words: nailed, aka, note, please, it",
          "<b>Topic 1</b><br>Words: nailed, aka, note, please, it",
          "<b>Topic 1</b><br>Words: nailed, aka, note, please, it",
          "<b>Topic 1</b><br>Words: nailed, aka, note, please, it"
         ],
         "marker": {
          "color": "#56B4E9"
         },
         "mode": "lines",
         "name": "1_nailed_aka_note_please",
         "type": "scatter",
         "x": [
          "2020-12-14T22:52:41.798000",
          "2020-12-17T08:23:52.100000",
          "2020-12-19T16:47:22.200000",
          "2020-12-22T01:10:52.300000",
          "2020-12-24T09:34:22.400000",
          "2020-12-26T17:57:52.500000",
          "2020-12-29T02:21:22.600000",
          "2020-12-31T10:44:52.700000",
          "2021-01-02T19:08:22.800000",
          "2021-01-05T03:31:52.900000",
          "2021-01-07T11:55:23",
          "2021-01-09T20:18:53.100000",
          "2021-01-12T04:42:23.200000",
          "2021-01-14T13:05:53.300000",
          "2021-01-16T21:29:23.400000",
          "2021-01-19T05:52:53.500000",
          "2021-01-21T14:16:23.600000",
          "2021-01-23T22:39:53.700000",
          "2021-01-26T07:03:23.800000",
          "2021-01-28T15:26:53.900000"
         ],
         "y": [
          149,
          125,
          114,
          89,
          28,
          66,
          145,
          101,
          151,
          400,
          58,
          24,
          24,
          61,
          15,
          7,
          10,
          1,
          5,
          6
         ]
        },
        {
         "hoverinfo": "text",
         "hovertext": [
          "<b>Topic 2</b><br>Words: carefree, nomask, endangers, hospital, melania",
          "<b>Topic 2</b><br>Words: scoffs, masks, weeks, still, kicked",
          "<b>Topic 2</b><br>Words: epstein, assume, owns, plane, either",
          "<b>Topic 2</b><br>Words: kicked, flight, wearing, joke, mask",
          "<b>Topic 2</b><br>Words: kicked, flight, wearing, joke, mask",
          "<b>Topic 2</b><br>Words: kicked, flight, wearing, joke, mask",
          "<b>Topic 2</b><br>Words: flight, mask, entry, kicked, wearing",
          "<b>Topic 2</b><br>Words: kicked, flight, wearing, joke, mask"
         ],
         "marker": {
          "color": "#009E73"
         },
         "mode": "lines",
         "name": "2_kicked_flight_wearing_joke",
         "type": "scatter",
         "x": [
          "2020-12-14T22:52:41.798000",
          "2020-12-31T10:44:52.700000",
          "2021-01-02T19:08:22.800000",
          "2021-01-05T03:31:52.900000",
          "2021-01-07T11:55:23",
          "2021-01-09T20:18:53.100000",
          "2021-01-14T13:05:53.300000",
          "2021-01-16T21:29:23.400000"
         ],
         "y": [
          1,
          1,
          1,
          1247,
          25,
          10,
          2,
          1
         ]
        },
        {
         "hoverinfo": "text",
         "hovertext": [
          "<b>Topic 4</b><br>Words: yes, true, oh, hope, no",
          "<b>Topic 4</b><br>Words: true, hope, yes, oh, it",
          "<b>Topic 4</b><br>Words: makes, stomach, me, question, let",
          "<b>Topic 4</b><br>Words: yes, yay, yeah, fail, it",
          "<b>Topic 4</b><br>Words: true, accurate, exactly, indeed, vocabulary",
          "<b>Topic 4</b><br>Words: didnt, corn, yeah, oh, pop",
          "<b>Topic 4</b><br>Words: yes, oh, time, itkiss, it",
          "<b>Topic 4</b><br>Words: yes, gosh, didnt, hell, there",
          "<b>Topic 4</b><br>Words: yes, yeah, hell, we, get",
          "<b>Topic 4</b><br>Words: time, it, yes, this, here",
          "<b>Topic 4</b><br>Words: hmmm, realize, weirder, thisisourhill, masterful",
          "<b>Topic 4</b><br>Words: wellhere, migrated, pelotons, cracking, assisted",
          "<b>Topic 4</b><br>Words: yep, now, remove, sweethea, oh",
          "<b>Topic 4</b><br>Words: accurate, twice, hahahahahahahahahahahahaha, camels, pointed",
          "<b>Topic 4</b><br>Words: fuck, aaaaaaaaaaarrrrrrggggghhhhhhhh, fuckity, true, ck",
          "<b>Topic 4</b><br>Words: something, mayo, ah, pieces, lets",
          "<b>Topic 4</b><br>Words: ok, fucken, tables, unity, say",
          "<b>Topic 4</b><br>Words: sow, hmmm, fail, prove, chance",
          "<b>Topic 4</b><br>Words: eeeet, appealing, oh, wee, worked",
          "<b>Topic 4</b><br>Words: halt, bitch, oh, still, here"
         ],
         "marker": {
          "color": "#F0E442"
         },
         "mode": "lines",
         "name": "4_yes_it_oh_time",
         "type": "scatter",
         "x": [
          "2020-12-14T22:52:41.798000",
          "2020-12-17T08:23:52.100000",
          "2020-12-19T16:47:22.200000",
          "2020-12-22T01:10:52.300000",
          "2020-12-24T09:34:22.400000",
          "2020-12-26T17:57:52.500000",
          "2020-12-29T02:21:22.600000",
          "2020-12-31T10:44:52.700000",
          "2021-01-02T19:08:22.800000",
          "2021-01-05T03:31:52.900000",
          "2021-01-07T11:55:23",
          "2021-01-09T20:18:53.100000",
          "2021-01-12T04:42:23.200000",
          "2021-01-14T13:05:53.300000",
          "2021-01-16T21:29:23.400000",
          "2021-01-19T05:52:53.500000",
          "2021-01-21T14:16:23.600000",
          "2021-01-23T22:39:53.700000",
          "2021-01-26T07:03:23.800000",
          "2021-01-28T15:26:53.900000"
         ],
         "y": [
          132,
          111,
          79,
          99,
          43,
          48,
          88,
          76,
          141,
          210,
          38,
          19,
          33,
          26,
          21,
          9,
          9,
          5,
          9,
          3
         ]
        },
        {
         "hoverinfo": "text",
         "hovertext": [
          "<b>Topic 5</b><br>Words: prerally, plaza, flanked, hyenas, cobras",
          "<b>Topic 5</b><br>Words: prerally, plaza, freedom, coalition, live",
          "<b>Topic 5</b><br>Words: prerally, plaza, freedom, coalition, live",
          "<b>Topic 5</b><br>Words: prerally, plaza, freedom, plse, resuling",
          "<b>Topic 5</b><br>Words: prerally, plaza, freedom, coalition, live",
          "<b>Topic 5</b><br>Words: prerally, plaza, freedom, coalition, live",
          "<b>Topic 5</b><br>Words: prerally, plaza, freedom, coalition, live"
         ],
         "marker": {
          "color": "#D55E00"
         },
         "mode": "lines",
         "name": "5_prerally_plaza_freedom_coalition",
         "type": "scatter",
         "x": [
          "2020-12-14T22:52:41.798000",
          "2021-01-05T03:31:52.900000",
          "2021-01-07T11:55:23",
          "2021-01-09T20:18:53.100000",
          "2021-01-12T04:42:23.200000",
          "2021-01-14T13:05:53.300000",
          "2021-01-16T21:29:23.400000"
         ],
         "y": [
          1,
          1117,
          1,
          1,
          1,
          1,
          1
         ]
        },
        {
         "hoverinfo": "text",
         "hovertext": [
          "<b>Topic 6</b><br>Words: antifa, paicular, blm, disinformation, balderdash",
          "<b>Topic 6</b><br>Words: riots, worry, perveed, outed, affecting",
          "<b>Topic 6</b><br>Words: pitchforks, torches, storm, oregon, aliyah",
          "<b>Topic 6</b><br>Words: obsessed, wit, protest, left, surrounded",
          "<b>Topic 6</b><br>Words: imprisoned, feeling, wreaks, proggies, spousal",
          "<b>Topic 6</b><br>Words: defund, bodycam, accidentally, zombies, kkk",
          "<b>Topic 6</b><br>Words: cities, vaccinate, federalism, federal, handling",
          "<b>Topic 6</b><br>Words: negro, mlk, antifa, memo, effective",
          "<b>Topic 6</b><br>Words: antifa, blm, rioters, peaceful, sanctuary",
          "<b>Topic 6</b><br>Words: antifa, blm, capitol, peaceful, violence",
          "<b>Topic 6</b><br>Words: antifa, capitol, police, blm, was",
          "<b>Topic 6</b><br>Words: antifa, riot, capitol, police, was",
          "<b>Topic 6</b><br>Words: antifa, capitol, was, suppoers, terrorist",
          "<b>Topic 6</b><br>Words: riot, antifa, capitol, terrorist, riots",
          "<b>Topic 6</b><br>Words: waterfront, intimidate, park, basically, domestic",
          "<b>Topic 6</b><br>Words: summoned, coordinated, storm, capitol, his",
          "<b>Topic 6</b><br>Words: riot, fear, antifa, incite, keeping",
          "<b>Topic 6</b><br>Words: tipped, associate, chants, streamed, during",
          "<b>Topic 6</b><br>Words: riot, crash, adding, looting, riots",
          "<b>Topic 6</b><br>Words: riot, mob, leadup, jenkins, fancelli"
         ],
         "marker": {
          "color": "#0072B2"
         },
         "mode": "lines",
         "name": "6_antifa_capitol_blm_peaceful",
         "type": "scatter",
         "x": [
          "2020-12-14T22:52:41.798000",
          "2020-12-17T08:23:52.100000",
          "2020-12-19T16:47:22.200000",
          "2020-12-22T01:10:52.300000",
          "2020-12-24T09:34:22.400000",
          "2020-12-26T17:57:52.500000",
          "2020-12-29T02:21:22.600000",
          "2020-12-31T10:44:52.700000",
          "2021-01-02T19:08:22.800000",
          "2021-01-05T03:31:52.900000",
          "2021-01-07T11:55:23",
          "2021-01-09T20:18:53.100000",
          "2021-01-12T04:42:23.200000",
          "2021-01-14T13:05:53.300000",
          "2021-01-16T21:29:23.400000",
          "2021-01-19T05:52:53.500000",
          "2021-01-21T14:16:23.600000",
          "2021-01-23T22:39:53.700000",
          "2021-01-26T07:03:23.800000",
          "2021-01-28T15:26:53.900000"
         ],
         "y": [
          10,
          21,
          18,
          11,
          6,
          7,
          8,
          17,
          25,
          563,
          146,
          86,
          55,
          45,
          22,
          18,
          12,
          4,
          7,
          6
         ]
        },
        {
         "hoverinfo": "text",
         "hovertext": [
          "<b>Topic 7</b><br>Words: georgia, ga, fulton, writing, name",
          "<b>Topic 7</b><br>Words: georgia, ga, runoff, vote, terminated",
          "<b>Topic 7</b><br>Words: ga, boycott, georgia, runoff, column",
          "<b>Topic 7</b><br>Words: georgia, ga, boycott, runoff, committee",
          "<b>Topic 7</b><br>Words: georgia, ga, hearing, senate, catches",
          "<b>Topic 7</b><br>Words: georgia, ga, coordinated, list, add",
          "<b>Topic 7</b><br>Words: georgia, ga, fulton, runoff, county",
          "<b>Topic 7</b><br>Words: georgia, ga, fulton, pulitzer, jovan",
          "<b>Topic 7</b><br>Words: georgia, ga, boycott, runoff, fulton",
          "<b>Topic 7</b><br>Words: georgia, ga, county, vote, fulton",
          "<b>Topic 7</b><br>Words: georgia, loeffler, rebuts, jobbed, chickens",
          "<b>Topic 7</b><br>Words: cockamamie, noexcuse, balloting, schemes, reform",
          "<b>Topic 7</b><br>Words: georgia, ga, sense, ag, 3700",
          "<b>Topic 7</b><br>Words: discussing, bombshell, fulton, caught, stealing",
          "<b>Topic 7</b><br>Words: discussing, bombshell, fulton, caught, stealing",
          "<b>Topic 7</b><br>Words: townhall, gerrymandering, friday, date, save",
          "<b>Topic 7</b><br>Words: townhall, gerrymandering, friday, date, save",
          "<b>Topic 7</b><br>Words: fr, addressed, closer, adjudicated, proving"
         ],
         "marker": {
          "color": "#CC79A7"
         },
         "mode": "lines",
         "name": "7_georgia_ga_fulton_runoff",
         "type": "scatter",
         "x": [
          "2020-12-14T22:52:41.798000",
          "2020-12-17T08:23:52.100000",
          "2020-12-19T16:47:22.200000",
          "2020-12-22T01:10:52.300000",
          "2020-12-24T09:34:22.400000",
          "2020-12-26T17:57:52.500000",
          "2020-12-29T02:21:22.600000",
          "2020-12-31T10:44:52.700000",
          "2021-01-02T19:08:22.800000",
          "2021-01-05T03:31:52.900000",
          "2021-01-07T11:55:23",
          "2021-01-09T20:18:53.100000",
          "2021-01-12T04:42:23.200000",
          "2021-01-14T13:05:53.300000",
          "2021-01-16T21:29:23.400000",
          "2021-01-19T05:52:53.500000",
          "2021-01-21T14:16:23.600000",
          "2021-01-28T15:26:53.900000"
         ],
         "y": [
          69,
          55,
          46,
          38,
          13,
          39,
          106,
          111,
          219,
          285,
          9,
          2,
          7,
          6,
          2,
          1,
          1,
          2
         ]
        },
        {
         "hoverinfo": "text",
         "hovertext": [
          "<b>Topic 8</b><br>Words: president, america, mr, country, fight",
          "<b>Topic 8</b><br>Words: president, america, fight, mr, best",
          "<b>Topic 8</b><br>Words: fight, president, america, save, mr",
          "<b>Topic 8</b><br>Words: president, fight, mr, for, america",
          "<b>Topic 8</b><br>Words: elected, president, legitimately, mr, works",
          "<b>Topic 8</b><br>Words: president, fight, stabbing, rhinos, years",
          "<b>Topic 8</b><br>Words: mr, president, country, years, fight",
          "<b>Topic 8</b><br>Words: president, fight, country, mr, you",
          "<b>Topic 8</b><br>Words: president, country, mr, fight, america",
          "<b>Topic 8</b><br>Words: president, country, america, save, mr",
          "<b>Topic 8</b><br>Words: president, best, greatest, country, love",
          "<b>Topic 8</b><br>Words: best, ever, president, administration, mr",
          "<b>Topic 8</b><br>Words: echoshare, president, greenland, america, type",
          "<b>Topic 8</b><br>Words: better, foolishly, kassam, tanned, thunder",
          "<b>Topic 8</b><br>Words: concentration, saving, celebration, brand, camp",
          "<b>Topic 8</b><br>Words: elated, 51, prosperity, hits, rating",
          "<b>Topic 8</b><br>Words: luxury, command, deserves, lifetime, loyal",
          "<b>Topic 8</b><br>Words: former, office, vision, president, pompeo",
          "<b>Topic 8</b><br>Words: farewell, interested, living, run, under",
          "<b>Topic 8</b><br>Words: sandi, kissinger, squeezed, nixon, grifting"
         ],
         "marker": {
          "color": "#E69F00"
         },
         "mode": "lines",
         "name": "8_president_mr_fight_america",
         "type": "scatter",
         "x": [
          "2020-12-14T22:52:41.798000",
          "2020-12-17T08:23:52.100000",
          "2020-12-19T16:47:22.200000",
          "2020-12-22T01:10:52.300000",
          "2020-12-24T09:34:22.400000",
          "2020-12-26T17:57:52.500000",
          "2020-12-29T02:21:22.600000",
          "2020-12-31T10:44:52.700000",
          "2021-01-02T19:08:22.800000",
          "2021-01-05T03:31:52.900000",
          "2021-01-07T11:55:23",
          "2021-01-09T20:18:53.100000",
          "2021-01-12T04:42:23.200000",
          "2021-01-14T13:05:53.300000",
          "2021-01-16T21:29:23.400000",
          "2021-01-19T05:52:53.500000",
          "2021-01-21T14:16:23.600000",
          "2021-01-23T22:39:53.700000",
          "2021-01-26T07:03:23.800000",
          "2021-01-28T15:26:53.900000"
         ],
         "y": [
          91,
          100,
          76,
          97,
          43,
          49,
          62,
          76,
          118,
          154,
          47,
          17,
          19,
          11,
          7,
          6,
          6,
          6,
          3,
          3
         ]
        },
        {
         "hoverinfo": "text",
         "hovertext": [
          "<b>Topic 9</b><br>Words: biden, joe, he, won, his",
          "<b>Topic 9</b><br>Words: biden, joe, he, hunter, won",
          "<b>Topic 9</b><br>Words: biden, counties, joe, won, 477",
          "<b>Topic 9</b><br>Words: biden, joe, counties, hides, he",
          "<b>Topic 9</b><br>Words: biden, joe, cheated, he, won",
          "<b>Topic 9</b><br>Words: biden, joe, million, won, votes",
          "<b>Topic 9</b><br>Words: biden, joe, votes, he, won",
          "<b>Topic 9</b><br>Words: biden, joe, 80, he, won",
          "<b>Topic 9</b><br>Words: biden, joe, cheated, won, win",
          "<b>Topic 9</b><br>Words: biden, joe, won, he, cheated",
          "<b>Topic 9</b><br>Words: biden, joe, he, gear, enough",
          "<b>Topic 9</b><br>Words: biden, joe, countryafter, voterwhile, berniegreen",
          "<b>Topic 9</b><br>Words: biden, joe, won, cheated, illegitimate",
          "<b>Topic 9</b><br>Words: biden, joe, dollar, swear, irregularities",
          "<b>Topic 9</b><br>Words: biden, joe, secret, margin, would",
          "<b>Topic 9</b><br>Words: biden, joe, 274, imposed, holders",
          "<b>Topic 9</b><br>Words: biden, erection, joe, reliable, sources",
          "<b>Topic 9</b><br>Words: biden, unchanged, joe, catering, pipeline",
          "<b>Topic 9</b><br>Words: biden, sheffield, vid, united, popular",
          "<b>Topic 9</b><br>Words: joe, musical, yeahrightjoe, depoation, tribute"
         ],
         "marker": {
          "color": "#56B4E9"
         },
         "mode": "lines",
         "name": "9_biden_joe_won_he",
         "type": "scatter",
         "x": [
          "2020-12-14T22:52:41.798000",
          "2020-12-17T08:23:52.100000",
          "2020-12-19T16:47:22.200000",
          "2020-12-22T01:10:52.300000",
          "2020-12-24T09:34:22.400000",
          "2020-12-26T17:57:52.500000",
          "2020-12-29T02:21:22.600000",
          "2020-12-31T10:44:52.700000",
          "2021-01-02T19:08:22.800000",
          "2021-01-05T03:31:52.900000",
          "2021-01-07T11:55:23",
          "2021-01-09T20:18:53.100000",
          "2021-01-12T04:42:23.200000",
          "2021-01-14T13:05:53.300000",
          "2021-01-16T21:29:23.400000",
          "2021-01-19T05:52:53.500000",
          "2021-01-21T14:16:23.600000",
          "2021-01-23T22:39:53.700000",
          "2021-01-26T07:03:23.800000",
          "2021-01-28T15:26:53.900000"
         ],
         "y": [
          134,
          90,
          77,
          61,
          45,
          32,
          80,
          82,
          112,
          110,
          22,
          23,
          27,
          12,
          19,
          18,
          14,
          6,
          9,
          3
         ]
        },
        {
         "hoverinfo": "text",
         "hovertext": [
          "<b>Topic 3</b><br>Words: location, inciter, cap, minutes, tweeted",
          "<b>Topic 3</b><br>Words: location, cap, inciter, minutes, tweeted",
          "<b>Topic 3</b><br>Words: cap, location, inciter, minutes, tweeted",
          "<b>Topic 3</b><br>Words: location, inciter, tweeted, three, nancy",
          "<b>Topic 3</b><br>Words: location, inciter, tweeted, cap, three",
          "<b>Topic 3</b><br>Words: cap, location, inciter, minutes, tweeted",
          "<b>Topic 3</b><br>Words: cap, location, inciter, minutes, tweeted"
         ],
         "marker": {
          "color": "#009E73"
         },
         "mode": "lines",
         "name": "3_location_inciter_cap_minutes",
         "type": "scatter",
         "x": [
          "2021-01-02T19:08:22.800000",
          "2021-01-09T20:18:53.100000",
          "2021-01-12T04:42:23.200000",
          "2021-01-14T13:05:53.300000",
          "2021-01-16T21:29:23.400000",
          "2021-01-19T05:52:53.500000",
          "2021-01-23T22:39:53.700000"
         ],
         "y": [
          1,
          992,
          145,
          95,
          21,
          3,
          4
         ]
        }
       ],
       "layout": {
        "height": 450,
        "hoverlabel": {
         "bgcolor": "white",
         "font": {
          "family": "Rockwell",
          "size": 16
         }
        },
        "legend": {
         "title": {
          "text": "<b>Global Topic Representation"
         }
        },
        "template": {
         "data": {
          "bar": [
           {
            "error_x": {
             "color": "rgb(36,36,36)"
            },
            "error_y": {
             "color": "rgb(36,36,36)"
            },
            "marker": {
             "line": {
              "color": "white",
              "width": 0.5
             },
             "pattern": {
              "fillmode": "overlay",
              "size": 10,
              "solidity": 0.2
             }
            },
            "type": "bar"
           }
          ],
          "barpolar": [
           {
            "marker": {
             "line": {
              "color": "white",
              "width": 0.5
             },
             "pattern": {
              "fillmode": "overlay",
              "size": 10,
              "solidity": 0.2
             }
            },
            "type": "barpolar"
           }
          ],
          "carpet": [
           {
            "aaxis": {
             "endlinecolor": "rgb(36,36,36)",
             "gridcolor": "white",
             "linecolor": "white",
             "minorgridcolor": "white",
             "startlinecolor": "rgb(36,36,36)"
            },
            "baxis": {
             "endlinecolor": "rgb(36,36,36)",
             "gridcolor": "white",
             "linecolor": "white",
             "minorgridcolor": "white",
             "startlinecolor": "rgb(36,36,36)"
            },
            "type": "carpet"
           }
          ],
          "choropleth": [
           {
            "colorbar": {
             "outlinewidth": 1,
             "tickcolor": "rgb(36,36,36)",
             "ticks": "outside"
            },
            "type": "choropleth"
           }
          ],
          "contour": [
           {
            "colorbar": {
             "outlinewidth": 1,
             "tickcolor": "rgb(36,36,36)",
             "ticks": "outside"
            },
            "colorscale": [
             [
              0,
              "#440154"
             ],
             [
              0.1111111111111111,
              "#482878"
             ],
             [
              0.2222222222222222,
              "#3e4989"
             ],
             [
              0.3333333333333333,
              "#31688e"
             ],
             [
              0.4444444444444444,
              "#26828e"
             ],
             [
              0.5555555555555556,
              "#1f9e89"
             ],
             [
              0.6666666666666666,
              "#35b779"
             ],
             [
              0.7777777777777778,
              "#6ece58"
             ],
             [
              0.8888888888888888,
              "#b5de2b"
             ],
             [
              1,
              "#fde725"
             ]
            ],
            "type": "contour"
           }
          ],
          "contourcarpet": [
           {
            "colorbar": {
             "outlinewidth": 1,
             "tickcolor": "rgb(36,36,36)",
             "ticks": "outside"
            },
            "type": "contourcarpet"
           }
          ],
          "heatmap": [
           {
            "colorbar": {
             "outlinewidth": 1,
             "tickcolor": "rgb(36,36,36)",
             "ticks": "outside"
            },
            "colorscale": [
             [
              0,
              "#440154"
             ],
             [
              0.1111111111111111,
              "#482878"
             ],
             [
              0.2222222222222222,
              "#3e4989"
             ],
             [
              0.3333333333333333,
              "#31688e"
             ],
             [
              0.4444444444444444,
              "#26828e"
             ],
             [
              0.5555555555555556,
              "#1f9e89"
             ],
             [
              0.6666666666666666,
              "#35b779"
             ],
             [
              0.7777777777777778,
              "#6ece58"
             ],
             [
              0.8888888888888888,
              "#b5de2b"
             ],
             [
              1,
              "#fde725"
             ]
            ],
            "type": "heatmap"
           }
          ],
          "heatmapgl": [
           {
            "colorbar": {
             "outlinewidth": 1,
             "tickcolor": "rgb(36,36,36)",
             "ticks": "outside"
            },
            "colorscale": [
             [
              0,
              "#440154"
             ],
             [
              0.1111111111111111,
              "#482878"
             ],
             [
              0.2222222222222222,
              "#3e4989"
             ],
             [
              0.3333333333333333,
              "#31688e"
             ],
             [
              0.4444444444444444,
              "#26828e"
             ],
             [
              0.5555555555555556,
              "#1f9e89"
             ],
             [
              0.6666666666666666,
              "#35b779"
             ],
             [
              0.7777777777777778,
              "#6ece58"
             ],
             [
              0.8888888888888888,
              "#b5de2b"
             ],
             [
              1,
              "#fde725"
             ]
            ],
            "type": "heatmapgl"
           }
          ],
          "histogram": [
           {
            "marker": {
             "line": {
              "color": "white",
              "width": 0.6
             }
            },
            "type": "histogram"
           }
          ],
          "histogram2d": [
           {
            "colorbar": {
             "outlinewidth": 1,
             "tickcolor": "rgb(36,36,36)",
             "ticks": "outside"
            },
            "colorscale": [
             [
              0,
              "#440154"
             ],
             [
              0.1111111111111111,
              "#482878"
             ],
             [
              0.2222222222222222,
              "#3e4989"
             ],
             [
              0.3333333333333333,
              "#31688e"
             ],
             [
              0.4444444444444444,
              "#26828e"
             ],
             [
              0.5555555555555556,
              "#1f9e89"
             ],
             [
              0.6666666666666666,
              "#35b779"
             ],
             [
              0.7777777777777778,
              "#6ece58"
             ],
             [
              0.8888888888888888,
              "#b5de2b"
             ],
             [
              1,
              "#fde725"
             ]
            ],
            "type": "histogram2d"
           }
          ],
          "histogram2dcontour": [
           {
            "colorbar": {
             "outlinewidth": 1,
             "tickcolor": "rgb(36,36,36)",
             "ticks": "outside"
            },
            "colorscale": [
             [
              0,
              "#440154"
             ],
             [
              0.1111111111111111,
              "#482878"
             ],
             [
              0.2222222222222222,
              "#3e4989"
             ],
             [
              0.3333333333333333,
              "#31688e"
             ],
             [
              0.4444444444444444,
              "#26828e"
             ],
             [
              0.5555555555555556,
              "#1f9e89"
             ],
             [
              0.6666666666666666,
              "#35b779"
             ],
             [
              0.7777777777777778,
              "#6ece58"
             ],
             [
              0.8888888888888888,
              "#b5de2b"
             ],
             [
              1,
              "#fde725"
             ]
            ],
            "type": "histogram2dcontour"
           }
          ],
          "mesh3d": [
           {
            "colorbar": {
             "outlinewidth": 1,
             "tickcolor": "rgb(36,36,36)",
             "ticks": "outside"
            },
            "type": "mesh3d"
           }
          ],
          "parcoords": [
           {
            "line": {
             "colorbar": {
              "outlinewidth": 1,
              "tickcolor": "rgb(36,36,36)",
              "ticks": "outside"
             }
            },
            "type": "parcoords"
           }
          ],
          "pie": [
           {
            "automargin": true,
            "type": "pie"
           }
          ],
          "scatter": [
           {
            "marker": {
             "colorbar": {
              "outlinewidth": 1,
              "tickcolor": "rgb(36,36,36)",
              "ticks": "outside"
             }
            },
            "type": "scatter"
           }
          ],
          "scatter3d": [
           {
            "line": {
             "colorbar": {
              "outlinewidth": 1,
              "tickcolor": "rgb(36,36,36)",
              "ticks": "outside"
             }
            },
            "marker": {
             "colorbar": {
              "outlinewidth": 1,
              "tickcolor": "rgb(36,36,36)",
              "ticks": "outside"
             }
            },
            "type": "scatter3d"
           }
          ],
          "scattercarpet": [
           {
            "marker": {
             "colorbar": {
              "outlinewidth": 1,
              "tickcolor": "rgb(36,36,36)",
              "ticks": "outside"
             }
            },
            "type": "scattercarpet"
           }
          ],
          "scattergeo": [
           {
            "marker": {
             "colorbar": {
              "outlinewidth": 1,
              "tickcolor": "rgb(36,36,36)",
              "ticks": "outside"
             }
            },
            "type": "scattergeo"
           }
          ],
          "scattergl": [
           {
            "marker": {
             "colorbar": {
              "outlinewidth": 1,
              "tickcolor": "rgb(36,36,36)",
              "ticks": "outside"
             }
            },
            "type": "scattergl"
           }
          ],
          "scattermapbox": [
           {
            "marker": {
             "colorbar": {
              "outlinewidth": 1,
              "tickcolor": "rgb(36,36,36)",
              "ticks": "outside"
             }
            },
            "type": "scattermapbox"
           }
          ],
          "scatterpolar": [
           {
            "marker": {
             "colorbar": {
              "outlinewidth": 1,
              "tickcolor": "rgb(36,36,36)",
              "ticks": "outside"
             }
            },
            "type": "scatterpolar"
           }
          ],
          "scatterpolargl": [
           {
            "marker": {
             "colorbar": {
              "outlinewidth": 1,
              "tickcolor": "rgb(36,36,36)",
              "ticks": "outside"
             }
            },
            "type": "scatterpolargl"
           }
          ],
          "scatterternary": [
           {
            "marker": {
             "colorbar": {
              "outlinewidth": 1,
              "tickcolor": "rgb(36,36,36)",
              "ticks": "outside"
             }
            },
            "type": "scatterternary"
           }
          ],
          "surface": [
           {
            "colorbar": {
             "outlinewidth": 1,
             "tickcolor": "rgb(36,36,36)",
             "ticks": "outside"
            },
            "colorscale": [
             [
              0,
              "#440154"
             ],
             [
              0.1111111111111111,
              "#482878"
             ],
             [
              0.2222222222222222,
              "#3e4989"
             ],
             [
              0.3333333333333333,
              "#31688e"
             ],
             [
              0.4444444444444444,
              "#26828e"
             ],
             [
              0.5555555555555556,
              "#1f9e89"
             ],
             [
              0.6666666666666666,
              "#35b779"
             ],
             [
              0.7777777777777778,
              "#6ece58"
             ],
             [
              0.8888888888888888,
              "#b5de2b"
             ],
             [
              1,
              "#fde725"
             ]
            ],
            "type": "surface"
           }
          ],
          "table": [
           {
            "cells": {
             "fill": {
              "color": "rgb(237,237,237)"
             },
             "line": {
              "color": "white"
             }
            },
            "header": {
             "fill": {
              "color": "rgb(217,217,217)"
             },
             "line": {
              "color": "white"
             }
            },
            "type": "table"
           }
          ]
         },
         "layout": {
          "annotationdefaults": {
           "arrowhead": 0,
           "arrowwidth": 1
          },
          "autotypenumbers": "strict",
          "coloraxis": {
           "colorbar": {
            "outlinewidth": 1,
            "tickcolor": "rgb(36,36,36)",
            "ticks": "outside"
           }
          },
          "colorscale": {
           "diverging": [
            [
             0,
             "rgb(103,0,31)"
            ],
            [
             0.1,
             "rgb(178,24,43)"
            ],
            [
             0.2,
             "rgb(214,96,77)"
            ],
            [
             0.3,
             "rgb(244,165,130)"
            ],
            [
             0.4,
             "rgb(253,219,199)"
            ],
            [
             0.5,
             "rgb(247,247,247)"
            ],
            [
             0.6,
             "rgb(209,229,240)"
            ],
            [
             0.7,
             "rgb(146,197,222)"
            ],
            [
             0.8,
             "rgb(67,147,195)"
            ],
            [
             0.9,
             "rgb(33,102,172)"
            ],
            [
             1,
             "rgb(5,48,97)"
            ]
           ],
           "sequential": [
            [
             0,
             "#440154"
            ],
            [
             0.1111111111111111,
             "#482878"
            ],
            [
             0.2222222222222222,
             "#3e4989"
            ],
            [
             0.3333333333333333,
             "#31688e"
            ],
            [
             0.4444444444444444,
             "#26828e"
            ],
            [
             0.5555555555555556,
             "#1f9e89"
            ],
            [
             0.6666666666666666,
             "#35b779"
            ],
            [
             0.7777777777777778,
             "#6ece58"
            ],
            [
             0.8888888888888888,
             "#b5de2b"
            ],
            [
             1,
             "#fde725"
            ]
           ],
           "sequentialminus": [
            [
             0,
             "#440154"
            ],
            [
             0.1111111111111111,
             "#482878"
            ],
            [
             0.2222222222222222,
             "#3e4989"
            ],
            [
             0.3333333333333333,
             "#31688e"
            ],
            [
             0.4444444444444444,
             "#26828e"
            ],
            [
             0.5555555555555556,
             "#1f9e89"
            ],
            [
             0.6666666666666666,
             "#35b779"
            ],
            [
             0.7777777777777778,
             "#6ece58"
            ],
            [
             0.8888888888888888,
             "#b5de2b"
            ],
            [
             1,
             "#fde725"
            ]
           ]
          },
          "colorway": [
           "#1F77B4",
           "#FF7F0E",
           "#2CA02C",
           "#D62728",
           "#9467BD",
           "#8C564B",
           "#E377C2",
           "#7F7F7F",
           "#BCBD22",
           "#17BECF"
          ],
          "font": {
           "color": "rgb(36,36,36)"
          },
          "geo": {
           "bgcolor": "white",
           "lakecolor": "white",
           "landcolor": "white",
           "showlakes": true,
           "showland": true,
           "subunitcolor": "white"
          },
          "hoverlabel": {
           "align": "left"
          },
          "hovermode": "closest",
          "mapbox": {
           "style": "light"
          },
          "paper_bgcolor": "white",
          "plot_bgcolor": "white",
          "polar": {
           "angularaxis": {
            "gridcolor": "rgb(232,232,232)",
            "linecolor": "rgb(36,36,36)",
            "showgrid": false,
            "showline": true,
            "ticks": "outside"
           },
           "bgcolor": "white",
           "radialaxis": {
            "gridcolor": "rgb(232,232,232)",
            "linecolor": "rgb(36,36,36)",
            "showgrid": false,
            "showline": true,
            "ticks": "outside"
           }
          },
          "scene": {
           "xaxis": {
            "backgroundcolor": "white",
            "gridcolor": "rgb(232,232,232)",
            "gridwidth": 2,
            "linecolor": "rgb(36,36,36)",
            "showbackground": true,
            "showgrid": false,
            "showline": true,
            "ticks": "outside",
            "zeroline": false,
            "zerolinecolor": "rgb(36,36,36)"
           },
           "yaxis": {
            "backgroundcolor": "white",
            "gridcolor": "rgb(232,232,232)",
            "gridwidth": 2,
            "linecolor": "rgb(36,36,36)",
            "showbackground": true,
            "showgrid": false,
            "showline": true,
            "ticks": "outside",
            "zeroline": false,
            "zerolinecolor": "rgb(36,36,36)"
           },
           "zaxis": {
            "backgroundcolor": "white",
            "gridcolor": "rgb(232,232,232)",
            "gridwidth": 2,
            "linecolor": "rgb(36,36,36)",
            "showbackground": true,
            "showgrid": false,
            "showline": true,
            "ticks": "outside",
            "zeroline": false,
            "zerolinecolor": "rgb(36,36,36)"
           }
          },
          "shapedefaults": {
           "fillcolor": "black",
           "line": {
            "width": 0
           },
           "opacity": 0.3
          },
          "ternary": {
           "aaxis": {
            "gridcolor": "rgb(232,232,232)",
            "linecolor": "rgb(36,36,36)",
            "showgrid": false,
            "showline": true,
            "ticks": "outside"
           },
           "baxis": {
            "gridcolor": "rgb(232,232,232)",
            "linecolor": "rgb(36,36,36)",
            "showgrid": false,
            "showline": true,
            "ticks": "outside"
           },
           "bgcolor": "white",
           "caxis": {
            "gridcolor": "rgb(232,232,232)",
            "linecolor": "rgb(36,36,36)",
            "showgrid": false,
            "showline": true,
            "ticks": "outside"
           }
          },
          "title": {
           "x": 0.05
          },
          "xaxis": {
           "automargin": true,
           "gridcolor": "rgb(232,232,232)",
           "linecolor": "rgb(36,36,36)",
           "showgrid": false,
           "showline": true,
           "ticks": "outside",
           "title": {
            "standoff": 15
           },
           "zeroline": false,
           "zerolinecolor": "rgb(36,36,36)"
          },
          "yaxis": {
           "automargin": true,
           "gridcolor": "rgb(232,232,232)",
           "linecolor": "rgb(36,36,36)",
           "showgrid": false,
           "showline": true,
           "ticks": "outside",
           "title": {
            "standoff": 15
           },
           "zeroline": false,
           "zerolinecolor": "rgb(36,36,36)"
          }
         }
        },
        "title": {
         "font": {
          "color": "Black",
          "size": 22
         },
         "text": "<b>Topics over Time",
         "x": 0.4,
         "xanchor": "center",
         "y": 0.95,
         "yanchor": "top"
        },
        "width": 1250,
        "xaxis": {
         "showgrid": true
        },
        "yaxis": {
         "showgrid": true,
         "title": {
          "text": "Frequency"
         }
        }
       }
      }
     },
     "metadata": {},
     "output_type": "display_data"
    }
   ],
   "source": [
    "fig = topic_model.visualize_topics_over_time(topics_over_time, top_n_topics=10)\n",
    "fig"
   ]
  },
  {
   "cell_type": "markdown",
   "metadata": {},
   "source": [
    "#### Export plotly as HTML"
   ]
  },
  {
   "cell_type": "code",
   "execution_count": 17,
   "metadata": {},
   "outputs": [],
   "source": [
    "file = 'community_topic_model_2nd_analysis'\n",
    "plotly.io.write_html(fig, file=file, full_html=True)"
   ]
  },
  {
   "cell_type": "code",
   "execution_count": null,
   "metadata": {},
   "outputs": [],
   "source": []
  }
 ],
 "metadata": {
  "interpreter": {
   "hash": "ea65dad64e0f0630949a62e47861d337df55f7557637cdf15bb6aaf05db958e0"
  },
  "kernelspec": {
   "display_name": "Python 3.9.7 64-bit",
   "language": "python",
   "name": "python3"
  },
  "language_info": {
   "codemirror_mode": {
    "name": "ipython",
    "version": 3
   },
   "file_extension": ".py",
   "mimetype": "text/x-python",
   "name": "python",
   "nbconvert_exporter": "python",
   "pygments_lexer": "ipython3",
   "version": "3.9.7"
  },
  "orig_nbformat": 4
 },
 "nbformat": 4,
 "nbformat_minor": 2
}
